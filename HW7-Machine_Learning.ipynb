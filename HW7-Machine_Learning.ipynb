{
 "cells": [
  {
   "cell_type": "markdown",
   "metadata": {},
   "source": [
    "# HW 7: Machine Learning\n",
    "---\n",
    "## OR/ISE 501 - Fall 2021\n",
    "__Assigned:__ Tue, 2 Nov (Groups of 2)  \n",
    "__Due:__ 4p, Tue, 9 Nov\n",
    "\n",
    "__Group Members:__ Kamlesh Pandey & Ronak Dhongde\n",
    "\n",
    "Please use the Code cells in this Jupyter notebook to answer each of the following questions. You can add additional cells for each question if that helps in organizing your solution. Please run all of the cells in your notebook and then submit it via Moodle. (There is a _Run All Cells_ command under the _Run_ menu.)"
   ]
  },
  {
   "cell_type": "markdown",
   "metadata": {},
   "source": [
    "---\n",
    "__(1)__ Determine the first six warehouse design parameters listed in _Ex 2_ of _ML-1_ (\"Total Lines\" to \"Cube Movement\") using the files _HW7-Data-item_master.csv_ and _HW7-Data-orderset1.csv_. In addition, determine a new parameter, \"Weight per Order,\" which is the average total weight of the units in an order. The length, width, and depth are in inches; cube is in cubic inches; and weight is in pounds."
   ]
  },
  {
   "cell_type": "code",
   "execution_count": 1,
   "metadata": {},
   "outputs": [
    {
     "data": {
      "text/html": [
       "<div class=\"data-frame\"><p>5 rows × 3 columns</p><table class=\"data-frame\"><thead><tr><th></th><th>ORDER</th><th>SKU</th><th>QTY</th></tr><tr><th></th><th title=\"Int64\">Int64</th><th title=\"Int64\">Int64</th><th title=\"Int64\">Int64</th></tr></thead><tbody><tr><th>1</th><td>1</td><td>2</td><td>4</td></tr><tr><th>2</th><td>1</td><td>8</td><td>1</td></tr><tr><th>3</th><td>2</td><td>2</td><td>4</td></tr><tr><th>4</th><td>2</td><td>4</td><td>3</td></tr><tr><th>5</th><td>2</td><td>6</td><td>5</td></tr></tbody></table></div>"
      ],
      "text/latex": [
       "\\begin{tabular}{r|ccc}\n",
       "\t& ORDER & SKU & QTY\\\\\n",
       "\t\\hline\n",
       "\t& Int64 & Int64 & Int64\\\\\n",
       "\t\\hline\n",
       "\t1 & 1 & 2 & 4 \\\\\n",
       "\t2 & 1 & 8 & 1 \\\\\n",
       "\t3 & 2 & 2 & 4 \\\\\n",
       "\t4 & 2 & 4 & 3 \\\\\n",
       "\t5 & 2 & 6 & 5 \\\\\n",
       "\\end{tabular}\n"
      ],
      "text/plain": [
       "\u001b[1m5×3 DataFrame\u001b[0m\n",
       "\u001b[1m Row \u001b[0m│\u001b[1m ORDER \u001b[0m\u001b[1m SKU   \u001b[0m\u001b[1m QTY   \u001b[0m\n",
       "\u001b[1m     \u001b[0m│\u001b[90m Int64 \u001b[0m\u001b[90m Int64 \u001b[0m\u001b[90m Int64 \u001b[0m\n",
       "─────┼─────────────────────\n",
       "   1 │     1      2      4\n",
       "   2 │     1      8      1\n",
       "   3 │     2      2      4\n",
       "   4 │     2      4      3\n",
       "   5 │     2      6      5"
      ]
     },
     "execution_count": 1,
     "metadata": {},
     "output_type": "execute_result"
    }
   ],
   "source": [
    "using DataFrames, CSV\n",
    "itemMasterFile = \"HW7-Data-item_master.csv\"\n",
    "ordersetFile = \"HW7-Data-orderset1.csv\"\n",
    "dfItemMaster = DataFrame(CSV.File(itemMasterFile))\n",
    "dfOrder = DataFrame(CSV.File(ordersetFile))\n",
    "\n",
    "first(dfOrder,5)"
   ]
  },
  {
   "cell_type": "code",
   "execution_count": 2,
   "metadata": {},
   "outputs": [
    {
     "data": {
      "text/html": [
       "<div class=\"data-frame\"><p>5 rows × 7 columns</p><table class=\"data-frame\"><thead><tr><th></th><th>SKU</th><th>LENGTH</th><th>WIDTH</th><th>DEPTH</th><th>CUBE</th><th>WEIGHT</th><th>UOM</th></tr><tr><th></th><th title=\"Int64\">Int64</th><th title=\"Int64\">Int64</th><th title=\"Int64\">Int64</th><th title=\"Int64\">Int64</th><th title=\"Int64\">Int64</th><th title=\"Float64\">Float64</th><th title=\"String\">String</th></tr></thead><tbody><tr><th>1</th><td>1</td><td>6</td><td>4</td><td>3</td><td>72</td><td>0.4012</td><td>EA</td></tr><tr><th>2</th><td>2</td><td>6</td><td>6</td><td>3</td><td>108</td><td>0.3703</td><td>EA</td></tr><tr><th>3</th><td>3</td><td>8</td><td>2</td><td>4</td><td>64</td><td>0.3099</td><td>EA</td></tr><tr><th>4</th><td>4</td><td>7</td><td>4</td><td>3</td><td>84</td><td>0.4334</td><td>EA</td></tr><tr><th>5</th><td>5</td><td>5</td><td>6</td><td>2</td><td>60</td><td>0.2998</td><td>EA</td></tr></tbody></table></div>"
      ],
      "text/latex": [
       "\\begin{tabular}{r|ccccccc}\n",
       "\t& SKU & LENGTH & WIDTH & DEPTH & CUBE & WEIGHT & UOM\\\\\n",
       "\t\\hline\n",
       "\t& Int64 & Int64 & Int64 & Int64 & Int64 & Float64 & String\\\\\n",
       "\t\\hline\n",
       "\t1 & 1 & 6 & 4 & 3 & 72 & 0.4012 & EA \\\\\n",
       "\t2 & 2 & 6 & 6 & 3 & 108 & 0.3703 & EA \\\\\n",
       "\t3 & 3 & 8 & 2 & 4 & 64 & 0.3099 & EA \\\\\n",
       "\t4 & 4 & 7 & 4 & 3 & 84 & 0.4334 & EA \\\\\n",
       "\t5 & 5 & 5 & 6 & 2 & 60 & 0.2998 & EA \\\\\n",
       "\\end{tabular}\n"
      ],
      "text/plain": [
       "\u001b[1m5×7 DataFrame\u001b[0m\n",
       "\u001b[1m Row \u001b[0m│\u001b[1m SKU   \u001b[0m\u001b[1m LENGTH \u001b[0m\u001b[1m WIDTH \u001b[0m\u001b[1m DEPTH \u001b[0m\u001b[1m CUBE  \u001b[0m\u001b[1m WEIGHT  \u001b[0m\u001b[1m UOM    \u001b[0m\n",
       "\u001b[1m     \u001b[0m│\u001b[90m Int64 \u001b[0m\u001b[90m Int64  \u001b[0m\u001b[90m Int64 \u001b[0m\u001b[90m Int64 \u001b[0m\u001b[90m Int64 \u001b[0m\u001b[90m Float64 \u001b[0m\u001b[90m String \u001b[0m\n",
       "─────┼─────────────────────────────────────────────────────\n",
       "   1 │     1       6      4      3     72   0.4012  EA\n",
       "   2 │     2       6      6      3    108   0.3703  EA\n",
       "   3 │     3       8      2      4     64   0.3099  EA\n",
       "   4 │     4       7      4      3     84   0.4334  EA\n",
       "   5 │     5       5      6      2     60   0.2998  EA"
      ]
     },
     "execution_count": 2,
     "metadata": {},
     "output_type": "execute_result"
    }
   ],
   "source": [
    "first(dfItemMaster,5)"
   ]
  },
  {
   "cell_type": "markdown",
   "metadata": {},
   "source": [
    "## 1. Total Lines"
   ]
  },
  {
   "cell_type": "code",
   "execution_count": 3,
   "metadata": {},
   "outputs": [
    {
     "data": {
      "text/plain": [
       "Dict{Any, Any} with 1 entry:\n",
       "  :Total_Lines => 41"
      ]
     },
     "execution_count": 3,
     "metadata": {},
     "output_type": "execute_result"
    }
   ],
   "source": [
    "# Using a dictionary\n",
    "dp = Dict()\n",
    "dp[:Total_Lines] = nrow(dfOrder)\n",
    "dp"
   ]
  },
  {
   "cell_type": "markdown",
   "metadata": {},
   "source": [
    "## 2. Lines per Order"
   ]
  },
  {
   "cell_type": "code",
   "execution_count": 4,
   "metadata": {},
   "outputs": [
    {
     "data": {
      "text/plain": [
       "Dict{Any, Any} with 2 entries:\n",
       "  :Total_Lines     => 41\n",
       "  :Lines_per_order => 2.05"
      ]
     },
     "execution_count": 4,
     "metadata": {},
     "output_type": "execute_result"
    }
   ],
   "source": [
    "# Unique ordes\n",
    "uniqueOrder = length(unique(dfOrder[!, :ORDER]))\n",
    "\n",
    "# Adding lines per order key in the dictionary\n",
    "dp[:Lines_per_order] = dp[:Total_Lines]/uniqueOrder\n",
    "dp"
   ]
  },
  {
   "cell_type": "markdown",
   "metadata": {},
   "source": [
    "## 3. Cube Per Order"
   ]
  },
  {
   "cell_type": "code",
   "execution_count": 5,
   "metadata": {
    "scrolled": true
   },
   "outputs": [
    {
     "data": {
      "text/html": [
       "<div class=\"data-frame\"><p>5 rows × 9 columns</p><table class=\"data-frame\"><thead><tr><th></th><th>ORDER</th><th>SKU</th><th>QTY</th><th>LENGTH</th><th>WIDTH</th><th>DEPTH</th><th>CUBE</th><th>WEIGHT</th><th>UOM</th></tr><tr><th></th><th title=\"Int64\">Int64</th><th title=\"Int64\">Int64</th><th title=\"Int64\">Int64</th><th title=\"Int64\">Int64</th><th title=\"Int64\">Int64</th><th title=\"Int64\">Int64</th><th title=\"Int64\">Int64</th><th title=\"Float64\">Float64</th><th title=\"String\">String</th></tr></thead><tbody><tr><th>1</th><td>1</td><td>2</td><td>4</td><td>6</td><td>6</td><td>3</td><td>108</td><td>0.3703</td><td>EA</td></tr><tr><th>2</th><td>1</td><td>8</td><td>1</td><td>5</td><td>5</td><td>3</td><td>52</td><td>0.397</td><td>EA</td></tr><tr><th>3</th><td>2</td><td>2</td><td>4</td><td>6</td><td>6</td><td>3</td><td>108</td><td>0.3703</td><td>EA</td></tr><tr><th>4</th><td>2</td><td>4</td><td>3</td><td>7</td><td>4</td><td>3</td><td>84</td><td>0.4334</td><td>EA</td></tr><tr><th>5</th><td>2</td><td>6</td><td>5</td><td>5</td><td>4</td><td>2</td><td>40</td><td>0.2613</td><td>EA</td></tr></tbody></table></div>"
      ],
      "text/latex": [
       "\\begin{tabular}{r|ccccccccc}\n",
       "\t& ORDER & SKU & QTY & LENGTH & WIDTH & DEPTH & CUBE & WEIGHT & UOM\\\\\n",
       "\t\\hline\n",
       "\t& Int64 & Int64 & Int64 & Int64 & Int64 & Int64 & Int64 & Float64 & String\\\\\n",
       "\t\\hline\n",
       "\t1 & 1 & 2 & 4 & 6 & 6 & 3 & 108 & 0.3703 & EA \\\\\n",
       "\t2 & 1 & 8 & 1 & 5 & 5 & 3 & 52 & 0.397 & EA \\\\\n",
       "\t3 & 2 & 2 & 4 & 6 & 6 & 3 & 108 & 0.3703 & EA \\\\\n",
       "\t4 & 2 & 4 & 3 & 7 & 4 & 3 & 84 & 0.4334 & EA \\\\\n",
       "\t5 & 2 & 6 & 5 & 5 & 4 & 2 & 40 & 0.2613 & EA \\\\\n",
       "\\end{tabular}\n"
      ],
      "text/plain": [
       "\u001b[1m5×9 DataFrame\u001b[0m\n",
       "\u001b[1m Row \u001b[0m│\u001b[1m ORDER \u001b[0m\u001b[1m SKU   \u001b[0m\u001b[1m QTY   \u001b[0m\u001b[1m LENGTH \u001b[0m\u001b[1m WIDTH \u001b[0m\u001b[1m DEPTH \u001b[0m\u001b[1m CUBE  \u001b[0m\u001b[1m WEIGHT  \u001b[0m\u001b[1m UOM    \u001b[0m\n",
       "\u001b[1m     \u001b[0m│\u001b[90m Int64 \u001b[0m\u001b[90m Int64 \u001b[0m\u001b[90m Int64 \u001b[0m\u001b[90m Int64  \u001b[0m\u001b[90m Int64 \u001b[0m\u001b[90m Int64 \u001b[0m\u001b[90m Int64 \u001b[0m\u001b[90m Float64 \u001b[0m\u001b[90m String \u001b[0m\n",
       "─────┼───────────────────────────────────────────────────────────────────\n",
       "   1 │     1      2      4       6      6      3    108   0.3703  EA\n",
       "   2 │     1      8      1       5      5      3     52   0.397   EA\n",
       "   3 │     2      2      4       6      6      3    108   0.3703  EA\n",
       "   4 │     2      4      3       7      4      3     84   0.4334  EA\n",
       "   5 │     2      6      5       5      4      2     40   0.2613  EA"
      ]
     },
     "execution_count": 5,
     "metadata": {},
     "output_type": "execute_result"
    }
   ],
   "source": [
    "df = innerjoin(dfOrder,dfItemMaster, on=:SKU)\n",
    "first(df,5)"
   ]
  },
  {
   "cell_type": "code",
   "execution_count": 6,
   "metadata": {},
   "outputs": [
    {
     "data": {
      "text/html": [
       "<div class=\"data-frame\"><p>20 rows × 2 columns</p><table class=\"data-frame\"><thead><tr><th></th><th>Order</th><th>TOTAL_CUBIC</th></tr><tr><th></th><th title=\"Any\">Any</th><th title=\"Any\">Any</th></tr></thead><tbody><tr><th>1</th><td>1</td><td>484.0</td></tr><tr><th>2</th><td>2</td><td>936.0</td></tr><tr><th>3</th><td>3</td><td>360.0</td></tr><tr><th>4</th><td>4</td><td>324.0</td></tr><tr><th>5</th><td>5</td><td>168.0</td></tr><tr><th>6</th><td>6</td><td>600.0</td></tr><tr><th>7</th><td>7</td><td>64.0</td></tr><tr><th>8</th><td>8</td><td>532.0</td></tr><tr><th>9</th><td>9</td><td>120.0</td></tr><tr><th>10</th><td>10</td><td>1088.0</td></tr><tr><th>11</th><td>11</td><td>588.0</td></tr><tr><th>12</th><td>12</td><td>224.0</td></tr><tr><th>13</th><td>13</td><td>420.0</td></tr><tr><th>14</th><td>14</td><td>280.0</td></tr><tr><th>15</th><td>15</td><td>116.0</td></tr><tr><th>16</th><td>16</td><td>468.0</td></tr><tr><th>17</th><td>17</td><td>64.0</td></tr><tr><th>18</th><td>18</td><td>408.0</td></tr><tr><th>19</th><td>19</td><td>386.0</td></tr><tr><th>20</th><td>20</td><td>108.0</td></tr></tbody></table></div>"
      ],
      "text/latex": [
       "\\begin{tabular}{r|cc}\n",
       "\t& Order & TOTAL\\_CUBIC\\\\\n",
       "\t\\hline\n",
       "\t& Any & Any\\\\\n",
       "\t\\hline\n",
       "\t1 & 1 & 484.0 \\\\\n",
       "\t2 & 2 & 936.0 \\\\\n",
       "\t3 & 3 & 360.0 \\\\\n",
       "\t4 & 4 & 324.0 \\\\\n",
       "\t5 & 5 & 168.0 \\\\\n",
       "\t6 & 6 & 600.0 \\\\\n",
       "\t7 & 7 & 64.0 \\\\\n",
       "\t8 & 8 & 532.0 \\\\\n",
       "\t9 & 9 & 120.0 \\\\\n",
       "\t10 & 10 & 1088.0 \\\\\n",
       "\t11 & 11 & 588.0 \\\\\n",
       "\t12 & 12 & 224.0 \\\\\n",
       "\t13 & 13 & 420.0 \\\\\n",
       "\t14 & 14 & 280.0 \\\\\n",
       "\t15 & 15 & 116.0 \\\\\n",
       "\t16 & 16 & 468.0 \\\\\n",
       "\t17 & 17 & 64.0 \\\\\n",
       "\t18 & 18 & 408.0 \\\\\n",
       "\t19 & 19 & 386.0 \\\\\n",
       "\t20 & 20 & 108.0 \\\\\n",
       "\\end{tabular}\n"
      ],
      "text/plain": [
       "\u001b[1m20×2 DataFrame\u001b[0m\n",
       "\u001b[1m Row \u001b[0m│\u001b[1m Order \u001b[0m\u001b[1m TOTAL_CUBIC \u001b[0m\n",
       "\u001b[1m     \u001b[0m│\u001b[90m Any   \u001b[0m\u001b[90m Any         \u001b[0m\n",
       "─────┼────────────────────\n",
       "   1 │ 1      484.0\n",
       "   2 │ 2      936.0\n",
       "   3 │ 3      360.0\n",
       "   4 │ 4      324.0\n",
       "   5 │ 5      168.0\n",
       "   6 │ 6      600.0\n",
       "   7 │ 7      64.0\n",
       "   8 │ 8      532.0\n",
       "   9 │ 9      120.0\n",
       "  10 │ 10     1088.0\n",
       "  11 │ 11     588.0\n",
       "  12 │ 12     224.0\n",
       "  13 │ 13     420.0\n",
       "  14 │ 14     280.0\n",
       "  15 │ 15     116.0\n",
       "  16 │ 16     468.0\n",
       "  17 │ 17     64.0\n",
       "  18 │ 18     408.0\n",
       "  19 │ 19     386.0\n",
       "  20 │ 20     108.0"
      ]
     },
     "execution_count": 6,
     "metadata": {},
     "output_type": "execute_result"
    }
   ],
   "source": [
    "TOTAL_CUBIC = []\n",
    "ORDER = []\n",
    "for order in unique(df.ORDER)\n",
    "    append!(ORDER, Int64(order))\n",
    "    result = sum(df.QTY[df.ORDER.==order].*df.CUBE[df.ORDER.==order])\n",
    "    append!(TOTAL_CUBIC,Float64(result))\n",
    "end\n",
    "\n",
    "# Creating a new dataframe for the total cost \n",
    "finalDf = DataFrame(Order = ORDER,\n",
    "                    TOTAL_CUBIC = TOTAL_CUBIC)\n",
    "(finalDf)"
   ]
  },
  {
   "cell_type": "markdown",
   "metadata": {},
   "source": [
    "## 4. Flow Per Item "
   ]
  },
  {
   "cell_type": "code",
   "execution_count": 7,
   "metadata": {},
   "outputs": [
    {
     "data": {
      "text/html": [
       "<p><b>GroupedDataFrame with 8 groups based on key: SKU</b></p><p><i>First Group (5 rows): SKU = 1</i></p><div class=\"data-frame\"><table class=\"data-frame\"><thead><tr><th></th><th>ORDER</th><th>SKU</th><th>QTY</th><th>LENGTH</th><th>WIDTH</th><th>DEPTH</th><th>CUBE</th><th>WEIGHT</th><th>UOM</th></tr><tr><th></th><th title=\"Int64\">Int64</th><th title=\"Int64\">Int64</th><th title=\"Int64\">Int64</th><th title=\"Int64\">Int64</th><th title=\"Int64\">Int64</th><th title=\"Int64\">Int64</th><th title=\"Int64\">Int64</th><th title=\"Float64\">Float64</th><th title=\"String\">String</th></tr></thead><tbody><tr><th>1</th><td>4</td><td>1</td><td>3</td><td>6</td><td>4</td><td>3</td><td>72</td><td>0.4012</td><td>EA</td></tr><tr><th>2</th><td>6</td><td>1</td><td>6</td><td>6</td><td>4</td><td>3</td><td>72</td><td>0.4012</td><td>EA</td></tr><tr><th>3</th><td>10</td><td>1</td><td>6</td><td>6</td><td>4</td><td>3</td><td>72</td><td>0.4012</td><td>EA</td></tr><tr><th>4</th><td>16</td><td>1</td><td>4</td><td>6</td><td>4</td><td>3</td><td>72</td><td>0.4012</td><td>EA</td></tr><tr><th>5</th><td>18</td><td>1</td><td>4</td><td>6</td><td>4</td><td>3</td><td>72</td><td>0.4012</td><td>EA</td></tr></tbody></table></div><p>&vellip;</p><p><i>Last Group (6 rows): SKU = 8</i></p><div class=\"data-frame\"><table class=\"data-frame\"><thead><tr><th></th><th>ORDER</th><th>SKU</th><th>QTY</th><th>LENGTH</th><th>WIDTH</th><th>DEPTH</th><th>CUBE</th><th>WEIGHT</th><th>UOM</th></tr><tr><th></th><th title=\"Int64\">Int64</th><th title=\"Int64\">Int64</th><th title=\"Int64\">Int64</th><th title=\"Int64\">Int64</th><th title=\"Int64\">Int64</th><th title=\"Int64\">Int64</th><th title=\"Int64\">Int64</th><th title=\"Float64\">Float64</th><th title=\"String\">String</th></tr></thead><tbody><tr><th>1</th><td>1</td><td>8</td><td>1</td><td>5</td><td>5</td><td>3</td><td>52</td><td>0.397</td><td>EA</td></tr><tr><th>2</th><td>2</td><td>8</td><td>1</td><td>5</td><td>5</td><td>3</td><td>52</td><td>0.397</td><td>EA</td></tr><tr><th>3</th><td>8</td><td>8</td><td>1</td><td>5</td><td>5</td><td>3</td><td>52</td><td>0.397</td><td>EA</td></tr><tr><th>4</th><td>12</td><td>8</td><td>2</td><td>5</td><td>5</td><td>3</td><td>52</td><td>0.397</td><td>EA</td></tr><tr><th>5</th><td>15</td><td>8</td><td>1</td><td>5</td><td>5</td><td>3</td><td>52</td><td>0.397</td><td>EA</td></tr><tr><th>6</th><td>19</td><td>8</td><td>1</td><td>5</td><td>5</td><td>3</td><td>52</td><td>0.397</td><td>EA</td></tr></tbody></table></div>"
      ],
      "text/latex": [
       "GroupedDataFrame with 8 groups based on key: SKU\n",
       "\n",
       "First Group (5 rows): SKU = 1\n",
       "\n",
       "\\begin{tabular}{r|ccccccccc}\n",
       "\t& ORDER & SKU & QTY & LENGTH & WIDTH & DEPTH & CUBE & WEIGHT & UOM\\\\\n",
       "\t\\hline\n",
       "\t& Int64 & Int64 & Int64 & Int64 & Int64 & Int64 & Int64 & Float64 & String\\\\\n",
       "\t\\hline\n",
       "\t1 & 4 & 1 & 3 & 6 & 4 & 3 & 72 & 0.4012 & EA \\\\\n",
       "\t2 & 6 & 1 & 6 & 6 & 4 & 3 & 72 & 0.4012 & EA \\\\\n",
       "\t3 & 10 & 1 & 6 & 6 & 4 & 3 & 72 & 0.4012 & EA \\\\\n",
       "\t4 & 16 & 1 & 4 & 6 & 4 & 3 & 72 & 0.4012 & EA \\\\\n",
       "\t5 & 18 & 1 & 4 & 6 & 4 & 3 & 72 & 0.4012 & EA \\\\\n",
       "\\end{tabular}\n",
       "\n",
       "$\\dots$\n",
       "\n",
       "Last Group (6 rows): SKU = 8\n",
       "\n",
       "\\begin{tabular}{r|ccccccccc}\n",
       "\t& ORDER & SKU & QTY & LENGTH & WIDTH & DEPTH & CUBE & WEIGHT & UOM\\\\\n",
       "\t\\hline\n",
       "\t& Int64 & Int64 & Int64 & Int64 & Int64 & Int64 & Int64 & Float64 & String\\\\\n",
       "\t\\hline\n",
       "\t1 & 1 & 8 & 1 & 5 & 5 & 3 & 52 & 0.397 & EA \\\\\n",
       "\t2 & 2 & 8 & 1 & 5 & 5 & 3 & 52 & 0.397 & EA \\\\\n",
       "\t3 & 8 & 8 & 1 & 5 & 5 & 3 & 52 & 0.397 & EA \\\\\n",
       "\t4 & 12 & 8 & 2 & 5 & 5 & 3 & 52 & 0.397 & EA \\\\\n",
       "\t5 & 15 & 8 & 1 & 5 & 5 & 3 & 52 & 0.397 & EA \\\\\n",
       "\t6 & 19 & 8 & 1 & 5 & 5 & 3 & 52 & 0.397 & EA \\\\\n",
       "\\end{tabular}\n"
      ],
      "text/plain": [
       "GroupedDataFrame with 8 groups based on key: SKU\n",
       "First Group (5 rows): SKU = 1\n",
       "\u001b[1m Row \u001b[0m│\u001b[1m ORDER \u001b[0m\u001b[1m SKU   \u001b[0m\u001b[1m QTY   \u001b[0m\u001b[1m LENGTH \u001b[0m\u001b[1m WIDTH \u001b[0m\u001b[1m DEPTH \u001b[0m\u001b[1m CUBE  \u001b[0m\u001b[1m WEIGHT  \u001b[0m\u001b[1m UOM    \u001b[0m\n",
       "\u001b[1m     \u001b[0m│\u001b[90m Int64 \u001b[0m\u001b[90m Int64 \u001b[0m\u001b[90m Int64 \u001b[0m\u001b[90m Int64  \u001b[0m\u001b[90m Int64 \u001b[0m\u001b[90m Int64 \u001b[0m\u001b[90m Int64 \u001b[0m\u001b[90m Float64 \u001b[0m\u001b[90m String \u001b[0m\n",
       "─────┼───────────────────────────────────────────────────────────────────\n",
       "   1 │     4      1      3       6      4      3     72   0.4012  EA\n",
       "   2 │     6      1      6       6      4      3     72   0.4012  EA\n",
       "   3 │    10      1      6       6      4      3     72   0.4012  EA\n",
       "   4 │    16      1      4       6      4      3     72   0.4012  EA\n",
       "   5 │    18      1      4       6      4      3     72   0.4012  EA\n",
       "⋮\n",
       "Last Group (6 rows): SKU = 8\n",
       "\u001b[1m Row \u001b[0m│\u001b[1m ORDER \u001b[0m\u001b[1m SKU   \u001b[0m\u001b[1m QTY   \u001b[0m\u001b[1m LENGTH \u001b[0m\u001b[1m WIDTH \u001b[0m\u001b[1m DEPTH \u001b[0m\u001b[1m CUBE  \u001b[0m\u001b[1m WEIGHT  \u001b[0m\u001b[1m UOM    \u001b[0m\n",
       "\u001b[1m     \u001b[0m│\u001b[90m Int64 \u001b[0m\u001b[90m Int64 \u001b[0m\u001b[90m Int64 \u001b[0m\u001b[90m Int64  \u001b[0m\u001b[90m Int64 \u001b[0m\u001b[90m Int64 \u001b[0m\u001b[90m Int64 \u001b[0m\u001b[90m Float64 \u001b[0m\u001b[90m String \u001b[0m\n",
       "─────┼───────────────────────────────────────────────────────────────────\n",
       "   1 │     1      8      1       5      5      3     52    0.397  EA\n",
       "   2 │     2      8      1       5      5      3     52    0.397  EA\n",
       "   3 │     8      8      1       5      5      3     52    0.397  EA\n",
       "   4 │    12      8      2       5      5      3     52    0.397  EA\n",
       "   5 │    15      8      1       5      5      3     52    0.397  EA\n",
       "   6 │    19      8      1       5      5      3     52    0.397  EA"
      ]
     },
     "execution_count": 7,
     "metadata": {},
     "output_type": "execute_result"
    }
   ],
   "source": [
    "# Grouping each SKU \n",
    "gdf = groupby(df,:SKU)"
   ]
  },
  {
   "cell_type": "code",
   "execution_count": 8,
   "metadata": {},
   "outputs": [
    {
     "data": {
      "text/html": [
       "<div class=\"data-frame\"><p>8 rows × 2 columns</p><table class=\"data-frame\"><thead><tr><th></th><th>SKU</th><th>QTY_sum</th></tr><tr><th></th><th title=\"Int64\">Int64</th><th title=\"Int64\">Int64</th></tr></thead><tbody><tr><th>1</th><td>1</td><td>23</td></tr><tr><th>2</th><td>2</td><td>10</td></tr><tr><th>3</th><td>3</td><td>4</td></tr><tr><th>4</th><td>4</td><td>13</td></tr><tr><th>5</th><td>5</td><td>19</td></tr><tr><th>6</th><td>6</td><td>47</td></tr><tr><th>7</th><td>7</td><td>5</td></tr><tr><th>8</th><td>8</td><td>7</td></tr></tbody></table></div>"
      ],
      "text/latex": [
       "\\begin{tabular}{r|cc}\n",
       "\t& SKU & QTY\\_sum\\\\\n",
       "\t\\hline\n",
       "\t& Int64 & Int64\\\\\n",
       "\t\\hline\n",
       "\t1 & 1 & 23 \\\\\n",
       "\t2 & 2 & 10 \\\\\n",
       "\t3 & 3 & 4 \\\\\n",
       "\t4 & 4 & 13 \\\\\n",
       "\t5 & 5 & 19 \\\\\n",
       "\t6 & 6 & 47 \\\\\n",
       "\t7 & 7 & 5 \\\\\n",
       "\t8 & 8 & 7 \\\\\n",
       "\\end{tabular}\n"
      ],
      "text/plain": [
       "\u001b[1m8×2 DataFrame\u001b[0m\n",
       "\u001b[1m Row \u001b[0m│\u001b[1m SKU   \u001b[0m\u001b[1m QTY_sum \u001b[0m\n",
       "\u001b[1m     \u001b[0m│\u001b[90m Int64 \u001b[0m\u001b[90m Int64   \u001b[0m\n",
       "─────┼────────────────\n",
       "   1 │     1       23\n",
       "   2 │     2       10\n",
       "   3 │     3        4\n",
       "   4 │     4       13\n",
       "   5 │     5       19\n",
       "   6 │     6       47\n",
       "   7 │     7        5\n",
       "   8 │     8        7"
      ]
     },
     "execution_count": 8,
     "metadata": {},
     "output_type": "execute_result"
    }
   ],
   "source": [
    "combine(gdf,:QTY => sum)"
   ]
  },
  {
   "cell_type": "code",
   "execution_count": 9,
   "metadata": {},
   "outputs": [
    {
     "data": {
      "text/html": [
       "<div class=\"data-frame\"><p>8 rows × 2 columns</p><table class=\"data-frame\"><thead><tr><th></th><th>SKU</th><th>Flow_per_Item</th></tr><tr><th></th><th title=\"Int64\">Int64</th><th title=\"Int64\">Int64</th></tr></thead><tbody><tr><th>1</th><td>1</td><td>23</td></tr><tr><th>2</th><td>2</td><td>10</td></tr><tr><th>3</th><td>3</td><td>4</td></tr><tr><th>4</th><td>4</td><td>13</td></tr><tr><th>5</th><td>5</td><td>19</td></tr><tr><th>6</th><td>6</td><td>47</td></tr><tr><th>7</th><td>7</td><td>5</td></tr><tr><th>8</th><td>8</td><td>7</td></tr></tbody></table></div>"
      ],
      "text/latex": [
       "\\begin{tabular}{r|cc}\n",
       "\t& SKU & Flow\\_per\\_Item\\\\\n",
       "\t\\hline\n",
       "\t& Int64 & Int64\\\\\n",
       "\t\\hline\n",
       "\t1 & 1 & 23 \\\\\n",
       "\t2 & 2 & 10 \\\\\n",
       "\t3 & 3 & 4 \\\\\n",
       "\t4 & 4 & 13 \\\\\n",
       "\t5 & 5 & 19 \\\\\n",
       "\t6 & 6 & 47 \\\\\n",
       "\t7 & 7 & 5 \\\\\n",
       "\t8 & 8 & 7 \\\\\n",
       "\\end{tabular}\n"
      ],
      "text/plain": [
       "\u001b[1m8×2 DataFrame\u001b[0m\n",
       "\u001b[1m Row \u001b[0m│\u001b[1m SKU   \u001b[0m\u001b[1m Flow_per_Item \u001b[0m\n",
       "\u001b[1m     \u001b[0m│\u001b[90m Int64 \u001b[0m\u001b[90m Int64         \u001b[0m\n",
       "─────┼──────────────────────\n",
       "   1 │     1             23\n",
       "   2 │     2             10\n",
       "   3 │     3              4\n",
       "   4 │     4             13\n",
       "   5 │     5             19\n",
       "   6 │     6             47\n",
       "   7 │     7              5\n",
       "   8 │     8              7"
      ]
     },
     "execution_count": 9,
     "metadata": {},
     "output_type": "execute_result"
    }
   ],
   "source": [
    "skudf = combine(gdf,:QTY => sum => :Flow_per_Item)"
   ]
  },
  {
   "cell_type": "markdown",
   "metadata": {},
   "source": [
    "## 5. Lines per Item "
   ]
  },
  {
   "cell_type": "code",
   "execution_count": 10,
   "metadata": {},
   "outputs": [
    {
     "data": {
      "text/html": [
       "<div class=\"data-frame\"><p>8 rows × 2 columns</p><table class=\"data-frame\"><thead><tr><th></th><th>SKU</th><th>nrow</th></tr><tr><th></th><th title=\"Int64\">Int64</th><th title=\"Int64\">Int64</th></tr></thead><tbody><tr><th>1</th><td>1</td><td>5</td></tr><tr><th>2</th><td>2</td><td>3</td></tr><tr><th>3</th><td>3</td><td>4</td></tr><tr><th>4</th><td>4</td><td>5</td></tr><tr><th>5</th><td>5</td><td>8</td></tr><tr><th>6</th><td>6</td><td>7</td></tr><tr><th>7</th><td>7</td><td>3</td></tr><tr><th>8</th><td>8</td><td>6</td></tr></tbody></table></div>"
      ],
      "text/latex": [
       "\\begin{tabular}{r|cc}\n",
       "\t& SKU & nrow\\\\\n",
       "\t\\hline\n",
       "\t& Int64 & Int64\\\\\n",
       "\t\\hline\n",
       "\t1 & 1 & 5 \\\\\n",
       "\t2 & 2 & 3 \\\\\n",
       "\t3 & 3 & 4 \\\\\n",
       "\t4 & 4 & 5 \\\\\n",
       "\t5 & 5 & 8 \\\\\n",
       "\t6 & 6 & 7 \\\\\n",
       "\t7 & 7 & 3 \\\\\n",
       "\t8 & 8 & 6 \\\\\n",
       "\\end{tabular}\n"
      ],
      "text/plain": [
       "\u001b[1m8×2 DataFrame\u001b[0m\n",
       "\u001b[1m Row \u001b[0m│\u001b[1m SKU   \u001b[0m\u001b[1m nrow  \u001b[0m\n",
       "\u001b[1m     \u001b[0m│\u001b[90m Int64 \u001b[0m\u001b[90m Int64 \u001b[0m\n",
       "─────┼──────────────\n",
       "   1 │     1      5\n",
       "   2 │     2      3\n",
       "   3 │     3      4\n",
       "   4 │     4      5\n",
       "   5 │     5      8\n",
       "   6 │     6      7\n",
       "   7 │     7      3\n",
       "   8 │     8      6"
      ]
     },
     "execution_count": 10,
     "metadata": {},
     "output_type": "execute_result"
    }
   ],
   "source": [
    "combine(gdf,nrow)"
   ]
  },
  {
   "cell_type": "code",
   "execution_count": 11,
   "metadata": {},
   "outputs": [
    {
     "data": {
      "text/html": [
       "<div class=\"data-frame\"><p>8 rows × 3 columns</p><table class=\"data-frame\"><thead><tr><th></th><th>SKU</th><th>Flow_per_Item</th><th>Lines_per_Item</th></tr><tr><th></th><th title=\"Int64\">Int64</th><th title=\"Int64\">Int64</th><th title=\"Int64\">Int64</th></tr></thead><tbody><tr><th>1</th><td>1</td><td>23</td><td>5</td></tr><tr><th>2</th><td>2</td><td>10</td><td>3</td></tr><tr><th>3</th><td>3</td><td>4</td><td>4</td></tr><tr><th>4</th><td>4</td><td>13</td><td>5</td></tr><tr><th>5</th><td>5</td><td>19</td><td>8</td></tr><tr><th>6</th><td>6</td><td>47</td><td>7</td></tr><tr><th>7</th><td>7</td><td>5</td><td>3</td></tr><tr><th>8</th><td>8</td><td>7</td><td>6</td></tr></tbody></table></div>"
      ],
      "text/latex": [
       "\\begin{tabular}{r|ccc}\n",
       "\t& SKU & Flow\\_per\\_Item & Lines\\_per\\_Item\\\\\n",
       "\t\\hline\n",
       "\t& Int64 & Int64 & Int64\\\\\n",
       "\t\\hline\n",
       "\t1 & 1 & 23 & 5 \\\\\n",
       "\t2 & 2 & 10 & 3 \\\\\n",
       "\t3 & 3 & 4 & 4 \\\\\n",
       "\t4 & 4 & 13 & 5 \\\\\n",
       "\t5 & 5 & 19 & 8 \\\\\n",
       "\t6 & 6 & 47 & 7 \\\\\n",
       "\t7 & 7 & 5 & 3 \\\\\n",
       "\t8 & 8 & 7 & 6 \\\\\n",
       "\\end{tabular}\n"
      ],
      "text/plain": [
       "\u001b[1m8×3 DataFrame\u001b[0m\n",
       "\u001b[1m Row \u001b[0m│\u001b[1m SKU   \u001b[0m\u001b[1m Flow_per_Item \u001b[0m\u001b[1m Lines_per_Item \u001b[0m\n",
       "\u001b[1m     \u001b[0m│\u001b[90m Int64 \u001b[0m\u001b[90m Int64         \u001b[0m\u001b[90m Int64          \u001b[0m\n",
       "─────┼──────────────────────────────────────\n",
       "   1 │     1             23               5\n",
       "   2 │     2             10               3\n",
       "   3 │     3              4               4\n",
       "   4 │     4             13               5\n",
       "   5 │     5             19               8\n",
       "   6 │     6             47               7\n",
       "   7 │     7              5               3\n",
       "   8 │     8              7               6"
      ]
     },
     "execution_count": 11,
     "metadata": {},
     "output_type": "execute_result"
    }
   ],
   "source": [
    "skudf = innerjoin(skudf,combine(gdf,nrow => :Lines_per_Item),on=:SKU)"
   ]
  },
  {
   "cell_type": "markdown",
   "metadata": {},
   "source": [
    "## 6. Cube Movement"
   ]
  },
  {
   "cell_type": "code",
   "execution_count": 12,
   "metadata": {},
   "outputs": [
    {
     "name": "stdout",
     "output_type": "stream",
     "text": [
      "1656\n",
      "1080\n",
      "256\n",
      "1092\n",
      "1140\n",
      "1880\n",
      "270\n",
      "364\n"
     ]
    }
   ],
   "source": [
    "for i in gdf\n",
    "    result = sum(i.QTY.*i.CUBE)\n",
    "    println(result)\n",
    "end"
   ]
  },
  {
   "cell_type": "code",
   "execution_count": 13,
   "metadata": {},
   "outputs": [
    {
     "data": {
      "text/html": [
       "<div class=\"data-frame\"><p>8 rows × 2 columns</p><table class=\"data-frame\"><thead><tr><th></th><th>SKU</th><th>QTY_CUBE_function</th></tr><tr><th></th><th title=\"Int64\">Int64</th><th title=\"Int64\">Int64</th></tr></thead><tbody><tr><th>1</th><td>1</td><td>1656</td></tr><tr><th>2</th><td>2</td><td>1080</td></tr><tr><th>3</th><td>3</td><td>256</td></tr><tr><th>4</th><td>4</td><td>1092</td></tr><tr><th>5</th><td>5</td><td>1140</td></tr><tr><th>6</th><td>6</td><td>1880</td></tr><tr><th>7</th><td>7</td><td>270</td></tr><tr><th>8</th><td>8</td><td>364</td></tr></tbody></table></div>"
      ],
      "text/latex": [
       "\\begin{tabular}{r|cc}\n",
       "\t& SKU & QTY\\_CUBE\\_function\\\\\n",
       "\t\\hline\n",
       "\t& Int64 & Int64\\\\\n",
       "\t\\hline\n",
       "\t1 & 1 & 1656 \\\\\n",
       "\t2 & 2 & 1080 \\\\\n",
       "\t3 & 3 & 256 \\\\\n",
       "\t4 & 4 & 1092 \\\\\n",
       "\t5 & 5 & 1140 \\\\\n",
       "\t6 & 6 & 1880 \\\\\n",
       "\t7 & 7 & 270 \\\\\n",
       "\t8 & 8 & 364 \\\\\n",
       "\\end{tabular}\n"
      ],
      "text/plain": [
       "\u001b[1m8×2 DataFrame\u001b[0m\n",
       "\u001b[1m Row \u001b[0m│\u001b[1m SKU   \u001b[0m\u001b[1m QTY_CUBE_function \u001b[0m\n",
       "\u001b[1m     \u001b[0m│\u001b[90m Int64 \u001b[0m\u001b[90m Int64             \u001b[0m\n",
       "─────┼──────────────────────────\n",
       "   1 │     1               1656\n",
       "   2 │     2               1080\n",
       "   3 │     3                256\n",
       "   4 │     4               1092\n",
       "   5 │     5               1140\n",
       "   6 │     6               1880\n",
       "   7 │     7                270\n",
       "   8 │     8                364"
      ]
     },
     "execution_count": 13,
     "metadata": {},
     "output_type": "execute_result"
    }
   ],
   "source": [
    "combine(gdf,[:QTY,:CUBE] => ((i,j) -> sum(i.*j)))"
   ]
  },
  {
   "cell_type": "code",
   "execution_count": 14,
   "metadata": {},
   "outputs": [
    {
     "data": {
      "text/html": [
       "<div class=\"data-frame\"><p>8 rows × 4 columns</p><table class=\"data-frame\"><thead><tr><th></th><th>SKU</th><th>Flow_per_Item</th><th>Lines_per_Item</th><th>Cube_Movement</th></tr><tr><th></th><th title=\"Int64\">Int64</th><th title=\"Int64\">Int64</th><th title=\"Int64\">Int64</th><th title=\"Int64\">Int64</th></tr></thead><tbody><tr><th>1</th><td>1</td><td>23</td><td>5</td><td>1656</td></tr><tr><th>2</th><td>2</td><td>10</td><td>3</td><td>1080</td></tr><tr><th>3</th><td>3</td><td>4</td><td>4</td><td>256</td></tr><tr><th>4</th><td>4</td><td>13</td><td>5</td><td>1092</td></tr><tr><th>5</th><td>5</td><td>19</td><td>8</td><td>1140</td></tr><tr><th>6</th><td>6</td><td>47</td><td>7</td><td>1880</td></tr><tr><th>7</th><td>7</td><td>5</td><td>3</td><td>270</td></tr><tr><th>8</th><td>8</td><td>7</td><td>6</td><td>364</td></tr></tbody></table></div>"
      ],
      "text/latex": [
       "\\begin{tabular}{r|cccc}\n",
       "\t& SKU & Flow\\_per\\_Item & Lines\\_per\\_Item & Cube\\_Movement\\\\\n",
       "\t\\hline\n",
       "\t& Int64 & Int64 & Int64 & Int64\\\\\n",
       "\t\\hline\n",
       "\t1 & 1 & 23 & 5 & 1656 \\\\\n",
       "\t2 & 2 & 10 & 3 & 1080 \\\\\n",
       "\t3 & 3 & 4 & 4 & 256 \\\\\n",
       "\t4 & 4 & 13 & 5 & 1092 \\\\\n",
       "\t5 & 5 & 19 & 8 & 1140 \\\\\n",
       "\t6 & 6 & 47 & 7 & 1880 \\\\\n",
       "\t7 & 7 & 5 & 3 & 270 \\\\\n",
       "\t8 & 8 & 7 & 6 & 364 \\\\\n",
       "\\end{tabular}\n"
      ],
      "text/plain": [
       "\u001b[1m8×4 DataFrame\u001b[0m\n",
       "\u001b[1m Row \u001b[0m│\u001b[1m SKU   \u001b[0m\u001b[1m Flow_per_Item \u001b[0m\u001b[1m Lines_per_Item \u001b[0m\u001b[1m Cube_Movement \u001b[0m\n",
       "\u001b[1m     \u001b[0m│\u001b[90m Int64 \u001b[0m\u001b[90m Int64         \u001b[0m\u001b[90m Int64          \u001b[0m\u001b[90m Int64         \u001b[0m\n",
       "─────┼─────────────────────────────────────────────────────\n",
       "   1 │     1             23               5           1656\n",
       "   2 │     2             10               3           1080\n",
       "   3 │     3              4               4            256\n",
       "   4 │     4             13               5           1092\n",
       "   5 │     5             19               8           1140\n",
       "   6 │     6             47               7           1880\n",
       "   7 │     7              5               3            270\n",
       "   8 │     8              7               6            364"
      ]
     },
     "execution_count": 14,
     "metadata": {},
     "output_type": "execute_result"
    }
   ],
   "source": [
    "skudf = innerjoin(skudf,\n",
    "    combine(gdf,[:QTY,:CUBE] => ((x,y) -> sum(x.*y)) => :Cube_Movement),on=:SKU)"
   ]
  },
  {
   "cell_type": "markdown",
   "metadata": {},
   "source": [
    "## 7. Weight Per Order"
   ]
  },
  {
   "cell_type": "code",
   "execution_count": 15,
   "metadata": {},
   "outputs": [
    {
     "data": {
      "text/html": [
       "<div class=\"data-frame\"><p>20 rows × 2 columns</p><table class=\"data-frame\"><thead><tr><th></th><th>Order</th><th>WEIGHT_Per_Order</th></tr><tr><th></th><th title=\"Any\">Any</th><th title=\"Any\">Any</th></tr></thead><tbody><tr><th>1</th><td>1</td><td>1.8782</td></tr><tr><th>2</th><td>2</td><td>4.4849</td></tr><tr><th>3</th><td>3</td><td>2.1674</td></tr><tr><th>4</th><td>4</td><td>1.8004</td></tr><tr><th>5</th><td>5</td><td>0.8668</td></tr><tr><th>6</th><td>6</td><td>3.274</td></tr><tr><th>7</th><td>7</td><td>0.3099</td></tr><tr><th>8</th><td>8</td><td>3.5326</td></tr><tr><th>9</th><td>9</td><td>0.5996</td></tr><tr><th>10</th><td>10</td><td>6.0469</td></tr><tr><th>11</th><td>11</td><td>3.334</td></tr><tr><th>12</th><td>12</td><td>1.3936</td></tr><tr><th>13</th><td>13</td><td>2.4672</td></tr><tr><th>14</th><td>14</td><td>1.8291</td></tr><tr><th>15</th><td>15</td><td>0.7069</td></tr><tr><th>16</th><td>16</td><td>2.5042</td></tr><tr><th>17</th><td>17</td><td>0.3099</td></tr><tr><th>18</th><td>18</td><td>2.2044</td></tr><tr><th>19</th><td>19</td><td>1.7459</td></tr><tr><th>20</th><td>20</td><td>0.5968</td></tr></tbody></table></div>"
      ],
      "text/latex": [
       "\\begin{tabular}{r|cc}\n",
       "\t& Order & WEIGHT\\_Per\\_Order\\\\\n",
       "\t\\hline\n",
       "\t& Any & Any\\\\\n",
       "\t\\hline\n",
       "\t1 & 1 & 1.8782 \\\\\n",
       "\t2 & 2 & 4.4849 \\\\\n",
       "\t3 & 3 & 2.1674 \\\\\n",
       "\t4 & 4 & 1.8004 \\\\\n",
       "\t5 & 5 & 0.8668 \\\\\n",
       "\t6 & 6 & 3.274 \\\\\n",
       "\t7 & 7 & 0.3099 \\\\\n",
       "\t8 & 8 & 3.5326 \\\\\n",
       "\t9 & 9 & 0.5996 \\\\\n",
       "\t10 & 10 & 6.0469 \\\\\n",
       "\t11 & 11 & 3.334 \\\\\n",
       "\t12 & 12 & 1.3936 \\\\\n",
       "\t13 & 13 & 2.4672 \\\\\n",
       "\t14 & 14 & 1.8291 \\\\\n",
       "\t15 & 15 & 0.7069 \\\\\n",
       "\t16 & 16 & 2.5042 \\\\\n",
       "\t17 & 17 & 0.3099 \\\\\n",
       "\t18 & 18 & 2.2044 \\\\\n",
       "\t19 & 19 & 1.7459 \\\\\n",
       "\t20 & 20 & 0.5968 \\\\\n",
       "\\end{tabular}\n"
      ],
      "text/plain": [
       "\u001b[1m20×2 DataFrame\u001b[0m\n",
       "\u001b[1m Row \u001b[0m│\u001b[1m Order \u001b[0m\u001b[1m WEIGHT_Per_Order \u001b[0m\n",
       "\u001b[1m     \u001b[0m│\u001b[90m Any   \u001b[0m\u001b[90m Any              \u001b[0m\n",
       "─────┼─────────────────────────\n",
       "   1 │ 1      1.8782\n",
       "   2 │ 2      4.4849\n",
       "   3 │ 3      2.1674\n",
       "   4 │ 4      1.8004\n",
       "   5 │ 5      0.8668\n",
       "   6 │ 6      3.274\n",
       "   7 │ 7      0.3099\n",
       "   8 │ 8      3.5326\n",
       "   9 │ 9      0.5996\n",
       "  10 │ 10     6.0469\n",
       "  11 │ 11     3.334\n",
       "  12 │ 12     1.3936\n",
       "  13 │ 13     2.4672\n",
       "  14 │ 14     1.8291\n",
       "  15 │ 15     0.7069\n",
       "  16 │ 16     2.5042\n",
       "  17 │ 17     0.3099\n",
       "  18 │ 18     2.2044\n",
       "  19 │ 19     1.7459\n",
       "  20 │ 20     0.5968"
      ]
     },
     "execution_count": 15,
     "metadata": {},
     "output_type": "execute_result"
    }
   ],
   "source": [
    "df = innerjoin(dfOrder,dfItemMaster, on=:SKU)\n",
    "ORDER = []\n",
    "AVG_WEIGHT = []\n",
    "for order in unique(df.ORDER)\n",
    "    append!(ORDER,Int32(order))\n",
    "    result = sum(df.QTY[df.ORDER.==order].*df.WEIGHT[df.ORDER.==order])\n",
    "    append!(AVG_WEIGHT, Float64(result))\n",
    "end\n",
    "\n",
    "# Creating a new dataframe for average weight\n",
    "finalDf = DataFrame(Order = ORDER,\n",
    "                    WEIGHT_Per_Order = AVG_WEIGHT)\n",
    "\n",
    "finalDf"
   ]
  },
  {
   "cell_type": "markdown",
   "metadata": {},
   "source": [
    "---\n",
    "__(2)__ Using the orders in the file _HW7-Data-orderset1.csv_ along with the price of \\\\$18.00, 15.75, 16.20, 12.24, 25.43, 36.24, 18.75, and 8.45 per unit of SKUs 1 to 8, respectively, determine the total price for each individual order."
   ]
  },
  {
   "cell_type": "code",
   "execution_count": 16,
   "metadata": {
    "scrolled": true
   },
   "outputs": [
    {
     "data": {
      "text/html": [
       "<div class=\"data-frame\"><p>3 rows × 7 columns</p><table class=\"data-frame\"><thead><tr><th></th><th>variable</th><th>mean</th><th>min</th><th>median</th><th>max</th><th>nmissing</th><th>eltype</th></tr><tr><th></th><th title=\"Symbol\">Symbol</th><th title=\"Float64\">Float64</th><th title=\"Int64\">Int64</th><th title=\"Float64\">Float64</th><th title=\"Int64\">Int64</th><th title=\"Int64\">Int64</th><th title=\"DataType\">DataType</th></tr></thead><tbody><tr><th>1</th><td>ORDER</td><td>10.2683</td><td>1</td><td>10.0</td><td>20</td><td>0</td><td>Int64</td></tr><tr><th>2</th><td>SKU</td><td>4.73171</td><td>1</td><td>5.0</td><td>8</td><td>0</td><td>Int64</td></tr><tr><th>3</th><td>QTY</td><td>3.12195</td><td>1</td><td>2.0</td><td>12</td><td>0</td><td>Int64</td></tr></tbody></table></div>"
      ],
      "text/latex": [
       "\\begin{tabular}{r|ccccccc}\n",
       "\t& variable & mean & min & median & max & nmissing & eltype\\\\\n",
       "\t\\hline\n",
       "\t& Symbol & Float64 & Int64 & Float64 & Int64 & Int64 & DataType\\\\\n",
       "\t\\hline\n",
       "\t1 & ORDER & 10.2683 & 1 & 10.0 & 20 & 0 & Int64 \\\\\n",
       "\t2 & SKU & 4.73171 & 1 & 5.0 & 8 & 0 & Int64 \\\\\n",
       "\t3 & QTY & 3.12195 & 1 & 2.0 & 12 & 0 & Int64 \\\\\n",
       "\\end{tabular}\n"
      ],
      "text/plain": [
       "\u001b[1m3×7 DataFrame\u001b[0m\n",
       "\u001b[1m Row \u001b[0m│\u001b[1m variable \u001b[0m\u001b[1m mean     \u001b[0m\u001b[1m min   \u001b[0m\u001b[1m median  \u001b[0m\u001b[1m max   \u001b[0m\u001b[1m nmissing \u001b[0m\u001b[1m eltype   \u001b[0m\n",
       "\u001b[1m     \u001b[0m│\u001b[90m Symbol   \u001b[0m\u001b[90m Float64  \u001b[0m\u001b[90m Int64 \u001b[0m\u001b[90m Float64 \u001b[0m\u001b[90m Int64 \u001b[0m\u001b[90m Int64    \u001b[0m\u001b[90m DataType \u001b[0m\n",
       "─────┼───────────────────────────────────────────────────────────────\n",
       "   1 │ ORDER     10.2683       1     10.0     20         0  Int64\n",
       "   2 │ SKU        4.73171      1      5.0      8         0  Int64\n",
       "   3 │ QTY        3.12195      1      2.0     12         0  Int64"
      ]
     },
     "execution_count": 16,
     "metadata": {},
     "output_type": "execute_result"
    }
   ],
   "source": [
    "using DataFrames,CSV\n",
    "file_path = \"HW7-Data-orderset1.csv\"\n",
    "df0 = DataFrame(CSV.File(file_path))\n",
    "describe(df0)"
   ]
  },
  {
   "cell_type": "code",
   "execution_count": 17,
   "metadata": {},
   "outputs": [
    {
     "data": {
      "text/html": [
       "<div class=\"data-frame\"><p>10 rows × 3 columns</p><table class=\"data-frame\"><thead><tr><th></th><th>ORDER</th><th>SKU</th><th>QTY</th></tr><tr><th></th><th title=\"Int64\">Int64</th><th title=\"Int64\">Int64</th><th title=\"Int64\">Int64</th></tr></thead><tbody><tr><th>1</th><td>1</td><td>2</td><td>4</td></tr><tr><th>2</th><td>1</td><td>8</td><td>1</td></tr><tr><th>3</th><td>2</td><td>2</td><td>4</td></tr><tr><th>4</th><td>2</td><td>4</td><td>3</td></tr><tr><th>5</th><td>2</td><td>6</td><td>5</td></tr><tr><th>6</th><td>2</td><td>8</td><td>1</td></tr><tr><th>7</th><td>3</td><td>5</td><td>2</td></tr><tr><th>8</th><td>3</td><td>6</td><td>6</td></tr><tr><th>9</th><td>4</td><td>1</td><td>3</td></tr><tr><th>10</th><td>4</td><td>7</td><td>2</td></tr></tbody></table></div>"
      ],
      "text/latex": [
       "\\begin{tabular}{r|ccc}\n",
       "\t& ORDER & SKU & QTY\\\\\n",
       "\t\\hline\n",
       "\t& Int64 & Int64 & Int64\\\\\n",
       "\t\\hline\n",
       "\t1 & 1 & 2 & 4 \\\\\n",
       "\t2 & 1 & 8 & 1 \\\\\n",
       "\t3 & 2 & 2 & 4 \\\\\n",
       "\t4 & 2 & 4 & 3 \\\\\n",
       "\t5 & 2 & 6 & 5 \\\\\n",
       "\t6 & 2 & 8 & 1 \\\\\n",
       "\t7 & 3 & 5 & 2 \\\\\n",
       "\t8 & 3 & 6 & 6 \\\\\n",
       "\t9 & 4 & 1 & 3 \\\\\n",
       "\t10 & 4 & 7 & 2 \\\\\n",
       "\\end{tabular}\n"
      ],
      "text/plain": [
       "\u001b[1m10×3 DataFrame\u001b[0m\n",
       "\u001b[1m Row \u001b[0m│\u001b[1m ORDER \u001b[0m\u001b[1m SKU   \u001b[0m\u001b[1m QTY   \u001b[0m\n",
       "\u001b[1m     \u001b[0m│\u001b[90m Int64 \u001b[0m\u001b[90m Int64 \u001b[0m\u001b[90m Int64 \u001b[0m\n",
       "─────┼─────────────────────\n",
       "   1 │     1      2      4\n",
       "   2 │     1      8      1\n",
       "   3 │     2      2      4\n",
       "   4 │     2      4      3\n",
       "   5 │     2      6      5\n",
       "   6 │     2      8      1\n",
       "   7 │     3      5      2\n",
       "   8 │     3      6      6\n",
       "   9 │     4      1      3\n",
       "  10 │     4      7      2"
      ]
     },
     "execution_count": 17,
     "metadata": {},
     "output_type": "execute_result"
    }
   ],
   "source": [
    "first(df0,10)"
   ]
  },
  {
   "cell_type": "code",
   "execution_count": 18,
   "metadata": {},
   "outputs": [
    {
     "data": {
      "text/html": [
       "<div class=\"data-frame\"><p>2 rows × 7 columns</p><table class=\"data-frame\"><thead><tr><th></th><th>variable</th><th>mean</th><th>min</th><th>median</th><th>max</th><th>nmissing</th><th>eltype</th></tr><tr><th></th><th title=\"Symbol\">Symbol</th><th title=\"Float64\">Float64</th><th title=\"Real\">Real</th><th title=\"Float64\">Float64</th><th title=\"Real\">Real</th><th title=\"Int64\">Int64</th><th title=\"DataType\">DataType</th></tr></thead><tbody><tr><th>1</th><td>SKU</td><td>4.5</td><td>1</td><td>4.5</td><td>8</td><td>0</td><td>Int64</td></tr><tr><th>2</th><td>UNIT_COST</td><td>18.8825</td><td>8.45</td><td>17.1</td><td>36.24</td><td>0</td><td>Float64</td></tr></tbody></table></div>"
      ],
      "text/latex": [
       "\\begin{tabular}{r|ccccccc}\n",
       "\t& variable & mean & min & median & max & nmissing & eltype\\\\\n",
       "\t\\hline\n",
       "\t& Symbol & Float64 & Real & Float64 & Real & Int64 & DataType\\\\\n",
       "\t\\hline\n",
       "\t1 & SKU & 4.5 & 1 & 4.5 & 8 & 0 & Int64 \\\\\n",
       "\t2 & UNIT\\_COST & 18.8825 & 8.45 & 17.1 & 36.24 & 0 & Float64 \\\\\n",
       "\\end{tabular}\n"
      ],
      "text/plain": [
       "\u001b[1m2×7 DataFrame\u001b[0m\n",
       "\u001b[1m Row \u001b[0m│\u001b[1m variable  \u001b[0m\u001b[1m mean    \u001b[0m\u001b[1m min  \u001b[0m\u001b[1m median  \u001b[0m\u001b[1m max   \u001b[0m\u001b[1m nmissing \u001b[0m\u001b[1m eltype   \u001b[0m\n",
       "\u001b[1m     \u001b[0m│\u001b[90m Symbol    \u001b[0m\u001b[90m Float64 \u001b[0m\u001b[90m Real \u001b[0m\u001b[90m Float64 \u001b[0m\u001b[90m Real  \u001b[0m\u001b[90m Int64    \u001b[0m\u001b[90m DataType \u001b[0m\n",
       "─────┼──────────────────────────────────────────────────────────────\n",
       "   1 │ SKU         4.5     1         4.5   8            0  Int64\n",
       "   2 │ UNIT_COST  18.8825  8.45     17.1  36.24         0  Float64"
      ]
     },
     "execution_count": 18,
     "metadata": {},
     "output_type": "execute_result"
    }
   ],
   "source": [
    "# Creating a new dataframe of SKUs and Unit cost of each SKU\n",
    "UNIT_COST = [\"18.00\", \"15.75\", \"16.20\", \"12.24\", \"25.43\", \"36.24\", \"18.75\", \"8.45\"]\n",
    "SKUs = [1, 2, 3, 4, 5, 6, 7, 8]\n",
    "df1 = DataFrame(SKU = [1, 2, 3, 4, 5, 6, 7, 8],\n",
    "                UNIT_COST = [18.00, 15.75, 16.20, 12.24, 25.43, 36.24, 18.75, 8.45])\n",
    "describe(df1)"
   ]
  },
  {
   "cell_type": "code",
   "execution_count": 19,
   "metadata": {},
   "outputs": [
    {
     "data": {
      "text/html": [
       "<div class=\"data-frame\"><p>6 rows × 4 columns</p><table class=\"data-frame\"><thead><tr><th></th><th>ORDER</th><th>SKU</th><th>QTY</th><th>UNIT_COST</th></tr><tr><th></th><th title=\"Int64\">Int64</th><th title=\"Int64\">Int64</th><th title=\"Int64\">Int64</th><th title=\"Float64\">Float64</th></tr></thead><tbody><tr><th>1</th><td>1</td><td>2</td><td>4</td><td>15.75</td></tr><tr><th>2</th><td>1</td><td>8</td><td>1</td><td>8.45</td></tr><tr><th>3</th><td>2</td><td>2</td><td>4</td><td>15.75</td></tr><tr><th>4</th><td>2</td><td>4</td><td>3</td><td>12.24</td></tr><tr><th>5</th><td>2</td><td>6</td><td>5</td><td>36.24</td></tr><tr><th>6</th><td>2</td><td>8</td><td>1</td><td>8.45</td></tr></tbody></table></div>"
      ],
      "text/latex": [
       "\\begin{tabular}{r|cccc}\n",
       "\t& ORDER & SKU & QTY & UNIT\\_COST\\\\\n",
       "\t\\hline\n",
       "\t& Int64 & Int64 & Int64 & Float64\\\\\n",
       "\t\\hline\n",
       "\t1 & 1 & 2 & 4 & 15.75 \\\\\n",
       "\t2 & 1 & 8 & 1 & 8.45 \\\\\n",
       "\t3 & 2 & 2 & 4 & 15.75 \\\\\n",
       "\t4 & 2 & 4 & 3 & 12.24 \\\\\n",
       "\t5 & 2 & 6 & 5 & 36.24 \\\\\n",
       "\t6 & 2 & 8 & 1 & 8.45 \\\\\n",
       "\\end{tabular}\n"
      ],
      "text/plain": [
       "\u001b[1m6×4 DataFrame\u001b[0m\n",
       "\u001b[1m Row \u001b[0m│\u001b[1m ORDER \u001b[0m\u001b[1m SKU   \u001b[0m\u001b[1m QTY   \u001b[0m\u001b[1m UNIT_COST \u001b[0m\n",
       "\u001b[1m     \u001b[0m│\u001b[90m Int64 \u001b[0m\u001b[90m Int64 \u001b[0m\u001b[90m Int64 \u001b[0m\u001b[90m Float64   \u001b[0m\n",
       "─────┼────────────────────────────────\n",
       "   1 │     1      2      4      15.75\n",
       "   2 │     1      8      1       8.45\n",
       "   3 │     2      2      4      15.75\n",
       "   4 │     2      4      3      12.24\n",
       "   5 │     2      6      5      36.24\n",
       "   6 │     2      8      1       8.45"
      ]
     },
     "execution_count": 19,
     "metadata": {},
     "output_type": "execute_result"
    }
   ],
   "source": [
    "# A combined dataframe using inner-joint at SKUs feature column\n",
    "df = innerjoin(df0,df1,on=:SKU)\n",
    "first(df,6)"
   ]
  },
  {
   "cell_type": "code",
   "execution_count": 20,
   "metadata": {},
   "outputs": [
    {
     "name": "stdout",
     "output_type": "stream",
     "text": [
      "[INFO] Total number of unique orders in CSV file-->20"
     ]
    }
   ],
   "source": [
    "# Check unique orders in combined dataframe\n",
    "len = length(unique(df[!,:ORDER]))\n",
    "print(\"[INFO] Total number of unique orders in CSV file-->\", len)"
   ]
  },
  {
   "cell_type": "code",
   "execution_count": 21,
   "metadata": {},
   "outputs": [
    {
     "name": "stdout",
     "output_type": "stream",
     "text": [
      "[INFO] Final total price dataframe of each order...\n"
     ]
    },
    {
     "data": {
      "text/html": [
       "<div class=\"data-frame\"><p>20 rows × 2 columns</p><table class=\"data-frame\"><thead><tr><th></th><th>Order</th><th>TOTAL_PRICE</th></tr><tr><th></th><th title=\"Any\">Any</th><th title=\"Any\">Any</th></tr></thead><tbody><tr><th>1</th><td>1</td><td>71.45</td></tr><tr><th>2</th><td>2</td><td>289.37</td></tr><tr><th>3</th><td>3</td><td>268.3</td></tr><tr><th>4</th><td>4</td><td>91.5</td></tr><tr><th>5</th><td>5</td><td>24.48</td></tr><tr><th>6</th><td>6</td><td>132.48</td></tr><tr><th>7</th><td>7</td><td>16.2</td></tr><tr><th>8</th><td>8</td><td>443.33</td></tr><tr><th>9</th><td>9</td><td>50.86</td></tr><tr><th>10</th><td>10</td><td>389.02</td></tr><tr><th>11</th><td>11</td><td>318.21</td></tr><tr><th>12</th><td>12</td><td>67.76</td></tr><tr><th>13</th><td>13</td><td>293.73</td></tr><tr><th>14</th><td>14</td><td>253.68</td></tr><tr><th>15</th><td>15</td><td>24.65</td></tr><tr><th>16</th><td>16</td><td>148.29</td></tr><tr><th>17</th><td>17</td><td>16.2</td></tr><tr><th>18</th><td>18</td><td>122.86</td></tr><tr><th>19</th><td>19</td><td>74.9</td></tr><tr><th>20</th><td>20</td><td>37.5</td></tr></tbody></table></div>"
      ],
      "text/latex": [
       "\\begin{tabular}{r|cc}\n",
       "\t& Order & TOTAL\\_PRICE\\\\\n",
       "\t\\hline\n",
       "\t& Any & Any\\\\\n",
       "\t\\hline\n",
       "\t1 & 1 & 71.45 \\\\\n",
       "\t2 & 2 & 289.37 \\\\\n",
       "\t3 & 3 & 268.3 \\\\\n",
       "\t4 & 4 & 91.5 \\\\\n",
       "\t5 & 5 & 24.48 \\\\\n",
       "\t6 & 6 & 132.48 \\\\\n",
       "\t7 & 7 & 16.2 \\\\\n",
       "\t8 & 8 & 443.33 \\\\\n",
       "\t9 & 9 & 50.86 \\\\\n",
       "\t10 & 10 & 389.02 \\\\\n",
       "\t11 & 11 & 318.21 \\\\\n",
       "\t12 & 12 & 67.76 \\\\\n",
       "\t13 & 13 & 293.73 \\\\\n",
       "\t14 & 14 & 253.68 \\\\\n",
       "\t15 & 15 & 24.65 \\\\\n",
       "\t16 & 16 & 148.29 \\\\\n",
       "\t17 & 17 & 16.2 \\\\\n",
       "\t18 & 18 & 122.86 \\\\\n",
       "\t19 & 19 & 74.9 \\\\\n",
       "\t20 & 20 & 37.5 \\\\\n",
       "\\end{tabular}\n"
      ],
      "text/plain": [
       "\u001b[1m20×2 DataFrame\u001b[0m\n",
       "\u001b[1m Row \u001b[0m│\u001b[1m Order \u001b[0m\u001b[1m TOTAL_PRICE \u001b[0m\n",
       "\u001b[1m     \u001b[0m│\u001b[90m Any   \u001b[0m\u001b[90m Any         \u001b[0m\n",
       "─────┼────────────────────\n",
       "   1 │ 1      71.45\n",
       "   2 │ 2      289.37\n",
       "   3 │ 3      268.3\n",
       "   4 │ 4      91.5\n",
       "   5 │ 5      24.48\n",
       "   6 │ 6      132.48\n",
       "   7 │ 7      16.2\n",
       "   8 │ 8      443.33\n",
       "   9 │ 9      50.86\n",
       "  10 │ 10     389.02\n",
       "  11 │ 11     318.21\n",
       "  12 │ 12     67.76\n",
       "  13 │ 13     293.73\n",
       "  14 │ 14     253.68\n",
       "  15 │ 15     24.65\n",
       "  16 │ 16     148.29\n",
       "  17 │ 17     16.2\n",
       "  18 │ 18     122.86\n",
       "  19 │ 19     74.9\n",
       "  20 │ 20     37.5"
      ]
     },
     "execution_count": 21,
     "metadata": {},
     "output_type": "execute_result"
    }
   ],
   "source": [
    "# Iterating over all orders to calculate total price of each order SUM(QTY*UNIT COST)\n",
    "println(\"[INFO] Final total price dataframe of each order...\")\n",
    "TOTAL_PRICE = []\n",
    "ORDER = []\n",
    "for order in unique(df.ORDER)\n",
    "    append!(ORDER, Int64(order))\n",
    "    result = sum(df.QTY[df.ORDER.==order].*df.UNIT_COST[df.ORDER.==order])\n",
    "    append!(TOTAL_PRICE,Float64(result))\n",
    "end\n",
    "\n",
    "# Creating a new dataframe for the total cost \n",
    "finalDf = DataFrame(Order = ORDER,\n",
    "                    TOTAL_PRICE = TOTAL_PRICE)\n",
    "(finalDf)"
   ]
  },
  {
   "cell_type": "markdown",
   "metadata": {},
   "source": [
    "---\n",
    "__(3)__ Recommend the best model to use to predict demand using _Ex 3_ from _ML-2_. In addition to `Orders + Visitors` used in the example, also consider `Orders + Visitors + Orders*Visitors` and `Orders + Visitors + Orders*Visitors + Orders^2 + Visitors^2` as possible models. Justify your recommendation by explaining the criterion or criteria and the method you used to make your recommendation:\n",
    "\n",
    "__Recommendation:__  \n",
    "\n",
    "RMS value for Orders + Visitors + Orders*Visitors + Orders^2 + Visitors^2 model is approx 46, which is lowest in all cases. So\n",
    "for linear regression we should consider adding polynomial features of degree 2 in dataset.\n",
    "\n",
    "\n",
    "__Justification:__ \n",
    "\n",
    "This problem is related to Polynomial featuring in machine learning i.e creating new faetures by raising power of existing features (Orders + Visitors + Orders*Visitors, Orders + Visitors + Orders*Visitors + Orders^2 + Visitors^2). A squared and cube version of an input feature will cange the distribution and, creating a gap between small and large values. This separation will help ML models in better prediction. Generally linear regression and classification model do well with polynomial featuring.\n",
    "\n",
    "Adding Polynomial features is simple to implement and can go easy with any machine learning model. As the Bakery problem is not very complex dataset even a low polynomial feature can give good result with some hyperparameter tuning, however low polynomial feature can not deal with very complex datasets. Adding high polyomial degree (x^2, x^3, x^4...) can help model in better understanding of the dataset but adding high polynomial degree comes with a cost as it creates a huge number of features, making model too slow.\n",
    "\n",
    "Fortunately with Support Vector Machine (SVM) we can add these polynomial features by using kernel trick, which make it possible to train model with any high degree polynomial feature without actually adding it to the dataset. But in this problem I have used Decision Tree regression model for predictions."
   ]
  },
  {
   "cell_type": "code",
   "execution_count": 22,
   "metadata": {},
   "outputs": [
    {
     "data": {
      "text/html": [
       "<div class=\"data-frame\"><p>5 rows × 3 columns</p><table class=\"data-frame\"><thead><tr><th></th><th>Orders</th><th>Visitors</th><th>Demand</th></tr><tr><th></th><th title=\"Int64\">Int64</th><th title=\"Int64\">Int64</th><th title=\"Int64\">Int64</th></tr></thead><tbody><tr><th>1</th><td>399</td><td>160</td><td>434</td></tr><tr><th>2</th><td>128</td><td>96</td><td>224</td></tr><tr><th>3</th><td>84</td><td>100</td><td>220</td></tr><tr><th>4</th><td>239</td><td>33</td><td>361</td></tr><tr><th>5</th><td>22</td><td>30</td><td>72</td></tr></tbody></table></div>"
      ],
      "text/latex": [
       "\\begin{tabular}{r|ccc}\n",
       "\t& Orders & Visitors & Demand\\\\\n",
       "\t\\hline\n",
       "\t& Int64 & Int64 & Int64\\\\\n",
       "\t\\hline\n",
       "\t1 & 399 & 160 & 434 \\\\\n",
       "\t2 & 128 & 96 & 224 \\\\\n",
       "\t3 & 84 & 100 & 220 \\\\\n",
       "\t4 & 239 & 33 & 361 \\\\\n",
       "\t5 & 22 & 30 & 72 \\\\\n",
       "\\end{tabular}\n"
      ],
      "text/plain": [
       "\u001b[1m5×3 DataFrame\u001b[0m\n",
       "\u001b[1m Row \u001b[0m│\u001b[1m Orders \u001b[0m\u001b[1m Visitors \u001b[0m\u001b[1m Demand \u001b[0m\n",
       "\u001b[1m     \u001b[0m│\u001b[90m Int64  \u001b[0m\u001b[90m Int64    \u001b[0m\u001b[90m Int64  \u001b[0m\n",
       "─────┼──────────────────────────\n",
       "   1 │    399       160     434\n",
       "   2 │    128        96     224\n",
       "   3 │     84       100     220\n",
       "   4 │    239        33     361\n",
       "   5 │     22        30      72"
      ]
     },
     "execution_count": 22,
     "metadata": {},
     "output_type": "execute_result"
    }
   ],
   "source": [
    "using DataFrames,CSV, MLJ,MLJLinearModels\n",
    "file_path = \"ML-2-bakery.csv\"\n",
    "bakeryDf = DataFrame(CSV.File(file_path))\n",
    "first(bakeryDf,5)"
   ]
  },
  {
   "cell_type": "code",
   "execution_count": 23,
   "metadata": {},
   "outputs": [
    {
     "data": {
      "image/svg+xml": [
       "<?xml version=\"1.0\" encoding=\"utf-8\"?>\n",
       "<svg xmlns=\"http://www.w3.org/2000/svg\" xmlns:xlink=\"http://www.w3.org/1999/xlink\" width=\"600\" height=\"400\" viewBox=\"0 0 2400 1600\">\n",
       "<defs>\n",
       "  <clipPath id=\"clip300\">\n",
       "    <rect x=\"0\" y=\"0\" width=\"2400\" height=\"1600\"/>\n",
       "  </clipPath>\n",
       "</defs>\n",
       "<path clip-path=\"url(#clip300)\" d=\"\n",
       "M0 1600 L2400 1600 L2400 0 L0 0  Z\n",
       "  \" fill=\"#ffffff\" fill-rule=\"evenodd\" fill-opacity=\"1\"/>\n",
       "<defs>\n",
       "  <clipPath id=\"clip301\">\n",
       "    <rect x=\"480\" y=\"0\" width=\"1681\" height=\"1600\"/>\n",
       "  </clipPath>\n",
       "</defs>\n",
       "<path clip-path=\"url(#clip300)\" d=\"\n",
       "M235.283 1423.18 L2352.76 1423.18 L2352.76 123.472 L235.283 123.472  Z\n",
       "  \" fill=\"#ffffff\" fill-rule=\"evenodd\" fill-opacity=\"1\"/>\n",
       "<defs>\n",
       "  <clipPath id=\"clip302\">\n",
       "    <rect x=\"235\" y=\"123\" width=\"2118\" height=\"1301\"/>\n",
       "  </clipPath>\n",
       "</defs>\n",
       "<polyline clip-path=\"url(#clip302)\" style=\"stroke:#000000; stroke-linecap:butt; stroke-linejoin:round; stroke-width:2; stroke-opacity:0.1; fill:none\" points=\"\n",
       "  295.211,1423.18 295.211,123.472 \n",
       "  \"/>\n",
       "<polyline clip-path=\"url(#clip302)\" style=\"stroke:#000000; stroke-linecap:butt; stroke-linejoin:round; stroke-width:2; stroke-opacity:0.1; fill:none\" points=\"\n",
       "  364.095,1423.18 364.095,123.472 \n",
       "  \"/>\n",
       "<polyline clip-path=\"url(#clip302)\" style=\"stroke:#000000; stroke-linecap:butt; stroke-linejoin:round; stroke-width:2; stroke-opacity:0.1; fill:none\" points=\"\n",
       "  432.978,1423.18 432.978,123.472 \n",
       "  \"/>\n",
       "<polyline clip-path=\"url(#clip302)\" style=\"stroke:#000000; stroke-linecap:butt; stroke-linejoin:round; stroke-width:2; stroke-opacity:0.1; fill:none\" points=\"\n",
       "  501.861,1423.18 501.861,123.472 \n",
       "  \"/>\n",
       "<polyline clip-path=\"url(#clip302)\" style=\"stroke:#000000; stroke-linecap:butt; stroke-linejoin:round; stroke-width:2; stroke-opacity:0.1; fill:none\" points=\"\n",
       "  570.745,1423.18 570.745,123.472 \n",
       "  \"/>\n",
       "<polyline clip-path=\"url(#clip302)\" style=\"stroke:#000000; stroke-linecap:butt; stroke-linejoin:round; stroke-width:2; stroke-opacity:0.1; fill:none\" points=\"\n",
       "  639.628,1423.18 639.628,123.472 \n",
       "  \"/>\n",
       "<polyline clip-path=\"url(#clip302)\" style=\"stroke:#000000; stroke-linecap:butt; stroke-linejoin:round; stroke-width:2; stroke-opacity:0.1; fill:none\" points=\"\n",
       "  708.511,1423.18 708.511,123.472 \n",
       "  \"/>\n",
       "<polyline clip-path=\"url(#clip302)\" style=\"stroke:#000000; stroke-linecap:butt; stroke-linejoin:round; stroke-width:2; stroke-opacity:0.1; fill:none\" points=\"\n",
       "  777.395,1423.18 777.395,123.472 \n",
       "  \"/>\n",
       "<polyline clip-path=\"url(#clip302)\" style=\"stroke:#000000; stroke-linecap:butt; stroke-linejoin:round; stroke-width:2; stroke-opacity:0.1; fill:none\" points=\"\n",
       "  846.278,1423.18 846.278,123.472 \n",
       "  \"/>\n",
       "<polyline clip-path=\"url(#clip302)\" style=\"stroke:#000000; stroke-linecap:butt; stroke-linejoin:round; stroke-width:2; stroke-opacity:0.1; fill:none\" points=\"\n",
       "  915.161,1423.18 915.161,123.472 \n",
       "  \"/>\n",
       "<polyline clip-path=\"url(#clip302)\" style=\"stroke:#000000; stroke-linecap:butt; stroke-linejoin:round; stroke-width:2; stroke-opacity:0.1; fill:none\" points=\"\n",
       "  984.044,1423.18 984.044,123.472 \n",
       "  \"/>\n",
       "<polyline clip-path=\"url(#clip302)\" style=\"stroke:#000000; stroke-linecap:butt; stroke-linejoin:round; stroke-width:2; stroke-opacity:0.1; fill:none\" points=\"\n",
       "  1052.93,1423.18 1052.93,123.472 \n",
       "  \"/>\n",
       "<polyline clip-path=\"url(#clip302)\" style=\"stroke:#000000; stroke-linecap:butt; stroke-linejoin:round; stroke-width:2; stroke-opacity:0.1; fill:none\" points=\"\n",
       "  1121.81,1423.18 1121.81,123.472 \n",
       "  \"/>\n",
       "<polyline clip-path=\"url(#clip302)\" style=\"stroke:#000000; stroke-linecap:butt; stroke-linejoin:round; stroke-width:2; stroke-opacity:0.1; fill:none\" points=\"\n",
       "  1190.69,1423.18 1190.69,123.472 \n",
       "  \"/>\n",
       "<polyline clip-path=\"url(#clip302)\" style=\"stroke:#000000; stroke-linecap:butt; stroke-linejoin:round; stroke-width:2; stroke-opacity:0.1; fill:none\" points=\"\n",
       "  1259.58,1423.18 1259.58,123.472 \n",
       "  \"/>\n",
       "<polyline clip-path=\"url(#clip302)\" style=\"stroke:#000000; stroke-linecap:butt; stroke-linejoin:round; stroke-width:2; stroke-opacity:0.1; fill:none\" points=\"\n",
       "  1328.46,1423.18 1328.46,123.472 \n",
       "  \"/>\n",
       "<polyline clip-path=\"url(#clip302)\" style=\"stroke:#000000; stroke-linecap:butt; stroke-linejoin:round; stroke-width:2; stroke-opacity:0.1; fill:none\" points=\"\n",
       "  1397.34,1423.18 1397.34,123.472 \n",
       "  \"/>\n",
       "<polyline clip-path=\"url(#clip302)\" style=\"stroke:#000000; stroke-linecap:butt; stroke-linejoin:round; stroke-width:2; stroke-opacity:0.1; fill:none\" points=\"\n",
       "  1466.23,1423.18 1466.23,123.472 \n",
       "  \"/>\n",
       "<polyline clip-path=\"url(#clip302)\" style=\"stroke:#000000; stroke-linecap:butt; stroke-linejoin:round; stroke-width:2; stroke-opacity:0.1; fill:none\" points=\"\n",
       "  1535.11,1423.18 1535.11,123.472 \n",
       "  \"/>\n",
       "<polyline clip-path=\"url(#clip302)\" style=\"stroke:#000000; stroke-linecap:butt; stroke-linejoin:round; stroke-width:2; stroke-opacity:0.1; fill:none\" points=\"\n",
       "  1603.99,1423.18 1603.99,123.472 \n",
       "  \"/>\n",
       "<polyline clip-path=\"url(#clip302)\" style=\"stroke:#000000; stroke-linecap:butt; stroke-linejoin:round; stroke-width:2; stroke-opacity:0.1; fill:none\" points=\"\n",
       "  1672.88,1423.18 1672.88,123.472 \n",
       "  \"/>\n",
       "<polyline clip-path=\"url(#clip302)\" style=\"stroke:#000000; stroke-linecap:butt; stroke-linejoin:round; stroke-width:2; stroke-opacity:0.1; fill:none\" points=\"\n",
       "  1741.76,1423.18 1741.76,123.472 \n",
       "  \"/>\n",
       "<polyline clip-path=\"url(#clip302)\" style=\"stroke:#000000; stroke-linecap:butt; stroke-linejoin:round; stroke-width:2; stroke-opacity:0.1; fill:none\" points=\"\n",
       "  1810.64,1423.18 1810.64,123.472 \n",
       "  \"/>\n",
       "<polyline clip-path=\"url(#clip302)\" style=\"stroke:#000000; stroke-linecap:butt; stroke-linejoin:round; stroke-width:2; stroke-opacity:0.1; fill:none\" points=\"\n",
       "  1879.53,1423.18 1879.53,123.472 \n",
       "  \"/>\n",
       "<polyline clip-path=\"url(#clip302)\" style=\"stroke:#000000; stroke-linecap:butt; stroke-linejoin:round; stroke-width:2; stroke-opacity:0.1; fill:none\" points=\"\n",
       "  1948.41,1423.18 1948.41,123.472 \n",
       "  \"/>\n",
       "<polyline clip-path=\"url(#clip302)\" style=\"stroke:#000000; stroke-linecap:butt; stroke-linejoin:round; stroke-width:2; stroke-opacity:0.1; fill:none\" points=\"\n",
       "  2017.29,1423.18 2017.29,123.472 \n",
       "  \"/>\n",
       "<polyline clip-path=\"url(#clip302)\" style=\"stroke:#000000; stroke-linecap:butt; stroke-linejoin:round; stroke-width:2; stroke-opacity:0.1; fill:none\" points=\"\n",
       "  2086.18,1423.18 2086.18,123.472 \n",
       "  \"/>\n",
       "<polyline clip-path=\"url(#clip302)\" style=\"stroke:#000000; stroke-linecap:butt; stroke-linejoin:round; stroke-width:2; stroke-opacity:0.1; fill:none\" points=\"\n",
       "  2155.06,1423.18 2155.06,123.472 \n",
       "  \"/>\n",
       "<polyline clip-path=\"url(#clip302)\" style=\"stroke:#000000; stroke-linecap:butt; stroke-linejoin:round; stroke-width:2; stroke-opacity:0.1; fill:none\" points=\"\n",
       "  2223.94,1423.18 2223.94,123.472 \n",
       "  \"/>\n",
       "<polyline clip-path=\"url(#clip302)\" style=\"stroke:#000000; stroke-linecap:butt; stroke-linejoin:round; stroke-width:2; stroke-opacity:0.1; fill:none\" points=\"\n",
       "  2292.83,1423.18 2292.83,123.472 \n",
       "  \"/>\n",
       "<polyline clip-path=\"url(#clip300)\" style=\"stroke:#000000; stroke-linecap:butt; stroke-linejoin:round; stroke-width:4; stroke-opacity:1; fill:none\" points=\"\n",
       "  235.283,1423.18 2352.76,1423.18 \n",
       "  \"/>\n",
       "<polyline clip-path=\"url(#clip300)\" style=\"stroke:#000000; stroke-linecap:butt; stroke-linejoin:round; stroke-width:4; stroke-opacity:1; fill:none\" points=\"\n",
       "  295.211,1423.18 295.211,1404.28 \n",
       "  \"/>\n",
       "<polyline clip-path=\"url(#clip300)\" style=\"stroke:#000000; stroke-linecap:butt; stroke-linejoin:round; stroke-width:4; stroke-opacity:1; fill:none\" points=\"\n",
       "  364.095,1423.18 364.095,1404.28 \n",
       "  \"/>\n",
       "<polyline clip-path=\"url(#clip300)\" style=\"stroke:#000000; stroke-linecap:butt; stroke-linejoin:round; stroke-width:4; stroke-opacity:1; fill:none\" points=\"\n",
       "  432.978,1423.18 432.978,1404.28 \n",
       "  \"/>\n",
       "<polyline clip-path=\"url(#clip300)\" style=\"stroke:#000000; stroke-linecap:butt; stroke-linejoin:round; stroke-width:4; stroke-opacity:1; fill:none\" points=\"\n",
       "  501.861,1423.18 501.861,1404.28 \n",
       "  \"/>\n",
       "<polyline clip-path=\"url(#clip300)\" style=\"stroke:#000000; stroke-linecap:butt; stroke-linejoin:round; stroke-width:4; stroke-opacity:1; fill:none\" points=\"\n",
       "  570.745,1423.18 570.745,1404.28 \n",
       "  \"/>\n",
       "<polyline clip-path=\"url(#clip300)\" style=\"stroke:#000000; stroke-linecap:butt; stroke-linejoin:round; stroke-width:4; stroke-opacity:1; fill:none\" points=\"\n",
       "  639.628,1423.18 639.628,1404.28 \n",
       "  \"/>\n",
       "<polyline clip-path=\"url(#clip300)\" style=\"stroke:#000000; stroke-linecap:butt; stroke-linejoin:round; stroke-width:4; stroke-opacity:1; fill:none\" points=\"\n",
       "  708.511,1423.18 708.511,1404.28 \n",
       "  \"/>\n",
       "<polyline clip-path=\"url(#clip300)\" style=\"stroke:#000000; stroke-linecap:butt; stroke-linejoin:round; stroke-width:4; stroke-opacity:1; fill:none\" points=\"\n",
       "  777.395,1423.18 777.395,1404.28 \n",
       "  \"/>\n",
       "<polyline clip-path=\"url(#clip300)\" style=\"stroke:#000000; stroke-linecap:butt; stroke-linejoin:round; stroke-width:4; stroke-opacity:1; fill:none\" points=\"\n",
       "  846.278,1423.18 846.278,1404.28 \n",
       "  \"/>\n",
       "<polyline clip-path=\"url(#clip300)\" style=\"stroke:#000000; stroke-linecap:butt; stroke-linejoin:round; stroke-width:4; stroke-opacity:1; fill:none\" points=\"\n",
       "  915.161,1423.18 915.161,1404.28 \n",
       "  \"/>\n",
       "<polyline clip-path=\"url(#clip300)\" style=\"stroke:#000000; stroke-linecap:butt; stroke-linejoin:round; stroke-width:4; stroke-opacity:1; fill:none\" points=\"\n",
       "  984.044,1423.18 984.044,1404.28 \n",
       "  \"/>\n",
       "<polyline clip-path=\"url(#clip300)\" style=\"stroke:#000000; stroke-linecap:butt; stroke-linejoin:round; stroke-width:4; stroke-opacity:1; fill:none\" points=\"\n",
       "  1052.93,1423.18 1052.93,1404.28 \n",
       "  \"/>\n",
       "<polyline clip-path=\"url(#clip300)\" style=\"stroke:#000000; stroke-linecap:butt; stroke-linejoin:round; stroke-width:4; stroke-opacity:1; fill:none\" points=\"\n",
       "  1121.81,1423.18 1121.81,1404.28 \n",
       "  \"/>\n",
       "<polyline clip-path=\"url(#clip300)\" style=\"stroke:#000000; stroke-linecap:butt; stroke-linejoin:round; stroke-width:4; stroke-opacity:1; fill:none\" points=\"\n",
       "  1190.69,1423.18 1190.69,1404.28 \n",
       "  \"/>\n",
       "<polyline clip-path=\"url(#clip300)\" style=\"stroke:#000000; stroke-linecap:butt; stroke-linejoin:round; stroke-width:4; stroke-opacity:1; fill:none\" points=\"\n",
       "  1259.58,1423.18 1259.58,1404.28 \n",
       "  \"/>\n",
       "<polyline clip-path=\"url(#clip300)\" style=\"stroke:#000000; stroke-linecap:butt; stroke-linejoin:round; stroke-width:4; stroke-opacity:1; fill:none\" points=\"\n",
       "  1328.46,1423.18 1328.46,1404.28 \n",
       "  \"/>\n",
       "<polyline clip-path=\"url(#clip300)\" style=\"stroke:#000000; stroke-linecap:butt; stroke-linejoin:round; stroke-width:4; stroke-opacity:1; fill:none\" points=\"\n",
       "  1397.34,1423.18 1397.34,1404.28 \n",
       "  \"/>\n",
       "<polyline clip-path=\"url(#clip300)\" style=\"stroke:#000000; stroke-linecap:butt; stroke-linejoin:round; stroke-width:4; stroke-opacity:1; fill:none\" points=\"\n",
       "  1466.23,1423.18 1466.23,1404.28 \n",
       "  \"/>\n",
       "<polyline clip-path=\"url(#clip300)\" style=\"stroke:#000000; stroke-linecap:butt; stroke-linejoin:round; stroke-width:4; stroke-opacity:1; fill:none\" points=\"\n",
       "  1535.11,1423.18 1535.11,1404.28 \n",
       "  \"/>\n",
       "<polyline clip-path=\"url(#clip300)\" style=\"stroke:#000000; stroke-linecap:butt; stroke-linejoin:round; stroke-width:4; stroke-opacity:1; fill:none\" points=\"\n",
       "  1603.99,1423.18 1603.99,1404.28 \n",
       "  \"/>\n",
       "<polyline clip-path=\"url(#clip300)\" style=\"stroke:#000000; stroke-linecap:butt; stroke-linejoin:round; stroke-width:4; stroke-opacity:1; fill:none\" points=\"\n",
       "  1672.88,1423.18 1672.88,1404.28 \n",
       "  \"/>\n",
       "<polyline clip-path=\"url(#clip300)\" style=\"stroke:#000000; stroke-linecap:butt; stroke-linejoin:round; stroke-width:4; stroke-opacity:1; fill:none\" points=\"\n",
       "  1741.76,1423.18 1741.76,1404.28 \n",
       "  \"/>\n",
       "<polyline clip-path=\"url(#clip300)\" style=\"stroke:#000000; stroke-linecap:butt; stroke-linejoin:round; stroke-width:4; stroke-opacity:1; fill:none\" points=\"\n",
       "  1810.64,1423.18 1810.64,1404.28 \n",
       "  \"/>\n",
       "<polyline clip-path=\"url(#clip300)\" style=\"stroke:#000000; stroke-linecap:butt; stroke-linejoin:round; stroke-width:4; stroke-opacity:1; fill:none\" points=\"\n",
       "  1879.53,1423.18 1879.53,1404.28 \n",
       "  \"/>\n",
       "<polyline clip-path=\"url(#clip300)\" style=\"stroke:#000000; stroke-linecap:butt; stroke-linejoin:round; stroke-width:4; stroke-opacity:1; fill:none\" points=\"\n",
       "  1948.41,1423.18 1948.41,1404.28 \n",
       "  \"/>\n",
       "<polyline clip-path=\"url(#clip300)\" style=\"stroke:#000000; stroke-linecap:butt; stroke-linejoin:round; stroke-width:4; stroke-opacity:1; fill:none\" points=\"\n",
       "  2017.29,1423.18 2017.29,1404.28 \n",
       "  \"/>\n",
       "<polyline clip-path=\"url(#clip300)\" style=\"stroke:#000000; stroke-linecap:butt; stroke-linejoin:round; stroke-width:4; stroke-opacity:1; fill:none\" points=\"\n",
       "  2086.18,1423.18 2086.18,1404.28 \n",
       "  \"/>\n",
       "<polyline clip-path=\"url(#clip300)\" style=\"stroke:#000000; stroke-linecap:butt; stroke-linejoin:round; stroke-width:4; stroke-opacity:1; fill:none\" points=\"\n",
       "  2155.06,1423.18 2155.06,1404.28 \n",
       "  \"/>\n",
       "<polyline clip-path=\"url(#clip300)\" style=\"stroke:#000000; stroke-linecap:butt; stroke-linejoin:round; stroke-width:4; stroke-opacity:1; fill:none\" points=\"\n",
       "  2223.94,1423.18 2223.94,1404.28 \n",
       "  \"/>\n",
       "<polyline clip-path=\"url(#clip300)\" style=\"stroke:#000000; stroke-linecap:butt; stroke-linejoin:round; stroke-width:4; stroke-opacity:1; fill:none\" points=\"\n",
       "  2292.83,1423.18 2292.83,1404.28 \n",
       "  \"/>\n",
       "<path clip-path=\"url(#clip300)\" d=\"M285.593 1479.92 L293.232 1479.92 L293.232 1453.55 L284.922 1455.22 L284.922 1450.96 L293.186 1449.29 L297.862 1449.29 L297.862 1479.92 L305.501 1479.92 L305.501 1483.85 L285.593 1483.85 L285.593 1479.92 Z\" fill=\"#000000\" fill-rule=\"evenodd\" fill-opacity=\"1\" /><path clip-path=\"url(#clip300)\" d=\"M358.747 1479.92 L375.067 1479.92 L375.067 1483.85 L353.122 1483.85 L353.122 1479.92 Q355.785 1477.16 360.368 1472.53 Q364.974 1467.88 366.155 1466.54 Q368.4 1464.01 369.28 1462.28 Q370.183 1460.52 370.183 1458.83 Q370.183 1456.07 368.238 1454.34 Q366.317 1452.6 363.215 1452.6 Q361.016 1452.6 358.562 1453.37 Q356.132 1454.13 353.354 1455.68 L353.354 1450.96 Q356.178 1449.82 358.632 1449.25 Q361.085 1448.67 363.122 1448.67 Q368.493 1448.67 371.687 1451.35 Q374.882 1454.04 374.882 1458.53 Q374.882 1460.66 374.071 1462.58 Q373.284 1464.48 371.178 1467.07 Q370.599 1467.74 367.497 1470.96 Q364.396 1474.15 358.747 1479.92 Z\" fill=\"#000000\" fill-rule=\"evenodd\" fill-opacity=\"1\" /><path clip-path=\"url(#clip300)\" d=\"M437.226 1465.22 Q440.582 1465.94 442.457 1468.2 Q444.355 1470.47 444.355 1473.81 Q444.355 1478.92 440.837 1481.72 Q437.318 1484.52 430.837 1484.52 Q428.661 1484.52 426.346 1484.08 Q424.054 1483.67 421.601 1482.81 L421.601 1478.3 Q423.545 1479.43 425.86 1480.01 Q428.175 1480.59 430.698 1480.59 Q435.096 1480.59 437.388 1478.85 Q439.702 1477.12 439.702 1473.81 Q439.702 1470.75 437.55 1469.04 Q435.42 1467.3 431.601 1467.3 L427.573 1467.3 L427.573 1463.46 L431.786 1463.46 Q435.235 1463.46 437.064 1462.09 Q438.892 1460.7 438.892 1458.11 Q438.892 1455.45 436.994 1454.04 Q435.119 1452.6 431.601 1452.6 Q429.679 1452.6 427.48 1453.02 Q425.281 1453.44 422.642 1454.31 L422.642 1450.15 Q425.304 1449.41 427.619 1449.04 Q429.957 1448.67 432.017 1448.67 Q437.341 1448.67 440.443 1451.1 Q443.545 1453.5 443.545 1457.63 Q443.545 1460.5 441.902 1462.49 Q440.258 1464.45 437.226 1465.22 Z\" fill=\"#000000\" fill-rule=\"evenodd\" fill-opacity=\"1\" /><path clip-path=\"url(#clip300)\" d=\"M504.871 1453.37 L493.065 1471.81 L504.871 1471.81 L504.871 1453.37 M503.644 1449.29 L509.523 1449.29 L509.523 1471.81 L514.454 1471.81 L514.454 1475.7 L509.523 1475.7 L509.523 1483.85 L504.871 1483.85 L504.871 1475.7 L489.269 1475.7 L489.269 1471.19 L503.644 1449.29 Z\" fill=\"#000000\" fill-rule=\"evenodd\" fill-opacity=\"1\" /><path clip-path=\"url(#clip300)\" d=\"M561.022 1449.29 L579.379 1449.29 L579.379 1453.23 L565.305 1453.23 L565.305 1461.7 Q566.323 1461.35 567.342 1461.19 Q568.36 1461 569.379 1461 Q575.166 1461 578.545 1464.18 Q581.925 1467.35 581.925 1472.76 Q581.925 1478.34 578.453 1481.44 Q574.981 1484.52 568.661 1484.52 Q566.485 1484.52 564.217 1484.15 Q561.971 1483.78 559.564 1483.04 L559.564 1478.34 Q561.647 1479.48 563.87 1480.03 Q566.092 1480.59 568.569 1480.59 Q572.573 1480.59 574.911 1478.48 Q577.249 1476.38 577.249 1472.76 Q577.249 1469.15 574.911 1467.05 Q572.573 1464.94 568.569 1464.94 Q566.694 1464.94 564.819 1465.36 Q562.967 1465.77 561.022 1466.65 L561.022 1449.29 Z\" fill=\"#000000\" fill-rule=\"evenodd\" fill-opacity=\"1\" /><path clip-path=\"url(#clip300)\" d=\"M640.033 1464.71 Q636.885 1464.71 635.033 1466.86 Q633.204 1469.01 633.204 1472.76 Q633.204 1476.49 635.033 1478.67 Q636.885 1480.82 640.033 1480.82 Q643.181 1480.82 645.01 1478.67 Q646.862 1476.49 646.862 1472.76 Q646.862 1469.01 645.01 1466.86 Q643.181 1464.71 640.033 1464.71 M649.315 1450.06 L649.315 1454.31 Q647.556 1453.48 645.751 1453.04 Q643.968 1452.6 642.209 1452.6 Q637.579 1452.6 635.126 1455.73 Q632.695 1458.85 632.348 1465.17 Q633.714 1463.16 635.774 1462.09 Q637.834 1461 640.311 1461 Q645.519 1461 648.528 1464.18 Q651.561 1467.32 651.561 1472.76 Q651.561 1478.09 648.413 1481.31 Q645.264 1484.52 640.033 1484.52 Q634.038 1484.52 630.866 1479.94 Q627.695 1475.33 627.695 1466.61 Q627.695 1458.41 631.584 1453.55 Q635.473 1448.67 642.024 1448.67 Q643.783 1448.67 645.565 1449.01 Q647.371 1449.36 649.315 1450.06 Z\" fill=\"#000000\" fill-rule=\"evenodd\" fill-opacity=\"1\" /><path clip-path=\"url(#clip300)\" d=\"M697.4 1449.29 L719.622 1449.29 L719.622 1451.28 L707.076 1483.85 L702.192 1483.85 L713.997 1453.23 L697.4 1453.23 L697.4 1449.29 Z\" fill=\"#000000\" fill-rule=\"evenodd\" fill-opacity=\"1\" /><path clip-path=\"url(#clip300)\" d=\"M777.395 1467.44 Q774.061 1467.44 772.14 1469.22 Q770.242 1471 770.242 1474.13 Q770.242 1477.25 772.14 1479.04 Q774.061 1480.82 777.395 1480.82 Q780.728 1480.82 782.649 1479.04 Q784.57 1477.23 784.57 1474.13 Q784.57 1471 782.649 1469.22 Q780.751 1467.44 777.395 1467.44 M772.719 1465.45 Q769.709 1464.71 768.02 1462.65 Q766.353 1460.59 766.353 1457.63 Q766.353 1453.48 769.293 1451.07 Q772.256 1448.67 777.395 1448.67 Q782.557 1448.67 785.496 1451.07 Q788.436 1453.48 788.436 1457.63 Q788.436 1460.59 786.746 1462.65 Q785.08 1464.71 782.094 1465.45 Q785.473 1466.24 787.348 1468.53 Q789.246 1470.82 789.246 1474.13 Q789.246 1479.15 786.168 1481.84 Q783.112 1484.52 777.395 1484.52 Q771.677 1484.52 768.598 1481.84 Q765.543 1479.15 765.543 1474.13 Q765.543 1470.82 767.441 1468.53 Q769.339 1466.24 772.719 1465.45 M771.006 1458.06 Q771.006 1460.75 772.672 1462.25 Q774.362 1463.76 777.395 1463.76 Q780.404 1463.76 782.094 1462.25 Q783.807 1460.75 783.807 1458.06 Q783.807 1455.38 782.094 1453.88 Q780.404 1452.37 777.395 1452.37 Q774.362 1452.37 772.672 1453.88 Q771.006 1455.38 771.006 1458.06 Z\" fill=\"#000000\" fill-rule=\"evenodd\" fill-opacity=\"1\" /><path clip-path=\"url(#clip300)\" d=\"M836.579 1483.13 L836.579 1478.88 Q838.338 1479.71 840.144 1480.15 Q841.949 1480.59 843.685 1480.59 Q848.315 1480.59 850.745 1477.49 Q853.199 1474.36 853.546 1468.02 Q852.204 1470.01 850.144 1471.07 Q848.083 1472.14 845.583 1472.14 Q840.398 1472.14 837.366 1469.01 Q834.357 1465.87 834.357 1460.43 Q834.357 1455.1 837.505 1451.88 Q840.653 1448.67 845.884 1448.67 Q851.88 1448.67 855.028 1453.27 Q858.199 1457.86 858.199 1466.61 Q858.199 1474.78 854.31 1479.66 Q850.444 1484.52 843.894 1484.52 Q842.134 1484.52 840.329 1484.18 Q838.523 1483.83 836.579 1483.13 M845.884 1468.48 Q849.032 1468.48 850.861 1466.33 Q852.713 1464.18 852.713 1460.43 Q852.713 1456.7 850.861 1454.55 Q849.032 1452.37 845.884 1452.37 Q842.736 1452.37 840.884 1454.55 Q839.056 1456.7 839.056 1460.43 Q839.056 1464.18 840.884 1466.33 Q842.736 1468.48 845.884 1468.48 Z\" fill=\"#000000\" fill-rule=\"evenodd\" fill-opacity=\"1\" /><path clip-path=\"url(#clip300)\" d=\"M889.849 1479.92 L897.488 1479.92 L897.488 1453.55 L889.177 1455.22 L889.177 1450.96 L897.441 1449.29 L902.117 1449.29 L902.117 1479.92 L909.756 1479.92 L909.756 1483.85 L889.849 1483.85 L889.849 1479.92 Z\" fill=\"#000000\" fill-rule=\"evenodd\" fill-opacity=\"1\" /><path clip-path=\"url(#clip300)\" d=\"M929.2 1452.37 Q925.589 1452.37 923.761 1455.94 Q921.955 1459.48 921.955 1466.61 Q921.955 1473.71 923.761 1477.28 Q925.589 1480.82 929.2 1480.82 Q932.835 1480.82 934.64 1477.28 Q936.469 1473.71 936.469 1466.61 Q936.469 1459.48 934.64 1455.94 Q932.835 1452.37 929.2 1452.37 M929.2 1448.67 Q935.011 1448.67 938.066 1453.27 Q941.145 1457.86 941.145 1466.61 Q941.145 1475.33 938.066 1479.94 Q935.011 1484.52 929.2 1484.52 Q923.39 1484.52 920.312 1479.94 Q917.256 1475.33 917.256 1466.61 Q917.256 1457.86 920.312 1453.27 Q923.39 1448.67 929.2 1448.67 Z\" fill=\"#000000\" fill-rule=\"evenodd\" fill-opacity=\"1\" /><path clip-path=\"url(#clip300)\" d=\"M959.346 1479.92 L966.984 1479.92 L966.984 1453.55 L958.674 1455.22 L958.674 1450.96 L966.938 1449.29 L971.614 1449.29 L971.614 1479.92 L979.253 1479.92 L979.253 1483.85 L959.346 1483.85 L959.346 1479.92 Z\" fill=\"#000000\" fill-rule=\"evenodd\" fill-opacity=\"1\" /><path clip-path=\"url(#clip300)\" d=\"M989.507 1479.92 L997.146 1479.92 L997.146 1453.55 L988.836 1455.22 L988.836 1450.96 L997.1 1449.29 L1001.78 1449.29 L1001.78 1479.92 L1009.41 1479.92 L1009.41 1483.85 L989.507 1483.85 L989.507 1479.92 Z\" fill=\"#000000\" fill-rule=\"evenodd\" fill-opacity=\"1\" /><path clip-path=\"url(#clip300)\" d=\"M1028.41 1479.92 L1036.05 1479.92 L1036.05 1453.55 L1027.74 1455.22 L1027.74 1450.96 L1036.01 1449.29 L1040.68 1449.29 L1040.68 1479.92 L1048.32 1479.92 L1048.32 1483.85 L1028.41 1483.85 L1028.41 1479.92 Z\" fill=\"#000000\" fill-rule=\"evenodd\" fill-opacity=\"1\" /><path clip-path=\"url(#clip300)\" d=\"M1061.79 1479.92 L1078.11 1479.92 L1078.11 1483.85 L1056.17 1483.85 L1056.17 1479.92 Q1058.83 1477.16 1063.41 1472.53 Q1068.02 1467.88 1069.2 1466.54 Q1071.45 1464.01 1072.33 1462.28 Q1073.23 1460.52 1073.23 1458.83 Q1073.23 1456.07 1071.28 1454.34 Q1069.36 1452.6 1066.26 1452.6 Q1064.06 1452.6 1061.61 1453.37 Q1059.18 1454.13 1056.4 1455.68 L1056.4 1450.96 Q1059.22 1449.82 1061.68 1449.25 Q1064.13 1448.67 1066.17 1448.67 Q1071.54 1448.67 1074.73 1451.35 Q1077.93 1454.04 1077.93 1458.53 Q1077.93 1460.66 1077.12 1462.58 Q1076.33 1464.48 1074.22 1467.07 Q1073.65 1467.74 1070.54 1470.96 Q1067.44 1474.15 1061.79 1479.92 Z\" fill=\"#000000\" fill-rule=\"evenodd\" fill-opacity=\"1\" /><path clip-path=\"url(#clip300)\" d=\"M1096.82 1479.92 L1104.46 1479.92 L1104.46 1453.55 L1096.15 1455.22 L1096.15 1450.96 L1104.42 1449.29 L1109.09 1449.29 L1109.09 1479.92 L1116.73 1479.92 L1116.73 1483.85 L1096.82 1483.85 L1096.82 1479.92 Z\" fill=\"#000000\" fill-rule=\"evenodd\" fill-opacity=\"1\" /><path clip-path=\"url(#clip300)\" d=\"M1140.34 1465.22 Q1143.7 1465.94 1145.57 1468.2 Q1147.47 1470.47 1147.47 1473.81 Q1147.47 1478.92 1143.95 1481.72 Q1140.43 1484.52 1133.95 1484.52 Q1131.78 1484.52 1129.46 1484.08 Q1127.17 1483.67 1124.72 1482.81 L1124.72 1478.3 Q1126.66 1479.43 1128.98 1480.01 Q1131.29 1480.59 1133.81 1480.59 Q1138.21 1480.59 1140.5 1478.85 Q1142.82 1477.12 1142.82 1473.81 Q1142.82 1470.75 1140.67 1469.04 Q1138.54 1467.3 1134.72 1467.3 L1130.69 1467.3 L1130.69 1463.46 L1134.9 1463.46 Q1138.35 1463.46 1140.18 1462.09 Q1142.01 1460.7 1142.01 1458.11 Q1142.01 1455.45 1140.11 1454.04 Q1138.23 1452.6 1134.72 1452.6 Q1132.79 1452.6 1130.6 1453.02 Q1128.4 1453.44 1125.76 1454.31 L1125.76 1450.15 Q1128.42 1449.41 1130.73 1449.04 Q1133.07 1448.67 1135.13 1448.67 Q1140.46 1448.67 1143.56 1451.1 Q1146.66 1453.5 1146.66 1457.63 Q1146.66 1460.5 1145.02 1462.49 Q1143.37 1464.45 1140.34 1465.22 Z\" fill=\"#000000\" fill-rule=\"evenodd\" fill-opacity=\"1\" /><path clip-path=\"url(#clip300)\" d=\"M1165.14 1479.92 L1172.78 1479.92 L1172.78 1453.55 L1164.47 1455.22 L1164.47 1450.96 L1172.73 1449.29 L1177.41 1449.29 L1177.41 1479.92 L1185.05 1479.92 L1185.05 1483.85 L1165.14 1483.85 L1165.14 1479.92 Z\" fill=\"#000000\" fill-rule=\"evenodd\" fill-opacity=\"1\" /><path clip-path=\"url(#clip300)\" d=\"M1207.34 1453.37 L1195.53 1471.81 L1207.34 1471.81 L1207.34 1453.37 M1206.11 1449.29 L1211.99 1449.29 L1211.99 1471.81 L1216.92 1471.81 L1216.92 1475.7 L1211.99 1475.7 L1211.99 1483.85 L1207.34 1483.85 L1207.34 1475.7 L1191.74 1475.7 L1191.74 1471.19 L1206.11 1449.29 Z\" fill=\"#000000\" fill-rule=\"evenodd\" fill-opacity=\"1\" /><path clip-path=\"url(#clip300)\" d=\"M1234.76 1479.92 L1242.4 1479.92 L1242.4 1453.55 L1234.09 1455.22 L1234.09 1450.96 L1242.36 1449.29 L1247.03 1449.29 L1247.03 1479.92 L1254.67 1479.92 L1254.67 1483.85 L1234.76 1483.85 L1234.76 1479.92 Z\" fill=\"#000000\" fill-rule=\"evenodd\" fill-opacity=\"1\" /><path clip-path=\"url(#clip300)\" d=\"M1264.16 1449.29 L1282.52 1449.29 L1282.52 1453.23 L1268.44 1453.23 L1268.44 1461.7 Q1269.46 1461.35 1270.48 1461.19 Q1271.5 1461 1272.52 1461 Q1278.3 1461 1281.68 1464.18 Q1285.06 1467.35 1285.06 1472.76 Q1285.06 1478.34 1281.59 1481.44 Q1278.12 1484.52 1271.8 1484.52 Q1269.62 1484.52 1267.36 1484.15 Q1265.11 1483.78 1262.7 1483.04 L1262.7 1478.34 Q1264.79 1479.48 1267.01 1480.03 Q1269.23 1480.59 1271.71 1480.59 Q1275.71 1480.59 1278.05 1478.48 Q1280.39 1476.38 1280.39 1472.76 Q1280.39 1469.15 1278.05 1467.05 Q1275.71 1464.94 1271.71 1464.94 Q1269.83 1464.94 1267.96 1465.36 Q1266.11 1465.77 1264.16 1466.65 L1264.16 1449.29 Z\" fill=\"#000000\" fill-rule=\"evenodd\" fill-opacity=\"1\" /><path clip-path=\"url(#clip300)\" d=\"M1303.07 1479.92 L1310.71 1479.92 L1310.71 1453.55 L1302.4 1455.22 L1302.4 1450.96 L1310.66 1449.29 L1315.34 1449.29 L1315.34 1479.92 L1322.97 1479.92 L1322.97 1483.85 L1303.07 1483.85 L1303.07 1479.92 Z\" fill=\"#000000\" fill-rule=\"evenodd\" fill-opacity=\"1\" /><path clip-path=\"url(#clip300)\" d=\"M1343 1464.71 Q1339.85 1464.71 1338 1466.86 Q1336.17 1469.01 1336.17 1472.76 Q1336.17 1476.49 1338 1478.67 Q1339.85 1480.82 1343 1480.82 Q1346.15 1480.82 1347.97 1478.67 Q1349.83 1476.49 1349.83 1472.76 Q1349.83 1469.01 1347.97 1466.86 Q1346.15 1464.71 1343 1464.71 M1352.28 1450.06 L1352.28 1454.31 Q1350.52 1453.48 1348.72 1453.04 Q1346.93 1452.6 1345.17 1452.6 Q1340.54 1452.6 1338.09 1455.73 Q1335.66 1458.85 1335.31 1465.17 Q1336.68 1463.16 1338.74 1462.09 Q1340.8 1461 1343.28 1461 Q1348.48 1461 1351.49 1464.18 Q1354.53 1467.32 1354.53 1472.76 Q1354.53 1478.09 1351.38 1481.31 Q1348.23 1484.52 1343 1484.52 Q1337 1484.52 1333.83 1479.94 Q1330.66 1475.33 1330.66 1466.61 Q1330.66 1458.41 1334.55 1453.55 Q1338.44 1448.67 1344.99 1448.67 Q1346.75 1448.67 1348.53 1449.01 Q1350.34 1449.36 1352.28 1450.06 Z\" fill=\"#000000\" fill-rule=\"evenodd\" fill-opacity=\"1\" /><path clip-path=\"url(#clip300)\" d=\"M1372.48 1479.92 L1380.12 1479.92 L1380.12 1453.55 L1371.81 1455.22 L1371.81 1450.96 L1380.08 1449.29 L1384.75 1449.29 L1384.75 1479.92 L1392.39 1479.92 L1392.39 1483.85 L1372.48 1483.85 L1372.48 1479.92 Z\" fill=\"#000000\" fill-rule=\"evenodd\" fill-opacity=\"1\" /><path clip-path=\"url(#clip300)\" d=\"M1400.65 1449.29 L1422.88 1449.29 L1422.88 1451.28 L1410.33 1483.85 L1405.45 1483.85 L1417.25 1453.23 L1400.65 1453.23 L1400.65 1449.29 Z\" fill=\"#000000\" fill-rule=\"evenodd\" fill-opacity=\"1\" /><path clip-path=\"url(#clip300)\" d=\"M1440.96 1479.92 L1448.6 1479.92 L1448.6 1453.55 L1440.29 1455.22 L1440.29 1450.96 L1448.55 1449.29 L1453.23 1449.29 L1453.23 1479.92 L1460.87 1479.92 L1460.87 1483.85 L1440.96 1483.85 L1440.96 1479.92 Z\" fill=\"#000000\" fill-rule=\"evenodd\" fill-opacity=\"1\" /><path clip-path=\"url(#clip300)\" d=\"M1480.31 1467.44 Q1476.98 1467.44 1475.06 1469.22 Q1473.16 1471 1473.16 1474.13 Q1473.16 1477.25 1475.06 1479.04 Q1476.98 1480.82 1480.31 1480.82 Q1483.65 1480.82 1485.57 1479.04 Q1487.49 1477.23 1487.49 1474.13 Q1487.49 1471 1485.57 1469.22 Q1483.67 1467.44 1480.31 1467.44 M1475.64 1465.45 Q1472.63 1464.71 1470.94 1462.65 Q1469.27 1460.59 1469.27 1457.63 Q1469.27 1453.48 1472.21 1451.07 Q1475.17 1448.67 1480.31 1448.67 Q1485.48 1448.67 1488.42 1451.07 Q1491.35 1453.48 1491.35 1457.63 Q1491.35 1460.59 1489.67 1462.65 Q1488 1464.71 1485.01 1465.45 Q1488.39 1466.24 1490.27 1468.53 Q1492.17 1470.82 1492.17 1474.13 Q1492.17 1479.15 1489.09 1481.84 Q1486.03 1484.52 1480.31 1484.52 Q1474.6 1484.52 1471.52 1481.84 Q1468.46 1479.15 1468.46 1474.13 Q1468.46 1470.82 1470.36 1468.53 Q1472.26 1466.24 1475.64 1465.45 M1473.92 1458.06 Q1473.92 1460.75 1475.59 1462.25 Q1477.28 1463.76 1480.31 1463.76 Q1483.32 1463.76 1485.01 1462.25 Q1486.73 1460.75 1486.73 1458.06 Q1486.73 1455.38 1485.01 1453.88 Q1483.32 1452.37 1480.31 1452.37 Q1477.28 1452.37 1475.59 1453.88 Q1473.92 1455.38 1473.92 1458.06 Z\" fill=\"#000000\" fill-rule=\"evenodd\" fill-opacity=\"1\" /><path clip-path=\"url(#clip300)\" d=\"M1509.89 1479.92 L1517.53 1479.92 L1517.53 1453.55 L1509.22 1455.22 L1509.22 1450.96 L1517.48 1449.29 L1522.16 1449.29 L1522.16 1479.92 L1529.8 1479.92 L1529.8 1483.85 L1509.89 1483.85 L1509.89 1479.92 Z\" fill=\"#000000\" fill-rule=\"evenodd\" fill-opacity=\"1\" /><path clip-path=\"url(#clip300)\" d=\"M1539.38 1483.13 L1539.38 1478.88 Q1541.14 1479.71 1542.95 1480.15 Q1544.75 1480.59 1546.49 1480.59 Q1551.12 1480.59 1553.55 1477.49 Q1556 1474.36 1556.35 1468.02 Q1555.01 1470.01 1552.95 1471.07 Q1550.89 1472.14 1548.39 1472.14 Q1543.2 1472.14 1540.17 1469.01 Q1537.16 1465.87 1537.16 1460.43 Q1537.16 1455.1 1540.31 1451.88 Q1543.46 1448.67 1548.69 1448.67 Q1554.68 1448.67 1557.83 1453.27 Q1561 1457.86 1561 1466.61 Q1561 1474.78 1557.11 1479.66 Q1553.25 1484.52 1546.7 1484.52 Q1544.94 1484.52 1543.13 1484.18 Q1541.33 1483.83 1539.38 1483.13 M1548.69 1468.48 Q1551.84 1468.48 1553.66 1466.33 Q1555.52 1464.18 1555.52 1460.43 Q1555.52 1456.7 1553.66 1454.55 Q1551.84 1452.37 1548.69 1452.37 Q1545.54 1452.37 1543.69 1454.55 Q1541.86 1456.7 1541.86 1460.43 Q1541.86 1464.18 1543.69 1466.33 Q1545.54 1468.48 1548.69 1468.48 Z\" fill=\"#000000\" fill-rule=\"evenodd\" fill-opacity=\"1\" /><path clip-path=\"url(#clip300)\" d=\"M1582.77 1479.92 L1599.09 1479.92 L1599.09 1483.85 L1577.14 1483.85 L1577.14 1479.92 Q1579.8 1477.16 1584.39 1472.53 Q1588.99 1467.88 1590.17 1466.54 Q1592.42 1464.01 1593.3 1462.28 Q1594.2 1460.52 1594.2 1458.83 Q1594.2 1456.07 1592.26 1454.34 Q1590.34 1452.6 1587.24 1452.6 Q1585.04 1452.6 1582.58 1453.37 Q1580.15 1454.13 1577.37 1455.68 L1577.37 1450.96 Q1580.2 1449.82 1582.65 1449.25 Q1585.11 1448.67 1587.14 1448.67 Q1592.51 1448.67 1595.71 1451.35 Q1598.9 1454.04 1598.9 1458.53 Q1598.9 1460.66 1598.09 1462.58 Q1597.3 1464.48 1595.2 1467.07 Q1594.62 1467.74 1591.52 1470.96 Q1588.42 1474.15 1582.77 1479.92 Z\" fill=\"#000000\" fill-rule=\"evenodd\" fill-opacity=\"1\" /><path clip-path=\"url(#clip300)\" d=\"M1618.9 1452.37 Q1615.29 1452.37 1613.46 1455.94 Q1611.66 1459.48 1611.66 1466.61 Q1611.66 1473.71 1613.46 1477.28 Q1615.29 1480.82 1618.9 1480.82 Q1622.54 1480.82 1624.34 1477.28 Q1626.17 1473.71 1626.17 1466.61 Q1626.17 1459.48 1624.34 1455.94 Q1622.54 1452.37 1618.9 1452.37 M1618.9 1448.67 Q1624.71 1448.67 1627.77 1453.27 Q1630.85 1457.86 1630.85 1466.61 Q1630.85 1475.33 1627.77 1479.94 Q1624.71 1484.52 1618.9 1484.52 Q1613.09 1484.52 1610.01 1479.94 Q1606.96 1475.33 1606.96 1466.61 Q1606.96 1457.86 1610.01 1453.27 Q1613.09 1448.67 1618.9 1448.67 Z\" fill=\"#000000\" fill-rule=\"evenodd\" fill-opacity=\"1\" /><path clip-path=\"url(#clip300)\" d=\"M1652.26 1479.92 L1668.58 1479.92 L1668.58 1483.85 L1646.64 1483.85 L1646.64 1479.92 Q1649.3 1477.16 1653.88 1472.53 Q1658.49 1467.88 1659.67 1466.54 Q1661.92 1464.01 1662.8 1462.28 Q1663.7 1460.52 1663.7 1458.83 Q1663.7 1456.07 1661.75 1454.34 Q1659.83 1452.6 1656.73 1452.6 Q1654.53 1452.6 1652.08 1453.37 Q1649.65 1454.13 1646.87 1455.68 L1646.87 1450.96 Q1649.69 1449.82 1652.15 1449.25 Q1654.6 1448.67 1656.64 1448.67 Q1662.01 1448.67 1665.2 1451.35 Q1668.4 1454.04 1668.4 1458.53 Q1668.4 1460.66 1667.59 1462.58 Q1666.8 1464.48 1664.69 1467.07 Q1664.12 1467.74 1661.01 1470.96 Q1657.91 1474.15 1652.26 1479.92 Z\" fill=\"#000000\" fill-rule=\"evenodd\" fill-opacity=\"1\" /><path clip-path=\"url(#clip300)\" d=\"M1679.21 1479.92 L1686.85 1479.92 L1686.85 1453.55 L1678.54 1455.22 L1678.54 1450.96 L1686.8 1449.29 L1691.48 1449.29 L1691.48 1479.92 L1699.12 1479.92 L1699.12 1483.85 L1679.21 1483.85 L1679.21 1479.92 Z\" fill=\"#000000\" fill-rule=\"evenodd\" fill-opacity=\"1\" /><path clip-path=\"url(#clip300)\" d=\"M1721.33 1479.92 L1737.65 1479.92 L1737.65 1483.85 L1715.71 1483.85 L1715.71 1479.92 Q1718.37 1477.16 1722.95 1472.53 Q1727.56 1467.88 1728.74 1466.54 Q1730.99 1464.01 1731.87 1462.28 Q1732.77 1460.52 1732.77 1458.83 Q1732.77 1456.07 1730.82 1454.34 Q1728.9 1452.6 1725.8 1452.6 Q1723.6 1452.6 1721.15 1453.37 Q1718.72 1454.13 1715.94 1455.68 L1715.94 1450.96 Q1718.76 1449.82 1721.22 1449.25 Q1723.67 1448.67 1725.71 1448.67 Q1731.08 1448.67 1734.27 1451.35 Q1737.47 1454.04 1737.47 1458.53 Q1737.47 1460.66 1736.66 1462.58 Q1735.87 1464.48 1733.76 1467.07 Q1733.18 1467.74 1730.08 1470.96 Q1726.98 1474.15 1721.33 1479.92 Z\" fill=\"#000000\" fill-rule=\"evenodd\" fill-opacity=\"1\" /><path clip-path=\"url(#clip300)\" d=\"M1751.49 1479.92 L1767.81 1479.92 L1767.81 1483.85 L1745.87 1483.85 L1745.87 1479.92 Q1748.53 1477.16 1753.12 1472.53 Q1757.72 1467.88 1758.9 1466.54 Q1761.15 1464.01 1762.03 1462.28 Q1762.93 1460.52 1762.93 1458.83 Q1762.93 1456.07 1760.99 1454.34 Q1759.06 1452.6 1755.96 1452.6 Q1753.76 1452.6 1751.31 1453.37 Q1748.88 1454.13 1746.1 1455.68 L1746.1 1450.96 Q1748.93 1449.82 1751.38 1449.25 Q1753.83 1448.67 1755.87 1448.67 Q1761.24 1448.67 1764.43 1451.35 Q1767.63 1454.04 1767.63 1458.53 Q1767.63 1460.66 1766.82 1462.58 Q1766.03 1464.48 1763.93 1467.07 Q1763.35 1467.74 1760.24 1470.96 Q1757.14 1474.15 1751.49 1479.92 Z\" fill=\"#000000\" fill-rule=\"evenodd\" fill-opacity=\"1\" /><path clip-path=\"url(#clip300)\" d=\"M1789.74 1479.92 L1806.06 1479.92 L1806.06 1483.85 L1784.12 1483.85 L1784.12 1479.92 Q1786.78 1477.16 1791.36 1472.53 Q1795.97 1467.88 1797.15 1466.54 Q1799.39 1464.01 1800.27 1462.28 Q1801.18 1460.52 1801.18 1458.83 Q1801.18 1456.07 1799.23 1454.34 Q1797.31 1452.6 1794.21 1452.6 Q1792.01 1452.6 1789.56 1453.37 Q1787.13 1454.13 1784.35 1455.68 L1784.35 1450.96 Q1787.17 1449.82 1789.63 1449.25 Q1792.08 1448.67 1794.12 1448.67 Q1799.49 1448.67 1802.68 1451.35 Q1805.88 1454.04 1805.88 1458.53 Q1805.88 1460.66 1805.07 1462.58 Q1804.28 1464.48 1802.17 1467.07 Q1801.59 1467.74 1798.49 1470.96 Q1795.39 1474.15 1789.74 1479.92 Z\" fill=\"#000000\" fill-rule=\"evenodd\" fill-opacity=\"1\" /><path clip-path=\"url(#clip300)\" d=\"M1830.04 1465.22 Q1833.4 1465.94 1835.27 1468.2 Q1837.17 1470.47 1837.17 1473.81 Q1837.17 1478.92 1833.65 1481.72 Q1830.13 1484.52 1823.65 1484.52 Q1821.48 1484.52 1819.16 1484.08 Q1816.87 1483.67 1814.42 1482.81 L1814.42 1478.3 Q1816.36 1479.43 1818.68 1480.01 Q1820.99 1480.59 1823.51 1480.59 Q1827.91 1480.59 1830.2 1478.85 Q1832.52 1477.12 1832.52 1473.81 Q1832.52 1470.75 1830.37 1469.04 Q1828.24 1467.3 1824.42 1467.3 L1820.39 1467.3 L1820.39 1463.46 L1824.6 1463.46 Q1828.05 1463.46 1829.88 1462.09 Q1831.71 1460.7 1831.71 1458.11 Q1831.71 1455.45 1829.81 1454.04 Q1827.94 1452.6 1824.42 1452.6 Q1822.5 1452.6 1820.3 1453.02 Q1818.1 1453.44 1815.46 1454.31 L1815.46 1450.15 Q1818.12 1449.41 1820.44 1449.04 Q1822.77 1448.67 1824.83 1448.67 Q1830.16 1448.67 1833.26 1451.1 Q1836.36 1453.5 1836.36 1457.63 Q1836.36 1460.5 1834.72 1462.49 Q1833.07 1464.45 1830.04 1465.22 Z\" fill=\"#000000\" fill-rule=\"evenodd\" fill-opacity=\"1\" /><path clip-path=\"url(#clip300)\" d=\"M1858.06 1479.92 L1874.38 1479.92 L1874.38 1483.85 L1852.43 1483.85 L1852.43 1479.92 Q1855.09 1477.16 1859.68 1472.53 Q1864.28 1467.88 1865.47 1466.54 Q1867.71 1464.01 1868.59 1462.28 Q1869.49 1460.52 1869.49 1458.83 Q1869.49 1456.07 1867.55 1454.34 Q1865.63 1452.6 1862.53 1452.6 Q1860.33 1452.6 1857.87 1453.37 Q1855.44 1454.13 1852.66 1455.68 L1852.66 1450.96 Q1855.49 1449.82 1857.94 1449.25 Q1860.4 1448.67 1862.43 1448.67 Q1867.8 1448.67 1871 1451.35 Q1874.19 1454.04 1874.19 1458.53 Q1874.19 1460.66 1873.38 1462.58 Q1872.59 1464.48 1870.49 1467.07 Q1869.91 1467.74 1866.81 1470.96 Q1863.71 1474.15 1858.06 1479.92 Z\" fill=\"#000000\" fill-rule=\"evenodd\" fill-opacity=\"1\" /><path clip-path=\"url(#clip300)\" d=\"M1897.04 1453.37 L1885.23 1471.81 L1897.04 1471.81 L1897.04 1453.37 M1895.81 1449.29 L1901.69 1449.29 L1901.69 1471.81 L1906.62 1471.81 L1906.62 1475.7 L1901.69 1475.7 L1901.69 1483.85 L1897.04 1483.85 L1897.04 1475.7 L1881.44 1475.7 L1881.44 1471.19 L1895.81 1449.29 Z\" fill=\"#000000\" fill-rule=\"evenodd\" fill-opacity=\"1\" /><path clip-path=\"url(#clip300)\" d=\"M1927.68 1479.92 L1944 1479.92 L1944 1483.85 L1922.06 1483.85 L1922.06 1479.92 Q1924.72 1477.16 1929.3 1472.53 Q1933.91 1467.88 1935.09 1466.54 Q1937.33 1464.01 1938.21 1462.28 Q1939.12 1460.52 1939.12 1458.83 Q1939.12 1456.07 1937.17 1454.34 Q1935.25 1452.6 1932.15 1452.6 Q1929.95 1452.6 1927.5 1453.37 Q1925.07 1454.13 1922.29 1455.68 L1922.29 1450.96 Q1925.11 1449.82 1927.57 1449.25 Q1930.02 1448.67 1932.06 1448.67 Q1937.43 1448.67 1940.62 1451.35 Q1943.82 1454.04 1943.82 1458.53 Q1943.82 1460.66 1943.01 1462.58 Q1942.22 1464.48 1940.11 1467.07 Q1939.53 1467.74 1936.43 1470.96 Q1933.33 1474.15 1927.68 1479.92 Z\" fill=\"#000000\" fill-rule=\"evenodd\" fill-opacity=\"1\" /><path clip-path=\"url(#clip300)\" d=\"M1953.86 1449.29 L1972.22 1449.29 L1972.22 1453.23 L1958.14 1453.23 L1958.14 1461.7 Q1959.16 1461.35 1960.18 1461.19 Q1961.2 1461 1962.22 1461 Q1968.01 1461 1971.39 1464.18 Q1974.76 1467.35 1974.76 1472.76 Q1974.76 1478.34 1971.29 1481.44 Q1967.82 1484.52 1961.5 1484.52 Q1959.33 1484.52 1957.06 1484.15 Q1954.81 1483.78 1952.4 1483.04 L1952.4 1478.34 Q1954.49 1479.48 1956.71 1480.03 Q1958.93 1480.59 1961.41 1480.59 Q1965.41 1480.59 1967.75 1478.48 Q1970.09 1476.38 1970.09 1472.76 Q1970.09 1469.15 1967.75 1467.05 Q1965.41 1464.94 1961.41 1464.94 Q1959.53 1464.94 1957.66 1465.36 Q1955.81 1465.77 1953.86 1466.65 L1953.86 1449.29 Z\" fill=\"#000000\" fill-rule=\"evenodd\" fill-opacity=\"1\" /><path clip-path=\"url(#clip300)\" d=\"M1995.99 1479.92 L2012.31 1479.92 L2012.31 1483.85 L1990.36 1483.85 L1990.36 1479.92 Q1993.02 1477.16 1997.61 1472.53 Q2002.21 1467.88 2003.39 1466.54 Q2005.64 1464.01 2006.52 1462.28 Q2007.42 1460.52 2007.42 1458.83 Q2007.42 1456.07 2005.48 1454.34 Q2003.56 1452.6 2000.45 1452.6 Q1998.25 1452.6 1995.8 1453.37 Q1993.37 1454.13 1990.59 1455.68 L1990.59 1450.96 Q1993.42 1449.82 1995.87 1449.25 Q1998.32 1448.67 2000.36 1448.67 Q2005.73 1448.67 2008.93 1451.35 Q2012.12 1454.04 2012.12 1458.53 Q2012.12 1460.66 2011.31 1462.58 Q2010.52 1464.48 2008.42 1467.07 Q2007.84 1467.74 2004.74 1470.96 Q2001.63 1474.15 1995.99 1479.92 Z\" fill=\"#000000\" fill-rule=\"evenodd\" fill-opacity=\"1\" /><path clip-path=\"url(#clip300)\" d=\"M2032.7 1464.71 Q2029.55 1464.71 2027.7 1466.86 Q2025.87 1469.01 2025.87 1472.76 Q2025.87 1476.49 2027.7 1478.67 Q2029.55 1480.82 2032.7 1480.82 Q2035.85 1480.82 2037.68 1478.67 Q2039.53 1476.49 2039.53 1472.76 Q2039.53 1469.01 2037.68 1466.86 Q2035.85 1464.71 2032.7 1464.71 M2041.98 1450.06 L2041.98 1454.31 Q2040.22 1453.48 2038.42 1453.04 Q2036.63 1452.6 2034.88 1452.6 Q2030.25 1452.6 2027.79 1455.73 Q2025.36 1458.85 2025.01 1465.17 Q2026.38 1463.16 2028.44 1462.09 Q2030.5 1461 2032.98 1461 Q2038.19 1461 2041.19 1464.18 Q2044.23 1467.32 2044.23 1472.76 Q2044.23 1478.09 2041.08 1481.31 Q2037.93 1484.52 2032.7 1484.52 Q2026.7 1484.52 2023.53 1479.94 Q2020.36 1475.33 2020.36 1466.61 Q2020.36 1458.41 2024.25 1453.55 Q2028.14 1448.67 2034.69 1448.67 Q2036.45 1448.67 2038.23 1449.01 Q2040.04 1449.36 2041.98 1450.06 Z\" fill=\"#000000\" fill-rule=\"evenodd\" fill-opacity=\"1\" /><path clip-path=\"url(#clip300)\" d=\"M2065.4 1479.92 L2081.72 1479.92 L2081.72 1483.85 L2059.78 1483.85 L2059.78 1479.92 Q2062.44 1477.16 2067.02 1472.53 Q2071.63 1467.88 2072.81 1466.54 Q2075.05 1464.01 2075.93 1462.28 Q2076.84 1460.52 2076.84 1458.83 Q2076.84 1456.07 2074.89 1454.34 Q2072.97 1452.6 2069.87 1452.6 Q2067.67 1452.6 2065.22 1453.37 Q2062.79 1454.13 2060.01 1455.68 L2060.01 1450.96 Q2062.83 1449.82 2065.29 1449.25 Q2067.74 1448.67 2069.78 1448.67 Q2075.15 1448.67 2078.34 1451.35 Q2081.54 1454.04 2081.54 1458.53 Q2081.54 1460.66 2080.73 1462.58 Q2079.94 1464.48 2077.83 1467.07 Q2077.25 1467.74 2074.15 1470.96 Q2071.05 1474.15 2065.4 1479.92 Z\" fill=\"#000000\" fill-rule=\"evenodd\" fill-opacity=\"1\" /><path clip-path=\"url(#clip300)\" d=\"M2090.36 1449.29 L2112.58 1449.29 L2112.58 1451.28 L2100.03 1483.85 L2095.15 1483.85 L2106.95 1453.23 L2090.36 1453.23 L2090.36 1449.29 Z\" fill=\"#000000\" fill-rule=\"evenodd\" fill-opacity=\"1\" /><path clip-path=\"url(#clip300)\" d=\"M2133.88 1479.92 L2150.2 1479.92 L2150.2 1483.85 L2128.26 1483.85 L2128.26 1479.92 Q2130.92 1477.16 2135.5 1472.53 Q2140.11 1467.88 2141.29 1466.54 Q2143.53 1464.01 2144.41 1462.28 Q2145.32 1460.52 2145.32 1458.83 Q2145.32 1456.07 2143.37 1454.34 Q2141.45 1452.6 2138.35 1452.6 Q2136.15 1452.6 2133.7 1453.37 Q2131.26 1454.13 2128.49 1455.68 L2128.49 1450.96 Q2131.31 1449.82 2133.76 1449.25 Q2136.22 1448.67 2138.26 1448.67 Q2143.63 1448.67 2146.82 1451.35 Q2150.01 1454.04 2150.01 1458.53 Q2150.01 1460.66 2149.2 1462.58 Q2148.42 1464.48 2146.31 1467.07 Q2145.73 1467.74 2142.63 1470.96 Q2139.53 1474.15 2133.88 1479.92 Z\" fill=\"#000000\" fill-rule=\"evenodd\" fill-opacity=\"1\" /><path clip-path=\"url(#clip300)\" d=\"M2170.01 1467.44 Q2166.68 1467.44 2164.76 1469.22 Q2162.86 1471 2162.86 1474.13 Q2162.86 1477.25 2164.76 1479.04 Q2166.68 1480.82 2170.01 1480.82 Q2173.35 1480.82 2175.27 1479.04 Q2177.19 1477.23 2177.19 1474.13 Q2177.19 1471 2175.27 1469.22 Q2173.37 1467.44 2170.01 1467.44 M2165.34 1465.45 Q2162.33 1464.71 2160.64 1462.65 Q2158.97 1460.59 2158.97 1457.63 Q2158.97 1453.48 2161.91 1451.07 Q2164.88 1448.67 2170.01 1448.67 Q2175.18 1448.67 2178.12 1451.07 Q2181.06 1453.48 2181.06 1457.63 Q2181.06 1460.59 2179.37 1462.65 Q2177.7 1464.71 2174.71 1465.45 Q2178.09 1466.24 2179.97 1468.53 Q2181.87 1470.82 2181.87 1474.13 Q2181.87 1479.15 2178.79 1481.84 Q2175.73 1484.52 2170.01 1484.52 Q2164.3 1484.52 2161.22 1481.84 Q2158.16 1479.15 2158.16 1474.13 Q2158.16 1470.82 2160.06 1468.53 Q2161.96 1466.24 2165.34 1465.45 M2163.63 1458.06 Q2163.63 1460.75 2165.29 1462.25 Q2166.98 1463.76 2170.01 1463.76 Q2173.02 1463.76 2174.71 1462.25 Q2176.43 1460.75 2176.43 1458.06 Q2176.43 1455.38 2174.71 1453.88 Q2173.02 1452.37 2170.01 1452.37 Q2166.98 1452.37 2165.29 1453.88 Q2163.63 1455.38 2163.63 1458.06 Z\" fill=\"#000000\" fill-rule=\"evenodd\" fill-opacity=\"1\" /><path clip-path=\"url(#clip300)\" d=\"M2202.81 1479.92 L2219.13 1479.92 L2219.13 1483.85 L2197.18 1483.85 L2197.18 1479.92 Q2199.85 1477.16 2204.43 1472.53 Q2209.04 1467.88 2210.22 1466.54 Q2212.46 1464.01 2213.34 1462.28 Q2214.25 1460.52 2214.25 1458.83 Q2214.25 1456.07 2212.3 1454.34 Q2210.38 1452.6 2207.28 1452.6 Q2205.08 1452.6 2202.62 1453.37 Q2200.19 1454.13 2197.42 1455.68 L2197.42 1450.96 Q2200.24 1449.82 2202.69 1449.25 Q2205.15 1448.67 2207.18 1448.67 Q2212.56 1448.67 2215.75 1451.35 Q2218.94 1454.04 2218.94 1458.53 Q2218.94 1460.66 2218.13 1462.58 Q2217.35 1464.48 2215.24 1467.07 Q2214.66 1467.74 2211.56 1470.96 Q2208.46 1474.15 2202.81 1479.92 Z\" fill=\"#000000\" fill-rule=\"evenodd\" fill-opacity=\"1\" /><path clip-path=\"url(#clip300)\" d=\"M2229.08 1483.13 L2229.08 1478.88 Q2230.84 1479.71 2232.65 1480.15 Q2234.45 1480.59 2236.19 1480.59 Q2240.82 1480.59 2243.25 1477.49 Q2245.7 1474.36 2246.05 1468.02 Q2244.71 1470.01 2242.65 1471.07 Q2240.59 1472.14 2238.09 1472.14 Q2232.9 1472.14 2229.87 1469.01 Q2226.86 1465.87 2226.86 1460.43 Q2226.86 1455.1 2230.01 1451.88 Q2233.16 1448.67 2238.39 1448.67 Q2244.38 1448.67 2247.53 1453.27 Q2250.7 1457.86 2250.7 1466.61 Q2250.7 1474.78 2246.81 1479.66 Q2242.95 1484.52 2236.4 1484.52 Q2234.64 1484.52 2232.83 1484.18 Q2231.03 1483.83 2229.08 1483.13 M2238.39 1468.48 Q2241.54 1468.48 2243.37 1466.33 Q2245.22 1464.18 2245.22 1460.43 Q2245.22 1456.7 2243.37 1454.55 Q2241.54 1452.37 2238.39 1452.37 Q2235.24 1452.37 2233.39 1454.55 Q2231.56 1456.7 2231.56 1460.43 Q2231.56 1464.18 2233.39 1466.33 Q2235.24 1468.48 2238.39 1468.48 Z\" fill=\"#000000\" fill-rule=\"evenodd\" fill-opacity=\"1\" /><path clip-path=\"url(#clip300)\" d=\"M2281.67 1465.22 Q2285.03 1465.94 2286.9 1468.2 Q2288.8 1470.47 2288.8 1473.81 Q2288.8 1478.92 2285.28 1481.72 Q2281.76 1484.52 2275.28 1484.52 Q2273.11 1484.52 2270.79 1484.08 Q2268.5 1483.67 2266.05 1482.81 L2266.05 1478.3 Q2267.99 1479.43 2270.3 1480.01 Q2272.62 1480.59 2275.14 1480.59 Q2279.54 1480.59 2281.83 1478.85 Q2284.15 1477.12 2284.15 1473.81 Q2284.15 1470.75 2281.99 1469.04 Q2279.86 1467.3 2276.05 1467.3 L2272.02 1467.3 L2272.02 1463.46 L2276.23 1463.46 Q2279.68 1463.46 2281.51 1462.09 Q2283.34 1460.7 2283.34 1458.11 Q2283.34 1455.45 2281.44 1454.04 Q2279.56 1452.6 2276.05 1452.6 Q2274.12 1452.6 2271.92 1453.02 Q2269.73 1453.44 2267.09 1454.31 L2267.09 1450.15 Q2269.75 1449.41 2272.06 1449.04 Q2274.4 1448.67 2276.46 1448.67 Q2281.79 1448.67 2284.89 1451.1 Q2287.99 1453.5 2287.99 1457.63 Q2287.99 1460.5 2286.35 1462.49 Q2284.7 1464.45 2281.67 1465.22 Z\" fill=\"#000000\" fill-rule=\"evenodd\" fill-opacity=\"1\" /><path clip-path=\"url(#clip300)\" d=\"M2307.67 1452.37 Q2304.05 1452.37 2302.23 1455.94 Q2300.42 1459.48 2300.42 1466.61 Q2300.42 1473.71 2302.23 1477.28 Q2304.05 1480.82 2307.67 1480.82 Q2311.3 1480.82 2313.11 1477.28 Q2314.93 1473.71 2314.93 1466.61 Q2314.93 1459.48 2313.11 1455.94 Q2311.3 1452.37 2307.67 1452.37 M2307.67 1448.67 Q2313.48 1448.67 2316.53 1453.27 Q2319.61 1457.86 2319.61 1466.61 Q2319.61 1475.33 2316.53 1479.94 Q2313.48 1484.52 2307.67 1484.52 Q2301.86 1484.52 2298.78 1479.94 Q2295.72 1475.33 2295.72 1466.61 Q2295.72 1457.86 2298.78 1453.27 Q2301.86 1448.67 2307.67 1448.67 Z\" fill=\"#000000\" fill-rule=\"evenodd\" fill-opacity=\"1\" /><path clip-path=\"url(#clip300)\" d=\"M1199.63 1520.52 L1206.12 1520.52 L1216.12 1560.69 L1226.08 1520.52 L1233.31 1520.52 L1243.3 1560.69 L1253.26 1520.52 L1259.79 1520.52 L1247.85 1568.04 L1239.77 1568.04 L1229.74 1526.79 L1219.62 1568.04 L1211.54 1568.04 L1199.63 1520.52 Z\" fill=\"#000000\" fill-rule=\"evenodd\" fill-opacity=\"1\" /><path clip-path=\"url(#clip300)\" d=\"M1268.32 1520.52 L1298.36 1520.52 L1298.36 1525.93 L1274.75 1525.93 L1274.75 1540 L1297.38 1540 L1297.38 1545.41 L1274.75 1545.41 L1274.75 1562.63 L1298.94 1562.63 L1298.94 1568.04 L1268.32 1568.04 L1268.32 1520.52 Z\" fill=\"#000000\" fill-rule=\"evenodd\" fill-opacity=\"1\" /><path clip-path=\"url(#clip300)\" d=\"M1309.5 1520.52 L1339.55 1520.52 L1339.55 1525.93 L1315.93 1525.93 L1315.93 1540 L1338.56 1540 L1338.56 1545.41 L1315.93 1545.41 L1315.93 1562.63 L1340.12 1562.63 L1340.12 1568.04 L1309.5 1568.04 L1309.5 1520.52 Z\" fill=\"#000000\" fill-rule=\"evenodd\" fill-opacity=\"1\" /><path clip-path=\"url(#clip300)\" d=\"M1350.69 1520.52 L1357.12 1520.52 L1357.12 1540.61 L1378.44 1520.52 L1386.72 1520.52 L1363.14 1542.68 L1388.41 1568.04 L1379.94 1568.04 L1357.12 1545.16 L1357.12 1568.04 L1350.69 1568.04 L1350.69 1520.52 Z\" fill=\"#000000\" fill-rule=\"evenodd\" fill-opacity=\"1\" /><polyline clip-path=\"url(#clip302)\" style=\"stroke:#000000; stroke-linecap:butt; stroke-linejoin:round; stroke-width:2; stroke-opacity:0.1; fill:none\" points=\"\n",
       "  235.283,1395.56 2352.76,1395.56 \n",
       "  \"/>\n",
       "<polyline clip-path=\"url(#clip302)\" style=\"stroke:#000000; stroke-linecap:butt; stroke-linejoin:round; stroke-width:2; stroke-opacity:0.1; fill:none\" points=\"\n",
       "  235.283,1166.38 2352.76,1166.38 \n",
       "  \"/>\n",
       "<polyline clip-path=\"url(#clip302)\" style=\"stroke:#000000; stroke-linecap:butt; stroke-linejoin:round; stroke-width:2; stroke-opacity:0.1; fill:none\" points=\"\n",
       "  235.283,937.193 2352.76,937.193 \n",
       "  \"/>\n",
       "<polyline clip-path=\"url(#clip302)\" style=\"stroke:#000000; stroke-linecap:butt; stroke-linejoin:round; stroke-width:2; stroke-opacity:0.1; fill:none\" points=\"\n",
       "  235.283,708.008 2352.76,708.008 \n",
       "  \"/>\n",
       "<polyline clip-path=\"url(#clip302)\" style=\"stroke:#000000; stroke-linecap:butt; stroke-linejoin:round; stroke-width:2; stroke-opacity:0.1; fill:none\" points=\"\n",
       "  235.283,478.823 2352.76,478.823 \n",
       "  \"/>\n",
       "<polyline clip-path=\"url(#clip302)\" style=\"stroke:#000000; stroke-linecap:butt; stroke-linejoin:round; stroke-width:2; stroke-opacity:0.1; fill:none\" points=\"\n",
       "  235.283,249.638 2352.76,249.638 \n",
       "  \"/>\n",
       "<polyline clip-path=\"url(#clip300)\" style=\"stroke:#000000; stroke-linecap:butt; stroke-linejoin:round; stroke-width:4; stroke-opacity:1; fill:none\" points=\"\n",
       "  235.283,1423.18 235.283,123.472 \n",
       "  \"/>\n",
       "<polyline clip-path=\"url(#clip300)\" style=\"stroke:#000000; stroke-linecap:butt; stroke-linejoin:round; stroke-width:4; stroke-opacity:1; fill:none\" points=\"\n",
       "  235.283,1395.56 254.18,1395.56 \n",
       "  \"/>\n",
       "<polyline clip-path=\"url(#clip300)\" style=\"stroke:#000000; stroke-linecap:butt; stroke-linejoin:round; stroke-width:4; stroke-opacity:1; fill:none\" points=\"\n",
       "  235.283,1166.38 254.18,1166.38 \n",
       "  \"/>\n",
       "<polyline clip-path=\"url(#clip300)\" style=\"stroke:#000000; stroke-linecap:butt; stroke-linejoin:round; stroke-width:4; stroke-opacity:1; fill:none\" points=\"\n",
       "  235.283,937.193 254.18,937.193 \n",
       "  \"/>\n",
       "<polyline clip-path=\"url(#clip300)\" style=\"stroke:#000000; stroke-linecap:butt; stroke-linejoin:round; stroke-width:4; stroke-opacity:1; fill:none\" points=\"\n",
       "  235.283,708.008 254.18,708.008 \n",
       "  \"/>\n",
       "<polyline clip-path=\"url(#clip300)\" style=\"stroke:#000000; stroke-linecap:butt; stroke-linejoin:round; stroke-width:4; stroke-opacity:1; fill:none\" points=\"\n",
       "  235.283,478.823 254.18,478.823 \n",
       "  \"/>\n",
       "<polyline clip-path=\"url(#clip300)\" style=\"stroke:#000000; stroke-linecap:butt; stroke-linejoin:round; stroke-width:4; stroke-opacity:1; fill:none\" points=\"\n",
       "  235.283,249.638 254.18,249.638 \n",
       "  \"/>\n",
       "<path clip-path=\"url(#clip300)\" d=\"M187.338 1381.36 Q183.727 1381.36 181.899 1384.93 Q180.093 1388.47 180.093 1395.6 Q180.093 1402.7 181.899 1406.27 Q183.727 1409.81 187.338 1409.81 Q190.973 1409.81 192.778 1406.27 Q194.607 1402.7 194.607 1395.6 Q194.607 1388.47 192.778 1384.93 Q190.973 1381.36 187.338 1381.36 M187.338 1377.66 Q193.149 1377.66 196.204 1382.26 Q199.283 1386.85 199.283 1395.6 Q199.283 1404.32 196.204 1408.93 Q193.149 1413.51 187.338 1413.51 Q181.528 1413.51 178.45 1408.93 Q175.394 1404.32 175.394 1395.6 Q175.394 1386.85 178.45 1382.26 Q181.528 1377.66 187.338 1377.66 Z\" fill=\"#000000\" fill-rule=\"evenodd\" fill-opacity=\"1\" /><path clip-path=\"url(#clip300)\" d=\"M117.825 1179.72 L125.464 1179.72 L125.464 1153.36 L117.154 1155.02 L117.154 1150.76 L125.418 1149.1 L130.093 1149.1 L130.093 1179.72 L137.732 1179.72 L137.732 1183.66 L117.825 1183.66 L117.825 1179.72 Z\" fill=\"#000000\" fill-rule=\"evenodd\" fill-opacity=\"1\" /><path clip-path=\"url(#clip300)\" d=\"M157.177 1152.18 Q153.566 1152.18 151.737 1155.74 Q149.931 1159.28 149.931 1166.41 Q149.931 1173.52 151.737 1177.08 Q153.566 1180.63 157.177 1180.63 Q160.811 1180.63 162.616 1177.08 Q164.445 1173.52 164.445 1166.41 Q164.445 1159.28 162.616 1155.74 Q160.811 1152.18 157.177 1152.18 M157.177 1148.47 Q162.987 1148.47 166.042 1153.08 Q169.121 1157.66 169.121 1166.41 Q169.121 1175.14 166.042 1179.75 Q162.987 1184.33 157.177 1184.33 Q151.366 1184.33 148.288 1179.75 Q145.232 1175.14 145.232 1166.41 Q145.232 1157.66 148.288 1153.08 Q151.366 1148.47 157.177 1148.47 Z\" fill=\"#000000\" fill-rule=\"evenodd\" fill-opacity=\"1\" /><path clip-path=\"url(#clip300)\" d=\"M187.338 1152.18 Q183.727 1152.18 181.899 1155.74 Q180.093 1159.28 180.093 1166.41 Q180.093 1173.52 181.899 1177.08 Q183.727 1180.63 187.338 1180.63 Q190.973 1180.63 192.778 1177.08 Q194.607 1173.52 194.607 1166.41 Q194.607 1159.28 192.778 1155.74 Q190.973 1152.18 187.338 1152.18 M187.338 1148.47 Q193.149 1148.47 196.204 1153.08 Q199.283 1157.66 199.283 1166.41 Q199.283 1175.14 196.204 1179.75 Q193.149 1184.33 187.338 1184.33 Q181.528 1184.33 178.45 1179.75 Q175.394 1175.14 175.394 1166.41 Q175.394 1157.66 178.45 1153.08 Q181.528 1148.47 187.338 1148.47 Z\" fill=\"#000000\" fill-rule=\"evenodd\" fill-opacity=\"1\" /><path clip-path=\"url(#clip300)\" d=\"M121.043 950.538 L137.362 950.538 L137.362 954.473 L115.418 954.473 L115.418 950.538 Q118.08 947.783 122.663 943.154 Q127.269 938.501 128.45 937.158 Q130.695 934.635 131.575 932.899 Q132.478 931.14 132.478 929.45 Q132.478 926.696 130.533 924.959 Q128.612 923.223 125.51 923.223 Q123.311 923.223 120.857 923.987 Q118.427 924.751 115.649 926.302 L115.649 921.58 Q118.473 920.446 120.927 919.867 Q123.38 919.288 125.418 919.288 Q130.788 919.288 133.982 921.973 Q137.177 924.659 137.177 929.149 Q137.177 931.279 136.367 933.2 Q135.579 935.098 133.473 937.691 Q132.894 938.362 129.792 941.58 Q126.691 944.774 121.043 950.538 Z\" fill=\"#000000\" fill-rule=\"evenodd\" fill-opacity=\"1\" /><path clip-path=\"url(#clip300)\" d=\"M157.177 922.992 Q153.566 922.992 151.737 926.557 Q149.931 930.098 149.931 937.228 Q149.931 944.334 151.737 947.899 Q153.566 951.441 157.177 951.441 Q160.811 951.441 162.616 947.899 Q164.445 944.334 164.445 937.228 Q164.445 930.098 162.616 926.557 Q160.811 922.992 157.177 922.992 M157.177 919.288 Q162.987 919.288 166.042 923.895 Q169.121 928.478 169.121 937.228 Q169.121 945.955 166.042 950.561 Q162.987 955.144 157.177 955.144 Q151.366 955.144 148.288 950.561 Q145.232 945.955 145.232 937.228 Q145.232 928.478 148.288 923.895 Q151.366 919.288 157.177 919.288 Z\" fill=\"#000000\" fill-rule=\"evenodd\" fill-opacity=\"1\" /><path clip-path=\"url(#clip300)\" d=\"M187.338 922.992 Q183.727 922.992 181.899 926.557 Q180.093 930.098 180.093 937.228 Q180.093 944.334 181.899 947.899 Q183.727 951.441 187.338 951.441 Q190.973 951.441 192.778 947.899 Q194.607 944.334 194.607 937.228 Q194.607 930.098 192.778 926.557 Q190.973 922.992 187.338 922.992 M187.338 919.288 Q193.149 919.288 196.204 923.895 Q199.283 928.478 199.283 937.228 Q199.283 945.955 196.204 950.561 Q193.149 955.144 187.338 955.144 Q181.528 955.144 178.45 950.561 Q175.394 945.955 175.394 937.228 Q175.394 928.478 178.45 923.895 Q181.528 919.288 187.338 919.288 Z\" fill=\"#000000\" fill-rule=\"evenodd\" fill-opacity=\"1\" /><path clip-path=\"url(#clip300)\" d=\"M131.181 706.654 Q134.538 707.372 136.413 709.64 Q138.311 711.909 138.311 715.242 Q138.311 720.358 134.792 723.159 Q131.274 725.96 124.793 725.96 Q122.617 725.96 120.302 725.52 Q118.01 725.103 115.556 724.247 L115.556 719.733 Q117.501 720.867 119.816 721.446 Q122.13 722.024 124.654 722.024 Q129.052 722.024 131.343 720.288 Q133.658 718.552 133.658 715.242 Q133.658 712.186 131.505 710.474 Q129.376 708.737 125.556 708.737 L121.529 708.737 L121.529 704.895 L125.742 704.895 Q129.191 704.895 131.019 703.529 Q132.848 702.14 132.848 699.548 Q132.848 696.886 130.95 695.474 Q129.075 694.038 125.556 694.038 Q123.635 694.038 121.436 694.455 Q119.237 694.872 116.598 695.751 L116.598 691.585 Q119.26 690.844 121.575 690.474 Q123.913 690.103 125.973 690.103 Q131.297 690.103 134.399 692.534 Q137.501 694.941 137.501 699.062 Q137.501 701.932 135.857 703.923 Q134.214 705.89 131.181 706.654 Z\" fill=\"#000000\" fill-rule=\"evenodd\" fill-opacity=\"1\" /><path clip-path=\"url(#clip300)\" d=\"M157.177 693.807 Q153.566 693.807 151.737 697.372 Q149.931 700.913 149.931 708.043 Q149.931 715.149 151.737 718.714 Q153.566 722.256 157.177 722.256 Q160.811 722.256 162.616 718.714 Q164.445 715.149 164.445 708.043 Q164.445 700.913 162.616 697.372 Q160.811 693.807 157.177 693.807 M157.177 690.103 Q162.987 690.103 166.042 694.71 Q169.121 699.293 169.121 708.043 Q169.121 716.77 166.042 721.376 Q162.987 725.96 157.177 725.96 Q151.366 725.96 148.288 721.376 Q145.232 716.77 145.232 708.043 Q145.232 699.293 148.288 694.71 Q151.366 690.103 157.177 690.103 Z\" fill=\"#000000\" fill-rule=\"evenodd\" fill-opacity=\"1\" /><path clip-path=\"url(#clip300)\" d=\"M187.338 693.807 Q183.727 693.807 181.899 697.372 Q180.093 700.913 180.093 708.043 Q180.093 715.149 181.899 718.714 Q183.727 722.256 187.338 722.256 Q190.973 722.256 192.778 718.714 Q194.607 715.149 194.607 708.043 Q194.607 700.913 192.778 697.372 Q190.973 693.807 187.338 693.807 M187.338 690.103 Q193.149 690.103 196.204 694.71 Q199.283 699.293 199.283 708.043 Q199.283 716.77 196.204 721.376 Q193.149 725.96 187.338 725.96 Q181.528 725.96 178.45 721.376 Q175.394 716.77 175.394 708.043 Q175.394 699.293 178.45 694.71 Q181.528 690.103 187.338 690.103 Z\" fill=\"#000000\" fill-rule=\"evenodd\" fill-opacity=\"1\" /><path clip-path=\"url(#clip300)\" d=\"M129.862 465.617 L118.056 484.066 L129.862 484.066 L129.862 465.617 M128.635 461.543 L134.515 461.543 L134.515 484.066 L139.445 484.066 L139.445 487.955 L134.515 487.955 L134.515 496.103 L129.862 496.103 L129.862 487.955 L114.26 487.955 L114.26 483.441 L128.635 461.543 Z\" fill=\"#000000\" fill-rule=\"evenodd\" fill-opacity=\"1\" /><path clip-path=\"url(#clip300)\" d=\"M157.177 464.622 Q153.566 464.622 151.737 468.187 Q149.931 471.728 149.931 478.858 Q149.931 485.965 151.737 489.529 Q153.566 493.071 157.177 493.071 Q160.811 493.071 162.616 489.529 Q164.445 485.965 164.445 478.858 Q164.445 471.728 162.616 468.187 Q160.811 464.622 157.177 464.622 M157.177 460.918 Q162.987 460.918 166.042 465.525 Q169.121 470.108 169.121 478.858 Q169.121 487.585 166.042 492.191 Q162.987 496.775 157.177 496.775 Q151.366 496.775 148.288 492.191 Q145.232 487.585 145.232 478.858 Q145.232 470.108 148.288 465.525 Q151.366 460.918 157.177 460.918 Z\" fill=\"#000000\" fill-rule=\"evenodd\" fill-opacity=\"1\" /><path clip-path=\"url(#clip300)\" d=\"M187.338 464.622 Q183.727 464.622 181.899 468.187 Q180.093 471.728 180.093 478.858 Q180.093 485.965 181.899 489.529 Q183.727 493.071 187.338 493.071 Q190.973 493.071 192.778 489.529 Q194.607 485.965 194.607 478.858 Q194.607 471.728 192.778 468.187 Q190.973 464.622 187.338 464.622 M187.338 460.918 Q193.149 460.918 196.204 465.525 Q199.283 470.108 199.283 478.858 Q199.283 487.585 196.204 492.191 Q193.149 496.775 187.338 496.775 Q181.528 496.775 178.45 492.191 Q175.394 487.585 175.394 478.858 Q175.394 470.108 178.45 465.525 Q181.528 460.918 187.338 460.918 Z\" fill=\"#000000\" fill-rule=\"evenodd\" fill-opacity=\"1\" /><path clip-path=\"url(#clip300)\" d=\"M117.061 232.358 L135.417 232.358 L135.417 236.294 L121.343 236.294 L121.343 244.766 Q122.362 244.419 123.38 244.257 Q124.399 244.071 125.418 244.071 Q131.205 244.071 134.584 247.243 Q137.964 250.414 137.964 255.831 Q137.964 261.409 134.492 264.511 Q131.019 267.59 124.7 267.59 Q122.524 267.59 120.255 267.219 Q118.01 266.849 115.603 266.108 L115.603 261.409 Q117.686 262.543 119.908 263.099 Q122.13 263.655 124.607 263.655 Q128.612 263.655 130.95 261.548 Q133.288 259.442 133.288 255.831 Q133.288 252.219 130.95 250.113 Q128.612 248.006 124.607 248.006 Q122.732 248.006 120.857 248.423 Q119.006 248.84 117.061 249.719 L117.061 232.358 Z\" fill=\"#000000\" fill-rule=\"evenodd\" fill-opacity=\"1\" /><path clip-path=\"url(#clip300)\" d=\"M157.177 235.437 Q153.566 235.437 151.737 239.002 Q149.931 242.544 149.931 249.673 Q149.931 256.78 151.737 260.344 Q153.566 263.886 157.177 263.886 Q160.811 263.886 162.616 260.344 Q164.445 256.78 164.445 249.673 Q164.445 242.544 162.616 239.002 Q160.811 235.437 157.177 235.437 M157.177 231.733 Q162.987 231.733 166.042 236.34 Q169.121 240.923 169.121 249.673 Q169.121 258.4 166.042 263.006 Q162.987 267.59 157.177 267.59 Q151.366 267.59 148.288 263.006 Q145.232 258.4 145.232 249.673 Q145.232 240.923 148.288 236.34 Q151.366 231.733 157.177 231.733 Z\" fill=\"#000000\" fill-rule=\"evenodd\" fill-opacity=\"1\" /><path clip-path=\"url(#clip300)\" d=\"M187.338 235.437 Q183.727 235.437 181.899 239.002 Q180.093 242.544 180.093 249.673 Q180.093 256.78 181.899 260.344 Q183.727 263.886 187.338 263.886 Q190.973 263.886 192.778 260.344 Q194.607 256.78 194.607 249.673 Q194.607 242.544 192.778 239.002 Q190.973 235.437 187.338 235.437 M187.338 231.733 Q193.149 231.733 196.204 236.34 Q199.283 240.923 199.283 249.673 Q199.283 258.4 196.204 263.006 Q193.149 267.59 187.338 267.59 Q181.528 267.59 178.45 263.006 Q175.394 258.4 175.394 249.673 Q175.394 240.923 178.45 236.34 Q181.528 231.733 187.338 231.733 Z\" fill=\"#000000\" fill-rule=\"evenodd\" fill-opacity=\"1\" /><path clip-path=\"url(#clip300)\" d=\"M16.4842 867.125 L16.4842 860.663 L45.3526 860.663 Q52.9915 860.663 56.3653 857.894 Q59.7073 855.125 59.7073 848.919 Q59.7073 842.744 56.3653 839.975 Q52.9915 837.206 45.3526 837.206 L16.4842 837.206 L16.4842 830.745 L46.1484 830.745 Q55.4423 830.745 60.1847 835.36 Q64.9272 839.943 64.9272 848.919 Q64.9272 857.926 60.1847 862.541 Q55.4423 867.125 46.1484 867.125 L16.4842 867.125 Z\" fill=\"#000000\" fill-rule=\"evenodd\" fill-opacity=\"1\" /><path clip-path=\"url(#clip300)\" d=\"M16.4842 818.682 L16.4842 810.024 L56.238 788.954 L16.4842 788.954 L16.4842 782.715 L64.0042 782.715 L64.0042 791.373 L24.2503 812.443 L64.0042 812.443 L64.0042 818.682 L16.4842 818.682 Z\" fill=\"#000000\" fill-rule=\"evenodd\" fill-opacity=\"1\" /><path clip-path=\"url(#clip300)\" d=\"M16.4842 769.92 L16.4842 763.491 L64.0042 763.491 L64.0042 769.92 L16.4842 769.92 Z\" fill=\"#000000\" fill-rule=\"evenodd\" fill-opacity=\"1\" /><path clip-path=\"url(#clip300)\" d=\"M16.4842 757.284 L16.4842 717.085 L21.895 717.085 L21.895 733.954 L64.0042 733.954 L64.0042 740.415 L21.895 740.415 L21.895 757.284 L16.4842 757.284 Z\" fill=\"#000000\" fill-rule=\"evenodd\" fill-opacity=\"1\" /><path clip-path=\"url(#clip300)\" d=\"M18.0438 682.392 L24.314 682.392 Q22.5634 686.052 21.704 689.299 Q20.8447 692.545 20.8447 695.569 Q20.8447 700.821 22.8817 703.685 Q24.9187 706.518 28.6745 706.518 Q31.8255 706.518 33.4488 704.64 Q35.0402 702.73 36.0269 697.447 L36.8226 693.564 Q38.1912 686.37 41.6605 682.965 Q45.098 679.527 50.8908 679.527 Q57.7976 679.527 61.3624 684.174 Q64.9272 688.789 64.9272 697.733 Q64.9272 701.107 64.1633 704.926 Q63.3994 708.714 61.9035 712.788 L55.2831 712.788 Q57.4793 708.873 58.5933 705.117 Q59.7073 701.362 59.7073 697.733 Q59.7073 692.227 57.543 689.235 Q55.3786 686.243 51.3682 686.243 Q47.8671 686.243 45.8937 688.407 Q43.9204 690.54 42.9337 695.442 L42.1698 699.356 Q40.7375 706.55 37.682 709.764 Q34.6264 712.979 29.1837 712.979 Q22.8817 712.979 19.2532 708.555 Q15.6248 704.099 15.6248 696.301 Q15.6248 692.959 16.2295 689.49 Q16.8343 686.02 18.0438 682.392 Z\" fill=\"#000000\" fill-rule=\"evenodd\" fill-opacity=\"1\" /><path clip-path=\"url(#clip300)\" d=\"M286.337 18.8205 L286.337 65.8515 L296.221 65.8515 Q308.738 65.8515 314.531 60.1802 Q320.364 54.509 320.364 42.2752 Q320.364 30.1225 314.531 24.4918 Q308.738 18.8205 296.221 18.8205 L286.337 18.8205 M278.154 12.096 L294.965 12.096 Q312.546 12.096 320.769 19.4281 Q328.993 26.7198 328.993 42.2752 Q328.993 57.9117 320.729 65.2439 Q312.465 72.576 294.965 72.576 L278.154 72.576 L278.154 12.096 Z\" fill=\"#000000\" fill-rule=\"evenodd\" fill-opacity=\"1\" /><path clip-path=\"url(#clip300)\" d=\"M380.52 48.0275 L380.52 51.6733 L346.25 51.6733 Q346.736 59.3701 350.868 63.421 Q355.04 67.4314 362.453 67.4314 Q366.747 67.4314 370.758 66.3781 Q374.808 65.3249 378.778 63.2184 L378.778 70.267 Q374.768 71.9684 370.555 72.8596 Q366.342 73.7508 362.008 73.7508 Q351.151 73.7508 344.791 67.4314 Q338.472 61.1119 338.472 50.3365 Q338.472 39.1965 344.467 32.6746 Q350.503 26.1121 360.711 26.1121 Q369.866 26.1121 375.173 32.0264 Q380.52 37.9003 380.52 48.0275 M373.067 45.84 Q372.986 39.7232 369.623 36.0774 Q366.302 32.4315 360.792 32.4315 Q354.554 32.4315 350.787 35.9558 Q347.06 39.4801 346.493 45.8805 L373.067 45.84 Z\" fill=\"#000000\" fill-rule=\"evenodd\" fill-opacity=\"1\" /><path clip-path=\"url(#clip300)\" d=\"M428.078 35.9153 Q430.873 30.8922 434.762 28.5022 Q438.651 26.1121 443.917 26.1121 Q451.006 26.1121 454.854 31.0947 Q458.703 36.0368 458.703 45.1919 L458.703 72.576 L451.209 72.576 L451.209 45.4349 Q451.209 38.913 448.899 35.7533 Q446.59 32.5936 441.851 32.5936 Q436.058 32.5936 432.696 36.4419 Q429.334 40.2903 429.334 46.9338 L429.334 72.576 L421.839 72.576 L421.839 45.4349 Q421.839 38.8725 419.53 35.7533 Q417.221 32.5936 412.401 32.5936 Q406.689 32.5936 403.327 36.4824 Q399.965 40.3308 399.965 46.9338 L399.965 72.576 L392.47 72.576 L392.47 27.2059 L399.965 27.2059 L399.965 34.2544 Q402.517 30.082 406.081 28.0971 Q409.646 26.1121 414.548 26.1121 Q419.49 26.1121 422.933 28.6237 Q426.417 31.1352 428.078 35.9153 Z\" fill=\"#000000\" fill-rule=\"evenodd\" fill-opacity=\"1\" /><path clip-path=\"url(#clip300)\" d=\"M494.189 49.7694 Q485.155 49.7694 481.671 51.8354 Q478.188 53.9013 478.188 58.8839 Q478.188 62.8538 480.78 65.2034 Q483.413 67.5124 487.91 67.5124 Q494.108 67.5124 497.834 63.1374 Q501.602 58.7219 501.602 51.4303 L501.602 49.7694 L494.189 49.7694 M509.055 46.6907 L509.055 72.576 L501.602 72.576 L501.602 65.6895 Q499.05 69.8214 495.242 71.8063 Q491.434 73.7508 485.925 73.7508 Q478.957 73.7508 474.825 69.8619 Q470.734 65.9325 470.734 59.3701 Q470.734 51.7138 475.838 47.825 Q480.983 43.9361 491.15 43.9361 L501.602 43.9361 L501.602 43.2069 Q501.602 38.0623 498.199 35.2672 Q494.837 32.4315 488.72 32.4315 Q484.831 32.4315 481.145 33.3632 Q477.458 34.295 474.056 36.1584 L474.056 29.2718 Q478.147 27.692 481.995 26.9223 Q485.844 26.1121 489.49 26.1121 Q499.333 26.1121 504.194 31.2163 Q509.055 36.3204 509.055 46.6907 Z\" fill=\"#000000\" fill-rule=\"evenodd\" fill-opacity=\"1\" /><path clip-path=\"url(#clip300)\" d=\"M562.122 45.1919 L562.122 72.576 L554.669 72.576 L554.669 45.4349 Q554.669 38.994 552.157 35.7938 Q549.645 32.5936 544.622 32.5936 Q538.587 32.5936 535.103 36.4419 Q531.619 40.2903 531.619 46.9338 L531.619 72.576 L524.125 72.576 L524.125 27.2059 L531.619 27.2059 L531.619 34.2544 Q534.293 30.163 537.898 28.1376 Q541.544 26.1121 546.283 26.1121 Q554.101 26.1121 558.112 30.9732 Q562.122 35.7938 562.122 45.1919 Z\" fill=\"#000000\" fill-rule=\"evenodd\" fill-opacity=\"1\" /><path clip-path=\"url(#clip300)\" d=\"M606.844 34.0924 L606.844 9.54393 L614.298 9.54393 L614.298 72.576 L606.844 72.576 L606.844 65.7705 Q604.495 69.8214 600.889 71.8063 Q597.325 73.7508 592.301 73.7508 Q584.078 73.7508 578.893 67.1883 Q573.748 60.6258 573.748 49.9314 Q573.748 39.2371 578.893 32.6746 Q584.078 26.1121 592.301 26.1121 Q597.325 26.1121 600.889 28.0971 Q604.495 30.0415 606.844 34.0924 M581.445 49.9314 Q581.445 58.1548 584.807 62.8538 Q588.21 67.5124 594.124 67.5124 Q600.039 67.5124 603.441 62.8538 Q606.844 58.1548 606.844 49.9314 Q606.844 41.7081 603.441 37.0496 Q600.039 32.3505 594.124 32.3505 Q588.21 32.3505 584.807 37.0496 Q581.445 41.7081 581.445 49.9314 Z\" fill=\"#000000\" fill-rule=\"evenodd\" fill-opacity=\"1\" /><path clip-path=\"url(#clip300)\" d=\"M631.555 62.2867 L640.102 62.2867 L640.102 69.2543 L633.459 82.2172 L628.233 82.2172 L631.555 69.2543 L631.555 62.2867 Z\" fill=\"#000000\" fill-rule=\"evenodd\" fill-opacity=\"1\" /><path clip-path=\"url(#clip300)\" d=\"M707.266 17.6457 Q698.354 17.6457 693.088 24.2892 Q687.862 30.9327 687.862 42.3968 Q687.862 53.8203 693.088 60.4638 Q698.354 67.1073 707.266 67.1073 Q716.178 67.1073 721.363 60.4638 Q726.589 53.8203 726.589 42.3968 Q726.589 30.9327 721.363 24.2892 Q716.178 17.6457 707.266 17.6457 M707.266 11.0023 Q719.986 11.0023 727.602 19.5497 Q735.217 28.0566 735.217 42.3968 Q735.217 56.6965 727.602 65.2439 Q719.986 73.7508 707.266 73.7508 Q694.506 73.7508 686.85 65.2439 Q679.234 56.737 679.234 42.3968 Q679.234 28.0566 686.85 19.5497 Q694.506 11.0023 707.266 11.0023 Z\" fill=\"#000000\" fill-rule=\"evenodd\" fill-opacity=\"1\" /><path clip-path=\"url(#clip300)\" d=\"M773.985 34.1734 Q772.729 33.4443 771.23 33.1202 Q769.772 32.7556 767.989 32.7556 Q761.67 32.7556 758.267 36.8875 Q754.905 40.9789 754.905 48.6757 L754.905 72.576 L747.411 72.576 L747.411 27.2059 L754.905 27.2059 L754.905 34.2544 Q757.254 30.1225 761.022 28.1376 Q764.789 26.1121 770.177 26.1121 Q770.946 26.1121 771.878 26.2337 Q772.81 26.3147 773.944 26.5172 L773.985 34.1734 Z\" fill=\"#000000\" fill-rule=\"evenodd\" fill-opacity=\"1\" /><path clip-path=\"url(#clip300)\" d=\"M810.2 34.0924 L810.2 9.54393 L817.653 9.54393 L817.653 72.576 L810.2 72.576 L810.2 65.7705 Q807.85 69.8214 804.245 71.8063 Q800.68 73.7508 795.657 73.7508 Q787.434 73.7508 782.248 67.1883 Q777.104 60.6258 777.104 49.9314 Q777.104 39.2371 782.248 32.6746 Q787.434 26.1121 795.657 26.1121 Q800.68 26.1121 804.245 28.0971 Q807.85 30.0415 810.2 34.0924 M784.8 49.9314 Q784.8 58.1548 788.163 62.8538 Q791.565 67.5124 797.48 67.5124 Q803.394 67.5124 806.797 62.8538 Q810.2 58.1548 810.2 49.9314 Q810.2 41.7081 806.797 37.0496 Q803.394 32.3505 797.48 32.3505 Q791.565 32.3505 788.163 37.0496 Q784.8 41.7081 784.8 49.9314 Z\" fill=\"#000000\" fill-rule=\"evenodd\" fill-opacity=\"1\" /><path clip-path=\"url(#clip300)\" d=\"M871.814 48.0275 L871.814 51.6733 L837.543 51.6733 Q838.029 59.3701 842.161 63.421 Q846.334 67.4314 853.747 67.4314 Q858.041 67.4314 862.051 66.3781 Q866.102 65.3249 870.072 63.2184 L870.072 70.267 Q866.062 71.9684 861.849 72.8596 Q857.636 73.7508 853.301 73.7508 Q842.445 73.7508 836.085 67.4314 Q829.765 61.1119 829.765 50.3365 Q829.765 39.1965 835.761 32.6746 Q841.797 26.1121 852.005 26.1121 Q861.16 26.1121 866.467 32.0264 Q871.814 37.9003 871.814 48.0275 M864.36 45.84 Q864.279 39.7232 860.917 36.0774 Q857.595 32.4315 852.086 32.4315 Q845.848 32.4315 842.08 35.9558 Q838.353 39.4801 837.786 45.8805 L864.36 45.84 Z\" fill=\"#000000\" fill-rule=\"evenodd\" fill-opacity=\"1\" /><path clip-path=\"url(#clip300)\" d=\"M910.338 34.1734 Q909.082 33.4443 907.583 33.1202 Q906.125 32.7556 904.343 32.7556 Q898.023 32.7556 894.62 36.8875 Q891.258 40.9789 891.258 48.6757 L891.258 72.576 L883.764 72.576 L883.764 27.2059 L891.258 27.2059 L891.258 34.2544 Q893.608 30.1225 897.375 28.1376 Q901.142 26.1121 906.53 26.1121 Q907.3 26.1121 908.232 26.2337 Q909.163 26.3147 910.297 26.5172 L910.338 34.1734 Z\" fill=\"#000000\" fill-rule=\"evenodd\" fill-opacity=\"1\" /><path clip-path=\"url(#clip300)\" d=\"M920.06 62.2867 L928.608 62.2867 L928.608 69.2543 L921.964 82.2172 L916.738 82.2172 L920.06 69.2543 L920.06 62.2867 Z\" fill=\"#000000\" fill-rule=\"evenodd\" fill-opacity=\"1\" /><path clip-path=\"url(#clip300)\" d=\"M991.518 49.7694 Q982.485 49.7694 979.001 51.8354 Q975.517 53.9013 975.517 58.8839 Q975.517 62.8538 978.11 65.2034 Q980.743 67.5124 985.239 67.5124 Q991.437 67.5124 995.164 63.1374 Q998.931 58.7219 998.931 51.4303 L998.931 49.7694 L991.518 49.7694 M1006.38 46.6907 L1006.38 72.576 L998.931 72.576 L998.931 65.6895 Q996.379 69.8214 992.571 71.8063 Q988.763 73.7508 983.254 73.7508 Q976.287 73.7508 972.155 69.8619 Q968.063 65.9325 968.063 59.3701 Q968.063 51.7138 973.168 47.825 Q978.312 43.9361 988.48 43.9361 L998.931 43.9361 L998.931 43.2069 Q998.931 38.0623 995.529 35.2672 Q992.166 32.4315 986.049 32.4315 Q982.161 32.4315 978.474 33.3632 Q974.788 34.295 971.385 36.1584 L971.385 29.2718 Q975.477 27.692 979.325 26.9223 Q983.173 26.1121 986.819 26.1121 Q996.663 26.1121 1001.52 31.2163 Q1006.38 36.3204 1006.38 46.6907 Z\" fill=\"#000000\" fill-rule=\"evenodd\" fill-opacity=\"1\" /><path clip-path=\"url(#clip300)\" d=\"M1059.45 45.1919 L1059.45 72.576 L1052 72.576 L1052 45.4349 Q1052 38.994 1049.49 35.7938 Q1046.97 32.5936 1041.95 32.5936 Q1035.92 32.5936 1032.43 36.4419 Q1028.95 40.2903 1028.95 46.9338 L1028.95 72.576 L1021.45 72.576 L1021.45 27.2059 L1028.95 27.2059 L1028.95 34.2544 Q1031.62 30.163 1035.23 28.1376 Q1038.87 26.1121 1043.61 26.1121 Q1051.43 26.1121 1055.44 30.9732 Q1059.45 35.7938 1059.45 45.1919 Z\" fill=\"#000000\" fill-rule=\"evenodd\" fill-opacity=\"1\" /><path clip-path=\"url(#clip300)\" d=\"M1104.17 34.0924 L1104.17 9.54393 L1111.63 9.54393 L1111.63 72.576 L1104.17 72.576 L1104.17 65.7705 Q1101.82 69.8214 1098.22 71.8063 Q1094.65 73.7508 1089.63 73.7508 Q1081.41 73.7508 1076.22 67.1883 Q1071.08 60.6258 1071.08 49.9314 Q1071.08 39.2371 1076.22 32.6746 Q1081.41 26.1121 1089.63 26.1121 Q1094.65 26.1121 1098.22 28.0971 Q1101.82 30.0415 1104.17 34.0924 M1078.77 49.9314 Q1078.77 58.1548 1082.14 62.8538 Q1085.54 67.5124 1091.45 67.5124 Q1097.37 67.5124 1100.77 62.8538 Q1104.17 58.1548 1104.17 49.9314 Q1104.17 41.7081 1100.77 37.0496 Q1097.37 32.3505 1091.45 32.3505 Q1085.54 32.3505 1082.14 37.0496 Q1078.77 41.7081 1078.77 49.9314 Z\" fill=\"#000000\" fill-rule=\"evenodd\" fill-opacity=\"1\" /><path clip-path=\"url(#clip300)\" d=\"M1169.27 72.576 L1146.18 12.096 L1154.73 12.096 L1173.89 63.0159 L1193.09 12.096 L1201.6 12.096 L1178.55 72.576 L1169.27 72.576 Z\" fill=\"#000000\" fill-rule=\"evenodd\" fill-opacity=\"1\" /><path clip-path=\"url(#clip300)\" d=\"M1208.28 27.2059 L1215.74 27.2059 L1215.74 72.576 L1208.28 72.576 L1208.28 27.2059 M1208.28 9.54393 L1215.74 9.54393 L1215.74 18.9825 L1208.28 18.9825 L1208.28 9.54393 Z\" fill=\"#000000\" fill-rule=\"evenodd\" fill-opacity=\"1\" /><path clip-path=\"url(#clip300)\" d=\"M1260.26 28.5427 L1260.26 35.5912 Q1257.1 33.9709 1253.69 33.1607 Q1250.29 32.3505 1246.64 32.3505 Q1241.09 32.3505 1238.3 34.0519 Q1235.54 35.7533 1235.54 39.156 Q1235.54 41.7486 1237.53 43.2475 Q1239.51 44.7058 1245.51 46.0426 L1248.06 46.6097 Q1256 48.3111 1259.32 51.4303 Q1262.69 54.509 1262.69 60.0587 Q1262.69 66.3781 1257.66 70.0644 Q1252.68 73.7508 1243.93 73.7508 Q1240.28 73.7508 1236.31 73.0216 Q1232.38 72.3329 1228.01 70.9151 L1228.01 63.2184 Q1232.14 65.3654 1236.15 66.4591 Q1240.16 67.5124 1244.09 67.5124 Q1249.36 67.5124 1252.19 65.73 Q1255.03 63.9071 1255.03 60.6258 Q1255.03 57.5877 1252.96 55.9673 Q1250.94 54.3469 1244.01 52.8481 L1241.42 52.2405 Q1234.49 50.7821 1231.41 47.7845 Q1228.33 44.7463 1228.33 39.4801 Q1228.33 33.0797 1232.87 29.5959 Q1237.41 26.1121 1245.75 26.1121 Q1249.88 26.1121 1253.53 26.7198 Q1257.18 27.3274 1260.26 28.5427 Z\" fill=\"#000000\" fill-rule=\"evenodd\" fill-opacity=\"1\" /><path clip-path=\"url(#clip300)\" d=\"M1274.55 27.2059 L1282.01 27.2059 L1282.01 72.576 L1274.55 72.576 L1274.55 27.2059 M1274.55 9.54393 L1282.01 9.54393 L1282.01 18.9825 L1274.55 18.9825 L1274.55 9.54393 Z\" fill=\"#000000\" fill-rule=\"evenodd\" fill-opacity=\"1\" /><path clip-path=\"url(#clip300)\" d=\"M1304.98 14.324 L1304.98 27.2059 L1320.33 27.2059 L1320.33 32.9987 L1304.98 32.9987 L1304.98 57.6282 Q1304.98 63.1779 1306.48 64.7578 Q1308.02 66.3376 1312.67 66.3376 L1320.33 66.3376 L1320.33 72.576 L1312.67 72.576 Q1304.05 72.576 1300.76 69.3758 Q1297.48 66.1351 1297.48 57.6282 L1297.48 32.9987 L1292.01 32.9987 L1292.01 27.2059 L1297.48 27.2059 L1297.48 14.324 L1304.98 14.324 Z\" fill=\"#000000\" fill-rule=\"evenodd\" fill-opacity=\"1\" /><path clip-path=\"url(#clip300)\" d=\"M1347.71 32.4315 Q1341.72 32.4315 1338.23 37.1306 Q1334.75 41.7891 1334.75 49.9314 Q1334.75 58.0738 1338.19 62.7728 Q1341.68 67.4314 1347.71 67.4314 Q1353.67 67.4314 1357.15 62.7323 Q1360.64 58.0333 1360.64 49.9314 Q1360.64 41.8701 1357.15 37.1711 Q1353.67 32.4315 1347.71 32.4315 M1347.71 26.1121 Q1357.44 26.1121 1362.99 32.4315 Q1368.54 38.7509 1368.54 49.9314 Q1368.54 61.0714 1362.99 67.4314 Q1357.44 73.7508 1347.71 73.7508 Q1337.95 73.7508 1332.4 67.4314 Q1326.89 61.0714 1326.89 49.9314 Q1326.89 38.7509 1332.4 32.4315 Q1337.95 26.1121 1347.71 26.1121 Z\" fill=\"#000000\" fill-rule=\"evenodd\" fill-opacity=\"1\" /><path clip-path=\"url(#clip300)\" d=\"M1407.18 34.1734 Q1405.93 33.4443 1404.43 33.1202 Q1402.97 32.7556 1401.19 32.7556 Q1394.87 32.7556 1391.46 36.8875 Q1388.1 40.9789 1388.1 48.6757 L1388.1 72.576 L1380.61 72.576 L1380.61 27.2059 L1388.1 27.2059 L1388.1 34.2544 Q1390.45 30.1225 1394.22 28.1376 Q1397.99 26.1121 1403.37 26.1121 Q1404.14 26.1121 1405.07 26.2337 Q1406.01 26.3147 1407.14 26.5172 L1407.18 34.1734 Z\" fill=\"#000000\" fill-rule=\"evenodd\" fill-opacity=\"1\" /><path clip-path=\"url(#clip300)\" d=\"M1457.29 72.576 L1434.2 12.096 L1442.75 12.096 L1461.91 63.0159 L1481.11 12.096 L1489.62 12.096 L1466.57 72.576 L1457.29 72.576 Z\" fill=\"#000000\" fill-rule=\"evenodd\" fill-opacity=\"1\" /><path clip-path=\"url(#clip300)\" d=\"M1512.3 49.7694 Q1503.27 49.7694 1499.79 51.8354 Q1496.3 53.9013 1496.3 58.8839 Q1496.3 62.8538 1498.89 65.2034 Q1501.53 67.5124 1506.02 67.5124 Q1512.22 67.5124 1515.95 63.1374 Q1519.72 58.7219 1519.72 51.4303 L1519.72 49.7694 L1512.3 49.7694 M1527.17 46.6907 L1527.17 72.576 L1519.72 72.576 L1519.72 65.6895 Q1517.16 69.8214 1513.36 71.8063 Q1509.55 73.7508 1504.04 73.7508 Q1497.07 73.7508 1492.94 69.8619 Q1488.85 65.9325 1488.85 59.3701 Q1488.85 51.7138 1493.95 47.825 Q1499.1 43.9361 1509.26 43.9361 L1519.72 43.9361 L1519.72 43.2069 Q1519.72 38.0623 1516.31 35.2672 Q1512.95 32.4315 1506.83 32.4315 Q1502.94 32.4315 1499.26 33.3632 Q1495.57 34.295 1492.17 36.1584 L1492.17 29.2718 Q1496.26 27.692 1500.11 26.9223 Q1503.96 26.1121 1507.6 26.1121 Q1517.45 26.1121 1522.31 31.2163 Q1527.17 36.3204 1527.17 46.6907 Z\" fill=\"#000000\" fill-rule=\"evenodd\" fill-opacity=\"1\" /><path clip-path=\"url(#clip300)\" d=\"M1568.81 34.1734 Q1567.56 33.4443 1566.06 33.1202 Q1564.6 32.7556 1562.82 32.7556 Q1556.5 32.7556 1553.09 36.8875 Q1549.73 40.9789 1549.73 48.6757 L1549.73 72.576 L1542.24 72.576 L1542.24 27.2059 L1549.73 27.2059 L1549.73 34.2544 Q1552.08 30.1225 1555.85 28.1376 Q1559.62 26.1121 1565 26.1121 Q1565.77 26.1121 1566.71 26.2337 Q1567.64 26.3147 1568.77 26.5172 L1568.81 34.1734 Z\" fill=\"#000000\" fill-rule=\"evenodd\" fill-opacity=\"1\" /><path clip-path=\"url(#clip300)\" d=\"M1576.63 27.2059 L1584.08 27.2059 L1584.08 72.576 L1576.63 72.576 L1576.63 27.2059 M1576.63 9.54393 L1584.08 9.54393 L1584.08 18.9825 L1576.63 18.9825 L1576.63 9.54393 Z\" fill=\"#000000\" fill-rule=\"evenodd\" fill-opacity=\"1\" /><path clip-path=\"url(#clip300)\" d=\"M1620.3 49.7694 Q1611.27 49.7694 1607.78 51.8354 Q1604.3 53.9013 1604.3 58.8839 Q1604.3 62.8538 1606.89 65.2034 Q1609.52 67.5124 1614.02 67.5124 Q1620.22 67.5124 1623.95 63.1374 Q1627.71 58.7219 1627.71 51.4303 L1627.71 49.7694 L1620.3 49.7694 M1635.17 46.6907 L1635.17 72.576 L1627.71 72.576 L1627.71 65.6895 Q1625.16 69.8214 1621.35 71.8063 Q1617.54 73.7508 1612.04 73.7508 Q1605.07 73.7508 1600.94 69.8619 Q1596.84 65.9325 1596.84 59.3701 Q1596.84 51.7138 1601.95 47.825 Q1607.09 43.9361 1617.26 43.9361 L1627.71 43.9361 L1627.71 43.2069 Q1627.71 38.0623 1624.31 35.2672 Q1620.95 32.4315 1614.83 32.4315 Q1610.94 32.4315 1607.26 33.3632 Q1603.57 34.295 1600.17 36.1584 L1600.17 29.2718 Q1604.26 27.692 1608.11 26.9223 Q1611.95 26.1121 1615.6 26.1121 Q1625.44 26.1121 1630.31 31.2163 Q1635.17 36.3204 1635.17 46.6907 Z\" fill=\"#000000\" fill-rule=\"evenodd\" fill-opacity=\"1\" /><path clip-path=\"url(#clip300)\" d=\"M1657.89 14.324 L1657.89 27.2059 L1673.24 27.2059 L1673.24 32.9987 L1657.89 32.9987 L1657.89 57.6282 Q1657.89 63.1779 1659.39 64.7578 Q1660.93 66.3376 1665.59 66.3376 L1673.24 66.3376 L1673.24 72.576 L1665.59 72.576 Q1656.96 72.576 1653.68 69.3758 Q1650.4 66.1351 1650.4 57.6282 L1650.4 32.9987 L1644.93 32.9987 L1644.93 27.2059 L1650.4 27.2059 L1650.4 14.324 L1657.89 14.324 Z\" fill=\"#000000\" fill-rule=\"evenodd\" fill-opacity=\"1\" /><path clip-path=\"url(#clip300)\" d=\"M1683.05 27.2059 L1690.5 27.2059 L1690.5 72.576 L1683.05 72.576 L1683.05 27.2059 M1683.05 9.54393 L1690.5 9.54393 L1690.5 18.9825 L1683.05 18.9825 L1683.05 9.54393 Z\" fill=\"#000000\" fill-rule=\"evenodd\" fill-opacity=\"1\" /><path clip-path=\"url(#clip300)\" d=\"M1723.68 32.4315 Q1717.68 32.4315 1714.2 37.1306 Q1710.72 41.7891 1710.72 49.9314 Q1710.72 58.0738 1714.16 62.7728 Q1717.64 67.4314 1723.68 67.4314 Q1729.63 67.4314 1733.12 62.7323 Q1736.6 58.0333 1736.6 49.9314 Q1736.6 41.8701 1733.12 37.1711 Q1729.63 32.4315 1723.68 32.4315 M1723.68 26.1121 Q1733.4 26.1121 1738.95 32.4315 Q1744.5 38.7509 1744.5 49.9314 Q1744.5 61.0714 1738.95 67.4314 Q1733.4 73.7508 1723.68 73.7508 Q1713.92 73.7508 1708.37 67.4314 Q1702.86 61.0714 1702.86 49.9314 Q1702.86 38.7509 1708.37 32.4315 Q1713.92 26.1121 1723.68 26.1121 Z\" fill=\"#000000\" fill-rule=\"evenodd\" fill-opacity=\"1\" /><path clip-path=\"url(#clip300)\" d=\"M1794.57 45.1919 L1794.57 72.576 L1787.12 72.576 L1787.12 45.4349 Q1787.12 38.994 1784.6 35.7938 Q1782.09 32.5936 1777.07 32.5936 Q1771.03 32.5936 1767.55 36.4419 Q1764.07 40.2903 1764.07 46.9338 L1764.07 72.576 L1756.57 72.576 L1756.57 27.2059 L1764.07 27.2059 L1764.07 34.2544 Q1766.74 30.163 1770.34 28.1376 Q1773.99 26.1121 1778.73 26.1121 Q1786.55 26.1121 1790.56 30.9732 Q1794.57 35.7938 1794.57 45.1919 Z\" fill=\"#000000\" fill-rule=\"evenodd\" fill-opacity=\"1\" /><path clip-path=\"url(#clip300)\" d=\"M1831.47 27.2059 L1838.93 27.2059 L1848.24 62.6108 L1857.52 27.2059 L1866.31 27.2059 L1875.63 62.6108 L1884.9 27.2059 L1892.36 27.2059 L1880.49 72.576 L1871.7 72.576 L1861.94 35.3887 L1852.13 72.576 L1843.34 72.576 L1831.47 27.2059 Z\" fill=\"#000000\" fill-rule=\"evenodd\" fill-opacity=\"1\" /><path clip-path=\"url(#clip300)\" d=\"M1897.1 62.2867 L1905.65 62.2867 L1905.65 72.576 L1897.1 72.576 L1897.1 62.2867 Z\" fill=\"#000000\" fill-rule=\"evenodd\" fill-opacity=\"1\" /><path clip-path=\"url(#clip300)\" d=\"M1948.71 34.1734 Q1947.45 33.4443 1945.95 33.1202 Q1944.49 32.7556 1942.71 32.7556 Q1936.39 32.7556 1932.99 36.8875 Q1929.63 40.9789 1929.63 48.6757 L1929.63 72.576 L1922.13 72.576 L1922.13 27.2059 L1929.63 27.2059 L1929.63 34.2544 Q1931.98 30.1225 1935.74 28.1376 Q1939.51 26.1121 1944.9 26.1121 Q1945.67 26.1121 1946.6 26.2337 Q1947.53 26.3147 1948.67 26.5172 L1948.71 34.1734 Z\" fill=\"#000000\" fill-rule=\"evenodd\" fill-opacity=\"1\" /><path clip-path=\"url(#clip300)\" d=\"M1949.96 62.2867 L1958.51 62.2867 L1958.51 72.576 L1949.96 72.576 L1949.96 62.2867 Z\" fill=\"#000000\" fill-rule=\"evenodd\" fill-opacity=\"1\" /><path clip-path=\"url(#clip300)\" d=\"M1982.65 14.324 L1982.65 27.2059 L1998.01 27.2059 L1998.01 32.9987 L1982.65 32.9987 L1982.65 57.6282 Q1982.65 63.1779 1984.15 64.7578 Q1985.69 66.3376 1990.35 66.3376 L1998.01 66.3376 L1998.01 72.576 L1990.35 72.576 Q1981.72 72.576 1978.44 69.3758 Q1975.16 66.1351 1975.16 57.6282 L1975.16 32.9987 L1969.69 32.9987 L1969.69 27.2059 L1975.16 27.2059 L1975.16 14.324 L1982.65 14.324 Z\" fill=\"#000000\" fill-rule=\"evenodd\" fill-opacity=\"1\" /><path clip-path=\"url(#clip300)\" d=\"M2008.86 62.2867 L2017.41 62.2867 L2017.41 72.576 L2008.86 72.576 L2008.86 62.2867 Z\" fill=\"#000000\" fill-rule=\"evenodd\" fill-opacity=\"1\" /><path clip-path=\"url(#clip300)\" d=\"M2056.22 27.2059 L2063.67 27.2059 L2072.99 62.6108 L2082.26 27.2059 L2091.06 27.2059 L2100.37 62.6108 L2109.65 27.2059 L2117.1 27.2059 L2105.23 72.576 L2096.44 72.576 L2086.68 35.3887 L2076.88 72.576 L2068.09 72.576 L2056.22 27.2059 Z\" fill=\"#000000\" fill-rule=\"evenodd\" fill-opacity=\"1\" /><path clip-path=\"url(#clip300)\" d=\"M2167.21 48.0275 L2167.21 51.6733 L2132.94 51.6733 Q2133.43 59.3701 2137.56 63.421 Q2141.73 67.4314 2149.15 67.4314 Q2153.44 67.4314 2157.45 66.3781 Q2161.5 65.3249 2165.47 63.2184 L2165.47 70.267 Q2161.46 71.9684 2157.25 72.8596 Q2153.03 73.7508 2148.7 73.7508 Q2137.84 73.7508 2131.48 67.4314 Q2125.16 61.1119 2125.16 50.3365 Q2125.16 39.1965 2131.16 32.6746 Q2137.19 26.1121 2147.4 26.1121 Q2156.56 26.1121 2161.86 32.0264 Q2167.21 37.9003 2167.21 48.0275 M2159.76 45.84 Q2159.68 39.7232 2156.32 36.0774 Q2152.99 32.4315 2147.48 32.4315 Q2141.25 32.4315 2137.48 35.9558 Q2133.75 39.4801 2133.18 45.8805 L2159.76 45.84 Z\" fill=\"#000000\" fill-rule=\"evenodd\" fill-opacity=\"1\" /><path clip-path=\"url(#clip300)\" d=\"M2218.25 48.0275 L2218.25 51.6733 L2183.98 51.6733 Q2184.47 59.3701 2188.6 63.421 Q2192.77 67.4314 2200.19 67.4314 Q2204.48 67.4314 2208.49 66.3781 Q2212.54 65.3249 2216.51 63.2184 L2216.51 70.267 Q2212.5 71.9684 2208.29 72.8596 Q2204.08 73.7508 2199.74 73.7508 Q2188.88 73.7508 2182.52 67.4314 Q2176.21 61.1119 2176.21 50.3365 Q2176.21 39.1965 2182.2 32.6746 Q2188.24 26.1121 2198.44 26.1121 Q2207.6 26.1121 2212.91 32.0264 Q2218.25 37.9003 2218.25 48.0275 M2210.8 45.84 Q2210.72 39.7232 2207.36 36.0774 Q2204.03 32.4315 2198.53 32.4315 Q2192.29 32.4315 2188.52 35.9558 Q2184.79 39.4801 2184.23 45.8805 L2210.8 45.84 Z\" fill=\"#000000\" fill-rule=\"evenodd\" fill-opacity=\"1\" /><path clip-path=\"url(#clip300)\" d=\"M2230.2 9.54393 L2237.7 9.54393 L2237.7 46.7717 L2259.94 27.2059 L2269.46 27.2059 L2245.39 48.4326 L2270.47 72.576 L2260.75 72.576 L2237.7 50.4176 L2237.7 72.576 L2230.2 72.576 L2230.2 9.54393 Z\" fill=\"#000000\" fill-rule=\"evenodd\" fill-opacity=\"1\" /><path clip-path=\"url(#clip300)\" d=\"M2307.45 28.5427 L2307.45 35.5912 Q2304.29 33.9709 2300.89 33.1607 Q2297.49 32.3505 2293.84 32.3505 Q2288.29 32.3505 2285.5 34.0519 Q2282.74 35.7533 2282.74 39.156 Q2282.74 41.7486 2284.73 43.2475 Q2286.71 44.7058 2292.71 46.0426 L2295.26 46.6097 Q2303.2 48.3111 2306.52 51.4303 Q2309.88 54.509 2309.88 60.0587 Q2309.88 66.3781 2304.86 70.0644 Q2299.88 73.7508 2291.13 73.7508 Q2287.48 73.7508 2283.51 73.0216 Q2279.58 72.3329 2275.21 70.9151 L2275.21 63.2184 Q2279.34 65.3654 2283.35 66.4591 Q2287.36 67.5124 2291.29 67.5124 Q2296.56 67.5124 2299.39 65.73 Q2302.23 63.9071 2302.23 60.6258 Q2302.23 57.5877 2300.16 55.9673 Q2298.14 54.3469 2291.21 52.8481 L2288.62 52.2405 Q2281.69 50.7821 2278.61 47.7845 Q2275.53 44.7463 2275.53 39.4801 Q2275.53 33.0797 2280.07 29.5959 Q2284.61 26.1121 2292.95 26.1121 Q2297.08 26.1121 2300.73 26.7198 Q2304.38 27.3274 2307.45 28.5427 Z\" fill=\"#000000\" fill-rule=\"evenodd\" fill-opacity=\"1\" /><polyline clip-path=\"url(#clip302)\" style=\"stroke:#009af9; stroke-linecap:butt; stroke-linejoin:round; stroke-width:6; stroke-opacity:1; fill:none\" points=\"\n",
       "  295.211,481.115 364.095,1102.21 432.978,1203.05 501.861,847.811 570.745,1345.14 639.628,861.562 708.511,765.305 777.395,1038.03 846.278,1111.37 915.161,921.15 \n",
       "  984.044,1077 1052.93,914.275 1121.81,1271.8 1190.69,1285.55 1259.58,898.232 1328.46,1157.21 1397.34,909.691 1466.23,1246.59 1535.11,245.055 1603.99,1083.87 \n",
       "  1672.88,1118.25 1741.76,985.322 1810.64,1225.97 1879.53,1056.37 1948.41,1090.75 2017.29,1189.3 2086.18,579.665 2155.06,705.716 2223.94,1070.12 2292.83,973.863 \n",
       "  \n",
       "  \"/>\n",
       "<polyline clip-path=\"url(#clip302)\" style=\"stroke:#e26f46; stroke-linecap:butt; stroke-linejoin:round; stroke-width:6; stroke-opacity:1; fill:none\" points=\"\n",
       "  295.211,400.9 364.095,882.189 432.978,891.356 501.861,568.205 570.745,1230.55 639.628,744.678 708.511,412.36 777.395,1038.03 846.278,882.189 915.161,719.468 \n",
       "  984.044,923.442 1052.93,526.952 1121.81,1198.46 1190.69,996.781 1259.58,510.909 1328.46,957.82 1397.34,822.601 1466.23,1097.62 1535.11,160.256 1603.99,895.94 \n",
       "  1672.88,980.738 1741.76,760.721 1810.64,1001.36 1879.53,985.322 1948.41,999.073 2017.29,1129.71 2086.18,691.965 2155.06,320.686 2223.94,877.605 2292.83,595.708 \n",
       "  \n",
       "  \"/>\n",
       "<polyline clip-path=\"url(#clip302)\" style=\"stroke:#3da44d; stroke-linecap:butt; stroke-linejoin:round; stroke-width:6; stroke-opacity:1; fill:none\" points=\"\n",
       "  295.211,1028.87 364.095,1175.55 432.978,1166.38 501.861,1319.93 570.745,1326.81 639.628,1198.46 708.511,1081.58 777.395,1290.14 846.278,1262.64 915.161,1150.34 \n",
       "  984.044,1294.72 1052.93,1223.67 1121.81,1333.68 1190.69,1333.68 1259.58,964.695 1328.46,1329.1 1397.34,1232.84 1466.23,1260.34 1535.11,1386.4 1603.99,1152.63 \n",
       "  1672.88,1223.67 1741.76,1232.84 1810.64,1315.35 1879.53,1207.63 1948.41,1235.13 2017.29,1290.14 2086.18,1086.16 2155.06,1028.87 2223.94,1329.1 2292.83,1308.47 \n",
       "  \n",
       "  \"/>\n",
       "<path clip-path=\"url(#clip300)\" d=\"\n",
       "M1854.82 374.156 L2282.17 374.156 L2282.17 166.796 L1854.82 166.796  Z\n",
       "  \" fill=\"#ffffff\" fill-rule=\"evenodd\" fill-opacity=\"1\"/>\n",
       "<polyline clip-path=\"url(#clip300)\" style=\"stroke:#000000; stroke-linecap:butt; stroke-linejoin:round; stroke-width:4; stroke-opacity:1; fill:none\" points=\"\n",
       "  1854.82,374.156 2282.17,374.156 2282.17,166.796 1854.82,166.796 1854.82,374.156 \n",
       "  \"/>\n",
       "<polyline clip-path=\"url(#clip300)\" style=\"stroke:#009af9; stroke-linecap:butt; stroke-linejoin:round; stroke-width:4; stroke-opacity:1; fill:none\" points=\"\n",
       "  1878.34,218.636 2019.51,218.636 \n",
       "  \"/>\n",
       "<path clip-path=\"url(#clip300)\" d=\"M2059.05 204.527 Q2053.96 204.527 2050.95 208.323 Q2047.97 212.12 2047.97 218.67 Q2047.97 225.198 2050.95 228.994 Q2053.96 232.791 2059.05 232.791 Q2064.15 232.791 2067.11 228.994 Q2070.1 225.198 2070.1 218.67 Q2070.1 212.12 2067.11 208.323 Q2064.15 204.527 2059.05 204.527 M2059.05 200.731 Q2066.32 200.731 2070.67 205.615 Q2075.03 210.476 2075.03 218.67 Q2075.03 226.842 2070.67 231.726 Q2066.32 236.587 2059.05 236.587 Q2051.76 236.587 2047.39 231.726 Q2043.04 226.865 2043.04 218.67 Q2043.04 210.476 2047.39 205.615 Q2051.76 200.731 2059.05 200.731 Z\" fill=\"#000000\" fill-rule=\"evenodd\" fill-opacity=\"1\" /><path clip-path=\"url(#clip300)\" d=\"M2097.18 213.971 Q2096.46 213.555 2095.61 213.37 Q2094.77 213.161 2093.75 213.161 Q2090.14 213.161 2088.2 215.522 Q2086.28 217.86 2086.28 222.258 L2086.28 235.916 L2081.99 235.916 L2081.99 209.99 L2086.28 209.99 L2086.28 214.018 Q2087.62 211.657 2089.77 210.522 Q2091.92 209.365 2095 209.365 Q2095.44 209.365 2095.98 209.434 Q2096.51 209.481 2097.16 209.596 L2097.18 213.971 Z\" fill=\"#000000\" fill-rule=\"evenodd\" fill-opacity=\"1\" /><path clip-path=\"url(#clip300)\" d=\"M2117.87 213.925 L2117.87 199.897 L2122.13 199.897 L2122.13 235.916 L2117.87 235.916 L2117.87 232.027 Q2116.53 234.342 2114.47 235.476 Q2112.43 236.587 2109.56 236.587 Q2104.86 236.587 2101.9 232.837 Q2098.96 229.087 2098.96 222.976 Q2098.96 216.865 2101.9 213.115 Q2104.86 209.365 2109.56 209.365 Q2112.43 209.365 2114.47 210.499 Q2116.53 211.61 2117.87 213.925 M2103.36 222.976 Q2103.36 227.675 2105.28 230.36 Q2107.23 233.022 2110.61 233.022 Q2113.98 233.022 2115.93 230.36 Q2117.87 227.675 2117.87 222.976 Q2117.87 218.277 2115.93 215.615 Q2113.98 212.93 2110.61 212.93 Q2107.23 212.93 2105.28 215.615 Q2103.36 218.277 2103.36 222.976 Z\" fill=\"#000000\" fill-rule=\"evenodd\" fill-opacity=\"1\" /><path clip-path=\"url(#clip300)\" d=\"M2153.08 221.888 L2153.08 223.971 L2133.5 223.971 Q2133.78 228.369 2136.14 230.684 Q2138.52 232.976 2142.76 232.976 Q2145.21 232.976 2147.5 232.374 Q2149.82 231.772 2152.09 230.569 L2152.09 234.596 Q2149.79 235.568 2147.39 236.078 Q2144.98 236.587 2142.5 236.587 Q2136.3 236.587 2132.67 232.976 Q2129.05 229.365 2129.05 223.207 Q2129.05 216.842 2132.48 213.115 Q2135.93 209.365 2141.76 209.365 Q2146.99 209.365 2150.03 212.745 Q2153.08 216.101 2153.08 221.888 M2148.82 220.638 Q2148.78 217.143 2146.86 215.059 Q2144.96 212.976 2141.81 212.976 Q2138.24 212.976 2136.09 214.99 Q2133.96 217.004 2133.64 220.661 L2148.82 220.638 Z\" fill=\"#000000\" fill-rule=\"evenodd\" fill-opacity=\"1\" /><path clip-path=\"url(#clip300)\" d=\"M2175.1 213.971 Q2174.38 213.555 2173.52 213.37 Q2172.69 213.161 2171.67 213.161 Q2168.06 213.161 2166.11 215.522 Q2164.19 217.86 2164.19 222.258 L2164.19 235.916 L2159.91 235.916 L2159.91 209.99 L2164.19 209.99 L2164.19 214.018 Q2165.54 211.657 2167.69 210.522 Q2169.84 209.365 2172.92 209.365 Q2173.36 209.365 2173.89 209.434 Q2174.42 209.481 2175.07 209.596 L2175.1 213.971 Z\" fill=\"#000000\" fill-rule=\"evenodd\" fill-opacity=\"1\" /><path clip-path=\"url(#clip300)\" d=\"M2196.09 210.754 L2196.09 214.782 Q2194.29 213.856 2192.34 213.393 Q2190.4 212.93 2188.31 212.93 Q2185.14 212.93 2183.54 213.902 Q2181.97 214.874 2181.97 216.819 Q2181.97 218.3 2183.1 219.157 Q2184.24 219.99 2187.67 220.754 L2189.12 221.078 Q2193.66 222.05 2195.56 223.832 Q2197.48 225.592 2197.48 228.763 Q2197.48 232.374 2194.61 234.481 Q2191.76 236.587 2186.76 236.587 Q2184.68 236.587 2182.41 236.17 Q2180.17 235.777 2177.67 234.967 L2177.67 230.569 Q2180.03 231.795 2182.32 232.42 Q2184.61 233.022 2186.85 233.022 Q2189.86 233.022 2191.48 232.004 Q2193.1 230.962 2193.1 229.087 Q2193.1 227.351 2191.92 226.425 Q2190.77 225.499 2186.81 224.643 L2185.33 224.295 Q2181.37 223.462 2179.61 221.749 Q2177.85 220.013 2177.85 217.004 Q2177.85 213.346 2180.44 211.356 Q2183.04 209.365 2187.8 209.365 Q2190.17 209.365 2192.25 209.712 Q2194.33 210.059 2196.09 210.754 Z\" fill=\"#000000\" fill-rule=\"evenodd\" fill-opacity=\"1\" /><polyline clip-path=\"url(#clip300)\" style=\"stroke:#e26f46; stroke-linecap:butt; stroke-linejoin:round; stroke-width:4; stroke-opacity:1; fill:none\" points=\"\n",
       "  1878.34,270.476 2019.51,270.476 \n",
       "  \"/>\n",
       "<path clip-path=\"url(#clip300)\" d=\"M2047.71 257.038 L2047.71 283.913 L2053.36 283.913 Q2060.51 283.913 2063.82 280.672 Q2067.16 277.432 2067.16 270.441 Q2067.16 263.497 2063.82 260.279 Q2060.51 257.038 2053.36 257.038 L2047.71 257.038 M2043.04 253.196 L2052.64 253.196 Q2062.69 253.196 2067.39 257.386 Q2072.09 261.552 2072.09 270.441 Q2072.09 279.376 2067.36 283.566 Q2062.64 287.756 2052.64 287.756 L2043.04 287.756 L2043.04 253.196 Z\" fill=\"#000000\" fill-rule=\"evenodd\" fill-opacity=\"1\" /><path clip-path=\"url(#clip300)\" d=\"M2101.53 273.728 L2101.53 275.811 L2081.95 275.811 Q2082.23 280.209 2084.59 282.524 Q2086.97 284.816 2091.21 284.816 Q2093.66 284.816 2095.95 284.214 Q2098.27 283.612 2100.54 282.409 L2100.54 286.436 Q2098.24 287.408 2095.84 287.918 Q2093.43 288.427 2090.95 288.427 Q2084.75 288.427 2081.11 284.816 Q2077.5 281.205 2077.5 275.047 Q2077.5 268.682 2080.93 264.955 Q2084.38 261.205 2090.21 261.205 Q2095.44 261.205 2098.48 264.585 Q2101.53 267.941 2101.53 273.728 M2097.27 272.478 Q2097.23 268.983 2095.3 266.899 Q2093.41 264.816 2090.26 264.816 Q2086.69 264.816 2084.54 266.83 Q2082.41 268.844 2082.09 272.501 L2097.27 272.478 Z\" fill=\"#000000\" fill-rule=\"evenodd\" fill-opacity=\"1\" /><path clip-path=\"url(#clip300)\" d=\"M2128.71 266.807 Q2130.3 263.936 2132.53 262.571 Q2134.75 261.205 2137.76 261.205 Q2141.81 261.205 2144.01 264.052 Q2146.21 266.876 2146.21 272.108 L2146.21 287.756 L2141.92 287.756 L2141.92 272.247 Q2141.92 268.52 2140.61 266.714 Q2139.29 264.909 2136.58 264.909 Q2133.27 264.909 2131.35 267.108 Q2129.42 269.307 2129.42 273.103 L2129.42 287.756 L2125.14 287.756 L2125.14 272.247 Q2125.14 268.497 2123.82 266.714 Q2122.5 264.909 2119.75 264.909 Q2116.48 264.909 2114.56 267.131 Q2112.64 269.33 2112.64 273.103 L2112.64 287.756 L2108.36 287.756 L2108.36 261.83 L2112.64 261.83 L2112.64 265.858 Q2114.1 263.473 2116.14 262.339 Q2118.17 261.205 2120.98 261.205 Q2123.8 261.205 2125.77 262.64 Q2127.76 264.075 2128.71 266.807 Z\" fill=\"#000000\" fill-rule=\"evenodd\" fill-opacity=\"1\" /><path clip-path=\"url(#clip300)\" d=\"M2166.48 274.723 Q2161.32 274.723 2159.33 275.904 Q2157.34 277.084 2157.34 279.932 Q2157.34 282.2 2158.82 283.543 Q2160.33 284.862 2162.9 284.862 Q2166.44 284.862 2168.57 282.362 Q2170.72 279.839 2170.72 275.672 L2170.72 274.723 L2166.48 274.723 M2174.98 272.964 L2174.98 287.756 L2170.72 287.756 L2170.72 283.821 Q2169.26 286.182 2167.09 287.316 Q2164.91 288.427 2161.76 288.427 Q2157.78 288.427 2155.42 286.205 Q2153.08 283.959 2153.08 280.209 Q2153.08 275.834 2156 273.612 Q2158.94 271.39 2164.75 271.39 L2170.72 271.39 L2170.72 270.973 Q2170.72 268.034 2168.78 266.436 Q2166.85 264.816 2163.36 264.816 Q2161.14 264.816 2159.03 265.348 Q2156.92 265.881 2154.98 266.946 L2154.98 263.01 Q2157.32 262.108 2159.52 261.668 Q2161.72 261.205 2163.8 261.205 Q2169.42 261.205 2172.2 264.122 Q2174.98 267.038 2174.98 272.964 Z\" fill=\"#000000\" fill-rule=\"evenodd\" fill-opacity=\"1\" /><path clip-path=\"url(#clip300)\" d=\"M2205.3 272.108 L2205.3 287.756 L2201.04 287.756 L2201.04 272.247 Q2201.04 268.566 2199.61 266.737 Q2198.17 264.909 2195.3 264.909 Q2191.85 264.909 2189.86 267.108 Q2187.87 269.307 2187.87 273.103 L2187.87 287.756 L2183.59 287.756 L2183.59 261.83 L2187.87 261.83 L2187.87 265.858 Q2189.4 263.52 2191.46 262.362 Q2193.54 261.205 2196.25 261.205 Q2200.72 261.205 2203.01 263.983 Q2205.3 266.737 2205.3 272.108 Z\" fill=\"#000000\" fill-rule=\"evenodd\" fill-opacity=\"1\" /><path clip-path=\"url(#clip300)\" d=\"M2230.86 265.765 L2230.86 251.737 L2235.12 251.737 L2235.12 287.756 L2230.86 287.756 L2230.86 283.867 Q2229.52 286.182 2227.46 287.316 Q2225.42 288.427 2222.55 288.427 Q2217.85 288.427 2214.89 284.677 Q2211.95 280.927 2211.95 274.816 Q2211.95 268.705 2214.89 264.955 Q2217.85 261.205 2222.55 261.205 Q2225.42 261.205 2227.46 262.339 Q2229.52 263.45 2230.86 265.765 M2216.35 274.816 Q2216.35 279.515 2218.27 282.2 Q2220.21 284.862 2223.59 284.862 Q2226.97 284.862 2228.91 282.2 Q2230.86 279.515 2230.86 274.816 Q2230.86 270.117 2228.91 267.455 Q2226.97 264.77 2223.59 264.77 Q2220.21 264.77 2218.27 267.455 Q2216.35 270.117 2216.35 274.816 Z\" fill=\"#000000\" fill-rule=\"evenodd\" fill-opacity=\"1\" /><polyline clip-path=\"url(#clip300)\" style=\"stroke:#3da44d; stroke-linecap:butt; stroke-linejoin:round; stroke-width:4; stroke-opacity:1; fill:none\" points=\"\n",
       "  1878.34,322.316 2019.51,322.316 \n",
       "  \"/>\n",
       "<path clip-path=\"url(#clip300)\" d=\"M2056.23 339.596 L2043.04 305.036 L2047.92 305.036 L2058.87 334.133 L2069.84 305.036 L2074.7 305.036 L2061.53 339.596 L2056.23 339.596 Z\" fill=\"#000000\" fill-rule=\"evenodd\" fill-opacity=\"1\" /><path clip-path=\"url(#clip300)\" d=\"M2078.52 313.67 L2082.78 313.67 L2082.78 339.596 L2078.52 339.596 L2078.52 313.67 M2078.52 303.577 L2082.78 303.577 L2082.78 308.971 L2078.52 308.971 L2078.52 303.577 Z\" fill=\"#000000\" fill-rule=\"evenodd\" fill-opacity=\"1\" /><path clip-path=\"url(#clip300)\" d=\"M2108.22 314.434 L2108.22 318.462 Q2106.42 317.536 2104.47 317.073 Q2102.53 316.61 2100.44 316.61 Q2097.27 316.61 2095.67 317.582 Q2094.1 318.554 2094.1 320.499 Q2094.1 321.98 2095.24 322.837 Q2096.37 323.67 2099.8 324.434 L2101.25 324.758 Q2105.79 325.73 2107.69 327.512 Q2109.61 329.272 2109.61 332.443 Q2109.61 336.054 2106.74 338.161 Q2103.89 340.267 2098.89 340.267 Q2096.81 340.267 2094.54 339.85 Q2092.3 339.457 2089.8 338.647 L2089.8 334.249 Q2092.16 335.475 2094.45 336.1 Q2096.74 336.702 2098.98 336.702 Q2101.99 336.702 2103.61 335.684 Q2105.23 334.642 2105.23 332.767 Q2105.23 331.031 2104.05 330.105 Q2102.9 329.179 2098.94 328.323 L2097.46 327.975 Q2093.5 327.142 2091.74 325.429 Q2089.98 323.693 2089.98 320.684 Q2089.98 317.026 2092.57 315.036 Q2095.17 313.045 2099.93 313.045 Q2102.3 313.045 2104.38 313.392 Q2106.46 313.739 2108.22 314.434 Z\" fill=\"#000000\" fill-rule=\"evenodd\" fill-opacity=\"1\" /><path clip-path=\"url(#clip300)\" d=\"M2116.39 313.67 L2120.65 313.67 L2120.65 339.596 L2116.39 339.596 L2116.39 313.67 M2116.39 303.577 L2120.65 303.577 L2120.65 308.971 L2116.39 308.971 L2116.39 303.577 Z\" fill=\"#000000\" fill-rule=\"evenodd\" fill-opacity=\"1\" /><path clip-path=\"url(#clip300)\" d=\"M2133.78 306.309 L2133.78 313.67 L2142.55 313.67 L2142.55 316.98 L2133.78 316.98 L2133.78 331.054 Q2133.78 334.225 2134.63 335.128 Q2135.51 336.031 2138.17 336.031 L2142.55 336.031 L2142.55 339.596 L2138.17 339.596 Q2133.24 339.596 2131.37 337.767 Q2129.49 335.915 2129.49 331.054 L2129.49 316.98 L2126.37 316.98 L2126.37 313.67 L2129.49 313.67 L2129.49 306.309 L2133.78 306.309 Z\" fill=\"#000000\" fill-rule=\"evenodd\" fill-opacity=\"1\" /><path clip-path=\"url(#clip300)\" d=\"M2158.2 316.656 Q2154.77 316.656 2152.78 319.341 Q2150.79 322.003 2150.79 326.656 Q2150.79 331.309 2152.76 333.994 Q2154.75 336.656 2158.2 336.656 Q2161.6 336.656 2163.59 333.971 Q2165.58 331.286 2165.58 326.656 Q2165.58 322.05 2163.59 319.364 Q2161.6 316.656 2158.2 316.656 M2158.2 313.045 Q2163.75 313.045 2166.92 316.656 Q2170.1 320.267 2170.1 326.656 Q2170.1 333.022 2166.92 336.656 Q2163.75 340.267 2158.2 340.267 Q2152.62 340.267 2149.45 336.656 Q2146.3 333.022 2146.3 326.656 Q2146.3 320.267 2149.45 316.656 Q2152.62 313.045 2158.2 313.045 Z\" fill=\"#000000\" fill-rule=\"evenodd\" fill-opacity=\"1\" /><path clip-path=\"url(#clip300)\" d=\"M2192.18 317.651 Q2191.46 317.235 2190.6 317.05 Q2189.77 316.841 2188.75 316.841 Q2185.14 316.841 2183.2 319.202 Q2181.28 321.54 2181.28 325.938 L2181.28 339.596 L2176.99 339.596 L2176.99 313.67 L2181.28 313.67 L2181.28 317.698 Q2182.62 315.337 2184.77 314.202 Q2186.92 313.045 2190 313.045 Q2190.44 313.045 2190.98 313.114 Q2191.51 313.161 2192.16 313.276 L2192.18 317.651 Z\" fill=\"#000000\" fill-rule=\"evenodd\" fill-opacity=\"1\" /><path clip-path=\"url(#clip300)\" d=\"M2213.17 314.434 L2213.17 318.462 Q2211.37 317.536 2209.42 317.073 Q2207.48 316.61 2205.4 316.61 Q2202.23 316.61 2200.63 317.582 Q2199.05 318.554 2199.05 320.499 Q2199.05 321.98 2200.19 322.837 Q2201.32 323.67 2204.75 324.434 L2206.21 324.758 Q2210.74 325.73 2212.64 327.512 Q2214.56 329.272 2214.56 332.443 Q2214.56 336.054 2211.69 338.161 Q2208.85 340.267 2203.85 340.267 Q2201.76 340.267 2199.49 339.85 Q2197.25 339.457 2194.75 338.647 L2194.75 334.249 Q2197.11 335.475 2199.4 336.1 Q2201.69 336.702 2203.94 336.702 Q2206.95 336.702 2208.57 335.684 Q2210.19 334.642 2210.19 332.767 Q2210.19 331.031 2209.01 330.105 Q2207.85 329.179 2203.89 328.323 L2202.41 327.975 Q2198.45 327.142 2196.69 325.429 Q2194.93 323.693 2194.93 320.684 Q2194.93 317.026 2197.53 315.036 Q2200.12 313.045 2204.89 313.045 Q2207.25 313.045 2209.33 313.392 Q2211.41 313.739 2213.17 314.434 Z\" fill=\"#000000\" fill-rule=\"evenodd\" fill-opacity=\"1\" /></svg>\n"
      ]
     },
     "execution_count": 23,
     "metadata": {},
     "output_type": "execute_result"
    }
   ],
   "source": [
    "# Visulaizing deamnd and Order variations for intial 20 weeks\n",
    "using Plots\n",
    "d = bakeryDf.Demand[1:30]\n",
    "o = bakeryDf.Orders[1:30]\n",
    "v = bakeryDf.Visitors[1:30]\n",
    "plot([o d v], xlabel = \"WEEK\", ylabel = \"UNITS\", xticks = 1:length(d), label = [\"Orders\"  \"Demand\" \"Visitors\"], title = \"Demand, Order, and Visitor Variation w.r.t. weeks\", lw=1.5)"
   ]
  },
  {
   "cell_type": "code",
   "execution_count": 24,
   "metadata": {},
   "outputs": [
    {
     "data": {
      "text/html": [
       "<div class=\"data-frame\"><p>3 rows × 7 columns</p><table class=\"data-frame\"><thead><tr><th></th><th>variable</th><th>mean</th><th>min</th><th>median</th><th>max</th><th>nmissing</th><th>eltype</th></tr><tr><th></th><th title=\"Symbol\">Symbol</th><th title=\"Float64\">Float64</th><th title=\"Int64\">Int64</th><th title=\"Float64\">Float64</th><th title=\"Int64\">Int64</th><th title=\"Int64\">Int64</th><th title=\"DataType\">DataType</th></tr></thead><tbody><tr><th>1</th><td>Orders</td><td>171.122</td><td>22</td><td>146.0</td><td>502</td><td>0</td><td>Int64</td></tr><tr><th>2</th><td>Visitors</td><td>70.8163</td><td>2</td><td>68.0</td><td>194</td><td>0</td><td>Int64</td></tr><tr><th>3</th><td>Demand</td><td>265.143</td><td>72</td><td>236.0</td><td>539</td><td>0</td><td>Int64</td></tr></tbody></table></div>"
      ],
      "text/latex": [
       "\\begin{tabular}{r|ccccccc}\n",
       "\t& variable & mean & min & median & max & nmissing & eltype\\\\\n",
       "\t\\hline\n",
       "\t& Symbol & Float64 & Int64 & Float64 & Int64 & Int64 & DataType\\\\\n",
       "\t\\hline\n",
       "\t1 & Orders & 171.122 & 22 & 146.0 & 502 & 0 & Int64 \\\\\n",
       "\t2 & Visitors & 70.8163 & 2 & 68.0 & 194 & 0 & Int64 \\\\\n",
       "\t3 & Demand & 265.143 & 72 & 236.0 & 539 & 0 & Int64 \\\\\n",
       "\\end{tabular}\n"
      ],
      "text/plain": [
       "\u001b[1m3×7 DataFrame\u001b[0m\n",
       "\u001b[1m Row \u001b[0m│\u001b[1m variable \u001b[0m\u001b[1m mean     \u001b[0m\u001b[1m min   \u001b[0m\u001b[1m median  \u001b[0m\u001b[1m max   \u001b[0m\u001b[1m nmissing \u001b[0m\u001b[1m eltype   \u001b[0m\n",
       "\u001b[1m     \u001b[0m│\u001b[90m Symbol   \u001b[0m\u001b[90m Float64  \u001b[0m\u001b[90m Int64 \u001b[0m\u001b[90m Float64 \u001b[0m\u001b[90m Int64 \u001b[0m\u001b[90m Int64    \u001b[0m\u001b[90m DataType \u001b[0m\n",
       "─────┼───────────────────────────────────────────────────────────────\n",
       "   1 │ Orders    171.122      22    146.0    502         0  Int64\n",
       "   2 │ Visitors   70.8163      2     68.0    194         0  Int64\n",
       "   3 │ Demand    265.143      72    236.0    539         0  Int64"
      ]
     },
     "execution_count": 24,
     "metadata": {},
     "output_type": "execute_result"
    }
   ],
   "source": [
    "describe(bakeryDf)"
   ]
  },
  {
   "cell_type": "code",
   "execution_count": 25,
   "metadata": {},
   "outputs": [
    {
     "data": {
      "text/plain": [
       "┌──────────┬─────────┬────────────┐\n",
       "│\u001b[22m _.names  \u001b[0m│\u001b[22m _.types \u001b[0m│\u001b[22m _.scitypes \u001b[0m│\n",
       "├──────────┼─────────┼────────────┤\n",
       "│ Orders   │ Int64   │ Count      │\n",
       "│ Visitors │ Int64   │ Count      │\n",
       "│ Demand   │ Int64   │ Count      │\n",
       "└──────────┴─────────┴────────────┘\n",
       "_.nrows = 49\n"
      ]
     },
     "execution_count": 25,
     "metadata": {},
     "output_type": "execute_result"
    }
   ],
   "source": [
    "using MLJ\n",
    "schema(bakeryDf)\n",
    "\n",
    "# Demand, Order, and Number of Visitor features are traeted as discreate by the MLJ module, but these feature should be continuous. "
   ]
  },
  {
   "cell_type": "code",
   "execution_count": 26,
   "metadata": {},
   "outputs": [
    {
     "data": {
      "text/plain": [
       "┌──────────┬─────────┬────────────┐\n",
       "│\u001b[22m _.names  \u001b[0m│\u001b[22m _.types \u001b[0m│\u001b[22m _.scitypes \u001b[0m│\n",
       "├──────────┼─────────┼────────────┤\n",
       "│ Orders   │ Float64 │ Continuous │\n",
       "│ Visitors │ Float64 │ Continuous │\n",
       "│ Demand   │ Float64 │ Continuous │\n",
       "└──────────┴─────────┴────────────┘\n",
       "_.nrows = 49\n"
      ]
     },
     "execution_count": 26,
     "metadata": {},
     "output_type": "execute_result"
    }
   ],
   "source": [
    "# Channging variables to continuous from discrete\n",
    "bakeryDf = coerce(bakeryDf, :Demand=>Continuous, :Orders=>Continuous, :Visitors=>Continuous)\n",
    "schema(bakeryDf)"
   ]
  },
  {
   "cell_type": "code",
   "execution_count": 27,
   "metadata": {},
   "outputs": [
    {
     "data": {
      "text/html": [
       "<div class=\"data-frame\"><p>49 rows × 2 columns</p><table class=\"data-frame\"><thead><tr><th></th><th>Orders</th><th>Visitors</th></tr><tr><th></th><th title=\"Float64\">Float64</th><th title=\"Float64\">Float64</th></tr></thead><tbody><tr><th>1</th><td>399.0</td><td>160.0</td></tr><tr><th>2</th><td>128.0</td><td>96.0</td></tr><tr><th>3</th><td>84.0</td><td>100.0</td></tr><tr><th>4</th><td>239.0</td><td>33.0</td></tr><tr><th>5</th><td>22.0</td><td>30.0</td></tr><tr><th>6</th><td>233.0</td><td>86.0</td></tr><tr><th>7</th><td>275.0</td><td>137.0</td></tr><tr><th>8</th><td>156.0</td><td>46.0</td></tr><tr><th>9</th><td>124.0</td><td>58.0</td></tr><tr><th>10</th><td>207.0</td><td>107.0</td></tr><tr><th>11</th><td>139.0</td><td>44.0</td></tr><tr><th>12</th><td>210.0</td><td>75.0</td></tr><tr><th>13</th><td>54.0</td><td>27.0</td></tr><tr><th>14</th><td>48.0</td><td>27.0</td></tr><tr><th>15</th><td>217.0</td><td>188.0</td></tr><tr><th>16</th><td>104.0</td><td>29.0</td></tr><tr><th>17</th><td>212.0</td><td>71.0</td></tr><tr><th>18</th><td>65.0</td><td>59.0</td></tr><tr><th>19</th><td>502.0</td><td>4.0</td></tr><tr><th>20</th><td>136.0</td><td>106.0</td></tr><tr><th>21</th><td>121.0</td><td>75.0</td></tr><tr><th>22</th><td>179.0</td><td>71.0</td></tr><tr><th>23</th><td>74.0</td><td>35.0</td></tr><tr><th>24</th><td>148.0</td><td>82.0</td></tr><tr><th>25</th><td>133.0</td><td>70.0</td></tr><tr><th>26</th><td>90.0</td><td>46.0</td></tr><tr><th>27</th><td>356.0</td><td>135.0</td></tr><tr><th>28</th><td>301.0</td><td>160.0</td></tr><tr><th>29</th><td>142.0</td><td>29.0</td></tr><tr><th>30</th><td>184.0</td><td>38.0</td></tr><tr><th>&vellip;</th><td>&vellip;</td><td>&vellip;</td></tr></tbody></table></div>"
      ],
      "text/latex": [
       "\\begin{tabular}{r|cc}\n",
       "\t& Orders & Visitors\\\\\n",
       "\t\\hline\n",
       "\t& Float64 & Float64\\\\\n",
       "\t\\hline\n",
       "\t1 & 399.0 & 160.0 \\\\\n",
       "\t2 & 128.0 & 96.0 \\\\\n",
       "\t3 & 84.0 & 100.0 \\\\\n",
       "\t4 & 239.0 & 33.0 \\\\\n",
       "\t5 & 22.0 & 30.0 \\\\\n",
       "\t6 & 233.0 & 86.0 \\\\\n",
       "\t7 & 275.0 & 137.0 \\\\\n",
       "\t8 & 156.0 & 46.0 \\\\\n",
       "\t9 & 124.0 & 58.0 \\\\\n",
       "\t10 & 207.0 & 107.0 \\\\\n",
       "\t11 & 139.0 & 44.0 \\\\\n",
       "\t12 & 210.0 & 75.0 \\\\\n",
       "\t13 & 54.0 & 27.0 \\\\\n",
       "\t14 & 48.0 & 27.0 \\\\\n",
       "\t15 & 217.0 & 188.0 \\\\\n",
       "\t16 & 104.0 & 29.0 \\\\\n",
       "\t17 & 212.0 & 71.0 \\\\\n",
       "\t18 & 65.0 & 59.0 \\\\\n",
       "\t19 & 502.0 & 4.0 \\\\\n",
       "\t20 & 136.0 & 106.0 \\\\\n",
       "\t21 & 121.0 & 75.0 \\\\\n",
       "\t22 & 179.0 & 71.0 \\\\\n",
       "\t23 & 74.0 & 35.0 \\\\\n",
       "\t24 & 148.0 & 82.0 \\\\\n",
       "\t25 & 133.0 & 70.0 \\\\\n",
       "\t26 & 90.0 & 46.0 \\\\\n",
       "\t27 & 356.0 & 135.0 \\\\\n",
       "\t28 & 301.0 & 160.0 \\\\\n",
       "\t29 & 142.0 & 29.0 \\\\\n",
       "\t30 & 184.0 & 38.0 \\\\\n",
       "\t$\\dots$ & $\\dots$ & $\\dots$ \\\\\n",
       "\\end{tabular}\n"
      ],
      "text/plain": [
       "\u001b[1m49×2 DataFrame\u001b[0m\n",
       "\u001b[1m Row \u001b[0m│\u001b[1m Orders  \u001b[0m\u001b[1m Visitors \u001b[0m\n",
       "\u001b[1m     \u001b[0m│\u001b[90m Float64 \u001b[0m\u001b[90m Float64  \u001b[0m\n",
       "─────┼───────────────────\n",
       "   1 │   399.0     160.0\n",
       "   2 │   128.0      96.0\n",
       "   3 │    84.0     100.0\n",
       "   4 │   239.0      33.0\n",
       "   5 │    22.0      30.0\n",
       "   6 │   233.0      86.0\n",
       "   7 │   275.0     137.0\n",
       "   8 │   156.0      46.0\n",
       "   9 │   124.0      58.0\n",
       "  10 │   207.0     107.0\n",
       "  11 │   139.0      44.0\n",
       "  ⋮  │    ⋮        ⋮\n",
       "  40 │   180.0      22.0\n",
       "  41 │   111.0      35.0\n",
       "  42 │   118.0      80.0\n",
       "  43 │    62.0      15.0\n",
       "  44 │   112.0      78.0\n",
       "  45 │    64.0       2.0\n",
       "  46 │   140.0     141.0\n",
       "  47 │   146.0      33.0\n",
       "  48 │   225.0      11.0\n",
       "  49 │   201.0      34.0\n",
       "\u001b[36m          28 rows omitted\u001b[0m"
      ]
     },
     "execution_count": 27,
     "metadata": {},
     "output_type": "execute_result"
    }
   ],
   "source": [
    "y = bakeryDf.Demand   # We have to predict demand (dependent variable)\n",
    "X = select(bakeryDf, Not(:Demand)) # Indepent features for the model"
   ]
  },
  {
   "cell_type": "markdown",
   "metadata": {},
   "source": [
    "### CASE-1: CONSIDERING VISTIORS & ORDERS FOR MODEL"
   ]
  },
  {
   "cell_type": "code",
   "execution_count": 28,
   "metadata": {},
   "outputs": [
    {
     "data": {
      "text/html": [
       "<div class=\"data-frame\"><p>5 rows × 2 columns</p><table class=\"data-frame\"><thead><tr><th></th><th>Orders</th><th>Visitors</th></tr><tr><th></th><th title=\"Float64\">Float64</th><th title=\"Float64\">Float64</th></tr></thead><tbody><tr><th>1</th><td>399.0</td><td>160.0</td></tr><tr><th>2</th><td>128.0</td><td>96.0</td></tr><tr><th>3</th><td>84.0</td><td>100.0</td></tr><tr><th>4</th><td>239.0</td><td>33.0</td></tr><tr><th>5</th><td>22.0</td><td>30.0</td></tr></tbody></table></div>"
      ],
      "text/latex": [
       "\\begin{tabular}{r|cc}\n",
       "\t& Orders & Visitors\\\\\n",
       "\t\\hline\n",
       "\t& Float64 & Float64\\\\\n",
       "\t\\hline\n",
       "\t1 & 399.0 & 160.0 \\\\\n",
       "\t2 & 128.0 & 96.0 \\\\\n",
       "\t3 & 84.0 & 100.0 \\\\\n",
       "\t4 & 239.0 & 33.0 \\\\\n",
       "\t5 & 22.0 & 30.0 \\\\\n",
       "\\end{tabular}\n"
      ],
      "text/plain": [
       "\u001b[1m5×2 DataFrame\u001b[0m\n",
       "\u001b[1m Row \u001b[0m│\u001b[1m Orders  \u001b[0m\u001b[1m Visitors \u001b[0m\n",
       "\u001b[1m     \u001b[0m│\u001b[90m Float64 \u001b[0m\u001b[90m Float64  \u001b[0m\n",
       "─────┼───────────────────\n",
       "   1 │   399.0     160.0\n",
       "   2 │   128.0      96.0\n",
       "   3 │    84.0     100.0\n",
       "   4 │   239.0      33.0\n",
       "   5 │    22.0      30.0"
      ]
     },
     "execution_count": 28,
     "metadata": {},
     "output_type": "execute_result"
    }
   ],
   "source": [
    "#creating a separate dataframe for analysis\n",
    "\n",
    "y = bakeryDf.Demand\n",
    "X1 = select(bakeryDf, Not(:Demand))\n",
    "first(X1,5)"
   ]
  },
  {
   "cell_type": "markdown",
   "metadata": {},
   "source": [
    "##### MODEL PREDICTION & ACCURACY "
   ]
  },
  {
   "cell_type": "code",
   "execution_count": 29,
   "metadata": {},
   "outputs": [
    {
     "data": {
      "text/plain": [
       "([41, 29, 30, 31, 18, 47, 11, 22, 16, 12  …  9, 25, 15, 17, 2, 38, 5, 32, 40, 24], [23, 13, 27, 19, 46, 14, 3, 45, 44, 33, 8, 7, 28, 37, 43])"
      ]
     },
     "execution_count": 29,
     "metadata": {},
     "output_type": "execute_result"
    }
   ],
   "source": [
    "# .7 of the dataset will be used for training and .3 as test to check model accuracy\n",
    "train, test = partition(eachindex(y), 0.7, shuffle=true, rng=3425)"
   ]
  },
  {
   "cell_type": "code",
   "execution_count": 30,
   "metadata": {},
   "outputs": [
    {
     "name": "stderr",
     "output_type": "stream",
     "text": [
      "┌ Info: For silent loading, specify `verbosity=0`. \n",
      "└ @ Main C:\\Users\\kamle\\.julia\\packages\\MLJModels\\4sRmw\\src\\loading.jl:168\n"
     ]
    },
    {
     "name": "stdout",
     "output_type": "stream",
     "text": [
      "import MLJLinearModels ✔\n",
      "[INFO] Printing model's intercept and coefs...."
     ]
    },
    {
     "data": {
      "text/plain": [
       "(coefs = [:Orders => 1.034632310571842, :Visitors => 0.2848019868524692],\n",
       " intercept = 76.2338458769853,)"
      ]
     },
     "execution_count": 30,
     "metadata": {},
     "output_type": "execute_result"
    }
   ],
   "source": [
    "# Import Linear Regression model\n",
    "\n",
    "using MLJLinearModels\n",
    "@load LinearRegressor pkg=MLJLinearModels\n",
    "\n",
    "# creating an object from LinearRegressor class\n",
    "model1 = LinearRegressor()\n",
    "\n",
    "mach = machine(model1, X1, y)\n",
    "\n",
    "# fiting the model for train data\n",
    "fit!(mach, rows=train, verbosity=0);\n",
    "\n",
    "print(\"[INFO] Printing model's intercept and coefs....\")\n",
    "model_params = fitted_params(mach)"
   ]
  },
  {
   "cell_type": "code",
   "execution_count": 31,
   "metadata": {},
   "outputs": [
    {
     "data": {
      "text/plain": [
       "15×2 Matrix{Float64}:\n",
       " 162.765  172.0\n",
       " 139.794   86.0\n",
       " 483.011  307.0\n",
       " 596.758  539.0\n",
       " 261.239  282.0\n",
       " 133.586  174.0\n",
       " 191.623  220.0\n",
       " 143.02   111.0\n",
       " 214.327  182.0\n",
       " 229.021  236.0\n",
       " 250.737  156.0\n",
       " 399.776  429.0\n",
       " 433.226  469.0\n",
       " 364.576  280.0\n",
       " 144.653   98.0"
      ]
     },
     "execution_count": 31,
     "metadata": {},
     "output_type": "execute_result"
    }
   ],
   "source": [
    "# Prediction from the model1\n",
    "ŷ = predict(mach, rows=test)\n",
    "\n",
    "[ŷ y[test,:]]"
   ]
  },
  {
   "cell_type": "code",
   "execution_count": 32,
   "metadata": {},
   "outputs": [
    {
     "data": {
      "image/svg+xml": [
       "<?xml version=\"1.0\" encoding=\"utf-8\"?>\n",
       "<svg xmlns=\"http://www.w3.org/2000/svg\" xmlns:xlink=\"http://www.w3.org/1999/xlink\" width=\"600\" height=\"400\" viewBox=\"0 0 2400 1600\">\n",
       "<defs>\n",
       "  <clipPath id=\"clip340\">\n",
       "    <rect x=\"0\" y=\"0\" width=\"2400\" height=\"1600\"/>\n",
       "  </clipPath>\n",
       "</defs>\n",
       "<path clip-path=\"url(#clip340)\" d=\"\n",
       "M0 1600 L2400 1600 L2400 0 L0 0  Z\n",
       "  \" fill=\"#ffffff\" fill-rule=\"evenodd\" fill-opacity=\"1\"/>\n",
       "<defs>\n",
       "  <clipPath id=\"clip341\">\n",
       "    <rect x=\"480\" y=\"0\" width=\"1681\" height=\"1600\"/>\n",
       "  </clipPath>\n",
       "</defs>\n",
       "<path clip-path=\"url(#clip340)\" d=\"\n",
       "M169.121 1486.45 L2352.76 1486.45 L2352.76 123.472 L169.121 123.472  Z\n",
       "  \" fill=\"#ffffff\" fill-rule=\"evenodd\" fill-opacity=\"1\"/>\n",
       "<defs>\n",
       "  <clipPath id=\"clip342\">\n",
       "    <rect x=\"169\" y=\"123\" width=\"2185\" height=\"1364\"/>\n",
       "  </clipPath>\n",
       "</defs>\n",
       "<polyline clip-path=\"url(#clip342)\" style=\"stroke:#000000; stroke-linecap:butt; stroke-linejoin:round; stroke-width:2; stroke-opacity:0.1; fill:none\" points=\"\n",
       "  378.067,1486.45 378.067,123.472 \n",
       "  \"/>\n",
       "<polyline clip-path=\"url(#clip342)\" style=\"stroke:#000000; stroke-linecap:butt; stroke-linejoin:round; stroke-width:2; stroke-opacity:0.1; fill:none\" points=\"\n",
       "  672.358,1486.45 672.358,123.472 \n",
       "  \"/>\n",
       "<polyline clip-path=\"url(#clip342)\" style=\"stroke:#000000; stroke-linecap:butt; stroke-linejoin:round; stroke-width:2; stroke-opacity:0.1; fill:none\" points=\"\n",
       "  966.648,1486.45 966.648,123.472 \n",
       "  \"/>\n",
       "<polyline clip-path=\"url(#clip342)\" style=\"stroke:#000000; stroke-linecap:butt; stroke-linejoin:round; stroke-width:2; stroke-opacity:0.1; fill:none\" points=\"\n",
       "  1260.94,1486.45 1260.94,123.472 \n",
       "  \"/>\n",
       "<polyline clip-path=\"url(#clip342)\" style=\"stroke:#000000; stroke-linecap:butt; stroke-linejoin:round; stroke-width:2; stroke-opacity:0.1; fill:none\" points=\"\n",
       "  1555.23,1486.45 1555.23,123.472 \n",
       "  \"/>\n",
       "<polyline clip-path=\"url(#clip342)\" style=\"stroke:#000000; stroke-linecap:butt; stroke-linejoin:round; stroke-width:2; stroke-opacity:0.1; fill:none\" points=\"\n",
       "  1849.52,1486.45 1849.52,123.472 \n",
       "  \"/>\n",
       "<polyline clip-path=\"url(#clip342)\" style=\"stroke:#000000; stroke-linecap:butt; stroke-linejoin:round; stroke-width:2; stroke-opacity:0.1; fill:none\" points=\"\n",
       "  2143.81,1486.45 2143.81,123.472 \n",
       "  \"/>\n",
       "<polyline clip-path=\"url(#clip340)\" style=\"stroke:#000000; stroke-linecap:butt; stroke-linejoin:round; stroke-width:4; stroke-opacity:1; fill:none\" points=\"\n",
       "  169.121,1486.45 2352.76,1486.45 \n",
       "  \"/>\n",
       "<polyline clip-path=\"url(#clip340)\" style=\"stroke:#000000; stroke-linecap:butt; stroke-linejoin:round; stroke-width:4; stroke-opacity:1; fill:none\" points=\"\n",
       "  378.067,1486.45 378.067,1467.55 \n",
       "  \"/>\n",
       "<polyline clip-path=\"url(#clip340)\" style=\"stroke:#000000; stroke-linecap:butt; stroke-linejoin:round; stroke-width:4; stroke-opacity:1; fill:none\" points=\"\n",
       "  672.358,1486.45 672.358,1467.55 \n",
       "  \"/>\n",
       "<polyline clip-path=\"url(#clip340)\" style=\"stroke:#000000; stroke-linecap:butt; stroke-linejoin:round; stroke-width:4; stroke-opacity:1; fill:none\" points=\"\n",
       "  966.648,1486.45 966.648,1467.55 \n",
       "  \"/>\n",
       "<polyline clip-path=\"url(#clip340)\" style=\"stroke:#000000; stroke-linecap:butt; stroke-linejoin:round; stroke-width:4; stroke-opacity:1; fill:none\" points=\"\n",
       "  1260.94,1486.45 1260.94,1467.55 \n",
       "  \"/>\n",
       "<polyline clip-path=\"url(#clip340)\" style=\"stroke:#000000; stroke-linecap:butt; stroke-linejoin:round; stroke-width:4; stroke-opacity:1; fill:none\" points=\"\n",
       "  1555.23,1486.45 1555.23,1467.55 \n",
       "  \"/>\n",
       "<polyline clip-path=\"url(#clip340)\" style=\"stroke:#000000; stroke-linecap:butt; stroke-linejoin:round; stroke-width:4; stroke-opacity:1; fill:none\" points=\"\n",
       "  1849.52,1486.45 1849.52,1467.55 \n",
       "  \"/>\n",
       "<polyline clip-path=\"url(#clip340)\" style=\"stroke:#000000; stroke-linecap:butt; stroke-linejoin:round; stroke-width:4; stroke-opacity:1; fill:none\" points=\"\n",
       "  2143.81,1486.45 2143.81,1467.55 \n",
       "  \"/>\n",
       "<path clip-path=\"url(#clip340)\" d=\"M372.72 1543.18 L389.04 1543.18 L389.04 1547.12 L367.095 1547.12 L367.095 1543.18 Q369.757 1540.43 374.341 1535.8 Q378.947 1531.15 380.128 1529.81 Q382.373 1527.28 383.253 1525.55 Q384.155 1523.79 384.155 1522.1 Q384.155 1519.34 382.211 1517.61 Q380.29 1515.87 377.188 1515.87 Q374.989 1515.87 372.535 1516.63 Q370.105 1517.4 367.327 1518.95 L367.327 1514.23 Q370.151 1513.09 372.605 1512.51 Q375.058 1511.93 377.095 1511.93 Q382.466 1511.93 385.66 1514.62 Q388.854 1517.31 388.854 1521.8 Q388.854 1523.93 388.044 1525.85 Q387.257 1527.74 385.151 1530.34 Q384.572 1531.01 381.47 1534.23 Q378.368 1537.42 372.72 1543.18 Z\" fill=\"#000000\" fill-rule=\"evenodd\" fill-opacity=\"1\" /><path clip-path=\"url(#clip340)\" d=\"M675.367 1516.63 L663.562 1535.08 L675.367 1535.08 L675.367 1516.63 M674.14 1512.56 L680.02 1512.56 L680.02 1535.08 L684.95 1535.08 L684.95 1538.97 L680.02 1538.97 L680.02 1547.12 L675.367 1547.12 L675.367 1538.97 L659.765 1538.97 L659.765 1534.46 L674.14 1512.56 Z\" fill=\"#000000\" fill-rule=\"evenodd\" fill-opacity=\"1\" /><path clip-path=\"url(#clip340)\" d=\"M967.053 1527.98 Q963.905 1527.98 962.053 1530.13 Q960.225 1532.28 960.225 1536.03 Q960.225 1539.76 962.053 1541.93 Q963.905 1544.09 967.053 1544.09 Q970.201 1544.09 972.03 1541.93 Q973.882 1539.76 973.882 1536.03 Q973.882 1532.28 972.03 1530.13 Q970.201 1527.98 967.053 1527.98 M976.336 1513.32 L976.336 1517.58 Q974.576 1516.75 972.771 1516.31 Q970.988 1515.87 969.229 1515.87 Q964.6 1515.87 962.146 1519 Q959.715 1522.12 959.368 1528.44 Q960.734 1526.43 962.794 1525.36 Q964.854 1524.27 967.331 1524.27 Q972.539 1524.27 975.549 1527.44 Q978.581 1530.59 978.581 1536.03 Q978.581 1541.36 975.433 1544.57 Q972.285 1547.79 967.053 1547.79 Q961.058 1547.79 957.887 1543.21 Q954.715 1538.6 954.715 1529.87 Q954.715 1521.68 958.604 1516.82 Q962.493 1511.93 969.044 1511.93 Q970.803 1511.93 972.586 1512.28 Q974.391 1512.63 976.336 1513.32 Z\" fill=\"#000000\" fill-rule=\"evenodd\" fill-opacity=\"1\" /><path clip-path=\"url(#clip340)\" d=\"M1260.94 1530.71 Q1257.61 1530.71 1255.68 1532.49 Q1253.79 1534.27 1253.79 1537.4 Q1253.79 1540.52 1255.68 1542.31 Q1257.61 1544.09 1260.94 1544.09 Q1264.27 1544.09 1266.19 1542.31 Q1268.11 1540.5 1268.11 1537.4 Q1268.11 1534.27 1266.19 1532.49 Q1264.3 1530.71 1260.94 1530.71 M1256.26 1528.72 Q1253.25 1527.98 1251.56 1525.92 Q1249.9 1523.86 1249.9 1520.89 Q1249.9 1516.75 1252.84 1514.34 Q1255.8 1511.93 1260.94 1511.93 Q1266.1 1511.93 1269.04 1514.34 Q1271.98 1516.75 1271.98 1520.89 Q1271.98 1523.86 1270.29 1525.92 Q1268.62 1527.98 1265.64 1528.72 Q1269.02 1529.5 1270.89 1531.8 Q1272.79 1534.09 1272.79 1537.4 Q1272.79 1542.42 1269.71 1545.11 Q1266.66 1547.79 1260.94 1547.79 Q1255.22 1547.79 1252.14 1545.11 Q1249.09 1542.42 1249.09 1537.4 Q1249.09 1534.09 1250.98 1531.8 Q1252.88 1529.5 1256.26 1528.72 M1254.55 1521.33 Q1254.55 1524.02 1256.22 1525.52 Q1257.91 1527.03 1260.94 1527.03 Q1263.95 1527.03 1265.64 1525.52 Q1267.35 1524.02 1267.35 1521.33 Q1267.35 1518.65 1265.64 1517.14 Q1263.95 1515.64 1260.94 1515.64 Q1257.91 1515.64 1256.22 1517.14 Q1254.55 1518.65 1254.55 1521.33 Z\" fill=\"#000000\" fill-rule=\"evenodd\" fill-opacity=\"1\" /><path clip-path=\"url(#clip340)\" d=\"M1529.92 1543.18 L1537.56 1543.18 L1537.56 1516.82 L1529.25 1518.49 L1529.25 1514.23 L1537.51 1512.56 L1542.19 1512.56 L1542.19 1543.18 L1549.82 1543.18 L1549.82 1547.12 L1529.92 1547.12 L1529.92 1543.18 Z\" fill=\"#000000\" fill-rule=\"evenodd\" fill-opacity=\"1\" /><path clip-path=\"url(#clip340)\" d=\"M1569.27 1515.64 Q1565.66 1515.64 1563.83 1519.2 Q1562.02 1522.75 1562.02 1529.87 Q1562.02 1536.98 1563.83 1540.55 Q1565.66 1544.09 1569.27 1544.09 Q1572.9 1544.09 1574.71 1540.55 Q1576.54 1536.98 1576.54 1529.87 Q1576.54 1522.75 1574.71 1519.2 Q1572.9 1515.64 1569.27 1515.64 M1569.27 1511.93 Q1575.08 1511.93 1578.13 1516.54 Q1581.21 1521.12 1581.21 1529.87 Q1581.21 1538.6 1578.13 1543.21 Q1575.08 1547.79 1569.27 1547.79 Q1563.46 1547.79 1560.38 1543.21 Q1557.32 1538.6 1557.32 1529.87 Q1557.32 1521.12 1560.38 1516.54 Q1563.46 1511.93 1569.27 1511.93 Z\" fill=\"#000000\" fill-rule=\"evenodd\" fill-opacity=\"1\" /><path clip-path=\"url(#clip340)\" d=\"M1825.01 1543.18 L1832.64 1543.18 L1832.64 1516.82 L1824.33 1518.49 L1824.33 1514.23 L1832.6 1512.56 L1837.27 1512.56 L1837.27 1543.18 L1844.91 1543.18 L1844.91 1547.12 L1825.01 1547.12 L1825.01 1543.18 Z\" fill=\"#000000\" fill-rule=\"evenodd\" fill-opacity=\"1\" /><path clip-path=\"url(#clip340)\" d=\"M1858.39 1543.18 L1874.7 1543.18 L1874.7 1547.12 L1852.76 1547.12 L1852.76 1543.18 Q1855.42 1540.43 1860.01 1535.8 Q1864.61 1531.15 1865.79 1529.81 Q1868.04 1527.28 1868.92 1525.55 Q1869.82 1523.79 1869.82 1522.1 Q1869.82 1519.34 1867.88 1517.61 Q1865.95 1515.87 1862.85 1515.87 Q1860.65 1515.87 1858.2 1516.63 Q1855.77 1517.4 1852.99 1518.95 L1852.99 1514.23 Q1855.82 1513.09 1858.27 1512.51 Q1860.72 1511.93 1862.76 1511.93 Q1868.13 1511.93 1871.32 1514.62 Q1874.52 1517.31 1874.52 1521.8 Q1874.52 1523.93 1873.71 1525.85 Q1872.92 1527.74 1870.82 1530.34 Q1870.24 1531.01 1867.14 1534.23 Q1864.03 1537.42 1858.39 1543.18 Z\" fill=\"#000000\" fill-rule=\"evenodd\" fill-opacity=\"1\" /><path clip-path=\"url(#clip340)\" d=\"M2118.25 1543.18 L2125.89 1543.18 L2125.89 1516.82 L2117.58 1518.49 L2117.58 1514.23 L2125.85 1512.56 L2130.52 1512.56 L2130.52 1543.18 L2138.16 1543.18 L2138.16 1547.12 L2118.25 1547.12 L2118.25 1543.18 Z\" fill=\"#000000\" fill-rule=\"evenodd\" fill-opacity=\"1\" /><path clip-path=\"url(#clip340)\" d=\"M2160.45 1516.63 L2148.65 1535.08 L2160.45 1535.08 L2160.45 1516.63 M2159.23 1512.56 L2165.11 1512.56 L2165.11 1535.08 L2170.04 1535.08 L2170.04 1538.97 L2165.11 1538.97 L2165.11 1547.12 L2160.45 1547.12 L2160.45 1538.97 L2144.85 1538.97 L2144.85 1534.46 L2159.23 1512.56 Z\" fill=\"#000000\" fill-rule=\"evenodd\" fill-opacity=\"1\" /><polyline clip-path=\"url(#clip342)\" style=\"stroke:#000000; stroke-linecap:butt; stroke-linejoin:round; stroke-width:2; stroke-opacity:0.1; fill:none\" points=\"\n",
       "  169.121,1207.76 2352.76,1207.76 \n",
       "  \"/>\n",
       "<polyline clip-path=\"url(#clip342)\" style=\"stroke:#000000; stroke-linecap:butt; stroke-linejoin:round; stroke-width:2; stroke-opacity:0.1; fill:none\" points=\"\n",
       "  169.121,910.705 2352.76,910.705 \n",
       "  \"/>\n",
       "<polyline clip-path=\"url(#clip342)\" style=\"stroke:#000000; stroke-linecap:butt; stroke-linejoin:round; stroke-width:2; stroke-opacity:0.1; fill:none\" points=\"\n",
       "  169.121,613.645 2352.76,613.645 \n",
       "  \"/>\n",
       "<polyline clip-path=\"url(#clip342)\" style=\"stroke:#000000; stroke-linecap:butt; stroke-linejoin:round; stroke-width:2; stroke-opacity:0.1; fill:none\" points=\"\n",
       "  169.121,316.585 2352.76,316.585 \n",
       "  \"/>\n",
       "<polyline clip-path=\"url(#clip340)\" style=\"stroke:#000000; stroke-linecap:butt; stroke-linejoin:round; stroke-width:4; stroke-opacity:1; fill:none\" points=\"\n",
       "  169.121,1486.45 169.121,123.472 \n",
       "  \"/>\n",
       "<polyline clip-path=\"url(#clip340)\" style=\"stroke:#000000; stroke-linecap:butt; stroke-linejoin:round; stroke-width:4; stroke-opacity:1; fill:none\" points=\"\n",
       "  169.121,1207.76 188.019,1207.76 \n",
       "  \"/>\n",
       "<polyline clip-path=\"url(#clip340)\" style=\"stroke:#000000; stroke-linecap:butt; stroke-linejoin:round; stroke-width:4; stroke-opacity:1; fill:none\" points=\"\n",
       "  169.121,910.705 188.019,910.705 \n",
       "  \"/>\n",
       "<polyline clip-path=\"url(#clip340)\" style=\"stroke:#000000; stroke-linecap:butt; stroke-linejoin:round; stroke-width:4; stroke-opacity:1; fill:none\" points=\"\n",
       "  169.121,613.645 188.019,613.645 \n",
       "  \"/>\n",
       "<polyline clip-path=\"url(#clip340)\" style=\"stroke:#000000; stroke-linecap:butt; stroke-linejoin:round; stroke-width:4; stroke-opacity:1; fill:none\" points=\"\n",
       "  169.121,316.585 188.019,316.585 \n",
       "  \"/>\n",
       "<path clip-path=\"url(#clip340)\" d=\"M121.177 1193.56 Q117.566 1193.56 115.737 1197.13 Q113.932 1200.67 113.932 1207.8 Q113.932 1214.91 115.737 1218.47 Q117.566 1222.01 121.177 1222.01 Q124.811 1222.01 126.617 1218.47 Q128.445 1214.91 128.445 1207.8 Q128.445 1200.67 126.617 1197.13 Q124.811 1193.56 121.177 1193.56 M121.177 1189.86 Q126.987 1189.86 130.043 1194.47 Q133.121 1199.05 133.121 1207.8 Q133.121 1216.53 130.043 1221.13 Q126.987 1225.72 121.177 1225.72 Q115.367 1225.72 112.288 1221.13 Q109.233 1216.53 109.233 1207.8 Q109.233 1199.05 112.288 1194.47 Q115.367 1189.86 121.177 1189.86 Z\" fill=\"#000000\" fill-rule=\"evenodd\" fill-opacity=\"1\" /><path clip-path=\"url(#clip340)\" d=\"M81.0614 893.425 L99.4178 893.425 L99.4178 897.36 L85.3438 897.36 L85.3438 905.832 Q86.3623 905.485 87.3808 905.323 Q88.3993 905.138 89.4178 905.138 Q95.2049 905.138 98.5845 908.309 Q101.964 911.48 101.964 916.897 Q101.964 922.475 98.4919 925.577 Q95.0197 928.656 88.7003 928.656 Q86.5243 928.656 84.2558 928.286 Q82.0105 927.915 79.6031 927.174 L79.6031 922.475 Q81.6864 923.61 83.9086 924.165 Q86.1308 924.721 88.6077 924.721 Q92.6123 924.721 94.9502 922.614 Q97.2882 920.508 97.2882 916.897 Q97.2882 913.286 94.9502 911.179 Q92.6123 909.073 88.6077 909.073 Q86.7327 909.073 84.8577 909.489 Q83.0058 909.906 81.0614 910.786 L81.0614 893.425 Z\" fill=\"#000000\" fill-rule=\"evenodd\" fill-opacity=\"1\" /><path clip-path=\"url(#clip340)\" d=\"M121.177 896.503 Q117.566 896.503 115.737 900.068 Q113.932 903.61 113.932 910.739 Q113.932 917.846 115.737 921.411 Q117.566 924.952 121.177 924.952 Q124.811 924.952 126.617 921.411 Q128.445 917.846 128.445 910.739 Q128.445 903.61 126.617 900.068 Q124.811 896.503 121.177 896.503 M121.177 892.8 Q126.987 892.8 130.043 897.406 Q133.121 901.989 133.121 910.739 Q133.121 919.466 130.043 924.073 Q126.987 928.656 121.177 928.656 Q115.367 928.656 112.288 924.073 Q109.233 919.466 109.233 910.739 Q109.233 901.989 112.288 897.406 Q115.367 892.8 121.177 892.8 Z\" fill=\"#000000\" fill-rule=\"evenodd\" fill-opacity=\"1\" /><path clip-path=\"url(#clip340)\" d=\"M51.6634 626.99 L59.3023 626.99 L59.3023 600.624 L50.9921 602.291 L50.9921 598.031 L59.256 596.365 L63.9319 596.365 L63.9319 626.99 L71.5707 626.99 L71.5707 630.925 L51.6634 630.925 L51.6634 626.99 Z\" fill=\"#000000\" fill-rule=\"evenodd\" fill-opacity=\"1\" /><path clip-path=\"url(#clip340)\" d=\"M91.0151 599.443 Q87.404 599.443 85.5753 603.008 Q83.7697 606.55 83.7697 613.679 Q83.7697 620.786 85.5753 624.351 Q87.404 627.892 91.0151 627.892 Q94.6493 627.892 96.4548 624.351 Q98.2835 620.786 98.2835 613.679 Q98.2835 606.55 96.4548 603.008 Q94.6493 599.443 91.0151 599.443 M91.0151 595.74 Q96.8252 595.74 99.8808 600.346 Q102.959 604.929 102.959 613.679 Q102.959 622.406 99.8808 627.013 Q96.8252 631.596 91.0151 631.596 Q85.2049 631.596 82.1262 627.013 Q79.0707 622.406 79.0707 613.679 Q79.0707 604.929 82.1262 600.346 Q85.2049 595.74 91.0151 595.74 Z\" fill=\"#000000\" fill-rule=\"evenodd\" fill-opacity=\"1\" /><path clip-path=\"url(#clip340)\" d=\"M121.177 599.443 Q117.566 599.443 115.737 603.008 Q113.932 606.55 113.932 613.679 Q113.932 620.786 115.737 624.351 Q117.566 627.892 121.177 627.892 Q124.811 627.892 126.617 624.351 Q128.445 620.786 128.445 613.679 Q128.445 606.55 126.617 603.008 Q124.811 599.443 121.177 599.443 M121.177 595.74 Q126.987 595.74 130.043 600.346 Q133.121 604.929 133.121 613.679 Q133.121 622.406 130.043 627.013 Q126.987 631.596 121.177 631.596 Q115.367 631.596 112.288 627.013 Q109.233 622.406 109.233 613.679 Q109.233 604.929 112.288 600.346 Q115.367 595.74 121.177 595.74 Z\" fill=\"#000000\" fill-rule=\"evenodd\" fill-opacity=\"1\" /><path clip-path=\"url(#clip340)\" d=\"M51.6634 329.93 L59.3023 329.93 L59.3023 303.564 L50.9921 305.231 L50.9921 300.971 L59.256 299.305 L63.9319 299.305 L63.9319 329.93 L71.5707 329.93 L71.5707 333.865 L51.6634 333.865 L51.6634 329.93 Z\" fill=\"#000000\" fill-rule=\"evenodd\" fill-opacity=\"1\" /><path clip-path=\"url(#clip340)\" d=\"M81.0614 299.305 L99.4178 299.305 L99.4178 303.24 L85.3438 303.24 L85.3438 311.712 Q86.3623 311.365 87.3808 311.203 Q88.3993 311.018 89.4178 311.018 Q95.2049 311.018 98.5845 314.189 Q101.964 317.36 101.964 322.777 Q101.964 328.355 98.4919 331.457 Q95.0197 334.536 88.7003 334.536 Q86.5243 334.536 84.2558 334.166 Q82.0105 333.795 79.6031 333.055 L79.6031 328.355 Q81.6864 329.49 83.9086 330.045 Q86.1308 330.601 88.6077 330.601 Q92.6123 330.601 94.9502 328.494 Q97.2882 326.388 97.2882 322.777 Q97.2882 319.166 94.9502 317.059 Q92.6123 314.953 88.6077 314.953 Q86.7327 314.953 84.8577 315.369 Q83.0058 315.786 81.0614 316.666 L81.0614 299.305 Z\" fill=\"#000000\" fill-rule=\"evenodd\" fill-opacity=\"1\" /><path clip-path=\"url(#clip340)\" d=\"M121.177 302.383 Q117.566 302.383 115.737 305.948 Q113.932 309.49 113.932 316.619 Q113.932 323.726 115.737 327.291 Q117.566 330.832 121.177 330.832 Q124.811 330.832 126.617 327.291 Q128.445 323.726 128.445 316.619 Q128.445 309.49 126.617 305.948 Q124.811 302.383 121.177 302.383 M121.177 298.68 Q126.987 298.68 130.043 303.286 Q133.121 307.869 133.121 316.619 Q133.121 325.346 130.043 329.953 Q126.987 334.536 121.177 334.536 Q115.367 334.536 112.288 329.953 Q109.233 325.346 109.233 316.619 Q109.233 307.869 112.288 303.286 Q115.367 298.68 121.177 298.68 Z\" fill=\"#000000\" fill-rule=\"evenodd\" fill-opacity=\"1\" /><path clip-path=\"url(#clip340)\" d=\"M784.147 44.2197 Q786.78 45.1109 789.251 48.0275 Q791.763 50.9442 794.274 56.0483 L802.579 72.576 L793.788 72.576 L786.051 57.061 Q783.053 50.9847 780.218 48.9997 Q777.423 47.0148 772.562 47.0148 L763.65 47.0148 L763.65 72.576 L755.467 72.576 L755.467 12.096 L773.939 12.096 Q784.309 12.096 789.413 16.4305 Q794.517 20.7649 794.517 29.5149 Q794.517 35.2267 791.844 38.994 Q789.211 42.7613 784.147 44.2197 M763.65 18.8205 L763.65 40.2903 L773.939 40.2903 Q779.853 40.2903 782.851 37.5762 Q785.889 34.8216 785.889 29.5149 Q785.889 24.2082 782.851 21.5346 Q779.853 18.8205 773.939 18.8205 L763.65 18.8205 Z\" fill=\"#000000\" fill-rule=\"evenodd\" fill-opacity=\"1\" /><path clip-path=\"url(#clip340)\" d=\"M847.868 48.0275 L847.868 51.6733 L813.597 51.6733 Q814.083 59.3701 818.215 63.421 Q822.388 67.4314 829.801 67.4314 Q834.095 67.4314 838.105 66.3781 Q842.156 65.3249 846.126 63.2184 L846.126 70.267 Q842.116 71.9684 837.903 72.8596 Q833.69 73.7508 829.355 73.7508 Q818.499 73.7508 812.139 67.4314 Q805.82 61.1119 805.82 50.3365 Q805.82 39.1965 811.815 32.6746 Q817.851 26.1121 828.059 26.1121 Q837.214 26.1121 842.521 32.0264 Q847.868 37.9003 847.868 48.0275 M840.414 45.84 Q840.333 39.7232 836.971 36.0774 Q833.649 32.4315 828.14 32.4315 Q821.902 32.4315 818.134 35.9558 Q814.407 39.4801 813.84 45.8805 L840.414 45.84 Z\" fill=\"#000000\" fill-rule=\"evenodd\" fill-opacity=\"1\" /><path clip-path=\"url(#clip340)\" d=\"M889.025 28.5427 L889.025 35.5912 Q885.865 33.9709 882.463 33.1607 Q879.06 32.3505 875.414 32.3505 Q869.864 32.3505 867.069 34.0519 Q864.315 35.7533 864.315 39.156 Q864.315 41.7486 866.3 43.2475 Q868.284 44.7058 874.28 46.0426 L876.832 46.6097 Q884.772 48.3111 888.093 51.4303 Q891.456 54.509 891.456 60.0587 Q891.456 66.3781 886.433 70.0644 Q881.45 73.7508 872.7 73.7508 Q869.054 73.7508 865.084 73.0216 Q861.155 72.3329 856.78 70.9151 L856.78 63.2184 Q860.912 65.3654 864.922 66.4591 Q868.933 67.5124 872.862 67.5124 Q878.128 67.5124 880.964 65.73 Q883.799 63.9071 883.799 60.6258 Q883.799 57.5877 881.733 55.9673 Q879.708 54.3469 872.781 52.8481 L870.188 52.2405 Q863.261 50.7821 860.183 47.7845 Q857.104 44.7463 857.104 39.4801 Q857.104 33.0797 861.641 29.5959 Q866.178 26.1121 874.523 26.1121 Q878.655 26.1121 882.301 26.7198 Q885.946 27.3274 889.025 28.5427 Z\" fill=\"#000000\" fill-rule=\"evenodd\" fill-opacity=\"1\" /><path clip-path=\"url(#clip340)\" d=\"M903.325 27.2059 L910.778 27.2059 L910.778 72.576 L903.325 72.576 L903.325 27.2059 M903.325 9.54393 L910.778 9.54393 L910.778 18.9825 L903.325 18.9825 L903.325 9.54393 Z\" fill=\"#000000\" fill-rule=\"evenodd\" fill-opacity=\"1\" /><path clip-path=\"url(#clip340)\" d=\"M956.23 34.0924 L956.23 9.54393 L963.683 9.54393 L963.683 72.576 L956.23 72.576 L956.23 65.7705 Q953.88 69.8214 950.275 71.8063 Q946.71 73.7508 941.687 73.7508 Q933.464 73.7508 928.278 67.1883 Q923.134 60.6258 923.134 49.9314 Q923.134 39.2371 928.278 32.6746 Q933.464 26.1121 941.687 26.1121 Q946.71 26.1121 950.275 28.0971 Q953.88 30.0415 956.23 34.0924 M930.83 49.9314 Q930.83 58.1548 934.193 62.8538 Q937.595 67.5124 943.51 67.5124 Q949.424 67.5124 952.827 62.8538 Q956.23 58.1548 956.23 49.9314 Q956.23 41.7081 952.827 37.0496 Q949.424 32.3505 943.51 32.3505 Q937.595 32.3505 934.193 37.0496 Q930.83 41.7081 930.83 49.9314 Z\" fill=\"#000000\" fill-rule=\"evenodd\" fill-opacity=\"1\" /><path clip-path=\"url(#clip340)\" d=\"M978.267 54.671 L978.267 27.2059 L985.72 27.2059 L985.72 54.3874 Q985.72 60.8284 988.232 64.0691 Q990.743 67.2693 995.766 67.2693 Q1001.8 67.2693 1005.29 63.421 Q1008.81 59.5726 1008.81 52.9291 L1008.81 27.2059 L1016.26 27.2059 L1016.26 72.576 L1008.81 72.576 L1008.81 65.6084 Q1006.1 69.7404 1002.49 71.7658 Q998.926 73.7508 994.187 73.7508 Q986.368 73.7508 982.317 68.8897 Q978.267 64.0286 978.267 54.671 M997.022 26.1121 L997.022 26.1121 Z\" fill=\"#000000\" fill-rule=\"evenodd\" fill-opacity=\"1\" /><path clip-path=\"url(#clip340)\" d=\"M1052.24 49.7694 Q1043.2 49.7694 1039.72 51.8354 Q1036.23 53.9013 1036.23 58.8839 Q1036.23 62.8538 1038.83 65.2034 Q1041.46 67.5124 1045.96 67.5124 Q1052.16 67.5124 1055.88 63.1374 Q1059.65 58.7219 1059.65 51.4303 L1059.65 49.7694 L1052.24 49.7694 M1067.1 46.6907 L1067.1 72.576 L1059.65 72.576 L1059.65 65.6895 Q1057.1 69.8214 1053.29 71.8063 Q1049.48 73.7508 1043.97 73.7508 Q1037 73.7508 1032.87 69.8619 Q1028.78 65.9325 1028.78 59.3701 Q1028.78 51.7138 1033.89 47.825 Q1039.03 43.9361 1049.2 43.9361 L1059.65 43.9361 L1059.65 43.2069 Q1059.65 38.0623 1056.25 35.2672 Q1052.88 32.4315 1046.77 32.4315 Q1042.88 32.4315 1039.19 33.3632 Q1035.51 34.295 1032.1 36.1584 L1032.1 29.2718 Q1036.19 27.692 1040.04 26.9223 Q1043.89 26.1121 1047.54 26.1121 Q1057.38 26.1121 1062.24 31.2163 Q1067.1 36.3204 1067.1 46.6907 Z\" fill=\"#000000\" fill-rule=\"evenodd\" fill-opacity=\"1\" /><path clip-path=\"url(#clip340)\" d=\"M1082.46 9.54393 L1089.91 9.54393 L1089.91 72.576 L1082.46 72.576 L1082.46 9.54393 Z\" fill=\"#000000\" fill-rule=\"evenodd\" fill-opacity=\"1\" /><path clip-path=\"url(#clip340)\" d=\"M1149.46 32.4315 Q1143.46 32.4315 1139.98 37.1306 Q1136.49 41.7891 1136.49 49.9314 Q1136.49 58.0738 1139.94 62.7728 Q1143.42 67.4314 1149.46 67.4314 Q1155.41 67.4314 1158.9 62.7323 Q1162.38 58.0333 1162.38 49.9314 Q1162.38 41.8701 1158.9 37.1711 Q1155.41 32.4315 1149.46 32.4315 M1149.46 26.1121 Q1159.18 26.1121 1164.73 32.4315 Q1170.28 38.7509 1170.28 49.9314 Q1170.28 61.0714 1164.73 67.4314 Q1159.18 73.7508 1149.46 73.7508 Q1139.7 73.7508 1134.15 67.4314 Q1128.64 61.0714 1128.64 49.9314 Q1128.64 38.7509 1134.15 32.4315 Q1139.7 26.1121 1149.46 26.1121 Z\" fill=\"#000000\" fill-rule=\"evenodd\" fill-opacity=\"1\" /><path clip-path=\"url(#clip340)\" d=\"M1220.35 45.1919 L1220.35 72.576 L1212.89 72.576 L1212.89 45.4349 Q1212.89 38.994 1210.38 35.7938 Q1207.87 32.5936 1202.85 32.5936 Q1196.81 32.5936 1193.33 36.4419 Q1189.85 40.2903 1189.85 46.9338 L1189.85 72.576 L1182.35 72.576 L1182.35 27.2059 L1189.85 27.2059 L1189.85 34.2544 Q1192.52 30.163 1196.12 28.1376 Q1199.77 26.1121 1204.51 26.1121 Q1212.33 26.1121 1216.34 30.9732 Q1220.35 35.7938 1220.35 45.1919 Z\" fill=\"#000000\" fill-rule=\"evenodd\" fill-opacity=\"1\" /><path clip-path=\"url(#clip340)\" d=\"M1253.53 12.096 L1304.69 12.096 L1304.69 18.9825 L1283.22 18.9825 L1283.22 72.576 L1275 72.576 L1275 18.9825 L1253.53 18.9825 L1253.53 12.096 Z\" fill=\"#000000\" fill-rule=\"evenodd\" fill-opacity=\"1\" /><path clip-path=\"url(#clip340)\" d=\"M1336.97 48.0275 L1336.97 51.6733 L1302.7 51.6733 Q1303.19 59.3701 1307.32 63.421 Q1311.49 67.4314 1318.91 67.4314 Q1323.2 67.4314 1327.21 66.3781 Q1331.26 65.3249 1335.23 63.2184 L1335.23 70.267 Q1331.22 71.9684 1327.01 72.8596 Q1322.8 73.7508 1318.46 73.7508 Q1307.61 73.7508 1301.25 67.4314 Q1294.93 61.1119 1294.93 50.3365 Q1294.93 39.1965 1300.92 32.6746 Q1306.96 26.1121 1317.17 26.1121 Q1326.32 26.1121 1331.63 32.0264 Q1336.97 37.9003 1336.97 48.0275 M1329.52 45.84 Q1329.44 39.7232 1326.08 36.0774 Q1322.76 32.4315 1317.25 32.4315 Q1311.01 32.4315 1307.24 35.9558 Q1303.51 39.4801 1302.95 45.8805 L1329.52 45.84 Z\" fill=\"#000000\" fill-rule=\"evenodd\" fill-opacity=\"1\" /><path clip-path=\"url(#clip340)\" d=\"M1378.13 28.5427 L1378.13 35.5912 Q1374.97 33.9709 1371.57 33.1607 Q1368.17 32.3505 1364.52 32.3505 Q1358.97 32.3505 1356.18 34.0519 Q1353.42 35.7533 1353.42 39.156 Q1353.42 41.7486 1355.41 43.2475 Q1357.39 44.7058 1363.39 46.0426 L1365.94 46.6097 Q1373.88 48.3111 1377.2 51.4303 Q1380.56 54.509 1380.56 60.0587 Q1380.56 66.3781 1375.54 70.0644 Q1370.56 73.7508 1361.81 73.7508 Q1358.16 73.7508 1354.19 73.0216 Q1350.26 72.3329 1345.89 70.9151 L1345.89 63.2184 Q1350.02 65.3654 1354.03 66.4591 Q1358.04 67.5124 1361.97 67.5124 Q1367.23 67.5124 1370.07 65.73 Q1372.91 63.9071 1372.91 60.6258 Q1372.91 57.5877 1370.84 55.9673 Q1368.81 54.3469 1361.89 52.8481 L1359.29 52.2405 Q1352.37 50.7821 1349.29 47.7845 Q1346.21 44.7463 1346.21 39.4801 Q1346.21 33.0797 1350.75 29.5959 Q1355.28 26.1121 1363.63 26.1121 Q1367.76 26.1121 1371.41 26.7198 Q1375.05 27.3274 1378.13 28.5427 Z\" fill=\"#000000\" fill-rule=\"evenodd\" fill-opacity=\"1\" /><path clip-path=\"url(#clip340)\" d=\"M1399.8 14.324 L1399.8 27.2059 L1415.16 27.2059 L1415.16 32.9987 L1399.8 32.9987 L1399.8 57.6282 Q1399.8 63.1779 1401.3 64.7578 Q1402.84 66.3376 1407.5 66.3376 L1415.16 66.3376 L1415.16 72.576 L1407.5 72.576 Q1398.87 72.576 1395.59 69.3758 Q1392.31 66.1351 1392.31 57.6282 L1392.31 32.9987 L1386.84 32.9987 L1386.84 27.2059 L1392.31 27.2059 L1392.31 14.324 L1399.8 14.324 Z\" fill=\"#000000\" fill-rule=\"evenodd\" fill-opacity=\"1\" /><path clip-path=\"url(#clip340)\" d=\"M1459.84 18.8205 L1459.84 65.8515 L1469.72 65.8515 Q1482.24 65.8515 1488.03 60.1802 Q1493.87 54.509 1493.87 42.2752 Q1493.87 30.1225 1488.03 24.4918 Q1482.24 18.8205 1469.72 18.8205 L1459.84 18.8205 M1451.66 12.096 L1468.47 12.096 Q1486.05 12.096 1494.27 19.4281 Q1502.49 26.7198 1502.49 42.2752 Q1502.49 57.9117 1494.23 65.2439 Q1485.97 72.576 1468.47 72.576 L1451.66 72.576 L1451.66 12.096 Z\" fill=\"#000000\" fill-rule=\"evenodd\" fill-opacity=\"1\" /><path clip-path=\"url(#clip340)\" d=\"M1535.83 49.7694 Q1526.8 49.7694 1523.32 51.8354 Q1519.83 53.9013 1519.83 58.8839 Q1519.83 62.8538 1522.42 65.2034 Q1525.06 67.5124 1529.55 67.5124 Q1535.75 67.5124 1539.48 63.1374 Q1543.25 58.7219 1543.25 51.4303 L1543.25 49.7694 L1535.83 49.7694 M1550.7 46.6907 L1550.7 72.576 L1543.25 72.576 L1543.25 65.6895 Q1540.69 69.8214 1536.89 71.8063 Q1533.08 73.7508 1527.57 73.7508 Q1520.6 73.7508 1516.47 69.8619 Q1512.38 65.9325 1512.38 59.3701 Q1512.38 51.7138 1517.48 47.825 Q1522.63 43.9361 1532.79 43.9361 L1543.25 43.9361 L1543.25 43.2069 Q1543.25 38.0623 1539.84 35.2672 Q1536.48 32.4315 1530.36 32.4315 Q1526.48 32.4315 1522.79 33.3632 Q1519.1 34.295 1515.7 36.1584 L1515.7 29.2718 Q1519.79 27.692 1523.64 26.9223 Q1527.49 26.1121 1531.13 26.1121 Q1540.98 26.1121 1545.84 31.2163 Q1550.7 36.3204 1550.7 46.6907 Z\" fill=\"#000000\" fill-rule=\"evenodd\" fill-opacity=\"1\" /><path clip-path=\"url(#clip340)\" d=\"M1573.43 14.324 L1573.43 27.2059 L1588.78 27.2059 L1588.78 32.9987 L1573.43 32.9987 L1573.43 57.6282 Q1573.43 63.1779 1574.92 64.7578 Q1576.46 66.3376 1581.12 66.3376 L1588.78 66.3376 L1588.78 72.576 L1581.12 72.576 Q1572.49 72.576 1569.21 69.3758 Q1565.93 66.1351 1565.93 57.6282 L1565.93 32.9987 L1560.46 32.9987 L1560.46 27.2059 L1565.93 27.2059 L1565.93 14.324 L1573.43 14.324 Z\" fill=\"#000000\" fill-rule=\"evenodd\" fill-opacity=\"1\" /><path clip-path=\"url(#clip340)\" d=\"M1619.2 49.7694 Q1610.17 49.7694 1606.68 51.8354 Q1603.2 53.9013 1603.2 58.8839 Q1603.2 62.8538 1605.79 65.2034 Q1608.43 67.5124 1612.92 67.5124 Q1619.12 67.5124 1622.85 63.1374 Q1626.61 58.7219 1626.61 51.4303 L1626.61 49.7694 L1619.2 49.7694 M1634.07 46.6907 L1634.07 72.576 L1626.61 72.576 L1626.61 65.6895 Q1624.06 69.8214 1620.25 71.8063 Q1616.45 73.7508 1610.94 73.7508 Q1603.97 73.7508 1599.84 69.8619 Q1595.75 65.9325 1595.75 59.3701 Q1595.75 51.7138 1600.85 47.825 Q1605.99 43.9361 1616.16 43.9361 L1626.61 43.9361 L1626.61 43.2069 Q1626.61 38.0623 1623.21 35.2672 Q1619.85 32.4315 1613.73 32.4315 Q1609.84 32.4315 1606.16 33.3632 Q1602.47 34.295 1599.07 36.1584 L1599.07 29.2718 Q1603.16 27.692 1607.01 26.9223 Q1610.86 26.1121 1614.5 26.1121 Q1624.35 26.1121 1629.21 31.2163 Q1634.07 36.3204 1634.07 46.6907 Z\" fill=\"#000000\" fill-rule=\"evenodd\" fill-opacity=\"1\" /><path clip-path=\"url(#clip340)\" d=\"M1678.34 28.5427 L1678.34 35.5912 Q1675.18 33.9709 1671.78 33.1607 Q1668.38 32.3505 1664.73 32.3505 Q1659.18 32.3505 1656.39 34.0519 Q1653.63 35.7533 1653.63 39.156 Q1653.63 41.7486 1655.62 43.2475 Q1657.6 44.7058 1663.6 46.0426 L1666.15 46.6097 Q1674.09 48.3111 1677.41 51.4303 Q1680.77 54.509 1680.77 60.0587 Q1680.77 66.3781 1675.75 70.0644 Q1670.77 73.7508 1662.02 73.7508 Q1658.37 73.7508 1654.4 73.0216 Q1650.47 72.3329 1646.1 70.9151 L1646.1 63.2184 Q1650.23 65.3654 1654.24 66.4591 Q1658.25 67.5124 1662.18 67.5124 Q1667.45 67.5124 1670.28 65.73 Q1673.12 63.9071 1673.12 60.6258 Q1673.12 57.5877 1671.05 55.9673 Q1669.03 54.3469 1662.1 52.8481 L1659.51 52.2405 Q1652.58 50.7821 1649.5 47.7845 Q1646.42 44.7463 1646.42 39.4801 Q1646.42 33.0797 1650.96 29.5959 Q1655.5 26.1121 1663.84 26.1121 Q1667.97 26.1121 1671.62 26.7198 Q1675.27 27.3274 1678.34 28.5427 Z\" fill=\"#000000\" fill-rule=\"evenodd\" fill-opacity=\"1\" /><path clip-path=\"url(#clip340)\" d=\"M1731.45 48.0275 L1731.45 51.6733 L1697.18 51.6733 Q1697.67 59.3701 1701.8 63.421 Q1705.97 67.4314 1713.38 67.4314 Q1717.68 67.4314 1721.69 66.3781 Q1725.74 65.3249 1729.71 63.2184 L1729.71 70.267 Q1725.7 71.9684 1721.49 72.8596 Q1717.27 73.7508 1712.94 73.7508 Q1702.08 73.7508 1695.72 67.4314 Q1689.4 61.1119 1689.4 50.3365 Q1689.4 39.1965 1695.4 32.6746 Q1701.43 26.1121 1711.64 26.1121 Q1720.8 26.1121 1726.1 32.0264 Q1731.45 37.9003 1731.45 48.0275 M1724 45.84 Q1723.92 39.7232 1720.55 36.0774 Q1717.23 32.4315 1711.72 32.4315 Q1705.48 32.4315 1701.72 35.9558 Q1697.99 39.4801 1697.42 45.8805 L1724 45.84 Z\" fill=\"#000000\" fill-rule=\"evenodd\" fill-opacity=\"1\" /><path clip-path=\"url(#clip340)\" d=\"M1751.06 14.324 L1751.06 27.2059 L1766.41 27.2059 L1766.41 32.9987 L1751.06 32.9987 L1751.06 57.6282 Q1751.06 63.1779 1752.56 64.7578 Q1754.1 66.3376 1758.75 66.3376 L1766.41 66.3376 L1766.41 72.576 L1758.75 72.576 Q1750.13 72.576 1746.84 69.3758 Q1743.56 66.1351 1743.56 57.6282 L1743.56 32.9987 L1738.09 32.9987 L1738.09 27.2059 L1743.56 27.2059 L1743.56 14.324 L1751.06 14.324 Z\" fill=\"#000000\" fill-rule=\"evenodd\" fill-opacity=\"1\" /><polyline clip-path=\"url(#clip342)\" style=\"stroke:#009af9; stroke-linecap:butt; stroke-linejoin:round; stroke-width:4; stroke-opacity:1; fill:none\" points=\"\n",
       "  230.922,1207.76 230.922,1262.63 \n",
       "  \"/>\n",
       "<polyline clip-path=\"url(#clip342)\" style=\"stroke:#009af9; stroke-linecap:butt; stroke-linejoin:round; stroke-width:4; stroke-opacity:1; fill:none\" points=\"\n",
       "  378.067,1207.76 378.067,888.166 \n",
       "  \"/>\n",
       "<polyline clip-path=\"url(#clip342)\" style=\"stroke:#009af9; stroke-linecap:butt; stroke-linejoin:round; stroke-width:4; stroke-opacity:1; fill:none\" points=\"\n",
       "  525.213,1207.76 525.213,162.047 \n",
       "  \"/>\n",
       "<polyline clip-path=\"url(#clip342)\" style=\"stroke:#009af9; stroke-linecap:butt; stroke-linejoin:round; stroke-width:4; stroke-opacity:1; fill:none\" points=\"\n",
       "  672.358,1207.76 672.358,864.61 \n",
       "  \"/>\n",
       "<polyline clip-path=\"url(#clip342)\" style=\"stroke:#009af9; stroke-linecap:butt; stroke-linejoin:round; stroke-width:4; stroke-opacity:1; fill:none\" points=\"\n",
       "  819.503,1207.76 819.503,1331.11 \n",
       "  \"/>\n",
       "<polyline clip-path=\"url(#clip342)\" style=\"stroke:#009af9; stroke-linecap:butt; stroke-linejoin:round; stroke-width:4; stroke-opacity:1; fill:none\" points=\"\n",
       "  966.648,1207.76 966.648,1447.87 \n",
       "  \"/>\n",
       "<polyline clip-path=\"url(#clip342)\" style=\"stroke:#009af9; stroke-linecap:butt; stroke-linejoin:round; stroke-width:4; stroke-opacity:1; fill:none\" points=\"\n",
       "  1113.79,1207.76 1113.79,1376.36 \n",
       "  \"/>\n",
       "<polyline clip-path=\"url(#clip342)\" style=\"stroke:#009af9; stroke-linecap:butt; stroke-linejoin:round; stroke-width:4; stroke-opacity:1; fill:none\" points=\"\n",
       "  1260.94,1207.76 1260.94,1017.53 \n",
       "  \"/>\n",
       "<polyline clip-path=\"url(#clip342)\" style=\"stroke:#009af9; stroke-linecap:butt; stroke-linejoin:round; stroke-width:4; stroke-opacity:1; fill:none\" points=\"\n",
       "  1408.08,1207.76 1408.08,1015.7 \n",
       "  \"/>\n",
       "<polyline clip-path=\"url(#clip342)\" style=\"stroke:#009af9; stroke-linecap:butt; stroke-linejoin:round; stroke-width:4; stroke-opacity:1; fill:none\" points=\"\n",
       "  1555.23,1207.76 1555.23,1249.23 \n",
       "  \"/>\n",
       "<polyline clip-path=\"url(#clip342)\" style=\"stroke:#009af9; stroke-linecap:butt; stroke-linejoin:round; stroke-width:4; stroke-opacity:1; fill:none\" points=\"\n",
       "  1702.37,1207.76 1702.37,644.911 \n",
       "  \"/>\n",
       "<polyline clip-path=\"url(#clip342)\" style=\"stroke:#009af9; stroke-linecap:butt; stroke-linejoin:round; stroke-width:4; stroke-opacity:1; fill:none\" points=\"\n",
       "  1849.52,1207.76 1849.52,1381.39 \n",
       "  \"/>\n",
       "<polyline clip-path=\"url(#clip342)\" style=\"stroke:#009af9; stroke-linecap:butt; stroke-linejoin:round; stroke-width:4; stroke-opacity:1; fill:none\" points=\"\n",
       "  1996.66,1207.76 1996.66,1420.3 \n",
       "  \"/>\n",
       "<polyline clip-path=\"url(#clip342)\" style=\"stroke:#009af9; stroke-linecap:butt; stroke-linejoin:round; stroke-width:4; stroke-opacity:1; fill:none\" points=\"\n",
       "  2143.81,1207.76 2143.81,705.283 \n",
       "  \"/>\n",
       "<polyline clip-path=\"url(#clip342)\" style=\"stroke:#009af9; stroke-linecap:butt; stroke-linejoin:round; stroke-width:4; stroke-opacity:1; fill:none\" points=\"\n",
       "  2290.95,1207.76 2290.95,930.589 \n",
       "  \"/>\n",
       "<path clip-path=\"url(#clip340)\" d=\"\n",
       "M1819.4 272.585 L2279.97 272.585 L2279.97 168.905 L1819.4 168.905  Z\n",
       "  \" fill=\"#ffffff\" fill-rule=\"evenodd\" fill-opacity=\"1\"/>\n",
       "<polyline clip-path=\"url(#clip340)\" style=\"stroke:#000000; stroke-linecap:butt; stroke-linejoin:round; stroke-width:4; stroke-opacity:1; fill:none\" points=\"\n",
       "  1819.4,272.585 2279.97,272.585 2279.97,168.905 1819.4,168.905 1819.4,272.585 \n",
       "  \"/>\n",
       "<polyline clip-path=\"url(#clip340)\" style=\"stroke:#009af9; stroke-linecap:butt; stroke-linejoin:round; stroke-width:4; stroke-opacity:1; fill:none\" points=\"\n",
       "  1843.67,220.745 1989.24,220.745 \n",
       "  \"/>\n",
       "<path clip-path=\"url(#clip340)\" d=\"M2029.89 221.821 Q2031.4 222.33 2032.81 223.997 Q2034.24 225.664 2035.68 228.58 L2040.43 238.025 L2035.4 238.025 L2030.98 229.159 Q2029.27 225.687 2027.65 224.553 Q2026.05 223.418 2023.27 223.418 L2018.18 223.418 L2018.18 238.025 L2013.5 238.025 L2013.5 203.465 L2024.06 203.465 Q2029.99 203.465 2032.9 205.941 Q2035.82 208.418 2035.82 213.418 Q2035.82 216.682 2034.29 218.835 Q2032.79 220.988 2029.89 221.821 M2018.18 207.307 L2018.18 219.576 L2024.06 219.576 Q2027.44 219.576 2029.15 218.025 Q2030.89 216.451 2030.89 213.418 Q2030.89 210.386 2029.15 208.858 Q2027.44 207.307 2024.06 207.307 L2018.18 207.307 Z\" fill=\"#000000\" fill-rule=\"evenodd\" fill-opacity=\"1\" /><path clip-path=\"url(#clip340)\" d=\"M2066.3 223.997 L2066.3 226.08 L2046.72 226.08 Q2047 230.478 2049.36 232.793 Q2051.74 235.085 2055.98 235.085 Q2058.43 235.085 2060.73 234.483 Q2063.04 233.881 2065.31 232.677 L2065.31 236.705 Q2063.02 237.677 2060.61 238.187 Q2058.2 238.696 2055.73 238.696 Q2049.52 238.696 2045.89 235.085 Q2042.28 231.474 2042.28 225.316 Q2042.28 218.951 2045.7 215.224 Q2049.15 211.474 2054.99 211.474 Q2060.22 211.474 2063.25 214.853 Q2066.3 218.21 2066.3 223.997 M2062.05 222.747 Q2062 219.252 2060.08 217.168 Q2058.18 215.085 2055.03 215.085 Q2051.47 215.085 2049.31 217.099 Q2047.18 219.113 2046.86 222.77 L2062.05 222.747 Z\" fill=\"#000000\" fill-rule=\"evenodd\" fill-opacity=\"1\" /><path clip-path=\"url(#clip340)\" d=\"M2089.82 212.863 L2089.82 216.891 Q2088.02 215.965 2086.07 215.502 Q2084.13 215.039 2082.05 215.039 Q2078.87 215.039 2077.28 216.011 Q2075.7 216.983 2075.7 218.928 Q2075.7 220.409 2076.84 221.265 Q2077.97 222.099 2081.4 222.863 L2082.86 223.187 Q2087.39 224.159 2089.29 225.941 Q2091.21 227.701 2091.21 230.872 Q2091.21 234.483 2088.34 236.589 Q2085.49 238.696 2080.49 238.696 Q2078.41 238.696 2076.14 238.279 Q2073.9 237.886 2071.4 237.076 L2071.4 232.677 Q2073.76 233.904 2076.05 234.529 Q2078.34 235.131 2080.59 235.131 Q2083.6 235.131 2085.22 234.113 Q2086.84 233.071 2086.84 231.196 Q2086.84 229.46 2085.66 228.534 Q2084.5 227.608 2080.54 226.752 L2079.06 226.404 Q2075.1 225.571 2073.34 223.858 Q2071.58 222.122 2071.58 219.113 Q2071.58 215.455 2074.18 213.465 Q2076.77 211.474 2081.54 211.474 Q2083.9 211.474 2085.98 211.821 Q2088.06 212.168 2089.82 212.863 Z\" fill=\"#000000\" fill-rule=\"evenodd\" fill-opacity=\"1\" /><path clip-path=\"url(#clip340)\" d=\"M2097.99 212.099 L2102.25 212.099 L2102.25 238.025 L2097.99 238.025 L2097.99 212.099 M2097.99 202.006 L2102.25 202.006 L2102.25 207.4 L2097.99 207.4 L2097.99 202.006 Z\" fill=\"#000000\" fill-rule=\"evenodd\" fill-opacity=\"1\" /><path clip-path=\"url(#clip340)\" d=\"M2128.23 216.034 L2128.23 202.006 L2132.49 202.006 L2132.49 238.025 L2128.23 238.025 L2128.23 234.136 Q2126.88 236.451 2124.82 237.585 Q2122.79 238.696 2119.92 238.696 Q2115.22 238.696 2112.25 234.946 Q2109.31 231.196 2109.31 225.085 Q2109.31 218.974 2112.25 215.224 Q2115.22 211.474 2119.92 211.474 Q2122.79 211.474 2124.82 212.608 Q2126.88 213.719 2128.23 216.034 M2113.71 225.085 Q2113.71 229.784 2115.63 232.469 Q2117.58 235.131 2120.96 235.131 Q2124.34 235.131 2126.28 232.469 Q2128.23 229.784 2128.23 225.085 Q2128.23 220.386 2126.28 217.724 Q2124.34 215.039 2120.96 215.039 Q2117.58 215.039 2115.63 217.724 Q2113.71 220.386 2113.71 225.085 Z\" fill=\"#000000\" fill-rule=\"evenodd\" fill-opacity=\"1\" /><path clip-path=\"url(#clip340)\" d=\"M2140.82 227.793 L2140.82 212.099 L2145.08 212.099 L2145.08 227.631 Q2145.08 231.312 2146.51 233.164 Q2147.95 234.992 2150.82 234.992 Q2154.27 234.992 2156.26 232.793 Q2158.27 230.594 2158.27 226.798 L2158.27 212.099 L2162.53 212.099 L2162.53 238.025 L2158.27 238.025 L2158.27 234.043 Q2156.72 236.404 2154.66 237.562 Q2152.62 238.696 2149.92 238.696 Q2145.45 238.696 2143.13 235.918 Q2140.82 233.14 2140.82 227.793 M2151.54 211.474 L2151.54 211.474 Z\" fill=\"#000000\" fill-rule=\"evenodd\" fill-opacity=\"1\" /><path clip-path=\"url(#clip340)\" d=\"M2183.09 224.992 Q2177.92 224.992 2175.93 226.173 Q2173.94 227.353 2173.94 230.201 Q2173.94 232.469 2175.42 233.812 Q2176.93 235.131 2179.5 235.131 Q2183.04 235.131 2185.17 232.631 Q2187.32 230.108 2187.32 225.941 L2187.32 224.992 L2183.09 224.992 M2191.58 223.233 L2191.58 238.025 L2187.32 238.025 L2187.32 234.089 Q2185.86 236.451 2183.69 237.585 Q2181.51 238.696 2178.36 238.696 Q2174.38 238.696 2172.02 236.474 Q2169.68 234.228 2169.68 230.478 Q2169.68 226.103 2172.6 223.881 Q2175.54 221.659 2181.35 221.659 L2187.32 221.659 L2187.32 221.242 Q2187.32 218.303 2185.38 216.705 Q2183.46 215.085 2179.96 215.085 Q2177.74 215.085 2175.63 215.617 Q2173.53 216.15 2171.58 217.215 L2171.58 213.279 Q2173.92 212.377 2176.12 211.937 Q2178.32 211.474 2180.4 211.474 Q2186.03 211.474 2188.8 214.391 Q2191.58 217.307 2191.58 223.233 Z\" fill=\"#000000\" fill-rule=\"evenodd\" fill-opacity=\"1\" /><path clip-path=\"url(#clip340)\" d=\"M2200.36 202.006 L2204.61 202.006 L2204.61 238.025 L2200.36 238.025 L2200.36 202.006 Z\" fill=\"#000000\" fill-rule=\"evenodd\" fill-opacity=\"1\" /><path clip-path=\"url(#clip340)\" d=\"M2230.05 212.863 L2230.05 216.891 Q2228.25 215.965 2226.3 215.502 Q2224.36 215.039 2222.28 215.039 Q2219.1 215.039 2217.51 216.011 Q2215.93 216.983 2215.93 218.928 Q2215.93 220.409 2217.07 221.265 Q2218.2 222.099 2221.63 222.863 L2223.09 223.187 Q2227.62 224.159 2229.52 225.941 Q2231.44 227.701 2231.44 230.872 Q2231.44 234.483 2228.57 236.589 Q2225.73 238.696 2220.73 238.696 Q2218.64 238.696 2216.37 238.279 Q2214.13 237.886 2211.63 237.076 L2211.63 232.677 Q2213.99 233.904 2216.28 234.529 Q2218.57 235.131 2220.82 235.131 Q2223.83 235.131 2225.45 234.113 Q2227.07 233.071 2227.07 231.196 Q2227.07 229.46 2225.89 228.534 Q2224.73 227.608 2220.77 226.752 L2219.29 226.404 Q2215.33 225.571 2213.57 223.858 Q2211.81 222.122 2211.81 219.113 Q2211.81 215.455 2214.41 213.465 Q2217 211.474 2221.77 211.474 Q2224.13 211.474 2226.21 211.821 Q2228.29 212.168 2230.05 212.863 Z\" fill=\"#000000\" fill-rule=\"evenodd\" fill-opacity=\"1\" /></svg>\n"
      ]
     },
     "execution_count": 32,
     "metadata": {},
     "output_type": "execute_result"
    }
   ],
   "source": [
    "res = ŷ .- y[test]\n",
    "using Plots\n",
    "plot(res, line=:stem, label=\"Residuals\", title=\"Residual on Test Dataset\")"
   ]
  },
  {
   "cell_type": "code",
   "execution_count": 33,
   "metadata": {},
   "outputs": [
    {
     "name": "stdout",
     "output_type": "stream",
     "text": [
      "Root mean squared Error is on test dataset: 64.66435320753095"
     ]
    }
   ],
   "source": [
    "print(\"Root mean squared Error is on test dataset: \",rms(ŷ , y[test]))"
   ]
  },
  {
   "cell_type": "markdown",
   "metadata": {},
   "source": [
    "### CASE-2: CONSIDERING ORDERS*VISITORS IN MODEL"
   ]
  },
  {
   "cell_type": "code",
   "execution_count": 34,
   "metadata": {},
   "outputs": [
    {
     "data": {
      "text/html": [
       "<div class=\"data-frame\"><p>5 rows × 3 columns</p><table class=\"data-frame\"><thead><tr><th></th><th>Orders</th><th>Visitors</th><th>Orders_Visitors</th></tr><tr><th></th><th title=\"Float64\">Float64</th><th title=\"Float64\">Float64</th><th title=\"Float64\">Float64</th></tr></thead><tbody><tr><th>1</th><td>399.0</td><td>160.0</td><td>63840.0</td></tr><tr><th>2</th><td>128.0</td><td>96.0</td><td>12288.0</td></tr><tr><th>3</th><td>84.0</td><td>100.0</td><td>8400.0</td></tr><tr><th>4</th><td>239.0</td><td>33.0</td><td>7887.0</td></tr><tr><th>5</th><td>22.0</td><td>30.0</td><td>660.0</td></tr></tbody></table></div>"
      ],
      "text/latex": [
       "\\begin{tabular}{r|ccc}\n",
       "\t& Orders & Visitors & Orders\\_Visitors\\\\\n",
       "\t\\hline\n",
       "\t& Float64 & Float64 & Float64\\\\\n",
       "\t\\hline\n",
       "\t1 & 399.0 & 160.0 & 63840.0 \\\\\n",
       "\t2 & 128.0 & 96.0 & 12288.0 \\\\\n",
       "\t3 & 84.0 & 100.0 & 8400.0 \\\\\n",
       "\t4 & 239.0 & 33.0 & 7887.0 \\\\\n",
       "\t5 & 22.0 & 30.0 & 660.0 \\\\\n",
       "\\end{tabular}\n"
      ],
      "text/plain": [
       "\u001b[1m5×3 DataFrame\u001b[0m\n",
       "\u001b[1m Row \u001b[0m│\u001b[1m Orders  \u001b[0m\u001b[1m Visitors \u001b[0m\u001b[1m Orders_Visitors \u001b[0m\n",
       "\u001b[1m     \u001b[0m│\u001b[90m Float64 \u001b[0m\u001b[90m Float64  \u001b[0m\u001b[90m Float64         \u001b[0m\n",
       "─────┼────────────────────────────────────\n",
       "   1 │   399.0     160.0          63840.0\n",
       "   2 │   128.0      96.0          12288.0\n",
       "   3 │    84.0     100.0           8400.0\n",
       "   4 │   239.0      33.0           7887.0\n",
       "   5 │    22.0      30.0            660.0"
      ]
     },
     "execution_count": 34,
     "metadata": {},
     "output_type": "execute_result"
    }
   ],
   "source": [
    "X2 = hcat(X, X.Orders.*X.Visitors)  # adding a new feature of Orders*Visitors\n",
    "rename!(X2, :x1 => :Orders_Visitors)\n",
    "first(X2,5)"
   ]
  },
  {
   "cell_type": "markdown",
   "metadata": {},
   "source": [
    "##### MODEL PREDICTION & ACCURACY "
   ]
  },
  {
   "cell_type": "code",
   "execution_count": 35,
   "metadata": {},
   "outputs": [
    {
     "name": "stdout",
     "output_type": "stream",
     "text": [
      "import MLJLinearModels ✔"
     ]
    },
    {
     "name": "stderr",
     "output_type": "stream",
     "text": [
      "┌ Info: For silent loading, specify `verbosity=0`. \n",
      "└ @ Main C:\\Users\\kamle\\.julia\\packages\\MLJModels\\4sRmw\\src\\loading.jl:168\n"
     ]
    },
    {
     "name": "stdout",
     "output_type": "stream",
     "text": [
      "\n"
     ]
    },
    {
     "name": "stderr",
     "output_type": "stream",
     "text": [
      "┌ Info: Training Machine{LinearRegressor,…}.\n",
      "└ @ MLJBase C:\\Users\\kamle\\.julia\\packages\\MLJBase\\u6vLz\\src\\machines.jl:403\n"
     ]
    },
    {
     "name": "stdout",
     "output_type": "stream",
     "text": [
      "[INFO] Printing model's intercept and coefs...."
     ]
    },
    {
     "data": {
      "text/plain": [
       "(coefs = [:Orders => 1.0399248556089347, :Visitors => 1.332025911713761, :Orders_Visitors => -0.0034669650856415588],\n",
       " intercept = 44.727424642882355,)"
      ]
     },
     "execution_count": 35,
     "metadata": {},
     "output_type": "execute_result"
    }
   ],
   "source": [
    "# .7 of the dataset will be used for training and .3 as test to check model accuracy\n",
    "train, test = partition(eachindex(y), 0.7, shuffle=true, rng=1234)\n",
    "\n",
    "# Import Linear Regression model\n",
    "using MLJLinearModels\n",
    "@load LinearRegressor pkg=MLJLinearModels\n",
    "\n",
    "# creating an object from LinearRegression class\n",
    "model2 = LinearRegressor()\n",
    "\n",
    "mach = machine(model2, X2, y)\n",
    "\n",
    "# fiting the model for train data\n",
    "fit!(mach, rows=train)\n",
    "\n",
    "print(\"[INFO] Printing model's intercept and coefs....\")\n",
    "model_params = fitted_params(mach)"
   ]
  },
  {
   "cell_type": "markdown",
   "metadata": {},
   "source": [
    "##### Chcking model prediction on the test dataset (30% reserved data from main dataframe)"
   ]
  },
  {
   "cell_type": "code",
   "execution_count": 36,
   "metadata": {},
   "outputs": [
    {
     "data": {
      "text/plain": [
       "15×2 Matrix{Float64}:\n",
       " 251.261  236.0\n",
       " 243.35   156.0\n",
       " 244.002  173.0\n",
       " 234.81   182.0\n",
       " 386.445  451.0\n",
       " 309.882  361.0\n",
       " 325.729  295.0\n",
       " 181.052  191.0\n",
       " 236.161  220.0\n",
       " 277.372  218.0\n",
       " 216.749  226.0\n",
       " 159.323  172.0\n",
       " 308.409  379.0\n",
       " 265.787  179.0\n",
       " 113.503  111.0"
      ]
     },
     "execution_count": 36,
     "metadata": {},
     "output_type": "execute_result"
    }
   ],
   "source": [
    "ŷ = predict(mach, X2[test,:])\n",
    "[ŷ y[test]]"
   ]
  },
  {
   "cell_type": "code",
   "execution_count": 37,
   "metadata": {},
   "outputs": [
    {
     "data": {
      "image/svg+xml": [
       "<?xml version=\"1.0\" encoding=\"utf-8\"?>\n",
       "<svg xmlns=\"http://www.w3.org/2000/svg\" xmlns:xlink=\"http://www.w3.org/1999/xlink\" width=\"600\" height=\"400\" viewBox=\"0 0 2400 1600\">\n",
       "<defs>\n",
       "  <clipPath id=\"clip380\">\n",
       "    <rect x=\"0\" y=\"0\" width=\"2400\" height=\"1600\"/>\n",
       "  </clipPath>\n",
       "</defs>\n",
       "<path clip-path=\"url(#clip380)\" d=\"\n",
       "M0 1600 L2400 1600 L2400 0 L0 0  Z\n",
       "  \" fill=\"#ffffff\" fill-rule=\"evenodd\" fill-opacity=\"1\"/>\n",
       "<defs>\n",
       "  <clipPath id=\"clip381\">\n",
       "    <rect x=\"480\" y=\"0\" width=\"1681\" height=\"1600\"/>\n",
       "  </clipPath>\n",
       "</defs>\n",
       "<path clip-path=\"url(#clip380)\" d=\"\n",
       "M178.867 1486.45 L2352.76 1486.45 L2352.76 123.472 L178.867 123.472  Z\n",
       "  \" fill=\"#ffffff\" fill-rule=\"evenodd\" fill-opacity=\"1\"/>\n",
       "<defs>\n",
       "  <clipPath id=\"clip382\">\n",
       "    <rect x=\"178\" y=\"123\" width=\"2175\" height=\"1364\"/>\n",
       "  </clipPath>\n",
       "</defs>\n",
       "<polyline clip-path=\"url(#clip382)\" style=\"stroke:#000000; stroke-linecap:butt; stroke-linejoin:round; stroke-width:2; stroke-opacity:0.1; fill:none\" points=\"\n",
       "  386.88,1486.45 386.88,123.472 \n",
       "  \"/>\n",
       "<polyline clip-path=\"url(#clip382)\" style=\"stroke:#000000; stroke-linecap:butt; stroke-linejoin:round; stroke-width:2; stroke-opacity:0.1; fill:none\" points=\"\n",
       "  679.857,1486.45 679.857,123.472 \n",
       "  \"/>\n",
       "<polyline clip-path=\"url(#clip382)\" style=\"stroke:#000000; stroke-linecap:butt; stroke-linejoin:round; stroke-width:2; stroke-opacity:0.1; fill:none\" points=\"\n",
       "  972.834,1486.45 972.834,123.472 \n",
       "  \"/>\n",
       "<polyline clip-path=\"url(#clip382)\" style=\"stroke:#000000; stroke-linecap:butt; stroke-linejoin:round; stroke-width:2; stroke-opacity:0.1; fill:none\" points=\"\n",
       "  1265.81,1486.45 1265.81,123.472 \n",
       "  \"/>\n",
       "<polyline clip-path=\"url(#clip382)\" style=\"stroke:#000000; stroke-linecap:butt; stroke-linejoin:round; stroke-width:2; stroke-opacity:0.1; fill:none\" points=\"\n",
       "  1558.79,1486.45 1558.79,123.472 \n",
       "  \"/>\n",
       "<polyline clip-path=\"url(#clip382)\" style=\"stroke:#000000; stroke-linecap:butt; stroke-linejoin:round; stroke-width:2; stroke-opacity:0.1; fill:none\" points=\"\n",
       "  1851.77,1486.45 1851.77,123.472 \n",
       "  \"/>\n",
       "<polyline clip-path=\"url(#clip382)\" style=\"stroke:#000000; stroke-linecap:butt; stroke-linejoin:round; stroke-width:2; stroke-opacity:0.1; fill:none\" points=\"\n",
       "  2144.74,1486.45 2144.74,123.472 \n",
       "  \"/>\n",
       "<polyline clip-path=\"url(#clip380)\" style=\"stroke:#000000; stroke-linecap:butt; stroke-linejoin:round; stroke-width:4; stroke-opacity:1; fill:none\" points=\"\n",
       "  178.867,1486.45 2352.76,1486.45 \n",
       "  \"/>\n",
       "<polyline clip-path=\"url(#clip380)\" style=\"stroke:#000000; stroke-linecap:butt; stroke-linejoin:round; stroke-width:4; stroke-opacity:1; fill:none\" points=\"\n",
       "  386.88,1486.45 386.88,1467.55 \n",
       "  \"/>\n",
       "<polyline clip-path=\"url(#clip380)\" style=\"stroke:#000000; stroke-linecap:butt; stroke-linejoin:round; stroke-width:4; stroke-opacity:1; fill:none\" points=\"\n",
       "  679.857,1486.45 679.857,1467.55 \n",
       "  \"/>\n",
       "<polyline clip-path=\"url(#clip380)\" style=\"stroke:#000000; stroke-linecap:butt; stroke-linejoin:round; stroke-width:4; stroke-opacity:1; fill:none\" points=\"\n",
       "  972.834,1486.45 972.834,1467.55 \n",
       "  \"/>\n",
       "<polyline clip-path=\"url(#clip380)\" style=\"stroke:#000000; stroke-linecap:butt; stroke-linejoin:round; stroke-width:4; stroke-opacity:1; fill:none\" points=\"\n",
       "  1265.81,1486.45 1265.81,1467.55 \n",
       "  \"/>\n",
       "<polyline clip-path=\"url(#clip380)\" style=\"stroke:#000000; stroke-linecap:butt; stroke-linejoin:round; stroke-width:4; stroke-opacity:1; fill:none\" points=\"\n",
       "  1558.79,1486.45 1558.79,1467.55 \n",
       "  \"/>\n",
       "<polyline clip-path=\"url(#clip380)\" style=\"stroke:#000000; stroke-linecap:butt; stroke-linejoin:round; stroke-width:4; stroke-opacity:1; fill:none\" points=\"\n",
       "  1851.77,1486.45 1851.77,1467.55 \n",
       "  \"/>\n",
       "<polyline clip-path=\"url(#clip380)\" style=\"stroke:#000000; stroke-linecap:butt; stroke-linejoin:round; stroke-width:4; stroke-opacity:1; fill:none\" points=\"\n",
       "  2144.74,1486.45 2144.74,1467.55 \n",
       "  \"/>\n",
       "<path clip-path=\"url(#clip380)\" d=\"M381.533 1543.18 L397.852 1543.18 L397.852 1547.12 L375.908 1547.12 L375.908 1543.18 Q378.57 1540.43 383.153 1535.8 Q387.76 1531.15 388.94 1529.81 Q391.186 1527.28 392.065 1525.55 Q392.968 1523.79 392.968 1522.1 Q392.968 1519.34 391.024 1517.61 Q389.103 1515.87 386.001 1515.87 Q383.802 1515.87 381.348 1516.63 Q378.917 1517.4 376.14 1518.95 L376.14 1514.23 Q378.964 1513.09 381.417 1512.51 Q383.871 1511.93 385.908 1511.93 Q391.278 1511.93 394.473 1514.62 Q397.667 1517.31 397.667 1521.8 Q397.667 1523.93 396.857 1525.85 Q396.07 1527.74 393.964 1530.34 Q393.385 1531.01 390.283 1534.23 Q387.181 1537.42 381.533 1543.18 Z\" fill=\"#000000\" fill-rule=\"evenodd\" fill-opacity=\"1\" /><path clip-path=\"url(#clip380)\" d=\"M682.867 1516.63 L671.061 1535.08 L682.867 1535.08 L682.867 1516.63 M681.64 1512.56 L687.519 1512.56 L687.519 1535.08 L692.45 1535.08 L692.45 1538.97 L687.519 1538.97 L687.519 1547.12 L682.867 1547.12 L682.867 1538.97 L667.265 1538.97 L667.265 1534.46 L681.64 1512.56 Z\" fill=\"#000000\" fill-rule=\"evenodd\" fill-opacity=\"1\" /><path clip-path=\"url(#clip380)\" d=\"M973.239 1527.98 Q970.091 1527.98 968.239 1530.13 Q966.411 1532.28 966.411 1536.03 Q966.411 1539.76 968.239 1541.93 Q970.091 1544.09 973.239 1544.09 Q976.388 1544.09 978.216 1541.93 Q980.068 1539.76 980.068 1536.03 Q980.068 1532.28 978.216 1530.13 Q976.388 1527.98 973.239 1527.98 M982.522 1513.32 L982.522 1517.58 Q980.762 1516.75 978.957 1516.31 Q977.175 1515.87 975.415 1515.87 Q970.786 1515.87 968.332 1519 Q965.901 1522.12 965.554 1528.44 Q966.92 1526.43 968.98 1525.36 Q971.04 1524.27 973.517 1524.27 Q978.725 1524.27 981.735 1527.44 Q984.767 1530.59 984.767 1536.03 Q984.767 1541.36 981.619 1544.57 Q978.471 1547.79 973.239 1547.79 Q967.244 1547.79 964.073 1543.21 Q960.901 1538.6 960.901 1529.87 Q960.901 1521.68 964.79 1516.82 Q968.679 1511.93 975.23 1511.93 Q976.989 1511.93 978.772 1512.28 Q980.577 1512.63 982.522 1513.32 Z\" fill=\"#000000\" fill-rule=\"evenodd\" fill-opacity=\"1\" /><path clip-path=\"url(#clip380)\" d=\"M1265.81 1530.71 Q1262.48 1530.71 1260.56 1532.49 Q1258.66 1534.27 1258.66 1537.4 Q1258.66 1540.52 1260.56 1542.31 Q1262.48 1544.09 1265.81 1544.09 Q1269.14 1544.09 1271.07 1542.31 Q1272.99 1540.5 1272.99 1537.4 Q1272.99 1534.27 1271.07 1532.49 Q1269.17 1530.71 1265.81 1530.71 M1261.14 1528.72 Q1258.13 1527.98 1256.44 1525.92 Q1254.77 1523.86 1254.77 1520.89 Q1254.77 1516.75 1257.71 1514.34 Q1260.67 1511.93 1265.81 1511.93 Q1270.97 1511.93 1273.91 1514.34 Q1276.85 1516.75 1276.85 1520.89 Q1276.85 1523.86 1275.16 1525.92 Q1273.5 1527.98 1270.51 1528.72 Q1273.89 1529.5 1275.76 1531.8 Q1277.66 1534.09 1277.66 1537.4 Q1277.66 1542.42 1274.58 1545.11 Q1271.53 1547.79 1265.81 1547.79 Q1260.09 1547.79 1257.02 1545.11 Q1253.96 1542.42 1253.96 1537.4 Q1253.96 1534.09 1255.86 1531.8 Q1257.76 1529.5 1261.14 1528.72 M1259.42 1521.33 Q1259.42 1524.02 1261.09 1525.52 Q1262.78 1527.03 1265.81 1527.03 Q1268.82 1527.03 1270.51 1525.52 Q1272.22 1524.02 1272.22 1521.33 Q1272.22 1518.65 1270.51 1517.14 Q1268.82 1515.64 1265.81 1515.64 Q1262.78 1515.64 1261.09 1517.14 Q1259.42 1518.65 1259.42 1521.33 Z\" fill=\"#000000\" fill-rule=\"evenodd\" fill-opacity=\"1\" /><path clip-path=\"url(#clip380)\" d=\"M1533.48 1543.18 L1541.11 1543.18 L1541.11 1516.82 L1532.8 1518.49 L1532.8 1514.23 L1541.07 1512.56 L1545.74 1512.56 L1545.74 1543.18 L1553.38 1543.18 L1553.38 1547.12 L1533.48 1547.12 L1533.48 1543.18 Z\" fill=\"#000000\" fill-rule=\"evenodd\" fill-opacity=\"1\" /><path clip-path=\"url(#clip380)\" d=\"M1572.83 1515.64 Q1569.22 1515.64 1567.39 1519.2 Q1565.58 1522.75 1565.58 1529.87 Q1565.58 1536.98 1567.39 1540.55 Q1569.22 1544.09 1572.83 1544.09 Q1576.46 1544.09 1578.27 1540.55 Q1580.1 1536.98 1580.1 1529.87 Q1580.1 1522.75 1578.27 1519.2 Q1576.46 1515.64 1572.83 1515.64 M1572.83 1511.93 Q1578.64 1511.93 1581.69 1516.54 Q1584.77 1521.12 1584.77 1529.87 Q1584.77 1538.6 1581.69 1543.21 Q1578.64 1547.79 1572.83 1547.79 Q1567.02 1547.79 1563.94 1543.21 Q1560.88 1538.6 1560.88 1529.87 Q1560.88 1521.12 1563.94 1516.54 Q1567.02 1511.93 1572.83 1511.93 Z\" fill=\"#000000\" fill-rule=\"evenodd\" fill-opacity=\"1\" /><path clip-path=\"url(#clip380)\" d=\"M1827.25 1543.18 L1834.89 1543.18 L1834.89 1516.82 L1826.58 1518.49 L1826.58 1514.23 L1834.84 1512.56 L1839.52 1512.56 L1839.52 1543.18 L1847.16 1543.18 L1847.16 1547.12 L1827.25 1547.12 L1827.25 1543.18 Z\" fill=\"#000000\" fill-rule=\"evenodd\" fill-opacity=\"1\" /><path clip-path=\"url(#clip380)\" d=\"M1860.63 1543.18 L1876.95 1543.18 L1876.95 1547.12 L1855.01 1547.12 L1855.01 1543.18 Q1857.67 1540.43 1862.25 1535.8 Q1866.86 1531.15 1868.04 1529.81 Q1870.28 1527.28 1871.16 1525.55 Q1872.07 1523.79 1872.07 1522.1 Q1872.07 1519.34 1870.12 1517.61 Q1868.2 1515.87 1865.1 1515.87 Q1862.9 1515.87 1860.45 1516.63 Q1858.02 1517.4 1855.24 1518.95 L1855.24 1514.23 Q1858.06 1513.09 1860.52 1512.51 Q1862.97 1511.93 1865.01 1511.93 Q1870.38 1511.93 1873.57 1514.62 Q1876.77 1517.31 1876.77 1521.8 Q1876.77 1523.93 1875.95 1525.85 Q1875.17 1527.74 1873.06 1530.34 Q1872.48 1531.01 1869.38 1534.23 Q1866.28 1537.42 1860.63 1543.18 Z\" fill=\"#000000\" fill-rule=\"evenodd\" fill-opacity=\"1\" /><path clip-path=\"url(#clip380)\" d=\"M2119.19 1543.18 L2126.83 1543.18 L2126.83 1516.82 L2118.52 1518.49 L2118.52 1514.23 L2126.78 1512.56 L2131.46 1512.56 L2131.46 1543.18 L2139.09 1543.18 L2139.09 1547.12 L2119.19 1547.12 L2119.19 1543.18 Z\" fill=\"#000000\" fill-rule=\"evenodd\" fill-opacity=\"1\" /><path clip-path=\"url(#clip380)\" d=\"M2161.39 1516.63 L2149.58 1535.08 L2161.39 1535.08 L2161.39 1516.63 M2160.16 1512.56 L2166.04 1512.56 L2166.04 1535.08 L2170.97 1535.08 L2170.97 1538.97 L2166.04 1538.97 L2166.04 1547.12 L2161.39 1547.12 L2161.39 1538.97 L2145.78 1538.97 L2145.78 1534.46 L2160.16 1512.56 Z\" fill=\"#000000\" fill-rule=\"evenodd\" fill-opacity=\"1\" /><polyline clip-path=\"url(#clip382)\" style=\"stroke:#000000; stroke-linecap:butt; stroke-linejoin:round; stroke-width:2; stroke-opacity:0.1; fill:none\" points=\"\n",
       "  178.867,1361.65 2352.76,1361.65 \n",
       "  \"/>\n",
       "<polyline clip-path=\"url(#clip382)\" style=\"stroke:#000000; stroke-linecap:butt; stroke-linejoin:round; stroke-width:2; stroke-opacity:0.1; fill:none\" points=\"\n",
       "  178.867,1198.83 2352.76,1198.83 \n",
       "  \"/>\n",
       "<polyline clip-path=\"url(#clip382)\" style=\"stroke:#000000; stroke-linecap:butt; stroke-linejoin:round; stroke-width:2; stroke-opacity:0.1; fill:none\" points=\"\n",
       "  178.867,1036 2352.76,1036 \n",
       "  \"/>\n",
       "<polyline clip-path=\"url(#clip382)\" style=\"stroke:#000000; stroke-linecap:butt; stroke-linejoin:round; stroke-width:2; stroke-opacity:0.1; fill:none\" points=\"\n",
       "  178.867,873.178 2352.76,873.178 \n",
       "  \"/>\n",
       "<polyline clip-path=\"url(#clip382)\" style=\"stroke:#000000; stroke-linecap:butt; stroke-linejoin:round; stroke-width:2; stroke-opacity:0.1; fill:none\" points=\"\n",
       "  178.867,710.355 2352.76,710.355 \n",
       "  \"/>\n",
       "<polyline clip-path=\"url(#clip382)\" style=\"stroke:#000000; stroke-linecap:butt; stroke-linejoin:round; stroke-width:2; stroke-opacity:0.1; fill:none\" points=\"\n",
       "  178.867,547.531 2352.76,547.531 \n",
       "  \"/>\n",
       "<polyline clip-path=\"url(#clip382)\" style=\"stroke:#000000; stroke-linecap:butt; stroke-linejoin:round; stroke-width:2; stroke-opacity:0.1; fill:none\" points=\"\n",
       "  178.867,384.708 2352.76,384.708 \n",
       "  \"/>\n",
       "<polyline clip-path=\"url(#clip382)\" style=\"stroke:#000000; stroke-linecap:butt; stroke-linejoin:round; stroke-width:2; stroke-opacity:0.1; fill:none\" points=\"\n",
       "  178.867,221.884 2352.76,221.884 \n",
       "  \"/>\n",
       "<polyline clip-path=\"url(#clip380)\" style=\"stroke:#000000; stroke-linecap:butt; stroke-linejoin:round; stroke-width:4; stroke-opacity:1; fill:none\" points=\"\n",
       "  178.867,1486.45 178.867,123.472 \n",
       "  \"/>\n",
       "<polyline clip-path=\"url(#clip380)\" style=\"stroke:#000000; stroke-linecap:butt; stroke-linejoin:round; stroke-width:4; stroke-opacity:1; fill:none\" points=\"\n",
       "  178.867,1361.65 197.764,1361.65 \n",
       "  \"/>\n",
       "<polyline clip-path=\"url(#clip380)\" style=\"stroke:#000000; stroke-linecap:butt; stroke-linejoin:round; stroke-width:4; stroke-opacity:1; fill:none\" points=\"\n",
       "  178.867,1198.83 197.764,1198.83 \n",
       "  \"/>\n",
       "<polyline clip-path=\"url(#clip380)\" style=\"stroke:#000000; stroke-linecap:butt; stroke-linejoin:round; stroke-width:4; stroke-opacity:1; fill:none\" points=\"\n",
       "  178.867,1036 197.764,1036 \n",
       "  \"/>\n",
       "<polyline clip-path=\"url(#clip380)\" style=\"stroke:#000000; stroke-linecap:butt; stroke-linejoin:round; stroke-width:4; stroke-opacity:1; fill:none\" points=\"\n",
       "  178.867,873.178 197.764,873.178 \n",
       "  \"/>\n",
       "<polyline clip-path=\"url(#clip380)\" style=\"stroke:#000000; stroke-linecap:butt; stroke-linejoin:round; stroke-width:4; stroke-opacity:1; fill:none\" points=\"\n",
       "  178.867,710.355 197.764,710.355 \n",
       "  \"/>\n",
       "<polyline clip-path=\"url(#clip380)\" style=\"stroke:#000000; stroke-linecap:butt; stroke-linejoin:round; stroke-width:4; stroke-opacity:1; fill:none\" points=\"\n",
       "  178.867,547.531 197.764,547.531 \n",
       "  \"/>\n",
       "<polyline clip-path=\"url(#clip380)\" style=\"stroke:#000000; stroke-linecap:butt; stroke-linejoin:round; stroke-width:4; stroke-opacity:1; fill:none\" points=\"\n",
       "  178.867,384.708 197.764,384.708 \n",
       "  \"/>\n",
       "<polyline clip-path=\"url(#clip380)\" style=\"stroke:#000000; stroke-linecap:butt; stroke-linejoin:round; stroke-width:4; stroke-opacity:1; fill:none\" points=\"\n",
       "  178.867,221.884 197.764,221.884 \n",
       "  \"/>\n",
       "<path clip-path=\"url(#clip380)\" d=\"M50.9921 1362.1 L80.6679 1362.1 L80.6679 1366.04 L50.9921 1366.04 L50.9921 1362.1 Z\" fill=\"#000000\" fill-rule=\"evenodd\" fill-opacity=\"1\" /><path clip-path=\"url(#clip380)\" d=\"M101.339 1359.79 Q98.1909 1359.79 96.3391 1361.94 Q94.5104 1364.09 94.5104 1367.84 Q94.5104 1371.57 96.3391 1373.74 Q98.1909 1375.9 101.339 1375.9 Q104.487 1375.9 106.316 1373.74 Q108.168 1371.57 108.168 1367.84 Q108.168 1364.09 106.316 1361.94 Q104.487 1359.79 101.339 1359.79 M110.621 1345.13 L110.621 1349.39 Q108.862 1348.56 107.057 1348.12 Q105.274 1347.68 103.515 1347.68 Q98.8854 1347.68 96.4317 1350.8 Q94.0012 1353.93 93.6539 1360.25 Q95.0197 1358.23 97.0798 1357.17 Q99.14 1356.08 101.617 1356.08 Q106.825 1356.08 109.834 1359.25 Q112.867 1362.4 112.867 1367.84 Q112.867 1373.17 109.719 1376.38 Q106.571 1379.6 101.339 1379.6 Q95.3437 1379.6 92.1725 1375.02 Q89.0012 1370.41 89.0012 1361.68 Q89.0012 1353.49 92.89 1348.63 Q96.7789 1343.74 103.33 1343.74 Q105.089 1343.74 106.871 1344.09 Q108.677 1344.44 110.621 1345.13 Z\" fill=\"#000000\" fill-rule=\"evenodd\" fill-opacity=\"1\" /><path clip-path=\"url(#clip380)\" d=\"M130.922 1347.45 Q127.311 1347.45 125.482 1351.01 Q123.677 1354.55 123.677 1361.68 Q123.677 1368.79 125.482 1372.35 Q127.311 1375.9 130.922 1375.9 Q134.556 1375.9 136.362 1372.35 Q138.191 1368.79 138.191 1361.68 Q138.191 1354.55 136.362 1351.01 Q134.556 1347.45 130.922 1347.45 M130.922 1343.74 Q136.732 1343.74 139.788 1348.35 Q142.867 1352.93 142.867 1361.68 Q142.867 1370.41 139.788 1375.02 Q136.732 1379.6 130.922 1379.6 Q125.112 1379.6 122.033 1375.02 Q118.978 1370.41 118.978 1361.68 Q118.978 1352.93 122.033 1348.35 Q125.112 1343.74 130.922 1343.74 Z\" fill=\"#000000\" fill-rule=\"evenodd\" fill-opacity=\"1\" /><path clip-path=\"url(#clip380)\" d=\"M50.9921 1199.28 L80.6679 1199.28 L80.6679 1203.21 L50.9921 1203.21 L50.9921 1199.28 Z\" fill=\"#000000\" fill-rule=\"evenodd\" fill-opacity=\"1\" /><path clip-path=\"url(#clip380)\" d=\"M103.608 1185.62 L91.8021 1204.07 L103.608 1204.07 L103.608 1185.62 M102.381 1181.55 L108.26 1181.55 L108.26 1204.07 L113.191 1204.07 L113.191 1207.96 L108.26 1207.96 L108.26 1216.11 L103.608 1216.11 L103.608 1207.96 L88.0058 1207.96 L88.0058 1203.44 L102.381 1181.55 Z\" fill=\"#000000\" fill-rule=\"evenodd\" fill-opacity=\"1\" /><path clip-path=\"url(#clip380)\" d=\"M130.922 1184.62 Q127.311 1184.62 125.482 1188.19 Q123.677 1191.73 123.677 1198.86 Q123.677 1205.97 125.482 1209.53 Q127.311 1213.07 130.922 1213.07 Q134.556 1213.07 136.362 1209.53 Q138.191 1205.97 138.191 1198.86 Q138.191 1191.73 136.362 1188.19 Q134.556 1184.62 130.922 1184.62 M130.922 1180.92 Q136.732 1180.92 139.788 1185.53 Q142.867 1190.11 142.867 1198.86 Q142.867 1207.59 139.788 1212.19 Q136.732 1216.78 130.922 1216.78 Q125.112 1216.78 122.033 1212.19 Q118.978 1207.59 118.978 1198.86 Q118.978 1190.11 122.033 1185.53 Q125.112 1180.92 130.922 1180.92 Z\" fill=\"#000000\" fill-rule=\"evenodd\" fill-opacity=\"1\" /><path clip-path=\"url(#clip380)\" d=\"M50.9921 1036.45 L80.6679 1036.45 L80.6679 1040.39 L50.9921 1040.39 L50.9921 1036.45 Z\" fill=\"#000000\" fill-rule=\"evenodd\" fill-opacity=\"1\" /><path clip-path=\"url(#clip380)\" d=\"M94.7882 1049.35 L111.108 1049.35 L111.108 1053.28 L89.1632 1053.28 L89.1632 1049.35 Q91.8252 1046.59 96.4085 1041.96 Q101.015 1037.31 102.196 1035.97 Q104.441 1033.44 105.321 1031.71 Q106.223 1029.95 106.223 1028.26 Q106.223 1025.5 104.279 1023.77 Q102.358 1022.03 99.2558 1022.03 Q97.0567 1022.03 94.603 1022.8 Q92.1725 1023.56 89.3947 1025.11 L89.3947 1020.39 Q92.2188 1019.25 94.6724 1018.68 Q97.1261 1018.1 99.1632 1018.1 Q104.534 1018.1 107.728 1020.78 Q110.922 1023.47 110.922 1027.96 Q110.922 1030.09 110.112 1032.01 Q109.325 1033.91 107.219 1036.5 Q106.64 1037.17 103.538 1040.39 Q100.436 1043.58 94.7882 1049.35 Z\" fill=\"#000000\" fill-rule=\"evenodd\" fill-opacity=\"1\" /><path clip-path=\"url(#clip380)\" d=\"M130.922 1021.8 Q127.311 1021.8 125.482 1025.37 Q123.677 1028.91 123.677 1036.04 Q123.677 1043.14 125.482 1046.71 Q127.311 1050.25 130.922 1050.25 Q134.556 1050.25 136.362 1046.71 Q138.191 1043.14 138.191 1036.04 Q138.191 1028.91 136.362 1025.37 Q134.556 1021.8 130.922 1021.8 M130.922 1018.1 Q136.732 1018.1 139.788 1022.7 Q142.867 1027.29 142.867 1036.04 Q142.867 1044.76 139.788 1049.37 Q136.732 1053.95 130.922 1053.95 Q125.112 1053.95 122.033 1049.37 Q118.978 1044.76 118.978 1036.04 Q118.978 1027.29 122.033 1022.7 Q125.112 1018.1 130.922 1018.1 Z\" fill=\"#000000\" fill-rule=\"evenodd\" fill-opacity=\"1\" /><path clip-path=\"url(#clip380)\" d=\"M130.922 858.977 Q127.311 858.977 125.482 862.542 Q123.677 866.083 123.677 873.213 Q123.677 880.32 125.482 883.884 Q127.311 887.426 130.922 887.426 Q134.556 887.426 136.362 883.884 Q138.191 880.32 138.191 873.213 Q138.191 866.083 136.362 862.542 Q134.556 858.977 130.922 858.977 M130.922 855.273 Q136.732 855.273 139.788 859.88 Q142.867 864.463 142.867 873.213 Q142.867 881.94 139.788 886.546 Q136.732 891.13 130.922 891.13 Q125.112 891.13 122.033 886.546 Q118.978 881.94 118.978 873.213 Q118.978 864.463 122.033 859.88 Q125.112 855.273 130.922 855.273 Z\" fill=\"#000000\" fill-rule=\"evenodd\" fill-opacity=\"1\" /><path clip-path=\"url(#clip380)\" d=\"M94.7882 723.7 L111.108 723.7 L111.108 727.635 L89.1632 727.635 L89.1632 723.7 Q91.8252 720.945 96.4085 716.315 Q101.015 711.663 102.196 710.32 Q104.441 707.797 105.321 706.061 Q106.223 704.302 106.223 702.612 Q106.223 699.857 104.279 698.121 Q102.358 696.385 99.2558 696.385 Q97.0567 696.385 94.603 697.149 Q92.1725 697.913 89.3947 699.464 L89.3947 694.741 Q92.2188 693.607 94.6724 693.029 Q97.1261 692.45 99.1632 692.45 Q104.534 692.45 107.728 695.135 Q110.922 697.82 110.922 702.311 Q110.922 704.44 110.112 706.362 Q109.325 708.26 107.219 710.852 Q106.64 711.524 103.538 714.741 Q100.436 717.936 94.7882 723.7 Z\" fill=\"#000000\" fill-rule=\"evenodd\" fill-opacity=\"1\" /><path clip-path=\"url(#clip380)\" d=\"M130.922 696.153 Q127.311 696.153 125.482 699.718 Q123.677 703.26 123.677 710.39 Q123.677 717.496 125.482 721.061 Q127.311 724.602 130.922 724.602 Q134.556 724.602 136.362 721.061 Q138.191 717.496 138.191 710.39 Q138.191 703.26 136.362 699.718 Q134.556 696.153 130.922 696.153 M130.922 692.45 Q136.732 692.45 139.788 697.056 Q142.867 701.64 142.867 710.39 Q142.867 719.116 139.788 723.723 Q136.732 728.306 130.922 728.306 Q125.112 728.306 122.033 723.723 Q118.978 719.116 118.978 710.39 Q118.978 701.64 122.033 697.056 Q125.112 692.45 130.922 692.45 Z\" fill=\"#000000\" fill-rule=\"evenodd\" fill-opacity=\"1\" /><path clip-path=\"url(#clip380)\" d=\"M103.608 534.325 L91.8021 552.774 L103.608 552.774 L103.608 534.325 M102.381 530.251 L108.26 530.251 L108.26 552.774 L113.191 552.774 L113.191 556.663 L108.26 556.663 L108.26 564.811 L103.608 564.811 L103.608 556.663 L88.0058 556.663 L88.0058 552.149 L102.381 530.251 Z\" fill=\"#000000\" fill-rule=\"evenodd\" fill-opacity=\"1\" /><path clip-path=\"url(#clip380)\" d=\"M130.922 533.33 Q127.311 533.33 125.482 536.895 Q123.677 540.436 123.677 547.566 Q123.677 554.672 125.482 558.237 Q127.311 561.779 130.922 561.779 Q134.556 561.779 136.362 558.237 Q138.191 554.672 138.191 547.566 Q138.191 540.436 136.362 536.895 Q134.556 533.33 130.922 533.33 M130.922 529.626 Q136.732 529.626 139.788 534.233 Q142.867 538.816 142.867 547.566 Q142.867 556.293 139.788 560.899 Q136.732 565.483 130.922 565.483 Q125.112 565.483 122.033 560.899 Q118.978 556.293 118.978 547.566 Q118.978 538.816 122.033 534.233 Q125.112 529.626 130.922 529.626 Z\" fill=\"#000000\" fill-rule=\"evenodd\" fill-opacity=\"1\" /><path clip-path=\"url(#clip380)\" d=\"M101.339 382.844 Q98.1909 382.844 96.3391 384.997 Q94.5104 387.15 94.5104 390.9 Q94.5104 394.627 96.3391 396.803 Q98.1909 398.955 101.339 398.955 Q104.487 398.955 106.316 396.803 Q108.168 394.627 108.168 390.9 Q108.168 387.15 106.316 384.997 Q104.487 382.844 101.339 382.844 M110.621 368.192 L110.621 372.451 Q108.862 371.618 107.057 371.178 Q105.274 370.738 103.515 370.738 Q98.8854 370.738 96.4317 373.863 Q94.0012 376.988 93.6539 383.307 Q95.0197 381.293 97.0798 380.229 Q99.14 379.141 101.617 379.141 Q106.825 379.141 109.834 382.312 Q112.867 385.46 112.867 390.9 Q112.867 396.224 109.719 399.441 Q106.571 402.659 101.339 402.659 Q95.3437 402.659 92.1725 398.076 Q89.0012 393.469 89.0012 384.742 Q89.0012 376.548 92.89 371.687 Q96.7789 366.803 103.33 366.803 Q105.089 366.803 106.871 367.15 Q108.677 367.497 110.621 368.192 Z\" fill=\"#000000\" fill-rule=\"evenodd\" fill-opacity=\"1\" /><path clip-path=\"url(#clip380)\" d=\"M130.922 370.506 Q127.311 370.506 125.482 374.071 Q123.677 377.613 123.677 384.742 Q123.677 391.849 125.482 395.414 Q127.311 398.955 130.922 398.955 Q134.556 398.955 136.362 395.414 Q138.191 391.849 138.191 384.742 Q138.191 377.613 136.362 374.071 Q134.556 370.506 130.922 370.506 M130.922 366.803 Q136.732 366.803 139.788 371.409 Q142.867 375.992 142.867 384.742 Q142.867 393.469 139.788 398.076 Q136.732 402.659 130.922 402.659 Q125.112 402.659 122.033 398.076 Q118.978 393.469 118.978 384.742 Q118.978 375.992 122.033 371.409 Q125.112 366.803 130.922 366.803 Z\" fill=\"#000000\" fill-rule=\"evenodd\" fill-opacity=\"1\" /><path clip-path=\"url(#clip380)\" d=\"M100.76 222.752 Q97.4271 222.752 95.5058 224.535 Q93.6076 226.317 93.6076 229.442 Q93.6076 232.567 95.5058 234.349 Q97.4271 236.132 100.76 236.132 Q104.094 236.132 106.015 234.349 Q107.936 232.544 107.936 229.442 Q107.936 226.317 106.015 224.535 Q104.117 222.752 100.76 222.752 M96.0845 220.761 Q93.0752 220.021 91.3854 217.961 Q89.7188 215.9 89.7188 212.937 Q89.7188 208.794 92.6586 206.387 Q95.6215 203.979 100.76 203.979 Q105.922 203.979 108.862 206.387 Q111.802 208.794 111.802 212.937 Q111.802 215.9 110.112 217.961 Q108.446 220.021 105.459 220.761 Q108.839 221.549 110.714 223.84 Q112.612 226.132 112.612 229.442 Q112.612 234.465 109.533 237.15 Q106.478 239.835 100.76 239.835 Q95.0428 239.835 91.9641 237.15 Q88.9086 234.465 88.9086 229.442 Q88.9086 226.132 90.8067 223.84 Q92.7049 221.549 96.0845 220.761 M94.3715 213.377 Q94.3715 216.062 96.0382 217.567 Q97.728 219.072 100.76 219.072 Q103.77 219.072 105.459 217.567 Q107.172 216.062 107.172 213.377 Q107.172 210.692 105.459 209.187 Q103.77 207.683 100.76 207.683 Q97.728 207.683 96.0382 209.187 Q94.3715 210.692 94.3715 213.377 Z\" fill=\"#000000\" fill-rule=\"evenodd\" fill-opacity=\"1\" /><path clip-path=\"url(#clip380)\" d=\"M130.922 207.683 Q127.311 207.683 125.482 211.248 Q123.677 214.789 123.677 221.919 Q123.677 229.025 125.482 232.59 Q127.311 236.132 130.922 236.132 Q134.556 236.132 136.362 232.59 Q138.191 229.025 138.191 221.919 Q138.191 214.789 136.362 211.248 Q134.556 207.683 130.922 207.683 M130.922 203.979 Q136.732 203.979 139.788 208.586 Q142.867 213.169 142.867 221.919 Q142.867 230.646 139.788 235.252 Q136.732 239.835 130.922 239.835 Q125.112 239.835 122.033 235.252 Q118.978 230.646 118.978 221.919 Q118.978 213.169 122.033 208.586 Q125.112 203.979 130.922 203.979 Z\" fill=\"#000000\" fill-rule=\"evenodd\" fill-opacity=\"1\" /><path clip-path=\"url(#clip380)\" d=\"M789.02 44.2197 Q791.653 45.1109 794.124 48.0275 Q796.636 50.9442 799.147 56.0483 L807.451 72.576 L798.661 72.576 L790.924 57.061 Q787.926 50.9847 785.09 48.9997 Q782.295 47.0148 777.434 47.0148 L768.522 47.0148 L768.522 72.576 L760.339 72.576 L760.339 12.096 L778.812 12.096 Q789.182 12.096 794.286 16.4305 Q799.39 20.7649 799.39 29.5149 Q799.39 35.2267 796.717 38.994 Q794.083 42.7613 789.02 44.2197 M768.522 18.8205 L768.522 40.2903 L778.812 40.2903 Q784.726 40.2903 787.724 37.5762 Q790.762 34.8216 790.762 29.5149 Q790.762 24.2082 787.724 21.5346 Q784.726 18.8205 778.812 18.8205 L768.522 18.8205 Z\" fill=\"#000000\" fill-rule=\"evenodd\" fill-opacity=\"1\" /><path clip-path=\"url(#clip380)\" d=\"M852.741 48.0275 L852.741 51.6733 L818.47 51.6733 Q818.956 59.3701 823.088 63.421 Q827.26 67.4314 834.674 67.4314 Q838.967 67.4314 842.978 66.3781 Q847.029 65.3249 850.999 63.2184 L850.999 70.267 Q846.988 71.9684 842.775 72.8596 Q838.562 73.7508 834.228 73.7508 Q823.372 73.7508 817.012 67.4314 Q810.692 61.1119 810.692 50.3365 Q810.692 39.1965 816.688 32.6746 Q822.723 26.1121 832.932 26.1121 Q842.087 26.1121 847.393 32.0264 Q852.741 37.9003 852.741 48.0275 M845.287 45.84 Q845.206 39.7232 841.844 36.0774 Q838.522 32.4315 833.013 32.4315 Q826.774 32.4315 823.007 35.9558 Q819.28 39.4801 818.713 45.8805 L845.287 45.84 Z\" fill=\"#000000\" fill-rule=\"evenodd\" fill-opacity=\"1\" /><path clip-path=\"url(#clip380)\" d=\"M893.898 28.5427 L893.898 35.5912 Q890.738 33.9709 887.335 33.1607 Q883.933 32.3505 880.287 32.3505 Q874.737 32.3505 871.942 34.0519 Q869.187 35.7533 869.187 39.156 Q869.187 41.7486 871.172 43.2475 Q873.157 44.7058 879.152 46.0426 L881.705 46.6097 Q889.644 48.3111 892.966 51.4303 Q896.328 54.509 896.328 60.0587 Q896.328 66.3781 891.305 70.0644 Q886.323 73.7508 877.573 73.7508 Q873.927 73.7508 869.957 73.0216 Q866.028 72.3329 861.653 70.9151 L861.653 63.2184 Q865.784 65.3654 869.795 66.4591 Q873.805 67.5124 877.735 67.5124 Q883.001 67.5124 885.836 65.73 Q888.672 63.9071 888.672 60.6258 Q888.672 57.5877 886.606 55.9673 Q884.581 54.3469 877.654 52.8481 L875.061 52.2405 Q868.134 50.7821 865.055 47.7845 Q861.977 44.7463 861.977 39.4801 Q861.977 33.0797 866.514 29.5959 Q871.051 26.1121 879.396 26.1121 Q883.527 26.1121 887.173 26.7198 Q890.819 27.3274 893.898 28.5427 Z\" fill=\"#000000\" fill-rule=\"evenodd\" fill-opacity=\"1\" /><path clip-path=\"url(#clip380)\" d=\"M908.197 27.2059 L915.651 27.2059 L915.651 72.576 L908.197 72.576 L908.197 27.2059 M908.197 9.54393 L915.651 9.54393 L915.651 18.9825 L908.197 18.9825 L908.197 9.54393 Z\" fill=\"#000000\" fill-rule=\"evenodd\" fill-opacity=\"1\" /><path clip-path=\"url(#clip380)\" d=\"M961.102 34.0924 L961.102 9.54393 L968.556 9.54393 L968.556 72.576 L961.102 72.576 L961.102 65.7705 Q958.753 69.8214 955.147 71.8063 Q951.583 73.7508 946.56 73.7508 Q938.336 73.7508 933.151 67.1883 Q928.006 60.6258 928.006 49.9314 Q928.006 39.2371 933.151 32.6746 Q938.336 26.1121 946.56 26.1121 Q951.583 26.1121 955.147 28.0971 Q958.753 30.0415 961.102 34.0924 M935.703 49.9314 Q935.703 58.1548 939.065 62.8538 Q942.468 67.5124 948.382 67.5124 Q954.297 67.5124 957.699 62.8538 Q961.102 58.1548 961.102 49.9314 Q961.102 41.7081 957.699 37.0496 Q954.297 32.3505 948.382 32.3505 Q942.468 32.3505 939.065 37.0496 Q935.703 41.7081 935.703 49.9314 Z\" fill=\"#000000\" fill-rule=\"evenodd\" fill-opacity=\"1\" /><path clip-path=\"url(#clip380)\" d=\"M983.139 54.671 L983.139 27.2059 L990.593 27.2059 L990.593 54.3874 Q990.593 60.8284 993.104 64.0691 Q995.616 67.2693 1000.64 67.2693 Q1006.67 67.2693 1010.16 63.421 Q1013.68 59.5726 1013.68 52.9291 L1013.68 27.2059 L1021.14 27.2059 L1021.14 72.576 L1013.68 72.576 L1013.68 65.6084 Q1010.97 69.7404 1007.36 71.7658 Q1003.8 73.7508 999.059 73.7508 Q991.241 73.7508 987.19 68.8897 Q983.139 64.0286 983.139 54.671 M1001.89 26.1121 L1001.89 26.1121 Z\" fill=\"#000000\" fill-rule=\"evenodd\" fill-opacity=\"1\" /><path clip-path=\"url(#clip380)\" d=\"M1057.11 49.7694 Q1048.08 49.7694 1044.59 51.8354 Q1041.11 53.9013 1041.11 58.8839 Q1041.11 62.8538 1043.7 65.2034 Q1046.33 67.5124 1050.83 67.5124 Q1057.03 67.5124 1060.75 63.1374 Q1064.52 58.7219 1064.52 51.4303 L1064.52 49.7694 L1057.11 49.7694 M1071.98 46.6907 L1071.98 72.576 L1064.52 72.576 L1064.52 65.6895 Q1061.97 69.8214 1058.16 71.8063 Q1054.35 73.7508 1048.84 73.7508 Q1041.88 73.7508 1037.75 69.8619 Q1033.65 65.9325 1033.65 59.3701 Q1033.65 51.7138 1038.76 47.825 Q1043.9 43.9361 1054.07 43.9361 L1064.52 43.9361 L1064.52 43.2069 Q1064.52 38.0623 1061.12 35.2672 Q1057.76 32.4315 1051.64 32.4315 Q1047.75 32.4315 1044.06 33.3632 Q1040.38 34.295 1036.98 36.1584 L1036.98 29.2718 Q1041.07 27.692 1044.92 26.9223 Q1048.76 26.1121 1052.41 26.1121 Q1062.25 26.1121 1067.11 31.2163 Q1071.98 36.3204 1071.98 46.6907 Z\" fill=\"#000000\" fill-rule=\"evenodd\" fill-opacity=\"1\" /><path clip-path=\"url(#clip380)\" d=\"M1087.33 9.54393 L1094.78 9.54393 L1094.78 72.576 L1087.33 72.576 L1087.33 9.54393 Z\" fill=\"#000000\" fill-rule=\"evenodd\" fill-opacity=\"1\" /><path clip-path=\"url(#clip380)\" d=\"M1154.33 32.4315 Q1148.34 32.4315 1144.85 37.1306 Q1141.37 41.7891 1141.37 49.9314 Q1141.37 58.0738 1144.81 62.7728 Q1148.29 67.4314 1154.33 67.4314 Q1160.29 67.4314 1163.77 62.7323 Q1167.25 58.0333 1167.25 49.9314 Q1167.25 41.8701 1163.77 37.1711 Q1160.29 32.4315 1154.33 32.4315 M1154.33 26.1121 Q1164.05 26.1121 1169.6 32.4315 Q1175.15 38.7509 1175.15 49.9314 Q1175.15 61.0714 1169.6 67.4314 Q1164.05 73.7508 1154.33 73.7508 Q1144.57 73.7508 1139.02 67.4314 Q1133.51 61.0714 1133.51 49.9314 Q1133.51 38.7509 1139.02 32.4315 Q1144.57 26.1121 1154.33 26.1121 Z\" fill=\"#000000\" fill-rule=\"evenodd\" fill-opacity=\"1\" /><path clip-path=\"url(#clip380)\" d=\"M1225.22 45.1919 L1225.22 72.576 L1217.77 72.576 L1217.77 45.4349 Q1217.77 38.994 1215.26 35.7938 Q1212.74 32.5936 1207.72 32.5936 Q1201.69 32.5936 1198.2 36.4419 Q1194.72 40.2903 1194.72 46.9338 L1194.72 72.576 L1187.22 72.576 L1187.22 27.2059 L1194.72 27.2059 L1194.72 34.2544 Q1197.39 30.163 1201 28.1376 Q1204.64 26.1121 1209.38 26.1121 Q1217.2 26.1121 1221.21 30.9732 Q1225.22 35.7938 1225.22 45.1919 Z\" fill=\"#000000\" fill-rule=\"evenodd\" fill-opacity=\"1\" /><path clip-path=\"url(#clip380)\" d=\"M1258.4 12.096 L1309.56 12.096 L1309.56 18.9825 L1288.09 18.9825 L1288.09 72.576 L1279.87 72.576 L1279.87 18.9825 L1258.4 18.9825 L1258.4 12.096 Z\" fill=\"#000000\" fill-rule=\"evenodd\" fill-opacity=\"1\" /><path clip-path=\"url(#clip380)\" d=\"M1341.85 48.0275 L1341.85 51.6733 L1307.58 51.6733 Q1308.06 59.3701 1312.19 63.421 Q1316.37 67.4314 1323.78 67.4314 Q1328.07 67.4314 1332.08 66.3781 Q1336.13 65.3249 1340.1 63.2184 L1340.1 70.267 Q1336.09 71.9684 1331.88 72.8596 Q1327.67 73.7508 1323.33 73.7508 Q1312.48 73.7508 1306.12 67.4314 Q1299.8 61.1119 1299.8 50.3365 Q1299.8 39.1965 1305.79 32.6746 Q1311.83 26.1121 1322.04 26.1121 Q1331.19 26.1121 1336.5 32.0264 Q1341.85 37.9003 1341.85 48.0275 M1334.39 45.84 Q1334.31 39.7232 1330.95 36.0774 Q1327.63 32.4315 1322.12 32.4315 Q1315.88 32.4315 1312.11 35.9558 Q1308.39 39.4801 1307.82 45.8805 L1334.39 45.84 Z\" fill=\"#000000\" fill-rule=\"evenodd\" fill-opacity=\"1\" /><path clip-path=\"url(#clip380)\" d=\"M1383 28.5427 L1383 35.5912 Q1379.84 33.9709 1376.44 33.1607 Q1373.04 32.3505 1369.39 32.3505 Q1363.84 32.3505 1361.05 34.0519 Q1358.29 35.7533 1358.29 39.156 Q1358.29 41.7486 1360.28 43.2475 Q1362.26 44.7058 1368.26 46.0426 L1370.81 46.6097 Q1378.75 48.3111 1382.07 51.4303 Q1385.43 54.509 1385.43 60.0587 Q1385.43 66.3781 1380.41 70.0644 Q1375.43 73.7508 1366.68 73.7508 Q1363.03 73.7508 1359.06 73.0216 Q1355.13 72.3329 1350.76 70.9151 L1350.76 63.2184 Q1354.89 65.3654 1358.9 66.4591 Q1362.91 67.5124 1366.84 67.5124 Q1372.11 67.5124 1374.94 65.73 Q1377.78 63.9071 1377.78 60.6258 Q1377.78 57.5877 1375.71 55.9673 Q1373.69 54.3469 1366.76 52.8481 L1364.17 52.2405 Q1357.24 50.7821 1354.16 47.7845 Q1351.08 44.7463 1351.08 39.4801 Q1351.08 33.0797 1355.62 29.5959 Q1360.16 26.1121 1368.5 26.1121 Q1372.63 26.1121 1376.28 26.7198 Q1379.93 27.3274 1383 28.5427 Z\" fill=\"#000000\" fill-rule=\"evenodd\" fill-opacity=\"1\" /><path clip-path=\"url(#clip380)\" d=\"M1404.68 14.324 L1404.68 27.2059 L1420.03 27.2059 L1420.03 32.9987 L1404.68 32.9987 L1404.68 57.6282 Q1404.68 63.1779 1406.18 64.7578 Q1407.71 66.3376 1412.37 66.3376 L1420.03 66.3376 L1420.03 72.576 L1412.37 72.576 Q1403.74 72.576 1400.46 69.3758 Q1397.18 66.1351 1397.18 57.6282 L1397.18 32.9987 L1391.71 32.9987 L1391.71 27.2059 L1397.18 27.2059 L1397.18 14.324 L1404.68 14.324 Z\" fill=\"#000000\" fill-rule=\"evenodd\" fill-opacity=\"1\" /><path clip-path=\"url(#clip380)\" d=\"M1464.71 18.8205 L1464.71 65.8515 L1474.59 65.8515 Q1487.11 65.8515 1492.9 60.1802 Q1498.74 54.509 1498.74 42.2752 Q1498.74 30.1225 1492.9 24.4918 Q1487.11 18.8205 1474.59 18.8205 L1464.71 18.8205 M1456.53 12.096 L1473.34 12.096 Q1490.92 12.096 1499.14 19.4281 Q1507.37 26.7198 1507.37 42.2752 Q1507.37 57.9117 1499.1 65.2439 Q1490.84 72.576 1473.34 72.576 L1456.53 72.576 L1456.53 12.096 Z\" fill=\"#000000\" fill-rule=\"evenodd\" fill-opacity=\"1\" /><path clip-path=\"url(#clip380)\" d=\"M1540.71 49.7694 Q1531.67 49.7694 1528.19 51.8354 Q1524.7 53.9013 1524.7 58.8839 Q1524.7 62.8538 1527.3 65.2034 Q1529.93 67.5124 1534.43 67.5124 Q1540.62 67.5124 1544.35 63.1374 Q1548.12 58.7219 1548.12 51.4303 L1548.12 49.7694 L1540.71 49.7694 M1555.57 46.6907 L1555.57 72.576 L1548.12 72.576 L1548.12 65.6895 Q1545.57 69.8214 1541.76 71.8063 Q1537.95 73.7508 1532.44 73.7508 Q1525.47 73.7508 1521.34 69.8619 Q1517.25 65.9325 1517.25 59.3701 Q1517.25 51.7138 1522.36 47.825 Q1527.5 43.9361 1537.67 43.9361 L1548.12 43.9361 L1548.12 43.2069 Q1548.12 38.0623 1544.72 35.2672 Q1541.35 32.4315 1535.24 32.4315 Q1531.35 32.4315 1527.66 33.3632 Q1523.98 34.295 1520.57 36.1584 L1520.57 29.2718 Q1524.66 27.692 1528.51 26.9223 Q1532.36 26.1121 1536.01 26.1121 Q1545.85 26.1121 1550.71 31.2163 Q1555.57 36.3204 1555.57 46.6907 Z\" fill=\"#000000\" fill-rule=\"evenodd\" fill-opacity=\"1\" /><path clip-path=\"url(#clip380)\" d=\"M1578.3 14.324 L1578.3 27.2059 L1593.65 27.2059 L1593.65 32.9987 L1578.3 32.9987 L1578.3 57.6282 Q1578.3 63.1779 1579.8 64.7578 Q1581.34 66.3376 1585.99 66.3376 L1593.65 66.3376 L1593.65 72.576 L1585.99 72.576 Q1577.37 72.576 1574.09 69.3758 Q1570.8 66.1351 1570.8 57.6282 L1570.8 32.9987 L1565.34 32.9987 L1565.34 27.2059 L1570.8 27.2059 L1570.8 14.324 L1578.3 14.324 Z\" fill=\"#000000\" fill-rule=\"evenodd\" fill-opacity=\"1\" /><path clip-path=\"url(#clip380)\" d=\"M1624.07 49.7694 Q1615.04 49.7694 1611.56 51.8354 Q1608.07 53.9013 1608.07 58.8839 Q1608.07 62.8538 1610.66 65.2034 Q1613.3 67.5124 1617.79 67.5124 Q1623.99 67.5124 1627.72 63.1374 Q1631.49 58.7219 1631.49 51.4303 L1631.49 49.7694 L1624.07 49.7694 M1638.94 46.6907 L1638.94 72.576 L1631.49 72.576 L1631.49 65.6895 Q1628.93 69.8214 1625.13 71.8063 Q1621.32 73.7508 1615.81 73.7508 Q1608.84 73.7508 1604.71 69.8619 Q1600.62 65.9325 1600.62 59.3701 Q1600.62 51.7138 1605.72 47.825 Q1610.87 43.9361 1621.04 43.9361 L1631.49 43.9361 L1631.49 43.2069 Q1631.49 38.0623 1628.08 35.2672 Q1624.72 32.4315 1618.6 32.4315 Q1614.72 32.4315 1611.03 33.3632 Q1607.34 34.295 1603.94 36.1584 L1603.94 29.2718 Q1608.03 27.692 1611.88 26.9223 Q1615.73 26.1121 1619.37 26.1121 Q1629.22 26.1121 1634.08 31.2163 Q1638.94 36.3204 1638.94 46.6907 Z\" fill=\"#000000\" fill-rule=\"evenodd\" fill-opacity=\"1\" /><path clip-path=\"url(#clip380)\" d=\"M1683.22 28.5427 L1683.22 35.5912 Q1680.06 33.9709 1676.65 33.1607 Q1673.25 32.3505 1669.61 32.3505 Q1664.06 32.3505 1661.26 34.0519 Q1658.51 35.7533 1658.51 39.156 Q1658.51 41.7486 1660.49 43.2475 Q1662.48 44.7058 1668.47 46.0426 L1671.02 46.6097 Q1678.96 48.3111 1682.28 51.4303 Q1685.65 54.509 1685.65 60.0587 Q1685.65 66.3781 1680.62 70.0644 Q1675.64 73.7508 1666.89 73.7508 Q1663.25 73.7508 1659.28 73.0216 Q1655.35 72.3329 1650.97 70.9151 L1650.97 63.2184 Q1655.1 65.3654 1659.11 66.4591 Q1663.12 67.5124 1667.05 67.5124 Q1672.32 67.5124 1675.16 65.73 Q1677.99 63.9071 1677.99 60.6258 Q1677.99 57.5877 1675.92 55.9673 Q1673.9 54.3469 1666.97 52.8481 L1664.38 52.2405 Q1657.45 50.7821 1654.37 47.7845 Q1651.3 44.7463 1651.3 39.4801 Q1651.3 33.0797 1655.83 29.5959 Q1660.37 26.1121 1668.71 26.1121 Q1672.85 26.1121 1676.49 26.7198 Q1680.14 27.3274 1683.22 28.5427 Z\" fill=\"#000000\" fill-rule=\"evenodd\" fill-opacity=\"1\" /><path clip-path=\"url(#clip380)\" d=\"M1736.32 48.0275 L1736.32 51.6733 L1702.05 51.6733 Q1702.54 59.3701 1706.67 63.421 Q1710.84 67.4314 1718.26 67.4314 Q1722.55 67.4314 1726.56 66.3781 Q1730.61 65.3249 1734.58 63.2184 L1734.58 70.267 Q1730.57 71.9684 1726.36 72.8596 Q1722.15 73.7508 1717.81 73.7508 Q1706.95 73.7508 1700.59 67.4314 Q1694.28 61.1119 1694.28 50.3365 Q1694.28 39.1965 1700.27 32.6746 Q1706.31 26.1121 1716.51 26.1121 Q1725.67 26.1121 1730.98 32.0264 Q1736.32 37.9003 1736.32 48.0275 M1728.87 45.84 Q1728.79 39.7232 1725.43 36.0774 Q1722.11 32.4315 1716.6 32.4315 Q1710.36 32.4315 1706.59 35.9558 Q1702.86 39.4801 1702.3 45.8805 L1728.87 45.84 Z\" fill=\"#000000\" fill-rule=\"evenodd\" fill-opacity=\"1\" /><path clip-path=\"url(#clip380)\" d=\"M1755.93 14.324 L1755.93 27.2059 L1771.28 27.2059 L1771.28 32.9987 L1755.93 32.9987 L1755.93 57.6282 Q1755.93 63.1779 1757.43 64.7578 Q1758.97 66.3376 1763.63 66.3376 L1771.28 66.3376 L1771.28 72.576 L1763.63 72.576 Q1755 72.576 1751.72 69.3758 Q1748.44 66.1351 1748.44 57.6282 L1748.44 32.9987 L1742.97 32.9987 L1742.97 27.2059 L1748.44 27.2059 L1748.44 14.324 L1755.93 14.324 Z\" fill=\"#000000\" fill-rule=\"evenodd\" fill-opacity=\"1\" /><polyline clip-path=\"url(#clip382)\" style=\"stroke:#009af9; stroke-linecap:butt; stroke-linejoin:round; stroke-width:4; stroke-opacity:1; fill:none\" points=\"\n",
       "  240.392,873.178 240.392,748.939 \n",
       "  \"/>\n",
       "<polyline clip-path=\"url(#clip382)\" style=\"stroke:#009af9; stroke-linecap:butt; stroke-linejoin:round; stroke-width:4; stroke-opacity:1; fill:none\" points=\"\n",
       "  386.88,873.178 386.88,162.047 \n",
       "  \"/>\n",
       "<polyline clip-path=\"url(#clip382)\" style=\"stroke:#009af9; stroke-linecap:butt; stroke-linejoin:round; stroke-width:4; stroke-opacity:1; fill:none\" points=\"\n",
       "  533.369,873.178 533.369,295.14 \n",
       "  \"/>\n",
       "<polyline clip-path=\"url(#clip382)\" style=\"stroke:#009af9; stroke-linecap:butt; stroke-linejoin:round; stroke-width:4; stroke-opacity:1; fill:none\" points=\"\n",
       "  679.857,873.178 679.857,443.246 \n",
       "  \"/>\n",
       "<polyline clip-path=\"url(#clip382)\" style=\"stroke:#009af9; stroke-linecap:butt; stroke-linejoin:round; stroke-width:4; stroke-opacity:1; fill:none\" points=\"\n",
       "  826.346,873.178 826.346,1398.73 \n",
       "  \"/>\n",
       "<polyline clip-path=\"url(#clip382)\" style=\"stroke:#009af9; stroke-linecap:butt; stroke-linejoin:round; stroke-width:4; stroke-opacity:1; fill:none\" points=\"\n",
       "  972.834,873.178 972.834,1289.34 \n",
       "  \"/>\n",
       "<polyline clip-path=\"url(#clip382)\" style=\"stroke:#009af9; stroke-linecap:butt; stroke-linejoin:round; stroke-width:4; stroke-opacity:1; fill:none\" points=\"\n",
       "  1119.32,873.178 1119.32,623.009 \n",
       "  \"/>\n",
       "<polyline clip-path=\"url(#clip382)\" style=\"stroke:#009af9; stroke-linecap:butt; stroke-linejoin:round; stroke-width:4; stroke-opacity:1; fill:none\" points=\"\n",
       "  1265.81,873.178 1265.81,954.167 \n",
       "  \"/>\n",
       "<polyline clip-path=\"url(#clip382)\" style=\"stroke:#009af9; stroke-linecap:butt; stroke-linejoin:round; stroke-width:4; stroke-opacity:1; fill:none\" points=\"\n",
       "  1412.3,873.178 1412.3,741.607 \n",
       "  \"/>\n",
       "<polyline clip-path=\"url(#clip382)\" style=\"stroke:#009af9; stroke-linecap:butt; stroke-linejoin:round; stroke-width:4; stroke-opacity:1; fill:none\" points=\"\n",
       "  1558.79,873.178 1558.79,389.819 \n",
       "  \"/>\n",
       "<polyline clip-path=\"url(#clip382)\" style=\"stroke:#009af9; stroke-linecap:butt; stroke-linejoin:round; stroke-width:4; stroke-opacity:1; fill:none\" points=\"\n",
       "  1705.28,873.178 1705.28,948.496 \n",
       "  \"/>\n",
       "<polyline clip-path=\"url(#clip382)\" style=\"stroke:#009af9; stroke-linecap:butt; stroke-linejoin:round; stroke-width:4; stroke-opacity:1; fill:none\" points=\"\n",
       "  1851.77,873.178 1851.77,976.381 \n",
       "  \"/>\n",
       "<polyline clip-path=\"url(#clip382)\" style=\"stroke:#009af9; stroke-linecap:butt; stroke-linejoin:round; stroke-width:4; stroke-opacity:1; fill:none\" points=\"\n",
       "  1998.25,873.178 1998.25,1447.87 \n",
       "  \"/>\n",
       "<polyline clip-path=\"url(#clip382)\" style=\"stroke:#009af9; stroke-linecap:butt; stroke-linejoin:round; stroke-width:4; stroke-opacity:1; fill:none\" points=\"\n",
       "  2144.74,873.178 2144.74,166.627 \n",
       "  \"/>\n",
       "<polyline clip-path=\"url(#clip382)\" style=\"stroke:#009af9; stroke-linecap:butt; stroke-linejoin:round; stroke-width:4; stroke-opacity:1; fill:none\" points=\"\n",
       "  2291.23,873.178 2291.23,852.802 \n",
       "  \"/>\n",
       "<path clip-path=\"url(#clip380)\" d=\"\n",
       "M1820.81 272.585 L2280.29 272.585 L2280.29 168.905 L1820.81 168.905  Z\n",
       "  \" fill=\"#ffffff\" fill-rule=\"evenodd\" fill-opacity=\"1\"/>\n",
       "<polyline clip-path=\"url(#clip380)\" style=\"stroke:#000000; stroke-linecap:butt; stroke-linejoin:round; stroke-width:4; stroke-opacity:1; fill:none\" points=\"\n",
       "  1820.81,272.585 2280.29,272.585 2280.29,168.905 1820.81,168.905 1820.81,272.585 \n",
       "  \"/>\n",
       "<polyline clip-path=\"url(#clip380)\" style=\"stroke:#009af9; stroke-linecap:butt; stroke-linejoin:round; stroke-width:4; stroke-opacity:1; fill:none\" points=\"\n",
       "  1844.97,220.745 1989.89,220.745 \n",
       "  \"/>\n",
       "<path clip-path=\"url(#clip380)\" d=\"M2030.43 221.821 Q2031.94 222.33 2033.35 223.997 Q2034.79 225.664 2036.22 228.58 L2040.97 238.025 L2035.94 238.025 L2031.52 229.159 Q2029.81 225.687 2028.19 224.553 Q2026.59 223.418 2023.81 223.418 L2018.72 223.418 L2018.72 238.025 L2014.05 238.025 L2014.05 203.465 L2024.6 203.465 Q2030.53 203.465 2033.44 205.941 Q2036.36 208.418 2036.36 213.418 Q2036.36 216.682 2034.83 218.835 Q2033.33 220.988 2030.43 221.821 M2018.72 207.307 L2018.72 219.576 L2024.6 219.576 Q2027.98 219.576 2029.69 218.025 Q2031.43 216.451 2031.43 213.418 Q2031.43 210.386 2029.69 208.858 Q2027.98 207.307 2024.6 207.307 L2018.72 207.307 Z\" fill=\"#000000\" fill-rule=\"evenodd\" fill-opacity=\"1\" /><path clip-path=\"url(#clip380)\" d=\"M2066.85 223.997 L2066.85 226.08 L2047.26 226.08 Q2047.54 230.478 2049.9 232.793 Q2052.29 235.085 2056.52 235.085 Q2058.98 235.085 2061.27 234.483 Q2063.58 233.881 2065.85 232.677 L2065.85 236.705 Q2063.56 237.677 2061.15 238.187 Q2058.74 238.696 2056.27 238.696 Q2050.06 238.696 2046.43 235.085 Q2042.82 231.474 2042.82 225.316 Q2042.82 218.951 2046.24 215.224 Q2049.69 211.474 2055.53 211.474 Q2060.76 211.474 2063.79 214.853 Q2066.85 218.21 2066.85 223.997 M2062.59 222.747 Q2062.54 219.252 2060.62 217.168 Q2058.72 215.085 2055.57 215.085 Q2052.01 215.085 2049.86 217.099 Q2047.73 219.113 2047.4 222.77 L2062.59 222.747 Z\" fill=\"#000000\" fill-rule=\"evenodd\" fill-opacity=\"1\" /><path clip-path=\"url(#clip380)\" d=\"M2090.36 212.863 L2090.36 216.891 Q2088.56 215.965 2086.61 215.502 Q2084.67 215.039 2082.59 215.039 Q2079.42 215.039 2077.82 216.011 Q2076.24 216.983 2076.24 218.928 Q2076.24 220.409 2077.38 221.265 Q2078.51 222.099 2081.94 222.863 L2083.4 223.187 Q2087.93 224.159 2089.83 225.941 Q2091.75 227.701 2091.75 230.872 Q2091.75 234.483 2088.88 236.589 Q2086.04 238.696 2081.04 238.696 Q2078.95 238.696 2076.68 238.279 Q2074.44 237.886 2071.94 237.076 L2071.94 232.677 Q2074.3 233.904 2076.59 234.529 Q2078.88 235.131 2081.13 235.131 Q2084.14 235.131 2085.76 234.113 Q2087.38 233.071 2087.38 231.196 Q2087.38 229.46 2086.2 228.534 Q2085.04 227.608 2081.08 226.752 L2079.6 226.404 Q2075.64 225.571 2073.88 223.858 Q2072.12 222.122 2072.12 219.113 Q2072.12 215.455 2074.72 213.465 Q2077.31 211.474 2082.08 211.474 Q2084.44 211.474 2086.52 211.821 Q2088.61 212.168 2090.36 212.863 Z\" fill=\"#000000\" fill-rule=\"evenodd\" fill-opacity=\"1\" /><path clip-path=\"url(#clip380)\" d=\"M2098.54 212.099 L2102.8 212.099 L2102.8 238.025 L2098.54 238.025 L2098.54 212.099 M2098.54 202.006 L2102.8 202.006 L2102.8 207.4 L2098.54 207.4 L2098.54 202.006 Z\" fill=\"#000000\" fill-rule=\"evenodd\" fill-opacity=\"1\" /><path clip-path=\"url(#clip380)\" d=\"M2128.77 216.034 L2128.77 202.006 L2133.03 202.006 L2133.03 238.025 L2128.77 238.025 L2128.77 234.136 Q2127.42 236.451 2125.36 237.585 Q2123.33 238.696 2120.46 238.696 Q2115.76 238.696 2112.8 234.946 Q2109.86 231.196 2109.86 225.085 Q2109.86 218.974 2112.8 215.224 Q2115.76 211.474 2120.46 211.474 Q2123.33 211.474 2125.36 212.608 Q2127.42 213.719 2128.77 216.034 M2114.25 225.085 Q2114.25 229.784 2116.17 232.469 Q2118.12 235.131 2121.5 235.131 Q2124.88 235.131 2126.82 232.469 Q2128.77 229.784 2128.77 225.085 Q2128.77 220.386 2126.82 217.724 Q2124.88 215.039 2121.5 215.039 Q2118.12 215.039 2116.17 217.724 Q2114.25 220.386 2114.25 225.085 Z\" fill=\"#000000\" fill-rule=\"evenodd\" fill-opacity=\"1\" /><path clip-path=\"url(#clip380)\" d=\"M2141.36 227.793 L2141.36 212.099 L2145.62 212.099 L2145.62 227.631 Q2145.62 231.312 2147.05 233.164 Q2148.49 234.992 2151.36 234.992 Q2154.81 234.992 2156.8 232.793 Q2158.81 230.594 2158.81 226.798 L2158.81 212.099 L2163.07 212.099 L2163.07 238.025 L2158.81 238.025 L2158.81 234.043 Q2157.26 236.404 2155.2 237.562 Q2153.17 238.696 2150.46 238.696 Q2145.99 238.696 2143.67 235.918 Q2141.36 233.14 2141.36 227.793 M2152.08 211.474 L2152.08 211.474 Z\" fill=\"#000000\" fill-rule=\"evenodd\" fill-opacity=\"1\" /><path clip-path=\"url(#clip380)\" d=\"M2183.63 224.992 Q2178.47 224.992 2176.48 226.173 Q2174.48 227.353 2174.48 230.201 Q2174.48 232.469 2175.97 233.812 Q2177.47 235.131 2180.04 235.131 Q2183.58 235.131 2185.71 232.631 Q2187.86 230.108 2187.86 225.941 L2187.86 224.992 L2183.63 224.992 M2192.12 223.233 L2192.12 238.025 L2187.86 238.025 L2187.86 234.089 Q2186.41 236.451 2184.23 237.585 Q2182.05 238.696 2178.91 238.696 Q2174.92 238.696 2172.56 236.474 Q2170.23 234.228 2170.23 230.478 Q2170.23 226.103 2173.14 223.881 Q2176.08 221.659 2181.89 221.659 L2187.86 221.659 L2187.86 221.242 Q2187.86 218.303 2185.92 216.705 Q2184 215.085 2180.5 215.085 Q2178.28 215.085 2176.17 215.617 Q2174.07 216.15 2172.12 217.215 L2172.12 213.279 Q2174.46 212.377 2176.66 211.937 Q2178.86 211.474 2180.94 211.474 Q2186.57 211.474 2189.35 214.391 Q2192.12 217.307 2192.12 223.233 Z\" fill=\"#000000\" fill-rule=\"evenodd\" fill-opacity=\"1\" /><path clip-path=\"url(#clip380)\" d=\"M2200.9 202.006 L2205.16 202.006 L2205.16 238.025 L2200.9 238.025 L2200.9 202.006 Z\" fill=\"#000000\" fill-rule=\"evenodd\" fill-opacity=\"1\" /><path clip-path=\"url(#clip380)\" d=\"M2230.6 212.863 L2230.6 216.891 Q2228.79 215.965 2226.85 215.502 Q2224.9 215.039 2222.82 215.039 Q2219.65 215.039 2218.05 216.011 Q2216.48 216.983 2216.48 218.928 Q2216.48 220.409 2217.61 221.265 Q2218.74 222.099 2222.17 222.863 L2223.63 223.187 Q2228.16 224.159 2230.06 225.941 Q2231.98 227.701 2231.98 230.872 Q2231.98 234.483 2229.11 236.589 Q2226.27 238.696 2221.27 238.696 Q2219.18 238.696 2216.91 238.279 Q2214.67 237.886 2212.17 237.076 L2212.17 232.677 Q2214.53 233.904 2216.82 234.529 Q2219.11 235.131 2221.36 235.131 Q2224.37 235.131 2225.99 234.113 Q2227.61 233.071 2227.61 231.196 Q2227.61 229.46 2226.43 228.534 Q2225.27 227.608 2221.31 226.752 L2219.83 226.404 Q2215.87 225.571 2214.11 223.858 Q2212.35 222.122 2212.35 219.113 Q2212.35 215.455 2214.95 213.465 Q2217.54 211.474 2222.31 211.474 Q2224.67 211.474 2226.75 211.821 Q2228.84 212.168 2230.6 212.863 Z\" fill=\"#000000\" fill-rule=\"evenodd\" fill-opacity=\"1\" /></svg>\n"
      ]
     },
     "execution_count": 37,
     "metadata": {},
     "output_type": "execute_result"
    }
   ],
   "source": [
    "res = ŷ .- y[test]\n",
    "using Plots\n",
    "plot(res, line=:stem, label=\"Residuals\", title=\"Residual on Test Dataset\")"
   ]
  },
  {
   "cell_type": "code",
   "execution_count": 38,
   "metadata": {},
   "outputs": [
    {
     "name": "stdout",
     "output_type": "stream",
     "text": [
      "Root mean squared Error is on test dataset: 51.685257034090526"
     ]
    }
   ],
   "source": [
    "print(\"Root mean squared Error is on test dataset: \",rms(ŷ , y[test]))"
   ]
  },
  {
   "cell_type": "markdown",
   "metadata": {},
   "source": [
    "##### Chcking model prediction on complete dataset"
   ]
  },
  {
   "cell_type": "code",
   "execution_count": 39,
   "metadata": {},
   "outputs": [
    {
     "data": {
      "text/plain": [
       "49×2 Matrix{Float64}:\n",
       " 451.451  434.0\n",
       " 263.11   224.0\n",
       " 236.161  220.0\n",
       " 309.882  361.0\n",
       " 105.278   72.0\n",
       " 332.113  284.0\n",
       " 382.576  429.0\n",
       " 243.35   156.0\n",
       " 226.001  224.0\n",
       " 325.729  295.0\n",
       " 226.682  206.0\n",
       " 308.409  379.0\n",
       " 131.793   86.0\n",
       "   ⋮      \n",
       " 412.523  479.0\n",
       " 246.683  203.0\n",
       " 247.489  205.0\n",
       " 193.311  239.0\n",
       " 241.272  238.0\n",
       " 125.959   98.0\n",
       " 234.81   182.0\n",
       " 113.503  111.0\n",
       " 309.695  282.0\n",
       " 223.809  190.0\n",
       " 284.782  330.0\n",
       " 275.348  292.0"
      ]
     },
     "execution_count": 39,
     "metadata": {},
     "output_type": "execute_result"
    }
   ],
   "source": [
    "ŷ = predict(mach, X2)\n",
    "[ŷ y]"
   ]
  },
  {
   "cell_type": "code",
   "execution_count": 40,
   "metadata": {},
   "outputs": [
    {
     "name": "stdout",
     "output_type": "stream",
     "text": [
      "Root mean squared Error on complete dataset: 61.73246370893014"
     ]
    }
   ],
   "source": [
    "print(\"Root mean squared Error on complete dataset: \", rms(ŷ, y))"
   ]
  },
  {
   "cell_type": "markdown",
   "metadata": {},
   "source": [
    "### CASE-3: CONSIDERING Orders^2 + Visitors^2 IN MODEL"
   ]
  },
  {
   "cell_type": "code",
   "execution_count": 41,
   "metadata": {},
   "outputs": [
    {
     "data": {
      "text/html": [
       "<div class=\"data-frame\"><p>5 rows × 3 columns</p><table class=\"data-frame\"><thead><tr><th></th><th>Orders</th><th>Visitors</th><th>Orders2</th></tr><tr><th></th><th title=\"Float64\">Float64</th><th title=\"Float64\">Float64</th><th title=\"Float64\">Float64</th></tr></thead><tbody><tr><th>1</th><td>399.0</td><td>160.0</td><td>159201.0</td></tr><tr><th>2</th><td>128.0</td><td>96.0</td><td>16384.0</td></tr><tr><th>3</th><td>84.0</td><td>100.0</td><td>7056.0</td></tr><tr><th>4</th><td>239.0</td><td>33.0</td><td>57121.0</td></tr><tr><th>5</th><td>22.0</td><td>30.0</td><td>484.0</td></tr></tbody></table></div>"
      ],
      "text/latex": [
       "\\begin{tabular}{r|ccc}\n",
       "\t& Orders & Visitors & Orders2\\\\\n",
       "\t\\hline\n",
       "\t& Float64 & Float64 & Float64\\\\\n",
       "\t\\hline\n",
       "\t1 & 399.0 & 160.0 & 159201.0 \\\\\n",
       "\t2 & 128.0 & 96.0 & 16384.0 \\\\\n",
       "\t3 & 84.0 & 100.0 & 7056.0 \\\\\n",
       "\t4 & 239.0 & 33.0 & 57121.0 \\\\\n",
       "\t5 & 22.0 & 30.0 & 484.0 \\\\\n",
       "\\end{tabular}\n"
      ],
      "text/plain": [
       "\u001b[1m5×3 DataFrame\u001b[0m\n",
       "\u001b[1m Row \u001b[0m│\u001b[1m Orders  \u001b[0m\u001b[1m Visitors \u001b[0m\u001b[1m Orders2  \u001b[0m\n",
       "\u001b[1m     \u001b[0m│\u001b[90m Float64 \u001b[0m\u001b[90m Float64  \u001b[0m\u001b[90m Float64  \u001b[0m\n",
       "─────┼─────────────────────────────\n",
       "   1 │   399.0     160.0  159201.0\n",
       "   2 │   128.0      96.0   16384.0\n",
       "   3 │    84.0     100.0    7056.0\n",
       "   4 │   239.0      33.0   57121.0\n",
       "   5 │    22.0      30.0     484.0"
      ]
     },
     "execution_count": 41,
     "metadata": {},
     "output_type": "execute_result"
    }
   ],
   "source": [
    "#Adding Orders^2 in the data frame\n",
    "X3 = hcat(X, X.Orders.^2)\n",
    "rename!(X3, :x1 => :Orders2)\n",
    "first(X3,5)"
   ]
  },
  {
   "cell_type": "code",
   "execution_count": 42,
   "metadata": {},
   "outputs": [
    {
     "data": {
      "text/html": [
       "<div class=\"data-frame\"><p>5 rows × 4 columns</p><table class=\"data-frame\"><thead><tr><th></th><th>Orders</th><th>Visitors</th><th>Orders2</th><th>Visitors2</th></tr><tr><th></th><th title=\"Float64\">Float64</th><th title=\"Float64\">Float64</th><th title=\"Float64\">Float64</th><th title=\"Float64\">Float64</th></tr></thead><tbody><tr><th>1</th><td>399.0</td><td>160.0</td><td>159201.0</td><td>25600.0</td></tr><tr><th>2</th><td>128.0</td><td>96.0</td><td>16384.0</td><td>9216.0</td></tr><tr><th>3</th><td>84.0</td><td>100.0</td><td>7056.0</td><td>10000.0</td></tr><tr><th>4</th><td>239.0</td><td>33.0</td><td>57121.0</td><td>1089.0</td></tr><tr><th>5</th><td>22.0</td><td>30.0</td><td>484.0</td><td>900.0</td></tr></tbody></table></div>"
      ],
      "text/latex": [
       "\\begin{tabular}{r|cccc}\n",
       "\t& Orders & Visitors & Orders2 & Visitors2\\\\\n",
       "\t\\hline\n",
       "\t& Float64 & Float64 & Float64 & Float64\\\\\n",
       "\t\\hline\n",
       "\t1 & 399.0 & 160.0 & 159201.0 & 25600.0 \\\\\n",
       "\t2 & 128.0 & 96.0 & 16384.0 & 9216.0 \\\\\n",
       "\t3 & 84.0 & 100.0 & 7056.0 & 10000.0 \\\\\n",
       "\t4 & 239.0 & 33.0 & 57121.0 & 1089.0 \\\\\n",
       "\t5 & 22.0 & 30.0 & 484.0 & 900.0 \\\\\n",
       "\\end{tabular}\n"
      ],
      "text/plain": [
       "\u001b[1m5×4 DataFrame\u001b[0m\n",
       "\u001b[1m Row \u001b[0m│\u001b[1m Orders  \u001b[0m\u001b[1m Visitors \u001b[0m\u001b[1m Orders2  \u001b[0m\u001b[1m Visitors2 \u001b[0m\n",
       "\u001b[1m     \u001b[0m│\u001b[90m Float64 \u001b[0m\u001b[90m Float64  \u001b[0m\u001b[90m Float64  \u001b[0m\u001b[90m Float64   \u001b[0m\n",
       "─────┼────────────────────────────────────────\n",
       "   1 │   399.0     160.0  159201.0    25600.0\n",
       "   2 │   128.0      96.0   16384.0     9216.0\n",
       "   3 │    84.0     100.0    7056.0    10000.0\n",
       "   4 │   239.0      33.0   57121.0     1089.0\n",
       "   5 │    22.0      30.0     484.0      900.0"
      ]
     },
     "execution_count": 42,
     "metadata": {},
     "output_type": "execute_result"
    }
   ],
   "source": [
    "# Adding Visitors^2 in dataframe\n",
    "X3 = hcat(X3, X3.Visitors.^2)\n",
    "rename!(X3, :x1 => :Visitors2)\n",
    "first(X3,5)"
   ]
  },
  {
   "cell_type": "markdown",
   "metadata": {},
   "source": [
    "##### MODEL PREDICTION & ACCURACY "
   ]
  },
  {
   "cell_type": "code",
   "execution_count": 43,
   "metadata": {},
   "outputs": [
    {
     "name": "stdout",
     "output_type": "stream",
     "text": [
      "import MLJLinearModels ✔\n"
     ]
    },
    {
     "name": "stderr",
     "output_type": "stream",
     "text": [
      "┌ Info: For silent loading, specify `verbosity=0`. \n",
      "└ @ Main C:\\Users\\kamle\\.julia\\packages\\MLJModels\\4sRmw\\src\\loading.jl:168\n",
      "┌ Info: Training Machine{LinearRegressor,…}.\n",
      "└ @ MLJBase C:\\Users\\kamle\\.julia\\packages\\MLJBase\\u6vLz\\src\\machines.jl:403\n"
     ]
    },
    {
     "name": "stdout",
     "output_type": "stream",
     "text": [
      "[INFO] Printing model's intercept and coefs...."
     ]
    },
    {
     "data": {
      "text/plain": [
       "(coefs = [:Orders => 1.3912088149629651, :Visitors => -0.2805245777150104, :Orders2 => -0.0011302403076394762, :Visitors2 => 0.0032720430856547117],\n",
       " intercept = 70.11267953689506,)"
      ]
     },
     "execution_count": 43,
     "metadata": {},
     "output_type": "execute_result"
    }
   ],
   "source": [
    "# .7 of the dataset will be used for training and .3 as test to check model accuracy\n",
    "train, test = partition(eachindex(y), 0.7, shuffle=true, rng=1234)\n",
    "\n",
    "# Import Linear Regression model\n",
    "using MLJLinearModels\n",
    "@load LinearRegressor pkg=MLJLinearModels\n",
    "\n",
    "# creating an object from LinearRegression class\n",
    "model3 = LinearRegressor()\n",
    "\n",
    "mach = machine(model2, X3, y)\n",
    "\n",
    "# fiting the model for train data\n",
    "fit!(mach, rows=train)\n",
    "\n",
    "print(\"[INFO] Printing model's intercept and coefs....\")\n",
    "model_params = fitted_params(mach)"
   ]
  },
  {
   "cell_type": "code",
   "execution_count": 44,
   "metadata": {},
   "outputs": [
    {
     "data": {
      "text/plain": [
       "15×2 Matrix{Float64}:\n",
       " 225.319  236.0\n",
       " 253.655  156.0\n",
       " 231.547  173.0\n",
       " 209.777  182.0\n",
       " 393.207  451.0\n",
       " 332.357  361.0\n",
       " 317.109  295.0\n",
       " 197.19   191.0\n",
       " 183.667  220.0\n",
       " 245.441  218.0\n",
       " 239.491  226.0\n",
       " 161.063  172.0\n",
       " 309.789  379.0\n",
       " 250.253  179.0\n",
       " 153.973  111.0"
      ]
     },
     "execution_count": 44,
     "metadata": {},
     "output_type": "execute_result"
    }
   ],
   "source": [
    "ŷ = predict(mach, X3[test,:])\n",
    "[ŷ y[test]]"
   ]
  },
  {
   "cell_type": "code",
   "execution_count": 45,
   "metadata": {},
   "outputs": [
    {
     "data": {
      "image/svg+xml": [
       "<?xml version=\"1.0\" encoding=\"utf-8\"?>\n",
       "<svg xmlns=\"http://www.w3.org/2000/svg\" xmlns:xlink=\"http://www.w3.org/1999/xlink\" width=\"600\" height=\"400\" viewBox=\"0 0 2400 1600\">\n",
       "<defs>\n",
       "  <clipPath id=\"clip420\">\n",
       "    <rect x=\"0\" y=\"0\" width=\"2400\" height=\"1600\"/>\n",
       "  </clipPath>\n",
       "</defs>\n",
       "<path clip-path=\"url(#clip420)\" d=\"\n",
       "M0 1600 L2400 1600 L2400 0 L0 0  Z\n",
       "  \" fill=\"#ffffff\" fill-rule=\"evenodd\" fill-opacity=\"1\"/>\n",
       "<defs>\n",
       "  <clipPath id=\"clip421\">\n",
       "    <rect x=\"480\" y=\"0\" width=\"1681\" height=\"1600\"/>\n",
       "  </clipPath>\n",
       "</defs>\n",
       "<path clip-path=\"url(#clip420)\" d=\"\n",
       "M178.867 1486.45 L2352.76 1486.45 L2352.76 123.472 L178.867 123.472  Z\n",
       "  \" fill=\"#ffffff\" fill-rule=\"evenodd\" fill-opacity=\"1\"/>\n",
       "<defs>\n",
       "  <clipPath id=\"clip422\">\n",
       "    <rect x=\"178\" y=\"123\" width=\"2175\" height=\"1364\"/>\n",
       "  </clipPath>\n",
       "</defs>\n",
       "<polyline clip-path=\"url(#clip422)\" style=\"stroke:#000000; stroke-linecap:butt; stroke-linejoin:round; stroke-width:2; stroke-opacity:0.1; fill:none\" points=\"\n",
       "  386.88,1486.45 386.88,123.472 \n",
       "  \"/>\n",
       "<polyline clip-path=\"url(#clip422)\" style=\"stroke:#000000; stroke-linecap:butt; stroke-linejoin:round; stroke-width:2; stroke-opacity:0.1; fill:none\" points=\"\n",
       "  679.857,1486.45 679.857,123.472 \n",
       "  \"/>\n",
       "<polyline clip-path=\"url(#clip422)\" style=\"stroke:#000000; stroke-linecap:butt; stroke-linejoin:round; stroke-width:2; stroke-opacity:0.1; fill:none\" points=\"\n",
       "  972.834,1486.45 972.834,123.472 \n",
       "  \"/>\n",
       "<polyline clip-path=\"url(#clip422)\" style=\"stroke:#000000; stroke-linecap:butt; stroke-linejoin:round; stroke-width:2; stroke-opacity:0.1; fill:none\" points=\"\n",
       "  1265.81,1486.45 1265.81,123.472 \n",
       "  \"/>\n",
       "<polyline clip-path=\"url(#clip422)\" style=\"stroke:#000000; stroke-linecap:butt; stroke-linejoin:round; stroke-width:2; stroke-opacity:0.1; fill:none\" points=\"\n",
       "  1558.79,1486.45 1558.79,123.472 \n",
       "  \"/>\n",
       "<polyline clip-path=\"url(#clip422)\" style=\"stroke:#000000; stroke-linecap:butt; stroke-linejoin:round; stroke-width:2; stroke-opacity:0.1; fill:none\" points=\"\n",
       "  1851.77,1486.45 1851.77,123.472 \n",
       "  \"/>\n",
       "<polyline clip-path=\"url(#clip422)\" style=\"stroke:#000000; stroke-linecap:butt; stroke-linejoin:round; stroke-width:2; stroke-opacity:0.1; fill:none\" points=\"\n",
       "  2144.74,1486.45 2144.74,123.472 \n",
       "  \"/>\n",
       "<polyline clip-path=\"url(#clip420)\" style=\"stroke:#000000; stroke-linecap:butt; stroke-linejoin:round; stroke-width:4; stroke-opacity:1; fill:none\" points=\"\n",
       "  178.867,1486.45 2352.76,1486.45 \n",
       "  \"/>\n",
       "<polyline clip-path=\"url(#clip420)\" style=\"stroke:#000000; stroke-linecap:butt; stroke-linejoin:round; stroke-width:4; stroke-opacity:1; fill:none\" points=\"\n",
       "  386.88,1486.45 386.88,1467.55 \n",
       "  \"/>\n",
       "<polyline clip-path=\"url(#clip420)\" style=\"stroke:#000000; stroke-linecap:butt; stroke-linejoin:round; stroke-width:4; stroke-opacity:1; fill:none\" points=\"\n",
       "  679.857,1486.45 679.857,1467.55 \n",
       "  \"/>\n",
       "<polyline clip-path=\"url(#clip420)\" style=\"stroke:#000000; stroke-linecap:butt; stroke-linejoin:round; stroke-width:4; stroke-opacity:1; fill:none\" points=\"\n",
       "  972.834,1486.45 972.834,1467.55 \n",
       "  \"/>\n",
       "<polyline clip-path=\"url(#clip420)\" style=\"stroke:#000000; stroke-linecap:butt; stroke-linejoin:round; stroke-width:4; stroke-opacity:1; fill:none\" points=\"\n",
       "  1265.81,1486.45 1265.81,1467.55 \n",
       "  \"/>\n",
       "<polyline clip-path=\"url(#clip420)\" style=\"stroke:#000000; stroke-linecap:butt; stroke-linejoin:round; stroke-width:4; stroke-opacity:1; fill:none\" points=\"\n",
       "  1558.79,1486.45 1558.79,1467.55 \n",
       "  \"/>\n",
       "<polyline clip-path=\"url(#clip420)\" style=\"stroke:#000000; stroke-linecap:butt; stroke-linejoin:round; stroke-width:4; stroke-opacity:1; fill:none\" points=\"\n",
       "  1851.77,1486.45 1851.77,1467.55 \n",
       "  \"/>\n",
       "<polyline clip-path=\"url(#clip420)\" style=\"stroke:#000000; stroke-linecap:butt; stroke-linejoin:round; stroke-width:4; stroke-opacity:1; fill:none\" points=\"\n",
       "  2144.74,1486.45 2144.74,1467.55 \n",
       "  \"/>\n",
       "<path clip-path=\"url(#clip420)\" d=\"M381.533 1543.18 L397.852 1543.18 L397.852 1547.12 L375.908 1547.12 L375.908 1543.18 Q378.57 1540.43 383.153 1535.8 Q387.76 1531.15 388.94 1529.81 Q391.186 1527.28 392.065 1525.55 Q392.968 1523.79 392.968 1522.1 Q392.968 1519.34 391.024 1517.61 Q389.103 1515.87 386.001 1515.87 Q383.802 1515.87 381.348 1516.63 Q378.917 1517.4 376.14 1518.95 L376.14 1514.23 Q378.964 1513.09 381.417 1512.51 Q383.871 1511.93 385.908 1511.93 Q391.278 1511.93 394.473 1514.62 Q397.667 1517.31 397.667 1521.8 Q397.667 1523.93 396.857 1525.85 Q396.07 1527.74 393.964 1530.34 Q393.385 1531.01 390.283 1534.23 Q387.181 1537.42 381.533 1543.18 Z\" fill=\"#000000\" fill-rule=\"evenodd\" fill-opacity=\"1\" /><path clip-path=\"url(#clip420)\" d=\"M682.867 1516.63 L671.061 1535.08 L682.867 1535.08 L682.867 1516.63 M681.64 1512.56 L687.519 1512.56 L687.519 1535.08 L692.45 1535.08 L692.45 1538.97 L687.519 1538.97 L687.519 1547.12 L682.867 1547.12 L682.867 1538.97 L667.265 1538.97 L667.265 1534.46 L681.64 1512.56 Z\" fill=\"#000000\" fill-rule=\"evenodd\" fill-opacity=\"1\" /><path clip-path=\"url(#clip420)\" d=\"M973.239 1527.98 Q970.091 1527.98 968.239 1530.13 Q966.411 1532.28 966.411 1536.03 Q966.411 1539.76 968.239 1541.93 Q970.091 1544.09 973.239 1544.09 Q976.388 1544.09 978.216 1541.93 Q980.068 1539.76 980.068 1536.03 Q980.068 1532.28 978.216 1530.13 Q976.388 1527.98 973.239 1527.98 M982.522 1513.32 L982.522 1517.58 Q980.762 1516.75 978.957 1516.31 Q977.175 1515.87 975.415 1515.87 Q970.786 1515.87 968.332 1519 Q965.901 1522.12 965.554 1528.44 Q966.92 1526.43 968.98 1525.36 Q971.04 1524.27 973.517 1524.27 Q978.725 1524.27 981.735 1527.44 Q984.767 1530.59 984.767 1536.03 Q984.767 1541.36 981.619 1544.57 Q978.471 1547.79 973.239 1547.79 Q967.244 1547.79 964.073 1543.21 Q960.901 1538.6 960.901 1529.87 Q960.901 1521.68 964.79 1516.82 Q968.679 1511.93 975.23 1511.93 Q976.989 1511.93 978.772 1512.28 Q980.577 1512.63 982.522 1513.32 Z\" fill=\"#000000\" fill-rule=\"evenodd\" fill-opacity=\"1\" /><path clip-path=\"url(#clip420)\" d=\"M1265.81 1530.71 Q1262.48 1530.71 1260.56 1532.49 Q1258.66 1534.27 1258.66 1537.4 Q1258.66 1540.52 1260.56 1542.31 Q1262.48 1544.09 1265.81 1544.09 Q1269.14 1544.09 1271.07 1542.31 Q1272.99 1540.5 1272.99 1537.4 Q1272.99 1534.27 1271.07 1532.49 Q1269.17 1530.71 1265.81 1530.71 M1261.14 1528.72 Q1258.13 1527.98 1256.44 1525.92 Q1254.77 1523.86 1254.77 1520.89 Q1254.77 1516.75 1257.71 1514.34 Q1260.67 1511.93 1265.81 1511.93 Q1270.97 1511.93 1273.91 1514.34 Q1276.85 1516.75 1276.85 1520.89 Q1276.85 1523.86 1275.16 1525.92 Q1273.5 1527.98 1270.51 1528.72 Q1273.89 1529.5 1275.76 1531.8 Q1277.66 1534.09 1277.66 1537.4 Q1277.66 1542.42 1274.58 1545.11 Q1271.53 1547.79 1265.81 1547.79 Q1260.09 1547.79 1257.02 1545.11 Q1253.96 1542.42 1253.96 1537.4 Q1253.96 1534.09 1255.86 1531.8 Q1257.76 1529.5 1261.14 1528.72 M1259.42 1521.33 Q1259.42 1524.02 1261.09 1525.52 Q1262.78 1527.03 1265.81 1527.03 Q1268.82 1527.03 1270.51 1525.52 Q1272.22 1524.02 1272.22 1521.33 Q1272.22 1518.65 1270.51 1517.14 Q1268.82 1515.64 1265.81 1515.64 Q1262.78 1515.64 1261.09 1517.14 Q1259.42 1518.65 1259.42 1521.33 Z\" fill=\"#000000\" fill-rule=\"evenodd\" fill-opacity=\"1\" /><path clip-path=\"url(#clip420)\" d=\"M1533.48 1543.18 L1541.11 1543.18 L1541.11 1516.82 L1532.8 1518.49 L1532.8 1514.23 L1541.07 1512.56 L1545.74 1512.56 L1545.74 1543.18 L1553.38 1543.18 L1553.38 1547.12 L1533.48 1547.12 L1533.48 1543.18 Z\" fill=\"#000000\" fill-rule=\"evenodd\" fill-opacity=\"1\" /><path clip-path=\"url(#clip420)\" d=\"M1572.83 1515.64 Q1569.22 1515.64 1567.39 1519.2 Q1565.58 1522.75 1565.58 1529.87 Q1565.58 1536.98 1567.39 1540.55 Q1569.22 1544.09 1572.83 1544.09 Q1576.46 1544.09 1578.27 1540.55 Q1580.1 1536.98 1580.1 1529.87 Q1580.1 1522.75 1578.27 1519.2 Q1576.46 1515.64 1572.83 1515.64 M1572.83 1511.93 Q1578.64 1511.93 1581.69 1516.54 Q1584.77 1521.12 1584.77 1529.87 Q1584.77 1538.6 1581.69 1543.21 Q1578.64 1547.79 1572.83 1547.79 Q1567.02 1547.79 1563.94 1543.21 Q1560.88 1538.6 1560.88 1529.87 Q1560.88 1521.12 1563.94 1516.54 Q1567.02 1511.93 1572.83 1511.93 Z\" fill=\"#000000\" fill-rule=\"evenodd\" fill-opacity=\"1\" /><path clip-path=\"url(#clip420)\" d=\"M1827.25 1543.18 L1834.89 1543.18 L1834.89 1516.82 L1826.58 1518.49 L1826.58 1514.23 L1834.84 1512.56 L1839.52 1512.56 L1839.52 1543.18 L1847.16 1543.18 L1847.16 1547.12 L1827.25 1547.12 L1827.25 1543.18 Z\" fill=\"#000000\" fill-rule=\"evenodd\" fill-opacity=\"1\" /><path clip-path=\"url(#clip420)\" d=\"M1860.63 1543.18 L1876.95 1543.18 L1876.95 1547.12 L1855.01 1547.12 L1855.01 1543.18 Q1857.67 1540.43 1862.25 1535.8 Q1866.86 1531.15 1868.04 1529.81 Q1870.28 1527.28 1871.16 1525.55 Q1872.07 1523.79 1872.07 1522.1 Q1872.07 1519.34 1870.12 1517.61 Q1868.2 1515.87 1865.1 1515.87 Q1862.9 1515.87 1860.45 1516.63 Q1858.02 1517.4 1855.24 1518.95 L1855.24 1514.23 Q1858.06 1513.09 1860.52 1512.51 Q1862.97 1511.93 1865.01 1511.93 Q1870.38 1511.93 1873.57 1514.62 Q1876.77 1517.31 1876.77 1521.8 Q1876.77 1523.93 1875.95 1525.85 Q1875.17 1527.74 1873.06 1530.34 Q1872.48 1531.01 1869.38 1534.23 Q1866.28 1537.42 1860.63 1543.18 Z\" fill=\"#000000\" fill-rule=\"evenodd\" fill-opacity=\"1\" /><path clip-path=\"url(#clip420)\" d=\"M2119.19 1543.18 L2126.83 1543.18 L2126.83 1516.82 L2118.52 1518.49 L2118.52 1514.23 L2126.78 1512.56 L2131.46 1512.56 L2131.46 1543.18 L2139.09 1543.18 L2139.09 1547.12 L2119.19 1547.12 L2119.19 1543.18 Z\" fill=\"#000000\" fill-rule=\"evenodd\" fill-opacity=\"1\" /><path clip-path=\"url(#clip420)\" d=\"M2161.39 1516.63 L2149.58 1535.08 L2161.39 1535.08 L2161.39 1516.63 M2160.16 1512.56 L2166.04 1512.56 L2166.04 1535.08 L2170.97 1535.08 L2170.97 1538.97 L2166.04 1538.97 L2166.04 1547.12 L2161.39 1547.12 L2161.39 1538.97 L2145.78 1538.97 L2145.78 1534.46 L2160.16 1512.56 Z\" fill=\"#000000\" fill-rule=\"evenodd\" fill-opacity=\"1\" /><polyline clip-path=\"url(#clip422)\" style=\"stroke:#000000; stroke-linecap:butt; stroke-linejoin:round; stroke-width:2; stroke-opacity:0.1; fill:none\" points=\"\n",
       "  178.867,1299.84 2352.76,1299.84 \n",
       "  \"/>\n",
       "<polyline clip-path=\"url(#clip422)\" style=\"stroke:#000000; stroke-linecap:butt; stroke-linejoin:round; stroke-width:2; stroke-opacity:0.1; fill:none\" points=\"\n",
       "  178.867,914.551 2352.76,914.551 \n",
       "  \"/>\n",
       "<polyline clip-path=\"url(#clip422)\" style=\"stroke:#000000; stroke-linecap:butt; stroke-linejoin:round; stroke-width:2; stroke-opacity:0.1; fill:none\" points=\"\n",
       "  178.867,529.265 2352.76,529.265 \n",
       "  \"/>\n",
       "<polyline clip-path=\"url(#clip422)\" style=\"stroke:#000000; stroke-linecap:butt; stroke-linejoin:round; stroke-width:2; stroke-opacity:0.1; fill:none\" points=\"\n",
       "  178.867,143.979 2352.76,143.979 \n",
       "  \"/>\n",
       "<polyline clip-path=\"url(#clip420)\" style=\"stroke:#000000; stroke-linecap:butt; stroke-linejoin:round; stroke-width:4; stroke-opacity:1; fill:none\" points=\"\n",
       "  178.867,1486.45 178.867,123.472 \n",
       "  \"/>\n",
       "<polyline clip-path=\"url(#clip420)\" style=\"stroke:#000000; stroke-linecap:butt; stroke-linejoin:round; stroke-width:4; stroke-opacity:1; fill:none\" points=\"\n",
       "  178.867,1299.84 197.764,1299.84 \n",
       "  \"/>\n",
       "<polyline clip-path=\"url(#clip420)\" style=\"stroke:#000000; stroke-linecap:butt; stroke-linejoin:round; stroke-width:4; stroke-opacity:1; fill:none\" points=\"\n",
       "  178.867,914.551 197.764,914.551 \n",
       "  \"/>\n",
       "<polyline clip-path=\"url(#clip420)\" style=\"stroke:#000000; stroke-linecap:butt; stroke-linejoin:round; stroke-width:4; stroke-opacity:1; fill:none\" points=\"\n",
       "  178.867,529.265 197.764,529.265 \n",
       "  \"/>\n",
       "<polyline clip-path=\"url(#clip420)\" style=\"stroke:#000000; stroke-linecap:butt; stroke-linejoin:round; stroke-width:4; stroke-opacity:1; fill:none\" points=\"\n",
       "  178.867,143.979 197.764,143.979 \n",
       "  \"/>\n",
       "<path clip-path=\"url(#clip420)\" d=\"M50.9921 1300.29 L80.6679 1300.29 L80.6679 1304.22 L50.9921 1304.22 L50.9921 1300.29 Z\" fill=\"#000000\" fill-rule=\"evenodd\" fill-opacity=\"1\" /><path clip-path=\"url(#clip420)\" d=\"M90.8067 1282.56 L109.163 1282.56 L109.163 1286.49 L95.0891 1286.49 L95.0891 1294.96 Q96.1076 1294.62 97.1261 1294.46 Q98.1447 1294.27 99.1632 1294.27 Q104.95 1294.27 108.33 1297.44 Q111.709 1300.61 111.709 1306.03 Q111.709 1311.61 108.237 1314.71 Q104.765 1317.79 98.4456 1317.79 Q96.2697 1317.79 94.0012 1317.42 Q91.7558 1317.05 89.3484 1316.31 L89.3484 1311.61 Q91.4317 1312.74 93.6539 1313.3 Q95.8761 1313.85 98.353 1313.85 Q102.358 1313.85 104.696 1311.75 Q107.033 1309.64 107.033 1306.03 Q107.033 1302.42 104.696 1300.31 Q102.358 1298.21 98.353 1298.21 Q96.478 1298.21 94.603 1298.62 Q92.7512 1299.04 90.8067 1299.92 L90.8067 1282.56 Z\" fill=\"#000000\" fill-rule=\"evenodd\" fill-opacity=\"1\" /><path clip-path=\"url(#clip420)\" d=\"M130.922 1285.64 Q127.311 1285.64 125.482 1289.2 Q123.677 1292.74 123.677 1299.87 Q123.677 1306.98 125.482 1310.54 Q127.311 1314.08 130.922 1314.08 Q134.556 1314.08 136.362 1310.54 Q138.191 1306.98 138.191 1299.87 Q138.191 1292.74 136.362 1289.2 Q134.556 1285.64 130.922 1285.64 M130.922 1281.93 Q136.732 1281.93 139.788 1286.54 Q142.867 1291.12 142.867 1299.87 Q142.867 1308.6 139.788 1313.21 Q136.732 1317.79 130.922 1317.79 Q125.112 1317.79 122.033 1313.21 Q118.978 1308.6 118.978 1299.87 Q118.978 1291.12 122.033 1286.54 Q125.112 1281.93 130.922 1281.93 Z\" fill=\"#000000\" fill-rule=\"evenodd\" fill-opacity=\"1\" /><path clip-path=\"url(#clip420)\" d=\"M130.922 900.35 Q127.311 900.35 125.482 903.915 Q123.677 907.456 123.677 914.586 Q123.677 921.692 125.482 925.257 Q127.311 928.799 130.922 928.799 Q134.556 928.799 136.362 925.257 Q138.191 921.692 138.191 914.586 Q138.191 907.456 136.362 903.915 Q134.556 900.35 130.922 900.35 M130.922 896.646 Q136.732 896.646 139.788 901.253 Q142.867 905.836 142.867 914.586 Q142.867 923.313 139.788 927.919 Q136.732 932.502 130.922 932.502 Q125.112 932.502 122.033 927.919 Q118.978 923.313 118.978 914.586 Q118.978 905.836 122.033 901.253 Q125.112 896.646 130.922 896.646 Z\" fill=\"#000000\" fill-rule=\"evenodd\" fill-opacity=\"1\" /><path clip-path=\"url(#clip420)\" d=\"M90.8067 511.985 L109.163 511.985 L109.163 515.92 L95.0891 515.92 L95.0891 524.392 Q96.1076 524.045 97.1261 523.883 Q98.1447 523.698 99.1632 523.698 Q104.95 523.698 108.33 526.869 Q111.709 530.04 111.709 535.457 Q111.709 541.036 108.237 544.138 Q104.765 547.216 98.4456 547.216 Q96.2697 547.216 94.0012 546.846 Q91.7558 546.476 89.3484 545.735 L89.3484 541.036 Q91.4317 542.17 93.6539 542.726 Q95.8761 543.281 98.353 543.281 Q102.358 543.281 104.696 541.175 Q107.033 539.068 107.033 535.457 Q107.033 531.846 104.696 529.739 Q102.358 527.633 98.353 527.633 Q96.478 527.633 94.603 528.05 Q92.7512 528.466 90.8067 529.346 L90.8067 511.985 Z\" fill=\"#000000\" fill-rule=\"evenodd\" fill-opacity=\"1\" /><path clip-path=\"url(#clip420)\" d=\"M130.922 515.064 Q127.311 515.064 125.482 518.628 Q123.677 522.17 123.677 529.3 Q123.677 536.406 125.482 539.971 Q127.311 543.513 130.922 543.513 Q134.556 543.513 136.362 539.971 Q138.191 536.406 138.191 529.3 Q138.191 522.17 136.362 518.628 Q134.556 515.064 130.922 515.064 M130.922 511.36 Q136.732 511.36 139.788 515.966 Q142.867 520.55 142.867 529.3 Q142.867 538.026 139.788 542.633 Q136.732 547.216 130.922 547.216 Q125.112 547.216 122.033 542.633 Q118.978 538.026 118.978 529.3 Q118.978 520.55 122.033 515.966 Q125.112 511.36 130.922 511.36 Z\" fill=\"#000000\" fill-rule=\"evenodd\" fill-opacity=\"1\" /><path clip-path=\"url(#clip420)\" d=\"M61.4087 157.324 L69.0476 157.324 L69.0476 130.958 L60.7374 132.625 L60.7374 128.365 L69.0013 126.699 L73.6772 126.699 L73.6772 157.324 L81.316 157.324 L81.316 161.259 L61.4087 161.259 L61.4087 157.324 Z\" fill=\"#000000\" fill-rule=\"evenodd\" fill-opacity=\"1\" /><path clip-path=\"url(#clip420)\" d=\"M100.76 129.778 Q97.1493 129.778 95.3206 133.342 Q93.515 136.884 93.515 144.014 Q93.515 151.12 95.3206 154.685 Q97.1493 158.226 100.76 158.226 Q104.395 158.226 106.2 154.685 Q108.029 151.12 108.029 144.014 Q108.029 136.884 106.2 133.342 Q104.395 129.778 100.76 129.778 M100.76 126.074 Q106.571 126.074 109.626 130.68 Q112.705 135.264 112.705 144.014 Q112.705 152.74 109.626 157.347 Q106.571 161.93 100.76 161.93 Q94.9502 161.93 91.8715 157.347 Q88.816 152.74 88.816 144.014 Q88.816 135.264 91.8715 130.68 Q94.9502 126.074 100.76 126.074 Z\" fill=\"#000000\" fill-rule=\"evenodd\" fill-opacity=\"1\" /><path clip-path=\"url(#clip420)\" d=\"M130.922 129.778 Q127.311 129.778 125.482 133.342 Q123.677 136.884 123.677 144.014 Q123.677 151.12 125.482 154.685 Q127.311 158.226 130.922 158.226 Q134.556 158.226 136.362 154.685 Q138.191 151.12 138.191 144.014 Q138.191 136.884 136.362 133.342 Q134.556 129.778 130.922 129.778 M130.922 126.074 Q136.732 126.074 139.788 130.68 Q142.867 135.264 142.867 144.014 Q142.867 152.74 139.788 157.347 Q136.732 161.93 130.922 161.93 Q125.112 161.93 122.033 157.347 Q118.978 152.74 118.978 144.014 Q118.978 135.264 122.033 130.68 Q125.112 126.074 130.922 126.074 Z\" fill=\"#000000\" fill-rule=\"evenodd\" fill-opacity=\"1\" /><path clip-path=\"url(#clip420)\" d=\"M724.388 44.2197 Q727.021 45.1109 729.492 48.0275 Q732.003 50.9442 734.515 56.0483 L742.819 72.576 L734.029 72.576 L726.292 57.061 Q723.294 50.9847 720.458 48.9997 Q717.663 47.0148 712.802 47.0148 L703.89 47.0148 L703.89 72.576 L695.707 72.576 L695.707 12.096 L714.179 12.096 Q724.55 12.096 729.654 16.4305 Q734.758 20.7649 734.758 29.5149 Q734.758 35.2267 732.084 38.994 Q729.451 42.7613 724.388 44.2197 M703.89 18.8205 L703.89 40.2903 L714.179 40.2903 Q720.094 40.2903 723.091 37.5762 Q726.13 34.8216 726.13 29.5149 Q726.13 24.2082 723.091 21.5346 Q720.094 18.8205 714.179 18.8205 L703.89 18.8205 Z\" fill=\"#000000\" fill-rule=\"evenodd\" fill-opacity=\"1\" /><path clip-path=\"url(#clip420)\" d=\"M788.108 48.0275 L788.108 51.6733 L753.838 51.6733 Q754.324 59.3701 758.456 63.421 Q762.628 67.4314 770.041 67.4314 Q774.335 67.4314 778.346 66.3781 Q782.397 65.3249 786.367 63.2184 L786.367 70.267 Q782.356 71.9684 778.143 72.8596 Q773.93 73.7508 769.596 73.7508 Q758.739 73.7508 752.379 67.4314 Q746.06 61.1119 746.06 50.3365 Q746.06 39.1965 752.055 32.6746 Q758.091 26.1121 768.299 26.1121 Q777.455 26.1121 782.761 32.0264 Q788.108 37.9003 788.108 48.0275 M780.655 45.84 Q780.574 39.7232 777.211 36.0774 Q773.89 32.4315 768.38 32.4315 Q762.142 32.4315 758.375 35.9558 Q754.648 39.4801 754.081 45.8805 L780.655 45.84 Z\" fill=\"#000000\" fill-rule=\"evenodd\" fill-opacity=\"1\" /><path clip-path=\"url(#clip420)\" d=\"M829.266 28.5427 L829.266 35.5912 Q826.106 33.9709 822.703 33.1607 Q819.3 32.3505 815.655 32.3505 Q810.105 32.3505 807.31 34.0519 Q804.555 35.7533 804.555 39.156 Q804.555 41.7486 806.54 43.2475 Q808.525 44.7058 814.52 46.0426 L817.072 46.6097 Q825.012 48.3111 828.334 51.4303 Q831.696 54.509 831.696 60.0587 Q831.696 66.3781 826.673 70.0644 Q821.69 73.7508 812.94 73.7508 Q809.295 73.7508 805.325 73.0216 Q801.395 72.3329 797.02 70.9151 L797.02 63.2184 Q801.152 65.3654 805.163 66.4591 Q809.173 67.5124 813.102 67.5124 Q818.369 67.5124 821.204 65.73 Q824.04 63.9071 824.04 60.6258 Q824.04 57.5877 821.974 55.9673 Q819.948 54.3469 813.021 52.8481 L810.429 52.2405 Q803.502 50.7821 800.423 47.7845 Q797.344 44.7463 797.344 39.4801 Q797.344 33.0797 801.881 29.5959 Q806.418 26.1121 814.763 26.1121 Q818.895 26.1121 822.541 26.7198 Q826.187 27.3274 829.266 28.5427 Z\" fill=\"#000000\" fill-rule=\"evenodd\" fill-opacity=\"1\" /><path clip-path=\"url(#clip420)\" d=\"M843.565 27.2059 L851.019 27.2059 L851.019 72.576 L843.565 72.576 L843.565 27.2059 M843.565 9.54393 L851.019 9.54393 L851.019 18.9825 L843.565 18.9825 L843.565 9.54393 Z\" fill=\"#000000\" fill-rule=\"evenodd\" fill-opacity=\"1\" /><path clip-path=\"url(#clip420)\" d=\"M896.47 34.0924 L896.47 9.54393 L903.924 9.54393 L903.924 72.576 L896.47 72.576 L896.47 65.7705 Q894.121 69.8214 890.515 71.8063 Q886.95 73.7508 881.927 73.7508 Q873.704 73.7508 868.519 67.1883 Q863.374 60.6258 863.374 49.9314 Q863.374 39.2371 868.519 32.6746 Q873.704 26.1121 881.927 26.1121 Q886.95 26.1121 890.515 28.0971 Q894.121 30.0415 896.47 34.0924 M871.071 49.9314 Q871.071 58.1548 874.433 62.8538 Q877.836 67.5124 883.75 67.5124 Q889.665 67.5124 893.067 62.8538 Q896.47 58.1548 896.47 49.9314 Q896.47 41.7081 893.067 37.0496 Q889.665 32.3505 883.75 32.3505 Q877.836 32.3505 874.433 37.0496 Q871.071 41.7081 871.071 49.9314 Z\" fill=\"#000000\" fill-rule=\"evenodd\" fill-opacity=\"1\" /><path clip-path=\"url(#clip420)\" d=\"M918.507 54.671 L918.507 27.2059 L925.961 27.2059 L925.961 54.3874 Q925.961 60.8284 928.472 64.0691 Q930.984 67.2693 936.007 67.2693 Q942.043 67.2693 945.527 63.421 Q949.051 59.5726 949.051 52.9291 L949.051 27.2059 L956.504 27.2059 L956.504 72.576 L949.051 72.576 L949.051 65.6084 Q946.337 69.7404 942.731 71.7658 Q939.167 73.7508 934.427 73.7508 Q926.609 73.7508 922.558 68.8897 Q918.507 64.0286 918.507 54.671 M937.263 26.1121 L937.263 26.1121 Z\" fill=\"#000000\" fill-rule=\"evenodd\" fill-opacity=\"1\" /><path clip-path=\"url(#clip420)\" d=\"M992.477 49.7694 Q983.443 49.7694 979.959 51.8354 Q976.475 53.9013 976.475 58.8839 Q976.475 62.8538 979.068 65.2034 Q981.701 67.5124 986.198 67.5124 Q992.395 67.5124 996.122 63.1374 Q999.89 58.7219 999.89 51.4303 L999.89 49.7694 L992.477 49.7694 M1007.34 46.6907 L1007.34 72.576 L999.89 72.576 L999.89 65.6895 Q997.338 69.8214 993.53 71.8063 Q989.722 73.7508 984.213 73.7508 Q977.245 73.7508 973.113 69.8619 Q969.022 65.9325 969.022 59.3701 Q969.022 51.7138 974.126 47.825 Q979.271 43.9361 989.438 43.9361 L999.89 43.9361 L999.89 43.2069 Q999.89 38.0623 996.487 35.2672 Q993.125 32.4315 987.008 32.4315 Q983.119 32.4315 979.433 33.3632 Q975.746 34.295 972.344 36.1584 L972.344 29.2718 Q976.435 27.692 980.283 26.9223 Q984.132 26.1121 987.777 26.1121 Q997.621 26.1121 1002.48 31.2163 Q1007.34 36.3204 1007.34 46.6907 Z\" fill=\"#000000\" fill-rule=\"evenodd\" fill-opacity=\"1\" /><path clip-path=\"url(#clip420)\" d=\"M1022.7 9.54393 L1030.15 9.54393 L1030.15 72.576 L1022.7 72.576 L1022.7 9.54393 Z\" fill=\"#000000\" fill-rule=\"evenodd\" fill-opacity=\"1\" /><path clip-path=\"url(#clip420)\" d=\"M1089.7 32.4315 Q1083.7 32.4315 1080.22 37.1306 Q1076.74 41.7891 1076.74 49.9314 Q1076.74 58.0738 1080.18 62.7728 Q1083.66 67.4314 1089.7 67.4314 Q1095.65 67.4314 1099.14 62.7323 Q1102.62 58.0333 1102.62 49.9314 Q1102.62 41.8701 1099.14 37.1711 Q1095.65 32.4315 1089.7 32.4315 M1089.7 26.1121 Q1099.42 26.1121 1104.97 32.4315 Q1110.52 38.7509 1110.52 49.9314 Q1110.52 61.0714 1104.97 67.4314 Q1099.42 73.7508 1089.7 73.7508 Q1079.94 73.7508 1074.39 67.4314 Q1068.88 61.0714 1068.88 49.9314 Q1068.88 38.7509 1074.39 32.4315 Q1079.94 26.1121 1089.7 26.1121 Z\" fill=\"#000000\" fill-rule=\"evenodd\" fill-opacity=\"1\" /><path clip-path=\"url(#clip420)\" d=\"M1160.59 45.1919 L1160.59 72.576 L1153.14 72.576 L1153.14 45.4349 Q1153.14 38.994 1150.62 35.7938 Q1148.11 32.5936 1143.09 32.5936 Q1137.05 32.5936 1133.57 36.4419 Q1130.09 40.2903 1130.09 46.9338 L1130.09 72.576 L1122.59 72.576 L1122.59 27.2059 L1130.09 27.2059 L1130.09 34.2544 Q1132.76 30.163 1136.36 28.1376 Q1140.01 26.1121 1144.75 26.1121 Q1152.57 26.1121 1156.58 30.9732 Q1160.59 35.7938 1160.59 45.1919 Z\" fill=\"#000000\" fill-rule=\"evenodd\" fill-opacity=\"1\" /><path clip-path=\"url(#clip420)\" d=\"M1193.77 12.096 L1244.93 12.096 L1244.93 18.9825 L1223.46 18.9825 L1223.46 72.576 L1215.24 72.576 L1215.24 18.9825 L1193.77 18.9825 L1193.77 12.096 Z\" fill=\"#000000\" fill-rule=\"evenodd\" fill-opacity=\"1\" /><path clip-path=\"url(#clip420)\" d=\"M1277.21 48.0275 L1277.21 51.6733 L1242.94 51.6733 Q1243.43 59.3701 1247.56 63.421 Q1251.73 67.4314 1259.15 67.4314 Q1263.44 67.4314 1267.45 66.3781 Q1271.5 65.3249 1275.47 63.2184 L1275.47 70.267 Q1271.46 71.9684 1267.25 72.8596 Q1263.04 73.7508 1258.7 73.7508 Q1247.85 73.7508 1241.49 67.4314 Q1235.17 61.1119 1235.17 50.3365 Q1235.17 39.1965 1241.16 32.6746 Q1247.2 26.1121 1257.41 26.1121 Q1266.56 26.1121 1271.87 32.0264 Q1277.21 37.9003 1277.21 48.0275 M1269.76 45.84 Q1269.68 39.7232 1266.32 36.0774 Q1263 32.4315 1257.49 32.4315 Q1251.25 32.4315 1247.48 35.9558 Q1243.75 39.4801 1243.19 45.8805 L1269.76 45.84 Z\" fill=\"#000000\" fill-rule=\"evenodd\" fill-opacity=\"1\" /><path clip-path=\"url(#clip420)\" d=\"M1318.37 28.5427 L1318.37 35.5912 Q1315.21 33.9709 1311.81 33.1607 Q1308.41 32.3505 1304.76 32.3505 Q1299.21 32.3505 1296.42 34.0519 Q1293.66 35.7533 1293.66 39.156 Q1293.66 41.7486 1295.65 43.2475 Q1297.63 44.7058 1303.63 46.0426 L1306.18 46.6097 Q1314.12 48.3111 1317.44 51.4303 Q1320.8 54.509 1320.8 60.0587 Q1320.8 66.3781 1315.78 70.0644 Q1310.8 73.7508 1302.05 73.7508 Q1298.4 73.7508 1294.43 73.0216 Q1290.5 72.3329 1286.13 70.9151 L1286.13 63.2184 Q1290.26 65.3654 1294.27 66.4591 Q1298.28 67.5124 1302.21 67.5124 Q1307.47 67.5124 1310.31 65.73 Q1313.15 63.9071 1313.15 60.6258 Q1313.15 57.5877 1311.08 55.9673 Q1309.05 54.3469 1302.13 52.8481 L1299.54 52.2405 Q1292.61 50.7821 1289.53 47.7845 Q1286.45 44.7463 1286.45 39.4801 Q1286.45 33.0797 1290.99 29.5959 Q1295.52 26.1121 1303.87 26.1121 Q1308 26.1121 1311.65 26.7198 Q1315.29 27.3274 1318.37 28.5427 Z\" fill=\"#000000\" fill-rule=\"evenodd\" fill-opacity=\"1\" /><path clip-path=\"url(#clip420)\" d=\"M1340.04 14.324 L1340.04 27.2059 L1355.4 27.2059 L1355.4 32.9987 L1340.04 32.9987 L1340.04 57.6282 Q1340.04 63.1779 1341.54 64.7578 Q1343.08 66.3376 1347.74 66.3376 L1355.4 66.3376 L1355.4 72.576 L1347.74 72.576 Q1339.11 72.576 1335.83 69.3758 Q1332.55 66.1351 1332.55 57.6282 L1332.55 32.9987 L1327.08 32.9987 L1327.08 27.2059 L1332.55 27.2059 L1332.55 14.324 L1340.04 14.324 Z\" fill=\"#000000\" fill-rule=\"evenodd\" fill-opacity=\"1\" /><path clip-path=\"url(#clip420)\" d=\"M1400.08 18.8205 L1400.08 65.8515 L1409.96 65.8515 Q1422.48 65.8515 1428.27 60.1802 Q1434.11 54.509 1434.11 42.2752 Q1434.11 30.1225 1428.27 24.4918 Q1422.48 18.8205 1409.96 18.8205 L1400.08 18.8205 M1391.9 12.096 L1408.71 12.096 Q1426.29 12.096 1434.51 19.4281 Q1442.73 26.7198 1442.73 42.2752 Q1442.73 57.9117 1434.47 65.2439 Q1426.21 72.576 1408.71 72.576 L1391.9 72.576 L1391.9 12.096 Z\" fill=\"#000000\" fill-rule=\"evenodd\" fill-opacity=\"1\" /><path clip-path=\"url(#clip420)\" d=\"M1476.07 49.7694 Q1467.04 49.7694 1463.56 51.8354 Q1460.07 53.9013 1460.07 58.8839 Q1460.07 62.8538 1462.66 65.2034 Q1465.3 67.5124 1469.79 67.5124 Q1475.99 67.5124 1479.72 63.1374 Q1483.49 58.7219 1483.49 51.4303 L1483.49 49.7694 L1476.07 49.7694 M1490.94 46.6907 L1490.94 72.576 L1483.49 72.576 L1483.49 65.6895 Q1480.93 69.8214 1477.13 71.8063 Q1473.32 73.7508 1467.81 73.7508 Q1460.84 73.7508 1456.71 69.8619 Q1452.62 65.9325 1452.62 59.3701 Q1452.62 51.7138 1457.72 47.825 Q1462.87 43.9361 1473.04 43.9361 L1483.49 43.9361 L1483.49 43.2069 Q1483.49 38.0623 1480.08 35.2672 Q1476.72 32.4315 1470.6 32.4315 Q1466.72 32.4315 1463.03 33.3632 Q1459.34 34.295 1455.94 36.1584 L1455.94 29.2718 Q1460.03 27.692 1463.88 26.9223 Q1467.73 26.1121 1471.37 26.1121 Q1481.22 26.1121 1486.08 31.2163 Q1490.94 36.3204 1490.94 46.6907 Z\" fill=\"#000000\" fill-rule=\"evenodd\" fill-opacity=\"1\" /><path clip-path=\"url(#clip420)\" d=\"M1513.67 14.324 L1513.67 27.2059 L1529.02 27.2059 L1529.02 32.9987 L1513.67 32.9987 L1513.67 57.6282 Q1513.67 63.1779 1515.16 64.7578 Q1516.7 66.3376 1521.36 66.3376 L1529.02 66.3376 L1529.02 72.576 L1521.36 72.576 Q1512.73 72.576 1509.45 69.3758 Q1506.17 66.1351 1506.17 57.6282 L1506.17 32.9987 L1500.7 32.9987 L1500.7 27.2059 L1506.17 27.2059 L1506.17 14.324 L1513.67 14.324 Z\" fill=\"#000000\" fill-rule=\"evenodd\" fill-opacity=\"1\" /><path clip-path=\"url(#clip420)\" d=\"M1559.44 49.7694 Q1550.41 49.7694 1546.92 51.8354 Q1543.44 53.9013 1543.44 58.8839 Q1543.44 62.8538 1546.03 65.2034 Q1548.67 67.5124 1553.16 67.5124 Q1559.36 67.5124 1563.09 63.1374 Q1566.85 58.7219 1566.85 51.4303 L1566.85 49.7694 L1559.44 49.7694 M1574.31 46.6907 L1574.31 72.576 L1566.85 72.576 L1566.85 65.6895 Q1564.3 69.8214 1560.49 71.8063 Q1556.69 73.7508 1551.18 73.7508 Q1544.21 73.7508 1540.08 69.8619 Q1535.99 65.9325 1535.99 59.3701 Q1535.99 51.7138 1541.09 47.825 Q1546.24 43.9361 1556.4 43.9361 L1566.85 43.9361 L1566.85 43.2069 Q1566.85 38.0623 1563.45 35.2672 Q1560.09 32.4315 1553.97 32.4315 Q1550.08 32.4315 1546.4 33.3632 Q1542.71 34.295 1539.31 36.1584 L1539.31 29.2718 Q1543.4 27.692 1547.25 26.9223 Q1551.1 26.1121 1554.74 26.1121 Q1564.59 26.1121 1569.45 31.2163 Q1574.31 36.3204 1574.31 46.6907 Z\" fill=\"#000000\" fill-rule=\"evenodd\" fill-opacity=\"1\" /><path clip-path=\"url(#clip420)\" d=\"M1589.98 12.096 L1624.74 12.096 L1624.74 18.9825 L1598.17 18.9825 L1598.17 36.8065 L1622.15 36.8065 L1622.15 43.6931 L1598.17 43.6931 L1598.17 72.576 L1589.98 72.576 L1589.98 12.096 Z\" fill=\"#000000\" fill-rule=\"evenodd\" fill-opacity=\"1\" /><path clip-path=\"url(#clip420)\" d=\"M1657.63 34.1734 Q1656.38 33.4443 1654.88 33.1202 Q1653.42 32.7556 1651.64 32.7556 Q1645.32 32.7556 1641.92 36.8875 Q1638.56 40.9789 1638.56 48.6757 L1638.56 72.576 L1631.06 72.576 L1631.06 27.2059 L1638.56 27.2059 L1638.56 34.2544 Q1640.9 30.1225 1644.67 28.1376 Q1648.44 26.1121 1653.83 26.1121 Q1654.6 26.1121 1655.53 26.2337 Q1656.46 26.3147 1657.59 26.5172 L1657.63 34.1734 Z\" fill=\"#000000\" fill-rule=\"evenodd\" fill-opacity=\"1\" /><path clip-path=\"url(#clip420)\" d=\"M1686.07 49.7694 Q1677.04 49.7694 1673.56 51.8354 Q1670.07 53.9013 1670.07 58.8839 Q1670.07 62.8538 1672.66 65.2034 Q1675.3 67.5124 1679.79 67.5124 Q1685.99 67.5124 1689.72 63.1374 Q1693.49 58.7219 1693.49 51.4303 L1693.49 49.7694 L1686.07 49.7694 M1700.94 46.6907 L1700.94 72.576 L1693.49 72.576 L1693.49 65.6895 Q1690.93 69.8214 1687.13 71.8063 Q1683.32 73.7508 1677.81 73.7508 Q1670.84 73.7508 1666.71 69.8619 Q1662.62 65.9325 1662.62 59.3701 Q1662.62 51.7138 1667.72 47.825 Q1672.87 43.9361 1683.03 43.9361 L1693.49 43.9361 L1693.49 43.2069 Q1693.49 38.0623 1690.08 35.2672 Q1686.72 32.4315 1680.6 32.4315 Q1676.71 32.4315 1673.03 33.3632 Q1669.34 34.295 1665.94 36.1584 L1665.94 29.2718 Q1670.03 27.692 1673.88 26.9223 Q1677.73 26.1121 1681.37 26.1121 Q1691.22 26.1121 1696.08 31.2163 Q1700.94 36.3204 1700.94 46.6907 Z\" fill=\"#000000\" fill-rule=\"evenodd\" fill-opacity=\"1\" /><path clip-path=\"url(#clip420)\" d=\"M1751.62 35.9153 Q1754.41 30.8922 1758.3 28.5022 Q1762.19 26.1121 1767.45 26.1121 Q1774.54 26.1121 1778.39 31.0947 Q1782.24 36.0368 1782.24 45.1919 L1782.24 72.576 L1774.75 72.576 L1774.75 45.4349 Q1774.75 38.913 1772.44 35.7533 Q1770.13 32.5936 1765.39 32.5936 Q1759.6 32.5936 1756.23 36.4419 Q1752.87 40.2903 1752.87 46.9338 L1752.87 72.576 L1745.38 72.576 L1745.38 45.4349 Q1745.38 38.8725 1743.07 35.7533 Q1740.76 32.5936 1735.94 32.5936 Q1730.23 32.5936 1726.86 36.4824 Q1723.5 40.3308 1723.5 46.9338 L1723.5 72.576 L1716.01 72.576 L1716.01 27.2059 L1723.5 27.2059 L1723.5 34.2544 Q1726.05 30.082 1729.62 28.0971 Q1733.18 26.1121 1738.09 26.1121 Q1743.03 26.1121 1746.47 28.6237 Q1749.96 31.1352 1751.62 35.9153 Z\" fill=\"#000000\" fill-rule=\"evenodd\" fill-opacity=\"1\" /><path clip-path=\"url(#clip420)\" d=\"M1835.92 48.0275 L1835.92 51.6733 L1801.64 51.6733 Q1802.13 59.3701 1806.26 63.421 Q1810.44 67.4314 1817.85 67.4314 Q1822.14 67.4314 1826.15 66.3781 Q1830.2 65.3249 1834.17 63.2184 L1834.17 70.267 Q1830.16 71.9684 1825.95 72.8596 Q1821.74 73.7508 1817.4 73.7508 Q1806.55 73.7508 1800.19 67.4314 Q1793.87 61.1119 1793.87 50.3365 Q1793.87 39.1965 1799.86 32.6746 Q1805.9 26.1121 1816.11 26.1121 Q1825.26 26.1121 1830.57 32.0264 Q1835.92 37.9003 1835.92 48.0275 M1828.46 45.84 Q1828.38 39.7232 1825.02 36.0774 Q1821.7 32.4315 1816.19 32.4315 Q1809.95 32.4315 1806.18 35.9558 Q1802.45 39.4801 1801.89 45.8805 L1828.46 45.84 Z\" fill=\"#000000\" fill-rule=\"evenodd\" fill-opacity=\"1\" /><polyline clip-path=\"url(#clip422)\" style=\"stroke:#009af9; stroke-linecap:butt; stroke-linejoin:round; stroke-width:4; stroke-opacity:1; fill:none\" points=\"\n",
       "  240.392,914.551 240.392,996.857 \n",
       "  \"/>\n",
       "<polyline clip-path=\"url(#clip422)\" style=\"stroke:#009af9; stroke-linecap:butt; stroke-linejoin:round; stroke-width:4; stroke-opacity:1; fill:none\" points=\"\n",
       "  386.88,914.551 386.88,162.047 \n",
       "  \"/>\n",
       "<polyline clip-path=\"url(#clip422)\" style=\"stroke:#009af9; stroke-linecap:butt; stroke-linejoin:round; stroke-width:4; stroke-opacity:1; fill:none\" points=\"\n",
       "  533.369,914.551 533.369,463.405 \n",
       "  \"/>\n",
       "<polyline clip-path=\"url(#clip422)\" style=\"stroke:#009af9; stroke-linecap:butt; stroke-linejoin:round; stroke-width:4; stroke-opacity:1; fill:none\" points=\"\n",
       "  679.857,914.551 679.857,700.513 \n",
       "  \"/>\n",
       "<polyline clip-path=\"url(#clip422)\" style=\"stroke:#009af9; stroke-linecap:butt; stroke-linejoin:round; stroke-width:4; stroke-opacity:1; fill:none\" points=\"\n",
       "  826.346,914.551 826.346,1359.89 \n",
       "  \"/>\n",
       "<polyline clip-path=\"url(#clip422)\" style=\"stroke:#009af9; stroke-linecap:butt; stroke-linejoin:round; stroke-width:4; stroke-opacity:1; fill:none\" points=\"\n",
       "  972.834,914.551 972.834,1135.27 \n",
       "  \"/>\n",
       "<polyline clip-path=\"url(#clip422)\" style=\"stroke:#009af9; stroke-linecap:butt; stroke-linejoin:round; stroke-width:4; stroke-opacity:1; fill:none\" points=\"\n",
       "  1119.32,914.551 1119.32,744.187 \n",
       "  \"/>\n",
       "<polyline clip-path=\"url(#clip422)\" style=\"stroke:#009af9; stroke-linecap:butt; stroke-linejoin:round; stroke-width:4; stroke-opacity:1; fill:none\" points=\"\n",
       "  1265.81,914.551 1265.81,866.85 \n",
       "  \"/>\n",
       "<polyline clip-path=\"url(#clip422)\" style=\"stroke:#009af9; stroke-linecap:butt; stroke-linejoin:round; stroke-width:4; stroke-opacity:1; fill:none\" points=\"\n",
       "  1412.3,914.551 1412.3,1194.52 \n",
       "  \"/>\n",
       "<polyline clip-path=\"url(#clip422)\" style=\"stroke:#009af9; stroke-linecap:butt; stroke-linejoin:round; stroke-width:4; stroke-opacity:1; fill:none\" points=\"\n",
       "  1558.79,914.551 1558.79,703.097 \n",
       "  \"/>\n",
       "<polyline clip-path=\"url(#clip422)\" style=\"stroke:#009af9; stroke-linecap:butt; stroke-linejoin:round; stroke-width:4; stroke-opacity:1; fill:none\" points=\"\n",
       "  1705.28,914.551 1705.28,810.595 \n",
       "  \"/>\n",
       "<polyline clip-path=\"url(#clip422)\" style=\"stroke:#009af9; stroke-linecap:butt; stroke-linejoin:round; stroke-width:4; stroke-opacity:1; fill:none\" points=\"\n",
       "  1851.77,914.551 1851.77,998.83 \n",
       "  \"/>\n",
       "<polyline clip-path=\"url(#clip422)\" style=\"stroke:#009af9; stroke-linecap:butt; stroke-linejoin:round; stroke-width:4; stroke-opacity:1; fill:none\" points=\"\n",
       "  1998.25,914.551 1998.25,1447.87 \n",
       "  \"/>\n",
       "<polyline clip-path=\"url(#clip422)\" style=\"stroke:#009af9; stroke-linecap:butt; stroke-linejoin:round; stroke-width:4; stroke-opacity:1; fill:none\" points=\"\n",
       "  2144.74,914.551 2144.74,365.495 \n",
       "  \"/>\n",
       "<polyline clip-path=\"url(#clip422)\" style=\"stroke:#009af9; stroke-linecap:butt; stroke-linejoin:round; stroke-width:4; stroke-opacity:1; fill:none\" points=\"\n",
       "  2291.23,914.551 2291.23,583.416 \n",
       "  \"/>\n",
       "<path clip-path=\"url(#clip420)\" d=\"\n",
       "M1820.81 272.585 L2280.29 272.585 L2280.29 168.905 L1820.81 168.905  Z\n",
       "  \" fill=\"#ffffff\" fill-rule=\"evenodd\" fill-opacity=\"1\"/>\n",
       "<polyline clip-path=\"url(#clip420)\" style=\"stroke:#000000; stroke-linecap:butt; stroke-linejoin:round; stroke-width:4; stroke-opacity:1; fill:none\" points=\"\n",
       "  1820.81,272.585 2280.29,272.585 2280.29,168.905 1820.81,168.905 1820.81,272.585 \n",
       "  \"/>\n",
       "<polyline clip-path=\"url(#clip420)\" style=\"stroke:#009af9; stroke-linecap:butt; stroke-linejoin:round; stroke-width:4; stroke-opacity:1; fill:none\" points=\"\n",
       "  1844.97,220.745 1989.89,220.745 \n",
       "  \"/>\n",
       "<path clip-path=\"url(#clip420)\" d=\"M2030.43 221.821 Q2031.94 222.33 2033.35 223.997 Q2034.79 225.664 2036.22 228.58 L2040.97 238.025 L2035.94 238.025 L2031.52 229.159 Q2029.81 225.687 2028.19 224.553 Q2026.59 223.418 2023.81 223.418 L2018.72 223.418 L2018.72 238.025 L2014.05 238.025 L2014.05 203.465 L2024.6 203.465 Q2030.53 203.465 2033.44 205.941 Q2036.36 208.418 2036.36 213.418 Q2036.36 216.682 2034.83 218.835 Q2033.33 220.988 2030.43 221.821 M2018.72 207.307 L2018.72 219.576 L2024.6 219.576 Q2027.98 219.576 2029.69 218.025 Q2031.43 216.451 2031.43 213.418 Q2031.43 210.386 2029.69 208.858 Q2027.98 207.307 2024.6 207.307 L2018.72 207.307 Z\" fill=\"#000000\" fill-rule=\"evenodd\" fill-opacity=\"1\" /><path clip-path=\"url(#clip420)\" d=\"M2066.85 223.997 L2066.85 226.08 L2047.26 226.08 Q2047.54 230.478 2049.9 232.793 Q2052.29 235.085 2056.52 235.085 Q2058.98 235.085 2061.27 234.483 Q2063.58 233.881 2065.85 232.677 L2065.85 236.705 Q2063.56 237.677 2061.15 238.187 Q2058.74 238.696 2056.27 238.696 Q2050.06 238.696 2046.43 235.085 Q2042.82 231.474 2042.82 225.316 Q2042.82 218.951 2046.24 215.224 Q2049.69 211.474 2055.53 211.474 Q2060.76 211.474 2063.79 214.853 Q2066.85 218.21 2066.85 223.997 M2062.59 222.747 Q2062.54 219.252 2060.62 217.168 Q2058.72 215.085 2055.57 215.085 Q2052.01 215.085 2049.86 217.099 Q2047.73 219.113 2047.4 222.77 L2062.59 222.747 Z\" fill=\"#000000\" fill-rule=\"evenodd\" fill-opacity=\"1\" /><path clip-path=\"url(#clip420)\" d=\"M2090.36 212.863 L2090.36 216.891 Q2088.56 215.965 2086.61 215.502 Q2084.67 215.039 2082.59 215.039 Q2079.42 215.039 2077.82 216.011 Q2076.24 216.983 2076.24 218.928 Q2076.24 220.409 2077.38 221.265 Q2078.51 222.099 2081.94 222.863 L2083.4 223.187 Q2087.93 224.159 2089.83 225.941 Q2091.75 227.701 2091.75 230.872 Q2091.75 234.483 2088.88 236.589 Q2086.04 238.696 2081.04 238.696 Q2078.95 238.696 2076.68 238.279 Q2074.44 237.886 2071.94 237.076 L2071.94 232.677 Q2074.3 233.904 2076.59 234.529 Q2078.88 235.131 2081.13 235.131 Q2084.14 235.131 2085.76 234.113 Q2087.38 233.071 2087.38 231.196 Q2087.38 229.46 2086.2 228.534 Q2085.04 227.608 2081.08 226.752 L2079.6 226.404 Q2075.64 225.571 2073.88 223.858 Q2072.12 222.122 2072.12 219.113 Q2072.12 215.455 2074.72 213.465 Q2077.31 211.474 2082.08 211.474 Q2084.44 211.474 2086.52 211.821 Q2088.61 212.168 2090.36 212.863 Z\" fill=\"#000000\" fill-rule=\"evenodd\" fill-opacity=\"1\" /><path clip-path=\"url(#clip420)\" d=\"M2098.54 212.099 L2102.8 212.099 L2102.8 238.025 L2098.54 238.025 L2098.54 212.099 M2098.54 202.006 L2102.8 202.006 L2102.8 207.4 L2098.54 207.4 L2098.54 202.006 Z\" fill=\"#000000\" fill-rule=\"evenodd\" fill-opacity=\"1\" /><path clip-path=\"url(#clip420)\" d=\"M2128.77 216.034 L2128.77 202.006 L2133.03 202.006 L2133.03 238.025 L2128.77 238.025 L2128.77 234.136 Q2127.42 236.451 2125.36 237.585 Q2123.33 238.696 2120.46 238.696 Q2115.76 238.696 2112.8 234.946 Q2109.86 231.196 2109.86 225.085 Q2109.86 218.974 2112.8 215.224 Q2115.76 211.474 2120.46 211.474 Q2123.33 211.474 2125.36 212.608 Q2127.42 213.719 2128.77 216.034 M2114.25 225.085 Q2114.25 229.784 2116.17 232.469 Q2118.12 235.131 2121.5 235.131 Q2124.88 235.131 2126.82 232.469 Q2128.77 229.784 2128.77 225.085 Q2128.77 220.386 2126.82 217.724 Q2124.88 215.039 2121.5 215.039 Q2118.12 215.039 2116.17 217.724 Q2114.25 220.386 2114.25 225.085 Z\" fill=\"#000000\" fill-rule=\"evenodd\" fill-opacity=\"1\" /><path clip-path=\"url(#clip420)\" d=\"M2141.36 227.793 L2141.36 212.099 L2145.62 212.099 L2145.62 227.631 Q2145.62 231.312 2147.05 233.164 Q2148.49 234.992 2151.36 234.992 Q2154.81 234.992 2156.8 232.793 Q2158.81 230.594 2158.81 226.798 L2158.81 212.099 L2163.07 212.099 L2163.07 238.025 L2158.81 238.025 L2158.81 234.043 Q2157.26 236.404 2155.2 237.562 Q2153.17 238.696 2150.46 238.696 Q2145.99 238.696 2143.67 235.918 Q2141.36 233.14 2141.36 227.793 M2152.08 211.474 L2152.08 211.474 Z\" fill=\"#000000\" fill-rule=\"evenodd\" fill-opacity=\"1\" /><path clip-path=\"url(#clip420)\" d=\"M2183.63 224.992 Q2178.47 224.992 2176.48 226.173 Q2174.48 227.353 2174.48 230.201 Q2174.48 232.469 2175.97 233.812 Q2177.47 235.131 2180.04 235.131 Q2183.58 235.131 2185.71 232.631 Q2187.86 230.108 2187.86 225.941 L2187.86 224.992 L2183.63 224.992 M2192.12 223.233 L2192.12 238.025 L2187.86 238.025 L2187.86 234.089 Q2186.41 236.451 2184.23 237.585 Q2182.05 238.696 2178.91 238.696 Q2174.92 238.696 2172.56 236.474 Q2170.23 234.228 2170.23 230.478 Q2170.23 226.103 2173.14 223.881 Q2176.08 221.659 2181.89 221.659 L2187.86 221.659 L2187.86 221.242 Q2187.86 218.303 2185.92 216.705 Q2184 215.085 2180.5 215.085 Q2178.28 215.085 2176.17 215.617 Q2174.07 216.15 2172.12 217.215 L2172.12 213.279 Q2174.46 212.377 2176.66 211.937 Q2178.86 211.474 2180.94 211.474 Q2186.57 211.474 2189.35 214.391 Q2192.12 217.307 2192.12 223.233 Z\" fill=\"#000000\" fill-rule=\"evenodd\" fill-opacity=\"1\" /><path clip-path=\"url(#clip420)\" d=\"M2200.9 202.006 L2205.16 202.006 L2205.16 238.025 L2200.9 238.025 L2200.9 202.006 Z\" fill=\"#000000\" fill-rule=\"evenodd\" fill-opacity=\"1\" /><path clip-path=\"url(#clip420)\" d=\"M2230.6 212.863 L2230.6 216.891 Q2228.79 215.965 2226.85 215.502 Q2224.9 215.039 2222.82 215.039 Q2219.65 215.039 2218.05 216.011 Q2216.48 216.983 2216.48 218.928 Q2216.48 220.409 2217.61 221.265 Q2218.74 222.099 2222.17 222.863 L2223.63 223.187 Q2228.16 224.159 2230.06 225.941 Q2231.98 227.701 2231.98 230.872 Q2231.98 234.483 2229.11 236.589 Q2226.27 238.696 2221.27 238.696 Q2219.18 238.696 2216.91 238.279 Q2214.67 237.886 2212.17 237.076 L2212.17 232.677 Q2214.53 233.904 2216.82 234.529 Q2219.11 235.131 2221.36 235.131 Q2224.37 235.131 2225.99 234.113 Q2227.61 233.071 2227.61 231.196 Q2227.61 229.46 2226.43 228.534 Q2225.27 227.608 2221.31 226.752 L2219.83 226.404 Q2215.87 225.571 2214.11 223.858 Q2212.35 222.122 2212.35 219.113 Q2212.35 215.455 2214.95 213.465 Q2217.54 211.474 2222.31 211.474 Q2224.67 211.474 2226.75 211.821 Q2228.84 212.168 2230.6 212.863 Z\" fill=\"#000000\" fill-rule=\"evenodd\" fill-opacity=\"1\" /></svg>\n"
      ]
     },
     "execution_count": 45,
     "metadata": {},
     "output_type": "execute_result"
    }
   ],
   "source": [
    "res = ŷ .- y[test]\n",
    "using Plots\n",
    "plot(res, line=:stem, label=\"Residuals\", title=\"Residual on Test DataFrame\")"
   ]
  },
  {
   "cell_type": "code",
   "execution_count": 46,
   "metadata": {},
   "outputs": [
    {
     "name": "stdout",
     "output_type": "stream",
     "text": [
      "Root Mean Square value on test dataset is: 46.63760976435864\n"
     ]
    }
   ],
   "source": [
    "println(\"Root Mean Square value on test dataset is: \", rms(ŷ, y[test]))"
   ]
  },
  {
   "cell_type": "code",
   "execution_count": 47,
   "metadata": {},
   "outputs": [
    {
     "data": {
      "text/plain": [
       "49×2 Matrix{Float64}:\n",
       " 484.15    434.0\n",
       " 232.894   224.0\n",
       " 183.667   220.0\n",
       " 332.357   361.0\n",
       "  94.7013   72.0\n",
       " 332.98    284.0\n",
       " 390.202   429.0\n",
       " 253.655   156.0\n",
       " 219.981   224.0\n",
       " 317.109   295.0\n",
       " 235.645   206.0\n",
       " 309.789   379.0\n",
       " 136.753    86.0\n",
       "   ⋮       \n",
       " 413.742   479.0\n",
       " 204.19    203.0\n",
       " 279.323   205.0\n",
       " 204.801   239.0\n",
       " 217.037   238.0\n",
       " 148.551    98.0\n",
       " 209.777   182.0\n",
       " 153.973   111.0\n",
       " 268.227   282.0\n",
       " 243.443   190.0\n",
       " 323.226   330.0\n",
       " 298.327   292.0"
      ]
     },
     "execution_count": 47,
     "metadata": {},
     "output_type": "execute_result"
    }
   ],
   "source": [
    "ŷ = predict(mach, X3)\n",
    "[ŷ y]"
   ]
  },
  {
   "cell_type": "code",
   "execution_count": 48,
   "metadata": {},
   "outputs": [
    {
     "name": "stdout",
     "output_type": "stream",
     "text": [
      "Root Mean Square value on test dataset is: 60.85747127444592\n"
     ]
    }
   ],
   "source": [
    "println(\"Root Mean Square value on test dataset is: \", rms(ŷ, y))"
   ]
  },
  {
   "cell_type": "code",
   "execution_count": 49,
   "metadata": {},
   "outputs": [
    {
     "data": {
      "image/svg+xml": [
       "<?xml version=\"1.0\" encoding=\"utf-8\"?>\n",
       "<svg xmlns=\"http://www.w3.org/2000/svg\" xmlns:xlink=\"http://www.w3.org/1999/xlink\" width=\"600\" height=\"400\" viewBox=\"0 0 2400 1600\">\n",
       "<defs>\n",
       "  <clipPath id=\"clip460\">\n",
       "    <rect x=\"0\" y=\"0\" width=\"2400\" height=\"1600\"/>\n",
       "  </clipPath>\n",
       "</defs>\n",
       "<path clip-path=\"url(#clip460)\" d=\"\n",
       "M0 1600 L2400 1600 L2400 0 L0 0  Z\n",
       "  \" fill=\"#ffffff\" fill-rule=\"evenodd\" fill-opacity=\"1\"/>\n",
       "<defs>\n",
       "  <clipPath id=\"clip461\">\n",
       "    <rect x=\"480\" y=\"0\" width=\"1681\" height=\"1600\"/>\n",
       "  </clipPath>\n",
       "</defs>\n",
       "<path clip-path=\"url(#clip460)\" d=\"\n",
       "M209.029 1486.45 L2352.76 1486.45 L2352.76 123.472 L209.029 123.472  Z\n",
       "  \" fill=\"#ffffff\" fill-rule=\"evenodd\" fill-opacity=\"1\"/>\n",
       "<defs>\n",
       "  <clipPath id=\"clip462\">\n",
       "    <rect x=\"209\" y=\"123\" width=\"2145\" height=\"1364\"/>\n",
       "  </clipPath>\n",
       "</defs>\n",
       "<polyline clip-path=\"url(#clip462)\" style=\"stroke:#000000; stroke-linecap:butt; stroke-linejoin:round; stroke-width:2; stroke-opacity:0.1; fill:none\" points=\"\n",
       "  227.567,1486.45 227.567,123.472 \n",
       "  \"/>\n",
       "<polyline clip-path=\"url(#clip462)\" style=\"stroke:#000000; stroke-linecap:butt; stroke-linejoin:round; stroke-width:2; stroke-opacity:0.1; fill:none\" points=\"\n",
       "  648.897,1486.45 648.897,123.472 \n",
       "  \"/>\n",
       "<polyline clip-path=\"url(#clip462)\" style=\"stroke:#000000; stroke-linecap:butt; stroke-linejoin:round; stroke-width:2; stroke-opacity:0.1; fill:none\" points=\"\n",
       "  1070.23,1486.45 1070.23,123.472 \n",
       "  \"/>\n",
       "<polyline clip-path=\"url(#clip462)\" style=\"stroke:#000000; stroke-linecap:butt; stroke-linejoin:round; stroke-width:2; stroke-opacity:0.1; fill:none\" points=\"\n",
       "  1491.56,1486.45 1491.56,123.472 \n",
       "  \"/>\n",
       "<polyline clip-path=\"url(#clip462)\" style=\"stroke:#000000; stroke-linecap:butt; stroke-linejoin:round; stroke-width:2; stroke-opacity:0.1; fill:none\" points=\"\n",
       "  1912.89,1486.45 1912.89,123.472 \n",
       "  \"/>\n",
       "<polyline clip-path=\"url(#clip462)\" style=\"stroke:#000000; stroke-linecap:butt; stroke-linejoin:round; stroke-width:2; stroke-opacity:0.1; fill:none\" points=\"\n",
       "  2334.22,1486.45 2334.22,123.472 \n",
       "  \"/>\n",
       "<polyline clip-path=\"url(#clip460)\" style=\"stroke:#000000; stroke-linecap:butt; stroke-linejoin:round; stroke-width:4; stroke-opacity:1; fill:none\" points=\"\n",
       "  209.029,1486.45 2352.76,1486.45 \n",
       "  \"/>\n",
       "<polyline clip-path=\"url(#clip460)\" style=\"stroke:#000000; stroke-linecap:butt; stroke-linejoin:round; stroke-width:4; stroke-opacity:1; fill:none\" points=\"\n",
       "  227.567,1486.45 227.567,1467.55 \n",
       "  \"/>\n",
       "<polyline clip-path=\"url(#clip460)\" style=\"stroke:#000000; stroke-linecap:butt; stroke-linejoin:round; stroke-width:4; stroke-opacity:1; fill:none\" points=\"\n",
       "  648.897,1486.45 648.897,1467.55 \n",
       "  \"/>\n",
       "<polyline clip-path=\"url(#clip460)\" style=\"stroke:#000000; stroke-linecap:butt; stroke-linejoin:round; stroke-width:4; stroke-opacity:1; fill:none\" points=\"\n",
       "  1070.23,1486.45 1070.23,1467.55 \n",
       "  \"/>\n",
       "<polyline clip-path=\"url(#clip460)\" style=\"stroke:#000000; stroke-linecap:butt; stroke-linejoin:round; stroke-width:4; stroke-opacity:1; fill:none\" points=\"\n",
       "  1491.56,1486.45 1491.56,1467.55 \n",
       "  \"/>\n",
       "<polyline clip-path=\"url(#clip460)\" style=\"stroke:#000000; stroke-linecap:butt; stroke-linejoin:round; stroke-width:4; stroke-opacity:1; fill:none\" points=\"\n",
       "  1912.89,1486.45 1912.89,1467.55 \n",
       "  \"/>\n",
       "<polyline clip-path=\"url(#clip460)\" style=\"stroke:#000000; stroke-linecap:butt; stroke-linejoin:round; stroke-width:4; stroke-opacity:1; fill:none\" points=\"\n",
       "  2334.22,1486.45 2334.22,1467.55 \n",
       "  \"/>\n",
       "<path clip-path=\"url(#clip460)\" d=\"M227.567 1515.64 Q223.956 1515.64 222.127 1519.2 Q220.322 1522.75 220.322 1529.87 Q220.322 1536.98 222.127 1540.55 Q223.956 1544.09 227.567 1544.09 Q231.201 1544.09 233.007 1540.55 Q234.836 1536.98 234.836 1529.87 Q234.836 1522.75 233.007 1519.2 Q231.201 1515.64 227.567 1515.64 M227.567 1511.93 Q233.377 1511.93 236.433 1516.54 Q239.511 1521.12 239.511 1529.87 Q239.511 1538.6 236.433 1543.21 Q233.377 1547.79 227.567 1547.79 Q221.757 1547.79 218.678 1543.21 Q215.623 1538.6 215.623 1529.87 Q215.623 1521.12 218.678 1516.54 Q221.757 1511.93 227.567 1511.93 Z\" fill=\"#000000\" fill-rule=\"evenodd\" fill-opacity=\"1\" /><path clip-path=\"url(#clip460)\" d=\"M623.585 1543.18 L631.224 1543.18 L631.224 1516.82 L622.913 1518.49 L622.913 1514.23 L631.177 1512.56 L635.853 1512.56 L635.853 1543.18 L643.492 1543.18 L643.492 1547.12 L623.585 1547.12 L623.585 1543.18 Z\" fill=\"#000000\" fill-rule=\"evenodd\" fill-opacity=\"1\" /><path clip-path=\"url(#clip460)\" d=\"M662.936 1515.64 Q659.325 1515.64 657.497 1519.2 Q655.691 1522.75 655.691 1529.87 Q655.691 1536.98 657.497 1540.55 Q659.325 1544.09 662.936 1544.09 Q666.571 1544.09 668.376 1540.55 Q670.205 1536.98 670.205 1529.87 Q670.205 1522.75 668.376 1519.2 Q666.571 1515.64 662.936 1515.64 M662.936 1511.93 Q668.747 1511.93 671.802 1516.54 Q674.881 1521.12 674.881 1529.87 Q674.881 1538.6 671.802 1543.21 Q668.747 1547.79 662.936 1547.79 Q657.126 1547.79 654.048 1543.21 Q650.992 1538.6 650.992 1529.87 Q650.992 1521.12 654.048 1516.54 Q657.126 1511.93 662.936 1511.93 Z\" fill=\"#000000\" fill-rule=\"evenodd\" fill-opacity=\"1\" /><path clip-path=\"url(#clip460)\" d=\"M1049 1543.18 L1065.32 1543.18 L1065.32 1547.12 L1043.38 1547.12 L1043.38 1543.18 Q1046.04 1540.43 1050.62 1535.8 Q1055.23 1531.15 1056.41 1529.81 Q1058.65 1527.28 1059.53 1525.55 Q1060.44 1523.79 1060.44 1522.1 Q1060.44 1519.34 1058.49 1517.61 Q1056.57 1515.87 1053.47 1515.87 Q1051.27 1515.87 1048.82 1516.63 Q1046.38 1517.4 1043.61 1518.95 L1043.61 1514.23 Q1046.43 1513.09 1048.88 1512.51 Q1051.34 1511.93 1053.38 1511.93 Q1058.75 1511.93 1061.94 1514.62 Q1065.13 1517.31 1065.13 1521.8 Q1065.13 1523.93 1064.32 1525.85 Q1063.54 1527.74 1061.43 1530.34 Q1060.85 1531.01 1057.75 1534.23 Q1054.65 1537.42 1049 1543.18 Z\" fill=\"#000000\" fill-rule=\"evenodd\" fill-opacity=\"1\" /><path clip-path=\"url(#clip460)\" d=\"M1085.13 1515.64 Q1081.52 1515.64 1079.69 1519.2 Q1077.89 1522.75 1077.89 1529.87 Q1077.89 1536.98 1079.69 1540.55 Q1081.52 1544.09 1085.13 1544.09 Q1088.77 1544.09 1090.57 1540.55 Q1092.4 1536.98 1092.4 1529.87 Q1092.4 1522.75 1090.57 1519.2 Q1088.77 1515.64 1085.13 1515.64 M1085.13 1511.93 Q1090.94 1511.93 1094 1516.54 Q1097.08 1521.12 1097.08 1529.87 Q1097.08 1538.6 1094 1543.21 Q1090.94 1547.79 1085.13 1547.79 Q1079.32 1547.79 1076.25 1543.21 Q1073.19 1538.6 1073.19 1529.87 Q1073.19 1521.12 1076.25 1516.54 Q1079.32 1511.93 1085.13 1511.93 Z\" fill=\"#000000\" fill-rule=\"evenodd\" fill-opacity=\"1\" /><path clip-path=\"url(#clip460)\" d=\"M1480.4 1528.49 Q1483.76 1529.2 1485.63 1531.47 Q1487.53 1533.74 1487.53 1537.07 Q1487.53 1542.19 1484.01 1544.99 Q1480.49 1547.79 1474.01 1547.79 Q1471.84 1547.79 1469.52 1547.35 Q1467.23 1546.93 1464.77 1546.08 L1464.77 1541.56 Q1466.72 1542.7 1469.03 1543.28 Q1471.35 1543.86 1473.87 1543.86 Q1478.27 1543.86 1480.56 1542.12 Q1482.88 1540.38 1482.88 1537.07 Q1482.88 1534.02 1480.72 1532.31 Q1478.59 1530.57 1474.77 1530.57 L1470.75 1530.57 L1470.75 1526.73 L1474.96 1526.73 Q1478.41 1526.73 1480.24 1525.36 Q1482.07 1523.97 1482.07 1521.38 Q1482.07 1518.72 1480.17 1517.31 Q1478.29 1515.87 1474.77 1515.87 Q1472.85 1515.87 1470.65 1516.29 Q1468.46 1516.7 1465.82 1517.58 L1465.82 1513.42 Q1468.48 1512.68 1470.79 1512.31 Q1473.13 1511.93 1475.19 1511.93 Q1480.52 1511.93 1483.62 1514.37 Q1486.72 1516.77 1486.72 1520.89 Q1486.72 1523.76 1485.08 1525.75 Q1483.43 1527.72 1480.4 1528.49 Z\" fill=\"#000000\" fill-rule=\"evenodd\" fill-opacity=\"1\" /><path clip-path=\"url(#clip460)\" d=\"M1506.4 1515.64 Q1502.78 1515.64 1500.96 1519.2 Q1499.15 1522.75 1499.15 1529.87 Q1499.15 1536.98 1500.96 1540.55 Q1502.78 1544.09 1506.4 1544.09 Q1510.03 1544.09 1511.83 1540.55 Q1513.66 1536.98 1513.66 1529.87 Q1513.66 1522.75 1511.83 1519.2 Q1510.03 1515.64 1506.4 1515.64 M1506.4 1511.93 Q1512.21 1511.93 1515.26 1516.54 Q1518.34 1521.12 1518.34 1529.87 Q1518.34 1538.6 1515.26 1543.21 Q1512.21 1547.79 1506.4 1547.79 Q1500.58 1547.79 1497.51 1543.21 Q1494.45 1538.6 1494.45 1529.87 Q1494.45 1521.12 1497.51 1516.54 Q1500.58 1511.93 1506.4 1511.93 Z\" fill=\"#000000\" fill-rule=\"evenodd\" fill-opacity=\"1\" /><path clip-path=\"url(#clip460)\" d=\"M1901.06 1516.63 L1889.25 1535.08 L1901.06 1535.08 L1901.06 1516.63 M1899.83 1512.56 L1905.71 1512.56 L1905.71 1535.08 L1910.64 1535.08 L1910.64 1538.97 L1905.71 1538.97 L1905.71 1547.12 L1901.06 1547.12 L1901.06 1538.97 L1885.46 1538.97 L1885.46 1534.46 L1899.83 1512.56 Z\" fill=\"#000000\" fill-rule=\"evenodd\" fill-opacity=\"1\" /><path clip-path=\"url(#clip460)\" d=\"M1928.37 1515.64 Q1924.76 1515.64 1922.93 1519.2 Q1921.13 1522.75 1921.13 1529.87 Q1921.13 1536.98 1922.93 1540.55 Q1924.76 1544.09 1928.37 1544.09 Q1932.01 1544.09 1933.81 1540.55 Q1935.64 1536.98 1935.64 1529.87 Q1935.64 1522.75 1933.81 1519.2 Q1932.01 1515.64 1928.37 1515.64 M1928.37 1511.93 Q1934.18 1511.93 1937.24 1516.54 Q1940.32 1521.12 1940.32 1529.87 Q1940.32 1538.6 1937.24 1543.21 Q1934.18 1547.79 1928.37 1547.79 Q1922.56 1547.79 1919.48 1543.21 Q1916.43 1538.6 1916.43 1529.87 Q1916.43 1521.12 1919.48 1516.54 Q1922.56 1511.93 1928.37 1511.93 Z\" fill=\"#000000\" fill-rule=\"evenodd\" fill-opacity=\"1\" /><path clip-path=\"url(#clip460)\" d=\"M2308.92 1512.56 L2327.27 1512.56 L2327.27 1516.5 L2313.2 1516.5 L2313.2 1524.97 Q2314.22 1524.62 2315.24 1524.46 Q2316.25 1524.27 2317.27 1524.27 Q2323.06 1524.27 2326.44 1527.44 Q2329.82 1530.62 2329.82 1536.03 Q2329.82 1541.61 2326.35 1544.71 Q2322.87 1547.79 2316.56 1547.79 Q2314.38 1547.79 2312.11 1547.42 Q2309.87 1547.05 2307.46 1546.31 L2307.46 1541.61 Q2309.54 1542.74 2311.76 1543.3 Q2313.99 1543.86 2316.46 1543.86 Q2320.47 1543.86 2322.81 1541.75 Q2325.14 1539.64 2325.14 1536.03 Q2325.14 1532.42 2322.81 1530.31 Q2320.47 1528.21 2316.46 1528.21 Q2314.59 1528.21 2312.71 1528.62 Q2310.86 1529.04 2308.92 1529.92 L2308.92 1512.56 Z\" fill=\"#000000\" fill-rule=\"evenodd\" fill-opacity=\"1\" /><path clip-path=\"url(#clip460)\" d=\"M2349.03 1515.64 Q2345.42 1515.64 2343.59 1519.2 Q2341.79 1522.75 2341.79 1529.87 Q2341.79 1536.98 2343.59 1540.55 Q2345.42 1544.09 2349.03 1544.09 Q2352.67 1544.09 2354.47 1540.55 Q2356.3 1536.98 2356.3 1529.87 Q2356.3 1522.75 2354.47 1519.2 Q2352.67 1515.64 2349.03 1515.64 M2349.03 1511.93 Q2354.84 1511.93 2357.9 1516.54 Q2360.98 1521.12 2360.98 1529.87 Q2360.98 1538.6 2357.9 1543.21 Q2354.84 1547.79 2349.03 1547.79 Q2343.22 1547.79 2340.14 1543.21 Q2337.09 1538.6 2337.09 1529.87 Q2337.09 1521.12 2340.14 1516.54 Q2343.22 1511.93 2349.03 1511.93 Z\" fill=\"#000000\" fill-rule=\"evenodd\" fill-opacity=\"1\" /><polyline clip-path=\"url(#clip462)\" style=\"stroke:#000000; stroke-linecap:butt; stroke-linejoin:round; stroke-width:2; stroke-opacity:0.1; fill:none\" points=\"\n",
       "  209.029,1241.04 2352.76,1241.04 \n",
       "  \"/>\n",
       "<polyline clip-path=\"url(#clip462)\" style=\"stroke:#000000; stroke-linecap:butt; stroke-linejoin:round; stroke-width:2; stroke-opacity:0.1; fill:none\" points=\"\n",
       "  209.029,920.77 2352.76,920.77 \n",
       "  \"/>\n",
       "<polyline clip-path=\"url(#clip462)\" style=\"stroke:#000000; stroke-linecap:butt; stroke-linejoin:round; stroke-width:2; stroke-opacity:0.1; fill:none\" points=\"\n",
       "  209.029,600.503 2352.76,600.503 \n",
       "  \"/>\n",
       "<polyline clip-path=\"url(#clip462)\" style=\"stroke:#000000; stroke-linecap:butt; stroke-linejoin:round; stroke-width:2; stroke-opacity:0.1; fill:none\" points=\"\n",
       "  209.029,280.235 2352.76,280.235 \n",
       "  \"/>\n",
       "<polyline clip-path=\"url(#clip460)\" style=\"stroke:#000000; stroke-linecap:butt; stroke-linejoin:round; stroke-width:4; stroke-opacity:1; fill:none\" points=\"\n",
       "  209.029,1486.45 209.029,123.472 \n",
       "  \"/>\n",
       "<polyline clip-path=\"url(#clip460)\" style=\"stroke:#000000; stroke-linecap:butt; stroke-linejoin:round; stroke-width:4; stroke-opacity:1; fill:none\" points=\"\n",
       "  209.029,1241.04 227.926,1241.04 \n",
       "  \"/>\n",
       "<polyline clip-path=\"url(#clip460)\" style=\"stroke:#000000; stroke-linecap:butt; stroke-linejoin:round; stroke-width:4; stroke-opacity:1; fill:none\" points=\"\n",
       "  209.029,920.77 227.926,920.77 \n",
       "  \"/>\n",
       "<polyline clip-path=\"url(#clip460)\" style=\"stroke:#000000; stroke-linecap:butt; stroke-linejoin:round; stroke-width:4; stroke-opacity:1; fill:none\" points=\"\n",
       "  209.029,600.503 227.926,600.503 \n",
       "  \"/>\n",
       "<polyline clip-path=\"url(#clip460)\" style=\"stroke:#000000; stroke-linecap:butt; stroke-linejoin:round; stroke-width:4; stroke-opacity:1; fill:none\" points=\"\n",
       "  209.029,280.235 227.926,280.235 \n",
       "  \"/>\n",
       "<path clip-path=\"url(#clip460)\" d=\"M50.9921 1241.49 L80.6679 1241.49 L80.6679 1245.42 L50.9921 1245.42 L50.9921 1241.49 Z\" fill=\"#000000\" fill-rule=\"evenodd\" fill-opacity=\"1\" /><path clip-path=\"url(#clip460)\" d=\"M94.7882 1254.38 L111.108 1254.38 L111.108 1258.32 L89.1632 1258.32 L89.1632 1254.38 Q91.8252 1251.63 96.4085 1247 Q101.015 1242.35 102.196 1241 Q104.441 1238.48 105.321 1236.74 Q106.223 1234.98 106.223 1233.29 Q106.223 1230.54 104.279 1228.8 Q102.358 1227.07 99.2558 1227.07 Q97.0567 1227.07 94.603 1227.83 Q92.1725 1228.6 89.3947 1230.15 L89.3947 1225.42 Q92.2188 1224.29 94.6724 1223.71 Q97.1261 1223.13 99.1632 1223.13 Q104.534 1223.13 107.728 1225.82 Q110.922 1228.5 110.922 1232.99 Q110.922 1235.12 110.112 1237.04 Q109.325 1238.94 107.219 1241.54 Q106.64 1242.21 103.538 1245.42 Q100.436 1248.62 94.7882 1254.38 Z\" fill=\"#000000\" fill-rule=\"evenodd\" fill-opacity=\"1\" /><path clip-path=\"url(#clip460)\" d=\"M130.922 1226.84 Q127.311 1226.84 125.482 1230.4 Q123.677 1233.94 123.677 1241.07 Q123.677 1248.18 125.482 1251.74 Q127.311 1255.29 130.922 1255.29 Q134.556 1255.29 136.362 1251.74 Q138.191 1248.18 138.191 1241.07 Q138.191 1233.94 136.362 1230.4 Q134.556 1226.84 130.922 1226.84 M130.922 1223.13 Q136.732 1223.13 139.788 1227.74 Q142.867 1232.32 142.867 1241.07 Q142.867 1249.8 139.788 1254.41 Q136.732 1258.99 130.922 1258.99 Q125.112 1258.99 122.033 1254.41 Q118.978 1249.8 118.978 1241.07 Q118.978 1232.32 122.033 1227.74 Q125.112 1223.13 130.922 1223.13 Z\" fill=\"#000000\" fill-rule=\"evenodd\" fill-opacity=\"1\" /><path clip-path=\"url(#clip460)\" d=\"M161.084 1226.84 Q157.473 1226.84 155.644 1230.4 Q153.839 1233.94 153.839 1241.07 Q153.839 1248.18 155.644 1251.74 Q157.473 1255.29 161.084 1255.29 Q164.718 1255.29 166.524 1251.74 Q168.353 1248.18 168.353 1241.07 Q168.353 1233.94 166.524 1230.4 Q164.718 1226.84 161.084 1226.84 M161.084 1223.13 Q166.894 1223.13 169.95 1227.74 Q173.029 1232.32 173.029 1241.07 Q173.029 1249.8 169.95 1254.41 Q166.894 1258.99 161.084 1258.99 Q155.274 1258.99 152.195 1254.41 Q149.14 1249.8 149.14 1241.07 Q149.14 1232.32 152.195 1227.74 Q155.274 1223.13 161.084 1223.13 Z\" fill=\"#000000\" fill-rule=\"evenodd\" fill-opacity=\"1\" /><path clip-path=\"url(#clip460)\" d=\"M50.9921 921.222 L80.6679 921.222 L80.6679 925.157 L50.9921 925.157 L50.9921 921.222 Z\" fill=\"#000000\" fill-rule=\"evenodd\" fill-opacity=\"1\" /><path clip-path=\"url(#clip460)\" d=\"M91.5706 934.115 L99.2095 934.115 L99.2095 907.749 L90.8993 909.416 L90.8993 905.157 L99.1632 903.49 L103.839 903.49 L103.839 934.115 L111.478 934.115 L111.478 938.05 L91.5706 938.05 L91.5706 934.115 Z\" fill=\"#000000\" fill-rule=\"evenodd\" fill-opacity=\"1\" /><path clip-path=\"url(#clip460)\" d=\"M130.922 906.569 Q127.311 906.569 125.482 910.134 Q123.677 913.675 123.677 920.805 Q123.677 927.911 125.482 931.476 Q127.311 935.018 130.922 935.018 Q134.556 935.018 136.362 931.476 Q138.191 927.911 138.191 920.805 Q138.191 913.675 136.362 910.134 Q134.556 906.569 130.922 906.569 M130.922 902.865 Q136.732 902.865 139.788 907.472 Q142.867 912.055 142.867 920.805 Q142.867 929.532 139.788 934.138 Q136.732 938.721 130.922 938.721 Q125.112 938.721 122.033 934.138 Q118.978 929.532 118.978 920.805 Q118.978 912.055 122.033 907.472 Q125.112 902.865 130.922 902.865 Z\" fill=\"#000000\" fill-rule=\"evenodd\" fill-opacity=\"1\" /><path clip-path=\"url(#clip460)\" d=\"M161.084 906.569 Q157.473 906.569 155.644 910.134 Q153.839 913.675 153.839 920.805 Q153.839 927.911 155.644 931.476 Q157.473 935.018 161.084 935.018 Q164.718 935.018 166.524 931.476 Q168.353 927.911 168.353 920.805 Q168.353 913.675 166.524 910.134 Q164.718 906.569 161.084 906.569 M161.084 902.865 Q166.894 902.865 169.95 907.472 Q173.029 912.055 173.029 920.805 Q173.029 929.532 169.95 934.138 Q166.894 938.721 161.084 938.721 Q155.274 938.721 152.195 934.138 Q149.14 929.532 149.14 920.805 Q149.14 912.055 152.195 907.472 Q155.274 902.865 161.084 902.865 Z\" fill=\"#000000\" fill-rule=\"evenodd\" fill-opacity=\"1\" /><path clip-path=\"url(#clip460)\" d=\"M161.084 586.301 Q157.473 586.301 155.644 589.866 Q153.839 593.408 153.839 600.537 Q153.839 607.644 155.644 611.209 Q157.473 614.75 161.084 614.75 Q164.718 614.75 166.524 611.209 Q168.353 607.644 168.353 600.537 Q168.353 593.408 166.524 589.866 Q164.718 586.301 161.084 586.301 M161.084 582.598 Q166.894 582.598 169.95 587.204 Q173.029 591.788 173.029 600.537 Q173.029 609.264 169.95 613.871 Q166.894 618.454 161.084 618.454 Q155.274 618.454 152.195 613.871 Q149.14 609.264 149.14 600.537 Q149.14 591.788 152.195 587.204 Q155.274 582.598 161.084 582.598 Z\" fill=\"#000000\" fill-rule=\"evenodd\" fill-opacity=\"1\" /><path clip-path=\"url(#clip460)\" d=\"M91.5706 293.58 L99.2095 293.58 L99.2095 267.215 L90.8993 268.881 L90.8993 264.622 L99.1632 262.955 L103.839 262.955 L103.839 293.58 L111.478 293.58 L111.478 297.515 L91.5706 297.515 L91.5706 293.58 Z\" fill=\"#000000\" fill-rule=\"evenodd\" fill-opacity=\"1\" /><path clip-path=\"url(#clip460)\" d=\"M130.922 266.034 Q127.311 266.034 125.482 269.599 Q123.677 273.14 123.677 280.27 Q123.677 287.377 125.482 290.941 Q127.311 294.483 130.922 294.483 Q134.556 294.483 136.362 290.941 Q138.191 287.377 138.191 280.27 Q138.191 273.14 136.362 269.599 Q134.556 266.034 130.922 266.034 M130.922 262.33 Q136.732 262.33 139.788 266.937 Q142.867 271.52 142.867 280.27 Q142.867 288.997 139.788 293.603 Q136.732 298.187 130.922 298.187 Q125.112 298.187 122.033 293.603 Q118.978 288.997 118.978 280.27 Q118.978 271.52 122.033 266.937 Q125.112 262.33 130.922 262.33 Z\" fill=\"#000000\" fill-rule=\"evenodd\" fill-opacity=\"1\" /><path clip-path=\"url(#clip460)\" d=\"M161.084 266.034 Q157.473 266.034 155.644 269.599 Q153.839 273.14 153.839 280.27 Q153.839 287.377 155.644 290.941 Q157.473 294.483 161.084 294.483 Q164.718 294.483 166.524 290.941 Q168.353 287.377 168.353 280.27 Q168.353 273.14 166.524 269.599 Q164.718 266.034 161.084 266.034 M161.084 262.33 Q166.894 262.33 169.95 266.937 Q173.029 271.52 173.029 280.27 Q173.029 288.997 169.95 293.603 Q166.894 298.187 161.084 298.187 Q155.274 298.187 152.195 293.603 Q149.14 288.997 149.14 280.27 Q149.14 271.52 152.195 266.937 Q155.274 262.33 161.084 262.33 Z\" fill=\"#000000\" fill-rule=\"evenodd\" fill-opacity=\"1\" /><path clip-path=\"url(#clip460)\" d=\"M692.033 44.2197 Q694.666 45.1109 697.137 48.0275 Q699.648 50.9442 702.16 56.0483 L710.464 72.576 L701.674 72.576 L693.936 57.061 Q690.939 50.9847 688.103 48.9997 Q685.308 47.0148 680.447 47.0148 L671.535 47.0148 L671.535 72.576 L663.352 72.576 L663.352 12.096 L681.824 12.096 Q692.195 12.096 697.299 16.4305 Q702.403 20.7649 702.403 29.5149 Q702.403 35.2267 699.729 38.994 Q697.096 42.7613 692.033 44.2197 M671.535 18.8205 L671.535 40.2903 L681.824 40.2903 Q687.739 40.2903 690.736 37.5762 Q693.774 34.8216 693.774 29.5149 Q693.774 24.2082 690.736 21.5346 Q687.739 18.8205 681.824 18.8205 L671.535 18.8205 Z\" fill=\"#000000\" fill-rule=\"evenodd\" fill-opacity=\"1\" /><path clip-path=\"url(#clip460)\" d=\"M755.753 48.0275 L755.753 51.6733 L721.483 51.6733 Q721.969 59.3701 726.101 63.421 Q730.273 67.4314 737.686 67.4314 Q741.98 67.4314 745.991 66.3781 Q750.041 65.3249 754.011 63.2184 L754.011 70.267 Q750.001 71.9684 745.788 72.8596 Q741.575 73.7508 737.241 73.7508 Q726.384 73.7508 720.024 67.4314 Q713.705 61.1119 713.705 50.3365 Q713.705 39.1965 719.7 32.6746 Q725.736 26.1121 735.944 26.1121 Q745.099 26.1121 750.406 32.0264 Q755.753 37.9003 755.753 48.0275 M748.3 45.84 Q748.219 39.7232 744.856 36.0774 Q741.535 32.4315 736.025 32.4315 Q729.787 32.4315 726.02 35.9558 Q722.293 39.4801 721.726 45.8805 L748.3 45.84 Z\" fill=\"#000000\" fill-rule=\"evenodd\" fill-opacity=\"1\" /><path clip-path=\"url(#clip460)\" d=\"M796.91 28.5427 L796.91 35.5912 Q793.751 33.9709 790.348 33.1607 Q786.945 32.3505 783.299 32.3505 Q777.75 32.3505 774.955 34.0519 Q772.2 35.7533 772.2 39.156 Q772.2 41.7486 774.185 43.2475 Q776.17 44.7058 782.165 46.0426 L784.717 46.6097 Q792.657 48.3111 795.979 51.4303 Q799.341 54.509 799.341 60.0587 Q799.341 66.3781 794.318 70.0644 Q789.335 73.7508 780.585 73.7508 Q776.939 73.7508 772.97 73.0216 Q769.04 72.3329 764.665 70.9151 L764.665 63.2184 Q768.797 65.3654 772.808 66.4591 Q776.818 67.5124 780.747 67.5124 Q786.013 67.5124 788.849 65.73 Q791.685 63.9071 791.685 60.6258 Q791.685 57.5877 789.619 55.9673 Q787.593 54.3469 780.666 52.8481 L778.074 52.2405 Q771.147 50.7821 768.068 47.7845 Q764.989 44.7463 764.989 39.4801 Q764.989 33.0797 769.526 29.5959 Q774.063 26.1121 782.408 26.1121 Q786.54 26.1121 790.186 26.7198 Q793.832 27.3274 796.91 28.5427 Z\" fill=\"#000000\" fill-rule=\"evenodd\" fill-opacity=\"1\" /><path clip-path=\"url(#clip460)\" d=\"M811.21 27.2059 L818.664 27.2059 L818.664 72.576 L811.21 72.576 L811.21 27.2059 M811.21 9.54393 L818.664 9.54393 L818.664 18.9825 L811.21 18.9825 L811.21 9.54393 Z\" fill=\"#000000\" fill-rule=\"evenodd\" fill-opacity=\"1\" /><path clip-path=\"url(#clip460)\" d=\"M864.115 34.0924 L864.115 9.54393 L871.569 9.54393 L871.569 72.576 L864.115 72.576 L864.115 65.7705 Q861.765 69.8214 858.16 71.8063 Q854.595 73.7508 849.572 73.7508 Q841.349 73.7508 836.164 67.1883 Q831.019 60.6258 831.019 49.9314 Q831.019 39.2371 836.164 32.6746 Q841.349 26.1121 849.572 26.1121 Q854.595 26.1121 858.16 28.0971 Q861.765 30.0415 864.115 34.0924 M838.716 49.9314 Q838.716 58.1548 842.078 62.8538 Q845.481 67.5124 851.395 67.5124 Q857.309 67.5124 860.712 62.8538 Q864.115 58.1548 864.115 49.9314 Q864.115 41.7081 860.712 37.0496 Q857.309 32.3505 851.395 32.3505 Q845.481 32.3505 842.078 37.0496 Q838.716 41.7081 838.716 49.9314 Z\" fill=\"#000000\" fill-rule=\"evenodd\" fill-opacity=\"1\" /><path clip-path=\"url(#clip460)\" d=\"M886.152 54.671 L886.152 27.2059 L893.606 27.2059 L893.606 54.3874 Q893.606 60.8284 896.117 64.0691 Q898.629 67.2693 903.652 67.2693 Q909.688 67.2693 913.171 63.421 Q916.696 59.5726 916.696 52.9291 L916.696 27.2059 L924.149 27.2059 L924.149 72.576 L916.696 72.576 L916.696 65.6084 Q913.982 69.7404 910.376 71.7658 Q906.811 73.7508 902.072 73.7508 Q894.254 73.7508 890.203 68.8897 Q886.152 64.0286 886.152 54.671 M904.908 26.1121 L904.908 26.1121 Z\" fill=\"#000000\" fill-rule=\"evenodd\" fill-opacity=\"1\" /><path clip-path=\"url(#clip460)\" d=\"M960.121 49.7694 Q951.088 49.7694 947.604 51.8354 Q944.12 53.9013 944.12 58.8839 Q944.12 62.8538 946.713 65.2034 Q949.346 67.5124 953.842 67.5124 Q960.04 67.5124 963.767 63.1374 Q967.535 58.7219 967.535 51.4303 L967.535 49.7694 L960.121 49.7694 M974.988 46.6907 L974.988 72.576 L967.535 72.576 L967.535 65.6895 Q964.982 69.8214 961.175 71.8063 Q957.367 73.7508 951.858 73.7508 Q944.89 73.7508 940.758 69.8619 Q936.667 65.9325 936.667 59.3701 Q936.667 51.7138 941.771 47.825 Q946.915 43.9361 957.083 43.9361 L967.535 43.9361 L967.535 43.2069 Q967.535 38.0623 964.132 35.2672 Q960.77 32.4315 954.653 32.4315 Q950.764 32.4315 947.077 33.3632 Q943.391 34.295 939.988 36.1584 L939.988 29.2718 Q944.08 27.692 947.928 26.9223 Q951.776 26.1121 955.422 26.1121 Q965.266 26.1121 970.127 31.2163 Q974.988 36.3204 974.988 46.6907 Z\" fill=\"#000000\" fill-rule=\"evenodd\" fill-opacity=\"1\" /><path clip-path=\"url(#clip460)\" d=\"M990.341 9.54393 L997.795 9.54393 L997.795 72.576 L990.341 72.576 L990.341 9.54393 Z\" fill=\"#000000\" fill-rule=\"evenodd\" fill-opacity=\"1\" /><path clip-path=\"url(#clip460)\" d=\"M1057.34 32.4315 Q1051.35 32.4315 1047.86 37.1306 Q1044.38 41.7891 1044.38 49.9314 Q1044.38 58.0738 1047.82 62.7728 Q1051.31 67.4314 1057.34 67.4314 Q1063.3 67.4314 1066.78 62.7323 Q1070.27 58.0333 1070.27 49.9314 Q1070.27 41.8701 1066.78 37.1711 Q1063.3 32.4315 1057.34 32.4315 M1057.34 26.1121 Q1067.07 26.1121 1072.61 32.4315 Q1078.16 38.7509 1078.16 49.9314 Q1078.16 61.0714 1072.61 67.4314 Q1067.07 73.7508 1057.34 73.7508 Q1047.58 73.7508 1042.03 67.4314 Q1036.52 61.0714 1036.52 49.9314 Q1036.52 38.7509 1042.03 32.4315 Q1047.58 26.1121 1057.34 26.1121 Z\" fill=\"#000000\" fill-rule=\"evenodd\" fill-opacity=\"1\" /><path clip-path=\"url(#clip460)\" d=\"M1128.23 45.1919 L1128.23 72.576 L1120.78 72.576 L1120.78 45.4349 Q1120.78 38.994 1118.27 35.7938 Q1115.76 32.5936 1110.73 32.5936 Q1104.7 32.5936 1101.21 36.4419 Q1097.73 40.2903 1097.73 46.9338 L1097.73 72.576 L1090.24 72.576 L1090.24 27.2059 L1097.73 27.2059 L1097.73 34.2544 Q1100.4 30.163 1104.01 28.1376 Q1107.66 26.1121 1112.39 26.1121 Q1120.21 26.1121 1124.22 30.9732 Q1128.23 35.7938 1128.23 45.1919 Z\" fill=\"#000000\" fill-rule=\"evenodd\" fill-opacity=\"1\" /><path clip-path=\"url(#clip460)\" d=\"M1202.12 28.9478 L1202.12 35.9153 Q1198.96 34.1734 1195.76 33.3227 Q1192.6 32.4315 1189.36 32.4315 Q1182.11 32.4315 1178.1 37.0496 Q1174.09 41.6271 1174.09 49.9314 Q1174.09 58.2358 1178.1 62.8538 Q1182.11 67.4314 1189.36 67.4314 Q1192.6 67.4314 1195.76 66.5807 Q1198.96 65.6895 1202.12 63.9476 L1202.12 70.8341 Q1199 72.2924 1195.64 73.0216 Q1192.32 73.7508 1188.55 73.7508 Q1178.3 73.7508 1172.27 67.3098 Q1166.23 60.8689 1166.23 49.9314 Q1166.23 38.832 1172.31 32.472 Q1178.42 26.1121 1189.04 26.1121 Q1192.48 26.1121 1195.76 26.8413 Q1199.04 27.5299 1202.12 28.9478 Z\" fill=\"#000000\" fill-rule=\"evenodd\" fill-opacity=\"1\" /><path clip-path=\"url(#clip460)\" d=\"M1232.67 32.4315 Q1226.67 32.4315 1223.19 37.1306 Q1219.7 41.7891 1219.7 49.9314 Q1219.7 58.0738 1223.15 62.7728 Q1226.63 67.4314 1232.67 67.4314 Q1238.62 67.4314 1242.1 62.7323 Q1245.59 58.0333 1245.59 49.9314 Q1245.59 41.8701 1242.1 37.1711 Q1238.62 32.4315 1232.67 32.4315 M1232.67 26.1121 Q1242.39 26.1121 1247.94 32.4315 Q1253.49 38.7509 1253.49 49.9314 Q1253.49 61.0714 1247.94 67.4314 Q1242.39 73.7508 1232.67 73.7508 Q1222.9 73.7508 1217.35 67.4314 Q1211.84 61.0714 1211.84 49.9314 Q1211.84 38.7509 1217.35 32.4315 Q1222.9 26.1121 1232.67 26.1121 Z\" fill=\"#000000\" fill-rule=\"evenodd\" fill-opacity=\"1\" /><path clip-path=\"url(#clip460)\" d=\"M1301.17 35.9153 Q1303.96 30.8922 1307.85 28.5022 Q1311.74 26.1121 1317.01 26.1121 Q1324.1 26.1121 1327.94 31.0947 Q1331.79 36.0368 1331.79 45.1919 L1331.79 72.576 L1324.3 72.576 L1324.3 45.4349 Q1324.3 38.913 1321.99 35.7533 Q1319.68 32.5936 1314.94 32.5936 Q1309.15 32.5936 1305.79 36.4419 Q1302.42 40.2903 1302.42 46.9338 L1302.42 72.576 L1294.93 72.576 L1294.93 45.4349 Q1294.93 38.8725 1292.62 35.7533 Q1290.31 32.5936 1285.49 32.5936 Q1279.78 32.5936 1276.42 36.4824 Q1273.05 40.3308 1273.05 46.9338 L1273.05 72.576 L1265.56 72.576 L1265.56 27.2059 L1273.05 27.2059 L1273.05 34.2544 Q1275.61 30.082 1279.17 28.0971 Q1282.74 26.1121 1287.64 26.1121 Q1292.58 26.1121 1296.02 28.6237 Q1299.51 31.1352 1301.17 35.9153 Z\" fill=\"#000000\" fill-rule=\"evenodd\" fill-opacity=\"1\" /><path clip-path=\"url(#clip460)\" d=\"M1353.87 65.7705 L1353.87 89.8329 L1346.38 89.8329 L1346.38 27.2059 L1353.87 27.2059 L1353.87 34.0924 Q1356.22 30.0415 1359.78 28.0971 Q1363.39 26.1121 1368.37 26.1121 Q1376.64 26.1121 1381.78 32.6746 Q1386.97 39.2371 1386.97 49.9314 Q1386.97 60.6258 1381.78 67.1883 Q1376.64 73.7508 1368.37 73.7508 Q1363.39 73.7508 1359.78 71.8063 Q1356.22 69.8214 1353.87 65.7705 M1379.23 49.9314 Q1379.23 41.7081 1375.83 37.0496 Q1372.46 32.3505 1366.55 32.3505 Q1360.63 32.3505 1357.23 37.0496 Q1353.87 41.7081 1353.87 49.9314 Q1353.87 58.1548 1357.23 62.8538 Q1360.63 67.5124 1366.55 67.5124 Q1372.46 67.5124 1375.83 62.8538 Q1379.23 58.1548 1379.23 49.9314 Z\" fill=\"#000000\" fill-rule=\"evenodd\" fill-opacity=\"1\" /><path clip-path=\"url(#clip460)\" d=\"M1399.32 9.54393 L1406.77 9.54393 L1406.77 72.576 L1399.32 72.576 L1399.32 9.54393 Z\" fill=\"#000000\" fill-rule=\"evenodd\" fill-opacity=\"1\" /><path clip-path=\"url(#clip460)\" d=\"M1461.18 48.0275 L1461.18 51.6733 L1426.91 51.6733 Q1427.39 59.3701 1431.53 63.421 Q1435.7 67.4314 1443.11 67.4314 Q1447.4 67.4314 1451.42 66.3781 Q1455.47 65.3249 1459.44 63.2184 L1459.44 70.267 Q1455.43 71.9684 1451.21 72.8596 Q1447 73.7508 1442.67 73.7508 Q1431.81 73.7508 1425.45 67.4314 Q1419.13 61.1119 1419.13 50.3365 Q1419.13 39.1965 1425.12 32.6746 Q1431.16 26.1121 1441.37 26.1121 Q1450.52 26.1121 1455.83 32.0264 Q1461.18 37.9003 1461.18 48.0275 M1453.72 45.84 Q1453.64 39.7232 1450.28 36.0774 Q1446.96 32.4315 1441.45 32.4315 Q1435.21 32.4315 1431.44 35.9558 Q1427.72 39.4801 1427.15 45.8805 L1453.72 45.84 Z\" fill=\"#000000\" fill-rule=\"evenodd\" fill-opacity=\"1\" /><path clip-path=\"url(#clip460)\" d=\"M1480.78 14.324 L1480.78 27.2059 L1496.14 27.2059 L1496.14 32.9987 L1480.78 32.9987 L1480.78 57.6282 Q1480.78 63.1779 1482.28 64.7578 Q1483.82 66.3376 1488.48 66.3376 L1496.14 66.3376 L1496.14 72.576 L1488.48 72.576 Q1479.85 72.576 1476.57 69.3758 Q1473.29 66.1351 1473.29 57.6282 L1473.29 32.9987 L1467.82 32.9987 L1467.82 27.2059 L1473.29 27.2059 L1473.29 14.324 L1480.78 14.324 Z\" fill=\"#000000\" fill-rule=\"evenodd\" fill-opacity=\"1\" /><path clip-path=\"url(#clip460)\" d=\"M1544.75 48.0275 L1544.75 51.6733 L1510.48 51.6733 Q1510.96 59.3701 1515.1 63.421 Q1519.27 67.4314 1526.68 67.4314 Q1530.97 67.4314 1534.99 66.3781 Q1539.04 65.3249 1543.01 63.2184 L1543.01 70.267 Q1539 71.9684 1534.78 72.8596 Q1530.57 73.7508 1526.24 73.7508 Q1515.38 73.7508 1509.02 67.4314 Q1502.7 61.1119 1502.7 50.3365 Q1502.7 39.1965 1508.69 32.6746 Q1514.73 26.1121 1524.94 26.1121 Q1534.09 26.1121 1539.4 32.0264 Q1544.75 37.9003 1544.75 48.0275 M1537.29 45.84 Q1537.21 39.7232 1533.85 36.0774 Q1530.53 32.4315 1525.02 32.4315 Q1518.78 32.4315 1515.01 35.9558 Q1511.29 39.4801 1510.72 45.8805 L1537.29 45.84 Z\" fill=\"#000000\" fill-rule=\"evenodd\" fill-opacity=\"1\" /><path clip-path=\"url(#clip460)\" d=\"M1591.86 18.8205 L1591.86 65.8515 L1601.74 65.8515 Q1614.26 65.8515 1620.05 60.1802 Q1625.89 54.509 1625.89 42.2752 Q1625.89 30.1225 1620.05 24.4918 Q1614.26 18.8205 1601.74 18.8205 L1591.86 18.8205 M1583.68 12.096 L1600.49 12.096 Q1618.07 12.096 1626.29 19.4281 Q1634.52 26.7198 1634.52 42.2752 Q1634.52 57.9117 1626.25 65.2439 Q1617.99 72.576 1600.49 72.576 L1583.68 72.576 L1583.68 12.096 Z\" fill=\"#000000\" fill-rule=\"evenodd\" fill-opacity=\"1\" /><path clip-path=\"url(#clip460)\" d=\"M1667.85 49.7694 Q1658.82 49.7694 1655.34 51.8354 Q1651.85 53.9013 1651.85 58.8839 Q1651.85 62.8538 1654.45 65.2034 Q1657.08 67.5124 1661.58 67.5124 Q1667.77 67.5124 1671.5 63.1374 Q1675.27 58.7219 1675.27 51.4303 L1675.27 49.7694 L1667.85 49.7694 M1682.72 46.6907 L1682.72 72.576 L1675.27 72.576 L1675.27 65.6895 Q1672.72 69.8214 1668.91 71.8063 Q1665.1 73.7508 1659.59 73.7508 Q1652.62 73.7508 1648.49 69.8619 Q1644.4 65.9325 1644.4 59.3701 Q1644.4 51.7138 1649.5 47.825 Q1654.65 43.9361 1664.82 43.9361 L1675.27 43.9361 L1675.27 43.2069 Q1675.27 38.0623 1671.87 35.2672 Q1668.5 32.4315 1662.39 32.4315 Q1658.5 32.4315 1654.81 33.3632 Q1651.12 34.295 1647.72 36.1584 L1647.72 29.2718 Q1651.81 27.692 1655.66 26.9223 Q1659.51 26.1121 1663.16 26.1121 Q1673 26.1121 1677.86 31.2163 Q1682.72 36.3204 1682.72 46.6907 Z\" fill=\"#000000\" fill-rule=\"evenodd\" fill-opacity=\"1\" /><path clip-path=\"url(#clip460)\" d=\"M1705.45 14.324 L1705.45 27.2059 L1720.8 27.2059 L1720.8 32.9987 L1705.45 32.9987 L1705.45 57.6282 Q1705.45 63.1779 1706.95 64.7578 Q1708.49 66.3376 1713.14 66.3376 L1720.8 66.3376 L1720.8 72.576 L1713.14 72.576 Q1704.52 72.576 1701.23 69.3758 Q1697.95 66.1351 1697.95 57.6282 L1697.95 32.9987 L1692.48 32.9987 L1692.48 27.2059 L1697.95 27.2059 L1697.95 14.324 L1705.45 14.324 Z\" fill=\"#000000\" fill-rule=\"evenodd\" fill-opacity=\"1\" /><path clip-path=\"url(#clip460)\" d=\"M1751.22 49.7694 Q1742.19 49.7694 1738.71 51.8354 Q1735.22 53.9013 1735.22 58.8839 Q1735.22 62.8538 1737.81 65.2034 Q1740.45 67.5124 1744.94 67.5124 Q1751.14 67.5124 1754.87 63.1374 Q1758.64 58.7219 1758.64 51.4303 L1758.64 49.7694 L1751.22 49.7694 M1766.09 46.6907 L1766.09 72.576 L1758.64 72.576 L1758.64 65.6895 Q1756.08 69.8214 1752.28 71.8063 Q1748.47 73.7508 1742.96 73.7508 Q1735.99 73.7508 1731.86 69.8619 Q1727.77 65.9325 1727.77 59.3701 Q1727.77 51.7138 1732.87 47.825 Q1738.02 43.9361 1748.18 43.9361 L1758.64 43.9361 L1758.64 43.2069 Q1758.64 38.0623 1755.23 35.2672 Q1751.87 32.4315 1745.75 32.4315 Q1741.86 32.4315 1738.18 33.3632 Q1734.49 34.295 1731.09 36.1584 L1731.09 29.2718 Q1735.18 27.692 1739.03 26.9223 Q1742.88 26.1121 1746.52 26.1121 Q1756.37 26.1121 1761.23 31.2163 Q1766.09 36.3204 1766.09 46.6907 Z\" fill=\"#000000\" fill-rule=\"evenodd\" fill-opacity=\"1\" /><path clip-path=\"url(#clip460)\" d=\"M1810.37 28.5427 L1810.37 35.5912 Q1807.21 33.9709 1803.8 33.1607 Q1800.4 32.3505 1796.75 32.3505 Q1791.2 32.3505 1788.41 34.0519 Q1785.66 35.7533 1785.66 39.156 Q1785.66 41.7486 1787.64 43.2475 Q1789.63 44.7058 1795.62 46.0426 L1798.17 46.6097 Q1806.11 48.3111 1809.43 51.4303 Q1812.8 54.509 1812.8 60.0587 Q1812.8 66.3781 1807.77 70.0644 Q1802.79 73.7508 1794.04 73.7508 Q1790.39 73.7508 1786.42 73.0216 Q1782.5 72.3329 1778.12 70.9151 L1778.12 63.2184 Q1782.25 65.3654 1786.26 66.4591 Q1790.27 67.5124 1794.2 67.5124 Q1799.47 67.5124 1802.3 65.73 Q1805.14 63.9071 1805.14 60.6258 Q1805.14 57.5877 1803.07 55.9673 Q1801.05 54.3469 1794.12 52.8481 L1791.53 52.2405 Q1784.6 50.7821 1781.52 47.7845 Q1778.44 44.7463 1778.44 39.4801 Q1778.44 33.0797 1782.98 29.5959 Q1787.52 26.1121 1795.86 26.1121 Q1800 26.1121 1803.64 26.7198 Q1807.29 27.3274 1810.37 28.5427 Z\" fill=\"#000000\" fill-rule=\"evenodd\" fill-opacity=\"1\" /><path clip-path=\"url(#clip460)\" d=\"M1863.47 48.0275 L1863.47 51.6733 L1829.2 51.6733 Q1829.69 59.3701 1833.82 63.421 Q1837.99 67.4314 1845.41 67.4314 Q1849.7 67.4314 1853.71 66.3781 Q1857.76 65.3249 1861.73 63.2184 L1861.73 70.267 Q1857.72 71.9684 1853.51 72.8596 Q1849.29 73.7508 1844.96 73.7508 Q1834.1 73.7508 1827.74 67.4314 Q1821.42 61.1119 1821.42 50.3365 Q1821.42 39.1965 1827.42 32.6746 Q1833.46 26.1121 1843.66 26.1121 Q1852.82 26.1121 1858.13 32.0264 Q1863.47 37.9003 1863.47 48.0275 M1856.02 45.84 Q1855.94 39.7232 1852.58 36.0774 Q1849.25 32.4315 1843.75 32.4315 Q1837.51 32.4315 1833.74 35.9558 Q1830.01 39.4801 1829.45 45.8805 L1856.02 45.84 Z\" fill=\"#000000\" fill-rule=\"evenodd\" fill-opacity=\"1\" /><path clip-path=\"url(#clip460)\" d=\"M1883.08 14.324 L1883.08 27.2059 L1898.43 27.2059 L1898.43 32.9987 L1883.08 32.9987 L1883.08 57.6282 Q1883.08 63.1779 1884.58 64.7578 Q1886.12 66.3376 1890.78 66.3376 L1898.43 66.3376 L1898.43 72.576 L1890.78 72.576 Q1882.15 72.576 1878.87 69.3758 Q1875.59 66.1351 1875.59 57.6282 L1875.59 32.9987 L1870.12 32.9987 L1870.12 27.2059 L1875.59 27.2059 L1875.59 14.324 L1883.08 14.324 Z\" fill=\"#000000\" fill-rule=\"evenodd\" fill-opacity=\"1\" /><polyline clip-path=\"url(#clip462)\" style=\"stroke:#009af9; stroke-linecap:butt; stroke-linejoin:round; stroke-width:4; stroke-opacity:1; fill:none\" points=\"\n",
       "  269.7,600.503 269.7,439.889 \n",
       "  \"/>\n",
       "<polyline clip-path=\"url(#clip462)\" style=\"stroke:#009af9; stroke-linecap:butt; stroke-linejoin:round; stroke-width:4; stroke-opacity:1; fill:none\" points=\"\n",
       "  311.833,600.503 311.833,572.017 \n",
       "  \"/>\n",
       "<polyline clip-path=\"url(#clip462)\" style=\"stroke:#009af9; stroke-linecap:butt; stroke-linejoin:round; stroke-width:4; stroke-opacity:1; fill:none\" points=\"\n",
       "  353.966,600.503 353.966,716.865 \n",
       "  \"/>\n",
       "<polyline clip-path=\"url(#clip462)\" style=\"stroke:#009af9; stroke-linecap:butt; stroke-linejoin:round; stroke-width:4; stroke-opacity:1; fill:none\" points=\"\n",
       "  396.099,600.503 396.099,692.237 \n",
       "  \"/>\n",
       "<polyline clip-path=\"url(#clip462)\" style=\"stroke:#009af9; stroke-linecap:butt; stroke-linejoin:round; stroke-width:4; stroke-opacity:1; fill:none\" points=\"\n",
       "  438.232,600.503 438.232,527.798 \n",
       "  \"/>\n",
       "<polyline clip-path=\"url(#clip462)\" style=\"stroke:#009af9; stroke-linecap:butt; stroke-linejoin:round; stroke-width:4; stroke-opacity:1; fill:none\" points=\"\n",
       "  480.365,600.503 480.365,443.637 \n",
       "  \"/>\n",
       "<polyline clip-path=\"url(#clip462)\" style=\"stroke:#009af9; stroke-linecap:butt; stroke-linejoin:round; stroke-width:4; stroke-opacity:1; fill:none\" points=\"\n",
       "  522.498,600.503 522.498,724.761 \n",
       "  \"/>\n",
       "<polyline clip-path=\"url(#clip462)\" style=\"stroke:#009af9; stroke-linecap:butt; stroke-linejoin:round; stroke-width:4; stroke-opacity:1; fill:none\" points=\"\n",
       "  564.631,600.503 564.631,287.745 \n",
       "  \"/>\n",
       "<polyline clip-path=\"url(#clip462)\" style=\"stroke:#009af9; stroke-linecap:butt; stroke-linejoin:round; stroke-width:4; stroke-opacity:1; fill:none\" points=\"\n",
       "  606.764,600.503 606.764,613.375 \n",
       "  \"/>\n",
       "<polyline clip-path=\"url(#clip462)\" style=\"stroke:#009af9; stroke-linecap:butt; stroke-linejoin:round; stroke-width:4; stroke-opacity:1; fill:none\" points=\"\n",
       "  648.897,600.503 648.897,529.696 \n",
       "  \"/>\n",
       "<polyline clip-path=\"url(#clip462)\" style=\"stroke:#009af9; stroke-linecap:butt; stroke-linejoin:round; stroke-width:4; stroke-opacity:1; fill:none\" points=\"\n",
       "  691.03,600.503 691.03,505.56 \n",
       "  \"/>\n",
       "<polyline clip-path=\"url(#clip462)\" style=\"stroke:#009af9; stroke-linecap:butt; stroke-linejoin:round; stroke-width:4; stroke-opacity:1; fill:none\" points=\"\n",
       "  733.163,600.503 733.163,822.164 \n",
       "  \"/>\n",
       "<polyline clip-path=\"url(#clip462)\" style=\"stroke:#009af9; stroke-linecap:butt; stroke-linejoin:round; stroke-width:4; stroke-opacity:1; fill:none\" points=\"\n",
       "  775.296,600.503 775.296,437.956 \n",
       "  \"/>\n",
       "<polyline clip-path=\"url(#clip462)\" style=\"stroke:#009af9; stroke-linecap:butt; stroke-linejoin:round; stroke-width:4; stroke-opacity:1; fill:none\" points=\"\n",
       "  817.429,600.503 817.429,744.31 \n",
       "  \"/>\n",
       "<polyline clip-path=\"url(#clip462)\" style=\"stroke:#009af9; stroke-linecap:butt; stroke-linejoin:round; stroke-width:4; stroke-opacity:1; fill:none\" points=\"\n",
       "  859.562,600.503 859.562,614.301 \n",
       "  \"/>\n",
       "<polyline clip-path=\"url(#clip462)\" style=\"stroke:#009af9; stroke-linecap:butt; stroke-linejoin:round; stroke-width:4; stroke-opacity:1; fill:none\" points=\"\n",
       "  901.695,600.503 901.695,580.677 \n",
       "  \"/>\n",
       "<polyline clip-path=\"url(#clip462)\" style=\"stroke:#009af9; stroke-linecap:butt; stroke-linejoin:round; stroke-width:4; stroke-opacity:1; fill:none\" points=\"\n",
       "  943.828,600.503 943.828,405.689 \n",
       "  \"/>\n",
       "<polyline clip-path=\"url(#clip462)\" style=\"stroke:#009af9; stroke-linecap:butt; stroke-linejoin:round; stroke-width:4; stroke-opacity:1; fill:none\" points=\"\n",
       "  985.961,600.503 985.961,534.512 \n",
       "  \"/>\n",
       "<polyline clip-path=\"url(#clip462)\" style=\"stroke:#009af9; stroke-linecap:butt; stroke-linejoin:round; stroke-width:4; stroke-opacity:1; fill:none\" points=\"\n",
       "  1028.09,600.503 1028.09,781.119 \n",
       "  \"/>\n",
       "<polyline clip-path=\"url(#clip462)\" style=\"stroke:#009af9; stroke-linecap:butt; stroke-linejoin:round; stroke-width:4; stroke-opacity:1; fill:none\" points=\"\n",
       "  1070.23,600.503 1070.23,512.617 \n",
       "  \"/>\n",
       "<polyline clip-path=\"url(#clip462)\" style=\"stroke:#009af9; stroke-linecap:butt; stroke-linejoin:round; stroke-width:4; stroke-opacity:1; fill:none\" points=\"\n",
       "  1112.36,600.503 1112.36,477.946 \n",
       "  \"/>\n",
       "<polyline clip-path=\"url(#clip462)\" style=\"stroke:#009af9; stroke-linecap:butt; stroke-linejoin:round; stroke-width:4; stroke-opacity:1; fill:none\" points=\"\n",
       "  1154.49,600.503 1154.49,592.489 \n",
       "  \"/>\n",
       "<polyline clip-path=\"url(#clip462)\" style=\"stroke:#009af9; stroke-linecap:butt; stroke-linejoin:round; stroke-width:4; stroke-opacity:1; fill:none\" points=\"\n",
       "  1196.63,600.503 1196.63,635.531 \n",
       "  \"/>\n",
       "<polyline clip-path=\"url(#clip462)\" style=\"stroke:#009af9; stroke-linecap:butt; stroke-linejoin:round; stroke-width:4; stroke-opacity:1; fill:none\" points=\"\n",
       "  1238.76,600.503 1238.76,372.303 \n",
       "  \"/>\n",
       "<polyline clip-path=\"url(#clip462)\" style=\"stroke:#009af9; stroke-linecap:butt; stroke-linejoin:round; stroke-width:4; stroke-opacity:1; fill:none\" points=\"\n",
       "  1280.89,600.503 1280.89,412.996 \n",
       "  \"/>\n",
       "<polyline clip-path=\"url(#clip462)\" style=\"stroke:#009af9; stroke-linecap:butt; stroke-linejoin:round; stroke-width:4; stroke-opacity:1; fill:none\" points=\"\n",
       "  1323.03,600.503 1323.03,394.936 \n",
       "  \"/>\n",
       "<polyline clip-path=\"url(#clip462)\" style=\"stroke:#009af9; stroke-linecap:butt; stroke-linejoin:round; stroke-width:4; stroke-opacity:1; fill:none\" points=\"\n",
       "  1365.16,600.503 1365.16,162.047 \n",
       "  \"/>\n",
       "<polyline clip-path=\"url(#clip462)\" style=\"stroke:#009af9; stroke-linecap:butt; stroke-linejoin:round; stroke-width:4; stroke-opacity:1; fill:none\" points=\"\n",
       "  1407.29,600.503 1407.29,740.312 \n",
       "  \"/>\n",
       "<polyline clip-path=\"url(#clip462)\" style=\"stroke:#009af9; stroke-linecap:butt; stroke-linejoin:round; stroke-width:4; stroke-opacity:1; fill:none\" points=\"\n",
       "  1449.42,600.503 1449.42,557.296 \n",
       "  \"/>\n",
       "<polyline clip-path=\"url(#clip462)\" style=\"stroke:#009af9; stroke-linecap:butt; stroke-linejoin:round; stroke-width:4; stroke-opacity:1; fill:none\" points=\"\n",
       "  1491.56,600.503 1491.56,815.42 \n",
       "  \"/>\n",
       "<polyline clip-path=\"url(#clip462)\" style=\"stroke:#009af9; stroke-linecap:butt; stroke-linejoin:round; stroke-width:4; stroke-opacity:1; fill:none\" points=\"\n",
       "  1533.69,600.503 1533.69,773.757 \n",
       "  \"/>\n",
       "<polyline clip-path=\"url(#clip462)\" style=\"stroke:#009af9; stroke-linecap:butt; stroke-linejoin:round; stroke-width:4; stroke-opacity:1; fill:none\" points=\"\n",
       "  1575.82,600.503 1575.82,757.706 \n",
       "  \"/>\n",
       "<polyline clip-path=\"url(#clip462)\" style=\"stroke:#009af9; stroke-linecap:butt; stroke-linejoin:round; stroke-width:4; stroke-opacity:1; fill:none\" points=\"\n",
       "  1617.96,600.503 1617.96,634.711 \n",
       "  \"/>\n",
       "<polyline clip-path=\"url(#clip462)\" style=\"stroke:#009af9; stroke-linecap:butt; stroke-linejoin:round; stroke-width:4; stroke-opacity:1; fill:none\" points=\"\n",
       "  1660.09,600.503 1660.09,1447.87 \n",
       "  \"/>\n",
       "<polyline clip-path=\"url(#clip462)\" style=\"stroke:#009af9; stroke-linecap:butt; stroke-linejoin:round; stroke-width:4; stroke-opacity:1; fill:none\" points=\"\n",
       "  1702.22,600.503 1702.22,785.595 \n",
       "  \"/>\n",
       "<polyline clip-path=\"url(#clip462)\" style=\"stroke:#009af9; stroke-linecap:butt; stroke-linejoin:round; stroke-width:4; stroke-opacity:1; fill:none\" points=\"\n",
       "  1744.36,600.503 1744.36,679.93 \n",
       "  \"/>\n",
       "<polyline clip-path=\"url(#clip462)\" style=\"stroke:#009af9; stroke-linecap:butt; stroke-linejoin:round; stroke-width:4; stroke-opacity:1; fill:none\" points=\"\n",
       "  1786.49,600.503 1786.49,368.424 \n",
       "  \"/>\n",
       "<polyline clip-path=\"url(#clip462)\" style=\"stroke:#009af9; stroke-linecap:butt; stroke-linejoin:round; stroke-width:4; stroke-opacity:1; fill:none\" points=\"\n",
       "  1828.62,600.503 1828.62,809.503 \n",
       "  \"/>\n",
       "<polyline clip-path=\"url(#clip462)\" style=\"stroke:#009af9; stroke-linecap:butt; stroke-linejoin:round; stroke-width:4; stroke-opacity:1; fill:none\" points=\"\n",
       "  1870.75,600.503 1870.75,596.691 \n",
       "  \"/>\n",
       "<polyline clip-path=\"url(#clip462)\" style=\"stroke:#009af9; stroke-linecap:butt; stroke-linejoin:round; stroke-width:4; stroke-opacity:1; fill:none\" points=\"\n",
       "  1912.89,600.503 1912.89,362.472 \n",
       "  \"/>\n",
       "<polyline clip-path=\"url(#clip462)\" style=\"stroke:#009af9; stroke-linecap:butt; stroke-linejoin:round; stroke-width:4; stroke-opacity:1; fill:none\" points=\"\n",
       "  1955.02,600.503 1955.02,710.031 \n",
       "  \"/>\n",
       "<polyline clip-path=\"url(#clip462)\" style=\"stroke:#009af9; stroke-linecap:butt; stroke-linejoin:round; stroke-width:4; stroke-opacity:1; fill:none\" points=\"\n",
       "  1997.15,600.503 1997.15,667.641 \n",
       "  \"/>\n",
       "<polyline clip-path=\"url(#clip462)\" style=\"stroke:#009af9; stroke-linecap:butt; stroke-linejoin:round; stroke-width:4; stroke-opacity:1; fill:none\" points=\"\n",
       "  2039.29,600.503 2039.29,438.603 \n",
       "  \"/>\n",
       "<polyline clip-path=\"url(#clip462)\" style=\"stroke:#009af9; stroke-linecap:butt; stroke-linejoin:round; stroke-width:4; stroke-opacity:1; fill:none\" points=\"\n",
       "  2081.42,600.503 2081.42,511.544 \n",
       "  \"/>\n",
       "<polyline clip-path=\"url(#clip462)\" style=\"stroke:#009af9; stroke-linecap:butt; stroke-linejoin:round; stroke-width:4; stroke-opacity:1; fill:none\" points=\"\n",
       "  2123.55,600.503 2123.55,462.875 \n",
       "  \"/>\n",
       "<polyline clip-path=\"url(#clip462)\" style=\"stroke:#009af9; stroke-linecap:butt; stroke-linejoin:round; stroke-width:4; stroke-opacity:1; fill:none\" points=\"\n",
       "  2165.69,600.503 2165.69,644.614 \n",
       "  \"/>\n",
       "<polyline clip-path=\"url(#clip462)\" style=\"stroke:#009af9; stroke-linecap:butt; stroke-linejoin:round; stroke-width:4; stroke-opacity:1; fill:none\" points=\"\n",
       "  2207.82,600.503 2207.82,429.343 \n",
       "  \"/>\n",
       "<polyline clip-path=\"url(#clip462)\" style=\"stroke:#009af9; stroke-linecap:butt; stroke-linejoin:round; stroke-width:4; stroke-opacity:1; fill:none\" points=\"\n",
       "  2249.95,600.503 2249.95,622.196 \n",
       "  \"/>\n",
       "<polyline clip-path=\"url(#clip462)\" style=\"stroke:#009af9; stroke-linecap:butt; stroke-linejoin:round; stroke-width:4; stroke-opacity:1; fill:none\" points=\"\n",
       "  2292.08,600.503 2292.08,580.238 \n",
       "  \"/>\n",
       "<path clip-path=\"url(#clip460)\" d=\"\n",
       "M1825.17 272.585 L2281.3 272.585 L2281.3 168.905 L1825.17 168.905  Z\n",
       "  \" fill=\"#ffffff\" fill-rule=\"evenodd\" fill-opacity=\"1\"/>\n",
       "<polyline clip-path=\"url(#clip460)\" style=\"stroke:#000000; stroke-linecap:butt; stroke-linejoin:round; stroke-width:4; stroke-opacity:1; fill:none\" points=\"\n",
       "  1825.17,272.585 2281.3,272.585 2281.3,168.905 1825.17,168.905 1825.17,272.585 \n",
       "  \"/>\n",
       "<polyline clip-path=\"url(#clip460)\" style=\"stroke:#009af9; stroke-linecap:butt; stroke-linejoin:round; stroke-width:4; stroke-opacity:1; fill:none\" points=\"\n",
       "  1848.99,220.745 1991.9,220.745 \n",
       "  \"/>\n",
       "<path clip-path=\"url(#clip460)\" d=\"M2032.11 221.821 Q2033.61 222.33 2035.03 223.997 Q2036.46 225.664 2037.9 228.58 L2042.64 238.025 L2037.62 238.025 L2033.2 229.159 Q2031.49 225.687 2029.86 224.553 Q2028.27 223.418 2025.49 223.418 L2020.4 223.418 L2020.4 238.025 L2015.72 238.025 L2015.72 203.465 L2026.28 203.465 Q2032.2 203.465 2035.12 205.941 Q2038.04 208.418 2038.04 213.418 Q2038.04 216.682 2036.51 218.835 Q2035 220.988 2032.11 221.821 M2020.4 207.307 L2020.4 219.576 L2026.28 219.576 Q2029.66 219.576 2031.37 218.025 Q2033.11 216.451 2033.11 213.418 Q2033.11 210.386 2031.37 208.858 Q2029.66 207.307 2026.28 207.307 L2020.4 207.307 Z\" fill=\"#000000\" fill-rule=\"evenodd\" fill-opacity=\"1\" /><path clip-path=\"url(#clip460)\" d=\"M2068.52 223.997 L2068.52 226.08 L2048.94 226.08 Q2049.22 230.478 2051.58 232.793 Q2053.96 235.085 2058.2 235.085 Q2060.65 235.085 2062.94 234.483 Q2065.26 233.881 2067.53 232.677 L2067.53 236.705 Q2065.23 237.677 2062.83 238.187 Q2060.42 238.696 2057.94 238.696 Q2051.74 238.696 2048.11 235.085 Q2044.49 231.474 2044.49 225.316 Q2044.49 218.951 2047.92 215.224 Q2051.37 211.474 2057.2 211.474 Q2062.43 211.474 2065.47 214.853 Q2068.52 218.21 2068.52 223.997 M2064.26 222.747 Q2064.22 219.252 2062.3 217.168 Q2060.4 215.085 2057.25 215.085 Q2053.68 215.085 2051.53 217.099 Q2049.4 219.113 2049.08 222.77 L2064.26 222.747 Z\" fill=\"#000000\" fill-rule=\"evenodd\" fill-opacity=\"1\" /><path clip-path=\"url(#clip460)\" d=\"M2092.04 212.863 L2092.04 216.891 Q2090.23 215.965 2088.29 215.502 Q2086.35 215.039 2084.26 215.039 Q2081.09 215.039 2079.49 216.011 Q2077.92 216.983 2077.92 218.928 Q2077.92 220.409 2079.05 221.265 Q2080.19 222.099 2083.61 222.863 L2085.07 223.187 Q2089.61 224.159 2091.51 225.941 Q2093.43 227.701 2093.43 230.872 Q2093.43 234.483 2090.56 236.589 Q2087.71 238.696 2082.71 238.696 Q2080.63 238.696 2078.36 238.279 Q2076.11 237.886 2073.61 237.076 L2073.61 232.677 Q2075.98 233.904 2078.27 234.529 Q2080.56 235.131 2082.8 235.131 Q2085.81 235.131 2087.43 234.113 Q2089.05 233.071 2089.05 231.196 Q2089.05 229.46 2087.87 228.534 Q2086.72 227.608 2082.76 226.752 L2081.28 226.404 Q2077.32 225.571 2075.56 223.858 Q2073.8 222.122 2073.8 219.113 Q2073.8 215.455 2076.39 213.465 Q2078.98 211.474 2083.75 211.474 Q2086.11 211.474 2088.2 211.821 Q2090.28 212.168 2092.04 212.863 Z\" fill=\"#000000\" fill-rule=\"evenodd\" fill-opacity=\"1\" /><path clip-path=\"url(#clip460)\" d=\"M2100.21 212.099 L2104.47 212.099 L2104.47 238.025 L2100.21 238.025 L2100.21 212.099 M2100.21 202.006 L2104.47 202.006 L2104.47 207.4 L2100.21 207.4 L2100.21 202.006 Z\" fill=\"#000000\" fill-rule=\"evenodd\" fill-opacity=\"1\" /><path clip-path=\"url(#clip460)\" d=\"M2130.44 216.034 L2130.44 202.006 L2134.7 202.006 L2134.7 238.025 L2130.44 238.025 L2130.44 234.136 Q2129.1 236.451 2127.04 237.585 Q2125 238.696 2122.13 238.696 Q2117.43 238.696 2114.47 234.946 Q2111.53 231.196 2111.53 225.085 Q2111.53 218.974 2114.47 215.224 Q2117.43 211.474 2122.13 211.474 Q2125 211.474 2127.04 212.608 Q2129.1 213.719 2130.44 216.034 M2115.93 225.085 Q2115.93 229.784 2117.85 232.469 Q2119.79 235.131 2123.17 235.131 Q2126.55 235.131 2128.5 232.469 Q2130.44 229.784 2130.44 225.085 Q2130.44 220.386 2128.5 217.724 Q2126.55 215.039 2123.17 215.039 Q2119.79 215.039 2117.85 217.724 Q2115.93 220.386 2115.93 225.085 Z\" fill=\"#000000\" fill-rule=\"evenodd\" fill-opacity=\"1\" /><path clip-path=\"url(#clip460)\" d=\"M2143.04 227.793 L2143.04 212.099 L2147.29 212.099 L2147.29 227.631 Q2147.29 231.312 2148.73 233.164 Q2150.17 234.992 2153.04 234.992 Q2156.48 234.992 2158.48 232.793 Q2160.49 230.594 2160.49 226.798 L2160.49 212.099 L2164.75 212.099 L2164.75 238.025 L2160.49 238.025 L2160.49 234.043 Q2158.94 236.404 2156.88 237.562 Q2154.84 238.696 2152.13 238.696 Q2147.67 238.696 2145.35 235.918 Q2143.04 233.14 2143.04 227.793 M2153.75 211.474 L2153.75 211.474 Z\" fill=\"#000000\" fill-rule=\"evenodd\" fill-opacity=\"1\" /><path clip-path=\"url(#clip460)\" d=\"M2185.3 224.992 Q2180.14 224.992 2178.15 226.173 Q2176.16 227.353 2176.16 230.201 Q2176.16 232.469 2177.64 233.812 Q2179.15 235.131 2181.72 235.131 Q2185.26 235.131 2187.39 232.631 Q2189.54 230.108 2189.54 225.941 L2189.54 224.992 L2185.3 224.992 M2193.8 223.233 L2193.8 238.025 L2189.54 238.025 L2189.54 234.089 Q2188.08 236.451 2185.91 237.585 Q2183.73 238.696 2180.58 238.696 Q2176.6 238.696 2174.24 236.474 Q2171.9 234.228 2171.9 230.478 Q2171.9 226.103 2174.82 223.881 Q2177.76 221.659 2183.57 221.659 L2189.54 221.659 L2189.54 221.242 Q2189.54 218.303 2187.6 216.705 Q2185.67 215.085 2182.18 215.085 Q2179.96 215.085 2177.85 215.617 Q2175.74 216.15 2173.8 217.215 L2173.8 213.279 Q2176.14 212.377 2178.34 211.937 Q2180.54 211.474 2182.62 211.474 Q2188.24 211.474 2191.02 214.391 Q2193.8 217.307 2193.8 223.233 Z\" fill=\"#000000\" fill-rule=\"evenodd\" fill-opacity=\"1\" /><path clip-path=\"url(#clip460)\" d=\"M2202.57 202.006 L2206.83 202.006 L2206.83 238.025 L2202.57 238.025 L2202.57 202.006 Z\" fill=\"#000000\" fill-rule=\"evenodd\" fill-opacity=\"1\" /><path clip-path=\"url(#clip460)\" d=\"M2232.27 212.863 L2232.27 216.891 Q2230.47 215.965 2228.52 215.502 Q2226.58 215.039 2224.49 215.039 Q2221.32 215.039 2219.72 216.011 Q2218.15 216.983 2218.15 218.928 Q2218.15 220.409 2219.29 221.265 Q2220.42 222.099 2223.85 222.863 L2225.3 223.187 Q2229.84 224.159 2231.74 225.941 Q2233.66 227.701 2233.66 230.872 Q2233.66 234.483 2230.79 236.589 Q2227.94 238.696 2222.94 238.696 Q2220.86 238.696 2218.59 238.279 Q2216.35 237.886 2213.85 237.076 L2213.85 232.677 Q2216.21 233.904 2218.5 234.529 Q2220.79 235.131 2223.03 235.131 Q2226.04 235.131 2227.66 234.113 Q2229.28 233.071 2229.28 231.196 Q2229.28 229.46 2228.1 228.534 Q2226.95 227.608 2222.99 226.752 L2221.51 226.404 Q2217.55 225.571 2215.79 223.858 Q2214.03 222.122 2214.03 219.113 Q2214.03 215.455 2216.62 213.465 Q2219.22 211.474 2223.98 211.474 Q2226.35 211.474 2228.43 211.821 Q2230.51 212.168 2232.27 212.863 Z\" fill=\"#000000\" fill-rule=\"evenodd\" fill-opacity=\"1\" /></svg>\n"
      ]
     },
     "execution_count": 49,
     "metadata": {},
     "output_type": "execute_result"
    }
   ],
   "source": [
    "res = ŷ .- y\n",
    "using Plots\n",
    "plot(res, line=:stem, label=\"Residuals\", title=\"Residual on complete Dataset\")"
   ]
  },
  {
   "cell_type": "markdown",
   "metadata": {},
   "source": [
    "---\n",
    "__(4)__ _The Kaygle ML Competition:_ Kaggle has a [ML competition](https://www.kaggle.com/c/titanic/overview) from which the Kaygle competition is derived. In file _HW7-Data-test.csv_ has the factors that you can use to make a survival prediction for 21 test passengers that were not in _ML-3-Titanic-train.csv_. Your prediction for each passenger should be added to the _Prediction_ column of the table below, where 1 indicates that you are prediction that the passenger survived and 0 that they did not. There is an additional column, _ID_, in _HW7-Data-test.csv_ that can be used in place of _Name_ to identify each passenger. Your predictions will be evaluated based on their accuracy with repect to the known survival of the 21 test passengers. You can use any variations with respect to the parameter settings of `DecisionTreeClassifier` used in _ML-3_, but no other ML methods can be used. You can also consider using new features if they are derived from the original features. All of your analysis should be derived from the data in _ML-3-Titanic-train.csv_ and _HW7-Data-test.csv_ and shown in the code cells below:"
   ]
  },
  {
   "cell_type": "markdown",
   "metadata": {},
   "source": [
    "| Record | ID | Prediction |\n",
    "| ---: | ---: | ---: |\n",
    "| 1 | 100 |  | \n",
    "| 2 | 101 |  | \n",
    "| 3 | 102 |  | \n",
    "| 4 | 103 |  | \n",
    "| 5 | 104 |  | \n",
    "| 6 | 105 |  | \n",
    "| 7 | 106 |  | \n",
    "| 8 | 107 |  | \n",
    "| 9 | 108 |  | \n",
    "| 10 | 109 |  |\n",
    "| 11 | 110 |  | \n",
    "| 12 | 111 |  | \n",
    "| 13 | 112 |  | \n",
    "| 14 | 113 |  | \n",
    "| 15 | 114 |  | \n",
    "| 16 | 115 |  | \n",
    "| 17 | 116 |  | \n",
    "| 18 | 117 |  |\n",
    "| 19 | 118 |  | \n",
    "| 20 | 119 |  | \n",
    "| 21 | 120 |  | \n"
   ]
  },
  {
   "cell_type": "code",
   "execution_count": 50,
   "metadata": {},
   "outputs": [
    {
     "data": {
      "text/html": [
       "<div class=\"data-frame\"><p>10 rows × 8 columns (omitted printing of 2 columns)</p><table class=\"data-frame\"><thead><tr><th></th><th>Survived</th><th>Pclass</th><th>Name</th><th>Sex</th><th>Age</th><th>Siblings/Spouses Aboard</th></tr><tr><th></th><th title=\"Int64\">Int64</th><th title=\"Int64\">Int64</th><th title=\"String\">String</th><th title=\"String\">String</th><th title=\"Float64\">Float64</th><th title=\"Int64\">Int64</th></tr></thead><tbody><tr><th>1</th><td>1</td><td>1</td><td>Mr. Dickinson H Bishop</td><td>male</td><td>25.0</td><td>1</td></tr><tr><th>2</th><td>0</td><td>3</td><td>Miss. Aloisia Haas</td><td>female</td><td>24.0</td><td>0</td></tr><tr><th>3</th><td>0</td><td>3</td><td>Mr. William Alfred Brocklebank</td><td>male</td><td>35.0</td><td>0</td></tr><tr><th>4</th><td>0</td><td>3</td><td>Mr. Samuel Beard Risien</td><td>male</td><td>69.0</td><td>0</td></tr><tr><th>5</th><td>1</td><td>1</td><td>Mr. Harry Anderson</td><td>male</td><td>48.0</td><td>0</td></tr><tr><th>6</th><td>1</td><td>3</td><td>Mr. Bernt Johannesen-Bratthammer</td><td>male</td><td>29.0</td><td>0</td></tr><tr><th>7</th><td>0</td><td>3</td><td>Miss. Mary Bourke</td><td>female</td><td>40.0</td><td>0</td></tr><tr><th>8</th><td>0</td><td>3</td><td>Master. Henry Forbes Lefebre</td><td>male</td><td>5.0</td><td>3</td></tr><tr><th>9</th><td>0</td><td>3</td><td>Mr. Francis William Somerton</td><td>male</td><td>30.0</td><td>0</td></tr><tr><th>10</th><td>1</td><td>2</td><td>Master. Alden Gates Caldwell</td><td>male</td><td>0.83</td><td>0</td></tr></tbody></table></div>"
      ],
      "text/latex": [
       "\\begin{tabular}{r|ccccccc}\n",
       "\t& Survived & Pclass & Name & Sex & Age & Siblings/Spouses Aboard & \\\\\n",
       "\t\\hline\n",
       "\t& Int64 & Int64 & String & String & Float64 & Int64 & \\\\\n",
       "\t\\hline\n",
       "\t1 & 1 & 1 & Mr. Dickinson H Bishop & male & 25.0 & 1 & $\\dots$ \\\\\n",
       "\t2 & 0 & 3 & Miss. Aloisia Haas & female & 24.0 & 0 & $\\dots$ \\\\\n",
       "\t3 & 0 & 3 & Mr. William Alfred Brocklebank & male & 35.0 & 0 & $\\dots$ \\\\\n",
       "\t4 & 0 & 3 & Mr. Samuel Beard Risien & male & 69.0 & 0 & $\\dots$ \\\\\n",
       "\t5 & 1 & 1 & Mr. Harry Anderson & male & 48.0 & 0 & $\\dots$ \\\\\n",
       "\t6 & 1 & 3 & Mr. Bernt Johannesen-Bratthammer & male & 29.0 & 0 & $\\dots$ \\\\\n",
       "\t7 & 0 & 3 & Miss. Mary Bourke & female & 40.0 & 0 & $\\dots$ \\\\\n",
       "\t8 & 0 & 3 & Master. Henry Forbes Lefebre & male & 5.0 & 3 & $\\dots$ \\\\\n",
       "\t9 & 0 & 3 & Mr. Francis William Somerton & male & 30.0 & 0 & $\\dots$ \\\\\n",
       "\t10 & 1 & 2 & Master. Alden Gates Caldwell & male & 0.83 & 0 & $\\dots$ \\\\\n",
       "\\end{tabular}\n"
      ],
      "text/plain": [
       "\u001b[1m10×8 DataFrame\u001b[0m\n",
       "\u001b[1m Row \u001b[0m│\u001b[1m Survived \u001b[0m\u001b[1m Pclass \u001b[0m\u001b[1m Name                             \u001b[0m\u001b[1m Sex    \u001b[0m\u001b[1m Age     \u001b[0m\u001b[1m Si\u001b[0m ⋯\n",
       "\u001b[1m     \u001b[0m│\u001b[90m Int64    \u001b[0m\u001b[90m Int64  \u001b[0m\u001b[90m String                           \u001b[0m\u001b[90m String \u001b[0m\u001b[90m Float64 \u001b[0m\u001b[90m In\u001b[0m ⋯\n",
       "─────┼──────────────────────────────────────────────────────────────────────────\n",
       "   1 │        1       1  Mr. Dickinson H Bishop            male      25.0      ⋯\n",
       "   2 │        0       3  Miss. Aloisia Haas                female    24.0\n",
       "   3 │        0       3  Mr. William Alfred Brocklebank    male      35.0\n",
       "   4 │        0       3  Mr. Samuel Beard Risien           male      69.0\n",
       "   5 │        1       1  Mr. Harry Anderson                male      48.0      ⋯\n",
       "   6 │        1       3  Mr. Bernt Johannesen-Bratthammer  male      29.0\n",
       "   7 │        0       3  Miss. Mary Bourke                 female    40.0\n",
       "   8 │        0       3  Master. Henry Forbes Lefebre      male       5.0\n",
       "   9 │        0       3  Mr. Francis William Somerton      male      30.0      ⋯\n",
       "  10 │        1       2  Master. Alden Gates Caldwell      male       0.83\n",
       "\u001b[36m                                                               3 columns omitted\u001b[0m"
      ]
     },
     "execution_count": 50,
     "metadata": {},
     "output_type": "execute_result"
    }
   ],
   "source": [
    "# Importing train dataset\n",
    "using DataFrames, CSV\n",
    "file_path = \"ML-3-Titanic-train.csv\"\n",
    "df = DataFrame(CSV.File(file_path))\n",
    "first(df,10)"
   ]
  },
  {
   "cell_type": "code",
   "execution_count": 51,
   "metadata": {},
   "outputs": [
    {
     "data": {
      "text/html": [
       "<div class=\"data-frame\"><p>8 rows × 7 columns (omitted printing of 2 columns)</p><table class=\"data-frame\"><thead><tr><th></th><th>variable</th><th>mean</th><th>min</th><th>median</th><th>max</th></tr><tr><th></th><th title=\"Symbol\">Symbol</th><th title=\"Union{Nothing, Float64}\">Union…</th><th title=\"Any\">Any</th><th title=\"Union{Nothing, Float64}\">Union…</th><th title=\"Any\">Any</th></tr></thead><tbody><tr><th>1</th><td>Survived</td><td>0.394366</td><td>0</td><td>0.0</td><td>1</td></tr><tr><th>2</th><td>Pclass</td><td>2.30704</td><td>1</td><td>3.0</td><td>3</td></tr><tr><th>3</th><td>Name</td><td></td><td>Capt. Edward Gifford Crosby</td><td></td><td>Rev. Thomas Roussel Davids Byles</td></tr><tr><th>4</th><td>Sex</td><td></td><td>female</td><td></td><td>male</td></tr><tr><th>5</th><td>Age</td><td>29.4592</td><td>0.42</td><td>28.0</td><td>74.0</td></tr><tr><th>6</th><td>Siblings/Spouses Aboard</td><td>0.512676</td><td>0</td><td>0.0</td><td>8</td></tr><tr><th>7</th><td>Parents/Children Aboard</td><td>0.394366</td><td>0</td><td>0.0</td><td>6</td></tr><tr><th>8</th><td>Fare</td><td>32.3272</td><td>0.0</td><td>14.4563</td><td>512.329</td></tr></tbody></table></div>"
      ],
      "text/latex": [
       "\\begin{tabular}{r|cccccc}\n",
       "\t& variable & mean & min & median & max & \\\\\n",
       "\t\\hline\n",
       "\t& Symbol & Union… & Any & Union… & Any & \\\\\n",
       "\t\\hline\n",
       "\t1 & Survived & 0.394366 & 0 & 0.0 & 1 & $\\dots$ \\\\\n",
       "\t2 & Pclass & 2.30704 & 1 & 3.0 & 3 & $\\dots$ \\\\\n",
       "\t3 & Name &  & Capt. Edward Gifford Crosby &  & Rev. Thomas Roussel Davids Byles & $\\dots$ \\\\\n",
       "\t4 & Sex &  & female &  & male & $\\dots$ \\\\\n",
       "\t5 & Age & 29.4592 & 0.42 & 28.0 & 74.0 & $\\dots$ \\\\\n",
       "\t6 & Siblings/Spouses Aboard & 0.512676 & 0 & 0.0 & 8 & $\\dots$ \\\\\n",
       "\t7 & Parents/Children Aboard & 0.394366 & 0 & 0.0 & 6 & $\\dots$ \\\\\n",
       "\t8 & Fare & 32.3272 & 0.0 & 14.4563 & 512.329 & $\\dots$ \\\\\n",
       "\\end{tabular}\n"
      ],
      "text/plain": [
       "\u001b[1m8×7 DataFrame\u001b[0m\n",
       "\u001b[1m Row \u001b[0m│\u001b[1m variable                \u001b[0m\u001b[1m mean     \u001b[0m\u001b[1m min                         \u001b[0m\u001b[1m median \u001b[0m ⋯\n",
       "\u001b[1m     \u001b[0m│\u001b[90m Symbol                  \u001b[0m\u001b[90m Union…   \u001b[0m\u001b[90m Any                         \u001b[0m\u001b[90m Union… \u001b[0m ⋯\n",
       "─────┼──────────────────────────────────────────────────────────────────────────\n",
       "   1 │ Survived                 0.394366  0                            0.0     ⋯\n",
       "   2 │ Pclass                   2.30704   1                            3.0\n",
       "   3 │ Name                    \u001b[90m          \u001b[0m Capt. Edward Gifford Crosby \u001b[90m\u001b[0m\n",
       "   4 │ Sex                     \u001b[90m          \u001b[0m female                      \u001b[90m\u001b[0m\n",
       "   5 │ Age                      29.4592   0.42                         28.0    ⋯\n",
       "   6 │ Siblings/Spouses Aboard  0.512676  0                            0.0\n",
       "   7 │ Parents/Children Aboard  0.394366  0                            0.0\n",
       "   8 │ Fare                     32.3272   0.0                          14.4563\n",
       "\u001b[36m                                                               3 columns omitted\u001b[0m"
      ]
     },
     "execution_count": 51,
     "metadata": {},
     "output_type": "execute_result"
    }
   ],
   "source": [
    "describe(df)"
   ]
  },
  {
   "cell_type": "code",
   "execution_count": 52,
   "metadata": {},
   "outputs": [
    {
     "data": {
      "text/html": [
       "<div class=\"data-frame\"><p>5 rows × 7 columns</p><table class=\"data-frame\"><thead><tr><th></th><th>Survived</th><th>Pclass</th><th>Sex</th><th>Age</th><th>Sibsp</th><th>Parch</th><th>Fare</th></tr><tr><th></th><th title=\"Int64\">Int64</th><th title=\"Int64\">Int64</th><th title=\"String\">String</th><th title=\"Float64\">Float64</th><th title=\"Int64\">Int64</th><th title=\"Int64\">Int64</th><th title=\"Float64\">Float64</th></tr></thead><tbody><tr><th>1</th><td>1</td><td>1</td><td>male</td><td>25.0</td><td>1</td><td>0</td><td>91.0792</td></tr><tr><th>2</th><td>0</td><td>3</td><td>female</td><td>24.0</td><td>0</td><td>0</td><td>8.85</td></tr><tr><th>3</th><td>0</td><td>3</td><td>male</td><td>35.0</td><td>0</td><td>0</td><td>8.05</td></tr><tr><th>4</th><td>0</td><td>3</td><td>male</td><td>69.0</td><td>0</td><td>0</td><td>14.5</td></tr><tr><th>5</th><td>1</td><td>1</td><td>male</td><td>48.0</td><td>0</td><td>0</td><td>26.55</td></tr></tbody></table></div>"
      ],
      "text/latex": [
       "\\begin{tabular}{r|ccccccc}\n",
       "\t& Survived & Pclass & Sex & Age & Sibsp & Parch & Fare\\\\\n",
       "\t\\hline\n",
       "\t& Int64 & Int64 & String & Float64 & Int64 & Int64 & Float64\\\\\n",
       "\t\\hline\n",
       "\t1 & 1 & 1 & male & 25.0 & 1 & 0 & 91.0792 \\\\\n",
       "\t2 & 0 & 3 & female & 24.0 & 0 & 0 & 8.85 \\\\\n",
       "\t3 & 0 & 3 & male & 35.0 & 0 & 0 & 8.05 \\\\\n",
       "\t4 & 0 & 3 & male & 69.0 & 0 & 0 & 14.5 \\\\\n",
       "\t5 & 1 & 1 & male & 48.0 & 0 & 0 & 26.55 \\\\\n",
       "\\end{tabular}\n"
      ],
      "text/plain": [
       "\u001b[1m5×7 DataFrame\u001b[0m\n",
       "\u001b[1m Row \u001b[0m│\u001b[1m Survived \u001b[0m\u001b[1m Pclass \u001b[0m\u001b[1m Sex    \u001b[0m\u001b[1m Age     \u001b[0m\u001b[1m Sibsp \u001b[0m\u001b[1m Parch \u001b[0m\u001b[1m Fare    \u001b[0m\n",
       "\u001b[1m     \u001b[0m│\u001b[90m Int64    \u001b[0m\u001b[90m Int64  \u001b[0m\u001b[90m String \u001b[0m\u001b[90m Float64 \u001b[0m\u001b[90m Int64 \u001b[0m\u001b[90m Int64 \u001b[0m\u001b[90m Float64 \u001b[0m\n",
       "─────┼──────────────────────────────────────────────────────────\n",
       "   1 │        1       1  male       25.0      1      0  91.0792\n",
       "   2 │        0       3  female     24.0      0      0   8.85\n",
       "   3 │        0       3  male       35.0      0      0   8.05\n",
       "   4 │        0       3  male       69.0      0      0  14.5\n",
       "   5 │        1       1  male       48.0      0      0  26.55"
      ]
     },
     "execution_count": 52,
     "metadata": {},
     "output_type": "execute_result"
    }
   ],
   "source": [
    "rename!(df, \"Siblings/Spouses Aboard\"=>:Sibsp, \"Parents/Children Aboard\"=>:Parch)\n",
    "df = select(df, Not(:Name))\n",
    "first(df, 5)"
   ]
  },
  {
   "cell_type": "code",
   "execution_count": 53,
   "metadata": {},
   "outputs": [
    {
     "data": {
      "text/plain": [
       "┌──────────┬─────────┬────────────┐\n",
       "│\u001b[22m _.names  \u001b[0m│\u001b[22m _.types \u001b[0m│\u001b[22m _.scitypes \u001b[0m│\n",
       "├──────────┼─────────┼────────────┤\n",
       "│ Survived │ Int64   │ Count      │\n",
       "│ Pclass   │ Int64   │ Count      │\n",
       "│ Sex      │ String  │ Textual    │\n",
       "│ Age      │ Float64 │ Continuous │\n",
       "│ Sibsp    │ Int64   │ Count      │\n",
       "│ Parch    │ Int64   │ Count      │\n",
       "│ Fare     │ Float64 │ Continuous │\n",
       "└──────────┴─────────┴────────────┘\n",
       "_.nrows = 710\n"
      ]
     },
     "execution_count": 53,
     "metadata": {},
     "output_type": "execute_result"
    }
   ],
   "source": [
    "schema(df)"
   ]
  },
  {
   "cell_type": "markdown",
   "metadata": {},
   "source": [
    "## EDA(Exploratory data analysis)"
   ]
  },
  {
   "cell_type": "markdown",
   "metadata": {},
   "source": [
    "### 1. Pclass \n",
    "\n",
    "Boarding class of each passenger, check for unique values in PClass feature and look for any missing value"
   ]
  },
  {
   "cell_type": "code",
   "execution_count": 54,
   "metadata": {},
   "outputs": [
    {
     "data": {
      "text/plain": [
       "3-element Vector{Int64}:\n",
       " 1\n",
       " 3\n",
       " 2"
      ]
     },
     "execution_count": 54,
     "metadata": {},
     "output_type": "execute_result"
    }
   ],
   "source": [
    "unique(df[!,:Pclass])"
   ]
  },
  {
   "cell_type": "markdown",
   "metadata": {},
   "source": [
    "### 2. Survived \n",
    "\n",
    "Converting survial value {0,1} into ordered factor"
   ]
  },
  {
   "cell_type": "code",
   "execution_count": 55,
   "metadata": {},
   "outputs": [
    {
     "data": {
      "text/plain": [
       "┌──────────┬─────────────────────────────────┬──────────────────┐\n",
       "│\u001b[22m _.names  \u001b[0m│\u001b[22m _.types                         \u001b[0m│\u001b[22m _.scitypes       \u001b[0m│\n",
       "├──────────┼─────────────────────────────────┼──────────────────┤\n",
       "│ Survived │ CategoricalValue{Int64, UInt32} │ OrderedFactor{2} │\n",
       "│ Pclass   │ Int64                           │ Count            │\n",
       "│ Sex      │ String                          │ Textual          │\n",
       "│ Age      │ Float64                         │ Continuous       │\n",
       "│ Sibsp    │ Int64                           │ Count            │\n",
       "│ Parch    │ Int64                           │ Count            │\n",
       "│ Fare     │ Float64                         │ Continuous       │\n",
       "└──────────┴─────────────────────────────────┴──────────────────┘\n",
       "_.nrows = 710\n"
      ]
     },
     "execution_count": 55,
     "metadata": {},
     "output_type": "execute_result"
    }
   ],
   "source": [
    "df.Survived = coerce(df.Survived, OrderedFactor)\n",
    "schema(df)"
   ]
  },
  {
   "cell_type": "markdown",
   "metadata": {},
   "source": [
    "### 3. Sex\n",
    "\n",
    "Model will not understand categorical values, so we need to convert Male and Female into OrderedFactor"
   ]
  },
  {
   "cell_type": "code",
   "execution_count": 56,
   "metadata": {},
   "outputs": [
    {
     "data": {
      "text/plain": [
       "┌──────────┬─────────────────────────────────┬──────────────────┐\n",
       "│\u001b[22m _.names  \u001b[0m│\u001b[22m _.types                         \u001b[0m│\u001b[22m _.scitypes       \u001b[0m│\n",
       "├──────────┼─────────────────────────────────┼──────────────────┤\n",
       "│ Survived │ CategoricalValue{Int64, UInt32} │ OrderedFactor{2} │\n",
       "│ Pclass   │ Int64                           │ Count            │\n",
       "│ Sex      │ Int64                           │ Count            │\n",
       "│ Age      │ Float64                         │ Continuous       │\n",
       "│ Sibsp    │ Int64                           │ Count            │\n",
       "│ Parch    │ Int64                           │ Count            │\n",
       "│ Fare     │ Float64                         │ Continuous       │\n",
       "└──────────┴─────────────────────────────────┴──────────────────┘\n",
       "_.nrows = 710\n"
      ]
     },
     "execution_count": 56,
     "metadata": {},
     "output_type": "execute_result"
    }
   ],
   "source": [
    "df.Sex = coerce(df.Sex, OrderedFactor)\n",
    "df.Sex = coerce(df.Sex, Count)\n",
    "schema(df)"
   ]
  },
  {
   "cell_type": "code",
   "execution_count": 57,
   "metadata": {},
   "outputs": [
    {
     "data": {
      "text/html": [
       "<div class=\"data-frame\"><p>5 rows × 6 columns</p><table class=\"data-frame\"><thead><tr><th></th><th>Pclass</th><th>Sex</th><th>Age</th><th>Sibsp</th><th>Parch</th><th>Fare</th></tr><tr><th></th><th title=\"Int64\">Int64</th><th title=\"Int64\">Int64</th><th title=\"Float64\">Float64</th><th title=\"Int64\">Int64</th><th title=\"Int64\">Int64</th><th title=\"Float64\">Float64</th></tr></thead><tbody><tr><th>1</th><td>1</td><td>2</td><td>25.0</td><td>1</td><td>0</td><td>91.0792</td></tr><tr><th>2</th><td>3</td><td>1</td><td>24.0</td><td>0</td><td>0</td><td>8.85</td></tr><tr><th>3</th><td>3</td><td>2</td><td>35.0</td><td>0</td><td>0</td><td>8.05</td></tr><tr><th>4</th><td>3</td><td>2</td><td>69.0</td><td>0</td><td>0</td><td>14.5</td></tr><tr><th>5</th><td>1</td><td>2</td><td>48.0</td><td>0</td><td>0</td><td>26.55</td></tr></tbody></table></div>"
      ],
      "text/latex": [
       "\\begin{tabular}{r|cccccc}\n",
       "\t& Pclass & Sex & Age & Sibsp & Parch & Fare\\\\\n",
       "\t\\hline\n",
       "\t& Int64 & Int64 & Float64 & Int64 & Int64 & Float64\\\\\n",
       "\t\\hline\n",
       "\t1 & 1 & 2 & 25.0 & 1 & 0 & 91.0792 \\\\\n",
       "\t2 & 3 & 1 & 24.0 & 0 & 0 & 8.85 \\\\\n",
       "\t3 & 3 & 2 & 35.0 & 0 & 0 & 8.05 \\\\\n",
       "\t4 & 3 & 2 & 69.0 & 0 & 0 & 14.5 \\\\\n",
       "\t5 & 1 & 2 & 48.0 & 0 & 0 & 26.55 \\\\\n",
       "\\end{tabular}\n"
      ],
      "text/plain": [
       "\u001b[1m5×6 DataFrame\u001b[0m\n",
       "\u001b[1m Row \u001b[0m│\u001b[1m Pclass \u001b[0m\u001b[1m Sex   \u001b[0m\u001b[1m Age     \u001b[0m\u001b[1m Sibsp \u001b[0m\u001b[1m Parch \u001b[0m\u001b[1m Fare    \u001b[0m\n",
       "\u001b[1m     \u001b[0m│\u001b[90m Int64  \u001b[0m\u001b[90m Int64 \u001b[0m\u001b[90m Float64 \u001b[0m\u001b[90m Int64 \u001b[0m\u001b[90m Int64 \u001b[0m\u001b[90m Float64 \u001b[0m\n",
       "─────┼───────────────────────────────────────────────\n",
       "   1 │      1      2     25.0      1      0  91.0792\n",
       "   2 │      3      1     24.0      0      0   8.85\n",
       "   3 │      3      2     35.0      0      0   8.05\n",
       "   4 │      3      2     69.0      0      0  14.5\n",
       "   5 │      1      2     48.0      0      0  26.55"
      ]
     },
     "execution_count": 57,
     "metadata": {},
     "output_type": "execute_result"
    }
   ],
   "source": [
    "y = df.Survived\n",
    "X = select(df, Not(:Survived))\n",
    "first(X, 5)"
   ]
  },
  {
   "cell_type": "markdown",
   "metadata": {},
   "source": [
    "## Model1: No depth Decision Tree"
   ]
  },
  {
   "cell_type": "code",
   "execution_count": 58,
   "metadata": {},
   "outputs": [
    {
     "data": {
      "text/plain": [
       "Machine{DecisionTreeClassifier,…} trained 0 times; caches data\n",
       "  args: \n",
       "    1:\tSource @616 ⏎ `Table{Union{AbstractVector{Continuous}, AbstractVector{Count}}}`\n",
       "    2:\tSource @384 ⏎ `AbstractVector{OrderedFactor{2}}`\n"
      ]
     },
     "execution_count": 58,
     "metadata": {},
     "output_type": "execute_result"
    }
   ],
   "source": [
    "@load DecisionTreeClassifier pkg=DecisionTree verbosity=0\n",
    "model = MLJDecisionTreeInterface.DecisionTreeClassifier()\n",
    "mach = machine(model, X, y)"
   ]
  },
  {
   "cell_type": "markdown",
   "metadata": {},
   "source": [
    "#### Splitting dataset into train and validation dataset (70% train, 30% Test)"
   ]
  },
  {
   "cell_type": "code",
   "execution_count": 59,
   "metadata": {},
   "outputs": [
    {
     "data": {
      "text/plain": [
       "([101, 70, 656, 623, 103, 575, 576, 115, 506, 188  …  328, 123, 321, 318, 297, 201, 41, 184, 22, 592], [521, 77, 180, 290, 265, 86, 198, 31, 134, 209  …  79, 176, 531, 603, 606, 509, 447, 490, 478, 266])"
      ]
     },
     "execution_count": 59,
     "metadata": {},
     "output_type": "execute_result"
    }
   ],
   "source": [
    "train, val = partition(eachindex(y), 0.7, shuffle=true, rng=7245)"
   ]
  },
  {
   "cell_type": "code",
   "execution_count": 60,
   "metadata": {},
   "outputs": [
    {
     "data": {
      "text/plain": [
       "(Decision Tree\n",
       "Leaves: 105\n",
       "Depth:  19, CategoricalArrays.CategoricalValue{Int64, UInt32}[0, 1], UInt32[0x00000001, 0x00000002])"
      ]
     },
     "execution_count": 60,
     "metadata": {},
     "output_type": "execute_result"
    }
   ],
   "source": [
    "# Fit the base Decision Tree classifier with training datast\n",
    "fit!(mach, rows=train, verbosity=0)\n",
    "mach.fitresult"
   ]
  },
  {
   "cell_type": "code",
   "execution_count": 61,
   "metadata": {},
   "outputs": [
    {
     "name": "stdout",
     "output_type": "stream",
     "text": [
      "Feature 2, Threshold 1.5\n",
      "L-> Feature 1, Threshold 2.5\n",
      "    L-> Feature 3, Threshold 3.0\n",
      "        L-> 1 : 1/1\n",
      "        R-> \n",
      "    R-> Feature 6, Threshold 22.90415\n",
      "        L-> \n",
      "        R-> \n",
      "R-> Feature 3, Threshold 13.0\n",
      "    L-> Feature 4, Threshold 2.5\n",
      "        L-> 2 : 15/15\n",
      "        R-> 1 : 9/9\n",
      "    R-> Feature 6, Threshold 26.26875\n",
      "        L-> \n",
      "        R-> \n"
     ]
    }
   ],
   "source": [
    "# Without any depth cnstraint, the model has a depth of 19\n",
    "report(mach).print_tree(3)"
   ]
  },
  {
   "cell_type": "markdown",
   "metadata": {},
   "source": [
    "#### Model Accuracy"
   ]
  },
  {
   "cell_type": "code",
   "execution_count": 62,
   "metadata": {},
   "outputs": [
    {
     "data": {
      "text/plain": [
       "              ┌───────────────────────────┐\n",
       "              │       Ground Truth        │\n",
       "┌─────────────┼─────────────┬─────────────┤\n",
       "│  Predicted  │      0      │      1      │\n",
       "├─────────────┼─────────────┼─────────────┤\n",
       "│      0      │     113     │     32      │\n",
       "├─────────────┼─────────────┼─────────────┤\n",
       "│      1      │     22      │     46      │\n",
       "└─────────────┴─────────────┴─────────────┘\n"
      ]
     },
     "execution_count": 62,
     "metadata": {},
     "output_type": "execute_result"
    }
   ],
   "source": [
    "# creating a confusion matrix between actual and predicted values of validation datset\n",
    "ŷ = predict_mode(mach, rows=val)\n",
    "confusion_matrix(ŷ, y[val])"
   ]
  },
  {
   "cell_type": "code",
   "execution_count": 63,
   "metadata": {},
   "outputs": [
    {
     "name": "stdout",
     "output_type": "stream",
     "text": [
      "The accuracy of base Decision tree Classifier on validation dataset is: 74.64788732394366%\n"
     ]
    }
   ],
   "source": [
    "# Accuracy = Correct Prediction/ Total number of rows\n",
    "println(\"The accuracy of base Decision tree Classifier on validation dataset is: \", accuracy(ŷ, y[val])*100, \"%\")"
   ]
  },
  {
   "cell_type": "markdown",
   "metadata": {},
   "source": [
    "## HyperParameter tuning\n",
    "\n",
    "In case of decision tree, it is desirable to have constraint on the depth of the Tree"
   ]
  },
  {
   "cell_type": "code",
   "execution_count": 64,
   "metadata": {},
   "outputs": [
    {
     "data": {
      "text/plain": [
       "DecisionTreeClassifier(\n",
       "    max_depth = 6,\n",
       "    min_samples_leaf = 1,\n",
       "    min_samples_split = 2,\n",
       "    min_purity_increase = 0.0,\n",
       "    n_subfeatures = 0,\n",
       "    post_prune = false,\n",
       "    merge_purity_threshold = 1.0,\n",
       "    pdf_smoothing = 0.0,\n",
       "    display_depth = 5,\n",
       "    rng = Random._GLOBAL_RNG())"
      ]
     },
     "execution_count": 64,
     "metadata": {},
     "output_type": "execute_result"
    }
   ],
   "source": [
    "# creating a new model, here depth is limited to 6 only\n",
    "model2 = MLJDecisionTreeInterface.DecisionTreeClassifier(max_depth = 6)"
   ]
  },
  {
   "cell_type": "code",
   "execution_count": 65,
   "metadata": {},
   "outputs": [
    {
     "name": "stdout",
     "output_type": "stream",
     "text": [
      "Feature 2, Threshold 1.5\n",
      "L-> Feature 1, Threshold 2.5\n",
      "    L-> Feature 3, Threshold 3.0\n",
      "        L-> 1 : 1/1\n",
      "        R-> Feature 6, Threshold 28.85625\n",
      "            L-> Feature 3, Threshold 43.0\n",
      "                L-> Feature 3, Threshold 25.5\n",
      "                    L-> 2 : 15/15\n",
      "                    R-> 2 : 21/24\n",
      "                R-> Feature 5, Threshold 1.5\n",
      "                    L-> 1 : 3/3\n",
      "                    R-> 2 : 1/1\n",
      "            R-> Feature 5, Threshold 1.5\n",
      "                L-> 2 : 58/58\n",
      "                R-> Feature 6, Threshold 135.775\n",
      "                    L-> 2 : 4/4\n",
      "                    R-> 2 : 1/2\n",
      "    R-> Feature 6, Threshold 22.90415\n",
      "        L-> Feature 6, Threshold 18.62915\n",
      "            L-> Feature 3, Threshold 36.5\n",
      "                L-> Feature 3, Threshold 32.5\n",
      "                    L-> 2 : 26/47\n",
      "                    R-> 2 : 5/5\n",
      "                R-> Feature 3, Threshold 62.5\n",
      "                    L-> 1 : 5/5\n",
      "                    R-> 2 : 1/1\n",
      "            R-> 2 : 7/7\n",
      "        R-> Feature 3, Threshold 5.5\n",
      "            L-> Feature 6, Threshold 31.331249999999997\n",
      "                L-> 1 : 2/2\n",
      "                R-> 2 : 1/1\n",
      "            R-> 1 : 14/14\n",
      "R-> Feature 3, Threshold 13.0\n",
      "    L-> Feature 4, Threshold 2.5\n",
      "        L-> 2 : 15/15\n",
      "        R-> 1 : 9/9\n",
      "    R-> Feature 6, Threshold 26.26875\n",
      "        L-> Feature 3, Threshold 32.5\n",
      "            L-> Feature 3, Threshold 28.75\n",
      "                L-> Feature 3, Threshold 27.5\n",
      "                    L-> 1 : 91/103\n",
      "                    R-> 1 : 9/9\n",
      "                R-> Feature 6, Threshold 7.7625\n",
      "                    L-> 1 : 6/6\n",
      "                    R-> 1 : 17/27\n",
      "            R-> Feature 6, Threshold 7.987500000000001\n",
      "                L-> Feature 6, Threshold 7.9104\n",
      "                    L-> 1 : 26/26\n",
      "                    R-> 2 : 2/3\n",
      "                R-> 1 : 43/43\n",
      "        R-> Feature 3, Threshold 58.0\n",
      "            L-> Feature 5, Threshold 0.5\n",
      "                L-> Feature 1, Threshold 2.5\n",
      "                    L-> 1 : 22/39\n",
      "                    R-> 2 : 4/4\n",
      "                R-> Feature 3, Threshold 23.5\n",
      "                    L-> 1 : 4/6\n",
      "                    R-> 1 : 10/10\n",
      "            R-> 1 : 7/7\n"
     ]
    }
   ],
   "source": [
    "# Training model with train dataset\n",
    "mach2 = machine(model2, X, y)\n",
    "fit!(mach2, rows=train, verbosity=0)\n",
    "report(mach2).print_tree(6)"
   ]
  },
  {
   "cell_type": "code",
   "execution_count": 66,
   "metadata": {},
   "outputs": [
    {
     "data": {
      "text/plain": [
       "              ┌───────────────────────────┐\n",
       "              │       Ground Truth        │\n",
       "┌─────────────┼─────────────┬─────────────┤\n",
       "│  Predicted  │      0      │      1      │\n",
       "├─────────────┼─────────────┼─────────────┤\n",
       "│      0      │     126     │     27      │\n",
       "├─────────────┼─────────────┼─────────────┤\n",
       "│      1      │      9      │     51      │\n",
       "└─────────────┴─────────────┴─────────────┘\n"
      ]
     },
     "execution_count": 66,
     "metadata": {},
     "output_type": "execute_result"
    }
   ],
   "source": [
    "# prediction from model\n",
    "ŷ = predict_mode(mach2, rows=val)\n",
    "confusion_matrix(ŷ, y[val])"
   ]
  },
  {
   "cell_type": "code",
   "execution_count": 67,
   "metadata": {},
   "outputs": [
    {
     "name": "stdout",
     "output_type": "stream",
     "text": [
      "The accuracy of base Decision tree Classifier on validation dataset is: 83.09859154929578%\n"
     ]
    }
   ],
   "source": [
    "# Accuracy = Correct Prediction/ Total number of rows\n",
    "println(\"The accuracy of base Decision tree Classifier on validation dataset is: \", accuracy(ŷ, y[val])*100, \"%\")"
   ]
  },
  {
   "cell_type": "markdown",
   "metadata": {},
   "source": [
    "## From confusion matrix it is evident that the there is an increase in TRUE POSITIVE and TRUE NEGATIVE (correct prediction), a desirable condition for an efficient model. Accuracy of model also increased from 75% to 83%"
   ]
  },
  {
   "cell_type": "markdown",
   "metadata": {},
   "source": [
    "###  Decision tree model performance on test dataset "
   ]
  },
  {
   "cell_type": "code",
   "execution_count": 68,
   "metadata": {},
   "outputs": [
    {
     "data": {
      "text/html": [
       "<div class=\"data-frame\"><p>5 rows × 8 columns (omitted printing of 2 columns)</p><table class=\"data-frame\"><thead><tr><th></th><th>ID</th><th>Pclass</th><th>Name</th><th>Sex</th><th>Age</th><th>Siblings/Spouses Aboard</th></tr><tr><th></th><th title=\"Int64\">Int64</th><th title=\"Int64\">Int64</th><th title=\"String\">String</th><th title=\"String\">String</th><th title=\"Int64\">Int64</th><th title=\"Int64\">Int64</th></tr></thead><tbody><tr><th>1</th><td>100</td><td>3</td><td>Miss. Mabel Skoog</td><td>female</td><td>9</td><td>3</td></tr><tr><th>2</th><td>101</td><td>3</td><td>Mr. Youssef Samaan</td><td>male</td><td>16</td><td>2</td></tr><tr><th>3</th><td>102</td><td>2</td><td>Mr. Leonard Mark Hickman</td><td>male</td><td>24</td><td>2</td></tr><tr><th>4</th><td>103</td><td>1</td><td>Mr. Frederick Maxfield Hoyt</td><td>male</td><td>38</td><td>1</td></tr><tr><th>5</th><td>104</td><td>3</td><td>Mr. Henry Jr Sutehall</td><td>male</td><td>25</td><td>0</td></tr></tbody></table></div>"
      ],
      "text/latex": [
       "\\begin{tabular}{r|ccccccc}\n",
       "\t& ID & Pclass & Name & Sex & Age & Siblings/Spouses Aboard & \\\\\n",
       "\t\\hline\n",
       "\t& Int64 & Int64 & String & String & Int64 & Int64 & \\\\\n",
       "\t\\hline\n",
       "\t1 & 100 & 3 & Miss. Mabel Skoog & female & 9 & 3 & $\\dots$ \\\\\n",
       "\t2 & 101 & 3 & Mr. Youssef Samaan & male & 16 & 2 & $\\dots$ \\\\\n",
       "\t3 & 102 & 2 & Mr. Leonard Mark Hickman & male & 24 & 2 & $\\dots$ \\\\\n",
       "\t4 & 103 & 1 & Mr. Frederick Maxfield Hoyt & male & 38 & 1 & $\\dots$ \\\\\n",
       "\t5 & 104 & 3 & Mr. Henry Jr Sutehall & male & 25 & 0 & $\\dots$ \\\\\n",
       "\\end{tabular}\n"
      ],
      "text/plain": [
       "\u001b[1m5×8 DataFrame\u001b[0m\n",
       "\u001b[1m Row \u001b[0m│\u001b[1m ID    \u001b[0m\u001b[1m Pclass \u001b[0m\u001b[1m Name                        \u001b[0m\u001b[1m Sex    \u001b[0m\u001b[1m Age   \u001b[0m\u001b[1m Siblings/Spo\u001b[0m ⋯\n",
       "\u001b[1m     \u001b[0m│\u001b[90m Int64 \u001b[0m\u001b[90m Int64  \u001b[0m\u001b[90m String                      \u001b[0m\u001b[90m String \u001b[0m\u001b[90m Int64 \u001b[0m\u001b[90m Int64       \u001b[0m ⋯\n",
       "─────┼──────────────────────────────────────────────────────────────────────────\n",
       "   1 │   100       3  Miss. Mabel Skoog            female      9               ⋯\n",
       "   2 │   101       3  Mr. Youssef Samaan           male       16\n",
       "   3 │   102       2  Mr. Leonard Mark Hickman     male       24\n",
       "   4 │   103       1  Mr. Frederick Maxfield Hoyt  male       38\n",
       "   5 │   104       3  Mr. Henry Jr Sutehall        male       25               ⋯\n",
       "\u001b[36m                                                               3 columns omitted\u001b[0m"
      ]
     },
     "execution_count": 68,
     "metadata": {},
     "output_type": "execute_result"
    }
   ],
   "source": [
    "test_file = \"HW7-Data-test.csv\"\n",
    "testDf = DataFrame(CSV.File(test_file))\n",
    "first(testDf,5)\n",
    "    "
   ]
  },
  {
   "cell_type": "code",
   "execution_count": 69,
   "metadata": {},
   "outputs": [
    {
     "data": {
      "text/plain": [
       "┌─────────────────────────┬─────────┬────────────┐\n",
       "│\u001b[22m _.names                 \u001b[0m│\u001b[22m _.types \u001b[0m│\u001b[22m _.scitypes \u001b[0m│\n",
       "├─────────────────────────┼─────────┼────────────┤\n",
       "│ ID                      │ Int64   │ Count      │\n",
       "│ Pclass                  │ Int64   │ Count      │\n",
       "│ Name                    │ String  │ Textual    │\n",
       "│ Sex                     │ String  │ Textual    │\n",
       "│ Age                     │ Int64   │ Count      │\n",
       "│ Siblings/Spouses Aboard │ Int64   │ Count      │\n",
       "│ Parents/Children Aboard │ Int64   │ Count      │\n",
       "│ Fare                    │ Float64 │ Continuous │\n",
       "└─────────────────────────┴─────────┴────────────┘\n",
       "_.nrows = 21\n"
      ]
     },
     "execution_count": 69,
     "metadata": {},
     "output_type": "execute_result"
    }
   ],
   "source": [
    "schema(testDf)"
   ]
  },
  {
   "cell_type": "markdown",
   "metadata": {},
   "source": [
    "### We have to perform following EDA on the test dataset, so that model can recognize the features and utilize the trained parameter\n",
    "\n",
    "1. Survival class is absent (So no need to exclude from the dataset)\n",
    "2. Need to convert SEX categorical class to Ordinal\n",
    "3. Renaming Siblings/Spouses Aboard\n",
    "4. Renaming Parents/Children Aboard"
   ]
  },
  {
   "cell_type": "code",
   "execution_count": 70,
   "metadata": {
    "scrolled": true
   },
   "outputs": [
    {
     "data": {
      "text/html": [
       "<div class=\"data-frame\"><p>5 rows × 7 columns</p><table class=\"data-frame\"><thead><tr><th></th><th>ID</th><th>Pclass</th><th>Sex</th><th>Age</th><th>Sibsp</th><th>Parch</th><th>Fare</th></tr><tr><th></th><th title=\"Int64\">Int64</th><th title=\"Int64\">Int64</th><th title=\"Int64\">Int64</th><th title=\"Float64\">Float64</th><th title=\"Int64\">Int64</th><th title=\"Int64\">Int64</th><th title=\"Float64\">Float64</th></tr></thead><tbody><tr><th>1</th><td>100</td><td>3</td><td>1</td><td>9.0</td><td>3</td><td>2</td><td>27.9</td></tr><tr><th>2</th><td>101</td><td>3</td><td>2</td><td>16.0</td><td>2</td><td>0</td><td>21.6792</td></tr><tr><th>3</th><td>102</td><td>2</td><td>2</td><td>24.0</td><td>2</td><td>0</td><td>73.5</td></tr><tr><th>4</th><td>103</td><td>1</td><td>2</td><td>38.0</td><td>1</td><td>0</td><td>90.0</td></tr><tr><th>5</th><td>104</td><td>3</td><td>2</td><td>25.0</td><td>0</td><td>0</td><td>7.05</td></tr></tbody></table></div>"
      ],
      "text/latex": [
       "\\begin{tabular}{r|ccccccc}\n",
       "\t& ID & Pclass & Sex & Age & Sibsp & Parch & Fare\\\\\n",
       "\t\\hline\n",
       "\t& Int64 & Int64 & Int64 & Float64 & Int64 & Int64 & Float64\\\\\n",
       "\t\\hline\n",
       "\t1 & 100 & 3 & 1 & 9.0 & 3 & 2 & 27.9 \\\\\n",
       "\t2 & 101 & 3 & 2 & 16.0 & 2 & 0 & 21.6792 \\\\\n",
       "\t3 & 102 & 2 & 2 & 24.0 & 2 & 0 & 73.5 \\\\\n",
       "\t4 & 103 & 1 & 2 & 38.0 & 1 & 0 & 90.0 \\\\\n",
       "\t5 & 104 & 3 & 2 & 25.0 & 0 & 0 & 7.05 \\\\\n",
       "\\end{tabular}\n"
      ],
      "text/plain": [
       "\u001b[1m5×7 DataFrame\u001b[0m\n",
       "\u001b[1m Row \u001b[0m│\u001b[1m ID    \u001b[0m\u001b[1m Pclass \u001b[0m\u001b[1m Sex   \u001b[0m\u001b[1m Age     \u001b[0m\u001b[1m Sibsp \u001b[0m\u001b[1m Parch \u001b[0m\u001b[1m Fare    \u001b[0m\n",
       "\u001b[1m     \u001b[0m│\u001b[90m Int64 \u001b[0m\u001b[90m Int64  \u001b[0m\u001b[90m Int64 \u001b[0m\u001b[90m Float64 \u001b[0m\u001b[90m Int64 \u001b[0m\u001b[90m Int64 \u001b[0m\u001b[90m Float64 \u001b[0m\n",
       "─────┼──────────────────────────────────────────────────────\n",
       "   1 │   100       3      1      9.0      3      2  27.9\n",
       "   2 │   101       3      2     16.0      2      0  21.6792\n",
       "   3 │   102       2      2     24.0      2      0  73.5\n",
       "   4 │   103       1      2     38.0      1      0  90.0\n",
       "   5 │   104       3      2     25.0      0      0   7.05"
      ]
     },
     "execution_count": 70,
     "metadata": {},
     "output_type": "execute_result"
    }
   ],
   "source": [
    "rename!(testDf, \"Siblings/Spouses Aboard\"=>:Sibsp, \"Parents/Children Aboard\"=>:Parch)\n",
    "testDf = select(testDf, Not(:Name))\n",
    "\n",
    "testDf.Sex = coerce(testDf.Sex, OrderedFactor)\n",
    "testDf.Sex = coerce(testDf.Sex, Count)\n",
    "testDf.Age = coerce(testDf.Age, Continuous)\n",
    "\n",
    "\n",
    "first(testDf,5)"
   ]
  },
  {
   "cell_type": "markdown",
   "metadata": {},
   "source": [
    "## Prediction on the test dataset"
   ]
  },
  {
   "cell_type": "code",
   "execution_count": 71,
   "metadata": {},
   "outputs": [
    {
     "data": {
      "text/html": [
       "<div class=\"data-frame\"><p>21 rows × 2 columns</p><table class=\"data-frame\"><thead><tr><th></th><th>ID</th><th>Prediction</th></tr><tr><th></th><th title=\"Int64\">Int64</th><th title=\"CategoricalArrays.CategoricalValue{Int64, UInt32}\">Cat…</th></tr></thead><tbody><tr><th>1</th><td>100</td><td>0</td></tr><tr><th>2</th><td>101</td><td>0</td></tr><tr><th>3</th><td>102</td><td>0</td></tr><tr><th>4</th><td>103</td><td>1</td></tr><tr><th>5</th><td>104</td><td>0</td></tr><tr><th>6</th><td>105</td><td>1</td></tr><tr><th>7</th><td>106</td><td>0</td></tr><tr><th>8</th><td>107</td><td>0</td></tr><tr><th>9</th><td>108</td><td>1</td></tr><tr><th>10</th><td>109</td><td>0</td></tr><tr><th>11</th><td>110</td><td>1</td></tr><tr><th>12</th><td>111</td><td>0</td></tr><tr><th>13</th><td>112</td><td>0</td></tr><tr><th>14</th><td>113</td><td>1</td></tr><tr><th>15</th><td>114</td><td>0</td></tr><tr><th>16</th><td>115</td><td>0</td></tr><tr><th>17</th><td>116</td><td>0</td></tr><tr><th>18</th><td>117</td><td>1</td></tr><tr><th>19</th><td>118</td><td>1</td></tr><tr><th>20</th><td>119</td><td>1</td></tr><tr><th>21</th><td>120</td><td>0</td></tr></tbody></table></div>"
      ],
      "text/latex": [
       "\\begin{tabular}{r|cc}\n",
       "\t& ID & Prediction\\\\\n",
       "\t\\hline\n",
       "\t& Int64 & Cat…\\\\\n",
       "\t\\hline\n",
       "\t1 & 100 & 0 \\\\\n",
       "\t2 & 101 & 0 \\\\\n",
       "\t3 & 102 & 0 \\\\\n",
       "\t4 & 103 & 1 \\\\\n",
       "\t5 & 104 & 0 \\\\\n",
       "\t6 & 105 & 1 \\\\\n",
       "\t7 & 106 & 0 \\\\\n",
       "\t8 & 107 & 0 \\\\\n",
       "\t9 & 108 & 1 \\\\\n",
       "\t10 & 109 & 0 \\\\\n",
       "\t11 & 110 & 1 \\\\\n",
       "\t12 & 111 & 0 \\\\\n",
       "\t13 & 112 & 0 \\\\\n",
       "\t14 & 113 & 1 \\\\\n",
       "\t15 & 114 & 0 \\\\\n",
       "\t16 & 115 & 0 \\\\\n",
       "\t17 & 116 & 0 \\\\\n",
       "\t18 & 117 & 1 \\\\\n",
       "\t19 & 118 & 1 \\\\\n",
       "\t20 & 119 & 1 \\\\\n",
       "\t21 & 120 & 0 \\\\\n",
       "\\end{tabular}\n"
      ],
      "text/plain": [
       "\u001b[1m21×2 DataFrame\u001b[0m\n",
       "\u001b[1m Row \u001b[0m│\u001b[1m ID    \u001b[0m\u001b[1m Prediction \u001b[0m\n",
       "\u001b[1m     \u001b[0m│\u001b[90m Int64 \u001b[0m\u001b[90m Cat…       \u001b[0m\n",
       "─────┼───────────────────\n",
       "   1 │   100  0\n",
       "   2 │   101  0\n",
       "   3 │   102  0\n",
       "   4 │   103  1\n",
       "   5 │   104  0\n",
       "   6 │   105  1\n",
       "   7 │   106  0\n",
       "   8 │   107  0\n",
       "   9 │   108  1\n",
       "  10 │   109  0\n",
       "  11 │   110  1\n",
       "  12 │   111  0\n",
       "  13 │   112  0\n",
       "  14 │   113  1\n",
       "  15 │   114  0\n",
       "  16 │   115  0\n",
       "  17 │   116  0\n",
       "  18 │   117  1\n",
       "  19 │   118  1\n",
       "  20 │   119  1\n",
       "  21 │   120  0"
      ]
     },
     "execution_count": 71,
     "metadata": {},
     "output_type": "execute_result"
    }
   ],
   "source": [
    "ŷ = predict_mode(mach2, testDf)\n",
    "\n",
    "# Storing result in a DataFrame\n",
    "result = DataFrame(ID = testDf.ID,\n",
    "                    Prediction = ŷ)"
   ]
  }
 ],
 "metadata": {
  "kernelspec": {
   "display_name": "Julia 1.6.2",
   "language": "julia",
   "name": "julia-1.6"
  },
  "language_info": {
   "file_extension": ".jl",
   "mimetype": "application/julia",
   "name": "julia",
   "version": "1.6.2"
  }
 },
 "nbformat": 4,
 "nbformat_minor": 4
}
