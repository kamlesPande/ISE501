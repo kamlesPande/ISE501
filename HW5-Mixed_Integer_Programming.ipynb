{
 "cells": [
  {
   "cell_type": "markdown",
   "metadata": {},
   "source": [
    "# HW 5: Mixed-Integer Programming\n",
    "---\n",
    "## OR/ISE 501 - Fall 2021\n",
    "__Assigned:__ Tue, 12 Oct (Groups of 2)  \n",
    "__Due:__ 11:59p, Tue, 19 Oct\n",
    "\n",
    "__Group Members:__ Kamlesh Pandey & Ronak Dhongde\n",
    "\n",
    "Please use the Code cells in this Jupyter notebook to answer each of the following questions. You can add additional cells for each question if that helps in organizing your solution. Please run all of the cells in your notebook and then submit it via Moodle. (There is a _Run All Cells_ command under the _Run_ menu.)"
   ]
  },
  {
   "cell_type": "markdown",
   "metadata": {},
   "source": [
    "---\n",
    "__(1)__ Continuing with Question 2 from _HW 3_, just before purchasing the items, you found out that, in addition to the 30-pound weight and three-cubic-foot cube limits, the items can only be purchased in unit-sized packages. The table below lists the weight (lb) and cube (in3) of each unit along with maximum and minimum order size (units) and the sale and purchase prices (\\$/unit). Either zero units or at least the minimum order size of each item must be purchased. Also, due to cross-contamination of odors, ginger and tea cannot both be purchased.\n",
    "\n",
    "```\n",
    "     │ Item     UnitWt  UnitCube  MaxOrder  MinOrder  SalePrice  PurPrice\n",
    "─────┼────────────────────────────────────────────────────────────────────\n",
    "   1 │ Coffee        4       216         5         1         24         8\n",
    "   2 │ Peppers       3       648         2         1         45        18\n",
    "   3 │ Ginger        1        58         5         2          8         1\n",
    "   4 │ Tea           1       864         6         2         35         5\n",
    "   5 │ Candy         2       173         4         3         12         2\n",
    "```\n",
    "\n",
    "__(1*a*)__ How many units of each item should be purchased?"
   ]
  },
  {
   "cell_type": "code",
   "execution_count": 1,
   "metadata": {},
   "outputs": [
    {
     "data": {
      "text/html": [
       "<div class=\"data-frame\"><p>5 rows × 7 columns</p><table class=\"data-frame\"><thead><tr><th></th><th>item</th><th>UnitWt</th><th>UnitCube</th><th>MaxOrder</th><th>MinOrder</th><th>SalePrice</th><th>PurPrice</th></tr><tr><th></th><th title=\"String\">String</th><th title=\"Int64\">Int64</th><th title=\"Float64\">Float64</th><th title=\"Int64\">Int64</th><th title=\"Int64\">Int64</th><th title=\"Int64\">Int64</th><th title=\"Int64\">Int64</th></tr></thead><tbody><tr><th>1</th><td>Coffee</td><td>4</td><td>0.110592</td><td>5</td><td>1</td><td>24</td><td>8</td></tr><tr><th>2</th><td>Peppers</td><td>3</td><td>0.331776</td><td>2</td><td>1</td><td>45</td><td>18</td></tr><tr><th>3</th><td>Ginger</td><td>1</td><td>0.029696</td><td>5</td><td>2</td><td>8</td><td>1</td></tr><tr><th>4</th><td>Tea</td><td>1</td><td>0.442368</td><td>6</td><td>2</td><td>35</td><td>5</td></tr><tr><th>5</th><td>Candy</td><td>2</td><td>0.088576</td><td>4</td><td>3</td><td>12</td><td>2</td></tr></tbody></table></div>"
      ],
      "text/latex": [
       "\\begin{tabular}{r|ccccccc}\n",
       "\t& item & UnitWt & UnitCube & MaxOrder & MinOrder & SalePrice & PurPrice\\\\\n",
       "\t\\hline\n",
       "\t& String & Int64 & Float64 & Int64 & Int64 & Int64 & Int64\\\\\n",
       "\t\\hline\n",
       "\t1 & Coffee & 4 & 0.110592 & 5 & 1 & 24 & 8 \\\\\n",
       "\t2 & Peppers & 3 & 0.331776 & 2 & 1 & 45 & 18 \\\\\n",
       "\t3 & Ginger & 1 & 0.029696 & 5 & 2 & 8 & 1 \\\\\n",
       "\t4 & Tea & 1 & 0.442368 & 6 & 2 & 35 & 5 \\\\\n",
       "\t5 & Candy & 2 & 0.088576 & 4 & 3 & 12 & 2 \\\\\n",
       "\\end{tabular}\n"
      ],
      "text/plain": [
       "\u001b[1m5×7 DataFrame\u001b[0m\n",
       "\u001b[1m Row \u001b[0m│\u001b[1m item    \u001b[0m\u001b[1m UnitWt \u001b[0m\u001b[1m UnitCube \u001b[0m\u001b[1m MaxOrder \u001b[0m\u001b[1m MinOrder \u001b[0m\u001b[1m SalePrice \u001b[0m\u001b[1m PurPrice \u001b[0m\n",
       "\u001b[1m     \u001b[0m│\u001b[90m String  \u001b[0m\u001b[90m Int64  \u001b[0m\u001b[90m Float64  \u001b[0m\u001b[90m Int64    \u001b[0m\u001b[90m Int64    \u001b[0m\u001b[90m Int64     \u001b[0m\u001b[90m Int64    \u001b[0m\n",
       "─────┼────────────────────────────────────────────────────────────────────\n",
       "   1 │ Coffee        4  0.110592         5         1         24         8\n",
       "   2 │ Peppers       3  0.331776         2         1         45        18\n",
       "   3 │ Ginger        1  0.029696         5         2          8         1\n",
       "   4 │ Tea           1  0.442368         6         2         35         5\n",
       "   5 │ Candy         2  0.088576         4         3         12         2"
      ]
     },
     "execution_count": 1,
     "metadata": {},
     "output_type": "execute_result"
    }
   ],
   "source": [
    "using Plots,JuMP, GLPK, DataFrames\n",
    "\n",
    "df = DataFrame(item = [\"Coffee\", \"Peppers\", \"Ginger\", \"Tea\", \"Candy\"],\n",
    "                UnitWt = [4,3,1,1,2],\n",
    "                UnitCube = [216*(0.08)^3, 648*(0.08)^3, 58*(0.08)^3, 864*(0.08)^3, 173*(0.08)^3],   #convert into foot\n",
    "                MaxOrder = [5,2,5,6,4],  \n",
    "                MinOrder = [1,1,2,2,3], \n",
    "                SalePrice = [24,45,8,35,12],\n",
    "                PurPrice = [8,18,1,5,2])"
   ]
  },
  {
   "cell_type": "code",
   "execution_count": 2,
   "metadata": {},
   "outputs": [
    {
     "data": {
      "text/latex": [
       "$$ \\begin{aligned}\n",
       "\\max\\quad & 16 x_{1} + 27 x_{2} + 7 x_{3} + 30 x_{4} + 10 x_{5}\\\\\n",
       "\\text{Subject to} \\quad & y_{3} + y_{4} = 1.0\\\\\n",
       " & x_{1} - y_{1} \\geq 0.0\\\\\n",
       " & x_{2} - y_{2} \\geq 0.0\\\\\n",
       " & x_{3} - 2 y_{3} \\geq 0.0\\\\\n",
       " & x_{4} - 2 y_{4} \\geq 0.0\\\\\n",
       " & x_{5} - 3 y_{5} \\geq 0.0\\\\\n",
       " & 8 x_{1} + 18 x_{2} + x_{3} + 5 x_{4} + 2 x_{5} \\leq 120.0\\\\\n",
       " & 4 x_{1} + 3 x_{2} + x_{3} + x_{4} + 2 x_{5} \\leq 30.0\\\\\n",
       " & 0.11059200000000002 x_{1} + 0.33177600000000007 x_{2} + 0.029696000000000004 x_{3} + 0.4423680000000001 x_{4} + 0.08857600000000002 x_{5} \\leq 3.0\\\\\n",
       " & x_{1} - 5 y_{1} \\leq 0.0\\\\\n",
       " & x_{2} - 2 y_{2} \\leq 0.0\\\\\n",
       " & x_{3} - 5 y_{3} \\leq 0.0\\\\\n",
       " & x_{4} - 6 y_{4} \\leq 0.0\\\\\n",
       " & x_{5} - 4 y_{5} \\leq 0.0\\\\\n",
       " & x_{1} \\geq 0.0\\\\\n",
       " & x_{2} \\geq 0.0\\\\\n",
       " & x_{3} \\geq 0.0\\\\\n",
       " & x_{4} \\geq 0.0\\\\\n",
       " & x_{5} \\geq 0.0\\\\\n",
       " & x_{1} \\leq 5.0\\\\\n",
       " & x_{2} \\leq 2.0\\\\\n",
       " & x_{3} \\leq 5.0\\\\\n",
       " & x_{4} \\leq 6.0\\\\\n",
       " & x_{5} \\leq 4.0\\\\\n",
       " & x_{1} \\in \\mathbb{Z}\\\\\n",
       " & x_{2} \\in \\mathbb{Z}\\\\\n",
       " & x_{3} \\in \\mathbb{Z}\\\\\n",
       " & x_{4} \\in \\mathbb{Z}\\\\\n",
       " & x_{5} \\in \\mathbb{Z}\\\\\n",
       " & y_{1} \\in \\{0, 1\\}\\\\\n",
       " & y_{2} \\in \\{0, 1\\}\\\\\n",
       " & y_{3} \\in \\{0, 1\\}\\\\\n",
       " & y_{4} \\in \\{0, 1\\}\\\\\n",
       " & y_{5} \\in \\{0, 1\\}\\\\\n",
       "\\end{aligned} $$"
      ]
     },
     "metadata": {},
     "output_type": "display_data"
    }
   ],
   "source": [
    "model = Model(GLPK.Optimizer)\n",
    "u , p ,c, v = df.MaxOrder, df.PurPrice, df.SalePrice, df.UnitCube\n",
    "min_Order = df.MinOrder\n",
    "Unit_Weight = df.UnitWt\n",
    "\n",
    "N = 1:length(p)\n",
    "@variable(model, 0<= x[i=N] <= u[i], Int) #integer variable \n",
    "@variable(model, y[i = N], Bin)          # Binary variable\n",
    "@objective(model, Max, sum((c[i] - p[i])*x[i] for i in N)) \n",
    "@constraint(model, sum(p[i]*x[i] for i in N) <= 120)           #Budget constraint\n",
    "@constraint(model, sum(x[i]*Unit_Weight[i] for i in N) <=30)   #Weigh constraint\n",
    "@constraint(model, sum(v[i]*x[i] for i in N) <= 3)             #volume constraint\n",
    "\n",
    "for i in N                                           #min order constraint\n",
    "    @constraint(model, x[i] >= y[i]*min_Order[i])\n",
    "    @constraint(model, x[i]<=y[i]*u[i])\n",
    "end\n",
    "\n",
    "@constraint(model, y[3]+y[4] == 1)          # tea and ginger constraint\n",
    "\n",
    "print(model)"
   ]
  },
  {
   "cell_type": "code",
   "execution_count": null,
   "metadata": {},
   "outputs": [
    {
     "name": "stdout",
     "output_type": "stream",
     "text": [
      "Total profit based on the given constraints: 254.0\n"
     ]
    }
   ],
   "source": [
    "optimize!(model)\n",
    "x° = value.(x)\n",
    "N1° = objective_value(model)\n",
    "println(\"Total profit based on the given constraints: \", N1°)\n",
    "\n",
    "df_output1 = DataFrame( Item_Name = [\"Coffee\", \"Peppers\", \"Ginger\", \"Tea\", \"Candy\"], Optimum_Purchase_Qty_lb = [x°[1], x°[2], x°[3], x°[4], x°[5]])\n",
    "df_output1"
   ]
  },
  {
   "cell_type": "markdown",
   "metadata": {},
   "source": [
    "__(1*b*)__ What is the impact on profit of the ginger and tea restriction?\n",
    "\n",
    "Ginger and Tea restriction causing decrease in total profit, if we remove ginger/tea constraint there is an increase of 4.7% in total profit."
   ]
  },
  {
   "cell_type": "code",
   "execution_count": null,
   "metadata": {},
   "outputs": [],
   "source": [
    "model2 = Model(GLPK.Optimizer)\n",
    "u , p ,c, v = df.MaxOrder, df.PurPrice, df.SalePrice, df.UnitCube\n",
    "min_Order = df.MinOrder\n",
    "Unit_Weight = df.UnitWt\n",
    "\n",
    "N = 1:length(p)\n",
    "@variable(model2, 0<= x[i=N] <= u[i], Int) #integer variable \n",
    "@variable(model2, y[i = N], Bin)          # Binary variable\n",
    "@objective(model2, Max, sum((c[i] - p[i])*x[i] for i in N)) \n",
    "@constraint(model2, sum(p[i]*x[i] for i in N) <= 120)           #Budget constraint\n",
    "@constraint(model2, sum(x[i]*Unit_Weight[i] for i in N) <=30)   #Weigh constraint\n",
    "@constraint(model2, sum(v[i]*x[i] for i in N) <= 3)             #volume constraint\n",
    "\n",
    "for i in N                                           #min order constraint\n",
    "    @constraint(model2, x[i] >= y[i]*min_Order[i])\n",
    "    @constraint(model2, x[i]<=y[i]*u[i])\n",
    "end\n",
    "\n",
    "\n",
    "# Removing tea and ginger constraint from the model \n",
    "\n",
    "optimize!(model2)\n",
    "x° = value.(x)\n",
    "N2° = objective_value(model2)\n",
    "println(\"Total profit by removing tea and ginger constraint: \", N2°)\n",
    "\n",
    "df_output2 = DataFrame( Item_Name = [\"Coffee\", \"Peppers\", \"Ginger\", \"Tea\", \"Candy\"], Optimum_Purchase_Qty_lb = [x°[1], x°[2], x°[3], x°[4], x°[5]])\n",
    "df_output2\n"
   ]
  },
  {
   "cell_type": "code",
   "execution_count": null,
   "metadata": {},
   "outputs": [],
   "source": [
    "println(\"The impact on profit of the ginger and tea restriction is \\$ \", (N2° - N1°))"
   ]
  },
  {
   "cell_type": "markdown",
   "metadata": {},
   "source": [
    "---\n",
    "__(2)__ Weekend staffing needs to be determined at a clinic, and six employees are available. In order to operate, the clinic must have at least one staff member working that is certified in each of twelve different skills. Employee A is certified in skills 1, 4, and 11; employee B in 1, 3, 6, 7, 8, and 10; C in 2, 5, 8, 9, 10, 11, and 12; D in 6, 7, 10, and 11; E in 2, 4, 5, 8, 9, and 12; and employee F in skills 3, 4, 7, 8, 10, and 12. Each employee selected works for the entire time the clinic is open on the weekend, and the fully burdened cost of employees A to F is \\\\$25, 70, 40, 30, 50, and 40 per hour, respectively. Determine which employees should staff the clinic."
   ]
  },
  {
   "cell_type": "code",
   "execution_count": null,
   "metadata": {},
   "outputs": [],
   "source": [
    "M = 1:12\n",
    "N = 1:6\n",
    "Mi = [[1,4,11],[1,3,6,7,8,10],[2,5,8,9,10,11,12],[6,7,10,11],[2,4,5,8,9,12],[3,4,7,8,10,12]]\n",
    "A = zeros(length(M),length(N))     # A = objects x subsets\n",
    "for i = 1:size(A,2)\n",
    "    A[Mi[i],i] .= 1\n",
    "end\n",
    "A"
   ]
  },
  {
   "cell_type": "code",
   "execution_count": null,
   "metadata": {},
   "outputs": [],
   "source": [
    "using JuMP, Cbc\n",
    "model = Model(Cbc.Optimizer)\n",
    "wages = [25,70,40,30,50,40]\n",
    "@variable(model, x[1:length(N)], Bin)\n",
    "@objective(model, Min, sum(x[i]*wages[i] for i in N))\n",
    "@constraint(model, [j in M], sum(A[j,i]*x[i] for i in N) >=1)\n",
    "set_optimizer_attribute(model, \"loglevel\", 1)\n",
    "optimize!(model)\n",
    "TC1, x1 = objective_value(model), value.(x)\n",
    "salary = sum((value.(x)).*wages)\n",
    "salary, TC1, x1"
   ]
  },
  {
   "cell_type": "markdown",
   "metadata": {},
   "source": [
    "---\n",
    "__(3)__ There are 100 cities located throughout a region of a state, and public service radio transmitters can be located in any of the cities. The signal from a transmitter can only reach other cities that are within 30 units of distance because of signal attenuation. The coordinates of the cities can be generated by running the following code:\n",
    "\n",
    "```\n",
    "using Random, Statistics\n",
    "Random.seed!(62738462)\n",
    "P = 200*rand(100,2)\n",
    "```\n",
    "\n",
    "__(3*a*)__ Determine the cities where transmitters should be located. "
   ]
  },
  {
   "cell_type": "code",
   "execution_count": null,
   "metadata": {},
   "outputs": [],
   "source": [
    "using Random, Statistics\n",
    "Random.seed!(62738462)\n",
    "P = 200*rand(100,2)\n",
    "dist(x,P) = sqrt.(sum((x' .- P).^2, dims = 2))\n",
    "D = vcat([dist(P[i,:],P) for i in 1:size(P,1)]'...)"
   ]
  },
  {
   "cell_type": "code",
   "execution_count": null,
   "metadata": {},
   "outputs": [],
   "source": [
    "A = D .< 30"
   ]
  },
  {
   "cell_type": "code",
   "execution_count": null,
   "metadata": {},
   "outputs": [],
   "source": [
    "using JuMP, Cbc\n",
    "function setcover(A)\n",
    "    M = 1:size(A,1)\n",
    "    N = 1:size(A,2)\n",
    "    model = Model(Cbc.Optimizer)\n",
    "    @variable(model, x[1:length(N)], Bin)\n",
    "    @objective(model, Min, sum(x[i] for i in N))\n",
    "    @constraint(model, [j in M], sum(A[j,i]*x[i] for i in N) >= 1)\n",
    "    set_optimizer_attribute(model, \"loglevel\", 0)\n",
    "    set_optimizer_attribute(model, \"seconds\", 60.00)\n",
    "    optimize!(model)\n",
    "    println(solution_summary(model).termination_status)\n",
    "    return findall(value.(x) .> 0)\n",
    "end\n",
    "Z = setcover(A)"
   ]
  },
  {
   "cell_type": "code",
   "execution_count": null,
   "metadata": {},
   "outputs": [],
   "source": [
    "println(\"The location of the first transmitter should be in city: \", Z[1])\n",
    "println(\"Followed by: \")\n",
    "for j in (2:(length(Z)-1))\n",
    "    println(\"The location of the next transmitter should be in city: \", Z[j])\n",
    "    println(\"Followed by: \")\n",
    "end\n",
    "println(\"The location of the last transmitter should be in city: \", Z[end])"
   ]
  },
  {
   "cell_type": "markdown",
   "metadata": {},
   "source": [
    "__(3*b*)__ Due to interference, the signals from transmitters that are within 60 units of distance from each other should use different frequencies. Determine the minimum number of different frequencies needed for the transmitters. "
   ]
  },
  {
   "cell_type": "code",
   "execution_count": null,
   "metadata": {},
   "outputs": [],
   "source": [
    "A = D .< 60      #setting dist to 60"
   ]
  },
  {
   "cell_type": "code",
   "execution_count": null,
   "metadata": {},
   "outputs": [],
   "source": [
    "Z = setcover(A)"
   ]
  },
  {
   "cell_type": "code",
   "execution_count": null,
   "metadata": {},
   "outputs": [],
   "source": [
    "println(\"The location of the first transmitter should be in city: \", Z[1])\n",
    "println(\"Followed by: \")\n",
    "for j in (2:(length(Z)-1))\n",
    "    println(\"The location of the next transmitter should be in city: \", Z[j])\n",
    "    println(\"Followed by: \")\n",
    "end\n",
    "println(\"The location of the last transmitter should be in city: \", Z[end])"
   ]
  },
  {
   "cell_type": "markdown",
   "metadata": {},
   "source": [
    "---\n",
    "__(4)__ A single product is produced in a single-stage production process. A 13-week rolling horizon is used for planning production. The process has a capacity of 60 tons per week. The forecasted demand (ton) over the horizon is provided in *HW5-Data-forecasted_demand.csv*. Production data for the past year is provided in *HW5-Data-historical_prod_cost.csv*, where production (ton/wk) and cost (\\\\$000/wk) are listed for the weeks in which the process was operating. The inventory carrying rate is estimated as 0.125 per week. Currently, there are 13 tons of finished product in storage, and this same amount should be in inventory at the end of the planning period. There is enough space to store up to 120 tons of finished product. Determine the best production plan over the planning horizon."
   ]
  },
  {
   "cell_type": "code",
   "execution_count": null,
   "metadata": {},
   "outputs": [],
   "source": [
    "using DataFrames, CSV\n",
    "df1 = DataFrame(CSV.File(\"HW5-Data-historical_prod_cost.csv\"))\n",
    "df2 = DataFrame(CSV.File(\"HW5-Data-forecasted_demand.csv\"))\n",
    "df1, df2"
   ]
  },
  {
   "cell_type": "code",
   "execution_count": null,
   "metadata": {},
   "outputs": [],
   "source": [
    "u = [60]          # capacity of each stage \n",
    "d = df2.Demand    # demand in each period \n",
    "cp = df1.Cost     # Production cost for each stage ($)\n",
    "h = 0.125         # monthly inventory carrying rate (1/month)\n",
    "ci = cp*h/u       # inventory cost for each stage ($)\n",
    "y0 = 13           # initial inventory \n",
    "yt = 13           # final inventory\n",
    "m = length(u)     # number of production stages\n",
    "t = length(d)     # number of periods of production\n",
    "ylb = [y0 zeros(m,t-1) yt]       # same LB and UB to fix inital and final inventory levels\n",
    "yub = [y0 repeat([120],m,t-1) yt] # max inventory storage level"
   ]
  },
  {
   "cell_type": "code",
   "execution_count": null,
   "metadata": {},
   "outputs": [],
   "source": [
    "using JuMP, Cbc\n",
    "model = Model(Cbc.Optimizer)\n",
    "@variable(model, 0 <= X[i=1:m, j=1:t])\n",
    "@variable(model, ylb[i,j] <= y[i=1:m, j=1:t+1] <= yub[i,j])\n",
    "@variable(model, Z[i=1:m, j=1:t], Bin)\n",
    "@objective(model, Min, sum(cp[i]*X[i,j] for i=1:m, j=1:t ) + \n",
    "    sum(ci[i]*y[i,j] for i=1:m, j=2:t+1 )  ) \n",
    "for j = 1:t\n",
    "    for i = 1:m-1                                      # (a) flow-balance all but last stage\n",
    "        @constraint(model, -X[i,j] + X[i+1,j] - y[i,j] + y[i,j+1] == 0 )   \n",
    "    end                                                # (b) flow-balance for last stage\n",
    "    @constraint(model, -X[m,j] - y[m,j] + y[m,j+1] == -d[j] )              \n",
    "    for i = 1:m                                        # (c) production capacity\n",
    "        @constraint(model, X[i,j] <= u[i]*Z[i,j] )                         \n",
    "    end\n",
    "end\n",
    "set_optimizer_attribute(model, \"logLevel\", 0)\n",
    "set_optimizer_attribute(model, \"seconds\", 30.0)\n",
    "optimize!(model)\n",
    "println(solution_summary(model).termination_status)\n",
    "TCᵒ, Xᵒ, Yᵒ, Zᵒ = objective_value(model), value.(X), value.(y), round.(value.(Z))"
   ]
  },
  {
   "cell_type": "code",
   "execution_count": null,
   "metadata": {},
   "outputs": [],
   "source": [
    "Matrix([Xᵒ; d'])"
   ]
  },
  {
   "cell_type": "code",
   "execution_count": null,
   "metadata": {},
   "outputs": [],
   "source": [
    "Matrix(Yᵒ)"
   ]
  },
  {
   "cell_type": "code",
   "execution_count": null,
   "metadata": {},
   "outputs": [],
   "source": [
    "Matrix(Zᵒ)"
   ]
  },
  {
   "cell_type": "markdown",
   "metadata": {},
   "source": [
    "---\n",
    "__(5)__ A plant can use a three-stage process to produce three products. A 13-week rolling horizon is used for planning production. The products’ forecasted demand (ton) over the horizon is provided in *HW5-Data-forecasted_demand_2.csv*.The plant can produce up to 600, 550, and 500; 500, 450, and 350; and 400, 350, and 300 tons per week for each stage of each product, respectively; has production costs of \\\\$12, 75, and 35; 20, 130, and 60; and 16, 100, and 50 per ton for each stage of each product, respectively; and has costs of \\$4000, 900, and 500; 6000, 1100, and 600; and 5000, 1000, and 600 per set up for each stage of each product, respectively. The annual inventory carrying rate is 0.3. The plant is currently set up to produce each stage of the first product, and the first three weeks of demand for the other two products are being held as inventory at each stage. The final inventory for all stages of all products is zero. Determine the amount of each product that should be produced in order to for the total costs over the planning horizon to be within 1% of the optimal value.  "
   ]
  },
  {
   "cell_type": "code",
   "execution_count": null,
   "metadata": {},
   "outputs": [],
   "source": [
    "using DataFrames, CSV\n",
    "D = Int.(Matrix(DataFrame(CSV.File(\"HW5-Data-forecasted_demand_2.csv\", header=false))))\n",
    "D"
   ]
  },
  {
   "cell_type": "code",
   "execution_count": null,
   "metadata": {},
   "outputs": [],
   "source": [
    "inv3 = (D[:,3])[1] + (D[:,3])[2] + (D[:,3])[3]"
   ]
  },
  {
   "cell_type": "code",
   "execution_count": null,
   "metadata": {},
   "outputs": [],
   "source": [
    "inv2 = (D[:,2])[1] + (D[:,2])[2] + (D[:,2])[3]"
   ]
  },
  {
   "cell_type": "code",
   "execution_count": null,
   "metadata": {},
   "outputs": [],
   "source": [
    "T = size(D,1)    #Number of periods\n",
    "U = [600 550 500; 500 450 350; 400 350 300]      #capacity at each stage of each product\n",
    "m = size(U,1)     #No. of prod. stages\n",
    "n = size(U,2)     #No. of products\n",
    "Cp = [12 75 35; 20 130 60; 16 100 50]      #Prod cost for each stage\n",
    "h = (0.3)/(365.25/7)                      #Weekly inventory carrying rate\n",
    "Ci = cumsum(Cp, dims = 1)*h                #inv cost for each stage/product\n",
    "Cs = [4000 900 500; 6000 1100 600; 5000 1000 600]   #setup cost for each stage/product\n",
    "Y0 = [0 inv2 inv3; 0 inv2 inv3; 0 inv2 inv3]       #initial inventory for each prod"
   ]
  },
  {
   "cell_type": "code",
   "execution_count": null,
   "metadata": {},
   "outputs": [],
   "source": [
    "Yf =zeros(m,n)    #final level of inventory\n",
    "Z0 = [1 0 0; 1 0 0; 1 0 0];      #initial setup at each stage/product\n",
    "\n",
    "Ylb = [reshape(Y0,m,1,n) zeros(m,T-1,n) reshape(Yf,m,1,n)]\n",
    "Yub =  [reshape(Y0,m,1,n) repeat([Inf],m,T-1,n) reshape(Yf,m,1,n)]"
   ]
  },
  {
   "cell_type": "code",
   "execution_count": null,
   "metadata": {},
   "outputs": [],
   "source": [
    "using JuMP, Cbc\n",
    "model = Model(Cbc.Optimizer)\n",
    "@variable(model, 0 <= X[i=1:m, j=1:T, k=1:n] )\n",
    "@variable(model, Ylb[i,j,k] <= Y[i=1:m, j=1:T+1, k=1:n] <= Yub[i,j,k] )\n",
    "@variable(model, Z[i=1:m, j=1:T, k=1:n], Bin )\n",
    "@variable(model, V[i=1:m, j=1:T, k=1:n], Bin )\n",
    "@objective(model, Min, \n",
    "    sum(Cp[i,k]*X[i,j,k] for i=1:m, j=1:T, k=1:n ) + \n",
    "    sum(Ci[i,k]*Y[i,j,k] for i=1:m, j=2:T+1, k=1:n ) + \n",
    "    sum(Cs[i,k]*V[i,j,k] for i=1:m, j=1:T, k=1:n ) )\n",
    "for k = 1:n\n",
    "    for j = 1:T\n",
    "        for i = 1:m-1                                  # (a) flow-balance all but last stage\n",
    "            @constraint(model, -X[i,j,k] + X[i+1,j,k] - Y[i,j,k] + Y[i,j+1,k] == 0 )    \n",
    "        end                                            # (b) flow-balance for last stage\n",
    "        @constraint(model, -X[m,j,k] - Y[m,j,k] + Y[m,j+1,k] == -D[j,k] )               \n",
    "        for i = 1:m                                    # (c) production capacity\n",
    "            @constraint(model, X[i,j,k] <= U[i,k]*Z[i,j,k] )\n",
    "        end\n",
    "    end\n",
    "    for i = 1:m                                         # (d) setup for first stage\n",
    "        @constraint(model, -V[i,1,k] + Z[i,1,k] <= Z0[i,k] )\n",
    "        for j = 2:T                                     # (e) setup all but first stage\n",
    "            @constraint(model, -V[i,j,k] + Z[i,j,k] - Z[i,j-1,k] <= 0 )\n",
    "        end\n",
    "    end\n",
    "end\n",
    "for i = 1:m\n",
    "    for j = 1:T                                         # (f) linking\n",
    "        @constraint(model, sum(Z[i,j,k] for k=1:n) == 1 )              \n",
    "    end\n",
    "end\n",
    "set_optimizer_attribute(model, \"logLevel\", 0)\n",
    "set_optimizer_attribute(model, \"seconds\", 30.0)\n",
    "optimize!(model)\n",
    "println(solution_summary(model).termination_status)\n",
    "TCᵒ,Xᵒ,Yᵒ,Zᵒ,Vᵒ = \n",
    "objective_value(model), value.(X), value.(Y), round.(value.(Z)), round.(value.(V))"
   ]
  },
  {
   "cell_type": "code",
   "execution_count": null,
   "metadata": {},
   "outputs": [],
   "source": [
    "Matrix([Xᵒ[:,:,1]; D[:,1]'])   # Product 1 production level/Demand"
   ]
  },
  {
   "cell_type": "code",
   "execution_count": null,
   "metadata": {},
   "outputs": [],
   "source": [
    "Matrix([Xᵒ[:,:,2]; D[:,2]'])   # Product 2 production level/Demand"
   ]
  },
  {
   "cell_type": "code",
   "execution_count": null,
   "metadata": {},
   "outputs": [],
   "source": [
    "Matrix([Xᵒ[:,:,3]; D[:,3]'])   # Product 3 production level/Demand"
   ]
  },
  {
   "cell_type": "code",
   "execution_count": null,
   "metadata": {},
   "outputs": [],
   "source": [
    "Matrix(Yᵒ[:,:,1])              # Product 1 inventory level"
   ]
  },
  {
   "cell_type": "code",
   "execution_count": null,
   "metadata": {},
   "outputs": [],
   "source": [
    "Matrix(Yᵒ[:,:,2])              # Product 2 inventory level"
   ]
  },
  {
   "cell_type": "code",
   "execution_count": null,
   "metadata": {},
   "outputs": [],
   "source": [
    "Matrix(Yᵒ[:,:,3])              # Product 3 inventory level"
   ]
  },
  {
   "cell_type": "code",
   "execution_count": null,
   "metadata": {},
   "outputs": [],
   "source": [
    "Matrix(Zᵒ[:,:,1])              # Product 1 production indicator"
   ]
  },
  {
   "cell_type": "code",
   "execution_count": null,
   "metadata": {},
   "outputs": [],
   "source": [
    "Matrix(Zᵒ[:,:,2])              # Product 2 production indicator"
   ]
  },
  {
   "cell_type": "code",
   "execution_count": null,
   "metadata": {},
   "outputs": [],
   "source": [
    "Matrix(Zᵒ[:,:,3])              # Product 3 production indicator"
   ]
  },
  {
   "cell_type": "code",
   "execution_count": null,
   "metadata": {},
   "outputs": [],
   "source": [
    "Matrix(Vᵒ[:,:,1])              # Product 1 setup indicator"
   ]
  },
  {
   "cell_type": "code",
   "execution_count": null,
   "metadata": {},
   "outputs": [],
   "source": [
    "Matrix(Vᵒ[:,:,2])              # Product 2 setup indicator"
   ]
  },
  {
   "cell_type": "code",
   "execution_count": null,
   "metadata": {},
   "outputs": [],
   "source": [
    "Matrix(Vᵒ[:,:,3])              # Product 3 setup indicator"
   ]
  },
  {
   "cell_type": "code",
   "execution_count": null,
   "metadata": {},
   "outputs": [],
   "source": [
    "size(Cp),size(Xᵒ)   # Cp not compatible size with Xᵒ, need to reshape to (3, 1, 2)"
   ]
  },
  {
   "cell_type": "code",
   "execution_count": null,
   "metadata": {},
   "outputs": [],
   "source": [
    "TCp = sum((reshape(Cp,m,1,n).*Xᵒ)[:])   # Reshaped Cp broadcast for multiplication with Xᵒ\n",
    "TCi = sum((reshape(Ci,m,1,n).*Yᵒ[:,2:end,:])[:])   # First period excluded\n",
    "TCs = sum((reshape(Cs,m,1,n).*Vᵒ)[:])\n",
    "TCp, TCi, TCs"
   ]
  },
  {
   "cell_type": "code",
   "execution_count": null,
   "metadata": {},
   "outputs": [],
   "source": [
    "TCp+TCi+TCs, TCᵒ"
   ]
  }
 ],
 "metadata": {
  "kernelspec": {
   "display_name": "Julia 1.6.2",
   "language": "julia",
   "name": "julia-1.6"
  },
  "language_info": {
   "file_extension": ".jl",
   "mimetype": "application/julia",
   "name": "julia",
   "version": "1.6.2"
  }
 },
 "nbformat": 4,
 "nbformat_minor": 4
}
