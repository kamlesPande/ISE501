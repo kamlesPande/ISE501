{
 "cells": [
  {
   "cell_type": "markdown",
   "metadata": {},
   "source": [
    "# Exam 1: Introduction to Operations Research\n",
    "---\n",
    "## OR/ISE 501 - Spring 2021\n",
    "__Assigned:__ 5:30p, Thu, 30 Sep (Individual)  \n",
    "__Due:__ 11p, Fri, 1 Oct\n",
    "\n",
    "This exam consists of problems that you should solve by yourself outside of class. The exam is open book, open notes, and open software. This is an individual exam, and due consideration will be given to the fact that you are working on your own and thus will be producing original and unique work, not to mention the possibility that you might make several minor errors due to the pressure of working under a deadline. If the Instructor has determined that you have collaborated with anyone else on the exam, the few points that you might lose due to these types of minor errors will be far less than the penalty associated with the violation of academic integrity that you would receive.\n",
    "\n",
    "### Instructions\n",
    "You should provide a concise summary for each problem that includes a verbal description of your procedure for solving each major non-standard step in your approach (you can just reference any standard approach covered in class without description), including justification of all significant assumptions. The summary will be reviewed first when grading each problem. If you are not able to computationally solve the problem, then partial credit will be given if you describe a basically correct approach in your summary.\n",
    "\n",
    "Please use the Code cells in this Jupyter notebook to answer each of the following questions. You can add additional cells for each question if that helps in organizing your solution. Please run all of the cells in your notebook and then submit it via Moodle. (There is a _Run All Cells_ command under the _Run_ menu.)"
   ]
  },
  {
   "cell_type": "markdown",
   "metadata": {},
   "source": [
    "---\n",
    "__(1: 25 pts)__ A restaurant's dining room has three different size tables: six tables that can seat groups of 1-2, twelve tables that can seat groups of 3-4, and two tables that can seat groups of 5-8. Assuming that a smaller group is not assigned to a larger table and that ten groups are waiting in line for the restaurant to open for dinner, estimate the probability that all ten groups will be seated immediately. Historically, groups of 1-2, 3-4, and 5-8 represent 30%, 60%, and 10% of all customers, and groups greater than 8 are rarely seen."
   ]
  },
  {
   "cell_type": "code",
   "execution_count": 1,
   "metadata": {},
   "outputs": [
    {
     "data": {
      "text/plain": [
       "10"
      ]
     },
     "execution_count": 1,
     "metadata": {},
     "output_type": "execute_result"
    }
   ],
   "source": [
    "using Random\n",
    "Random.seed!(42)\n",
    "\n",
    "p = [0.3, 0.6, 0.1]  # probability of incoming groups\n",
    "m = 20000            # number of sample\n",
    "n = 10               # number of groups"
   ]
  },
  {
   "cell_type": "code",
   "execution_count": 2,
   "metadata": {},
   "outputs": [
    {
     "name": "stdout",
     "output_type": "stream",
     "text": [
      "Proability that all 10 group will be seated immediately: 0.10685"
     ]
    }
   ],
   "source": [
    "total_target = 0\n",
    "for i in 1:m\n",
    "    tot1, tot2, tot3 = 0,0,0\n",
    "    for j in 1:n\n",
    "        x = rand(1)[]\n",
    "        if x < p[1]\n",
    "            tot1 += 1            # First group assigned to table\n",
    "        elseif x <sum(p[1:2])\n",
    "            tot2 += 1            # Second group assigned to table\n",
    "        else\n",
    "            tot3 += 1            # Third group assigned to table\n",
    "        end\n",
    "    end\n",
    "    if (tot1 == 3) & (tot2== 6) & (tot3 ==1)\n",
    "        total_target += 1\n",
    "    end\n",
    "end\n",
    "\n",
    "print(\"Proability that all 10 group will be seated immediately: \",total_target/m)"
   ]
  },
  {
   "cell_type": "markdown",
   "metadata": {},
   "source": [
    "_Your Summary:_ I have referred Intro 3: Monte Carlo Methods sheet's example 4 for this problem"
   ]
  },
  {
   "cell_type": "markdown",
   "metadata": {},
   "source": [
    "---\n",
    "__(2: 25 pts)__ A firm runs a wilderness adventure program and, at the beginning of each month, purchases a pass to a national park for each customer attending the program at any time during the month because the passes for the month sell out quickly. Unused passes cannot be returned and are illegal to resell. Each pass costs \\\\$250, and each customer pays \\\\$850 to attend the program. The number of customers per month over the past year has been\n",
    "\n",
    "    143, 256, 459, 209, 247, 281, 100, 133, 270, 480, 284, 410\n",
    "\n",
    "and the number of preorders has been\n",
    "\n",
    "    52, 128, 167, 105, 244, 193, 81, 76, 217, 468, 195, 341\n",
    "    \n",
    "Determine how many passes should be purchased for next month, given that there have already been 190 preorders received for next month's program."
   ]
  },
  {
   "cell_type": "code",
   "execution_count": 3,
   "metadata": {},
   "outputs": [
    {
     "name": "stdout",
     "output_type": "stream",
     "text": [
      "The co-relation between the demand and the pre-order is: 0.8059620284764247"
     ]
    },
    {
     "data": {
      "image/svg+xml": [
       "<?xml version=\"1.0\" encoding=\"utf-8\"?>\n",
       "<svg xmlns=\"http://www.w3.org/2000/svg\" xmlns:xlink=\"http://www.w3.org/1999/xlink\" width=\"600\" height=\"400\" viewBox=\"0 0 2400 1600\">\n",
       "<defs>\n",
       "  <clipPath id=\"clip860\">\n",
       "    <rect x=\"0\" y=\"0\" width=\"2400\" height=\"1600\"/>\n",
       "  </clipPath>\n",
       "</defs>\n",
       "<path clip-path=\"url(#clip860)\" d=\"\n",
       "M0 1600 L2400 1600 L2400 0 L0 0  Z\n",
       "  \" fill=\"#ffffff\" fill-rule=\"evenodd\" fill-opacity=\"1\"/>\n",
       "<defs>\n",
       "  <clipPath id=\"clip861\">\n",
       "    <rect x=\"480\" y=\"0\" width=\"1681\" height=\"1600\"/>\n",
       "  </clipPath>\n",
       "</defs>\n",
       "<path clip-path=\"url(#clip860)\" d=\"\n",
       "M235.283 1423.18 L2352.76 1423.18 L2352.76 123.472 L235.283 123.472  Z\n",
       "  \" fill=\"#ffffff\" fill-rule=\"evenodd\" fill-opacity=\"1\"/>\n",
       "<defs>\n",
       "  <clipPath id=\"clip862\">\n",
       "    <rect x=\"235\" y=\"123\" width=\"2118\" height=\"1301\"/>\n",
       "  </clipPath>\n",
       "</defs>\n",
       "<polyline clip-path=\"url(#clip862)\" style=\"stroke:#000000; stroke-linecap:butt; stroke-linejoin:round; stroke-width:2; stroke-opacity:0.1; fill:none\" points=\"\n",
       "  295.211,1423.18 295.211,123.472 \n",
       "  \"/>\n",
       "<polyline clip-path=\"url(#clip862)\" style=\"stroke:#000000; stroke-linecap:butt; stroke-linejoin:round; stroke-width:2; stroke-opacity:0.1; fill:none\" points=\"\n",
       "  476.813,1423.18 476.813,123.472 \n",
       "  \"/>\n",
       "<polyline clip-path=\"url(#clip862)\" style=\"stroke:#000000; stroke-linecap:butt; stroke-linejoin:round; stroke-width:2; stroke-opacity:0.1; fill:none\" points=\"\n",
       "  658.414,1423.18 658.414,123.472 \n",
       "  \"/>\n",
       "<polyline clip-path=\"url(#clip862)\" style=\"stroke:#000000; stroke-linecap:butt; stroke-linejoin:round; stroke-width:2; stroke-opacity:0.1; fill:none\" points=\"\n",
       "  840.016,1423.18 840.016,123.472 \n",
       "  \"/>\n",
       "<polyline clip-path=\"url(#clip862)\" style=\"stroke:#000000; stroke-linecap:butt; stroke-linejoin:round; stroke-width:2; stroke-opacity:0.1; fill:none\" points=\"\n",
       "  1021.62,1423.18 1021.62,123.472 \n",
       "  \"/>\n",
       "<polyline clip-path=\"url(#clip862)\" style=\"stroke:#000000; stroke-linecap:butt; stroke-linejoin:round; stroke-width:2; stroke-opacity:0.1; fill:none\" points=\"\n",
       "  1203.22,1423.18 1203.22,123.472 \n",
       "  \"/>\n",
       "<polyline clip-path=\"url(#clip862)\" style=\"stroke:#000000; stroke-linecap:butt; stroke-linejoin:round; stroke-width:2; stroke-opacity:0.1; fill:none\" points=\"\n",
       "  1384.82,1423.18 1384.82,123.472 \n",
       "  \"/>\n",
       "<polyline clip-path=\"url(#clip862)\" style=\"stroke:#000000; stroke-linecap:butt; stroke-linejoin:round; stroke-width:2; stroke-opacity:0.1; fill:none\" points=\"\n",
       "  1566.42,1423.18 1566.42,123.472 \n",
       "  \"/>\n",
       "<polyline clip-path=\"url(#clip862)\" style=\"stroke:#000000; stroke-linecap:butt; stroke-linejoin:round; stroke-width:2; stroke-opacity:0.1; fill:none\" points=\"\n",
       "  1748.02,1423.18 1748.02,123.472 \n",
       "  \"/>\n",
       "<polyline clip-path=\"url(#clip862)\" style=\"stroke:#000000; stroke-linecap:butt; stroke-linejoin:round; stroke-width:2; stroke-opacity:0.1; fill:none\" points=\"\n",
       "  1929.62,1423.18 1929.62,123.472 \n",
       "  \"/>\n",
       "<polyline clip-path=\"url(#clip862)\" style=\"stroke:#000000; stroke-linecap:butt; stroke-linejoin:round; stroke-width:2; stroke-opacity:0.1; fill:none\" points=\"\n",
       "  2111.23,1423.18 2111.23,123.472 \n",
       "  \"/>\n",
       "<polyline clip-path=\"url(#clip862)\" style=\"stroke:#000000; stroke-linecap:butt; stroke-linejoin:round; stroke-width:2; stroke-opacity:0.1; fill:none\" points=\"\n",
       "  2292.83,1423.18 2292.83,123.472 \n",
       "  \"/>\n",
       "<polyline clip-path=\"url(#clip860)\" style=\"stroke:#000000; stroke-linecap:butt; stroke-linejoin:round; stroke-width:4; stroke-opacity:1; fill:none\" points=\"\n",
       "  235.283,1423.18 2352.76,1423.18 \n",
       "  \"/>\n",
       "<polyline clip-path=\"url(#clip860)\" style=\"stroke:#000000; stroke-linecap:butt; stroke-linejoin:round; stroke-width:4; stroke-opacity:1; fill:none\" points=\"\n",
       "  295.211,1423.18 295.211,1404.28 \n",
       "  \"/>\n",
       "<polyline clip-path=\"url(#clip860)\" style=\"stroke:#000000; stroke-linecap:butt; stroke-linejoin:round; stroke-width:4; stroke-opacity:1; fill:none\" points=\"\n",
       "  476.813,1423.18 476.813,1404.28 \n",
       "  \"/>\n",
       "<polyline clip-path=\"url(#clip860)\" style=\"stroke:#000000; stroke-linecap:butt; stroke-linejoin:round; stroke-width:4; stroke-opacity:1; fill:none\" points=\"\n",
       "  658.414,1423.18 658.414,1404.28 \n",
       "  \"/>\n",
       "<polyline clip-path=\"url(#clip860)\" style=\"stroke:#000000; stroke-linecap:butt; stroke-linejoin:round; stroke-width:4; stroke-opacity:1; fill:none\" points=\"\n",
       "  840.016,1423.18 840.016,1404.28 \n",
       "  \"/>\n",
       "<polyline clip-path=\"url(#clip860)\" style=\"stroke:#000000; stroke-linecap:butt; stroke-linejoin:round; stroke-width:4; stroke-opacity:1; fill:none\" points=\"\n",
       "  1021.62,1423.18 1021.62,1404.28 \n",
       "  \"/>\n",
       "<polyline clip-path=\"url(#clip860)\" style=\"stroke:#000000; stroke-linecap:butt; stroke-linejoin:round; stroke-width:4; stroke-opacity:1; fill:none\" points=\"\n",
       "  1203.22,1423.18 1203.22,1404.28 \n",
       "  \"/>\n",
       "<polyline clip-path=\"url(#clip860)\" style=\"stroke:#000000; stroke-linecap:butt; stroke-linejoin:round; stroke-width:4; stroke-opacity:1; fill:none\" points=\"\n",
       "  1384.82,1423.18 1384.82,1404.28 \n",
       "  \"/>\n",
       "<polyline clip-path=\"url(#clip860)\" style=\"stroke:#000000; stroke-linecap:butt; stroke-linejoin:round; stroke-width:4; stroke-opacity:1; fill:none\" points=\"\n",
       "  1566.42,1423.18 1566.42,1404.28 \n",
       "  \"/>\n",
       "<polyline clip-path=\"url(#clip860)\" style=\"stroke:#000000; stroke-linecap:butt; stroke-linejoin:round; stroke-width:4; stroke-opacity:1; fill:none\" points=\"\n",
       "  1748.02,1423.18 1748.02,1404.28 \n",
       "  \"/>\n",
       "<polyline clip-path=\"url(#clip860)\" style=\"stroke:#000000; stroke-linecap:butt; stroke-linejoin:round; stroke-width:4; stroke-opacity:1; fill:none\" points=\"\n",
       "  1929.62,1423.18 1929.62,1404.28 \n",
       "  \"/>\n",
       "<polyline clip-path=\"url(#clip860)\" style=\"stroke:#000000; stroke-linecap:butt; stroke-linejoin:round; stroke-width:4; stroke-opacity:1; fill:none\" points=\"\n",
       "  2111.23,1423.18 2111.23,1404.28 \n",
       "  \"/>\n",
       "<polyline clip-path=\"url(#clip860)\" style=\"stroke:#000000; stroke-linecap:butt; stroke-linejoin:round; stroke-width:4; stroke-opacity:1; fill:none\" points=\"\n",
       "  2292.83,1423.18 2292.83,1404.28 \n",
       "  \"/>\n",
       "<path clip-path=\"url(#clip860)\" d=\"M285.593 1479.92 L293.232 1479.92 L293.232 1453.55 L284.922 1455.22 L284.922 1450.96 L293.186 1449.29 L297.862 1449.29 L297.862 1479.92 L305.501 1479.92 L305.501 1483.85 L285.593 1483.85 L285.593 1479.92 Z\" fill=\"#000000\" fill-rule=\"evenodd\" fill-opacity=\"1\" /><path clip-path=\"url(#clip860)\" d=\"M471.466 1479.92 L487.785 1479.92 L487.785 1483.85 L465.841 1483.85 L465.841 1479.92 Q468.503 1477.16 473.086 1472.53 Q477.692 1467.88 478.873 1466.54 Q481.118 1464.01 481.998 1462.28 Q482.901 1460.52 482.901 1458.83 Q482.901 1456.07 480.956 1454.34 Q479.035 1452.6 475.933 1452.6 Q473.734 1452.6 471.28 1453.37 Q468.85 1454.13 466.072 1455.68 L466.072 1450.96 Q468.896 1449.82 471.35 1449.25 Q473.804 1448.67 475.841 1448.67 Q481.211 1448.67 484.405 1451.35 Q487.6 1454.04 487.6 1458.53 Q487.6 1460.66 486.79 1462.58 Q486.003 1464.48 483.896 1467.07 Q483.317 1467.74 480.216 1470.96 Q477.114 1474.15 471.466 1479.92 Z\" fill=\"#000000\" fill-rule=\"evenodd\" fill-opacity=\"1\" /><path clip-path=\"url(#clip860)\" d=\"M662.662 1465.22 Q666.018 1465.94 667.893 1468.2 Q669.792 1470.47 669.792 1473.81 Q669.792 1478.92 666.273 1481.72 Q662.755 1484.52 656.273 1484.52 Q654.097 1484.52 651.782 1484.08 Q649.491 1483.67 647.037 1482.81 L647.037 1478.3 Q648.981 1479.43 651.296 1480.01 Q653.611 1480.59 656.134 1480.59 Q660.532 1480.59 662.824 1478.85 Q665.139 1477.12 665.139 1473.81 Q665.139 1470.75 662.986 1469.04 Q660.856 1467.3 657.037 1467.3 L653.009 1467.3 L653.009 1463.46 L657.222 1463.46 Q660.671 1463.46 662.5 1462.09 Q664.329 1460.7 664.329 1458.11 Q664.329 1455.45 662.43 1454.04 Q660.555 1452.6 657.037 1452.6 Q655.116 1452.6 652.917 1453.02 Q650.718 1453.44 648.079 1454.31 L648.079 1450.15 Q650.741 1449.41 653.055 1449.04 Q655.393 1448.67 657.454 1448.67 Q662.778 1448.67 665.879 1451.1 Q668.981 1453.5 668.981 1457.63 Q668.981 1460.5 667.338 1462.49 Q665.694 1464.45 662.662 1465.22 Z\" fill=\"#000000\" fill-rule=\"evenodd\" fill-opacity=\"1\" /><path clip-path=\"url(#clip860)\" d=\"M843.025 1453.37 L831.219 1471.81 L843.025 1471.81 L843.025 1453.37 M841.798 1449.29 L847.678 1449.29 L847.678 1471.81 L852.608 1471.81 L852.608 1475.7 L847.678 1475.7 L847.678 1483.85 L843.025 1483.85 L843.025 1475.7 L827.423 1475.7 L827.423 1471.19 L841.798 1449.29 Z\" fill=\"#000000\" fill-rule=\"evenodd\" fill-opacity=\"1\" /><path clip-path=\"url(#clip860)\" d=\"M1011.9 1449.29 L1030.25 1449.29 L1030.25 1453.23 L1016.18 1453.23 L1016.18 1461.7 Q1017.2 1461.35 1018.21 1461.19 Q1019.23 1461 1020.25 1461 Q1026.04 1461 1029.42 1464.18 Q1032.8 1467.35 1032.8 1472.76 Q1032.8 1478.34 1029.33 1481.44 Q1025.85 1484.52 1019.53 1484.52 Q1017.36 1484.52 1015.09 1484.15 Q1012.84 1483.78 1010.44 1483.04 L1010.44 1478.34 Q1012.52 1479.48 1014.74 1480.03 Q1016.96 1480.59 1019.44 1480.59 Q1023.45 1480.59 1025.78 1478.48 Q1028.12 1476.38 1028.12 1472.76 Q1028.12 1469.15 1025.78 1467.05 Q1023.45 1464.94 1019.44 1464.94 Q1017.57 1464.94 1015.69 1465.36 Q1013.84 1465.77 1011.9 1466.65 L1011.9 1449.29 Z\" fill=\"#000000\" fill-rule=\"evenodd\" fill-opacity=\"1\" /><path clip-path=\"url(#clip860)\" d=\"M1203.62 1464.71 Q1200.48 1464.71 1198.62 1466.86 Q1196.8 1469.01 1196.8 1472.76 Q1196.8 1476.49 1198.62 1478.67 Q1200.48 1480.82 1203.62 1480.82 Q1206.77 1480.82 1208.6 1478.67 Q1210.45 1476.49 1210.45 1472.76 Q1210.45 1469.01 1208.6 1466.86 Q1206.77 1464.71 1203.62 1464.71 M1212.91 1450.06 L1212.91 1454.31 Q1211.15 1453.48 1209.34 1453.04 Q1207.56 1452.6 1205.8 1452.6 Q1201.17 1452.6 1198.72 1455.73 Q1196.29 1458.85 1195.94 1465.17 Q1197.3 1463.16 1199.36 1462.09 Q1201.42 1461 1203.9 1461 Q1209.11 1461 1212.12 1464.18 Q1215.15 1467.32 1215.15 1472.76 Q1215.15 1478.09 1212 1481.31 Q1208.86 1484.52 1203.62 1484.52 Q1197.63 1484.52 1194.46 1479.94 Q1191.29 1475.33 1191.29 1466.61 Q1191.29 1458.41 1195.17 1453.55 Q1199.06 1448.67 1205.61 1448.67 Q1207.37 1448.67 1209.16 1449.01 Q1210.96 1449.36 1212.91 1450.06 Z\" fill=\"#000000\" fill-rule=\"evenodd\" fill-opacity=\"1\" /><path clip-path=\"url(#clip860)\" d=\"M1373.71 1449.29 L1395.93 1449.29 L1395.93 1451.28 L1383.38 1483.85 L1378.5 1483.85 L1390.31 1453.23 L1373.71 1453.23 L1373.71 1449.29 Z\" fill=\"#000000\" fill-rule=\"evenodd\" fill-opacity=\"1\" /><path clip-path=\"url(#clip860)\" d=\"M1566.42 1467.44 Q1563.09 1467.44 1561.17 1469.22 Q1559.27 1471 1559.27 1474.13 Q1559.27 1477.25 1561.17 1479.04 Q1563.09 1480.82 1566.42 1480.82 Q1569.75 1480.82 1571.68 1479.04 Q1573.6 1477.23 1573.6 1474.13 Q1573.6 1471 1571.68 1469.22 Q1569.78 1467.44 1566.42 1467.44 M1561.75 1465.45 Q1558.74 1464.71 1557.05 1462.65 Q1555.38 1460.59 1555.38 1457.63 Q1555.38 1453.48 1558.32 1451.07 Q1561.28 1448.67 1566.42 1448.67 Q1571.58 1448.67 1574.52 1451.07 Q1577.46 1453.48 1577.46 1457.63 Q1577.46 1460.59 1575.77 1462.65 Q1574.11 1464.71 1571.12 1465.45 Q1574.5 1466.24 1576.38 1468.53 Q1578.27 1470.82 1578.27 1474.13 Q1578.27 1479.15 1575.19 1481.84 Q1572.14 1484.52 1566.42 1484.52 Q1560.7 1484.52 1557.63 1481.84 Q1554.57 1479.15 1554.57 1474.13 Q1554.57 1470.82 1556.47 1468.53 Q1558.37 1466.24 1561.75 1465.45 M1560.03 1458.06 Q1560.03 1460.75 1561.7 1462.25 Q1563.39 1463.76 1566.42 1463.76 Q1569.43 1463.76 1571.12 1462.25 Q1572.83 1460.75 1572.83 1458.06 Q1572.83 1455.38 1571.12 1453.88 Q1569.43 1452.37 1566.42 1452.37 Q1563.39 1452.37 1561.7 1453.88 Q1560.03 1455.38 1560.03 1458.06 Z\" fill=\"#000000\" fill-rule=\"evenodd\" fill-opacity=\"1\" /><path clip-path=\"url(#clip860)\" d=\"M1738.32 1483.13 L1738.32 1478.88 Q1740.08 1479.71 1741.89 1480.15 Q1743.69 1480.59 1745.43 1480.59 Q1750.06 1480.59 1752.49 1477.49 Q1754.94 1474.36 1755.29 1468.02 Q1753.95 1470.01 1751.89 1471.07 Q1749.83 1472.14 1747.33 1472.14 Q1742.14 1472.14 1739.11 1469.01 Q1736.1 1465.87 1736.1 1460.43 Q1736.1 1455.1 1739.25 1451.88 Q1742.4 1448.67 1747.63 1448.67 Q1753.62 1448.67 1756.77 1453.27 Q1759.94 1457.86 1759.94 1466.61 Q1759.94 1474.78 1756.06 1479.66 Q1752.19 1484.52 1745.64 1484.52 Q1743.88 1484.52 1742.07 1484.18 Q1740.27 1483.83 1738.32 1483.13 M1747.63 1468.48 Q1750.78 1468.48 1752.61 1466.33 Q1754.46 1464.18 1754.46 1460.43 Q1754.46 1456.7 1752.61 1454.55 Q1750.78 1452.37 1747.63 1452.37 Q1744.48 1452.37 1742.63 1454.55 Q1740.8 1456.7 1740.8 1460.43 Q1740.8 1464.18 1742.63 1466.33 Q1744.48 1468.48 1747.63 1468.48 Z\" fill=\"#000000\" fill-rule=\"evenodd\" fill-opacity=\"1\" /><path clip-path=\"url(#clip860)\" d=\"M1904.31 1479.92 L1911.95 1479.92 L1911.95 1453.55 L1903.64 1455.22 L1903.64 1450.96 L1911.9 1449.29 L1916.58 1449.29 L1916.58 1479.92 L1924.22 1479.92 L1924.22 1483.85 L1904.31 1483.85 L1904.31 1479.92 Z\" fill=\"#000000\" fill-rule=\"evenodd\" fill-opacity=\"1\" /><path clip-path=\"url(#clip860)\" d=\"M1943.66 1452.37 Q1940.05 1452.37 1938.22 1455.94 Q1936.42 1459.48 1936.42 1466.61 Q1936.42 1473.71 1938.22 1477.28 Q1940.05 1480.82 1943.66 1480.82 Q1947.3 1480.82 1949.1 1477.28 Q1950.93 1473.71 1950.93 1466.61 Q1950.93 1459.48 1949.1 1455.94 Q1947.3 1452.37 1943.66 1452.37 M1943.66 1448.67 Q1949.47 1448.67 1952.53 1453.27 Q1955.61 1457.86 1955.61 1466.61 Q1955.61 1475.33 1952.53 1479.94 Q1949.47 1484.52 1943.66 1484.52 Q1937.85 1484.52 1934.77 1479.94 Q1931.72 1475.33 1931.72 1466.61 Q1931.72 1457.86 1934.77 1453.27 Q1937.85 1448.67 1943.66 1448.67 Z\" fill=\"#000000\" fill-rule=\"evenodd\" fill-opacity=\"1\" /><path clip-path=\"url(#clip860)\" d=\"M2086.53 1479.92 L2094.17 1479.92 L2094.17 1453.55 L2085.86 1455.22 L2085.86 1450.96 L2094.12 1449.29 L2098.8 1449.29 L2098.8 1479.92 L2106.43 1479.92 L2106.43 1483.85 L2086.53 1483.85 L2086.53 1479.92 Z\" fill=\"#000000\" fill-rule=\"evenodd\" fill-opacity=\"1\" /><path clip-path=\"url(#clip860)\" d=\"M2116.69 1479.92 L2124.33 1479.92 L2124.33 1453.55 L2116.02 1455.22 L2116.02 1450.96 L2124.28 1449.29 L2128.96 1449.29 L2128.96 1479.92 L2136.6 1479.92 L2136.6 1483.85 L2116.69 1483.85 L2116.69 1479.92 Z\" fill=\"#000000\" fill-rule=\"evenodd\" fill-opacity=\"1\" /><path clip-path=\"url(#clip860)\" d=\"M2268.31 1479.92 L2275.95 1479.92 L2275.95 1453.55 L2267.64 1455.22 L2267.64 1450.96 L2275.91 1449.29 L2280.58 1449.29 L2280.58 1479.92 L2288.22 1479.92 L2288.22 1483.85 L2268.31 1483.85 L2268.31 1479.92 Z\" fill=\"#000000\" fill-rule=\"evenodd\" fill-opacity=\"1\" /><path clip-path=\"url(#clip860)\" d=\"M2301.69 1479.92 L2318.01 1479.92 L2318.01 1483.85 L2296.07 1483.85 L2296.07 1479.92 Q2298.73 1477.16 2303.31 1472.53 Q2307.92 1467.88 2309.1 1466.54 Q2311.35 1464.01 2312.23 1462.28 Q2313.13 1460.52 2313.13 1458.83 Q2313.13 1456.07 2311.18 1454.34 Q2309.26 1452.6 2306.16 1452.6 Q2303.96 1452.6 2301.51 1453.37 Q2299.08 1454.13 2296.3 1455.68 L2296.3 1450.96 Q2299.12 1449.82 2301.58 1449.25 Q2304.03 1448.67 2306.07 1448.67 Q2311.44 1448.67 2314.63 1451.35 Q2317.83 1454.04 2317.83 1458.53 Q2317.83 1460.66 2317.02 1462.58 Q2316.23 1464.48 2314.12 1467.07 Q2313.54 1467.74 2310.44 1470.96 Q2307.34 1474.15 2301.69 1479.92 Z\" fill=\"#000000\" fill-rule=\"evenodd\" fill-opacity=\"1\" /><path clip-path=\"url(#clip860)\" d=\"M1155.77 1520.52 L1165.35 1520.52 L1177.48 1552.86 L1189.67 1520.52 L1199.25 1520.52 L1199.25 1568.04 L1192.98 1568.04 L1192.98 1526.32 L1180.73 1558.91 L1174.26 1558.91 L1162.01 1526.32 L1162.01 1568.04 L1155.77 1568.04 L1155.77 1520.52 Z\" fill=\"#000000\" fill-rule=\"evenodd\" fill-opacity=\"1\" /><path clip-path=\"url(#clip860)\" d=\"M1231.3 1524.88 Q1224.3 1524.88 1220.16 1530.1 Q1216.06 1535.32 1216.06 1544.33 Q1216.06 1553.31 1220.16 1558.53 Q1224.3 1563.75 1231.3 1563.75 Q1238.3 1563.75 1242.38 1558.53 Q1246.48 1553.31 1246.48 1544.33 Q1246.48 1535.32 1242.38 1530.1 Q1238.3 1524.88 1231.3 1524.88 M1231.3 1519.66 Q1241.3 1519.66 1247.28 1526.38 Q1253.26 1533.06 1253.26 1544.33 Q1253.26 1555.57 1247.28 1562.28 Q1241.3 1568.97 1231.3 1568.97 Q1221.28 1568.97 1215.26 1562.28 Q1209.28 1555.6 1209.28 1544.33 Q1209.28 1533.06 1215.26 1526.38 Q1221.28 1519.66 1231.3 1519.66 Z\" fill=\"#000000\" fill-rule=\"evenodd\" fill-opacity=\"1\" /><path clip-path=\"url(#clip860)\" d=\"M1263.32 1520.52 L1271.98 1520.52 L1293.05 1560.28 L1293.05 1520.52 L1299.29 1520.52 L1299.29 1568.04 L1290.63 1568.04 L1269.56 1528.29 L1269.56 1568.04 L1263.32 1568.04 L1263.32 1520.52 Z\" fill=\"#000000\" fill-rule=\"evenodd\" fill-opacity=\"1\" /><path clip-path=\"url(#clip860)\" d=\"M1305.49 1520.52 L1345.69 1520.52 L1345.69 1525.93 L1328.82 1525.93 L1328.82 1568.04 L1322.36 1568.04 L1322.36 1525.93 L1305.49 1525.93 L1305.49 1520.52 Z\" fill=\"#000000\" fill-rule=\"evenodd\" fill-opacity=\"1\" /><path clip-path=\"url(#clip860)\" d=\"M1351.9 1520.52 L1358.33 1520.52 L1358.33 1540 L1381.69 1540 L1381.69 1520.52 L1388.12 1520.52 L1388.12 1568.04 L1381.69 1568.04 L1381.69 1545.41 L1358.33 1545.41 L1358.33 1568.04 L1351.9 1568.04 L1351.9 1520.52 Z\" fill=\"#000000\" fill-rule=\"evenodd\" fill-opacity=\"1\" /><path clip-path=\"url(#clip860)\" d=\"M1429.4 1522.08 L1429.4 1528.35 Q1425.74 1526.6 1422.5 1525.74 Q1419.25 1524.88 1416.23 1524.88 Q1410.97 1524.88 1408.11 1526.92 Q1405.28 1528.96 1405.28 1532.71 Q1405.28 1535.87 1407.15 1537.49 Q1409.06 1539.08 1414.35 1540.07 L1418.23 1540.86 Q1425.42 1542.23 1428.83 1545.7 Q1432.27 1549.14 1432.27 1554.93 Q1432.27 1561.84 1427.62 1565.4 Q1423 1568.97 1414.06 1568.97 Q1410.69 1568.97 1406.87 1568.2 Q1403.08 1567.44 1399.01 1565.94 L1399.01 1559.32 Q1402.92 1561.52 1406.68 1562.63 Q1410.43 1563.75 1414.06 1563.75 Q1419.57 1563.75 1422.56 1561.58 Q1425.55 1559.42 1425.55 1555.41 Q1425.55 1551.91 1423.39 1549.93 Q1421.25 1547.96 1416.35 1546.97 L1412.44 1546.21 Q1405.24 1544.78 1402.03 1541.72 Q1398.81 1538.67 1398.81 1533.22 Q1398.81 1526.92 1403.24 1523.29 Q1407.69 1519.66 1415.49 1519.66 Q1418.83 1519.66 1422.3 1520.27 Q1425.77 1520.87 1429.4 1522.08 Z\" fill=\"#000000\" fill-rule=\"evenodd\" fill-opacity=\"1\" /><polyline clip-path=\"url(#clip862)\" style=\"stroke:#000000; stroke-linecap:butt; stroke-linejoin:round; stroke-width:2; stroke-opacity:0.1; fill:none\" points=\"\n",
       "  235.283,1386.4 2352.76,1386.4 \n",
       "  \"/>\n",
       "<polyline clip-path=\"url(#clip862)\" style=\"stroke:#000000; stroke-linecap:butt; stroke-linejoin:round; stroke-width:2; stroke-opacity:0.1; fill:none\" points=\"\n",
       "  235.283,1063.73 2352.76,1063.73 \n",
       "  \"/>\n",
       "<polyline clip-path=\"url(#clip862)\" style=\"stroke:#000000; stroke-linecap:butt; stroke-linejoin:round; stroke-width:2; stroke-opacity:0.1; fill:none\" points=\"\n",
       "  235.283,741.059 2352.76,741.059 \n",
       "  \"/>\n",
       "<polyline clip-path=\"url(#clip862)\" style=\"stroke:#000000; stroke-linecap:butt; stroke-linejoin:round; stroke-width:2; stroke-opacity:0.1; fill:none\" points=\"\n",
       "  235.283,418.391 2352.76,418.391 \n",
       "  \"/>\n",
       "<polyline clip-path=\"url(#clip860)\" style=\"stroke:#000000; stroke-linecap:butt; stroke-linejoin:round; stroke-width:4; stroke-opacity:1; fill:none\" points=\"\n",
       "  235.283,1423.18 235.283,123.472 \n",
       "  \"/>\n",
       "<polyline clip-path=\"url(#clip860)\" style=\"stroke:#000000; stroke-linecap:butt; stroke-linejoin:round; stroke-width:4; stroke-opacity:1; fill:none\" points=\"\n",
       "  235.283,1386.4 254.18,1386.4 \n",
       "  \"/>\n",
       "<polyline clip-path=\"url(#clip860)\" style=\"stroke:#000000; stroke-linecap:butt; stroke-linejoin:round; stroke-width:4; stroke-opacity:1; fill:none\" points=\"\n",
       "  235.283,1063.73 254.18,1063.73 \n",
       "  \"/>\n",
       "<polyline clip-path=\"url(#clip860)\" style=\"stroke:#000000; stroke-linecap:butt; stroke-linejoin:round; stroke-width:4; stroke-opacity:1; fill:none\" points=\"\n",
       "  235.283,741.059 254.18,741.059 \n",
       "  \"/>\n",
       "<polyline clip-path=\"url(#clip860)\" style=\"stroke:#000000; stroke-linecap:butt; stroke-linejoin:round; stroke-width:4; stroke-opacity:1; fill:none\" points=\"\n",
       "  235.283,418.391 254.18,418.391 \n",
       "  \"/>\n",
       "<path clip-path=\"url(#clip860)\" d=\"M117.825 1399.74 L125.464 1399.74 L125.464 1373.37 L117.154 1375.04 L117.154 1370.78 L125.418 1369.12 L130.093 1369.12 L130.093 1399.74 L137.732 1399.74 L137.732 1403.68 L117.825 1403.68 L117.825 1399.74 Z\" fill=\"#000000\" fill-rule=\"evenodd\" fill-opacity=\"1\" /><path clip-path=\"url(#clip860)\" d=\"M157.177 1372.19 Q153.566 1372.19 151.737 1375.76 Q149.931 1379.3 149.931 1386.43 Q149.931 1393.54 151.737 1397.1 Q153.566 1400.64 157.177 1400.64 Q160.811 1400.64 162.616 1397.1 Q164.445 1393.54 164.445 1386.43 Q164.445 1379.3 162.616 1375.76 Q160.811 1372.19 157.177 1372.19 M157.177 1368.49 Q162.987 1368.49 166.042 1373.1 Q169.121 1377.68 169.121 1386.43 Q169.121 1395.16 166.042 1399.76 Q162.987 1404.35 157.177 1404.35 Q151.366 1404.35 148.288 1399.76 Q145.232 1395.16 145.232 1386.43 Q145.232 1377.68 148.288 1373.1 Q151.366 1368.49 157.177 1368.49 Z\" fill=\"#000000\" fill-rule=\"evenodd\" fill-opacity=\"1\" /><path clip-path=\"url(#clip860)\" d=\"M187.338 1372.19 Q183.727 1372.19 181.899 1375.76 Q180.093 1379.3 180.093 1386.43 Q180.093 1393.54 181.899 1397.1 Q183.727 1400.64 187.338 1400.64 Q190.973 1400.64 192.778 1397.1 Q194.607 1393.54 194.607 1386.43 Q194.607 1379.3 192.778 1375.76 Q190.973 1372.19 187.338 1372.19 M187.338 1368.49 Q193.149 1368.49 196.204 1373.1 Q199.283 1377.68 199.283 1386.43 Q199.283 1395.16 196.204 1399.76 Q193.149 1404.35 187.338 1404.35 Q181.528 1404.35 178.45 1399.76 Q175.394 1395.16 175.394 1386.43 Q175.394 1377.68 178.45 1373.1 Q181.528 1368.49 187.338 1368.49 Z\" fill=\"#000000\" fill-rule=\"evenodd\" fill-opacity=\"1\" /><path clip-path=\"url(#clip860)\" d=\"M121.043 1077.07 L137.362 1077.07 L137.362 1081.01 L115.418 1081.01 L115.418 1077.07 Q118.08 1074.32 122.663 1069.69 Q127.269 1065.04 128.45 1063.69 Q130.695 1061.17 131.575 1059.43 Q132.478 1057.67 132.478 1055.98 Q132.478 1053.23 130.533 1051.49 Q128.612 1049.76 125.51 1049.76 Q123.311 1049.76 120.857 1050.52 Q118.427 1051.29 115.649 1052.84 L115.649 1048.11 Q118.473 1046.98 120.927 1046.4 Q123.38 1045.82 125.418 1045.82 Q130.788 1045.82 133.982 1048.51 Q137.177 1051.19 137.177 1055.68 Q137.177 1057.81 136.367 1059.73 Q135.579 1061.63 133.473 1064.23 Q132.894 1064.9 129.792 1068.11 Q126.691 1071.31 121.043 1077.07 Z\" fill=\"#000000\" fill-rule=\"evenodd\" fill-opacity=\"1\" /><path clip-path=\"url(#clip860)\" d=\"M157.177 1049.53 Q153.566 1049.53 151.737 1053.09 Q149.931 1056.63 149.931 1063.76 Q149.931 1070.87 151.737 1074.43 Q153.566 1077.98 157.177 1077.98 Q160.811 1077.98 162.616 1074.43 Q164.445 1070.87 164.445 1063.76 Q164.445 1056.63 162.616 1053.09 Q160.811 1049.53 157.177 1049.53 M157.177 1045.82 Q162.987 1045.82 166.042 1050.43 Q169.121 1055.01 169.121 1063.76 Q169.121 1072.49 166.042 1077.1 Q162.987 1081.68 157.177 1081.68 Q151.366 1081.68 148.288 1077.1 Q145.232 1072.49 145.232 1063.76 Q145.232 1055.01 148.288 1050.43 Q151.366 1045.82 157.177 1045.82 Z\" fill=\"#000000\" fill-rule=\"evenodd\" fill-opacity=\"1\" /><path clip-path=\"url(#clip860)\" d=\"M187.338 1049.53 Q183.727 1049.53 181.899 1053.09 Q180.093 1056.63 180.093 1063.76 Q180.093 1070.87 181.899 1074.43 Q183.727 1077.98 187.338 1077.98 Q190.973 1077.98 192.778 1074.43 Q194.607 1070.87 194.607 1063.76 Q194.607 1056.63 192.778 1053.09 Q190.973 1049.53 187.338 1049.53 M187.338 1045.82 Q193.149 1045.82 196.204 1050.43 Q199.283 1055.01 199.283 1063.76 Q199.283 1072.49 196.204 1077.1 Q193.149 1081.68 187.338 1081.68 Q181.528 1081.68 178.45 1077.1 Q175.394 1072.49 175.394 1063.76 Q175.394 1055.01 178.45 1050.43 Q181.528 1045.82 187.338 1045.82 Z\" fill=\"#000000\" fill-rule=\"evenodd\" fill-opacity=\"1\" /><path clip-path=\"url(#clip860)\" d=\"M131.181 739.705 Q134.538 740.423 136.413 742.691 Q138.311 744.96 138.311 748.293 Q138.311 753.409 134.792 756.21 Q131.274 759.01 124.793 759.01 Q122.617 759.01 120.302 758.571 Q118.01 758.154 115.556 757.297 L115.556 752.784 Q117.501 753.918 119.816 754.497 Q122.13 755.075 124.654 755.075 Q129.052 755.075 131.343 753.339 Q133.658 751.603 133.658 748.293 Q133.658 745.237 131.505 743.524 Q129.376 741.788 125.556 741.788 L121.529 741.788 L121.529 737.946 L125.742 737.946 Q129.191 737.946 131.019 736.58 Q132.848 735.191 132.848 732.599 Q132.848 729.937 130.95 728.525 Q129.075 727.089 125.556 727.089 Q123.635 727.089 121.436 727.506 Q119.237 727.923 116.598 728.802 L116.598 724.636 Q119.26 723.895 121.575 723.525 Q123.913 723.154 125.973 723.154 Q131.297 723.154 134.399 725.585 Q137.501 727.992 137.501 732.112 Q137.501 734.983 135.857 736.974 Q134.214 738.941 131.181 739.705 Z\" fill=\"#000000\" fill-rule=\"evenodd\" fill-opacity=\"1\" /><path clip-path=\"url(#clip860)\" d=\"M157.177 726.858 Q153.566 726.858 151.737 730.423 Q149.931 733.964 149.931 741.094 Q149.931 748.2 151.737 751.765 Q153.566 755.307 157.177 755.307 Q160.811 755.307 162.616 751.765 Q164.445 748.2 164.445 741.094 Q164.445 733.964 162.616 730.423 Q160.811 726.858 157.177 726.858 M157.177 723.154 Q162.987 723.154 166.042 727.761 Q169.121 732.344 169.121 741.094 Q169.121 749.821 166.042 754.427 Q162.987 759.01 157.177 759.01 Q151.366 759.01 148.288 754.427 Q145.232 749.821 145.232 741.094 Q145.232 732.344 148.288 727.761 Q151.366 723.154 157.177 723.154 Z\" fill=\"#000000\" fill-rule=\"evenodd\" fill-opacity=\"1\" /><path clip-path=\"url(#clip860)\" d=\"M187.338 726.858 Q183.727 726.858 181.899 730.423 Q180.093 733.964 180.093 741.094 Q180.093 748.2 181.899 751.765 Q183.727 755.307 187.338 755.307 Q190.973 755.307 192.778 751.765 Q194.607 748.2 194.607 741.094 Q194.607 733.964 192.778 730.423 Q190.973 726.858 187.338 726.858 M187.338 723.154 Q193.149 723.154 196.204 727.761 Q199.283 732.344 199.283 741.094 Q199.283 749.821 196.204 754.427 Q193.149 759.01 187.338 759.01 Q181.528 759.01 178.45 754.427 Q175.394 749.821 175.394 741.094 Q175.394 732.344 178.45 727.761 Q181.528 723.154 187.338 723.154 Z\" fill=\"#000000\" fill-rule=\"evenodd\" fill-opacity=\"1\" /><path clip-path=\"url(#clip860)\" d=\"M129.862 405.185 L118.056 423.634 L129.862 423.634 L129.862 405.185 M128.635 401.111 L134.515 401.111 L134.515 423.634 L139.445 423.634 L139.445 427.523 L134.515 427.523 L134.515 435.671 L129.862 435.671 L129.862 427.523 L114.26 427.523 L114.26 423.009 L128.635 401.111 Z\" fill=\"#000000\" fill-rule=\"evenodd\" fill-opacity=\"1\" /><path clip-path=\"url(#clip860)\" d=\"M157.177 404.19 Q153.566 404.19 151.737 407.754 Q149.931 411.296 149.931 418.426 Q149.931 425.532 151.737 429.097 Q153.566 432.639 157.177 432.639 Q160.811 432.639 162.616 429.097 Q164.445 425.532 164.445 418.426 Q164.445 411.296 162.616 407.754 Q160.811 404.19 157.177 404.19 M157.177 400.486 Q162.987 400.486 166.042 405.092 Q169.121 409.676 169.121 418.426 Q169.121 427.152 166.042 431.759 Q162.987 436.342 157.177 436.342 Q151.366 436.342 148.288 431.759 Q145.232 427.152 145.232 418.426 Q145.232 409.676 148.288 405.092 Q151.366 400.486 157.177 400.486 Z\" fill=\"#000000\" fill-rule=\"evenodd\" fill-opacity=\"1\" /><path clip-path=\"url(#clip860)\" d=\"M187.338 404.19 Q183.727 404.19 181.899 407.754 Q180.093 411.296 180.093 418.426 Q180.093 425.532 181.899 429.097 Q183.727 432.639 187.338 432.639 Q190.973 432.639 192.778 429.097 Q194.607 425.532 194.607 418.426 Q194.607 411.296 192.778 407.754 Q190.973 404.19 187.338 404.19 M187.338 400.486 Q193.149 400.486 196.204 405.092 Q199.283 409.676 199.283 418.426 Q199.283 427.152 196.204 431.759 Q193.149 436.342 187.338 436.342 Q181.528 436.342 178.45 431.759 Q175.394 427.152 175.394 418.426 Q175.394 409.676 178.45 405.092 Q181.528 400.486 187.338 400.486 Z\" fill=\"#000000\" fill-rule=\"evenodd\" fill-opacity=\"1\" /><path clip-path=\"url(#clip860)\" d=\"M21.7677 907.356 L58.7206 907.356 L58.7206 899.59 Q58.7206 889.755 54.2646 885.203 Q49.8086 880.62 40.1964 880.62 Q30.6479 880.62 26.2237 885.203 Q21.7677 889.755 21.7677 899.59 L21.7677 907.356 M16.4842 913.785 L16.4842 900.576 Q16.4842 886.763 22.2451 880.302 Q27.9743 873.84 40.1964 873.84 Q52.4822 873.84 58.2432 880.334 Q64.0042 886.827 64.0042 900.576 L64.0042 913.785 L16.4842 913.785 Z\" fill=\"#000000\" fill-rule=\"evenodd\" fill-opacity=\"1\" /><path clip-path=\"url(#clip860)\" d=\"M16.4842 863.592 L16.4842 833.546 L21.895 833.546 L21.895 857.162 L35.9632 857.162 L35.9632 834.532 L41.3741 834.532 L41.3741 857.162 L58.5933 857.162 L58.5933 832.973 L64.0042 832.973 L64.0042 863.592 L16.4842 863.592 Z\" fill=\"#000000\" fill-rule=\"evenodd\" fill-opacity=\"1\" /><path clip-path=\"url(#clip860)\" d=\"M16.4842 822.406 L16.4842 812.825 L48.8219 800.699 L16.4842 788.508 L16.4842 778.928 L64.0042 778.928 L64.0042 785.198 L22.277 785.198 L54.8694 797.452 L54.8694 803.913 L22.277 816.167 L64.0042 816.167 L64.0042 822.406 L16.4842 822.406 Z\" fill=\"#000000\" fill-rule=\"evenodd\" fill-opacity=\"1\" /><path clip-path=\"url(#clip860)\" d=\"M22.818 750.282 L46.4666 759.003 L46.4666 741.529 L22.818 750.282 M16.4842 753.911 L16.4842 746.622 L64.0042 728.511 L64.0042 735.195 L51.8138 739.524 L51.8138 760.945 L64.0042 765.273 L64.0042 772.053 L16.4842 753.911 Z\" fill=\"#000000\" fill-rule=\"evenodd\" fill-opacity=\"1\" /><path clip-path=\"url(#clip860)\" d=\"M16.4842 721.573 L16.4842 712.915 L56.238 691.845 L16.4842 691.845 L16.4842 685.607 L64.0042 685.607 L64.0042 694.264 L24.2503 715.334 L64.0042 715.334 L64.0042 721.573 L16.4842 721.573 Z\" fill=\"#000000\" fill-rule=\"evenodd\" fill-opacity=\"1\" /><path clip-path=\"url(#clip860)\" d=\"M21.7677 666.382 L58.7206 666.382 L58.7206 658.616 Q58.7206 648.781 54.2646 644.229 Q49.8086 639.646 40.1964 639.646 Q30.6479 639.646 26.2237 644.229 Q21.7677 648.781 21.7677 658.616 L21.7677 666.382 M16.4842 672.811 L16.4842 659.603 Q16.4842 645.789 22.2451 639.328 Q27.9743 632.867 40.1964 632.867 Q52.4822 632.867 58.2432 639.36 Q64.0042 645.853 64.0042 659.603 L64.0042 672.811 L16.4842 672.811 Z\" fill=\"#000000\" fill-rule=\"evenodd\" fill-opacity=\"1\" /><path clip-path=\"url(#clip860)\" d=\"M645.834 72.576 L622.744 12.096 L631.291 12.096 L650.452 63.0159 L669.654 12.096 L678.16 12.096 L655.111 72.576 L645.834 72.576 Z\" fill=\"#000000\" fill-rule=\"evenodd\" fill-opacity=\"1\" /><path clip-path=\"url(#clip860)\" d=\"M700.845 49.7694 Q691.812 49.7694 688.328 51.8354 Q684.844 53.9013 684.844 58.8839 Q684.844 62.8538 687.437 65.2034 Q690.07 67.5124 694.567 67.5124 Q700.764 67.5124 704.491 63.1374 Q708.259 58.7219 708.259 51.4303 L708.259 49.7694 L700.845 49.7694 M715.712 46.6907 L715.712 72.576 L708.259 72.576 L708.259 65.6895 Q705.707 69.8214 701.899 71.8063 Q698.091 73.7508 692.582 73.7508 Q685.614 73.7508 681.482 69.8619 Q677.391 65.9325 677.391 59.3701 Q677.391 51.7138 682.495 47.825 Q687.64 43.9361 697.807 43.9361 L708.259 43.9361 L708.259 43.2069 Q708.259 38.0623 704.856 35.2672 Q701.494 32.4315 695.377 32.4315 Q691.488 32.4315 687.802 33.3632 Q684.115 34.295 680.712 36.1584 L680.712 29.2718 Q684.804 27.692 688.652 26.9223 Q692.501 26.1121 696.146 26.1121 Q705.99 26.1121 710.851 31.2163 Q715.712 36.3204 715.712 46.6907 Z\" fill=\"#000000\" fill-rule=\"evenodd\" fill-opacity=\"1\" /><path clip-path=\"url(#clip860)\" d=\"M757.356 34.1734 Q756.1 33.4443 754.601 33.1202 Q753.143 32.7556 751.36 32.7556 Q745.041 32.7556 741.638 36.8875 Q738.276 40.9789 738.276 48.6757 L738.276 72.576 L730.782 72.576 L730.782 27.2059 L738.276 27.2059 L738.276 34.2544 Q740.625 30.1225 744.393 28.1376 Q748.16 26.1121 753.548 26.1121 Q754.317 26.1121 755.249 26.2337 Q756.181 26.3147 757.315 26.5172 L757.356 34.1734 Z\" fill=\"#000000\" fill-rule=\"evenodd\" fill-opacity=\"1\" /><path clip-path=\"url(#clip860)\" d=\"M765.174 27.2059 L772.627 27.2059 L772.627 72.576 L765.174 72.576 L765.174 27.2059 M765.174 9.54393 L772.627 9.54393 L772.627 18.9825 L765.174 18.9825 L765.174 9.54393 Z\" fill=\"#000000\" fill-rule=\"evenodd\" fill-opacity=\"1\" /><path clip-path=\"url(#clip860)\" d=\"M808.843 49.7694 Q799.809 49.7694 796.325 51.8354 Q792.842 53.9013 792.842 58.8839 Q792.842 62.8538 795.434 65.2034 Q798.067 67.5124 802.564 67.5124 Q808.762 67.5124 812.488 63.1374 Q816.256 58.7219 816.256 51.4303 L816.256 49.7694 L808.843 49.7694 M823.709 46.6907 L823.709 72.576 L816.256 72.576 L816.256 65.6895 Q813.704 69.8214 809.896 71.8063 Q806.088 73.7508 800.579 73.7508 Q793.611 73.7508 789.479 69.8619 Q785.388 65.9325 785.388 59.3701 Q785.388 51.7138 790.492 47.825 Q795.637 43.9361 805.804 43.9361 L816.256 43.9361 L816.256 43.2069 Q816.256 38.0623 812.853 35.2672 Q809.491 32.4315 803.374 32.4315 Q799.485 32.4315 795.799 33.3632 Q792.112 34.295 788.71 36.1584 L788.71 29.2718 Q792.801 27.692 796.649 26.9223 Q800.498 26.1121 804.144 26.1121 Q813.987 26.1121 818.848 31.2163 Q823.709 36.3204 823.709 46.6907 Z\" fill=\"#000000\" fill-rule=\"evenodd\" fill-opacity=\"1\" /><path clip-path=\"url(#clip860)\" d=\"M846.435 14.324 L846.435 27.2059 L861.788 27.2059 L861.788 32.9987 L846.435 32.9987 L846.435 57.6282 Q846.435 63.1779 847.934 64.7578 Q849.473 66.3376 854.132 66.3376 L861.788 66.3376 L861.788 72.576 L854.132 72.576 Q845.503 72.576 842.222 69.3758 Q838.941 66.1351 838.941 57.6282 L838.941 32.9987 L833.472 32.9987 L833.472 27.2059 L838.941 27.2059 L838.941 14.324 L846.435 14.324 Z\" fill=\"#000000\" fill-rule=\"evenodd\" fill-opacity=\"1\" /><path clip-path=\"url(#clip860)\" d=\"M871.591 27.2059 L879.045 27.2059 L879.045 72.576 L871.591 72.576 L871.591 27.2059 M871.591 9.54393 L879.045 9.54393 L879.045 18.9825 L871.591 18.9825 L871.591 9.54393 Z\" fill=\"#000000\" fill-rule=\"evenodd\" fill-opacity=\"1\" /><path clip-path=\"url(#clip860)\" d=\"M912.222 32.4315 Q906.226 32.4315 902.743 37.1306 Q899.259 41.7891 899.259 49.9314 Q899.259 58.0738 902.702 62.7728 Q906.186 67.4314 912.222 67.4314 Q918.176 67.4314 921.66 62.7323 Q925.144 58.0333 925.144 49.9314 Q925.144 41.8701 921.66 37.1711 Q918.176 32.4315 912.222 32.4315 M912.222 26.1121 Q921.944 26.1121 927.494 32.4315 Q933.043 38.7509 933.043 49.9314 Q933.043 61.0714 927.494 67.4314 Q921.944 73.7508 912.222 73.7508 Q902.459 73.7508 896.909 67.4314 Q891.4 61.0714 891.4 49.9314 Q891.4 38.7509 896.909 32.4315 Q902.459 26.1121 912.222 26.1121 Z\" fill=\"#000000\" fill-rule=\"evenodd\" fill-opacity=\"1\" /><path clip-path=\"url(#clip860)\" d=\"M983.112 45.1919 L983.112 72.576 L975.659 72.576 L975.659 45.4349 Q975.659 38.994 973.147 35.7938 Q970.636 32.5936 965.613 32.5936 Q959.577 32.5936 956.093 36.4419 Q952.609 40.2903 952.609 46.9338 L952.609 72.576 L945.115 72.576 L945.115 27.2059 L952.609 27.2059 L952.609 34.2544 Q955.283 30.163 958.888 28.1376 Q962.534 26.1121 967.273 26.1121 Q975.092 26.1121 979.102 30.9732 Q983.112 35.7938 983.112 45.1919 Z\" fill=\"#000000\" fill-rule=\"evenodd\" fill-opacity=\"1\" /><path clip-path=\"url(#clip860)\" d=\"M1041.93 32.4315 Q1035.94 32.4315 1032.45 37.1306 Q1028.97 41.7891 1028.97 49.9314 Q1028.97 58.0738 1032.41 62.7728 Q1035.9 67.4314 1041.93 67.4314 Q1047.89 67.4314 1051.37 62.7323 Q1054.85 58.0333 1054.85 49.9314 Q1054.85 41.8701 1051.37 37.1711 Q1047.89 32.4315 1041.93 32.4315 M1041.93 26.1121 Q1051.65 26.1121 1057.2 32.4315 Q1062.75 38.7509 1062.75 49.9314 Q1062.75 61.0714 1057.2 67.4314 Q1051.65 73.7508 1041.93 73.7508 Q1032.17 73.7508 1026.62 67.4314 Q1021.11 61.0714 1021.11 49.9314 Q1021.11 38.7509 1026.62 32.4315 Q1032.17 26.1121 1041.93 26.1121 Z\" fill=\"#000000\" fill-rule=\"evenodd\" fill-opacity=\"1\" /><path clip-path=\"url(#clip860)\" d=\"M1098.08 9.54393 L1098.08 15.7418 L1090.95 15.7418 Q1086.94 15.7418 1085.36 17.3622 Q1083.82 18.9825 1083.82 23.1955 L1083.82 27.2059 L1096.09 27.2059 L1096.09 32.9987 L1083.82 32.9987 L1083.82 72.576 L1076.32 72.576 L1076.32 32.9987 L1069.19 32.9987 L1069.19 27.2059 L1076.32 27.2059 L1076.32 24.0462 Q1076.32 16.471 1079.85 13.0277 Q1083.37 9.54393 1091.03 9.54393 L1098.08 9.54393 Z\" fill=\"#000000\" fill-rule=\"evenodd\" fill-opacity=\"1\" /><path clip-path=\"url(#clip860)\" d=\"M1139.19 18.8205 L1139.19 65.8515 L1149.08 65.8515 Q1161.6 65.8515 1167.39 60.1802 Q1173.22 54.509 1173.22 42.2752 Q1173.22 30.1225 1167.39 24.4918 Q1161.6 18.8205 1149.08 18.8205 L1139.19 18.8205 M1131.01 12.096 L1147.82 12.096 Q1165.4 12.096 1173.63 19.4281 Q1181.85 26.7198 1181.85 42.2752 Q1181.85 57.9117 1173.59 65.2439 Q1165.32 72.576 1147.82 72.576 L1131.01 72.576 L1131.01 12.096 Z\" fill=\"#000000\" fill-rule=\"evenodd\" fill-opacity=\"1\" /><path clip-path=\"url(#clip860)\" d=\"M1233.38 48.0275 L1233.38 51.6733 L1199.11 51.6733 Q1199.59 59.3701 1203.72 63.421 Q1207.9 67.4314 1215.31 67.4314 Q1219.6 67.4314 1223.61 66.3781 Q1227.67 65.3249 1231.64 63.2184 L1231.64 70.267 Q1227.63 71.9684 1223.41 72.8596 Q1219.2 73.7508 1214.86 73.7508 Q1204.01 73.7508 1197.65 67.4314 Q1191.33 61.1119 1191.33 50.3365 Q1191.33 39.1965 1197.32 32.6746 Q1203.36 26.1121 1213.57 26.1121 Q1222.72 26.1121 1228.03 32.0264 Q1233.38 37.9003 1233.38 48.0275 M1225.92 45.84 Q1225.84 39.7232 1222.48 36.0774 Q1219.16 32.4315 1213.65 32.4315 Q1207.41 32.4315 1203.64 35.9558 Q1199.92 39.4801 1199.35 45.8805 L1225.92 45.84 Z\" fill=\"#000000\" fill-rule=\"evenodd\" fill-opacity=\"1\" /><path clip-path=\"url(#clip860)\" d=\"M1280.93 35.9153 Q1283.73 30.8922 1287.62 28.5022 Q1291.51 26.1121 1296.77 26.1121 Q1303.86 26.1121 1307.71 31.0947 Q1311.56 36.0368 1311.56 45.1919 L1311.56 72.576 L1304.07 72.576 L1304.07 45.4349 Q1304.07 38.913 1301.76 35.7533 Q1299.45 32.5936 1294.71 32.5936 Q1288.92 32.5936 1285.55 36.4419 Q1282.19 40.2903 1282.19 46.9338 L1282.19 72.576 L1274.7 72.576 L1274.7 45.4349 Q1274.7 38.8725 1272.39 35.7533 Q1270.08 32.5936 1265.26 32.5936 Q1259.55 32.5936 1256.18 36.4824 Q1252.82 40.3308 1252.82 46.9338 L1252.82 72.576 L1245.33 72.576 L1245.33 27.2059 L1252.82 27.2059 L1252.82 34.2544 Q1255.37 30.082 1258.94 28.0971 Q1262.5 26.1121 1267.4 26.1121 Q1272.35 26.1121 1275.79 28.6237 Q1279.27 31.1352 1280.93 35.9153 Z\" fill=\"#000000\" fill-rule=\"evenodd\" fill-opacity=\"1\" /><path clip-path=\"url(#clip860)\" d=\"M1347.05 49.7694 Q1338.01 49.7694 1334.53 51.8354 Q1331.04 53.9013 1331.04 58.8839 Q1331.04 62.8538 1333.64 65.2034 Q1336.27 67.5124 1340.77 67.5124 Q1346.96 67.5124 1350.69 63.1374 Q1354.46 58.7219 1354.46 51.4303 L1354.46 49.7694 L1347.05 49.7694 M1361.91 46.6907 L1361.91 72.576 L1354.46 72.576 L1354.46 65.6895 Q1351.91 69.8214 1348.1 71.8063 Q1344.29 73.7508 1338.78 73.7508 Q1331.81 73.7508 1327.68 69.8619 Q1323.59 65.9325 1323.59 59.3701 Q1323.59 51.7138 1328.7 47.825 Q1333.84 43.9361 1344.01 43.9361 L1354.46 43.9361 L1354.46 43.2069 Q1354.46 38.0623 1351.06 35.2672 Q1347.69 32.4315 1341.58 32.4315 Q1337.69 32.4315 1334 33.3632 Q1330.32 34.295 1326.91 36.1584 L1326.91 29.2718 Q1331 27.692 1334.85 26.9223 Q1338.7 26.1121 1342.35 26.1121 Q1352.19 26.1121 1357.05 31.2163 Q1361.91 36.3204 1361.91 46.6907 Z\" fill=\"#000000\" fill-rule=\"evenodd\" fill-opacity=\"1\" /><path clip-path=\"url(#clip860)\" d=\"M1414.98 45.1919 L1414.98 72.576 L1407.53 72.576 L1407.53 45.4349 Q1407.53 38.994 1405.01 35.7938 Q1402.5 32.5936 1397.48 32.5936 Q1391.44 32.5936 1387.96 36.4419 Q1384.48 40.2903 1384.48 46.9338 L1384.48 72.576 L1376.98 72.576 L1376.98 27.2059 L1384.48 27.2059 L1384.48 34.2544 Q1387.15 30.163 1390.75 28.1376 Q1394.4 26.1121 1399.14 26.1121 Q1406.96 26.1121 1410.97 30.9732 Q1414.98 35.7938 1414.98 45.1919 Z\" fill=\"#000000\" fill-rule=\"evenodd\" fill-opacity=\"1\" /><path clip-path=\"url(#clip860)\" d=\"M1459.7 34.0924 L1459.7 9.54393 L1467.16 9.54393 L1467.16 72.576 L1459.7 72.576 L1459.7 65.7705 Q1457.35 69.8214 1453.75 71.8063 Q1450.18 73.7508 1445.16 73.7508 Q1436.94 73.7508 1431.75 67.1883 Q1426.61 60.6258 1426.61 49.9314 Q1426.61 39.2371 1431.75 32.6746 Q1436.94 26.1121 1445.16 26.1121 Q1450.18 26.1121 1453.75 28.0971 Q1457.35 30.0415 1459.7 34.0924 M1434.3 49.9314 Q1434.3 58.1548 1437.66 62.8538 Q1441.07 67.5124 1446.98 67.5124 Q1452.9 67.5124 1456.3 62.8538 Q1459.7 58.1548 1459.7 49.9314 Q1459.7 41.7081 1456.3 37.0496 Q1452.9 32.3505 1446.98 32.3505 Q1441.07 32.3505 1437.66 37.0496 Q1434.3 41.7081 1434.3 49.9314 Z\" fill=\"#000000\" fill-rule=\"evenodd\" fill-opacity=\"1\" /><path clip-path=\"url(#clip860)\" d=\"M1526.46 32.4315 Q1520.46 32.4315 1516.98 37.1306 Q1513.5 41.7891 1513.5 49.9314 Q1513.5 58.0738 1516.94 62.7728 Q1520.42 67.4314 1526.46 67.4314 Q1532.42 67.4314 1535.9 62.7323 Q1539.38 58.0333 1539.38 49.9314 Q1539.38 41.8701 1535.9 37.1711 Q1532.42 32.4315 1526.46 32.4315 M1526.46 26.1121 Q1536.18 26.1121 1541.73 32.4315 Q1547.28 38.7509 1547.28 49.9314 Q1547.28 61.0714 1541.73 67.4314 Q1536.18 73.7508 1526.46 73.7508 Q1516.7 73.7508 1511.15 67.4314 Q1505.64 61.0714 1505.64 49.9314 Q1505.64 38.7509 1511.15 32.4315 Q1516.7 26.1121 1526.46 26.1121 Z\" fill=\"#000000\" fill-rule=\"evenodd\" fill-opacity=\"1\" /><path clip-path=\"url(#clip860)\" d=\"M1554.29 27.2059 L1562.19 27.2059 L1576.37 65.2844 L1590.55 27.2059 L1598.44 27.2059 L1581.43 72.576 L1571.3 72.576 L1554.29 27.2059 Z\" fill=\"#000000\" fill-rule=\"evenodd\" fill-opacity=\"1\" /><path clip-path=\"url(#clip860)\" d=\"M1647.54 48.0275 L1647.54 51.6733 L1613.27 51.6733 Q1613.76 59.3701 1617.89 63.421 Q1622.06 67.4314 1629.47 67.4314 Q1633.77 67.4314 1637.78 66.3781 Q1641.83 65.3249 1645.8 63.2184 L1645.8 70.267 Q1641.79 71.9684 1637.58 72.8596 Q1633.36 73.7508 1629.03 73.7508 Q1618.17 73.7508 1611.81 67.4314 Q1605.49 61.1119 1605.49 50.3365 Q1605.49 39.1965 1611.49 32.6746 Q1617.52 26.1121 1627.73 26.1121 Q1636.89 26.1121 1642.19 32.0264 Q1647.54 37.9003 1647.54 48.0275 M1640.09 45.84 Q1640.01 39.7232 1636.64 36.0774 Q1633.32 32.4315 1627.81 32.4315 Q1621.58 32.4315 1617.81 35.9558 Q1614.08 39.4801 1613.51 45.8805 L1640.09 45.84 Z\" fill=\"#000000\" fill-rule=\"evenodd\" fill-opacity=\"1\" /><path clip-path=\"url(#clip860)\" d=\"M1686.07 34.1734 Q1684.81 33.4443 1683.31 33.1202 Q1681.85 32.7556 1680.07 32.7556 Q1673.75 32.7556 1670.35 36.8875 Q1666.99 40.9789 1666.99 48.6757 L1666.99 72.576 L1659.49 72.576 L1659.49 27.2059 L1666.99 27.2059 L1666.99 34.2544 Q1669.34 30.1225 1673.1 28.1376 Q1676.87 26.1121 1682.26 26.1121 Q1683.03 26.1121 1683.96 26.2337 Q1684.89 26.3147 1686.03 26.5172 L1686.07 34.1734 Z\" fill=\"#000000\" fill-rule=\"evenodd\" fill-opacity=\"1\" /><path clip-path=\"url(#clip860)\" d=\"M1740.87 49.7694 Q1731.84 49.7694 1728.36 51.8354 Q1724.87 53.9013 1724.87 58.8839 Q1724.87 62.8538 1727.47 65.2034 Q1730.1 67.5124 1734.6 67.5124 Q1740.79 67.5124 1744.52 63.1374 Q1748.29 58.7219 1748.29 51.4303 L1748.29 49.7694 L1740.87 49.7694 M1755.74 46.6907 L1755.74 72.576 L1748.29 72.576 L1748.29 65.6895 Q1745.74 69.8214 1741.93 71.8063 Q1738.12 73.7508 1732.61 73.7508 Q1725.64 73.7508 1721.51 69.8619 Q1717.42 65.9325 1717.42 59.3701 Q1717.42 51.7138 1722.52 47.825 Q1727.67 43.9361 1737.84 43.9361 L1748.29 43.9361 L1748.29 43.2069 Q1748.29 38.0623 1744.89 35.2672 Q1741.52 32.4315 1735.41 32.4315 Q1731.52 32.4315 1727.83 33.3632 Q1724.14 34.295 1720.74 36.1584 L1720.74 29.2718 Q1724.83 27.692 1728.68 26.9223 Q1732.53 26.1121 1736.18 26.1121 Q1746.02 26.1121 1750.88 31.2163 Q1755.74 36.3204 1755.74 46.6907 Z\" fill=\"#000000\" fill-rule=\"evenodd\" fill-opacity=\"1\" /><path clip-path=\"url(#clip860)\" d=\"M1789.49 12.096 L1798.28 12.096 L1815.05 36.9686 L1831.7 12.096 L1840.49 12.096 L1819.1 43.7741 L1819.1 72.576 L1810.87 72.576 L1810.87 43.7741 L1789.49 12.096 Z\" fill=\"#000000\" fill-rule=\"evenodd\" fill-opacity=\"1\" /><path clip-path=\"url(#clip860)\" d=\"M1875.93 48.0275 L1875.93 51.6733 L1841.66 51.6733 Q1842.15 59.3701 1846.28 63.421 Q1850.45 67.4314 1857.86 67.4314 Q1862.16 67.4314 1866.17 66.3781 Q1870.22 65.3249 1874.19 63.2184 L1874.19 70.267 Q1870.18 71.9684 1865.97 72.8596 Q1861.75 73.7508 1857.42 73.7508 Q1846.56 73.7508 1840.2 67.4314 Q1833.88 61.1119 1833.88 50.3365 Q1833.88 39.1965 1839.88 32.6746 Q1845.91 26.1121 1856.12 26.1121 Q1865.28 26.1121 1870.58 32.0264 Q1875.93 37.9003 1875.93 48.0275 M1868.48 45.84 Q1868.4 39.7232 1865.03 36.0774 Q1861.71 32.4315 1856.2 32.4315 Q1849.97 32.4315 1846.2 35.9558 Q1842.47 39.4801 1841.9 45.8805 L1868.48 45.84 Z\" fill=\"#000000\" fill-rule=\"evenodd\" fill-opacity=\"1\" /><path clip-path=\"url(#clip860)\" d=\"M1908.78 49.7694 Q1899.75 49.7694 1896.27 51.8354 Q1892.78 53.9013 1892.78 58.8839 Q1892.78 62.8538 1895.38 65.2034 Q1898.01 67.5124 1902.51 67.5124 Q1908.7 67.5124 1912.43 63.1374 Q1916.2 58.7219 1916.2 51.4303 L1916.2 49.7694 L1908.78 49.7694 M1923.65 46.6907 L1923.65 72.576 L1916.2 72.576 L1916.2 65.6895 Q1913.65 69.8214 1909.84 71.8063 Q1906.03 73.7508 1900.52 73.7508 Q1893.55 73.7508 1889.42 69.8619 Q1885.33 65.9325 1885.33 59.3701 Q1885.33 51.7138 1890.43 47.825 Q1895.58 43.9361 1905.75 43.9361 L1916.2 43.9361 L1916.2 43.2069 Q1916.2 38.0623 1912.79 35.2672 Q1909.43 32.4315 1903.32 32.4315 Q1899.43 32.4315 1895.74 33.3632 Q1892.05 34.295 1888.65 36.1584 L1888.65 29.2718 Q1892.74 27.692 1896.59 26.9223 Q1900.44 26.1121 1904.09 26.1121 Q1913.93 26.1121 1918.79 31.2163 Q1923.65 36.3204 1923.65 46.6907 Z\" fill=\"#000000\" fill-rule=\"evenodd\" fill-opacity=\"1\" /><path clip-path=\"url(#clip860)\" d=\"M1965.29 34.1734 Q1964.04 33.4443 1962.54 33.1202 Q1961.08 32.7556 1959.3 32.7556 Q1952.98 32.7556 1949.58 36.8875 Q1946.21 40.9789 1946.21 48.6757 L1946.21 72.576 L1938.72 72.576 L1938.72 27.2059 L1946.21 27.2059 L1946.21 34.2544 Q1948.56 30.1225 1952.33 28.1376 Q1956.1 26.1121 1961.49 26.1121 Q1962.26 26.1121 1963.19 26.2337 Q1964.12 26.3147 1965.25 26.5172 L1965.29 34.1734 Z\" fill=\"#000000\" fill-rule=\"evenodd\" fill-opacity=\"1\" /><polyline clip-path=\"url(#clip862)\" style=\"stroke:#009af9; stroke-linecap:butt; stroke-linejoin:round; stroke-width:4; stroke-opacity:1; fill:none\" points=\"\n",
       "  295.211,1247.65 476.813,883.033 658.414,228.017 840.016,1034.69 1021.62,912.073 1203.22,802.366 1384.82,1386.4 1566.42,1279.92 1748.02,837.86 1929.62,160.256 \n",
       "  2111.23,792.686 2292.83,386.124 \n",
       "  \"/>\n",
       "</svg>\n"
      ]
     },
     "execution_count": 3,
     "metadata": {},
     "output_type": "execute_result"
    }
   ],
   "source": [
    "using Plots, Statistics, Optim, GLPK\n",
    "demand = [143, 256, 459, 209, 247, 281, 100, 133, 270, 480, 284, 410]\n",
    "preorder_number = [52, 128, 167, 105, 244, 193, 81, 76, 217, 468, 195, 341]\n",
    "\n",
    "print(\"The co-relation between the demand and the pre-order is: \", cor(demand, preorder_number))\n",
    "\n",
    "plot(demand, xlabel = \"MONTHS\", ylabel = \"DEMAND\",  legend = false, title = \"Variation of Demand over a Year\", xticks = 1:length(demand))"
   ]
  },
  {
   "cell_type": "code",
   "execution_count": 4,
   "metadata": {},
   "outputs": [
    {
     "data": {
      "image/svg+xml": [
       "<?xml version=\"1.0\" encoding=\"utf-8\"?>\n",
       "<svg xmlns=\"http://www.w3.org/2000/svg\" xmlns:xlink=\"http://www.w3.org/1999/xlink\" width=\"600\" height=\"400\" viewBox=\"0 0 2400 1600\">\n",
       "<defs>\n",
       "  <clipPath id=\"clip900\">\n",
       "    <rect x=\"0\" y=\"0\" width=\"2400\" height=\"1600\"/>\n",
       "  </clipPath>\n",
       "</defs>\n",
       "<path clip-path=\"url(#clip900)\" d=\"\n",
       "M0 1600 L2400 1600 L2400 0 L0 0  Z\n",
       "  \" fill=\"#ffffff\" fill-rule=\"evenodd\" fill-opacity=\"1\"/>\n",
       "<defs>\n",
       "  <clipPath id=\"clip901\">\n",
       "    <rect x=\"480\" y=\"0\" width=\"1681\" height=\"1600\"/>\n",
       "  </clipPath>\n",
       "</defs>\n",
       "<path clip-path=\"url(#clip900)\" d=\"\n",
       "M235.283 1489.49 L2352.76 1489.49 L2352.76 123.472 L235.283 123.472  Z\n",
       "  \" fill=\"#ffffff\" fill-rule=\"evenodd\" fill-opacity=\"1\"/>\n",
       "<defs>\n",
       "  <clipPath id=\"clip902\">\n",
       "    <rect x=\"235\" y=\"123\" width=\"2118\" height=\"1367\"/>\n",
       "  </clipPath>\n",
       "</defs>\n",
       "<polyline clip-path=\"url(#clip900)\" style=\"stroke:#000000; stroke-linecap:butt; stroke-linejoin:round; stroke-width:4; stroke-opacity:1; fill:none\" points=\"\n",
       "  235.283,1489.49 2352.76,1489.49 \n",
       "  \"/>\n",
       "<path clip-path=\"url(#clip900)\" d=\"M1105.24 1540.28 L1105.24 1558.13 L1113.33 1558.13 Q1117.82 1558.13 1120.27 1555.81 Q1122.72 1553.48 1122.72 1549.19 Q1122.72 1544.92 1120.27 1542.6 Q1117.82 1540.28 1113.33 1540.28 L1105.24 1540.28 M1098.81 1534.99 L1113.33 1534.99 Q1121.32 1534.99 1125.39 1538.62 Q1129.5 1542.22 1129.5 1549.19 Q1129.5 1556.22 1125.39 1559.82 Q1121.32 1563.41 1113.33 1563.41 L1105.24 1563.41 L1105.24 1582.51 L1098.81 1582.51 L1098.81 1534.99 Z\" fill=\"#000000\" fill-rule=\"evenodd\" fill-opacity=\"1\" /><path clip-path=\"url(#clip900)\" d=\"M1160.66 1560.23 Q1162.73 1560.93 1164.67 1563.22 Q1166.64 1565.52 1168.61 1569.53 L1175.14 1582.51 L1168.23 1582.51 L1162.15 1570.32 Q1159.8 1565.55 1157.57 1563.99 Q1155.37 1562.43 1151.55 1562.43 L1144.55 1562.43 L1144.55 1582.51 L1138.12 1582.51 L1138.12 1534.99 L1152.64 1534.99 Q1160.79 1534.99 1164.8 1538.4 Q1168.81 1541.8 1168.81 1548.68 Q1168.81 1553.17 1166.71 1556.13 Q1164.64 1559.09 1160.66 1560.23 M1144.55 1540.28 L1144.55 1557.14 L1152.64 1557.14 Q1157.28 1557.14 1159.64 1555.01 Q1162.03 1552.85 1162.03 1548.68 Q1162.03 1544.51 1159.64 1542.41 Q1157.28 1540.28 1152.64 1540.28 L1144.55 1540.28 Z\" fill=\"#000000\" fill-rule=\"evenodd\" fill-opacity=\"1\" /><path clip-path=\"url(#clip900)\" d=\"M1183.42 1534.99 L1213.46 1534.99 L1213.46 1540.4 L1189.84 1540.4 L1189.84 1554.47 L1212.47 1554.47 L1212.47 1559.88 L1189.84 1559.88 L1189.84 1577.1 L1214.03 1577.1 L1214.03 1582.51 L1183.42 1582.51 L1183.42 1534.99 Z\" fill=\"#000000\" fill-rule=\"evenodd\" fill-opacity=\"1\" /><path clip-path=\"url(#clip900)\" d=\"M1243.89 1539.35 Q1236.89 1539.35 1232.75 1544.57 Q1228.64 1549.79 1228.64 1558.8 Q1228.64 1567.78 1232.75 1573 Q1236.89 1578.22 1243.89 1578.22 Q1250.89 1578.22 1254.97 1573 Q1259.07 1567.78 1259.07 1558.8 Q1259.07 1549.79 1254.97 1544.57 Q1250.89 1539.35 1243.89 1539.35 M1243.89 1534.13 Q1253.88 1534.13 1259.87 1540.85 Q1265.85 1547.53 1265.85 1558.8 Q1265.85 1570.04 1259.87 1576.75 Q1253.88 1583.43 1243.89 1583.43 Q1233.86 1583.43 1227.85 1576.75 Q1221.86 1570.07 1221.86 1558.8 Q1221.86 1547.53 1227.85 1540.85 Q1233.86 1534.13 1243.89 1534.13 Z\" fill=\"#000000\" fill-rule=\"evenodd\" fill-opacity=\"1\" /><path clip-path=\"url(#clip900)\" d=\"M1298.44 1560.23 Q1300.51 1560.93 1302.45 1563.22 Q1304.43 1565.52 1306.4 1569.53 L1312.93 1582.51 L1306.02 1582.51 L1299.94 1570.32 Q1297.58 1565.55 1295.36 1563.99 Q1293.16 1562.43 1289.34 1562.43 L1282.34 1562.43 L1282.34 1582.51 L1275.91 1582.51 L1275.91 1534.99 L1290.42 1534.99 Q1298.57 1534.99 1302.58 1538.4 Q1306.59 1541.8 1306.59 1548.68 Q1306.59 1553.17 1304.49 1556.13 Q1302.42 1559.09 1298.44 1560.23 M1282.34 1540.28 L1282.34 1557.14 L1290.42 1557.14 Q1295.07 1557.14 1297.43 1555.01 Q1299.81 1552.85 1299.81 1548.68 Q1299.81 1544.51 1297.43 1542.41 Q1295.07 1540.28 1290.42 1540.28 L1282.34 1540.28 Z\" fill=\"#000000\" fill-rule=\"evenodd\" fill-opacity=\"1\" /><path clip-path=\"url(#clip900)\" d=\"M1327.63 1540.28 L1327.63 1577.23 L1335.4 1577.23 Q1345.23 1577.23 1349.78 1572.77 Q1354.37 1568.32 1354.37 1558.7 Q1354.37 1549.16 1349.78 1544.73 Q1345.23 1540.28 1335.4 1540.28 L1327.63 1540.28 M1321.2 1534.99 L1334.41 1534.99 Q1348.22 1534.99 1354.68 1540.75 Q1361.15 1546.48 1361.15 1558.7 Q1361.15 1570.99 1354.65 1576.75 Q1348.16 1582.51 1334.41 1582.51 L1321.2 1582.51 L1321.2 1534.99 Z\" fill=\"#000000\" fill-rule=\"evenodd\" fill-opacity=\"1\" /><path clip-path=\"url(#clip900)\" d=\"M1371.39 1534.99 L1401.44 1534.99 L1401.44 1540.4 L1377.82 1540.4 L1377.82 1554.47 L1400.45 1554.47 L1400.45 1559.88 L1377.82 1559.88 L1377.82 1577.1 L1402.01 1577.1 L1402.01 1582.51 L1371.39 1582.51 L1371.39 1534.99 Z\" fill=\"#000000\" fill-rule=\"evenodd\" fill-opacity=\"1\" /><path clip-path=\"url(#clip900)\" d=\"M1435.12 1560.23 Q1437.18 1560.93 1439.13 1563.22 Q1441.1 1565.52 1443.07 1569.53 L1449.6 1582.51 L1442.69 1582.51 L1436.61 1570.32 Q1434.26 1565.55 1432.03 1563.99 Q1429.83 1562.43 1426.01 1562.43 L1419.01 1562.43 L1419.01 1582.51 L1412.58 1582.51 L1412.58 1534.99 L1427.09 1534.99 Q1435.24 1534.99 1439.25 1538.4 Q1443.26 1541.8 1443.26 1548.68 Q1443.26 1553.17 1441.16 1556.13 Q1439.09 1559.09 1435.12 1560.23 M1419.01 1540.28 L1419.01 1557.14 L1427.09 1557.14 Q1431.74 1557.14 1434.1 1555.01 Q1436.48 1552.85 1436.48 1548.68 Q1436.48 1544.51 1434.1 1542.41 Q1431.74 1540.28 1427.09 1540.28 L1419.01 1540.28 Z\" fill=\"#000000\" fill-rule=\"evenodd\" fill-opacity=\"1\" /><path clip-path=\"url(#clip900)\" d=\"M1486.36 1536.55 L1486.36 1542.82 Q1482.7 1541.07 1479.45 1540.21 Q1476.21 1539.35 1473.18 1539.35 Q1467.93 1539.35 1465.07 1541.39 Q1462.23 1543.43 1462.23 1547.18 Q1462.23 1550.33 1464.11 1551.96 Q1466.02 1553.55 1471.3 1554.53 L1475.19 1555.33 Q1482.38 1556.7 1485.79 1560.17 Q1489.22 1563.61 1489.22 1569.4 Q1489.22 1576.31 1484.58 1579.87 Q1479.96 1583.43 1471.02 1583.43 Q1467.64 1583.43 1463.82 1582.67 Q1460.04 1581.91 1455.96 1580.41 L1455.96 1573.79 Q1459.88 1575.99 1463.63 1577.1 Q1467.39 1578.22 1471.02 1578.22 Q1476.52 1578.22 1479.52 1576.05 Q1482.51 1573.89 1482.51 1569.88 Q1482.51 1566.37 1480.34 1564.4 Q1478.21 1562.43 1473.31 1561.44 L1469.39 1560.68 Q1462.2 1559.25 1458.99 1556.19 Q1455.77 1553.13 1455.77 1547.69 Q1455.77 1541.39 1460.2 1537.76 Q1464.65 1534.13 1472.45 1534.13 Q1475.79 1534.13 1479.26 1534.74 Q1482.73 1535.34 1486.36 1536.55 Z\" fill=\"#000000\" fill-rule=\"evenodd\" fill-opacity=\"1\" /><polyline clip-path=\"url(#clip902)\" style=\"stroke:#000000; stroke-linecap:butt; stroke-linejoin:round; stroke-width:2; stroke-opacity:0.1; fill:none\" points=\"\n",
       "  235.283,1450.83 2352.76,1450.83 \n",
       "  \"/>\n",
       "<polyline clip-path=\"url(#clip902)\" style=\"stroke:#000000; stroke-linecap:butt; stroke-linejoin:round; stroke-width:2; stroke-opacity:0.1; fill:none\" points=\"\n",
       "  235.283,1111.7 2352.76,1111.7 \n",
       "  \"/>\n",
       "<polyline clip-path=\"url(#clip902)\" style=\"stroke:#000000; stroke-linecap:butt; stroke-linejoin:round; stroke-width:2; stroke-opacity:0.1; fill:none\" points=\"\n",
       "  235.283,772.567 2352.76,772.567 \n",
       "  \"/>\n",
       "<polyline clip-path=\"url(#clip902)\" style=\"stroke:#000000; stroke-linecap:butt; stroke-linejoin:round; stroke-width:2; stroke-opacity:0.1; fill:none\" points=\"\n",
       "  235.283,433.437 2352.76,433.437 \n",
       "  \"/>\n",
       "<polyline clip-path=\"url(#clip900)\" style=\"stroke:#000000; stroke-linecap:butt; stroke-linejoin:round; stroke-width:4; stroke-opacity:1; fill:none\" points=\"\n",
       "  235.283,1489.49 235.283,123.472 \n",
       "  \"/>\n",
       "<polyline clip-path=\"url(#clip900)\" style=\"stroke:#000000; stroke-linecap:butt; stroke-linejoin:round; stroke-width:4; stroke-opacity:1; fill:none\" points=\"\n",
       "  235.283,1450.83 254.18,1450.83 \n",
       "  \"/>\n",
       "<polyline clip-path=\"url(#clip900)\" style=\"stroke:#000000; stroke-linecap:butt; stroke-linejoin:round; stroke-width:4; stroke-opacity:1; fill:none\" points=\"\n",
       "  235.283,1111.7 254.18,1111.7 \n",
       "  \"/>\n",
       "<polyline clip-path=\"url(#clip900)\" style=\"stroke:#000000; stroke-linecap:butt; stroke-linejoin:round; stroke-width:4; stroke-opacity:1; fill:none\" points=\"\n",
       "  235.283,772.567 254.18,772.567 \n",
       "  \"/>\n",
       "<polyline clip-path=\"url(#clip900)\" style=\"stroke:#000000; stroke-linecap:butt; stroke-linejoin:round; stroke-width:4; stroke-opacity:1; fill:none\" points=\"\n",
       "  235.283,433.437 254.18,433.437 \n",
       "  \"/>\n",
       "<path clip-path=\"url(#clip900)\" d=\"M117.825 1464.17 L125.464 1464.17 L125.464 1437.81 L117.154 1439.47 L117.154 1435.21 L125.418 1433.55 L130.093 1433.55 L130.093 1464.17 L137.732 1464.17 L137.732 1468.11 L117.825 1468.11 L117.825 1464.17 Z\" fill=\"#000000\" fill-rule=\"evenodd\" fill-opacity=\"1\" /><path clip-path=\"url(#clip900)\" d=\"M157.177 1436.63 Q153.566 1436.63 151.737 1440.19 Q149.931 1443.73 149.931 1450.86 Q149.931 1457.97 151.737 1461.53 Q153.566 1465.07 157.177 1465.07 Q160.811 1465.07 162.616 1461.53 Q164.445 1457.97 164.445 1450.86 Q164.445 1443.73 162.616 1440.19 Q160.811 1436.63 157.177 1436.63 M157.177 1432.92 Q162.987 1432.92 166.042 1437.53 Q169.121 1442.11 169.121 1450.86 Q169.121 1459.59 166.042 1464.2 Q162.987 1468.78 157.177 1468.78 Q151.366 1468.78 148.288 1464.2 Q145.232 1459.59 145.232 1450.86 Q145.232 1442.11 148.288 1437.53 Q151.366 1432.92 157.177 1432.92 Z\" fill=\"#000000\" fill-rule=\"evenodd\" fill-opacity=\"1\" /><path clip-path=\"url(#clip900)\" d=\"M187.338 1436.63 Q183.727 1436.63 181.899 1440.19 Q180.093 1443.73 180.093 1450.86 Q180.093 1457.97 181.899 1461.53 Q183.727 1465.07 187.338 1465.07 Q190.973 1465.07 192.778 1461.53 Q194.607 1457.97 194.607 1450.86 Q194.607 1443.73 192.778 1440.19 Q190.973 1436.63 187.338 1436.63 M187.338 1432.92 Q193.149 1432.92 196.204 1437.53 Q199.283 1442.11 199.283 1450.86 Q199.283 1459.59 196.204 1464.2 Q193.149 1468.78 187.338 1468.78 Q181.528 1468.78 178.45 1464.2 Q175.394 1459.59 175.394 1450.86 Q175.394 1442.11 178.45 1437.53 Q181.528 1432.92 187.338 1432.92 Z\" fill=\"#000000\" fill-rule=\"evenodd\" fill-opacity=\"1\" /><path clip-path=\"url(#clip900)\" d=\"M121.043 1125.04 L137.362 1125.04 L137.362 1128.98 L115.418 1128.98 L115.418 1125.04 Q118.08 1122.29 122.663 1117.66 Q127.269 1113 128.45 1111.66 Q130.695 1109.14 131.575 1107.4 Q132.478 1105.64 132.478 1103.95 Q132.478 1101.2 130.533 1099.46 Q128.612 1097.73 125.51 1097.73 Q123.311 1097.73 120.857 1098.49 Q118.427 1099.25 115.649 1100.81 L115.649 1096.08 Q118.473 1094.95 120.927 1094.37 Q123.38 1093.79 125.418 1093.79 Q130.788 1093.79 133.982 1096.48 Q137.177 1099.16 137.177 1103.65 Q137.177 1105.78 136.367 1107.7 Q135.579 1109.6 133.473 1112.19 Q132.894 1112.87 129.792 1116.08 Q126.691 1119.28 121.043 1125.04 Z\" fill=\"#000000\" fill-rule=\"evenodd\" fill-opacity=\"1\" /><path clip-path=\"url(#clip900)\" d=\"M157.177 1097.5 Q153.566 1097.5 151.737 1101.06 Q149.931 1104.6 149.931 1111.73 Q149.931 1118.84 151.737 1122.4 Q153.566 1125.94 157.177 1125.94 Q160.811 1125.94 162.616 1122.4 Q164.445 1118.84 164.445 1111.73 Q164.445 1104.6 162.616 1101.06 Q160.811 1097.5 157.177 1097.5 M157.177 1093.79 Q162.987 1093.79 166.042 1098.4 Q169.121 1102.98 169.121 1111.73 Q169.121 1120.46 166.042 1125.07 Q162.987 1129.65 157.177 1129.65 Q151.366 1129.65 148.288 1125.07 Q145.232 1120.46 145.232 1111.73 Q145.232 1102.98 148.288 1098.4 Q151.366 1093.79 157.177 1093.79 Z\" fill=\"#000000\" fill-rule=\"evenodd\" fill-opacity=\"1\" /><path clip-path=\"url(#clip900)\" d=\"M187.338 1097.5 Q183.727 1097.5 181.899 1101.06 Q180.093 1104.6 180.093 1111.73 Q180.093 1118.84 181.899 1122.4 Q183.727 1125.94 187.338 1125.94 Q190.973 1125.94 192.778 1122.4 Q194.607 1118.84 194.607 1111.73 Q194.607 1104.6 192.778 1101.06 Q190.973 1097.5 187.338 1097.5 M187.338 1093.79 Q193.149 1093.79 196.204 1098.4 Q199.283 1102.98 199.283 1111.73 Q199.283 1120.46 196.204 1125.07 Q193.149 1129.65 187.338 1129.65 Q181.528 1129.65 178.45 1125.07 Q175.394 1120.46 175.394 1111.73 Q175.394 1102.98 178.45 1098.4 Q181.528 1093.79 187.338 1093.79 Z\" fill=\"#000000\" fill-rule=\"evenodd\" fill-opacity=\"1\" /><path clip-path=\"url(#clip900)\" d=\"M131.181 771.213 Q134.538 771.93 136.413 774.199 Q138.311 776.467 138.311 779.801 Q138.311 784.916 134.792 787.717 Q131.274 790.518 124.793 790.518 Q122.617 790.518 120.302 790.078 Q118.01 789.662 115.556 788.805 L115.556 784.291 Q117.501 785.426 119.816 786.004 Q122.13 786.583 124.654 786.583 Q129.052 786.583 131.343 784.847 Q133.658 783.111 133.658 779.801 Q133.658 776.745 131.505 775.032 Q129.376 773.296 125.556 773.296 L121.529 773.296 L121.529 769.454 L125.742 769.454 Q129.191 769.454 131.019 768.088 Q132.848 766.699 132.848 764.106 Q132.848 761.444 130.95 760.032 Q129.075 758.597 125.556 758.597 Q123.635 758.597 121.436 759.014 Q119.237 759.43 116.598 760.31 L116.598 756.143 Q119.26 755.403 121.575 755.032 Q123.913 754.662 125.973 754.662 Q131.297 754.662 134.399 757.093 Q137.501 759.5 137.501 763.62 Q137.501 766.491 135.857 768.481 Q134.214 770.449 131.181 771.213 Z\" fill=\"#000000\" fill-rule=\"evenodd\" fill-opacity=\"1\" /><path clip-path=\"url(#clip900)\" d=\"M157.177 758.366 Q153.566 758.366 151.737 761.93 Q149.931 765.472 149.931 772.602 Q149.931 779.708 151.737 783.273 Q153.566 786.815 157.177 786.815 Q160.811 786.815 162.616 783.273 Q164.445 779.708 164.445 772.602 Q164.445 765.472 162.616 761.93 Q160.811 758.366 157.177 758.366 M157.177 754.662 Q162.987 754.662 166.042 759.268 Q169.121 763.852 169.121 772.602 Q169.121 781.329 166.042 785.935 Q162.987 790.518 157.177 790.518 Q151.366 790.518 148.288 785.935 Q145.232 781.329 145.232 772.602 Q145.232 763.852 148.288 759.268 Q151.366 754.662 157.177 754.662 Z\" fill=\"#000000\" fill-rule=\"evenodd\" fill-opacity=\"1\" /><path clip-path=\"url(#clip900)\" d=\"M187.338 758.366 Q183.727 758.366 181.899 761.93 Q180.093 765.472 180.093 772.602 Q180.093 779.708 181.899 783.273 Q183.727 786.815 187.338 786.815 Q190.973 786.815 192.778 783.273 Q194.607 779.708 194.607 772.602 Q194.607 765.472 192.778 761.93 Q190.973 758.366 187.338 758.366 M187.338 754.662 Q193.149 754.662 196.204 759.268 Q199.283 763.852 199.283 772.602 Q199.283 781.329 196.204 785.935 Q193.149 790.518 187.338 790.518 Q181.528 790.518 178.45 785.935 Q175.394 781.329 175.394 772.602 Q175.394 763.852 178.45 759.268 Q181.528 754.662 187.338 754.662 Z\" fill=\"#000000\" fill-rule=\"evenodd\" fill-opacity=\"1\" /><path clip-path=\"url(#clip900)\" d=\"M129.862 420.231 L118.056 438.68 L129.862 438.68 L129.862 420.231 M128.635 416.157 L134.515 416.157 L134.515 438.68 L139.445 438.68 L139.445 442.569 L134.515 442.569 L134.515 450.717 L129.862 450.717 L129.862 442.569 L114.26 442.569 L114.26 438.055 L128.635 416.157 Z\" fill=\"#000000\" fill-rule=\"evenodd\" fill-opacity=\"1\" /><path clip-path=\"url(#clip900)\" d=\"M157.177 419.236 Q153.566 419.236 151.737 422.8 Q149.931 426.342 149.931 433.472 Q149.931 440.578 151.737 444.143 Q153.566 447.685 157.177 447.685 Q160.811 447.685 162.616 444.143 Q164.445 440.578 164.445 433.472 Q164.445 426.342 162.616 422.8 Q160.811 419.236 157.177 419.236 M157.177 415.532 Q162.987 415.532 166.042 420.138 Q169.121 424.722 169.121 433.472 Q169.121 442.198 166.042 446.805 Q162.987 451.388 157.177 451.388 Q151.366 451.388 148.288 446.805 Q145.232 442.198 145.232 433.472 Q145.232 424.722 148.288 420.138 Q151.366 415.532 157.177 415.532 Z\" fill=\"#000000\" fill-rule=\"evenodd\" fill-opacity=\"1\" /><path clip-path=\"url(#clip900)\" d=\"M187.338 419.236 Q183.727 419.236 181.899 422.8 Q180.093 426.342 180.093 433.472 Q180.093 440.578 181.899 444.143 Q183.727 447.685 187.338 447.685 Q190.973 447.685 192.778 444.143 Q194.607 440.578 194.607 433.472 Q194.607 426.342 192.778 422.8 Q190.973 419.236 187.338 419.236 M187.338 415.532 Q193.149 415.532 196.204 420.138 Q199.283 424.722 199.283 433.472 Q199.283 442.198 196.204 446.805 Q193.149 451.388 187.338 451.388 Q181.528 451.388 178.45 446.805 Q175.394 442.198 175.394 433.472 Q175.394 424.722 178.45 420.138 Q181.528 415.532 187.338 415.532 Z\" fill=\"#000000\" fill-rule=\"evenodd\" fill-opacity=\"1\" /><path clip-path=\"url(#clip900)\" d=\"M21.7677 940.51 L58.7206 940.51 L58.7206 932.744 Q58.7206 922.909 54.2646 918.357 Q49.8086 913.774 40.1964 913.774 Q30.6479 913.774 26.2237 918.357 Q21.7677 922.909 21.7677 932.744 L21.7677 940.51 M16.4842 946.939 L16.4842 933.73 Q16.4842 919.917 22.2451 913.456 Q27.9743 906.995 40.1964 906.995 Q52.4822 906.995 58.2432 913.488 Q64.0042 919.981 64.0042 933.73 L64.0042 946.939 L16.4842 946.939 Z\" fill=\"#000000\" fill-rule=\"evenodd\" fill-opacity=\"1\" /><path clip-path=\"url(#clip900)\" d=\"M16.4842 896.746 L16.4842 866.7 L21.895 866.7 L21.895 890.316 L35.9632 890.316 L35.9632 867.686 L41.3741 867.686 L41.3741 890.316 L58.5933 890.316 L58.5933 866.127 L64.0042 866.127 L64.0042 896.746 L16.4842 896.746 Z\" fill=\"#000000\" fill-rule=\"evenodd\" fill-opacity=\"1\" /><path clip-path=\"url(#clip900)\" d=\"M16.4842 855.56 L16.4842 845.979 L48.8219 833.853 L16.4842 821.662 L16.4842 812.082 L64.0042 812.082 L64.0042 818.352 L22.277 818.352 L54.8694 830.606 L54.8694 837.067 L22.277 849.321 L64.0042 849.321 L64.0042 855.56 L16.4842 855.56 Z\" fill=\"#000000\" fill-rule=\"evenodd\" fill-opacity=\"1\" /><path clip-path=\"url(#clip900)\" d=\"M22.818 783.436 L46.4666 792.157 L46.4666 774.683 L22.818 783.436 M16.4842 787.065 L16.4842 779.776 L64.0042 761.665 L64.0042 768.349 L51.8138 772.678 L51.8138 794.099 L64.0042 798.427 L64.0042 805.207 L16.4842 787.065 Z\" fill=\"#000000\" fill-rule=\"evenodd\" fill-opacity=\"1\" /><path clip-path=\"url(#clip900)\" d=\"M16.4842 754.727 L16.4842 746.069 L56.238 724.999 L16.4842 724.999 L16.4842 718.761 L64.0042 718.761 L64.0042 727.418 L24.2503 748.488 L64.0042 748.488 L64.0042 754.727 L16.4842 754.727 Z\" fill=\"#000000\" fill-rule=\"evenodd\" fill-opacity=\"1\" /><path clip-path=\"url(#clip900)\" d=\"M21.7677 699.536 L58.7206 699.536 L58.7206 691.77 Q58.7206 681.935 54.2646 677.383 Q49.8086 672.8 40.1964 672.8 Q30.6479 672.8 26.2237 677.383 Q21.7677 681.935 21.7677 691.77 L21.7677 699.536 M16.4842 705.965 L16.4842 692.757 Q16.4842 678.943 22.2451 672.482 Q27.9743 666.021 40.1964 666.021 Q52.4822 666.021 58.2432 672.514 Q64.0042 679.007 64.0042 692.757 L64.0042 705.965 L16.4842 705.965 Z\" fill=\"#000000\" fill-rule=\"evenodd\" fill-opacity=\"1\" /><path clip-path=\"url(#clip900)\" d=\"M881.212 18.8205 L881.212 41.5461 L891.501 41.5461 Q897.213 41.5461 900.332 38.5889 Q903.451 35.6318 903.451 30.163 Q903.451 24.7348 900.332 21.7777 Q897.213 18.8205 891.501 18.8205 L881.212 18.8205 M873.029 12.096 L891.501 12.096 Q901.669 12.096 906.854 16.714 Q912.08 21.2916 912.08 30.163 Q912.08 39.1155 906.854 43.6931 Q901.669 48.2706 891.501 48.2706 L881.212 48.2706 L881.212 72.576 L873.029 72.576 L873.029 12.096 Z\" fill=\"#000000\" fill-rule=\"evenodd\" fill-opacity=\"1\" /><path clip-path=\"url(#clip900)\" d=\"M947.566 34.1734 Q946.31 33.4443 944.811 33.1202 Q943.353 32.7556 941.57 32.7556 Q935.251 32.7556 931.848 36.8875 Q928.486 40.9789 928.486 48.6757 L928.486 72.576 L920.992 72.576 L920.992 27.2059 L928.486 27.2059 L928.486 34.2544 Q930.836 30.1225 934.603 28.1376 Q938.37 26.1121 943.758 26.1121 Q944.528 26.1121 945.459 26.2337 Q946.391 26.3147 947.525 26.5172 L947.566 34.1734 Z\" fill=\"#000000\" fill-rule=\"evenodd\" fill-opacity=\"1\" /><path clip-path=\"url(#clip900)\" d=\"M992.369 48.0275 L992.369 51.6733 L958.098 51.6733 Q958.584 59.3701 962.716 63.421 Q966.889 67.4314 974.302 67.4314 Q978.596 67.4314 982.606 66.3781 Q986.657 65.3249 990.627 63.2184 L990.627 70.267 Q986.617 71.9684 982.404 72.8596 Q978.191 73.7508 973.856 73.7508 Q963 73.7508 956.64 67.4314 Q950.32 61.1119 950.32 50.3365 Q950.32 39.1965 956.316 32.6746 Q962.352 26.1121 972.56 26.1121 Q981.715 26.1121 987.022 32.0264 Q992.369 37.9003 992.369 48.0275 M984.915 45.84 Q984.834 39.7232 981.472 36.0774 Q978.15 32.4315 972.641 32.4315 Q966.402 32.4315 962.635 35.9558 Q958.908 39.4801 958.341 45.8805 L984.915 45.84 Z\" fill=\"#000000\" fill-rule=\"evenodd\" fill-opacity=\"1\" /><path clip-path=\"url(#clip900)\" d=\"M1022.18 32.4315 Q1016.19 32.4315 1012.7 37.1306 Q1009.22 41.7891 1009.22 49.9314 Q1009.22 58.0738 1012.66 62.7728 Q1016.15 67.4314 1022.18 67.4314 Q1028.14 67.4314 1031.62 62.7323 Q1035.11 58.0333 1035.11 49.9314 Q1035.11 41.8701 1031.62 37.1711 Q1028.14 32.4315 1022.18 32.4315 M1022.18 26.1121 Q1031.91 26.1121 1037.46 32.4315 Q1043.01 38.7509 1043.01 49.9314 Q1043.01 61.0714 1037.46 67.4314 Q1031.91 73.7508 1022.18 73.7508 Q1012.42 73.7508 1006.87 67.4314 Q1001.36 61.0714 1001.36 49.9314 Q1001.36 38.7509 1006.87 32.4315 Q1012.42 26.1121 1022.18 26.1121 Z\" fill=\"#000000\" fill-rule=\"evenodd\" fill-opacity=\"1\" /><path clip-path=\"url(#clip900)\" d=\"M1081.65 34.1734 Q1080.39 33.4443 1078.9 33.1202 Q1077.44 32.7556 1075.66 32.7556 Q1069.34 32.7556 1065.93 36.8875 Q1062.57 40.9789 1062.57 48.6757 L1062.57 72.576 L1055.08 72.576 L1055.08 27.2059 L1062.57 27.2059 L1062.57 34.2544 Q1064.92 30.1225 1068.69 28.1376 Q1072.46 26.1121 1077.84 26.1121 Q1078.61 26.1121 1079.54 26.2337 Q1080.48 26.3147 1081.61 26.5172 L1081.65 34.1734 Z\" fill=\"#000000\" fill-rule=\"evenodd\" fill-opacity=\"1\" /><path clip-path=\"url(#clip900)\" d=\"M1117.87 34.0924 L1117.87 9.54393 L1125.32 9.54393 L1125.32 72.576 L1117.87 72.576 L1117.87 65.7705 Q1115.52 69.8214 1111.91 71.8063 Q1108.35 73.7508 1103.32 73.7508 Q1095.1 73.7508 1089.91 67.1883 Q1084.77 60.6258 1084.77 49.9314 Q1084.77 39.2371 1089.91 32.6746 Q1095.1 26.1121 1103.32 26.1121 Q1108.35 26.1121 1111.91 28.0971 Q1115.52 30.0415 1117.87 34.0924 M1092.47 49.9314 Q1092.47 58.1548 1095.83 62.8538 Q1099.23 67.5124 1105.15 67.5124 Q1111.06 67.5124 1114.46 62.8538 Q1117.87 58.1548 1117.87 49.9314 Q1117.87 41.7081 1114.46 37.0496 Q1111.06 32.3505 1105.15 32.3505 Q1099.23 32.3505 1095.83 37.0496 Q1092.47 41.7081 1092.47 49.9314 Z\" fill=\"#000000\" fill-rule=\"evenodd\" fill-opacity=\"1\" /><path clip-path=\"url(#clip900)\" d=\"M1179.48 48.0275 L1179.48 51.6733 L1145.21 51.6733 Q1145.7 59.3701 1149.83 63.421 Q1154 67.4314 1161.41 67.4314 Q1165.71 67.4314 1169.72 66.3781 Q1173.77 65.3249 1177.74 63.2184 L1177.74 70.267 Q1173.73 71.9684 1169.51 72.8596 Q1165.3 73.7508 1160.97 73.7508 Q1150.11 73.7508 1143.75 67.4314 Q1137.43 61.1119 1137.43 50.3365 Q1137.43 39.1965 1143.43 32.6746 Q1149.46 26.1121 1159.67 26.1121 Q1168.83 26.1121 1174.13 32.0264 Q1179.48 37.9003 1179.48 48.0275 M1172.03 45.84 Q1171.95 39.7232 1168.58 36.0774 Q1165.26 32.4315 1159.75 32.4315 Q1153.51 32.4315 1149.75 35.9558 Q1146.02 39.4801 1145.45 45.8805 L1172.03 45.84 Z\" fill=\"#000000\" fill-rule=\"evenodd\" fill-opacity=\"1\" /><path clip-path=\"url(#clip900)\" d=\"M1218 34.1734 Q1216.75 33.4443 1215.25 33.1202 Q1213.79 32.7556 1212.01 32.7556 Q1205.69 32.7556 1202.29 36.8875 Q1198.92 40.9789 1198.92 48.6757 L1198.92 72.576 L1191.43 72.576 L1191.43 27.2059 L1198.92 27.2059 L1198.92 34.2544 Q1201.27 30.1225 1205.04 28.1376 Q1208.81 26.1121 1214.2 26.1121 Q1214.97 26.1121 1215.9 26.2337 Q1216.83 26.3147 1217.96 26.5172 L1218 34.1734 Z\" fill=\"#000000\" fill-rule=\"evenodd\" fill-opacity=\"1\" /><path clip-path=\"url(#clip900)\" d=\"M1268.11 72.576 L1245.02 12.096 L1253.57 12.096 L1272.73 63.0159 L1291.93 12.096 L1300.44 12.096 L1277.39 72.576 L1268.11 72.576 Z\" fill=\"#000000\" fill-rule=\"evenodd\" fill-opacity=\"1\" /><path clip-path=\"url(#clip900)\" d=\"M1337.87 28.5427 L1337.87 35.5912 Q1334.71 33.9709 1331.31 33.1607 Q1327.91 32.3505 1324.26 32.3505 Q1318.71 32.3505 1315.91 34.0519 Q1313.16 35.7533 1313.16 39.156 Q1313.16 41.7486 1315.14 43.2475 Q1317.13 44.7058 1323.13 46.0426 L1325.68 46.6097 Q1333.62 48.3111 1336.94 51.4303 Q1340.3 54.509 1340.3 60.0587 Q1340.3 66.3781 1335.28 70.0644 Q1330.3 73.7508 1321.55 73.7508 Q1317.9 73.7508 1313.93 73.0216 Q1310 72.3329 1305.63 70.9151 L1305.63 63.2184 Q1309.76 65.3654 1313.77 66.4591 Q1317.78 67.5124 1321.71 67.5124 Q1326.97 67.5124 1329.81 65.73 Q1332.64 63.9071 1332.64 60.6258 Q1332.64 57.5877 1330.58 55.9673 Q1328.55 54.3469 1321.63 52.8481 L1319.03 52.2405 Q1312.11 50.7821 1309.03 47.7845 Q1305.95 44.7463 1305.95 39.4801 Q1305.95 33.0797 1310.49 29.5959 Q1315.02 26.1121 1323.37 26.1121 Q1327.5 26.1121 1331.15 26.7198 Q1334.79 27.3274 1337.87 28.5427 Z\" fill=\"#000000\" fill-rule=\"evenodd\" fill-opacity=\"1\" /><path clip-path=\"url(#clip900)\" d=\"M1387.05 18.8205 L1387.05 65.8515 L1396.93 65.8515 Q1409.45 65.8515 1415.24 60.1802 Q1421.08 54.509 1421.08 42.2752 Q1421.08 30.1225 1415.24 24.4918 Q1409.45 18.8205 1396.93 18.8205 L1387.05 18.8205 M1378.87 12.096 L1395.68 12.096 Q1413.26 12.096 1421.48 19.4281 Q1429.7 26.7198 1429.7 42.2752 Q1429.7 57.9117 1421.44 65.2439 Q1413.18 72.576 1395.68 72.576 L1378.87 72.576 L1378.87 12.096 Z\" fill=\"#000000\" fill-rule=\"evenodd\" fill-opacity=\"1\" /><path clip-path=\"url(#clip900)\" d=\"M1481.23 48.0275 L1481.23 51.6733 L1446.96 51.6733 Q1447.45 59.3701 1451.58 63.421 Q1455.75 67.4314 1463.16 67.4314 Q1467.46 67.4314 1471.47 66.3781 Q1475.52 65.3249 1479.49 63.2184 L1479.49 70.267 Q1475.48 71.9684 1471.27 72.8596 Q1467.05 73.7508 1462.72 73.7508 Q1451.86 73.7508 1445.5 67.4314 Q1439.18 61.1119 1439.18 50.3365 Q1439.18 39.1965 1445.18 32.6746 Q1451.21 26.1121 1461.42 26.1121 Q1470.58 26.1121 1475.88 32.0264 Q1481.23 37.9003 1481.23 48.0275 M1473.78 45.84 Q1473.7 39.7232 1470.33 36.0774 Q1467.01 32.4315 1461.5 32.4315 Q1455.27 32.4315 1451.5 35.9558 Q1447.77 39.4801 1447.2 45.8805 L1473.78 45.84 Z\" fill=\"#000000\" fill-rule=\"evenodd\" fill-opacity=\"1\" /><path clip-path=\"url(#clip900)\" d=\"M1528.79 35.9153 Q1531.58 30.8922 1535.47 28.5022 Q1539.36 26.1121 1544.63 26.1121 Q1551.72 26.1121 1555.57 31.0947 Q1559.41 36.0368 1559.41 45.1919 L1559.41 72.576 L1551.92 72.576 L1551.92 45.4349 Q1551.92 38.913 1549.61 35.7533 Q1547.3 32.5936 1542.56 32.5936 Q1536.77 32.5936 1533.41 36.4419 Q1530.05 40.2903 1530.05 46.9338 L1530.05 72.576 L1522.55 72.576 L1522.55 45.4349 Q1522.55 38.8725 1520.24 35.7533 Q1517.93 32.5936 1513.11 32.5936 Q1507.4 32.5936 1504.04 36.4824 Q1500.68 40.3308 1500.68 46.9338 L1500.68 72.576 L1493.18 72.576 L1493.18 27.2059 L1500.68 27.2059 L1500.68 34.2544 Q1503.23 30.082 1506.79 28.0971 Q1510.36 26.1121 1515.26 26.1121 Q1520.2 26.1121 1523.64 28.6237 Q1527.13 31.1352 1528.79 35.9153 Z\" fill=\"#000000\" fill-rule=\"evenodd\" fill-opacity=\"1\" /><path clip-path=\"url(#clip900)\" d=\"M1594.9 49.7694 Q1585.87 49.7694 1582.38 51.8354 Q1578.9 53.9013 1578.9 58.8839 Q1578.9 62.8538 1581.49 65.2034 Q1584.12 67.5124 1588.62 67.5124 Q1594.82 67.5124 1598.55 63.1374 Q1602.31 58.7219 1602.31 51.4303 L1602.31 49.7694 L1594.9 49.7694 M1609.77 46.6907 L1609.77 72.576 L1602.31 72.576 L1602.31 65.6895 Q1599.76 69.8214 1595.95 71.8063 Q1592.15 73.7508 1586.64 73.7508 Q1579.67 73.7508 1575.54 69.8619 Q1571.45 65.9325 1571.45 59.3701 Q1571.45 51.7138 1576.55 47.825 Q1581.69 43.9361 1591.86 43.9361 L1602.31 43.9361 L1602.31 43.2069 Q1602.31 38.0623 1598.91 35.2672 Q1595.55 32.4315 1589.43 32.4315 Q1585.54 32.4315 1581.86 33.3632 Q1578.17 34.295 1574.77 36.1584 L1574.77 29.2718 Q1578.86 27.692 1582.71 26.9223 Q1586.56 26.1121 1590.2 26.1121 Q1600.04 26.1121 1604.91 31.2163 Q1609.77 36.3204 1609.77 46.6907 Z\" fill=\"#000000\" fill-rule=\"evenodd\" fill-opacity=\"1\" /><path clip-path=\"url(#clip900)\" d=\"M1662.83 45.1919 L1662.83 72.576 L1655.38 72.576 L1655.38 45.4349 Q1655.38 38.994 1652.87 35.7938 Q1650.36 32.5936 1645.33 32.5936 Q1639.3 32.5936 1635.81 36.4419 Q1632.33 40.2903 1632.33 46.9338 L1632.33 72.576 L1624.84 72.576 L1624.84 27.2059 L1632.33 27.2059 L1632.33 34.2544 Q1635 30.163 1638.61 28.1376 Q1642.26 26.1121 1646.99 26.1121 Q1654.81 26.1121 1658.82 30.9732 Q1662.83 35.7938 1662.83 45.1919 Z\" fill=\"#000000\" fill-rule=\"evenodd\" fill-opacity=\"1\" /><path clip-path=\"url(#clip900)\" d=\"M1707.56 34.0924 L1707.56 9.54393 L1715.01 9.54393 L1715.01 72.576 L1707.56 72.576 L1707.56 65.7705 Q1705.21 69.8214 1701.6 71.8063 Q1698.04 73.7508 1693.01 73.7508 Q1684.79 73.7508 1679.6 67.1883 Q1674.46 60.6258 1674.46 49.9314 Q1674.46 39.2371 1679.6 32.6746 Q1684.79 26.1121 1693.01 26.1121 Q1698.04 26.1121 1701.6 28.0971 Q1705.21 30.0415 1707.56 34.0924 M1682.16 49.9314 Q1682.16 58.1548 1685.52 62.8538 Q1688.92 67.5124 1694.84 67.5124 Q1700.75 67.5124 1704.15 62.8538 Q1707.56 58.1548 1707.56 49.9314 Q1707.56 41.7081 1704.15 37.0496 Q1700.75 32.3505 1694.84 32.3505 Q1688.92 32.3505 1685.52 37.0496 Q1682.16 41.7081 1682.16 49.9314 Z\" fill=\"#000000\" fill-rule=\"evenodd\" fill-opacity=\"1\" /><circle clip-path=\"url(#clip902)\" cx=\"295.211\" cy=\"1305\" r=\"14\" fill=\"#009af9\" fill-rule=\"evenodd\" fill-opacity=\"1\" stroke=\"#000000\" stroke-opacity=\"1\" stroke-width=\"3.2\"/>\n",
       "<circle clip-path=\"url(#clip902)\" cx=\"660.16\" cy=\"921.784\" r=\"14\" fill=\"#009af9\" fill-rule=\"evenodd\" fill-opacity=\"1\" stroke=\"#000000\" stroke-opacity=\"1\" stroke-width=\"3.2\"/>\n",
       "<circle clip-path=\"url(#clip902)\" cx=\"847.437\" cy=\"233.35\" r=\"14\" fill=\"#009af9\" fill-rule=\"evenodd\" fill-opacity=\"1\" stroke=\"#000000\" stroke-opacity=\"1\" stroke-width=\"3.2\"/>\n",
       "<circle clip-path=\"url(#clip902)\" cx=\"549.715\" cy=\"1081.18\" r=\"14\" fill=\"#009af9\" fill-rule=\"evenodd\" fill-opacity=\"1\" stroke=\"#000000\" stroke-opacity=\"1\" stroke-width=\"3.2\"/>\n",
       "<circle clip-path=\"url(#clip902)\" cx=\"1217.19\" cy=\"952.306\" r=\"14\" fill=\"#009af9\" fill-rule=\"evenodd\" fill-opacity=\"1\" stroke=\"#000000\" stroke-opacity=\"1\" stroke-width=\"3.2\"/>\n",
       "<circle clip-path=\"url(#clip902)\" cx=\"972.288\" cy=\"837.002\" r=\"14\" fill=\"#009af9\" fill-rule=\"evenodd\" fill-opacity=\"1\" stroke=\"#000000\" stroke-opacity=\"1\" stroke-width=\"3.2\"/>\n",
       "<circle clip-path=\"url(#clip902)\" cx=\"434.468\" cy=\"1450.83\" r=\"14\" fill=\"#009af9\" fill-rule=\"evenodd\" fill-opacity=\"1\" stroke=\"#000000\" stroke-opacity=\"1\" stroke-width=\"3.2\"/>\n",
       "<circle clip-path=\"url(#clip902)\" cx=\"410.458\" cy=\"1338.91\" r=\"14\" fill=\"#009af9\" fill-rule=\"evenodd\" fill-opacity=\"1\" stroke=\"#000000\" stroke-opacity=\"1\" stroke-width=\"3.2\"/>\n",
       "<circle clip-path=\"url(#clip902)\" cx=\"1087.54\" cy=\"874.306\" r=\"14\" fill=\"#009af9\" fill-rule=\"evenodd\" fill-opacity=\"1\" stroke=\"#000000\" stroke-opacity=\"1\" stroke-width=\"3.2\"/>\n",
       "<circle clip-path=\"url(#clip902)\" cx=\"2292.83\" cy=\"162.133\" r=\"14\" fill=\"#009af9\" fill-rule=\"evenodd\" fill-opacity=\"1\" stroke=\"#000000\" stroke-opacity=\"1\" stroke-width=\"3.2\"/>\n",
       "<circle clip-path=\"url(#clip902)\" cx=\"981.892\" cy=\"826.828\" r=\"14\" fill=\"#009af9\" fill-rule=\"evenodd\" fill-opacity=\"1\" stroke=\"#000000\" stroke-opacity=\"1\" stroke-width=\"3.2\"/>\n",
       "<circle clip-path=\"url(#clip902)\" cx=\"1682.98\" cy=\"399.524\" r=\"14\" fill=\"#009af9\" fill-rule=\"evenodd\" fill-opacity=\"1\" stroke=\"#000000\" stroke-opacity=\"1\" stroke-width=\"3.2\"/>\n",
       "</svg>\n"
      ]
     },
     "execution_count": 4,
     "metadata": {},
     "output_type": "execute_result"
    }
   ],
   "source": [
    "p = 850                                    # Unit price i.e purcahse price\n",
    "c = 250                                    # Unit cost of the ticket\n",
    "\n",
    "scatter(preorder_number, demand, xlabel = \"PREORDERS\", ylabel=\"DEMAND\", legend = false, xticks = 1:length(demand), title = \"Preorder Vs Demand\")"
   ]
  },
  {
   "cell_type": "code",
   "execution_count": 5,
   "metadata": {},
   "outputs": [
    {
     "data": {
      "text/plain": [
       "P° (generic function with 1 method)"
      ]
     },
     "execution_count": 5,
     "metadata": {},
     "output_type": "execute_result"
    }
   ],
   "source": [
    "#Profit formulation\n",
    "\n",
    "Pϕ(q,di) = p*min(q,di) - c*q    #profit for a signle day\n",
    "\n",
    "P°(q,d) = sum([Pϕ(qi, di) for (qi, di) in zip(preorder_number,demand)])  # total profit over the period of a year\n"
   ]
  },
  {
   "cell_type": "code",
   "execution_count": 6,
   "metadata": {},
   "outputs": [
    {
     "name": "stdout",
     "output_type": "stream",
     "text": [
      "α = [116.33736361099196, 0.827504026770921]\n"
     ]
    },
    {
     "data": {
      "text/plain": [
       "2-element Vector{Float64}:\n",
       " 116.33736361099196\n",
       "   0.827504026770921"
      ]
     },
     "execution_count": 6,
     "metadata": {},
     "output_type": "execute_result"
    }
   ],
   "source": [
    "# Formulating a linear Regression model\n",
    "\n",
    "Y(α,O) = α[1] .+ α[2]O  # simple linear model y=mx+c\n",
    "fl2(α) = sum((Y(α, preorder_number)- demand).^2)    #L2 loss function between true and predicted value\n",
    "\n",
    "α = optimize(fl2, [0., 2.]).minimizer   # minimizing the L^2 loss\n",
    "\n",
    "@show α"
   ]
  },
  {
   "cell_type": "code",
   "execution_count": 7,
   "metadata": {},
   "outputs": [
    {
     "data": {
      "image/svg+xml": [
       "<?xml version=\"1.0\" encoding=\"utf-8\"?>\n",
       "<svg xmlns=\"http://www.w3.org/2000/svg\" xmlns:xlink=\"http://www.w3.org/1999/xlink\" width=\"600\" height=\"400\" viewBox=\"0 0 2400 1600\">\n",
       "<defs>\n",
       "  <clipPath id=\"clip940\">\n",
       "    <rect x=\"0\" y=\"0\" width=\"2400\" height=\"1600\"/>\n",
       "  </clipPath>\n",
       "</defs>\n",
       "<path clip-path=\"url(#clip940)\" d=\"\n",
       "M0 1600 L2400 1600 L2400 0 L0 0  Z\n",
       "  \" fill=\"#ffffff\" fill-rule=\"evenodd\" fill-opacity=\"1\"/>\n",
       "<defs>\n",
       "  <clipPath id=\"clip941\">\n",
       "    <rect x=\"480\" y=\"0\" width=\"1681\" height=\"1600\"/>\n",
       "  </clipPath>\n",
       "</defs>\n",
       "<path clip-path=\"url(#clip940)\" d=\"\n",
       "M235.283 1489.49 L2352.76 1489.49 L2352.76 123.472 L235.283 123.472  Z\n",
       "  \" fill=\"#ffffff\" fill-rule=\"evenodd\" fill-opacity=\"1\"/>\n",
       "<defs>\n",
       "  <clipPath id=\"clip942\">\n",
       "    <rect x=\"235\" y=\"123\" width=\"2118\" height=\"1367\"/>\n",
       "  </clipPath>\n",
       "</defs>\n",
       "<polyline clip-path=\"url(#clip940)\" style=\"stroke:#000000; stroke-linecap:butt; stroke-linejoin:round; stroke-width:4; stroke-opacity:1; fill:none\" points=\"\n",
       "  235.283,1489.49 2352.76,1489.49 \n",
       "  \"/>\n",
       "<path clip-path=\"url(#clip940)\" d=\"M1105.24 1540.28 L1105.24 1558.13 L1113.33 1558.13 Q1117.82 1558.13 1120.27 1555.81 Q1122.72 1553.48 1122.72 1549.19 Q1122.72 1544.92 1120.27 1542.6 Q1117.82 1540.28 1113.33 1540.28 L1105.24 1540.28 M1098.81 1534.99 L1113.33 1534.99 Q1121.32 1534.99 1125.39 1538.62 Q1129.5 1542.22 1129.5 1549.19 Q1129.5 1556.22 1125.39 1559.82 Q1121.32 1563.41 1113.33 1563.41 L1105.24 1563.41 L1105.24 1582.51 L1098.81 1582.51 L1098.81 1534.99 Z\" fill=\"#000000\" fill-rule=\"evenodd\" fill-opacity=\"1\" /><path clip-path=\"url(#clip940)\" d=\"M1160.66 1560.23 Q1162.73 1560.93 1164.67 1563.22 Q1166.64 1565.52 1168.61 1569.53 L1175.14 1582.51 L1168.23 1582.51 L1162.15 1570.32 Q1159.8 1565.55 1157.57 1563.99 Q1155.37 1562.43 1151.55 1562.43 L1144.55 1562.43 L1144.55 1582.51 L1138.12 1582.51 L1138.12 1534.99 L1152.64 1534.99 Q1160.79 1534.99 1164.8 1538.4 Q1168.81 1541.8 1168.81 1548.68 Q1168.81 1553.17 1166.71 1556.13 Q1164.64 1559.09 1160.66 1560.23 M1144.55 1540.28 L1144.55 1557.14 L1152.64 1557.14 Q1157.28 1557.14 1159.64 1555.01 Q1162.03 1552.85 1162.03 1548.68 Q1162.03 1544.51 1159.64 1542.41 Q1157.28 1540.28 1152.64 1540.28 L1144.55 1540.28 Z\" fill=\"#000000\" fill-rule=\"evenodd\" fill-opacity=\"1\" /><path clip-path=\"url(#clip940)\" d=\"M1183.42 1534.99 L1213.46 1534.99 L1213.46 1540.4 L1189.84 1540.4 L1189.84 1554.47 L1212.47 1554.47 L1212.47 1559.88 L1189.84 1559.88 L1189.84 1577.1 L1214.03 1577.1 L1214.03 1582.51 L1183.42 1582.51 L1183.42 1534.99 Z\" fill=\"#000000\" fill-rule=\"evenodd\" fill-opacity=\"1\" /><path clip-path=\"url(#clip940)\" d=\"M1243.89 1539.35 Q1236.89 1539.35 1232.75 1544.57 Q1228.64 1549.79 1228.64 1558.8 Q1228.64 1567.78 1232.75 1573 Q1236.89 1578.22 1243.89 1578.22 Q1250.89 1578.22 1254.97 1573 Q1259.07 1567.78 1259.07 1558.8 Q1259.07 1549.79 1254.97 1544.57 Q1250.89 1539.35 1243.89 1539.35 M1243.89 1534.13 Q1253.88 1534.13 1259.87 1540.85 Q1265.85 1547.53 1265.85 1558.8 Q1265.85 1570.04 1259.87 1576.75 Q1253.88 1583.43 1243.89 1583.43 Q1233.86 1583.43 1227.85 1576.75 Q1221.86 1570.07 1221.86 1558.8 Q1221.86 1547.53 1227.85 1540.85 Q1233.86 1534.13 1243.89 1534.13 Z\" fill=\"#000000\" fill-rule=\"evenodd\" fill-opacity=\"1\" /><path clip-path=\"url(#clip940)\" d=\"M1298.44 1560.23 Q1300.51 1560.93 1302.45 1563.22 Q1304.43 1565.52 1306.4 1569.53 L1312.93 1582.51 L1306.02 1582.51 L1299.94 1570.32 Q1297.58 1565.55 1295.36 1563.99 Q1293.16 1562.43 1289.34 1562.43 L1282.34 1562.43 L1282.34 1582.51 L1275.91 1582.51 L1275.91 1534.99 L1290.42 1534.99 Q1298.57 1534.99 1302.58 1538.4 Q1306.59 1541.8 1306.59 1548.68 Q1306.59 1553.17 1304.49 1556.13 Q1302.42 1559.09 1298.44 1560.23 M1282.34 1540.28 L1282.34 1557.14 L1290.42 1557.14 Q1295.07 1557.14 1297.43 1555.01 Q1299.81 1552.85 1299.81 1548.68 Q1299.81 1544.51 1297.43 1542.41 Q1295.07 1540.28 1290.42 1540.28 L1282.34 1540.28 Z\" fill=\"#000000\" fill-rule=\"evenodd\" fill-opacity=\"1\" /><path clip-path=\"url(#clip940)\" d=\"M1327.63 1540.28 L1327.63 1577.23 L1335.4 1577.23 Q1345.23 1577.23 1349.78 1572.77 Q1354.37 1568.32 1354.37 1558.7 Q1354.37 1549.16 1349.78 1544.73 Q1345.23 1540.28 1335.4 1540.28 L1327.63 1540.28 M1321.2 1534.99 L1334.41 1534.99 Q1348.22 1534.99 1354.68 1540.75 Q1361.15 1546.48 1361.15 1558.7 Q1361.15 1570.99 1354.65 1576.75 Q1348.16 1582.51 1334.41 1582.51 L1321.2 1582.51 L1321.2 1534.99 Z\" fill=\"#000000\" fill-rule=\"evenodd\" fill-opacity=\"1\" /><path clip-path=\"url(#clip940)\" d=\"M1371.39 1534.99 L1401.44 1534.99 L1401.44 1540.4 L1377.82 1540.4 L1377.82 1554.47 L1400.45 1554.47 L1400.45 1559.88 L1377.82 1559.88 L1377.82 1577.1 L1402.01 1577.1 L1402.01 1582.51 L1371.39 1582.51 L1371.39 1534.99 Z\" fill=\"#000000\" fill-rule=\"evenodd\" fill-opacity=\"1\" /><path clip-path=\"url(#clip940)\" d=\"M1435.12 1560.23 Q1437.18 1560.93 1439.13 1563.22 Q1441.1 1565.52 1443.07 1569.53 L1449.6 1582.51 L1442.69 1582.51 L1436.61 1570.32 Q1434.26 1565.55 1432.03 1563.99 Q1429.83 1562.43 1426.01 1562.43 L1419.01 1562.43 L1419.01 1582.51 L1412.58 1582.51 L1412.58 1534.99 L1427.09 1534.99 Q1435.24 1534.99 1439.25 1538.4 Q1443.26 1541.8 1443.26 1548.68 Q1443.26 1553.17 1441.16 1556.13 Q1439.09 1559.09 1435.12 1560.23 M1419.01 1540.28 L1419.01 1557.14 L1427.09 1557.14 Q1431.74 1557.14 1434.1 1555.01 Q1436.48 1552.85 1436.48 1548.68 Q1436.48 1544.51 1434.1 1542.41 Q1431.74 1540.28 1427.09 1540.28 L1419.01 1540.28 Z\" fill=\"#000000\" fill-rule=\"evenodd\" fill-opacity=\"1\" /><path clip-path=\"url(#clip940)\" d=\"M1486.36 1536.55 L1486.36 1542.82 Q1482.7 1541.07 1479.45 1540.21 Q1476.21 1539.35 1473.18 1539.35 Q1467.93 1539.35 1465.07 1541.39 Q1462.23 1543.43 1462.23 1547.18 Q1462.23 1550.33 1464.11 1551.96 Q1466.02 1553.55 1471.3 1554.53 L1475.19 1555.33 Q1482.38 1556.7 1485.79 1560.17 Q1489.22 1563.61 1489.22 1569.4 Q1489.22 1576.31 1484.58 1579.87 Q1479.96 1583.43 1471.02 1583.43 Q1467.64 1583.43 1463.82 1582.67 Q1460.04 1581.91 1455.96 1580.41 L1455.96 1573.79 Q1459.88 1575.99 1463.63 1577.1 Q1467.39 1578.22 1471.02 1578.22 Q1476.52 1578.22 1479.52 1576.05 Q1482.51 1573.89 1482.51 1569.88 Q1482.51 1566.37 1480.34 1564.4 Q1478.21 1562.43 1473.31 1561.44 L1469.39 1560.68 Q1462.2 1559.25 1458.99 1556.19 Q1455.77 1553.13 1455.77 1547.69 Q1455.77 1541.39 1460.2 1537.76 Q1464.65 1534.13 1472.45 1534.13 Q1475.79 1534.13 1479.26 1534.74 Q1482.73 1535.34 1486.36 1536.55 Z\" fill=\"#000000\" fill-rule=\"evenodd\" fill-opacity=\"1\" /><polyline clip-path=\"url(#clip942)\" style=\"stroke:#000000; stroke-linecap:butt; stroke-linejoin:round; stroke-width:2; stroke-opacity:0.1; fill:none\" points=\"\n",
       "  235.283,1450.83 2352.76,1450.83 \n",
       "  \"/>\n",
       "<polyline clip-path=\"url(#clip942)\" style=\"stroke:#000000; stroke-linecap:butt; stroke-linejoin:round; stroke-width:2; stroke-opacity:0.1; fill:none\" points=\"\n",
       "  235.283,1139.2 2352.76,1139.2 \n",
       "  \"/>\n",
       "<polyline clip-path=\"url(#clip942)\" style=\"stroke:#000000; stroke-linecap:butt; stroke-linejoin:round; stroke-width:2; stroke-opacity:0.1; fill:none\" points=\"\n",
       "  235.283,827.576 2352.76,827.576 \n",
       "  \"/>\n",
       "<polyline clip-path=\"url(#clip942)\" style=\"stroke:#000000; stroke-linecap:butt; stroke-linejoin:round; stroke-width:2; stroke-opacity:0.1; fill:none\" points=\"\n",
       "  235.283,515.95 2352.76,515.95 \n",
       "  \"/>\n",
       "<polyline clip-path=\"url(#clip942)\" style=\"stroke:#000000; stroke-linecap:butt; stroke-linejoin:round; stroke-width:2; stroke-opacity:0.1; fill:none\" points=\"\n",
       "  235.283,204.325 2352.76,204.325 \n",
       "  \"/>\n",
       "<polyline clip-path=\"url(#clip940)\" style=\"stroke:#000000; stroke-linecap:butt; stroke-linejoin:round; stroke-width:4; stroke-opacity:1; fill:none\" points=\"\n",
       "  235.283,1489.49 235.283,123.472 \n",
       "  \"/>\n",
       "<polyline clip-path=\"url(#clip940)\" style=\"stroke:#000000; stroke-linecap:butt; stroke-linejoin:round; stroke-width:4; stroke-opacity:1; fill:none\" points=\"\n",
       "  235.283,1450.83 254.18,1450.83 \n",
       "  \"/>\n",
       "<polyline clip-path=\"url(#clip940)\" style=\"stroke:#000000; stroke-linecap:butt; stroke-linejoin:round; stroke-width:4; stroke-opacity:1; fill:none\" points=\"\n",
       "  235.283,1139.2 254.18,1139.2 \n",
       "  \"/>\n",
       "<polyline clip-path=\"url(#clip940)\" style=\"stroke:#000000; stroke-linecap:butt; stroke-linejoin:round; stroke-width:4; stroke-opacity:1; fill:none\" points=\"\n",
       "  235.283,827.576 254.18,827.576 \n",
       "  \"/>\n",
       "<polyline clip-path=\"url(#clip940)\" style=\"stroke:#000000; stroke-linecap:butt; stroke-linejoin:round; stroke-width:4; stroke-opacity:1; fill:none\" points=\"\n",
       "  235.283,515.95 254.18,515.95 \n",
       "  \"/>\n",
       "<polyline clip-path=\"url(#clip940)\" style=\"stroke:#000000; stroke-linecap:butt; stroke-linejoin:round; stroke-width:4; stroke-opacity:1; fill:none\" points=\"\n",
       "  235.283,204.325 254.18,204.325 \n",
       "  \"/>\n",
       "<path clip-path=\"url(#clip940)\" d=\"M117.825 1464.17 L125.464 1464.17 L125.464 1437.81 L117.154 1439.47 L117.154 1435.21 L125.418 1433.55 L130.093 1433.55 L130.093 1464.17 L137.732 1464.17 L137.732 1468.11 L117.825 1468.11 L117.825 1464.17 Z\" fill=\"#000000\" fill-rule=\"evenodd\" fill-opacity=\"1\" /><path clip-path=\"url(#clip940)\" d=\"M157.177 1436.63 Q153.566 1436.63 151.737 1440.19 Q149.931 1443.73 149.931 1450.86 Q149.931 1457.97 151.737 1461.53 Q153.566 1465.07 157.177 1465.07 Q160.811 1465.07 162.616 1461.53 Q164.445 1457.97 164.445 1450.86 Q164.445 1443.73 162.616 1440.19 Q160.811 1436.63 157.177 1436.63 M157.177 1432.92 Q162.987 1432.92 166.042 1437.53 Q169.121 1442.11 169.121 1450.86 Q169.121 1459.59 166.042 1464.2 Q162.987 1468.78 157.177 1468.78 Q151.366 1468.78 148.288 1464.2 Q145.232 1459.59 145.232 1450.86 Q145.232 1442.11 148.288 1437.53 Q151.366 1432.92 157.177 1432.92 Z\" fill=\"#000000\" fill-rule=\"evenodd\" fill-opacity=\"1\" /><path clip-path=\"url(#clip940)\" d=\"M187.338 1436.63 Q183.727 1436.63 181.899 1440.19 Q180.093 1443.73 180.093 1450.86 Q180.093 1457.97 181.899 1461.53 Q183.727 1465.07 187.338 1465.07 Q190.973 1465.07 192.778 1461.53 Q194.607 1457.97 194.607 1450.86 Q194.607 1443.73 192.778 1440.19 Q190.973 1436.63 187.338 1436.63 M187.338 1432.92 Q193.149 1432.92 196.204 1437.53 Q199.283 1442.11 199.283 1450.86 Q199.283 1459.59 196.204 1464.2 Q193.149 1468.78 187.338 1468.78 Q181.528 1468.78 178.45 1464.2 Q175.394 1459.59 175.394 1450.86 Q175.394 1442.11 178.45 1437.53 Q181.528 1432.92 187.338 1432.92 Z\" fill=\"#000000\" fill-rule=\"evenodd\" fill-opacity=\"1\" /><path clip-path=\"url(#clip940)\" d=\"M121.043 1152.55 L137.362 1152.55 L137.362 1156.48 L115.418 1156.48 L115.418 1152.55 Q118.08 1149.79 122.663 1145.16 Q127.269 1140.51 128.45 1139.17 Q130.695 1136.64 131.575 1134.91 Q132.478 1133.15 132.478 1131.46 Q132.478 1128.7 130.533 1126.97 Q128.612 1125.23 125.51 1125.23 Q123.311 1125.23 120.857 1126 Q118.427 1126.76 115.649 1128.31 L115.649 1123.59 Q118.473 1122.45 120.927 1121.88 Q123.38 1121.3 125.418 1121.3 Q130.788 1121.3 133.982 1123.98 Q137.177 1126.67 137.177 1131.16 Q137.177 1133.29 136.367 1135.21 Q135.579 1137.11 133.473 1139.7 Q132.894 1140.37 129.792 1143.59 Q126.691 1146.78 121.043 1152.55 Z\" fill=\"#000000\" fill-rule=\"evenodd\" fill-opacity=\"1\" /><path clip-path=\"url(#clip940)\" d=\"M157.177 1125 Q153.566 1125 151.737 1128.56 Q149.931 1132.11 149.931 1139.24 Q149.931 1146.34 151.737 1149.91 Q153.566 1153.45 157.177 1153.45 Q160.811 1153.45 162.616 1149.91 Q164.445 1146.34 164.445 1139.24 Q164.445 1132.11 162.616 1128.56 Q160.811 1125 157.177 1125 M157.177 1121.3 Q162.987 1121.3 166.042 1125.9 Q169.121 1130.49 169.121 1139.24 Q169.121 1147.96 166.042 1152.57 Q162.987 1157.15 157.177 1157.15 Q151.366 1157.15 148.288 1152.57 Q145.232 1147.96 145.232 1139.24 Q145.232 1130.49 148.288 1125.9 Q151.366 1121.3 157.177 1121.3 Z\" fill=\"#000000\" fill-rule=\"evenodd\" fill-opacity=\"1\" /><path clip-path=\"url(#clip940)\" d=\"M187.338 1125 Q183.727 1125 181.899 1128.56 Q180.093 1132.11 180.093 1139.24 Q180.093 1146.34 181.899 1149.91 Q183.727 1153.45 187.338 1153.45 Q190.973 1153.45 192.778 1149.91 Q194.607 1146.34 194.607 1139.24 Q194.607 1132.11 192.778 1128.56 Q190.973 1125 187.338 1125 M187.338 1121.3 Q193.149 1121.3 196.204 1125.9 Q199.283 1130.49 199.283 1139.24 Q199.283 1147.96 196.204 1152.57 Q193.149 1157.15 187.338 1157.15 Q181.528 1157.15 178.45 1152.57 Q175.394 1147.96 175.394 1139.24 Q175.394 1130.49 178.45 1125.9 Q181.528 1121.3 187.338 1121.3 Z\" fill=\"#000000\" fill-rule=\"evenodd\" fill-opacity=\"1\" /><path clip-path=\"url(#clip940)\" d=\"M131.181 826.222 Q134.538 826.939 136.413 829.208 Q138.311 831.476 138.311 834.81 Q138.311 839.925 134.792 842.726 Q131.274 845.527 124.793 845.527 Q122.617 845.527 120.302 845.087 Q118.01 844.671 115.556 843.814 L115.556 839.3 Q117.501 840.435 119.816 841.013 Q122.13 841.592 124.654 841.592 Q129.052 841.592 131.343 839.856 Q133.658 838.12 133.658 834.81 Q133.658 831.754 131.505 830.041 Q129.376 828.305 125.556 828.305 L121.529 828.305 L121.529 824.463 L125.742 824.463 Q129.191 824.463 131.019 823.097 Q132.848 821.708 132.848 819.115 Q132.848 816.453 130.95 815.041 Q129.075 813.606 125.556 813.606 Q123.635 813.606 121.436 814.023 Q119.237 814.439 116.598 815.319 L116.598 811.152 Q119.26 810.412 121.575 810.041 Q123.913 809.671 125.973 809.671 Q131.297 809.671 134.399 812.101 Q137.501 814.509 137.501 818.629 Q137.501 821.5 135.857 823.49 Q134.214 825.458 131.181 826.222 Z\" fill=\"#000000\" fill-rule=\"evenodd\" fill-opacity=\"1\" /><path clip-path=\"url(#clip940)\" d=\"M157.177 813.375 Q153.566 813.375 151.737 816.939 Q149.931 820.481 149.931 827.611 Q149.931 834.717 151.737 838.282 Q153.566 841.824 157.177 841.824 Q160.811 841.824 162.616 838.282 Q164.445 834.717 164.445 827.611 Q164.445 820.481 162.616 816.939 Q160.811 813.375 157.177 813.375 M157.177 809.671 Q162.987 809.671 166.042 814.277 Q169.121 818.861 169.121 827.611 Q169.121 836.337 166.042 840.944 Q162.987 845.527 157.177 845.527 Q151.366 845.527 148.288 840.944 Q145.232 836.337 145.232 827.611 Q145.232 818.861 148.288 814.277 Q151.366 809.671 157.177 809.671 Z\" fill=\"#000000\" fill-rule=\"evenodd\" fill-opacity=\"1\" /><path clip-path=\"url(#clip940)\" d=\"M187.338 813.375 Q183.727 813.375 181.899 816.939 Q180.093 820.481 180.093 827.611 Q180.093 834.717 181.899 838.282 Q183.727 841.824 187.338 841.824 Q190.973 841.824 192.778 838.282 Q194.607 834.717 194.607 827.611 Q194.607 820.481 192.778 816.939 Q190.973 813.375 187.338 813.375 M187.338 809.671 Q193.149 809.671 196.204 814.277 Q199.283 818.861 199.283 827.611 Q199.283 836.337 196.204 840.944 Q193.149 845.527 187.338 845.527 Q181.528 845.527 178.45 840.944 Q175.394 836.337 175.394 827.611 Q175.394 818.861 178.45 814.277 Q181.528 809.671 187.338 809.671 Z\" fill=\"#000000\" fill-rule=\"evenodd\" fill-opacity=\"1\" /><path clip-path=\"url(#clip940)\" d=\"M129.862 502.744 L118.056 521.193 L129.862 521.193 L129.862 502.744 M128.635 498.67 L134.515 498.67 L134.515 521.193 L139.445 521.193 L139.445 525.082 L134.515 525.082 L134.515 533.23 L129.862 533.23 L129.862 525.082 L114.26 525.082 L114.26 520.568 L128.635 498.67 Z\" fill=\"#000000\" fill-rule=\"evenodd\" fill-opacity=\"1\" /><path clip-path=\"url(#clip940)\" d=\"M157.177 501.749 Q153.566 501.749 151.737 505.314 Q149.931 508.856 149.931 515.985 Q149.931 523.092 151.737 526.656 Q153.566 530.198 157.177 530.198 Q160.811 530.198 162.616 526.656 Q164.445 523.092 164.445 515.985 Q164.445 508.856 162.616 505.314 Q160.811 501.749 157.177 501.749 M157.177 498.045 Q162.987 498.045 166.042 502.652 Q169.121 507.235 169.121 515.985 Q169.121 524.712 166.042 529.318 Q162.987 533.902 157.177 533.902 Q151.366 533.902 148.288 529.318 Q145.232 524.712 145.232 515.985 Q145.232 507.235 148.288 502.652 Q151.366 498.045 157.177 498.045 Z\" fill=\"#000000\" fill-rule=\"evenodd\" fill-opacity=\"1\" /><path clip-path=\"url(#clip940)\" d=\"M187.338 501.749 Q183.727 501.749 181.899 505.314 Q180.093 508.856 180.093 515.985 Q180.093 523.092 181.899 526.656 Q183.727 530.198 187.338 530.198 Q190.973 530.198 192.778 526.656 Q194.607 523.092 194.607 515.985 Q194.607 508.856 192.778 505.314 Q190.973 501.749 187.338 501.749 M187.338 498.045 Q193.149 498.045 196.204 502.652 Q199.283 507.235 199.283 515.985 Q199.283 524.712 196.204 529.318 Q193.149 533.902 187.338 533.902 Q181.528 533.902 178.45 529.318 Q175.394 524.712 175.394 515.985 Q175.394 507.235 178.45 502.652 Q181.528 498.045 187.338 498.045 Z\" fill=\"#000000\" fill-rule=\"evenodd\" fill-opacity=\"1\" /><path clip-path=\"url(#clip940)\" d=\"M117.061 187.045 L135.417 187.045 L135.417 190.98 L121.343 190.98 L121.343 199.452 Q122.362 199.105 123.38 198.943 Q124.399 198.758 125.418 198.758 Q131.205 198.758 134.584 201.929 Q137.964 205.1 137.964 210.517 Q137.964 216.096 134.492 219.197 Q131.019 222.276 124.7 222.276 Q122.524 222.276 120.255 221.906 Q118.01 221.535 115.603 220.795 L115.603 216.096 Q117.686 217.23 119.908 217.785 Q122.13 218.341 124.607 218.341 Q128.612 218.341 130.95 216.235 Q133.288 214.128 133.288 210.517 Q133.288 206.906 130.95 204.799 Q128.612 202.693 124.607 202.693 Q122.732 202.693 120.857 203.11 Q119.006 203.526 117.061 204.406 L117.061 187.045 Z\" fill=\"#000000\" fill-rule=\"evenodd\" fill-opacity=\"1\" /><path clip-path=\"url(#clip940)\" d=\"M157.177 190.124 Q153.566 190.124 151.737 193.688 Q149.931 197.23 149.931 204.36 Q149.931 211.466 151.737 215.031 Q153.566 218.572 157.177 218.572 Q160.811 218.572 162.616 215.031 Q164.445 211.466 164.445 204.36 Q164.445 197.23 162.616 193.688 Q160.811 190.124 157.177 190.124 M157.177 186.42 Q162.987 186.42 166.042 191.026 Q169.121 195.61 169.121 204.36 Q169.121 213.086 166.042 217.693 Q162.987 222.276 157.177 222.276 Q151.366 222.276 148.288 217.693 Q145.232 213.086 145.232 204.36 Q145.232 195.61 148.288 191.026 Q151.366 186.42 157.177 186.42 Z\" fill=\"#000000\" fill-rule=\"evenodd\" fill-opacity=\"1\" /><path clip-path=\"url(#clip940)\" d=\"M187.338 190.124 Q183.727 190.124 181.899 193.688 Q180.093 197.23 180.093 204.36 Q180.093 211.466 181.899 215.031 Q183.727 218.572 187.338 218.572 Q190.973 218.572 192.778 215.031 Q194.607 211.466 194.607 204.36 Q194.607 197.23 192.778 193.688 Q190.973 190.124 187.338 190.124 M187.338 186.42 Q193.149 186.42 196.204 191.026 Q199.283 195.61 199.283 204.36 Q199.283 213.086 196.204 217.693 Q193.149 222.276 187.338 222.276 Q181.528 222.276 178.45 217.693 Q175.394 213.086 175.394 204.36 Q175.394 195.61 178.45 191.026 Q181.528 186.42 187.338 186.42 Z\" fill=\"#000000\" fill-rule=\"evenodd\" fill-opacity=\"1\" /><path clip-path=\"url(#clip940)\" d=\"M21.7677 940.51 L58.7206 940.51 L58.7206 932.744 Q58.7206 922.909 54.2646 918.357 Q49.8086 913.774 40.1964 913.774 Q30.6479 913.774 26.2237 918.357 Q21.7677 922.909 21.7677 932.744 L21.7677 940.51 M16.4842 946.939 L16.4842 933.73 Q16.4842 919.917 22.2451 913.456 Q27.9743 906.995 40.1964 906.995 Q52.4822 906.995 58.2432 913.488 Q64.0042 919.981 64.0042 933.73 L64.0042 946.939 L16.4842 946.939 Z\" fill=\"#000000\" fill-rule=\"evenodd\" fill-opacity=\"1\" /><path clip-path=\"url(#clip940)\" d=\"M16.4842 896.746 L16.4842 866.7 L21.895 866.7 L21.895 890.316 L35.9632 890.316 L35.9632 867.686 L41.3741 867.686 L41.3741 890.316 L58.5933 890.316 L58.5933 866.127 L64.0042 866.127 L64.0042 896.746 L16.4842 896.746 Z\" fill=\"#000000\" fill-rule=\"evenodd\" fill-opacity=\"1\" /><path clip-path=\"url(#clip940)\" d=\"M16.4842 855.56 L16.4842 845.979 L48.8219 833.853 L16.4842 821.662 L16.4842 812.082 L64.0042 812.082 L64.0042 818.352 L22.277 818.352 L54.8694 830.606 L54.8694 837.067 L22.277 849.321 L64.0042 849.321 L64.0042 855.56 L16.4842 855.56 Z\" fill=\"#000000\" fill-rule=\"evenodd\" fill-opacity=\"1\" /><path clip-path=\"url(#clip940)\" d=\"M22.818 783.436 L46.4666 792.157 L46.4666 774.683 L22.818 783.436 M16.4842 787.065 L16.4842 779.776 L64.0042 761.665 L64.0042 768.349 L51.8138 772.678 L51.8138 794.099 L64.0042 798.427 L64.0042 805.207 L16.4842 787.065 Z\" fill=\"#000000\" fill-rule=\"evenodd\" fill-opacity=\"1\" /><path clip-path=\"url(#clip940)\" d=\"M16.4842 754.727 L16.4842 746.069 L56.238 724.999 L16.4842 724.999 L16.4842 718.761 L64.0042 718.761 L64.0042 727.418 L24.2503 748.488 L64.0042 748.488 L64.0042 754.727 L16.4842 754.727 Z\" fill=\"#000000\" fill-rule=\"evenodd\" fill-opacity=\"1\" /><path clip-path=\"url(#clip940)\" d=\"M21.7677 699.536 L58.7206 699.536 L58.7206 691.77 Q58.7206 681.935 54.2646 677.383 Q49.8086 672.8 40.1964 672.8 Q30.6479 672.8 26.2237 677.383 Q21.7677 681.935 21.7677 691.77 L21.7677 699.536 M16.4842 705.965 L16.4842 692.757 Q16.4842 678.943 22.2451 672.482 Q27.9743 666.021 40.1964 666.021 Q52.4822 666.021 58.2432 672.514 Q64.0042 679.007 64.0042 692.757 L64.0042 705.965 L16.4842 705.965 Z\" fill=\"#000000\" fill-rule=\"evenodd\" fill-opacity=\"1\" /><path clip-path=\"url(#clip940)\" d=\"M881.212 18.8205 L881.212 41.5461 L891.501 41.5461 Q897.213 41.5461 900.332 38.5889 Q903.451 35.6318 903.451 30.163 Q903.451 24.7348 900.332 21.7777 Q897.213 18.8205 891.501 18.8205 L881.212 18.8205 M873.029 12.096 L891.501 12.096 Q901.669 12.096 906.854 16.714 Q912.08 21.2916 912.08 30.163 Q912.08 39.1155 906.854 43.6931 Q901.669 48.2706 891.501 48.2706 L881.212 48.2706 L881.212 72.576 L873.029 72.576 L873.029 12.096 Z\" fill=\"#000000\" fill-rule=\"evenodd\" fill-opacity=\"1\" /><path clip-path=\"url(#clip940)\" d=\"M947.566 34.1734 Q946.31 33.4443 944.811 33.1202 Q943.353 32.7556 941.57 32.7556 Q935.251 32.7556 931.848 36.8875 Q928.486 40.9789 928.486 48.6757 L928.486 72.576 L920.992 72.576 L920.992 27.2059 L928.486 27.2059 L928.486 34.2544 Q930.836 30.1225 934.603 28.1376 Q938.37 26.1121 943.758 26.1121 Q944.528 26.1121 945.459 26.2337 Q946.391 26.3147 947.525 26.5172 L947.566 34.1734 Z\" fill=\"#000000\" fill-rule=\"evenodd\" fill-opacity=\"1\" /><path clip-path=\"url(#clip940)\" d=\"M992.369 48.0275 L992.369 51.6733 L958.098 51.6733 Q958.584 59.3701 962.716 63.421 Q966.889 67.4314 974.302 67.4314 Q978.596 67.4314 982.606 66.3781 Q986.657 65.3249 990.627 63.2184 L990.627 70.267 Q986.617 71.9684 982.404 72.8596 Q978.191 73.7508 973.856 73.7508 Q963 73.7508 956.64 67.4314 Q950.32 61.1119 950.32 50.3365 Q950.32 39.1965 956.316 32.6746 Q962.352 26.1121 972.56 26.1121 Q981.715 26.1121 987.022 32.0264 Q992.369 37.9003 992.369 48.0275 M984.915 45.84 Q984.834 39.7232 981.472 36.0774 Q978.15 32.4315 972.641 32.4315 Q966.402 32.4315 962.635 35.9558 Q958.908 39.4801 958.341 45.8805 L984.915 45.84 Z\" fill=\"#000000\" fill-rule=\"evenodd\" fill-opacity=\"1\" /><path clip-path=\"url(#clip940)\" d=\"M1022.18 32.4315 Q1016.19 32.4315 1012.7 37.1306 Q1009.22 41.7891 1009.22 49.9314 Q1009.22 58.0738 1012.66 62.7728 Q1016.15 67.4314 1022.18 67.4314 Q1028.14 67.4314 1031.62 62.7323 Q1035.11 58.0333 1035.11 49.9314 Q1035.11 41.8701 1031.62 37.1711 Q1028.14 32.4315 1022.18 32.4315 M1022.18 26.1121 Q1031.91 26.1121 1037.46 32.4315 Q1043.01 38.7509 1043.01 49.9314 Q1043.01 61.0714 1037.46 67.4314 Q1031.91 73.7508 1022.18 73.7508 Q1012.42 73.7508 1006.87 67.4314 Q1001.36 61.0714 1001.36 49.9314 Q1001.36 38.7509 1006.87 32.4315 Q1012.42 26.1121 1022.18 26.1121 Z\" fill=\"#000000\" fill-rule=\"evenodd\" fill-opacity=\"1\" /><path clip-path=\"url(#clip940)\" d=\"M1081.65 34.1734 Q1080.39 33.4443 1078.9 33.1202 Q1077.44 32.7556 1075.66 32.7556 Q1069.34 32.7556 1065.93 36.8875 Q1062.57 40.9789 1062.57 48.6757 L1062.57 72.576 L1055.08 72.576 L1055.08 27.2059 L1062.57 27.2059 L1062.57 34.2544 Q1064.92 30.1225 1068.69 28.1376 Q1072.46 26.1121 1077.84 26.1121 Q1078.61 26.1121 1079.54 26.2337 Q1080.48 26.3147 1081.61 26.5172 L1081.65 34.1734 Z\" fill=\"#000000\" fill-rule=\"evenodd\" fill-opacity=\"1\" /><path clip-path=\"url(#clip940)\" d=\"M1117.87 34.0924 L1117.87 9.54393 L1125.32 9.54393 L1125.32 72.576 L1117.87 72.576 L1117.87 65.7705 Q1115.52 69.8214 1111.91 71.8063 Q1108.35 73.7508 1103.32 73.7508 Q1095.1 73.7508 1089.91 67.1883 Q1084.77 60.6258 1084.77 49.9314 Q1084.77 39.2371 1089.91 32.6746 Q1095.1 26.1121 1103.32 26.1121 Q1108.35 26.1121 1111.91 28.0971 Q1115.52 30.0415 1117.87 34.0924 M1092.47 49.9314 Q1092.47 58.1548 1095.83 62.8538 Q1099.23 67.5124 1105.15 67.5124 Q1111.06 67.5124 1114.46 62.8538 Q1117.87 58.1548 1117.87 49.9314 Q1117.87 41.7081 1114.46 37.0496 Q1111.06 32.3505 1105.15 32.3505 Q1099.23 32.3505 1095.83 37.0496 Q1092.47 41.7081 1092.47 49.9314 Z\" fill=\"#000000\" fill-rule=\"evenodd\" fill-opacity=\"1\" /><path clip-path=\"url(#clip940)\" d=\"M1179.48 48.0275 L1179.48 51.6733 L1145.21 51.6733 Q1145.7 59.3701 1149.83 63.421 Q1154 67.4314 1161.41 67.4314 Q1165.71 67.4314 1169.72 66.3781 Q1173.77 65.3249 1177.74 63.2184 L1177.74 70.267 Q1173.73 71.9684 1169.51 72.8596 Q1165.3 73.7508 1160.97 73.7508 Q1150.11 73.7508 1143.75 67.4314 Q1137.43 61.1119 1137.43 50.3365 Q1137.43 39.1965 1143.43 32.6746 Q1149.46 26.1121 1159.67 26.1121 Q1168.83 26.1121 1174.13 32.0264 Q1179.48 37.9003 1179.48 48.0275 M1172.03 45.84 Q1171.95 39.7232 1168.58 36.0774 Q1165.26 32.4315 1159.75 32.4315 Q1153.51 32.4315 1149.75 35.9558 Q1146.02 39.4801 1145.45 45.8805 L1172.03 45.84 Z\" fill=\"#000000\" fill-rule=\"evenodd\" fill-opacity=\"1\" /><path clip-path=\"url(#clip940)\" d=\"M1218 34.1734 Q1216.75 33.4443 1215.25 33.1202 Q1213.79 32.7556 1212.01 32.7556 Q1205.69 32.7556 1202.29 36.8875 Q1198.92 40.9789 1198.92 48.6757 L1198.92 72.576 L1191.43 72.576 L1191.43 27.2059 L1198.92 27.2059 L1198.92 34.2544 Q1201.27 30.1225 1205.04 28.1376 Q1208.81 26.1121 1214.2 26.1121 Q1214.97 26.1121 1215.9 26.2337 Q1216.83 26.3147 1217.96 26.5172 L1218 34.1734 Z\" fill=\"#000000\" fill-rule=\"evenodd\" fill-opacity=\"1\" /><path clip-path=\"url(#clip940)\" d=\"M1268.11 72.576 L1245.02 12.096 L1253.57 12.096 L1272.73 63.0159 L1291.93 12.096 L1300.44 12.096 L1277.39 72.576 L1268.11 72.576 Z\" fill=\"#000000\" fill-rule=\"evenodd\" fill-opacity=\"1\" /><path clip-path=\"url(#clip940)\" d=\"M1337.87 28.5427 L1337.87 35.5912 Q1334.71 33.9709 1331.31 33.1607 Q1327.91 32.3505 1324.26 32.3505 Q1318.71 32.3505 1315.91 34.0519 Q1313.16 35.7533 1313.16 39.156 Q1313.16 41.7486 1315.14 43.2475 Q1317.13 44.7058 1323.13 46.0426 L1325.68 46.6097 Q1333.62 48.3111 1336.94 51.4303 Q1340.3 54.509 1340.3 60.0587 Q1340.3 66.3781 1335.28 70.0644 Q1330.3 73.7508 1321.55 73.7508 Q1317.9 73.7508 1313.93 73.0216 Q1310 72.3329 1305.63 70.9151 L1305.63 63.2184 Q1309.76 65.3654 1313.77 66.4591 Q1317.78 67.5124 1321.71 67.5124 Q1326.97 67.5124 1329.81 65.73 Q1332.64 63.9071 1332.64 60.6258 Q1332.64 57.5877 1330.58 55.9673 Q1328.55 54.3469 1321.63 52.8481 L1319.03 52.2405 Q1312.11 50.7821 1309.03 47.7845 Q1305.95 44.7463 1305.95 39.4801 Q1305.95 33.0797 1310.49 29.5959 Q1315.02 26.1121 1323.37 26.1121 Q1327.5 26.1121 1331.15 26.7198 Q1334.79 27.3274 1337.87 28.5427 Z\" fill=\"#000000\" fill-rule=\"evenodd\" fill-opacity=\"1\" /><path clip-path=\"url(#clip940)\" d=\"M1387.05 18.8205 L1387.05 65.8515 L1396.93 65.8515 Q1409.45 65.8515 1415.24 60.1802 Q1421.08 54.509 1421.08 42.2752 Q1421.08 30.1225 1415.24 24.4918 Q1409.45 18.8205 1396.93 18.8205 L1387.05 18.8205 M1378.87 12.096 L1395.68 12.096 Q1413.26 12.096 1421.48 19.4281 Q1429.7 26.7198 1429.7 42.2752 Q1429.7 57.9117 1421.44 65.2439 Q1413.18 72.576 1395.68 72.576 L1378.87 72.576 L1378.87 12.096 Z\" fill=\"#000000\" fill-rule=\"evenodd\" fill-opacity=\"1\" /><path clip-path=\"url(#clip940)\" d=\"M1481.23 48.0275 L1481.23 51.6733 L1446.96 51.6733 Q1447.45 59.3701 1451.58 63.421 Q1455.75 67.4314 1463.16 67.4314 Q1467.46 67.4314 1471.47 66.3781 Q1475.52 65.3249 1479.49 63.2184 L1479.49 70.267 Q1475.48 71.9684 1471.27 72.8596 Q1467.05 73.7508 1462.72 73.7508 Q1451.86 73.7508 1445.5 67.4314 Q1439.18 61.1119 1439.18 50.3365 Q1439.18 39.1965 1445.18 32.6746 Q1451.21 26.1121 1461.42 26.1121 Q1470.58 26.1121 1475.88 32.0264 Q1481.23 37.9003 1481.23 48.0275 M1473.78 45.84 Q1473.7 39.7232 1470.33 36.0774 Q1467.01 32.4315 1461.5 32.4315 Q1455.27 32.4315 1451.5 35.9558 Q1447.77 39.4801 1447.2 45.8805 L1473.78 45.84 Z\" fill=\"#000000\" fill-rule=\"evenodd\" fill-opacity=\"1\" /><path clip-path=\"url(#clip940)\" d=\"M1528.79 35.9153 Q1531.58 30.8922 1535.47 28.5022 Q1539.36 26.1121 1544.63 26.1121 Q1551.72 26.1121 1555.57 31.0947 Q1559.41 36.0368 1559.41 45.1919 L1559.41 72.576 L1551.92 72.576 L1551.92 45.4349 Q1551.92 38.913 1549.61 35.7533 Q1547.3 32.5936 1542.56 32.5936 Q1536.77 32.5936 1533.41 36.4419 Q1530.05 40.2903 1530.05 46.9338 L1530.05 72.576 L1522.55 72.576 L1522.55 45.4349 Q1522.55 38.8725 1520.24 35.7533 Q1517.93 32.5936 1513.11 32.5936 Q1507.4 32.5936 1504.04 36.4824 Q1500.68 40.3308 1500.68 46.9338 L1500.68 72.576 L1493.18 72.576 L1493.18 27.2059 L1500.68 27.2059 L1500.68 34.2544 Q1503.23 30.082 1506.79 28.0971 Q1510.36 26.1121 1515.26 26.1121 Q1520.2 26.1121 1523.64 28.6237 Q1527.13 31.1352 1528.79 35.9153 Z\" fill=\"#000000\" fill-rule=\"evenodd\" fill-opacity=\"1\" /><path clip-path=\"url(#clip940)\" d=\"M1594.9 49.7694 Q1585.87 49.7694 1582.38 51.8354 Q1578.9 53.9013 1578.9 58.8839 Q1578.9 62.8538 1581.49 65.2034 Q1584.12 67.5124 1588.62 67.5124 Q1594.82 67.5124 1598.55 63.1374 Q1602.31 58.7219 1602.31 51.4303 L1602.31 49.7694 L1594.9 49.7694 M1609.77 46.6907 L1609.77 72.576 L1602.31 72.576 L1602.31 65.6895 Q1599.76 69.8214 1595.95 71.8063 Q1592.15 73.7508 1586.64 73.7508 Q1579.67 73.7508 1575.54 69.8619 Q1571.45 65.9325 1571.45 59.3701 Q1571.45 51.7138 1576.55 47.825 Q1581.69 43.9361 1591.86 43.9361 L1602.31 43.9361 L1602.31 43.2069 Q1602.31 38.0623 1598.91 35.2672 Q1595.55 32.4315 1589.43 32.4315 Q1585.54 32.4315 1581.86 33.3632 Q1578.17 34.295 1574.77 36.1584 L1574.77 29.2718 Q1578.86 27.692 1582.71 26.9223 Q1586.56 26.1121 1590.2 26.1121 Q1600.04 26.1121 1604.91 31.2163 Q1609.77 36.3204 1609.77 46.6907 Z\" fill=\"#000000\" fill-rule=\"evenodd\" fill-opacity=\"1\" /><path clip-path=\"url(#clip940)\" d=\"M1662.83 45.1919 L1662.83 72.576 L1655.38 72.576 L1655.38 45.4349 Q1655.38 38.994 1652.87 35.7938 Q1650.36 32.5936 1645.33 32.5936 Q1639.3 32.5936 1635.81 36.4419 Q1632.33 40.2903 1632.33 46.9338 L1632.33 72.576 L1624.84 72.576 L1624.84 27.2059 L1632.33 27.2059 L1632.33 34.2544 Q1635 30.163 1638.61 28.1376 Q1642.26 26.1121 1646.99 26.1121 Q1654.81 26.1121 1658.82 30.9732 Q1662.83 35.7938 1662.83 45.1919 Z\" fill=\"#000000\" fill-rule=\"evenodd\" fill-opacity=\"1\" /><path clip-path=\"url(#clip940)\" d=\"M1707.56 34.0924 L1707.56 9.54393 L1715.01 9.54393 L1715.01 72.576 L1707.56 72.576 L1707.56 65.7705 Q1705.21 69.8214 1701.6 71.8063 Q1698.04 73.7508 1693.01 73.7508 Q1684.79 73.7508 1679.6 67.1883 Q1674.46 60.6258 1674.46 49.9314 Q1674.46 39.2371 1679.6 32.6746 Q1684.79 26.1121 1693.01 26.1121 Q1698.04 26.1121 1701.6 28.0971 Q1705.21 30.0415 1707.56 34.0924 M1682.16 49.9314 Q1682.16 58.1548 1685.52 62.8538 Q1688.92 67.5124 1694.84 67.5124 Q1700.75 67.5124 1704.15 62.8538 Q1707.56 58.1548 1707.56 49.9314 Q1707.56 41.7081 1704.15 37.0496 Q1700.75 32.3505 1694.84 32.3505 Q1688.92 32.3505 1685.52 37.0496 Q1682.16 41.7081 1682.16 49.9314 Z\" fill=\"#000000\" fill-rule=\"evenodd\" fill-opacity=\"1\" /><circle clip-path=\"url(#clip942)\" cx=\"295.211\" cy=\"1316.83\" r=\"14\" fill=\"#009af9\" fill-rule=\"evenodd\" fill-opacity=\"1\" stroke=\"#000000\" stroke-opacity=\"1\" stroke-width=\"3.2\"/>\n",
       "<circle clip-path=\"url(#clip942)\" cx=\"649.928\" cy=\"964.691\" r=\"14\" fill=\"#009af9\" fill-rule=\"evenodd\" fill-opacity=\"1\" stroke=\"#000000\" stroke-opacity=\"1\" stroke-width=\"3.2\"/>\n",
       "<circle clip-path=\"url(#clip942)\" cx=\"831.954\" cy=\"332.091\" r=\"14\" fill=\"#009af9\" fill-rule=\"evenodd\" fill-opacity=\"1\" stroke=\"#000000\" stroke-opacity=\"1\" stroke-width=\"3.2\"/>\n",
       "<circle clip-path=\"url(#clip942)\" cx=\"542.58\" cy=\"1111.16\" r=\"14\" fill=\"#009af9\" fill-rule=\"evenodd\" fill-opacity=\"1\" stroke=\"#000000\" stroke-opacity=\"1\" stroke-width=\"3.2\"/>\n",
       "<circle clip-path=\"url(#clip942)\" cx=\"1191.34\" cy=\"992.737\" r=\"14\" fill=\"#009af9\" fill-rule=\"evenodd\" fill-opacity=\"1\" stroke=\"#000000\" stroke-opacity=\"1\" stroke-width=\"3.2\"/>\n",
       "<circle clip-path=\"url(#clip942)\" cx=\"953.304\" cy=\"886.785\" r=\"14\" fill=\"#009af9\" fill-rule=\"evenodd\" fill-opacity=\"1\" stroke=\"#000000\" stroke-opacity=\"1\" stroke-width=\"3.2\"/>\n",
       "<circle clip-path=\"url(#clip942)\" cx=\"430.564\" cy=\"1450.83\" r=\"14\" fill=\"#009af9\" fill-rule=\"evenodd\" fill-opacity=\"1\" stroke=\"#000000\" stroke-opacity=\"1\" stroke-width=\"3.2\"/>\n",
       "<circle clip-path=\"url(#clip942)\" cx=\"407.227\" cy=\"1347.99\" r=\"14\" fill=\"#009af9\" fill-rule=\"evenodd\" fill-opacity=\"1\" stroke=\"#000000\" stroke-opacity=\"1\" stroke-width=\"3.2\"/>\n",
       "<circle clip-path=\"url(#clip942)\" cx=\"1065.32\" cy=\"921.064\" r=\"14\" fill=\"#009af9\" fill-rule=\"evenodd\" fill-opacity=\"1\" stroke=\"#000000\" stroke-opacity=\"1\" stroke-width=\"3.2\"/>\n",
       "<circle clip-path=\"url(#clip942)\" cx=\"2236.82\" cy=\"266.65\" r=\"14\" fill=\"#009af9\" fill-rule=\"evenodd\" fill-opacity=\"1\" stroke=\"#000000\" stroke-opacity=\"1\" stroke-width=\"3.2\"/>\n",
       "<circle clip-path=\"url(#clip942)\" cx=\"962.639\" cy=\"877.436\" r=\"14\" fill=\"#009af9\" fill-rule=\"evenodd\" fill-opacity=\"1\" stroke=\"#000000\" stroke-opacity=\"1\" stroke-width=\"3.2\"/>\n",
       "<circle clip-path=\"url(#clip942)\" cx=\"1644.07\" cy=\"484.788\" r=\"14\" fill=\"#009af9\" fill-rule=\"evenodd\" fill-opacity=\"1\" stroke=\"#000000\" stroke-opacity=\"1\" stroke-width=\"3.2\"/>\n",
       "<polyline clip-path=\"url(#clip942)\" style=\"stroke:#e26f46; stroke-linecap:butt; stroke-linejoin:round; stroke-width:10; stroke-opacity:1; fill:none\" points=\"\n",
       "  719.938,1031.16 1247.35,739.765 2194.81,216.286 1027.98,860.964 1205.34,762.973 1364.03,675.297 519.243,1142.04 673.265,1056.95 1312.69,703.663 2292.83,162.133 \n",
       "  1378.03,667.561 1966.11,342.643 \n",
       "  \"/>\n",
       "<path clip-path=\"url(#clip940)\" d=\"\n",
       "M1722.22 324.526 L2282.17 324.526 L2282.17 169.006 L1722.22 169.006  Z\n",
       "  \" fill=\"#ffffff\" fill-rule=\"evenodd\" fill-opacity=\"1\"/>\n",
       "<polyline clip-path=\"url(#clip940)\" style=\"stroke:#000000; stroke-linecap:butt; stroke-linejoin:round; stroke-width:4; stroke-opacity:1; fill:none\" points=\"\n",
       "  1722.22,324.526 2282.17,324.526 2282.17,169.006 1722.22,169.006 1722.22,324.526 \n",
       "  \"/>\n",
       "<circle clip-path=\"url(#clip940)\" cx=\"1816.33\" cy=\"220.846\" r=\"23\" fill=\"#009af9\" fill-rule=\"evenodd\" fill-opacity=\"1\" stroke=\"#000000\" stroke-opacity=\"1\" stroke-width=\"5.12\"/>\n",
       "<path clip-path=\"url(#clip940)\" d=\"M1924.29 240.533 Q1922.48 245.163 1920.77 246.575 Q1919.06 247.987 1916.19 247.987 L1912.78 247.987 L1912.78 244.422 L1915.28 244.422 Q1917.04 244.422 1918.01 243.589 Q1918.99 242.756 1920.17 239.654 L1920.93 237.709 L1910.44 212.2 L1914.96 212.2 L1923.06 232.478 L1931.16 212.2 L1935.68 212.2 L1924.29 240.533 Z\" fill=\"#000000\" fill-rule=\"evenodd\" fill-opacity=\"1\" /><path clip-path=\"url(#clip940)\" d=\"M1942.97 234.191 L1950.61 234.191 L1950.61 207.825 L1942.3 209.492 L1942.3 205.233 L1950.56 203.566 L1955.24 203.566 L1955.24 234.191 L1962.87 234.191 L1962.87 238.126 L1942.97 238.126 L1942.97 234.191 Z\" fill=\"#000000\" fill-rule=\"evenodd\" fill-opacity=\"1\" /><polyline clip-path=\"url(#clip940)\" style=\"stroke:#e26f46; stroke-linecap:butt; stroke-linejoin:round; stroke-width:4; stroke-opacity:1; fill:none\" points=\"\n",
       "  1745.75,272.686 1886.92,272.686 \n",
       "  \"/>\n",
       "<path clip-path=\"url(#clip940)\" d=\"M1910.44 255.406 L1915.12 255.406 L1915.12 286.031 L1931.95 286.031 L1931.95 289.966 L1910.44 289.966 L1910.44 255.406 Z\" fill=\"#000000\" fill-rule=\"evenodd\" fill-opacity=\"1\" /><path clip-path=\"url(#clip940)\" d=\"M1936.67 264.04 L1940.93 264.04 L1940.93 289.966 L1936.67 289.966 L1936.67 264.04 M1936.67 253.948 L1940.93 253.948 L1940.93 259.341 L1936.67 259.341 L1936.67 253.948 Z\" fill=\"#000000\" fill-rule=\"evenodd\" fill-opacity=\"1\" /><path clip-path=\"url(#clip940)\" d=\"M1971.39 274.318 L1971.39 289.966 L1967.13 289.966 L1967.13 274.457 Q1967.13 270.776 1965.7 268.948 Q1964.26 267.119 1961.39 267.119 Q1957.94 267.119 1955.95 269.318 Q1953.96 271.517 1953.96 275.313 L1953.96 289.966 L1949.68 289.966 L1949.68 264.04 L1953.96 264.04 L1953.96 268.068 Q1955.49 265.73 1957.55 264.573 Q1959.63 263.415 1962.34 263.415 Q1966.81 263.415 1969.1 266.193 Q1971.39 268.948 1971.39 274.318 Z\" fill=\"#000000\" fill-rule=\"evenodd\" fill-opacity=\"1\" /><path clip-path=\"url(#clip940)\" d=\"M2002.06 275.938 L2002.06 278.022 L1982.48 278.022 Q1982.76 282.42 1985.12 284.735 Q1987.5 287.026 1991.74 287.026 Q1994.19 287.026 1996.49 286.424 Q1998.8 285.822 2001.07 284.619 L2001.07 288.647 Q1998.78 289.619 1996.37 290.128 Q1993.96 290.637 1991.49 290.637 Q1985.28 290.637 1981.65 287.026 Q1978.04 283.415 1978.04 277.258 Q1978.04 270.892 1981.46 267.165 Q1984.91 263.415 1990.74 263.415 Q1995.98 263.415 1999.01 266.795 Q2002.06 270.151 2002.06 275.938 M1997.8 274.688 Q1997.76 271.193 1995.84 269.11 Q1993.94 267.026 1990.79 267.026 Q1987.23 267.026 1985.07 269.04 Q1982.94 271.054 1982.62 274.711 L1997.8 274.688 Z\" fill=\"#000000\" fill-rule=\"evenodd\" fill-opacity=\"1\" /><path clip-path=\"url(#clip940)\" d=\"M2020.84 276.934 Q2015.68 276.934 2013.68 278.114 Q2011.69 279.295 2011.69 282.142 Q2011.69 284.41 2013.18 285.753 Q2014.68 287.072 2017.25 287.072 Q2020.79 287.072 2022.92 284.572 Q2025.07 282.049 2025.07 277.883 L2025.07 276.934 L2020.84 276.934 M2029.33 275.174 L2029.33 289.966 L2025.07 289.966 L2025.07 286.031 Q2023.62 288.392 2021.44 289.526 Q2019.26 290.637 2016.12 290.637 Q2012.13 290.637 2009.77 288.415 Q2007.43 286.17 2007.43 282.42 Q2007.43 278.045 2010.35 275.823 Q2013.29 273.6 2019.1 273.6 L2025.07 273.6 L2025.07 273.184 Q2025.07 270.244 2023.13 268.647 Q2021.21 267.026 2017.71 267.026 Q2015.49 267.026 2013.38 267.559 Q2011.28 268.091 2009.33 269.156 L2009.33 265.221 Q2011.67 264.318 2013.87 263.878 Q2016.07 263.415 2018.15 263.415 Q2023.78 263.415 2026.55 266.332 Q2029.33 269.249 2029.33 275.174 Z\" fill=\"#000000\" fill-rule=\"evenodd\" fill-opacity=\"1\" /><path clip-path=\"url(#clip940)\" d=\"M2053.13 268.022 Q2052.41 267.605 2051.55 267.42 Q2050.72 267.211 2049.7 267.211 Q2046.09 267.211 2044.15 269.573 Q2042.23 271.911 2042.23 276.309 L2042.23 289.966 L2037.94 289.966 L2037.94 264.04 L2042.23 264.04 L2042.23 268.068 Q2043.57 265.707 2045.72 264.573 Q2047.87 263.415 2050.95 263.415 Q2051.39 263.415 2051.93 263.485 Q2052.46 263.531 2053.11 263.647 L2053.13 268.022 Z\" fill=\"#000000\" fill-rule=\"evenodd\" fill-opacity=\"1\" /><path clip-path=\"url(#clip940)\" d=\"M2072.85 255.406 L2092.71 255.406 L2092.71 259.341 L2077.53 259.341 L2077.53 269.526 L2091.23 269.526 L2091.23 273.461 L2077.53 273.461 L2077.53 289.966 L2072.85 289.966 L2072.85 255.406 Z\" fill=\"#000000\" fill-rule=\"evenodd\" fill-opacity=\"1\" /><path clip-path=\"url(#clip940)\" d=\"M2096.48 264.04 L2100.74 264.04 L2100.74 289.966 L2096.48 289.966 L2096.48 264.04 M2096.48 253.948 L2100.74 253.948 L2100.74 259.341 L2096.48 259.341 L2096.48 253.948 Z\" fill=\"#000000\" fill-rule=\"evenodd\" fill-opacity=\"1\" /><path clip-path=\"url(#clip940)\" d=\"M2113.87 256.679 L2113.87 264.04 L2122.64 264.04 L2122.64 267.35 L2113.87 267.35 L2113.87 281.424 Q2113.87 284.596 2114.73 285.498 Q2115.61 286.401 2118.27 286.401 L2122.64 286.401 L2122.64 289.966 L2118.27 289.966 Q2113.34 289.966 2111.46 288.137 Q2109.59 286.285 2109.59 281.424 L2109.59 267.35 L2106.46 267.35 L2106.46 264.04 L2109.59 264.04 L2109.59 256.679 L2113.87 256.679 Z\" fill=\"#000000\" fill-rule=\"evenodd\" fill-opacity=\"1\" /><path clip-path=\"url(#clip940)\" d=\"M2143.5 255.406 L2148.17 255.406 L2148.17 286.031 L2165 286.031 L2165 289.966 L2143.5 289.966 L2143.5 255.406 Z\" fill=\"#000000\" fill-rule=\"evenodd\" fill-opacity=\"1\" /><path clip-path=\"url(#clip940)\" d=\"M2169.73 264.04 L2173.98 264.04 L2173.98 289.966 L2169.73 289.966 L2169.73 264.04 M2169.73 253.948 L2173.98 253.948 L2173.98 259.341 L2169.73 259.341 L2169.73 253.948 Z\" fill=\"#000000\" fill-rule=\"evenodd\" fill-opacity=\"1\" /><path clip-path=\"url(#clip940)\" d=\"M2204.45 274.318 L2204.45 289.966 L2200.19 289.966 L2200.19 274.457 Q2200.19 270.776 2198.75 268.948 Q2197.32 267.119 2194.45 267.119 Q2191 267.119 2189.01 269.318 Q2187.02 271.517 2187.02 275.313 L2187.02 289.966 L2182.73 289.966 L2182.73 264.04 L2187.02 264.04 L2187.02 268.068 Q2188.54 265.73 2190.6 264.573 Q2192.69 263.415 2195.4 263.415 Q2199.86 263.415 2202.16 266.193 Q2204.45 268.948 2204.45 274.318 Z\" fill=\"#000000\" fill-rule=\"evenodd\" fill-opacity=\"1\" /><path clip-path=\"url(#clip940)\" d=\"M2235.12 275.938 L2235.12 278.022 L2215.54 278.022 Q2215.81 282.42 2218.17 284.735 Q2220.56 287.026 2224.79 287.026 Q2227.25 287.026 2229.54 286.424 Q2231.85 285.822 2234.12 284.619 L2234.12 288.647 Q2231.83 289.619 2229.42 290.128 Q2227.02 290.637 2224.54 290.637 Q2218.34 290.637 2214.7 287.026 Q2211.09 283.415 2211.09 277.258 Q2211.09 270.892 2214.52 267.165 Q2217.97 263.415 2223.8 263.415 Q2229.03 263.415 2232.06 266.795 Q2235.12 270.151 2235.12 275.938 M2230.86 274.688 Q2230.81 271.193 2228.89 269.11 Q2226.99 267.026 2223.85 267.026 Q2220.28 267.026 2218.13 269.04 Q2216 271.054 2215.67 274.711 L2230.86 274.688 Z\" fill=\"#000000\" fill-rule=\"evenodd\" fill-opacity=\"1\" /></svg>\n"
      ]
     },
     "execution_count": 7,
     "metadata": {},
     "output_type": "execute_result"
    }
   ],
   "source": [
    "function linear_reg(alpha, demand)    # A function to return output of linear regression\n",
    "    output = α[1] .+ α[2]demand\n",
    "    return output\n",
    "end\n",
    "\n",
    "output = linear_reg(α, demand)\n",
    "    \n",
    "plot!(demand, output, legend = true, lw=2.5, label = \"Linear Fit Line\")"
   ]
  },
  {
   "cell_type": "code",
   "execution_count": 8,
   "metadata": {},
   "outputs": [
    {
     "name": "stdout",
     "output_type": "stream",
     "text": [
      "The number of passes for 13th month will be: 274.0"
     ]
    }
   ],
   "source": [
    "output = α[1] + α[2]*190\n",
    "print(\"The number of passes for 13th month will be: \", ceil(output))"
   ]
  },
  {
   "cell_type": "markdown",
   "metadata": {},
   "source": [
    "_Your Summary:_ Customer demand and preorder ticket number is given in the question. The correlation between the demand and the order is high ~ 0.8. \n",
    "\n",
    "I have used a simple Linear regression model to predict the future demand of 13th month. \n",
    "\n",
    "Assumption:\n",
    "\n",
    "For optimizing the model, I have minimized L2 loss, not negative of the profit function."
   ]
  },
  {
   "cell_type": "markdown",
   "metadata": {},
   "source": [
    "---\n",
    "__(3: 25 pts)__ Items A-F are available for shipment in an ISO container from Busan, South Korea, to Savannah, GA. The value ($/lb) and density (lb/ft3) for each item are listed in the following table. Determine the mix of items that should be shipped, given that the weight and cube capacity of the container is 29 tons (1 ton = 2000 lb) and 2,400 cubic feet, respectively, that each item should represent at least 10% and no more than 25% of the total weight of the shipment.\n",
    "\n",
    "```\n",
    " Item    Value  Density  \n",
    "────────────────────────\n",
    " A           6       12\n",
    " B           5       15\n",
    " C          10        8\n",
    " D           8       10\n",
    " E           7       32\n",
    " F           3       12\n",
    "````"
   ]
  },
  {
   "cell_type": "markdown",
   "metadata": {},
   "source": [
    "_Your Summary:_ A dataframe created based on the information available in the question. Variables and objective function formulated based on the decision variables. As density of each shipment is given, a new volumne constarint added in the model to limit the total volume of the shipments less than 2400 ft^3.\n",
    "\n",
    "I have assumend that the shipments's weight will not always equal the total weight capacity of the container, i.e total shipment weight can be less than the container weight. Based on this assumption weight constraints formulated.\n",
    "\n",
    "\n",
    "\n",
    "The final output is shown in the dataframe"
   ]
  },
  {
   "cell_type": "code",
   "execution_count": 1,
   "metadata": {},
   "outputs": [
    {
     "data": {
      "text/html": [
       "<div class=\"data-frame\"><p>6 rows × 3 columns</p><table class=\"data-frame\"><thead><tr><th></th><th>Item</th><th>Value</th><th>Density</th></tr><tr><th></th><th title=\"Char\">Char</th><th title=\"Int64\">Int64</th><th title=\"Int64\">Int64</th></tr></thead><tbody><tr><th>1</th><td>A</td><td>6</td><td>12</td></tr><tr><th>2</th><td>B</td><td>5</td><td>15</td></tr><tr><th>3</th><td>C</td><td>10</td><td>8</td></tr><tr><th>4</th><td>D</td><td>8</td><td>10</td></tr><tr><th>5</th><td>E</td><td>7</td><td>32</td></tr><tr><th>6</th><td>F</td><td>3</td><td>12</td></tr></tbody></table></div>"
      ],
      "text/latex": [
       "\\begin{tabular}{r|ccc}\n",
       "\t& Item & Value & Density\\\\\n",
       "\t\\hline\n",
       "\t& Char & Int64 & Int64\\\\\n",
       "\t\\hline\n",
       "\t1 & A & 6 & 12 \\\\\n",
       "\t2 & B & 5 & 15 \\\\\n",
       "\t3 & C & 10 & 8 \\\\\n",
       "\t4 & D & 8 & 10 \\\\\n",
       "\t5 & E & 7 & 32 \\\\\n",
       "\t6 & F & 3 & 12 \\\\\n",
       "\\end{tabular}\n"
      ],
      "text/plain": [
       "\u001b[1m6×3 DataFrame\u001b[0m\n",
       "\u001b[1m Row \u001b[0m│\u001b[1m Item \u001b[0m\u001b[1m Value \u001b[0m\u001b[1m Density \u001b[0m\n",
       "\u001b[1m     \u001b[0m│\u001b[90m Char \u001b[0m\u001b[90m Int64 \u001b[0m\u001b[90m Int64   \u001b[0m\n",
       "─────┼──────────────────────\n",
       "   1 │ A         6       12\n",
       "   2 │ B         5       15\n",
       "   3 │ C        10        8\n",
       "   4 │ D         8       10\n",
       "   5 │ E         7       32\n",
       "   6 │ F         3       12"
      ]
     },
     "execution_count": 1,
     "metadata": {},
     "output_type": "execute_result"
    }
   ],
   "source": [
    "using DataFrames, GLPK\n",
    "\n",
    "df = DataFrame(Item = ['A', 'B', 'C', 'D', 'E', 'F'], Value = [6, 5, 10, 8, 7, 3], \n",
    "                        Density = [12, 15, 8, 10, 32, 12])\n",
    "\n",
    "df"
   ]
  },
  {
   "cell_type": "code",
   "execution_count": 15,
   "metadata": {},
   "outputs": [
    {
     "name": "stdout",
     "output_type": "stream",
     "text": [
      "Max 6 x[1] + 5 x[2] + 10 x[3] + 8 x[4] + 7 x[5] + 3 x[6]\n",
      "Subject to\n",
      " -0.75 x[1] + 0.25 x[2] + 0.25 x[3] + 0.25 x[4] + 0.25 x[5] + 0.25 x[6] >= 0.0\n",
      " 0.25 x[1] - 0.75 x[2] + 0.25 x[3] + 0.25 x[4] + 0.25 x[5] + 0.25 x[6] >= 0.0\n",
      " 0.25 x[1] + 0.25 x[2] - 0.75 x[3] + 0.25 x[4] + 0.25 x[5] + 0.25 x[6] >= 0.0\n",
      " 0.25 x[1] + 0.25 x[2] + 0.25 x[3] - 0.75 x[4] + 0.25 x[5] + 0.25 x[6] >= 0.0\n",
      " 0.25 x[1] + 0.25 x[2] + 0.25 x[3] + 0.25 x[4] - 0.75 x[5] + 0.25 x[6] >= 0.0\n",
      " 0.25 x[1] + 0.25 x[2] + 0.25 x[3] + 0.25 x[4] + 0.25 x[5] - 0.75 x[6] >= 0.0\n",
      " x[1] + x[2] + x[3] + x[4] + x[5] + x[6] <= 58000.0\n",
      " 0.08333333333333333 x[1] + 0.06666666666666667 x[2] + 0.125 x[3] + 0.1 x[4] + 0.03125 x[5] + 0.08333333333333333 x[6] <= 2400.0\n",
      " -0.9 x[1] + 0.1 x[2] + 0.1 x[3] + 0.1 x[4] + 0.1 x[5] + 0.1 x[6] <= 0.0\n",
      " 0.1 x[1] - 0.9 x[2] + 0.1 x[3] + 0.1 x[4] + 0.1 x[5] + 0.1 x[6] <= 0.0\n",
      " 0.1 x[1] + 0.1 x[2] - 0.9 x[3] + 0.1 x[4] + 0.1 x[5] + 0.1 x[6] <= 0.0\n",
      " 0.1 x[1] + 0.1 x[2] + 0.1 x[3] - 0.9 x[4] + 0.1 x[5] + 0.1 x[6] <= 0.0\n",
      " 0.1 x[1] + 0.1 x[2] + 0.1 x[3] + 0.1 x[4] - 0.9 x[5] + 0.1 x[6] <= 0.0\n",
      " 0.1 x[1] + 0.1 x[2] + 0.1 x[3] + 0.1 x[4] + 0.1 x[5] - 0.9 x[6] <= 0.0\n",
      " x[1] >= 0.0\n",
      " x[2] >= 0.0\n",
      " x[3] >= 0.0\n",
      " x[4] >= 0.0\n",
      " x[5] >= 0.0\n",
      " x[6] >= 0.0\n",
      "\n"
     ]
    },
    {
     "data": {
      "text/plain": [
       "1-dimensional DenseAxisArray{Float64,1,...} with index sets:\n",
       "    Dimension 1, 1:6\n",
       "And data, a 6-element Vector{Float64}:\n",
       " 3186.7219917012435\n",
       " 6373.443983402489\n",
       " 3186.721991701242\n",
       " 7966.804979253108\n",
       " 7966.804979253108\n",
       " 3186.721991701243"
      ]
     },
     "execution_count": 15,
     "metadata": {},
     "output_type": "execute_result"
    }
   ],
   "source": [
    "p = df.Value \n",
    "density = df.Density\n",
    "\n",
    "N = 1:length(d)\n",
    "\n",
    "model = Model(GLPK.Optimizer)\n",
    "\n",
    "@variable(model, 0 <= x[i = N])                        #  decision variables\n",
    "@objective(model, Max, sum(p[i]*x[i] for i in N))      # objective function for maximize the profit\n",
    "@constraint(model, sum(x[i] for i in N) <= 58e3)       # weight constraint\n",
    "@constraint(model, sum(x[i]/density[i] for i in N) <= 2400)  # density constraint\n",
    "\n",
    "\n",
    "# Assumption: Total weight of the shipments can be less than the the container weight\n",
    "\n",
    "\n",
    "for i in 1:length(N)\n",
    "    @constraint(model, 0.1*sum(x[i] for i in N) <= x[i])\n",
    "end\n",
    "\n",
    "\n",
    "for i in 1:length(N)\n",
    "    @constraint(model, 0.25*sum(x[i] for i in N) >= x[i])\n",
    "end\n",
    "\n",
    "\n",
    "\n",
    "optimize!(model)\n",
    "println(model)\n",
    "\n",
    "TC° = objective_value(model)\n",
    "X° = value.(x)\n"
   ]
  },
  {
   "cell_type": "code",
   "execution_count": 16,
   "metadata": {},
   "outputs": [
    {
     "name": "stdout",
     "output_type": "stream",
     "text": [
      "Mix of itam that should be shipped is shown below in dataframe\n"
     ]
    },
    {
     "data": {
      "text/html": [
       "<div class=\"data-frame\"><p>6 rows × 4 columns</p><table class=\"data-frame\"><thead><tr><th></th><th>Item</th><th>Value</th><th>Density</th><th>Qty_in_lb</th></tr><tr><th></th><th title=\"Char\">Char</th><th title=\"Int64\">Int64</th><th title=\"Int64\">Int64</th><th title=\"Float64\">Float64</th></tr></thead><tbody><tr><th>1</th><td>A</td><td>6</td><td>12</td><td>3186.72</td></tr><tr><th>2</th><td>B</td><td>5</td><td>15</td><td>6373.44</td></tr><tr><th>3</th><td>C</td><td>10</td><td>8</td><td>3186.72</td></tr><tr><th>4</th><td>D</td><td>8</td><td>10</td><td>7966.8</td></tr><tr><th>5</th><td>E</td><td>7</td><td>32</td><td>7966.8</td></tr><tr><th>6</th><td>F</td><td>3</td><td>12</td><td>3186.72</td></tr></tbody></table></div>"
      ],
      "text/latex": [
       "\\begin{tabular}{r|cccc}\n",
       "\t& Item & Value & Density & Qty\\_in\\_lb\\\\\n",
       "\t\\hline\n",
       "\t& Char & Int64 & Int64 & Float64\\\\\n",
       "\t\\hline\n",
       "\t1 & A & 6 & 12 & 3186.72 \\\\\n",
       "\t2 & B & 5 & 15 & 6373.44 \\\\\n",
       "\t3 & C & 10 & 8 & 3186.72 \\\\\n",
       "\t4 & D & 8 & 10 & 7966.8 \\\\\n",
       "\t5 & E & 7 & 32 & 7966.8 \\\\\n",
       "\t6 & F & 3 & 12 & 3186.72 \\\\\n",
       "\\end{tabular}\n"
      ],
      "text/plain": [
       "\u001b[1m6×4 DataFrame\u001b[0m\n",
       "\u001b[1m Row \u001b[0m│\u001b[1m Item \u001b[0m\u001b[1m Value \u001b[0m\u001b[1m Density \u001b[0m\u001b[1m Qty_in_lb \u001b[0m\n",
       "\u001b[1m     \u001b[0m│\u001b[90m Char \u001b[0m\u001b[90m Int64 \u001b[0m\u001b[90m Int64   \u001b[0m\u001b[90m Float64   \u001b[0m\n",
       "─────┼─────────────────────────────────\n",
       "   1 │ A         6       12    3186.72\n",
       "   2 │ B         5       15    6373.44\n",
       "   3 │ C        10        8    3186.72\n",
       "   4 │ D         8       10    7966.8\n",
       "   5 │ E         7       32    7966.8\n",
       "   6 │ F         3       12    3186.72"
      ]
     },
     "execution_count": 16,
     "metadata": {},
     "output_type": "execute_result"
    }
   ],
   "source": [
    "df = DataFrame(Item = ['A', 'B', 'C', 'D', 'E', 'F'], Value = [6, 5, 10, 8, 7, 3], \n",
    "                        Density = [12, 15, 8, 10, 32, 12], Qty_in_lb = [X°[1], X°[2], X°[3], X°[4], X°[5], X°[6]])\n",
    "\n",
    "println(\"Mix of itam that should be shipped is shown below in dataframe\")\n",
    "\n",
    "df"
   ]
  },
  {
   "attachments": {
    "284876b4-c29d-4158-8812-cc1febcdbc1e.png": {
     "image/png": "[encoded data removed]"
    }
   },
   "cell_type": "markdown",
   "metadata": {},
   "source": [
    "---\n",
    "__(4: 25 pts)__ Next week, three facilities located in Greensboro, Raleigh, and Statesville will be able to supply 60, 100, and 80 tons, respectively, of bulk material to construction sites. Sites in Asheville, Durham, Raleigh, Wilmington, and Winston-Salem will require 40, 55, 35, 70, and 25 tons of material next week, respectively. Assuming that the cost to transport one ton one mile is \\\\$0.10, determine the minimum total cost to supply all of these sites next week. In the figure below, the mile marker of each city along I-40 is shown (e.g., Statesville is at mile marker 150 and Asheville is at 50, so the distance between the cities along I-40 is 100 miles). \n",
    "\n",
    "![image.png](attachment:284876b4-c29d-4158-8812-cc1febcdbc1e.png)\n"
   ]
  },
  {
   "cell_type": "markdown",
   "metadata": {},
   "source": [
    "_Your Summary:_  First distance matrix calculated based on the the I-40 highway map. As the rate is given $0.10 per ton for one mile, the cost matrix can be calcualted by multiplying the distance matrix with the rate (final cost_matrix). Based on the information available in the question, variable, objective function and the constraints formulated which returns an allocation between supply and demand locations. Finally multiplying alocation matrix with cost matrix, we can get the minimum cost of transportation. "
   ]
  },
  {
   "cell_type": "code",
   "execution_count": 17,
   "metadata": {},
   "outputs": [
    {
     "name": "stdout",
     "output_type": "stream",
     "text": [
      "cost_matrix = [17.0 5.0 7.5 20.0 3.0; 24.5 2.5 0.0 12.5 10.5; 10.0 12.0 14.5 27.0 4.0]\n"
     ]
    },
    {
     "data": {
      "text/plain": [
       "3×5 Matrix{Float64}:\n",
       " 17.0   5.0   7.5  20.0   3.0\n",
       " 24.5   2.5   0.0  12.5  10.5\n",
       " 10.0  12.0  14.5  27.0   4.0"
      ]
     },
     "execution_count": 17,
     "metadata": {},
     "output_type": "execute_result"
    }
   ],
   "source": [
    "supply = [60, 100, 80]     # supply matrix\n",
    "demand = [40,55,35,70,25]  # demand matrix\n",
    "distance_matrix = [170 50 75 200 30; 245 25 0 125 105; 100 120 145 270 40]\n",
    "cost_to_transport_matrix = [0.1 0.1 0.1 0.1 0.1; 0.1 0.1 0.1 0.1 0.1; 0.1 0.1 0.1 0.1 0.1]\n",
    "\n",
    "cost_matrix = distance_matrix .* cost_to_transport_matrix   #($/mile) cost of transportation\n",
    "@show cost_matrix"
   ]
  },
  {
   "cell_type": "code",
   "execution_count": 13,
   "metadata": {},
   "outputs": [
    {
     "data": {
      "text/latex": [
       "$$ \\begin{aligned}\n",
       "\\min\\quad & 17 X_{1,1} + 5 X_{1,2} + 7.5 X_{1,3} + 20 X_{1,4} + 3 X_{1,5} + 24.5 X_{2,1} + 2.5 X_{2,2} + 12.5 X_{2,4} + 10.5 X_{2,5} + 10 X_{3,1} + 12 X_{3,2} + 14.5 X_{3,3} + 27 X_{3,4} + 4 X_{3,5}\\\\\n",
       "\\text{Subject to} \\quad & X_{1,1} + X_{2,1} + X_{3,1} = 40.0\\\\\n",
       " & X_{1,2} + X_{2,2} + X_{3,2} = 55.0\\\\\n",
       " & X_{1,3} + X_{2,3} + X_{3,3} = 35.0\\\\\n",
       " & X_{1,4} + X_{2,4} + X_{3,4} = 70.0\\\\\n",
       " & X_{1,5} + X_{2,5} + X_{3,5} = 25.0\\\\\n",
       " & X_{1,1} + X_{1,2} + X_{1,3} + X_{1,4} + X_{1,5} \\leq 60.0\\\\\n",
       " & X_{2,1} + X_{2,2} + X_{2,3} + X_{2,4} + X_{2,5} \\leq 100.0\\\\\n",
       " & X_{3,1} + X_{3,2} + X_{3,3} + X_{3,4} + X_{3,5} \\leq 80.0\\\\\n",
       " & X_{1,1} \\geq 0.0\\\\\n",
       " & X_{2,1} \\geq 0.0\\\\\n",
       " & X_{3,1} \\geq 0.0\\\\\n",
       " & X_{1,2} \\geq 0.0\\\\\n",
       " & X_{2,2} \\geq 0.0\\\\\n",
       " & X_{3,2} \\geq 0.0\\\\\n",
       " & X_{1,3} \\geq 0.0\\\\\n",
       " & X_{2,3} \\geq 0.0\\\\\n",
       " & X_{3,3} \\geq 0.0\\\\\n",
       " & X_{1,4} \\geq 0.0\\\\\n",
       " & X_{2,4} \\geq 0.0\\\\\n",
       " & X_{3,4} \\geq 0.0\\\\\n",
       " & X_{1,5} \\geq 0.0\\\\\n",
       " & X_{2,5} \\geq 0.0\\\\\n",
       " & X_{3,5} \\geq 0.0\\\\\n",
       "\\end{aligned} $$"
      ]
     },
     "metadata": {},
     "output_type": "display_data"
    },
    {
     "data": {
      "text/plain": [
       "3×5 Matrix{Float64}:\n",
       "  0.0  55.0   0.0   5.0   0.0\n",
       "  0.0   0.0  35.0  65.0   0.0\n",
       " 40.0   0.0   0.0   0.0  25.0"
      ]
     },
     "execution_count": 13,
     "metadata": {},
     "output_type": "execute_result"
    }
   ],
   "source": [
    "using JuMP, GLPK\n",
    "function minimize_cost(C, supply, demand)\n",
    "    D = 1:length(demand)\n",
    "    S = 1:length(supply)\n",
    "    model = Model(GLPK.Optimizer)\n",
    "    \n",
    "    @variable(model, 0 <= X[1:length(S), 1:length(D)])\n",
    "    @objective(model, Min, sum(C[i,j]*X[i,j] for i in S, j in D))\n",
    "    \n",
    "    for i in S\n",
    "        @constraint(model, sum(X[i,j] for j in D) <= supply[i])\n",
    "    end\n",
    "    \n",
    "    for j in D\n",
    "        @constraint(model, sum(X[i,j] for i in S) == demand[j])\n",
    "    end\n",
    "    print(model)\n",
    "    optimize!(model)\n",
    "    return value.(X)\n",
    "end\n",
    "\n",
    "\n",
    "X° = minimize_cost(cost_matrix, supply, demand)\n"
   ]
  },
  {
   "cell_type": "code",
   "execution_count": 14,
   "metadata": {},
   "outputs": [
    {
     "name": "stdout",
     "output_type": "stream",
     "text": [
      "The minimum cost for the transportation is: $1687.5"
     ]
    }
   ],
   "source": [
    "TC° = sum(X°.*cost_matrix)\n",
    "\n",
    "print(\"The minimum cost for the transportation is: \\$\", TC°)"
   ]
  }
 ],
 "metadata": {
  "kernelspec": {
   "display_name": "Julia 1.6.2",
   "language": "julia",
   "name": "julia-1.6"
  },
  "language_info": {
   "file_extension": ".jl",
   "mimetype": "application/julia",
   "name": "julia",
   "version": "1.6.2"
  }
 },
 "nbformat": 4,
 "nbformat_minor": 4
}
